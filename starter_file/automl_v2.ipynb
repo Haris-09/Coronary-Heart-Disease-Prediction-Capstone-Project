{
  "cells": [
    {
      "cell_type": "markdown",
      "source": [
        "# Automated ML\n",
        "\n",
        "TODO: Import Dependencies. In the cell below, import all the dependencies that you will need to complete the project."
      ],
      "metadata": {}
    },
    {
      "cell_type": "code",
      "source": [
        "from azureml.core.experiment import Experiment\n",
        "from azureml.core.workspace import Workspace\n",
        "from azureml.core.compute import ComputeTarget, AmlCompute\n",
        "from azureml.core.compute_target import ComputeTargetException\n",
        "from azureml.widgets import RunDetails\n",
        "from azureml.data.dataset_factory import TabularDatasetFactory\n",
        "from azureml.train.automl import AutoMLConfig\n",
        "from azureml.core.dataset import Dataset\n",
        "from azureml.core.webservice import AciWebservice, Webservice\n",
        "from azureml.core.model import InferenceConfig, Model\n",
        "import os\n",
        "import joblib\n",
        "import logging\n",
        "import json\n",
        "import requests"
      ],
      "outputs": [],
      "execution_count": 1,
      "metadata": {
        "gather": {
          "logged": 1618269878921
        },
        "jupyter": {
          "outputs_hidden": false,
          "source_hidden": false
        },
        "nteract": {
          "transient": {
            "deleting": false
          }
        }
      }
    },
    {
      "cell_type": "markdown",
      "source": [
        "## Dataset\n",
        "\n",
        "### Overview\n",
        "\n",
        "In this project i uses the Framingham Heart Study Dataset available on Kaggle. The Dataset consists of 16 Columns and 4240 Rows."
      ],
      "metadata": {}
    },
    {
      "cell_type": "code",
      "source": [
        "ws = Workspace.from_config()\n",
        "print('Workspace Name: ' + ws.name,\n",
        "      'Resource group: ' + ws.resource_group,\n",
        "      'Azure Region: ' + ws.location,\n",
        "      'Subscription Id: ' + ws.subscription_id, sep = '\\n')"
      ],
      "outputs": [
        {
          "output_type": "stream",
          "name": "stdout",
          "text": [
            "Performing interactive authentication. Please follow the instructions on the terminal.\n",
            "To sign in, use a web browser to open the page https://microsoft.com/devicelogin and enter the code FLVBA3ZP8 to authenticate.\n",
            "You have logged in. Now let us find all the subscriptions to which you have access...\n",
            "Interactive authentication successfully completed.\n",
            "Workspace Name: quick-starts-ws-142522\n",
            "Resource group: aml-quickstarts-142522\n",
            "Azure Region: southcentralus\n",
            "Subscription Id: 48a74bb7-9950-4cc1-9caa-5d50f995cc55\n"
          ]
        }
      ],
      "execution_count": 2,
      "metadata": {
        "gather": {
          "logged": 1618269904097
        },
        "jupyter": {
          "outputs_hidden": false,
          "source_hidden": false
        },
        "nteract": {
          "transient": {
            "deleting": false
          }
        }
      }
    },
    {
      "cell_type": "code",
      "source": [
        "# choose a name for experiment\n",
        "experiment_name = 'Framingham-Experiment'\n",
        "\n",
        "experiment=Experiment(ws, experiment_name)\n",
        "run = experiment.start_logging()"
      ],
      "outputs": [],
      "execution_count": 3,
      "metadata": {
        "gather": {
          "logged": 1618269916303
        },
        "jupyter": {
          "outputs_hidden": false,
          "source_hidden": false
        },
        "nteract": {
          "transient": {
            "deleting": false
          }
        }
      }
    },
    {
      "cell_type": "code",
      "source": [
        "# Choose a name for your CPU cluster\n",
        "amlcompute_cluster_name = \"Compute-Cluster\"\n",
        "\n",
        "# Verify that cluster does not exist already\n",
        "try:\n",
        "    compute_target = ComputeTarget(workspace=ws, name=amlcompute_cluster_name)\n",
        "    print('Found existing cluster, use it.')\n",
        "except ComputeTargetException:\n",
        "    compute_config = AmlCompute.provisioning_configuration(vm_size='STANDARD_D2_V2', max_nodes=4)\n",
        "    compute_target = ComputeTarget.create(ws, amlcompute_cluster_name, compute_config)\n",
        "\n",
        "compute_target.wait_for_completion(show_output=True, min_node_count = 1, timeout_in_minutes = 10)"
      ],
      "outputs": [
        {
          "output_type": "stream",
          "name": "stdout",
          "text": [
            "Creating....\n",
            "SucceededProvisioning operation finished, operation \"Succeeded\"\n",
            "Succeeded.....................................................................................................................\n",
            "AmlCompute wait for completion finished\n",
            "\n",
            "Wait timeout has been reached\n",
            "Current provisioning state of AmlCompute is \"Succeeded\" and current node count is \"0\"\n"
          ]
        }
      ],
      "execution_count": 4,
      "metadata": {
        "gather": {
          "logged": 1618270545262
        }
      }
    },
    {
      "cell_type": "code",
      "source": [
        "# Try to load the dataset from the Workspace. Otherwise, create it from the file\n",
        "found = False\n",
        "key = \"Framingham\"\n",
        "description_text = \"Framingham Heart Disease Dataset\"\n",
        "\n",
        "if key in ws.datasets.keys(): \n",
        "        found = True\n",
        "        dataset = ws.datasets[key] \n",
        "\n",
        "if not found:\n",
        "        # Create AML Dataset and register it into Workspace\n",
        "        example_data = 'https://raw.githubusercontent.com/Haris-09/Coronary-Heart-Disease-Prediction-Capstone-Project/master/starter_file/framingham.csv'\n",
        "        dataset = Dataset.Tabular.from_delimited_files(example_data)        \n",
        "        #Register Dataset in Workspace\n",
        "        dataset = dataset.register(workspace=ws,\n",
        "                                   name=key,\n",
        "                                   description=description_text)"
      ],
      "outputs": [],
      "execution_count": 5,
      "metadata": {
        "gather": {
          "logged": 1618270549626
        }
      }
    },
    {
      "cell_type": "code",
      "source": [
        "df = dataset.to_pandas_dataframe()\n",
        "df.describe()"
      ],
      "outputs": [
        {
          "output_type": "execute_result",
          "execution_count": 6,
          "data": {
            "text/plain": "              male          age  currentSmoker  prevalentStroke  prevalentHyp  \\\ncount  4240.000000  4240.000000    4240.000000      4240.000000   4240.000000   \nmean      0.429245    49.580189       0.494104         0.005896      0.310613   \nstd       0.495027     8.572942       0.500024         0.076569      0.462799   \nmin       0.000000    32.000000       0.000000         0.000000      0.000000   \n25%       0.000000    42.000000       0.000000         0.000000      0.000000   \n50%       0.000000    49.000000       0.000000         0.000000      0.000000   \n75%       1.000000    56.000000       1.000000         0.000000      1.000000   \nmax       1.000000    70.000000       1.000000         1.000000      1.000000   \n\n          diabetes        sysBP        diaBP    heartRate   TenYearCHD  \ncount  4240.000000  4240.000000  4240.000000  4239.000000  4240.000000  \nmean      0.025708   132.354599    82.897759    75.878981     0.151887  \nstd       0.158280    22.033300    11.910394    12.025348     0.358953  \nmin       0.000000    83.500000    48.000000    44.000000     0.000000  \n25%       0.000000   117.000000    75.000000    68.000000     0.000000  \n50%       0.000000   128.000000    82.000000    75.000000     0.000000  \n75%       0.000000   144.000000    90.000000    83.000000     0.000000  \nmax       1.000000   295.000000   142.500000   143.000000     1.000000  ",
            "text/html": "<div>\n<style scoped>\n    .dataframe tbody tr th:only-of-type {\n        vertical-align: middle;\n    }\n\n    .dataframe tbody tr th {\n        vertical-align: top;\n    }\n\n    .dataframe thead th {\n        text-align: right;\n    }\n</style>\n<table border=\"1\" class=\"dataframe\">\n  <thead>\n    <tr style=\"text-align: right;\">\n      <th></th>\n      <th>male</th>\n      <th>age</th>\n      <th>currentSmoker</th>\n      <th>prevalentStroke</th>\n      <th>prevalentHyp</th>\n      <th>diabetes</th>\n      <th>sysBP</th>\n      <th>diaBP</th>\n      <th>heartRate</th>\n      <th>TenYearCHD</th>\n    </tr>\n  </thead>\n  <tbody>\n    <tr>\n      <th>count</th>\n      <td>4240.000000</td>\n      <td>4240.000000</td>\n      <td>4240.000000</td>\n      <td>4240.000000</td>\n      <td>4240.000000</td>\n      <td>4240.000000</td>\n      <td>4240.000000</td>\n      <td>4240.000000</td>\n      <td>4239.000000</td>\n      <td>4240.000000</td>\n    </tr>\n    <tr>\n      <th>mean</th>\n      <td>0.429245</td>\n      <td>49.580189</td>\n      <td>0.494104</td>\n      <td>0.005896</td>\n      <td>0.310613</td>\n      <td>0.025708</td>\n      <td>132.354599</td>\n      <td>82.897759</td>\n      <td>75.878981</td>\n      <td>0.151887</td>\n    </tr>\n    <tr>\n      <th>std</th>\n      <td>0.495027</td>\n      <td>8.572942</td>\n      <td>0.500024</td>\n      <td>0.076569</td>\n      <td>0.462799</td>\n      <td>0.158280</td>\n      <td>22.033300</td>\n      <td>11.910394</td>\n      <td>12.025348</td>\n      <td>0.358953</td>\n    </tr>\n    <tr>\n      <th>min</th>\n      <td>0.000000</td>\n      <td>32.000000</td>\n      <td>0.000000</td>\n      <td>0.000000</td>\n      <td>0.000000</td>\n      <td>0.000000</td>\n      <td>83.500000</td>\n      <td>48.000000</td>\n      <td>44.000000</td>\n      <td>0.000000</td>\n    </tr>\n    <tr>\n      <th>25%</th>\n      <td>0.000000</td>\n      <td>42.000000</td>\n      <td>0.000000</td>\n      <td>0.000000</td>\n      <td>0.000000</td>\n      <td>0.000000</td>\n      <td>117.000000</td>\n      <td>75.000000</td>\n      <td>68.000000</td>\n      <td>0.000000</td>\n    </tr>\n    <tr>\n      <th>50%</th>\n      <td>0.000000</td>\n      <td>49.000000</td>\n      <td>0.000000</td>\n      <td>0.000000</td>\n      <td>0.000000</td>\n      <td>0.000000</td>\n      <td>128.000000</td>\n      <td>82.000000</td>\n      <td>75.000000</td>\n      <td>0.000000</td>\n    </tr>\n    <tr>\n      <th>75%</th>\n      <td>1.000000</td>\n      <td>56.000000</td>\n      <td>1.000000</td>\n      <td>0.000000</td>\n      <td>1.000000</td>\n      <td>0.000000</td>\n      <td>144.000000</td>\n      <td>90.000000</td>\n      <td>83.000000</td>\n      <td>0.000000</td>\n    </tr>\n    <tr>\n      <th>max</th>\n      <td>1.000000</td>\n      <td>70.000000</td>\n      <td>1.000000</td>\n      <td>1.000000</td>\n      <td>1.000000</td>\n      <td>1.000000</td>\n      <td>295.000000</td>\n      <td>142.500000</td>\n      <td>143.000000</td>\n      <td>1.000000</td>\n    </tr>\n  </tbody>\n</table>\n</div>"
          },
          "metadata": {}
        }
      ],
      "execution_count": 6,
      "metadata": {
        "gather": {
          "logged": 1618270560357
        }
      }
    },
    {
      "cell_type": "markdown",
      "source": [
        "## AutoML Configuration\n",
        "\n",
        "This is binary Classification problem with a label column TenYearCHD. primary metric is Accuracy and experiment timeout is 30 minutes."
      ],
      "metadata": {}
    },
    {
      "cell_type": "code",
      "source": [
        "# TODO: Put your automl settings here\n",
        "automl_settings = {\"experiment_timeout_minutes\": 30,\n",
        "                   \"max_concurrent_iterations\": 4,\n",
        "                   \"primary_metric\" : 'accuracy',\n",
        "                   \"verbosity\": logging.INFO}\n",
        "\n",
        "# TODO: Put your automl config here\n",
        "automl_config = AutoMLConfig(compute_target=compute_target,\n",
        "                             task = \"classification\",\n",
        "                             training_data=dataset,\n",
        "                             label_column_name=\"TenYearCHD\",   \n",
        "                             path = './',\n",
        "                             enable_early_stopping= True,\n",
        "                             featurization= 'auto',\n",
        "                             debug_log = \"automl_errors.log\",\n",
        "                             **automl_settings)"
      ],
      "outputs": [],
      "execution_count": 7,
      "metadata": {
        "gather": {
          "logged": 1618270560629
        },
        "jupyter": {
          "outputs_hidden": false,
          "source_hidden": false
        },
        "nteract": {
          "transient": {
            "deleting": false
          }
        }
      }
    },
    {
      "cell_type": "code",
      "source": [
        "# TODO: Submit your experiment\n",
        "remote_run = experiment.submit(automl_config, show_output=True)"
      ],
      "outputs": [
        {
          "output_type": "stream",
          "name": "stdout",
          "text": [
            "Submitting remote run.\n",
            "No run_configuration provided, running on Compute-Cluster with default configuration\n",
            "Running on remote compute: Compute-Cluster\n"
          ]
        },
        {
          "output_type": "display_data",
          "data": {
            "text/plain": "<IPython.core.display.HTML object>",
            "text/html": "<table style=\"width:100%\"><tr><th>Experiment</th><th>Id</th><th>Type</th><th>Status</th><th>Details Page</th><th>Docs Page</th></tr><tr><td>Framingham-Experiment</td><td>AutoML_5238a037-67da-4b30-9b8d-2fe223a39bf6</td><td>automl</td><td>NotStarted</td><td><a href=\"https://ml.azure.com/runs/AutoML_5238a037-67da-4b30-9b8d-2fe223a39bf6?wsid=/subscriptions/48a74bb7-9950-4cc1-9caa-5d50f995cc55/resourcegroups/aml-quickstarts-142522/workspaces/quick-starts-ws-142522&amp;tid=660b3398-b80e-49d2-bc5b-ac1dc93b5254\" target=\"_blank\" rel=\"noopener\">Link to Azure Machine Learning studio</a></td><td><a href=\"https://docs.microsoft.com/en-us/python/api/overview/azure/ml/intro?view=azure-ml-py\" target=\"_blank\" rel=\"noopener\">Link to Documentation</a></td></tr></table>"
          },
          "metadata": {}
        },
        {
          "output_type": "stream",
          "name": "stdout",
          "text": [
            "\n",
            "Current status: FeaturesGeneration. Generating features for the dataset.\n",
            "Current status: DatasetFeaturization. Beginning to fit featurizers and featurize the dataset.\n",
            "Current status: DatasetCrossValidationSplit. Generating individually featurized CV splits.\n",
            "Current status: ModelSelection. Beginning model selection.\n",
            "\n",
            "****************************************************************************************************\n",
            "DATA GUARDRAILS: \n",
            "\n",
            "TYPE:         Cross validation\n",
            "STATUS:       DONE\n",
            "DESCRIPTION:  Each iteration of the trained model was validated through cross-validation.\n",
            "              \n",
            "DETAILS:      \n",
            "+---------------------------------+\n",
            "|Number of folds                  |\n",
            "+=================================+\n",
            "|3                                |\n",
            "+---------------------------------+\n",
            "\n",
            "****************************************************************************************************\n",
            "\n",
            "TYPE:         Class balancing detection\n",
            "STATUS:       ALERTED\n",
            "DESCRIPTION:  To decrease model bias, please cancel the current run and fix balancing problem.\n",
            "              Learn more about imbalanced data: https://aka.ms/AutomatedMLImbalancedData\n",
            "DETAILS:      Imbalanced data can lead to a falsely perceived positive effect of a model's accuracy because the input data has bias towards one class.\n",
            "+---------------------------------+---------------------------------+--------------------------------------+\n",
            "|Size of the smallest class       |Name/Label of the smallest class |Number of samples in the training data|\n",
            "+=================================+=================================+======================================+\n",
            "|644                              |1                                |4240                                  |\n",
            "+---------------------------------+---------------------------------+--------------------------------------+\n",
            "\n",
            "****************************************************************************************************\n",
            "\n",
            "TYPE:         Missing feature values imputation\n",
            "STATUS:       DONE\n",
            "DESCRIPTION:  If the missing values are expected, let the run complete. Otherwise cancel the current run and use a script to customize the handling of missing feature values that may be more appropriate based on the data type and business requirement.\n",
            "              Learn more about missing value imputation: https://aka.ms/AutomatedMLFeaturization\n",
            "DETAILS:      \n",
            "+---------------------------------+---------------------------------+---------------------------------+\n",
            "|Column name                      |Missing value count              |Imputation type                  |\n",
            "+=================================+=================================+=================================+\n",
            "|heartRate                        |1                                |mean                             |\n",
            "+---------------------------------+---------------------------------+---------------------------------+\n",
            "\n",
            "****************************************************************************************************\n",
            "\n",
            "TYPE:         High cardinality feature detection\n",
            "STATUS:       DONE\n",
            "DESCRIPTION:  High cardinality features were detected in your inputs and handled.\n",
            "              Learn more about high cardinality feature handling: https://aka.ms/AutomatedMLFeaturization\n",
            "DETAILS:      High cardinality features refer to columns that contain a large percentage of unique values.\n",
            "+---------------------------------+---------------------------------+\n",
            "|Column name                      |Column Content Type              |\n",
            "+=================================+=================================+\n",
            "|totChol                          |categorical_hash                 |\n",
            "|BMI                              |categorical_hash                 |\n",
            "+---------------------------------+---------------------------------+\n",
            "\n",
            "****************************************************************************************************\n",
            "\n",
            "****************************************************************************************************\n",
            "ITERATION: The iteration being evaluated.\n",
            "PIPELINE: A summary description of the pipeline being evaluated.\n",
            "DURATION: Time taken for the current iteration.\n",
            "METRIC: The result of computing score on the fitted pipeline.\n",
            "BEST: The best observed score thus far.\n",
            "****************************************************************************************************\n",
            "\n",
            " ITERATION   PIPELINE                                       DURATION      METRIC      BEST\n",
            "         0   MaxAbsScaler LightGBM                          0:00:43       0.8321    0.8321\n",
            "         1   MaxAbsScaler XGBoostClassifier                 0:00:50       0.8472    0.8472\n",
            "         2   MaxAbsScaler RandomForest                      0:00:41       0.8481    0.8481\n",
            "         6   StandardScalerWrapper XGBoostClassifier        0:00:49       0.8476    0.8481\n",
            "         3   MaxAbsScaler RandomForest                      0:01:53       0.8481    0.8481\n",
            "         7   MaxAbsScaler LogisticRegression                0:00:43       0.6993    0.8481\n",
            "         8   MaxAbsScaler LogisticRegression                0:00:43       0.8066    0.8481\n",
            "         4   MaxAbsScaler RandomForest                      0:03:18       0.4731    0.8481\n",
            "         5   MaxAbsScaler RandomForest                      0:03:15       0.6384    0.8481\n",
            "         9   SparseNormalizer XGBoostClassifier             0:00:49       0.8427    0.8481\n",
            "        10   SparseNormalizer GradientBoosting              0:00:49       0.8481    0.8481\n",
            "        11   MaxAbsScaler RandomForest                      0:00:49       0.8481    0.8481\n",
            "        12   SparseNormalizer XGBoostClassifier             0:00:51       0.8392    0.8481\n",
            "        14   StandardScalerWrapper LightGBM                 0:00:40       0.8455    0.8481\n",
            "        13   SparseNormalizer XGBoostClassifier             0:00:53       0.8432    0.8481\n",
            "        15   MaxAbsScaler LightGBM                          0:00:47       0.8441    0.8481\n",
            "        16   StandardScalerWrapper RandomForest             0:00:44       0.8481    0.8481\n",
            "        17   MaxAbsScaler ExtremeRandomTrees                0:00:39       0.8481    0.8481\n",
            "        18   MaxAbsScaler ExtremeRandomTrees                0:00:41       0.8481    0.8481\n",
            "        19   StandardScalerWrapper LightGBM                 0:00:44       0.8481    0.8481\n",
            "        20   SparseNormalizer XGBoostClassifier             0:00:45       0.8415    0.8481\n",
            "        21   SparseNormalizer LightGBM                      0:00:40       0.8427    0.8481\n",
            "        22   StandardScalerWrapper LightGBM                 0:00:40       0.8481    0.8481\n",
            "        23   StandardScalerWrapper LightGBM                 0:00:49       0.8472    0.8481\n",
            "        24   StandardScalerWrapper ExtremeRandomTrees       0:00:56       0.8481    0.8481\n",
            "        25   TruncatedSVDWrapper RandomForest               0:00:47       0.8481    0.8481\n",
            "        26   MaxAbsScaler RandomForest                      0:00:43       0.8481    0.8481\n",
            "        27   SparseNormalizer RandomForest                  0:00:46       0.8481    0.8481\n",
            "        28   SparseNormalizer XGBoostClassifier             0:00:43       0.8458    0.8481\n",
            "        29   SparseNormalizer ExtremeRandomTrees            0:00:40       0.8481    0.8481\n",
            "        30   MaxAbsScaler RandomForest                      0:00:50       0.8481    0.8481\n",
            "        31   MaxAbsScaler LightGBM                          0:00:44       0.8481    0.8481\n",
            "        32   StandardScalerWrapper XGBoostClassifier        0:00:54       0.8250    0.8481\n",
            "        33   StandardScalerWrapper XGBoostClassifier        0:00:43       0.8222    0.8481\n",
            "        34   MaxAbsScaler LightGBM                          0:00:34       0.8455    0.8481\n",
            "        35                                                  0:00:08          nan    0.8481\n",
            "        36    VotingEnsemble                                0:01:03       0.8481    0.8481\n",
            "        37    StackEnsemble                                 0:01:16       0.8361    0.8481\n"
          ]
        }
      ],
      "execution_count": 8,
      "metadata": {
        "gather": {
          "logged": 1618271917918
        },
        "jupyter": {
          "outputs_hidden": false,
          "source_hidden": false
        },
        "nteract": {
          "transient": {
            "deleting": false
          }
        }
      }
    },
    {
      "cell_type": "markdown",
      "source": [
        "## Run Details\n",
        "\n",
        "OPTIONAL: Write about the different models trained and their performance. Why do you think some models did better than others?\n",
        "\n",
        "TODO: In the cell below, use the `RunDetails` widget to show the different experiments."
      ],
      "metadata": {}
    },
    {
      "cell_type": "code",
      "source": [
        "RunDetails(remote_run).show()"
      ],
      "outputs": [
        {
          "output_type": "display_data",
          "data": {
            "text/plain": "_AutoMLWidget(widget_settings={'childWidgetDisplay': 'popup', 'send_telemetry': False, 'log_level': 'INFO', 's…",
            "application/vnd.jupyter.widget-view+json": {
              "version_major": 2,
              "version_minor": 0,
              "model_id": "4e013fde5caa41f38e74d15264a85032"
            }
          },
          "metadata": {}
        },
        {
          "output_type": "display_data",
          "data": {
            "application/aml.mini.widget.v1": "{\"status\": \"Completed\", \"workbench_run_details_uri\": \"https://ml.azure.com/runs/AutoML_5238a037-67da-4b30-9b8d-2fe223a39bf6?wsid=/subscriptions/48a74bb7-9950-4cc1-9caa-5d50f995cc55/resourcegroups/aml-quickstarts-142522/workspaces/quick-starts-ws-142522&tid=660b3398-b80e-49d2-bc5b-ac1dc93b5254\", \"run_id\": \"AutoML_5238a037-67da-4b30-9b8d-2fe223a39bf6\", \"run_properties\": {\"run_id\": \"AutoML_5238a037-67da-4b30-9b8d-2fe223a39bf6\", \"created_utc\": \"2021-04-12T23:36:04.810702Z\", \"properties\": {\"num_iterations\": \"1000\", \"training_type\": \"TrainFull\", \"acquisition_function\": \"EI\", \"primary_metric\": \"accuracy\", \"train_split\": \"0\", \"acquisition_parameter\": \"0\", \"num_cross_validation\": null, \"target\": \"Compute-Cluster\", \"AMLSettingsJsonString\": \"{\\\"path\\\":null,\\\"name\\\":\\\"Framingham-Experiment\\\",\\\"subscription_id\\\":\\\"48a74bb7-9950-4cc1-9caa-5d50f995cc55\\\",\\\"resource_group\\\":\\\"aml-quickstarts-142522\\\",\\\"workspace_name\\\":\\\"quick-starts-ws-142522\\\",\\\"region\\\":\\\"southcentralus\\\",\\\"compute_target\\\":\\\"Compute-Cluster\\\",\\\"spark_service\\\":null,\\\"azure_service\\\":\\\"remote\\\",\\\"many_models\\\":false,\\\"pipeline_fetch_max_batch_size\\\":1,\\\"enable_batch_run\\\":false,\\\"enable_run_restructure\\\":false,\\\"iterations\\\":1000,\\\"primary_metric\\\":\\\"accuracy\\\",\\\"task_type\\\":\\\"classification\\\",\\\"data_script\\\":null,\\\"test_size\\\":0.0,\\\"validation_size\\\":0.0,\\\"n_cross_validations\\\":null,\\\"y_min\\\":null,\\\"y_max\\\":null,\\\"num_classes\\\":null,\\\"featurization\\\":\\\"auto\\\",\\\"_ignore_package_version_incompatibilities\\\":false,\\\"is_timeseries\\\":false,\\\"max_cores_per_iteration\\\":1,\\\"max_concurrent_iterations\\\":4,\\\"iteration_timeout_minutes\\\":null,\\\"mem_in_mb\\\":null,\\\"enforce_time_on_windows\\\":false,\\\"experiment_timeout_minutes\\\":30,\\\"experiment_exit_score\\\":null,\\\"whitelist_models\\\":null,\\\"blacklist_algos\\\":[\\\"TensorFlowLinearClassifier\\\",\\\"TensorFlowDNN\\\"],\\\"supported_models\\\":[\\\"XGBoostClassifier\\\",\\\"KNN\\\",\\\"MultinomialNaiveBayes\\\",\\\"LinearSVM\\\",\\\"RandomForest\\\",\\\"SVM\\\",\\\"ExtremeRandomTrees\\\",\\\"GradientBoosting\\\",\\\"BernoulliNaiveBayes\\\",\\\"SGD\\\",\\\"LogisticRegression\\\",\\\"DecisionTree\\\",\\\"TensorFlowLinearClassifier\\\",\\\"AveragedPerceptronClassifier\\\",\\\"LightGBM\\\",\\\"TensorFlowDNN\\\"],\\\"private_models\\\":[],\\\"auto_blacklist\\\":true,\\\"blacklist_samples_reached\\\":false,\\\"exclude_nan_labels\\\":true,\\\"verbosity\\\":20,\\\"_debug_log\\\":\\\"azureml_automl.log\\\",\\\"show_warnings\\\":false,\\\"model_explainability\\\":true,\\\"service_url\\\":null,\\\"sdk_url\\\":null,\\\"sdk_packages\\\":null,\\\"enable_onnx_compatible_models\\\":false,\\\"enable_split_onnx_featurizer_estimator_models\\\":false,\\\"vm_type\\\":\\\"STANDARD_D2_V2\\\",\\\"telemetry_verbosity\\\":20,\\\"send_telemetry\\\":true,\\\"enable_dnn\\\":false,\\\"scenario\\\":\\\"SDK-1.13.0\\\",\\\"environment_label\\\":null,\\\"save_mlflow\\\":false,\\\"force_text_dnn\\\":false,\\\"enable_feature_sweeping\\\":true,\\\"enable_early_stopping\\\":true,\\\"early_stopping_n_iters\\\":10,\\\"metrics\\\":null,\\\"enable_metric_confidence\\\":false,\\\"enable_ensembling\\\":true,\\\"enable_stack_ensembling\\\":true,\\\"ensemble_iterations\\\":15,\\\"enable_tf\\\":false,\\\"enable_subsampling\\\":null,\\\"subsample_seed\\\":null,\\\"enable_nimbusml\\\":false,\\\"enable_streaming\\\":false,\\\"force_streaming\\\":false,\\\"track_child_runs\\\":true,\\\"allowed_private_models\\\":[],\\\"label_column_name\\\":\\\"TenYearCHD\\\",\\\"weight_column_name\\\":null,\\\"cv_split_column_names\\\":null,\\\"enable_local_managed\\\":false,\\\"_local_managed_run_id\\\":null,\\\"cost_mode\\\":1,\\\"lag_length\\\":0,\\\"metric_operation\\\":\\\"maximize\\\",\\\"preprocess\\\":true}\", \"DataPrepJsonString\": \"{\\\\\\\"training_data\\\\\\\": {\\\\\\\"datasetId\\\\\\\": \\\\\\\"08416cbc-8a6a-4c9a-997e-8f9772d795fb\\\\\\\"}, \\\\\\\"datasets\\\\\\\": 0}\", \"EnableSubsampling\": null, \"runTemplate\": \"AutoML\", \"azureml.runsource\": \"automl\", \"display_task_type\": \"classification\", \"dependencies_versions\": \"{\\\"azureml-widgets\\\": \\\"1.26.0\\\", \\\"azureml-train\\\": \\\"1.26.0\\\", \\\"azureml-train-restclients-hyperdrive\\\": \\\"1.26.0\\\", \\\"azureml-train-core\\\": \\\"1.26.0\\\", \\\"azureml-train-automl\\\": \\\"1.26.0\\\", \\\"azureml-train-automl-runtime\\\": \\\"1.26.0\\\", \\\"azureml-train-automl-client\\\": \\\"1.26.0\\\", \\\"azureml-tensorboard\\\": \\\"1.26.0\\\", \\\"azureml-telemetry\\\": \\\"1.26.0\\\", \\\"azureml-sdk\\\": \\\"1.26.0\\\", \\\"azureml-samples\\\": \\\"0+unknown\\\", \\\"azureml-pipeline\\\": \\\"1.26.0\\\", \\\"azureml-pipeline-steps\\\": \\\"1.26.0\\\", \\\"azureml-pipeline-core\\\": \\\"1.26.0\\\", \\\"azureml-opendatasets\\\": \\\"1.26.0\\\", \\\"azureml-model-management-sdk\\\": \\\"1.0.1b6.post1\\\", \\\"azureml-mlflow\\\": \\\"1.26.0\\\", \\\"azureml-interpret\\\": \\\"1.26.0\\\", \\\"azureml-explain-model\\\": \\\"1.26.0\\\", \\\"azureml-defaults\\\": \\\"1.26.0\\\", \\\"azureml-dataset-runtime\\\": \\\"1.26.0\\\", \\\"azureml-dataprep\\\": \\\"2.13.2\\\", \\\"azureml-dataprep-rslex\\\": \\\"1.11.2\\\", \\\"azureml-dataprep-native\\\": \\\"32.0.0\\\", \\\"azureml-datadrift\\\": \\\"1.26.0\\\", \\\"azureml-core\\\": \\\"1.26.0\\\", \\\"azureml-contrib-services\\\": \\\"1.26.0\\\", \\\"azureml-contrib-server\\\": \\\"1.26.0\\\", \\\"azureml-contrib-reinforcementlearning\\\": \\\"1.26.0\\\", \\\"azureml-contrib-pipeline-steps\\\": \\\"1.26.0\\\", \\\"azureml-contrib-notebook\\\": \\\"1.26.0\\\", \\\"azureml-contrib-gbdt\\\": \\\"1.26.0\\\", \\\"azureml-contrib-fairness\\\": \\\"1.26.0\\\", \\\"azureml-contrib-dataset\\\": \\\"1.26.0\\\", \\\"azureml-cli-common\\\": \\\"1.26.0\\\", \\\"azureml-automl-runtime\\\": \\\"1.26.0\\\", \\\"azureml-automl-dnn-nlp\\\": \\\"1.26.0\\\", \\\"azureml-automl-core\\\": \\\"1.26.0\\\", \\\"azureml-accel-models\\\": \\\"1.26.0\\\"}\", \"_aml_system_scenario_identification\": \"Remote.Parent\", \"ClientType\": \"SDK\", \"environment_cpu_name\": \"AzureML-AutoML\", \"environment_cpu_label\": \"prod\", \"environment_gpu_name\": \"AzureML-AutoML-GPU\", \"environment_gpu_label\": \"prod\", \"root_attribution\": \"automl\", \"attribution\": \"AutoML\", \"Orchestrator\": \"AutoML\", \"CancelUri\": \"https://southcentralus.experiments.azureml.net/jasmine/v1.0/subscriptions/48a74bb7-9950-4cc1-9caa-5d50f995cc55/resourceGroups/aml-quickstarts-142522/providers/Microsoft.MachineLearningServices/workspaces/quick-starts-ws-142522/experimentids/f94f8d41-8efe-4f06-98ed-6f47388cb7ad/cancel/AutoML_5238a037-67da-4b30-9b8d-2fe223a39bf6\", \"ClientSdkVersion\": \"1.25.0\", \"snapshotId\": \"00000000-0000-0000-0000-000000000000\", \"SetupRunId\": \"AutoML_5238a037-67da-4b30-9b8d-2fe223a39bf6_setup\", \"SetupRunContainerId\": \"dcid.AutoML_5238a037-67da-4b30-9b8d-2fe223a39bf6_setup\", \"FeaturizationRunJsonPath\": \"featurizer_container.json\", \"FeaturizationRunId\": \"AutoML_5238a037-67da-4b30-9b8d-2fe223a39bf6_featurize\", \"ProblemInfoJsonString\": \"{\\\"dataset_num_categorical\\\": 0, \\\"is_sparse\\\": true, \\\"subsampling\\\": false, \\\"dataset_classes\\\": 2, \\\"dataset_features\\\": 1385, \\\"dataset_samples\\\": 4240, \\\"single_frequency_class_detected\\\": false}\", \"ModelExplainRunId\": \"AutoML_5238a037-67da-4b30-9b8d-2fe223a39bf6_ModelExplain\"}, \"tags\": {\"model_explain_run\": \"best_run\", \"_aml_system_azureml.automlComponent\": \"AutoML\", \"pipeline_id\": \"\", \"score\": \"\", \"predicted_cost\": \"\", \"fit_time\": \"\", \"training_percent\": \"\", \"iteration\": \"\", \"run_preprocessor\": \"\", \"run_algorithm\": \"\", \"dynamic_whitelisting_iterations\": \"<25>;<30>;<35>;\", \"automl_best_child_run_id\": \"AutoML_5238a037-67da-4b30-9b8d-2fe223a39bf6_2\", \"model_explain_best_run_child_id\": \"AutoML_5238a037-67da-4b30-9b8d-2fe223a39bf6_2\"}, \"end_time_utc\": \"2021-04-12T23:58:24.083435Z\", \"status\": \"Completed\", \"log_files\": {}, \"log_groups\": [], \"run_duration\": \"0:22:19\", \"run_number\": \"2\", \"run_queued_details\": {\"status\": \"Completed\", \"details\": null}}, \"child_runs\": [{\"run_id\": \"AutoML_5238a037-67da-4b30-9b8d-2fe223a39bf6_0\", \"run_number\": 6, \"metric\": null, \"status\": \"Completed\", \"run_type\": \"azureml.scriptrun\", \"training_percent\": \"100\", \"start_time\": \"2021-04-12T23:44:51.617404Z\", \"end_time\": \"2021-04-12T23:45:34.464196Z\", \"created_time\": \"2021-04-12T23:44:36.797338Z\", \"created_time_dt\": \"2021-04-12T23:44:36.797338Z\", \"duration\": \"0:00:57\", \"iteration\": \"0\", \"goal\": \"accuracy_max\", \"run_name\": \"MaxAbsScaler, LightGBM\", \"run_properties\": \"copy=True\", \"primary_metric\": 0.83207623, \"best_metric\": 0.83207623}, {\"run_id\": \"AutoML_5238a037-67da-4b30-9b8d-2fe223a39bf6_1\", \"run_number\": 7, \"metric\": null, \"status\": \"Completed\", \"run_type\": \"azureml.scriptrun\", \"training_percent\": \"100\", \"start_time\": \"2021-04-12T23:45:50.754204Z\", \"end_time\": \"2021-04-12T23:46:40.362967Z\", \"created_time\": \"2021-04-12T23:44:36.844424Z\", \"created_time_dt\": \"2021-04-12T23:44:36.844424Z\", \"duration\": \"0:02:03\", \"iteration\": \"1\", \"goal\": \"accuracy_max\", \"run_name\": \"MaxAbsScaler, XGBoostClassifier\", \"run_properties\": \"copy=True\", \"primary_metric\": 0.84717113, \"best_metric\": 0.84717113}, {\"run_id\": \"AutoML_5238a037-67da-4b30-9b8d-2fe223a39bf6_3\", \"run_number\": 8, \"metric\": null, \"status\": \"Completed\", \"run_type\": \"azureml.scriptrun\", \"training_percent\": \"100\", \"start_time\": \"2021-04-12T23:47:05.568351Z\", \"end_time\": \"2021-04-12T23:48:58.421514Z\", \"created_time\": \"2021-04-12T23:44:36.8551Z\", \"created_time_dt\": \"2021-04-12T23:44:36.8551Z\", \"duration\": \"0:04:21\", \"iteration\": \"3\", \"goal\": \"accuracy_max\", \"run_name\": \"MaxAbsScaler, RandomForest\", \"run_properties\": \"copy=True\", \"primary_metric\": 0.84811558, \"best_metric\": 0.84811558}, {\"run_id\": \"AutoML_5238a037-67da-4b30-9b8d-2fe223a39bf6_2\", \"run_number\": 9, \"metric\": null, \"status\": \"Completed\", \"run_type\": \"azureml.scriptrun\", \"training_percent\": \"100\", \"start_time\": \"2021-04-12T23:47:01.101731Z\", \"end_time\": \"2021-04-12T23:47:42.133257Z\", \"created_time\": \"2021-04-12T23:44:36.851756Z\", \"created_time_dt\": \"2021-04-12T23:44:36.851756Z\", \"duration\": \"0:03:05\", \"iteration\": \"2\", \"goal\": \"accuracy_max\", \"run_name\": \"MaxAbsScaler, RandomForest\", \"run_properties\": \"copy=True\", \"primary_metric\": 0.84811558, \"best_metric\": 0.84811558}, {\"run_id\": \"AutoML_5238a037-67da-4b30-9b8d-2fe223a39bf6_4\", \"run_number\": 10, \"metric\": null, \"status\": \"Completed\", \"run_type\": \"azureml.scriptrun\", \"training_percent\": \"100\", \"start_time\": \"2021-04-12T23:47:06.581544Z\", \"end_time\": \"2021-04-12T23:50:24.490124Z\", \"created_time\": \"2021-04-12T23:45:35.897895Z\", \"created_time_dt\": \"2021-04-12T23:45:35.897895Z\", \"duration\": \"0:04:48\", \"iteration\": \"4\", \"goal\": \"accuracy_max\", \"run_name\": \"MaxAbsScaler, RandomForest\", \"run_properties\": \"copy=True\", \"primary_metric\": 0.47313756, \"best_metric\": 0.84811558}, {\"run_id\": \"AutoML_5238a037-67da-4b30-9b8d-2fe223a39bf6_5\", \"run_number\": 11, \"metric\": null, \"status\": \"Completed\", \"run_type\": \"azureml.scriptrun\", \"training_percent\": \"100\", \"start_time\": \"2021-04-12T23:47:07.868588Z\", \"end_time\": \"2021-04-12T23:50:22.539929Z\", \"created_time\": \"2021-04-12T23:46:41.832572Z\", \"created_time_dt\": \"2021-04-12T23:46:41.832572Z\", \"duration\": \"0:03:40\", \"iteration\": \"5\", \"goal\": \"accuracy_max\", \"run_name\": \"MaxAbsScaler, RandomForest\", \"run_properties\": \"copy=True\", \"primary_metric\": 0.63844069, \"best_metric\": 0.84811558}, {\"run_id\": \"AutoML_5238a037-67da-4b30-9b8d-2fe223a39bf6_6\", \"run_number\": 12, \"metric\": null, \"status\": \"Completed\", \"run_type\": \"azureml.scriptrun\", \"training_percent\": \"100\", \"start_time\": \"2021-04-12T23:47:58.832526Z\", \"end_time\": \"2021-04-12T23:48:47.616047Z\", \"created_time\": \"2021-04-12T23:47:45.035243Z\", \"created_time_dt\": \"2021-04-12T23:47:45.035243Z\", \"duration\": \"0:01:02\", \"iteration\": \"6\", \"goal\": \"accuracy_max\", \"run_name\": \"StandardScalerWrapper, XGBoostClassifier\", \"run_properties\": \"<azureml.automl.runtime.shared.model_wrappers.StandardScalerWrapper object at 0x7f0686cfd278\", \"primary_metric\": 0.84764377, \"best_metric\": 0.84811558}, {\"run_id\": \"AutoML_5238a037-67da-4b30-9b8d-2fe223a39bf6_7\", \"run_number\": 13, \"metric\": null, \"status\": \"Completed\", \"run_type\": \"azureml.scriptrun\", \"training_percent\": \"100\", \"start_time\": \"2021-04-12T23:49:04.797369Z\", \"end_time\": \"2021-04-12T23:49:47.599475Z\", \"created_time\": \"2021-04-12T23:48:51.554328Z\", \"created_time_dt\": \"2021-04-12T23:48:51.554328Z\", \"duration\": \"0:00:56\", \"iteration\": \"7\", \"goal\": \"accuracy_max\", \"run_name\": \"MaxAbsScaler, LogisticRegression\", \"run_properties\": \"copy=True\", \"primary_metric\": 0.69929159, \"best_metric\": 0.84811558}, {\"run_id\": \"AutoML_5238a037-67da-4b30-9b8d-2fe223a39bf6_8\", \"run_number\": 14, \"metric\": null, \"status\": \"Completed\", \"run_type\": \"azureml.scriptrun\", \"training_percent\": \"100\", \"start_time\": \"2021-04-12T23:49:11.549973Z\", \"end_time\": \"2021-04-12T23:49:54.566887Z\", \"created_time\": \"2021-04-12T23:49:01.216306Z\", \"created_time_dt\": \"2021-04-12T23:49:01.216306Z\", \"duration\": \"0:00:53\", \"iteration\": \"8\", \"goal\": \"accuracy_max\", \"run_name\": \"MaxAbsScaler, LogisticRegression\", \"run_properties\": \"copy=True\", \"primary_metric\": 0.80660436, \"best_metric\": 0.84811558}, {\"run_id\": \"AutoML_5238a037-67da-4b30-9b8d-2fe223a39bf6_9\", \"run_number\": 15, \"metric\": null, \"status\": \"Completed\", \"run_type\": \"azureml.scriptrun\", \"training_percent\": \"100\", \"start_time\": \"2021-04-12T23:50:03.594013Z\", \"end_time\": \"2021-04-12T23:50:53.093567Z\", \"created_time\": \"2021-04-12T23:49:50.465225Z\", \"created_time_dt\": \"2021-04-12T23:49:50.465225Z\", \"duration\": \"0:01:02\", \"iteration\": \"9\", \"goal\": \"accuracy_max\", \"run_name\": \"SparseNormalizer, XGBoostClassifier\", \"run_properties\": \"<azureml.automl.runtime.shared.model_wrappers.SparseNormalizer object at 0x7f26e42afa58\", \"primary_metric\": 0.84268927, \"best_metric\": 0.84811558}, {\"run_id\": \"AutoML_5238a037-67da-4b30-9b8d-2fe223a39bf6_10\", \"run_number\": 16, \"metric\": null, \"status\": \"Completed\", \"run_type\": \"azureml.scriptrun\", \"training_percent\": \"100\", \"start_time\": \"2021-04-12T23:50:11.016783Z\", \"end_time\": \"2021-04-12T23:51:00.050058Z\", \"created_time\": \"2021-04-12T23:49:57.105068Z\", \"created_time_dt\": \"2021-04-12T23:49:57.105068Z\", \"duration\": \"0:01:02\", \"iteration\": \"10\", \"goal\": \"accuracy_max\", \"run_name\": \"SparseNormalizer, GradientBoosting\", \"run_properties\": \"<azureml.automl.runtime.shared.model_wrappers.SparseNormalizer object at 0x7fcdbb2d4630\", \"primary_metric\": 0.84811558, \"best_metric\": 0.84811558}, {\"run_id\": \"AutoML_5238a037-67da-4b30-9b8d-2fe223a39bf6_11\", \"run_number\": 17, \"metric\": null, \"status\": \"Completed\", \"run_type\": \"azureml.scriptrun\", \"training_percent\": \"100\", \"start_time\": \"2021-04-12T23:50:36.575351Z\", \"end_time\": \"2021-04-12T23:51:25.460323Z\", \"created_time\": \"2021-04-12T23:50:25.107389Z\", \"created_time_dt\": \"2021-04-12T23:50:25.107389Z\", \"duration\": \"0:01:00\", \"iteration\": \"11\", \"goal\": \"accuracy_max\", \"run_name\": \"MaxAbsScaler, RandomForest\", \"run_properties\": \"copy=True\", \"primary_metric\": 0.84811558, \"best_metric\": 0.84811558}, {\"run_id\": \"AutoML_5238a037-67da-4b30-9b8d-2fe223a39bf6_12\", \"run_number\": 18, \"metric\": null, \"status\": \"Completed\", \"run_type\": \"azureml.scriptrun\", \"training_percent\": \"100\", \"start_time\": \"2021-04-12T23:50:38.657067Z\", \"end_time\": \"2021-04-12T23:51:29.485185Z\", \"created_time\": \"2021-04-12T23:50:30.100913Z\", \"created_time_dt\": \"2021-04-12T23:50:30.100913Z\", \"duration\": \"0:00:59\", \"iteration\": \"12\", \"goal\": \"accuracy_max\", \"run_name\": \"SparseNormalizer, XGBoostClassifier\", \"run_properties\": \"<azureml.automl.runtime.shared.model_wrappers.SparseNormalizer object at 0x7fc01bb6b048\", \"primary_metric\": 0.8391517, \"best_metric\": 0.84811558}, {\"run_id\": \"AutoML_5238a037-67da-4b30-9b8d-2fe223a39bf6_13\", \"run_number\": 19, \"metric\": null, \"status\": \"Completed\", \"run_type\": \"azureml.scriptrun\", \"training_percent\": \"100\", \"start_time\": \"2021-04-12T23:51:09.166362Z\", \"end_time\": \"2021-04-12T23:52:01.992413Z\", \"created_time\": \"2021-04-12T23:50:55.179946Z\", \"created_time_dt\": \"2021-04-12T23:50:55.179946Z\", \"duration\": \"0:01:06\", \"iteration\": \"13\", \"goal\": \"accuracy_max\", \"run_name\": \"SparseNormalizer, XGBoostClassifier\", \"run_properties\": \"<azureml.automl.runtime.shared.model_wrappers.SparseNormalizer object at 0x7f4ca5e3ea20\", \"primary_metric\": 0.84316142, \"best_metric\": 0.84811558}, {\"run_id\": \"AutoML_5238a037-67da-4b30-9b8d-2fe223a39bf6_14\", \"run_number\": 20, \"metric\": null, \"status\": \"Completed\", \"run_type\": \"azureml.scriptrun\", \"training_percent\": \"100\", \"start_time\": \"2021-04-12T23:51:15.824541Z\", \"end_time\": \"2021-04-12T23:51:55.959781Z\", \"created_time\": \"2021-04-12T23:51:02.692969Z\", \"created_time_dt\": \"2021-04-12T23:51:02.692969Z\", \"duration\": \"0:00:53\", \"iteration\": \"14\", \"goal\": \"accuracy_max\", \"run_name\": \"StandardScalerWrapper, LightGBM\", \"run_properties\": \"<azureml.automl.runtime.shared.model_wrappers.StandardScalerWrapper object at 0x7f4520d77a58\", \"primary_metric\": 0.84552063, \"best_metric\": 0.84811558}, {\"run_id\": \"AutoML_5238a037-67da-4b30-9b8d-2fe223a39bf6_15\", \"run_number\": 21, \"metric\": null, \"status\": \"Completed\", \"run_type\": \"azureml.scriptrun\", \"training_percent\": \"100\", \"start_time\": \"2021-04-12T23:51:40.764392Z\", \"end_time\": \"2021-04-12T23:52:27.56578Z\", \"created_time\": \"2021-04-12T23:51:27.84912Z\", \"created_time_dt\": \"2021-04-12T23:51:27.84912Z\", \"duration\": \"0:00:59\", \"iteration\": \"15\", \"goal\": \"accuracy_max\", \"run_name\": \"MaxAbsScaler, LightGBM\", \"run_properties\": \"copy=True\", \"primary_metric\": 0.8441052, \"best_metric\": 0.84811558}, {\"run_id\": \"AutoML_5238a037-67da-4b30-9b8d-2fe223a39bf6_16\", \"run_number\": 22, \"metric\": null, \"status\": \"Completed\", \"run_type\": \"azureml.scriptrun\", \"training_percent\": \"100\", \"start_time\": \"2021-04-12T23:51:45.572295Z\", \"end_time\": \"2021-04-12T23:52:29.932537Z\", \"created_time\": \"2021-04-12T23:51:32.301541Z\", \"created_time_dt\": \"2021-04-12T23:51:32.301541Z\", \"duration\": \"0:00:57\", \"iteration\": \"16\", \"goal\": \"accuracy_max\", \"run_name\": \"StandardScalerWrapper, RandomForest\", \"run_properties\": \"<azureml.automl.runtime.shared.model_wrappers.StandardScalerWrapper object at 0x7f55493f8780\", \"primary_metric\": 0.84811558, \"best_metric\": 0.84811558}, {\"run_id\": \"AutoML_5238a037-67da-4b30-9b8d-2fe223a39bf6_17\", \"run_number\": 23, \"metric\": null, \"status\": \"Completed\", \"run_type\": \"azureml.scriptrun\", \"training_percent\": \"100\", \"start_time\": \"2021-04-12T23:52:08.965923Z\", \"end_time\": \"2021-04-12T23:52:48.45124Z\", \"created_time\": \"2021-04-12T23:51:58.720487Z\", \"created_time_dt\": \"2021-04-12T23:51:58.720487Z\", \"duration\": \"0:00:49\", \"iteration\": \"17\", \"goal\": \"accuracy_max\", \"run_name\": \"MaxAbsScaler, ExtremeRandomTrees\", \"run_properties\": \"copy=True\", \"primary_metric\": 0.84811558, \"best_metric\": 0.84811558}, {\"run_id\": \"AutoML_5238a037-67da-4b30-9b8d-2fe223a39bf6_18\", \"run_number\": 24, \"metric\": null, \"status\": \"Completed\", \"run_type\": \"azureml.scriptrun\", \"training_percent\": \"100\", \"start_time\": \"2021-04-12T23:52:18.749673Z\", \"end_time\": \"2021-04-12T23:52:59.393019Z\", \"created_time\": \"2021-04-12T23:52:04.879969Z\", \"created_time_dt\": \"2021-04-12T23:52:04.879969Z\", \"duration\": \"0:00:54\", \"iteration\": \"18\", \"goal\": \"accuracy_max\", \"run_name\": \"MaxAbsScaler, ExtremeRandomTrees\", \"run_properties\": \"copy=True\", \"primary_metric\": 0.84811558, \"best_metric\": 0.84811558}, {\"run_id\": \"AutoML_5238a037-67da-4b30-9b8d-2fe223a39bf6_19\", \"run_number\": 25, \"metric\": null, \"status\": \"Completed\", \"run_type\": \"azureml.scriptrun\", \"training_percent\": \"100\", \"start_time\": \"2021-04-12T23:52:40.505758Z\", \"end_time\": \"2021-04-12T23:53:24.814905Z\", \"created_time\": \"2021-04-12T23:52:31.018874Z\", \"created_time_dt\": \"2021-04-12T23:52:31.018874Z\", \"duration\": \"0:00:53\", \"iteration\": \"19\", \"goal\": \"accuracy_max\", \"run_name\": \"StandardScalerWrapper, LightGBM\", \"run_properties\": \"<azureml.automl.runtime.shared.model_wrappers.StandardScalerWrapper object at 0x7f21f404f630\", \"primary_metric\": 0.84811558, \"best_metric\": 0.84811558}, {\"run_id\": \"AutoML_5238a037-67da-4b30-9b8d-2fe223a39bf6_20\", \"run_number\": 26, \"metric\": null, \"status\": \"Completed\", \"run_type\": \"azureml.scriptrun\", \"training_percent\": \"100\", \"start_time\": \"2021-04-12T23:52:46.634175Z\", \"end_time\": \"2021-04-12T23:53:31.659672Z\", \"created_time\": \"2021-04-12T23:52:36.365528Z\", \"created_time_dt\": \"2021-04-12T23:52:36.365528Z\", \"duration\": \"0:00:55\", \"iteration\": \"20\", \"goal\": \"accuracy_max\", \"run_name\": \"SparseNormalizer, XGBoostClassifier\", \"run_properties\": \"<azureml.automl.runtime.shared.model_wrappers.SparseNormalizer object at 0x7f449c099f28\", \"primary_metric\": 0.84151075, \"best_metric\": 0.84811558}, {\"run_id\": \"AutoML_5238a037-67da-4b30-9b8d-2fe223a39bf6_21\", \"run_number\": 27, \"metric\": null, \"status\": \"Completed\", \"run_type\": \"azureml.scriptrun\", \"training_percent\": \"100\", \"start_time\": \"2021-04-12T23:53:03.958137Z\", \"end_time\": \"2021-04-12T23:53:44.451558Z\", \"created_time\": \"2021-04-12T23:52:51.062915Z\", \"created_time_dt\": \"2021-04-12T23:52:51.062915Z\", \"duration\": \"0:00:53\", \"iteration\": \"21\", \"goal\": \"accuracy_max\", \"run_name\": \"SparseNormalizer, LightGBM\", \"run_properties\": \"<azureml.automl.runtime.shared.model_wrappers.SparseNormalizer object at 0x7f5c92267e10\", \"primary_metric\": 0.84268977, \"best_metric\": 0.84811558}, {\"run_id\": \"AutoML_5238a037-67da-4b30-9b8d-2fe223a39bf6_22\", \"run_number\": 28, \"metric\": null, \"status\": \"Completed\", \"run_type\": \"azureml.scriptrun\", \"training_percent\": \"100\", \"start_time\": \"2021-04-12T23:53:14.840527Z\", \"end_time\": \"2021-04-12T23:53:55.210539Z\", \"created_time\": \"2021-04-12T23:53:02.275539Z\", \"created_time_dt\": \"2021-04-12T23:53:02.275539Z\", \"duration\": \"0:00:52\", \"iteration\": \"22\", \"goal\": \"accuracy_max\", \"run_name\": \"StandardScalerWrapper, LightGBM\", \"run_properties\": \"<azureml.automl.runtime.shared.model_wrappers.StandardScalerWrapper object at 0x7f86472cb940\", \"primary_metric\": 0.84811558, \"best_metric\": 0.84811558}, {\"run_id\": \"AutoML_5238a037-67da-4b30-9b8d-2fe223a39bf6_23\", \"run_number\": 29, \"metric\": null, \"status\": \"Completed\", \"run_type\": \"azureml.scriptrun\", \"training_percent\": \"100\", \"start_time\": \"2021-04-12T23:53:41.034569Z\", \"end_time\": \"2021-04-12T23:54:30.201235Z\", \"created_time\": \"2021-04-12T23:53:29.141447Z\", \"created_time_dt\": \"2021-04-12T23:53:29.141447Z\", \"duration\": \"0:01:01\", \"iteration\": \"23\", \"goal\": \"accuracy_max\", \"run_name\": \"StandardScalerWrapper, LightGBM\", \"run_properties\": \"<azureml.automl.runtime.shared.model_wrappers.StandardScalerWrapper object at 0x7f6eba615e10\", \"primary_metric\": 0.84717196, \"best_metric\": 0.84811558}, {\"run_id\": \"AutoML_5238a037-67da-4b30-9b8d-2fe223a39bf6_24\", \"run_number\": 30, \"metric\": null, \"status\": \"Completed\", \"run_type\": \"azureml.scriptrun\", \"training_percent\": \"100\", \"start_time\": \"2021-04-12T23:53:46.445193Z\", \"end_time\": \"2021-04-12T23:54:42.146747Z\", \"created_time\": \"2021-04-12T23:53:34.215843Z\", \"created_time_dt\": \"2021-04-12T23:53:34.215843Z\", \"duration\": \"0:01:07\", \"iteration\": \"24\", \"goal\": \"accuracy_max\", \"run_name\": \"StandardScalerWrapper, ExtremeRandomTrees\", \"run_properties\": \"<azureml.automl.runtime.shared.model_wrappers.StandardScalerWrapper object at 0x7ff50ca16f60\", \"primary_metric\": 0.84811558, \"best_metric\": 0.84811558}, {\"run_id\": \"AutoML_5238a037-67da-4b30-9b8d-2fe223a39bf6_25\", \"run_number\": 31, \"metric\": null, \"status\": \"Completed\", \"run_type\": \"azureml.scriptrun\", \"training_percent\": \"100\", \"start_time\": \"2021-04-12T23:54:01.019288Z\", \"end_time\": \"2021-04-12T23:54:48.255583Z\", \"created_time\": \"2021-04-12T23:53:47.823619Z\", \"created_time_dt\": \"2021-04-12T23:53:47.823619Z\", \"duration\": \"0:01:00\", \"iteration\": \"25\", \"goal\": \"accuracy_max\", \"run_name\": \"TruncatedSVDWrapper, RandomForest\", \"run_properties\": \"n_components=0.6036842105263158, random_state=None\", \"primary_metric\": 0.84811558, \"best_metric\": 0.84811558}, {\"run_id\": \"AutoML_5238a037-67da-4b30-9b8d-2fe223a39bf6_26\", \"run_number\": 32, \"metric\": null, \"status\": \"Completed\", \"run_type\": \"azureml.scriptrun\", \"training_percent\": \"100\", \"start_time\": \"2021-04-12T23:54:10.41489Z\", \"end_time\": \"2021-04-12T23:54:53.140185Z\", \"created_time\": \"2021-04-12T23:53:57.773014Z\", \"created_time_dt\": \"2021-04-12T23:53:57.773014Z\", \"duration\": \"0:00:55\", \"iteration\": \"26\", \"goal\": \"accuracy_max\", \"run_name\": \"MaxAbsScaler, RandomForest\", \"run_properties\": \"copy=True\", \"primary_metric\": 0.84811558, \"best_metric\": 0.84811558}, {\"run_id\": \"AutoML_5238a037-67da-4b30-9b8d-2fe223a39bf6_27\", \"run_number\": 33, \"metric\": null, \"status\": \"Completed\", \"run_type\": \"azureml.scriptrun\", \"training_percent\": \"100\", \"start_time\": \"2021-04-12T23:54:44.753893Z\", \"end_time\": \"2021-04-12T23:55:30.882916Z\", \"created_time\": \"2021-04-12T23:54:32.878072Z\", \"created_time_dt\": \"2021-04-12T23:54:32.878072Z\", \"duration\": \"0:00:58\", \"iteration\": \"27\", \"goal\": \"accuracy_max\", \"run_name\": \"SparseNormalizer, RandomForest\", \"run_properties\": \"<azureml.automl.runtime.shared.model_wrappers.SparseNormalizer object at 0x7f9094387860\", \"primary_metric\": 0.84811558, \"best_metric\": 0.84811558}, {\"run_id\": \"AutoML_5238a037-67da-4b30-9b8d-2fe223a39bf6_28\", \"run_number\": 34, \"metric\": null, \"status\": \"Completed\", \"run_type\": \"azureml.scriptrun\", \"training_percent\": \"100\", \"start_time\": \"2021-04-12T23:54:56.263354Z\", \"end_time\": \"2021-04-12T23:55:39.114168Z\", \"created_time\": \"2021-04-12T23:54:45.38661Z\", \"created_time_dt\": \"2021-04-12T23:54:45.38661Z\", \"duration\": \"0:00:53\", \"iteration\": \"28\", \"goal\": \"accuracy_max\", \"run_name\": \"SparseNormalizer, XGBoostClassifier\", \"run_properties\": \"<azureml.automl.runtime.shared.model_wrappers.SparseNormalizer object at 0x7f7e07454278\", \"primary_metric\": 0.84575654, \"best_metric\": 0.84811558}, {\"run_id\": \"AutoML_5238a037-67da-4b30-9b8d-2fe223a39bf6_29\", \"run_number\": 35, \"metric\": null, \"status\": \"Completed\", \"run_type\": \"azureml.scriptrun\", \"training_percent\": \"100\", \"start_time\": \"2021-04-12T23:55:01.725559Z\", \"end_time\": \"2021-04-12T23:55:41.644635Z\", \"created_time\": \"2021-04-12T23:54:50.524968Z\", \"created_time_dt\": \"2021-04-12T23:54:50.524968Z\", \"duration\": \"0:00:51\", \"iteration\": \"29\", \"goal\": \"accuracy_max\", \"run_name\": \"SparseNormalizer, ExtremeRandomTrees\", \"run_properties\": \"<azureml.automl.runtime.shared.model_wrappers.SparseNormalizer object at 0x7f98344b57f0\", \"primary_metric\": 0.84811558, \"best_metric\": 0.84811558}, {\"run_id\": \"AutoML_5238a037-67da-4b30-9b8d-2fe223a39bf6_30\", \"run_number\": 36, \"metric\": null, \"status\": \"Completed\", \"run_type\": \"azureml.scriptrun\", \"training_percent\": \"100\", \"start_time\": \"2021-04-12T23:55:07.472183Z\", \"end_time\": \"2021-04-12T23:55:57.717287Z\", \"created_time\": \"2021-04-12T23:54:57.887785Z\", \"created_time_dt\": \"2021-04-12T23:54:57.887785Z\", \"duration\": \"0:00:59\", \"iteration\": \"30\", \"goal\": \"accuracy_max\", \"run_name\": \"MaxAbsScaler, RandomForest\", \"run_properties\": \"copy=True\", \"primary_metric\": 0.84811558, \"best_metric\": 0.84811558}, {\"run_id\": \"AutoML_5238a037-67da-4b30-9b8d-2fe223a39bf6_31\", \"run_number\": 37, \"metric\": null, \"status\": \"Completed\", \"run_type\": \"azureml.scriptrun\", \"training_percent\": \"100\", \"start_time\": \"2021-04-12T23:55:47.791398Z\", \"end_time\": \"2021-04-12T23:56:31.733452Z\", \"created_time\": \"2021-04-12T23:55:33.201111Z\", \"created_time_dt\": \"2021-04-12T23:55:33.201111Z\", \"duration\": \"0:00:58\", \"iteration\": \"31\", \"goal\": \"accuracy_max\", \"run_name\": \"MaxAbsScaler, LightGBM\", \"run_properties\": \"copy=True\", \"primary_metric\": 0.84811558, \"best_metric\": 0.84811558}, {\"run_id\": \"AutoML_5238a037-67da-4b30-9b8d-2fe223a39bf6_32\", \"run_number\": 38, \"metric\": null, \"status\": \"Canceled\", \"run_type\": \"azureml.scriptrun\", \"training_percent\": \"100\", \"start_time\": \"2021-04-12T23:55:53.683931Z\", \"end_time\": \"2021-04-12T23:56:47.340641Z\", \"created_time\": \"2021-04-12T23:55:41.681829Z\", \"created_time_dt\": \"2021-04-12T23:55:41.681829Z\", \"duration\": \"0:01:05\", \"iteration\": \"32\", \"goal\": \"accuracy_max\", \"run_name\": \"StandardScalerWrapper, XGBoostClassifier\", \"run_properties\": \"<azureml.automl.runtime.shared.model_wrappers.StandardScalerWrapper object at 0x7ff11f40f9e8\", \"primary_metric\": 0.82500043, \"best_metric\": 0.84811558}, {\"run_id\": \"AutoML_5238a037-67da-4b30-9b8d-2fe223a39bf6_33\", \"run_number\": 39, \"metric\": null, \"status\": \"Completed\", \"run_type\": \"azureml.scriptrun\", \"training_percent\": \"100\", \"start_time\": \"2021-04-12T23:55:57.799312Z\", \"end_time\": \"2021-04-12T23:56:40.633467Z\", \"created_time\": \"2021-04-12T23:55:45.662066Z\", \"created_time_dt\": \"2021-04-12T23:55:45.662066Z\", \"duration\": \"0:00:54\", \"iteration\": \"33\", \"goal\": \"accuracy_max\", \"run_name\": \"StandardScalerWrapper, XGBoostClassifier\", \"run_properties\": \"<azureml.automl.runtime.shared.model_wrappers.StandardScalerWrapper object at 0x7f8a16868cc0\", \"primary_metric\": 0.82217224, \"best_metric\": 0.84811558}, {\"run_id\": \"AutoML_5238a037-67da-4b30-9b8d-2fe223a39bf6_34\", \"run_number\": 40, \"metric\": null, \"status\": \"Canceled\", \"run_type\": \"azureml.scriptrun\", \"training_percent\": \"100\", \"start_time\": \"2021-04-12T23:56:13.839998Z\", \"end_time\": \"2021-04-12T23:56:47.603055Z\", \"created_time\": \"2021-04-12T23:56:00.323811Z\", \"created_time_dt\": \"2021-04-12T23:56:00.323811Z\", \"duration\": \"0:00:47\", \"iteration\": \"34\", \"goal\": \"accuracy_max\", \"run_name\": \"MaxAbsScaler, LightGBM\", \"run_properties\": \"copy=True\", \"primary_metric\": 0.84552063, \"best_metric\": 0.84811558}, {\"run_id\": \"AutoML_5238a037-67da-4b30-9b8d-2fe223a39bf6_35\", \"run_number\": 41, \"metric\": null, \"status\": \"Canceled\", \"run_type\": \"azureml.scriptrun\", \"training_percent\": \"100\", \"start_time\": \"2021-04-12T23:56:45.385197Z\", \"end_time\": \"2021-04-12T23:56:53.179877Z\", \"created_time\": \"2021-04-12T23:56:35.173273Z\", \"created_time_dt\": \"2021-04-12T23:56:35.173273Z\", \"duration\": \"0:00:18\", \"iteration\": \"35\", \"goal\": null, \"run_name\": \"Canceled\", \"run_properties\": null}, {\"run_id\": \"AutoML_5238a037-67da-4b30-9b8d-2fe223a39bf6_36\", \"run_number\": 42, \"metric\": null, \"status\": \"Completed\", \"run_type\": \"azureml.scriptrun\", \"training_percent\": \"100\", \"start_time\": \"2021-04-12T23:57:04.607775Z\", \"end_time\": \"2021-04-12T23:58:07.715182Z\", \"created_time\": \"2021-04-12T23:56:54.455407Z\", \"created_time_dt\": \"2021-04-12T23:56:54.455407Z\", \"duration\": \"0:01:13\", \"iteration\": \"36\", \"goal\": \"accuracy_max\", \"run_name\": \"VotingEnsemble\", \"run_properties\": \"classification_labels=None,\\n                              estimators=[('31',\\n                                           Pipeline(memory=None,\\n                                                    steps=[('maxabsscaler',\\n                                                            MaxAbsScaler(copy=True\", \"primary_metric\": 0.84811558, \"best_metric\": 0.84811558}, {\"run_id\": \"AutoML_5238a037-67da-4b30-9b8d-2fe223a39bf6_37\", \"run_number\": 43, \"metric\": null, \"status\": \"Completed\", \"run_type\": \"azureml.scriptrun\", \"training_percent\": \"100\", \"start_time\": \"2021-04-12T23:57:05.508186Z\", \"end_time\": \"2021-04-12T23:58:21.243346Z\", \"created_time\": \"2021-04-12T23:56:54.73727Z\", \"created_time_dt\": \"2021-04-12T23:56:54.73727Z\", \"duration\": \"0:01:26\", \"iteration\": \"37\", \"goal\": \"accuracy_max\", \"run_name\": \"StackEnsemble\", \"run_properties\": \"base_learners=[('31',\\n                                        Pipeline(memory=None,\\n                                                 steps=[('maxabsscaler',\\n                                                         MaxAbsScaler(copy=True\", \"primary_metric\": 0.83608444, \"best_metric\": 0.84811558}], \"children_metrics\": {\"categories\": [0], \"series\": {\"balanced_accuracy\": [{\"categories\": [\"0\", \"1\", \"2\", \"3\", \"4\", \"5\", \"6\", \"7\", \"8\", \"9\", \"10\", \"11\", \"12\", \"13\", \"14\", \"15\", \"16\", \"17\", \"18\", \"19\", \"20\", \"21\", \"22\", \"23\", \"24\", \"25\", \"26\", \"27\", \"28\", \"29\", \"30\", \"31\", \"32\", \"33\", \"34\", \"36\", \"37\"], \"mode\": \"markers\", \"name\": \"balanced_accuracy\", \"stepped\": false, \"type\": \"scatter\", \"data\": [0.5258446333822475, 0.5119042565431116, 0.5, 0.5, 0.5694848912759759, 0.6166650693416449, 0.5011806676293213, 0.5438375083400243, 0.5404475820772503, 0.5204063720944497, 0.5, 0.5, 0.5162133024146512, 0.5112373918238396, 0.5005652981614929, 0.5016975229194154, 0.5, 0.5, 0.5, 0.5, 0.5155103839357335, 0.5031411853330781, 0.5, 0.4994535519125683, 0.5, 0.5, 0.5, 0.5, 0.5013127225070094, 0.5, 0.5, 0.5, 0.5229161970468414, 0.5270820346555075, 0.5025171950505629, 0.5, 0.5039369744330248]}, {\"categories\": [\"0\", \"1\", \"2\", \"3\", \"4\", \"5\", \"6\", \"7\", \"8\", \"9\", \"10\", \"11\", \"12\", \"13\", \"14\", \"15\", \"16\", \"17\", \"18\", \"19\", \"20\", \"21\", \"22\", \"23\", \"24\", \"25\", \"26\", \"27\", \"28\", \"29\", \"30\", \"31\", \"32\", \"33\", \"34\", \"36\", \"37\"], \"mode\": \"lines\", \"name\": \"balanced_accuracy_max\", \"stepped\": true, \"type\": \"scatter\", \"data\": [0.5258446333822475, 0.5258446333822475, 0.5258446333822475, 0.5258446333822475, 0.5694848912759759, 0.6166650693416449, 0.6166650693416449, 0.6166650693416449, 0.6166650693416449, 0.6166650693416449, 0.6166650693416449, 0.6166650693416449, 0.6166650693416449, 0.6166650693416449, 0.6166650693416449, 0.6166650693416449, 0.6166650693416449, 0.6166650693416449, 0.6166650693416449, 0.6166650693416449, 0.6166650693416449, 0.6166650693416449, 0.6166650693416449, 0.6166650693416449, 0.6166650693416449, 0.6166650693416449, 0.6166650693416449, 0.6166650693416449, 0.6166650693416449, 0.6166650693416449, 0.6166650693416449, 0.6166650693416449, 0.6166650693416449, 0.6166650693416449, 0.6166650693416449, 0.6166650693416449, 0.6166650693416449]}], \"weighted_accuracy\": [{\"categories\": [\"0\", \"1\", \"2\", \"3\", \"4\", \"5\", \"6\", \"7\", \"8\", \"9\", \"10\", \"11\", \"12\", \"13\", \"14\", \"15\", \"16\", \"17\", \"18\", \"19\", \"20\", \"21\", \"22\", \"23\", \"24\", \"25\", \"26\", \"27\", \"28\", \"29\", \"30\", \"31\", \"32\", \"33\", \"34\", \"36\", \"37\"], \"mode\": \"markers\", \"name\": \"weighted_accuracy\", \"stepped\": false, \"type\": \"scatter\", \"data\": [0.938068858922891, 0.9632332164095311, 0.9686688438245291, 0.9686688438245291, 0.44156122675126347, 0.6451570181407037, 0.967686966603753, 0.7528445430278317, 0.8987677850942445, 0.954368492743379, 0.9686688438245291, 0.9686688438245291, 0.9512049964125344, 0.9582041415233725, 0.9650718511078652, 0.9628119474400649, 0.9686688438245291, 0.9686688438245291, 0.9686688438245291, 0.9686688438245291, 0.9547343443480907, 0.9605246689785335, 0.9686688438245291, 0.9676026309101126, 0.9686688438245291, 0.9686688438245291, 0.9686688438245291, 0.9686688438245291, 0.9651183418605281, 0.9686688438245291, 0.9686688438245291, 0.9686688438245291, 0.9297478909512528, 0.9244518197001691, 0.9644112668116896, 0.9686688438245291, 0.9517088484389588]}, {\"categories\": [\"0\", \"1\", \"2\", \"3\", \"4\", \"5\", \"6\", \"7\", \"8\", \"9\", \"10\", \"11\", \"12\", \"13\", \"14\", \"15\", \"16\", \"17\", \"18\", \"19\", \"20\", \"21\", \"22\", \"23\", \"24\", \"25\", \"26\", \"27\", \"28\", \"29\", \"30\", \"31\", \"32\", \"33\", \"34\", \"36\", \"37\"], \"mode\": \"lines\", \"name\": \"weighted_accuracy_max\", \"stepped\": true, \"type\": \"scatter\", \"data\": [0.938068858922891, 0.9632332164095311, 0.9686688438245291, 0.9686688438245291, 0.9686688438245291, 0.9686688438245291, 0.9686688438245291, 0.9686688438245291, 0.9686688438245291, 0.9686688438245291, 0.9686688438245291, 0.9686688438245291, 0.9686688438245291, 0.9686688438245291, 0.9686688438245291, 0.9686688438245291, 0.9686688438245291, 0.9686688438245291, 0.9686688438245291, 0.9686688438245291, 0.9686688438245291, 0.9686688438245291, 0.9686688438245291, 0.9686688438245291, 0.9686688438245291, 0.9686688438245291, 0.9686688438245291, 0.9686688438245291, 0.9686688438245291, 0.9686688438245291, 0.9686688438245291, 0.9686688438245291, 0.9686688438245291, 0.9686688438245291, 0.9686688438245291, 0.9686688438245291, 0.9686688438245291]}], \"f1_score_macro\": [{\"categories\": [\"0\", \"1\", \"2\", \"3\", \"4\", \"5\", \"6\", \"7\", \"8\", \"9\", \"10\", \"11\", \"12\", \"13\", \"14\", \"15\", \"16\", \"17\", \"18\", \"19\", \"20\", \"21\", \"22\", \"23\", \"24\", \"25\", \"26\", \"27\", \"28\", \"29\", \"30\", \"31\", \"32\", \"33\", \"34\", \"36\", \"37\"], \"mode\": \"markers\", \"name\": \"f1_score_macro\", \"stepped\": false, \"type\": \"scatter\", \"data\": [0.5208165108643971, 0.4868535488064971, 0.4588892190256147, 0.4588892190256147, 0.4224105707080301, 0.5406476110002142, 0.4620845126174087, 0.5284320628453726, 0.5444193367147917, 0.5067474483610463, 0.4588892190256147, 0.4588892190256147, 0.5000083932680051, 0.4882188919320902, 0.4627934246147604, 0.46667617805363487, 0.4588892190256147, 0.4588892190256147, 0.4588892190256147, 0.4588892190256147, 0.4962436777386701, 0.4703299189386731, 0.4588892190256147, 0.4586170495270032, 0.4588892190256147, 0.4588892190256147, 0.4588892190256147, 0.4588892190256147, 0.46433472282905325, 0.4588892190256147, 0.4588892190256147, 0.4588892190256147, 0.5176973363227743, 0.525023258642083, 0.4672196559934705, 0.4588892190256147, 0.4734189162927538]}, {\"categories\": [\"0\", \"1\", \"2\", \"3\", \"4\", \"5\", \"6\", \"7\", \"8\", \"9\", \"10\", \"11\", \"12\", \"13\", \"14\", \"15\", \"16\", \"17\", \"18\", \"19\", \"20\", \"21\", \"22\", \"23\", \"24\", \"25\", \"26\", \"27\", \"28\", \"29\", \"30\", \"31\", \"32\", \"33\", \"34\", \"36\", \"37\"], \"mode\": \"lines\", \"name\": \"f1_score_macro_max\", \"stepped\": true, \"type\": \"scatter\", \"data\": [0.5208165108643971, 0.5208165108643971, 0.5208165108643971, 0.5208165108643971, 0.5208165108643971, 0.5406476110002142, 0.5406476110002142, 0.5406476110002142, 0.5444193367147917, 0.5444193367147917, 0.5444193367147917, 0.5444193367147917, 0.5444193367147917, 0.5444193367147917, 0.5444193367147917, 0.5444193367147917, 0.5444193367147917, 0.5444193367147917, 0.5444193367147917, 0.5444193367147917, 0.5444193367147917, 0.5444193367147917, 0.5444193367147917, 0.5444193367147917, 0.5444193367147917, 0.5444193367147917, 0.5444193367147917, 0.5444193367147917, 0.5444193367147917, 0.5444193367147917, 0.5444193367147917, 0.5444193367147917, 0.5444193367147917, 0.5444193367147917, 0.5444193367147917, 0.5444193367147917, 0.5444193367147917]}], \"recall_score_macro\": [{\"categories\": [\"0\", \"1\", \"2\", \"3\", \"4\", \"5\", \"6\", \"7\", \"8\", \"9\", \"10\", \"11\", \"12\", \"13\", \"14\", \"15\", \"16\", \"17\", \"18\", \"19\", \"20\", \"21\", \"22\", \"23\", \"24\", \"25\", \"26\", \"27\", \"28\", \"29\", \"30\", \"31\", \"32\", \"33\", \"34\", \"36\", \"37\"], \"mode\": \"markers\", \"name\": \"recall_score_macro\", \"stepped\": false, \"type\": \"scatter\", \"data\": [0.5258446333822475, 0.5119042565431116, 0.5, 0.5, 0.5694848912759759, 0.6166650693416449, 0.5011806676293213, 0.5438375083400243, 0.5404475820772503, 0.5204063720944497, 0.5, 0.5, 0.5162133024146512, 0.5112373918238396, 0.5005652981614929, 0.5016975229194154, 0.5, 0.5, 0.5, 0.5, 0.5155103839357335, 0.5031411853330781, 0.5, 0.4994535519125683, 0.5, 0.5, 0.5, 0.5, 0.5013127225070094, 0.5, 0.5, 0.5, 0.5229161970468414, 0.5270820346555075, 0.5025171950505629, 0.5, 0.5039369744330248]}, {\"categories\": [\"0\", \"1\", \"2\", \"3\", \"4\", \"5\", \"6\", \"7\", \"8\", \"9\", \"10\", \"11\", \"12\", \"13\", \"14\", \"15\", \"16\", \"17\", \"18\", \"19\", \"20\", \"21\", \"22\", \"23\", \"24\", \"25\", \"26\", \"27\", \"28\", \"29\", \"30\", \"31\", \"32\", \"33\", \"34\", \"36\", \"37\"], \"mode\": \"lines\", \"name\": \"recall_score_macro_max\", \"stepped\": true, \"type\": \"scatter\", \"data\": [0.5258446333822475, 0.5258446333822475, 0.5258446333822475, 0.5258446333822475, 0.5694848912759759, 0.6166650693416449, 0.6166650693416449, 0.6166650693416449, 0.6166650693416449, 0.6166650693416449, 0.6166650693416449, 0.6166650693416449, 0.6166650693416449, 0.6166650693416449, 0.6166650693416449, 0.6166650693416449, 0.6166650693416449, 0.6166650693416449, 0.6166650693416449, 0.6166650693416449, 0.6166650693416449, 0.6166650693416449, 0.6166650693416449, 0.6166650693416449, 0.6166650693416449, 0.6166650693416449, 0.6166650693416449, 0.6166650693416449, 0.6166650693416449, 0.6166650693416449, 0.6166650693416449, 0.6166650693416449, 0.6166650693416449, 0.6166650693416449, 0.6166650693416449, 0.6166650693416449, 0.6166650693416449]}], \"accuracy\": [{\"categories\": [\"0\", \"1\", \"2\", \"3\", \"4\", \"5\", \"6\", \"7\", \"8\", \"9\", \"10\", \"11\", \"12\", \"13\", \"14\", \"15\", \"16\", \"17\", \"18\", \"19\", \"20\", \"21\", \"22\", \"23\", \"24\", \"25\", \"26\", \"27\", \"28\", \"29\", \"30\", \"31\", \"32\", \"33\", \"34\", \"36\", \"37\"], \"mode\": \"markers\", \"name\": \"accuracy\", \"stepped\": false, \"type\": \"scatter\", \"data\": [0.8320762315843352, 0.8471711290024969, 0.8481155819555264, 0.8481155819555264, 0.47313756246719607, 0.6384406866528327, 0.8476437725665197, 0.6992915852094764, 0.8066043638030772, 0.8426892734769383, 0.8481155819555264, 0.8481155819555264, 0.839151704069406, 0.8431614165359514, 0.8455206303159888, 0.8441052021489682, 0.8481155819555264, 0.8481155819555264, 0.8481155819555264, 0.8481155819555264, 0.8415107510144401, 0.8426897739819478, 0.8481155819555264, 0.8471719631775128, 0.8481155819555264, 0.8481155819555264, 0.8481155819555264, 0.8481155819555264, 0.8457565350104922, 0.8481155819555264, 0.8481155819555264, 0.8481155819555264, 0.8250004254292582, 0.8221722384552681, 0.8455206303159888, 0.8481155819555264, 0.836084442535852]}, {\"categories\": [\"0\", \"1\", \"2\", \"3\", \"4\", \"5\", \"6\", \"7\", \"8\", \"9\", \"10\", \"11\", \"12\", \"13\", \"14\", \"15\", \"16\", \"17\", \"18\", \"19\", \"20\", \"21\", \"22\", \"23\", \"24\", \"25\", \"26\", \"27\", \"28\", \"29\", \"30\", \"31\", \"32\", \"33\", \"34\", \"36\", \"37\"], \"mode\": \"lines\", \"name\": \"accuracy_max\", \"stepped\": true, \"type\": \"scatter\", \"data\": [0.8320762315843352, 0.8471711290024969, 0.8481155819555264, 0.8481155819555264, 0.8481155819555264, 0.8481155819555264, 0.8481155819555264, 0.8481155819555264, 0.8481155819555264, 0.8481155819555264, 0.8481155819555264, 0.8481155819555264, 0.8481155819555264, 0.8481155819555264, 0.8481155819555264, 0.8481155819555264, 0.8481155819555264, 0.8481155819555264, 0.8481155819555264, 0.8481155819555264, 0.8481155819555264, 0.8481155819555264, 0.8481155819555264, 0.8481155819555264, 0.8481155819555264, 0.8481155819555264, 0.8481155819555264, 0.8481155819555264, 0.8481155819555264, 0.8481155819555264, 0.8481155819555264, 0.8481155819555264, 0.8481155819555264, 0.8481155819555264, 0.8481155819555264, 0.8481155819555264, 0.8481155819555264]}], \"norm_macro_recall\": [{\"categories\": [\"0\", \"1\", \"2\", \"3\", \"4\", \"5\", \"6\", \"7\", \"8\", \"9\", \"10\", \"11\", \"12\", \"13\", \"14\", \"15\", \"16\", \"17\", \"18\", \"19\", \"20\", \"21\", \"22\", \"23\", \"24\", \"25\", \"26\", \"27\", \"28\", \"29\", \"30\", \"31\", \"32\", \"33\", \"34\", \"36\", \"37\"], \"mode\": \"markers\", \"name\": \"norm_macro_recall\", \"stepped\": false, \"type\": \"scatter\", \"data\": [0.05168926676449496, 0.023808513086223115, 0.0, 0.0, 0.13896978255195194, 0.23333013868328978, 0.002361335258642683, 0.08767501668004847, 0.08089516415450067, 0.04081274418889961, 0.0, 0.0, 0.03242660482930256, 0.02247478364767937, 0.001501501501501486, 0.0042246276503203894, 0.0, 0.0, 0.0, 0.0, 0.031020767871467052, 0.0062823706661561856, 0.0, 0.0, 0.0, 0.0, 0.0, 0.0, 0.0027231261488188294, 0.0, 0.0, 0.0, 0.04583239409368304, 0.05416406931101525, 0.005034390101125903, 0.0, 0.007873948866049455]}, {\"categories\": [\"0\", \"1\", \"2\", \"3\", \"4\", \"5\", \"6\", \"7\", \"8\", \"9\", \"10\", \"11\", \"12\", \"13\", \"14\", \"15\", \"16\", \"17\", \"18\", \"19\", \"20\", \"21\", \"22\", \"23\", \"24\", \"25\", \"26\", \"27\", \"28\", \"29\", \"30\", \"31\", \"32\", \"33\", \"34\", \"36\", \"37\"], \"mode\": \"lines\", \"name\": \"norm_macro_recall_max\", \"stepped\": true, \"type\": \"scatter\", \"data\": [0.05168926676449496, 0.05168926676449496, 0.05168926676449496, 0.05168926676449496, 0.13896978255195194, 0.23333013868328978, 0.23333013868328978, 0.23333013868328978, 0.23333013868328978, 0.23333013868328978, 0.23333013868328978, 0.23333013868328978, 0.23333013868328978, 0.23333013868328978, 0.23333013868328978, 0.23333013868328978, 0.23333013868328978, 0.23333013868328978, 0.23333013868328978, 0.23333013868328978, 0.23333013868328978, 0.23333013868328978, 0.23333013868328978, 0.23333013868328978, 0.23333013868328978, 0.23333013868328978, 0.23333013868328978, 0.23333013868328978, 0.23333013868328978, 0.23333013868328978, 0.23333013868328978, 0.23333013868328978, 0.23333013868328978, 0.23333013868328978, 0.23333013868328978, 0.23333013868328978, 0.23333013868328978]}], \"AUC_macro\": [{\"categories\": [\"0\", \"1\", \"2\", \"3\", \"4\", \"5\", \"6\", \"7\", \"8\", \"9\", \"10\", \"11\", \"12\", \"13\", \"14\", \"15\", \"16\", \"17\", \"18\", \"19\", \"20\", \"21\", \"22\", \"23\", \"24\", \"25\", \"26\", \"27\", \"28\", \"29\", \"30\", \"31\", \"32\", \"33\", \"34\", \"36\", \"37\"], \"mode\": \"markers\", \"name\": \"AUC_macro\", \"stepped\": false, \"type\": \"scatter\", \"data\": [0.6272491257921978, 0.6719147375349594, 0.6722716111413618, 0.583205536828052, 0.5922842862375158, 0.6612147825114177, 0.6709279243866789, 0.6010812112382972, 0.6227619102047908, 0.6573421647729839, 0.657134644439659, 0.6540991838616019, 0.6488952408559422, 0.6694813111443157, 0.6522645885072239, 0.6521727020629348, 0.6613686616183422, 0.6660805486816693, 0.663515641840804, 0.6548387580455223, 0.6544019128792186, 0.6537792511035636, 0.6643811559744173, 0.6513471399839542, 0.6600050474487473, 0.5, 0.6605771319312711, 0.6584675123436515, 0.6533991818823709, 0.6671650695009529, 0.5, 0.6573060481668777, 0.6136292487631898, 0.64247552555686, 0.6541040082916606, 0.6672641231576245, 0.6671894554517287]}, {\"categories\": [\"0\", \"1\", \"2\", \"3\", \"4\", \"5\", \"6\", \"7\", \"8\", \"9\", \"10\", \"11\", \"12\", \"13\", \"14\", \"15\", \"16\", \"17\", \"18\", \"19\", \"20\", \"21\", \"22\", \"23\", \"24\", \"25\", \"26\", \"27\", \"28\", \"29\", \"30\", \"31\", \"32\", \"33\", \"34\", \"36\", \"37\"], \"mode\": \"lines\", \"name\": \"AUC_macro_max\", \"stepped\": true, \"type\": \"scatter\", \"data\": [0.6272491257921978, 0.6719147375349594, 0.6722716111413618, 0.6722716111413618, 0.6722716111413618, 0.6722716111413618, 0.6722716111413618, 0.6722716111413618, 0.6722716111413618, 0.6722716111413618, 0.6722716111413618, 0.6722716111413618, 0.6722716111413618, 0.6722716111413618, 0.6722716111413618, 0.6722716111413618, 0.6722716111413618, 0.6722716111413618, 0.6722716111413618, 0.6722716111413618, 0.6722716111413618, 0.6722716111413618, 0.6722716111413618, 0.6722716111413618, 0.6722716111413618, 0.6722716111413618, 0.6722716111413618, 0.6722716111413618, 0.6722716111413618, 0.6722716111413618, 0.6722716111413618, 0.6722716111413618, 0.6722716111413618, 0.6722716111413618, 0.6722716111413618, 0.6722716111413618, 0.6722716111413618]}], \"precision_score_micro\": [{\"categories\": [\"0\", \"1\", \"2\", \"3\", \"4\", \"5\", \"6\", \"7\", \"8\", \"9\", \"10\", \"11\", \"12\", \"13\", \"14\", \"15\", \"16\", \"17\", \"18\", \"19\", \"20\", \"21\", \"22\", \"23\", \"24\", \"25\", \"26\", \"27\", \"28\", \"29\", \"30\", \"31\", \"32\", \"33\", \"34\", \"36\", \"37\"], \"mode\": \"markers\", \"name\": \"precision_score_micro\", \"stepped\": false, \"type\": \"scatter\", \"data\": [0.8320762315843352, 0.8471711290024969, 0.8481155819555264, 0.8481155819555264, 0.47313756246719607, 0.6384406866528327, 0.8476437725665197, 0.6992915852094764, 0.8066043638030772, 0.8426892734769383, 0.8481155819555264, 0.8481155819555264, 0.839151704069406, 0.8431614165359514, 0.8455206303159888, 0.8441052021489682, 0.8481155819555264, 0.8481155819555264, 0.8481155819555264, 0.8481155819555264, 0.8415107510144401, 0.8426897739819478, 0.8481155819555264, 0.8471719631775128, 0.8481155819555264, 0.8481155819555264, 0.8481155819555264, 0.8481155819555264, 0.8457565350104922, 0.8481155819555264, 0.8481155819555264, 0.8481155819555264, 0.8250004254292582, 0.8221722384552681, 0.8455206303159888, 0.8481155819555264, 0.836084442535852]}, {\"categories\": [\"0\", \"1\", \"2\", \"3\", \"4\", \"5\", \"6\", \"7\", \"8\", \"9\", \"10\", \"11\", \"12\", \"13\", \"14\", \"15\", \"16\", \"17\", \"18\", \"19\", \"20\", \"21\", \"22\", \"23\", \"24\", \"25\", \"26\", \"27\", \"28\", \"29\", \"30\", \"31\", \"32\", \"33\", \"34\", \"36\", \"37\"], \"mode\": \"lines\", \"name\": \"precision_score_micro_max\", \"stepped\": true, \"type\": \"scatter\", \"data\": [0.8320762315843352, 0.8471711290024969, 0.8481155819555264, 0.8481155819555264, 0.8481155819555264, 0.8481155819555264, 0.8481155819555264, 0.8481155819555264, 0.8481155819555264, 0.8481155819555264, 0.8481155819555264, 0.8481155819555264, 0.8481155819555264, 0.8481155819555264, 0.8481155819555264, 0.8481155819555264, 0.8481155819555264, 0.8481155819555264, 0.8481155819555264, 0.8481155819555264, 0.8481155819555264, 0.8481155819555264, 0.8481155819555264, 0.8481155819555264, 0.8481155819555264, 0.8481155819555264, 0.8481155819555264, 0.8481155819555264, 0.8481155819555264, 0.8481155819555264, 0.8481155819555264, 0.8481155819555264, 0.8481155819555264, 0.8481155819555264, 0.8481155819555264, 0.8481155819555264, 0.8481155819555264]}], \"AUC_weighted\": [{\"categories\": [\"0\", \"1\", \"2\", \"3\", \"4\", \"5\", \"6\", \"7\", \"8\", \"9\", \"10\", \"11\", \"12\", \"13\", \"14\", \"15\", \"16\", \"17\", \"18\", \"19\", \"20\", \"21\", \"22\", \"23\", \"24\", \"25\", \"26\", \"27\", \"28\", \"29\", \"30\", \"31\", \"32\", \"33\", \"34\", \"36\", \"37\"], \"mode\": \"markers\", \"name\": \"AUC_weighted\", \"stepped\": false, \"type\": \"scatter\", \"data\": [0.6272491257921979, 0.6719147375349594, 0.6722716111413618, 0.583205536828052, 0.5922842862375158, 0.6612147825114177, 0.6709279243866789, 0.6010812112382972, 0.6227619102047908, 0.6573421647729839, 0.6571346444396591, 0.654099183861602, 0.6488952408559423, 0.6694813111443157, 0.6522645885072239, 0.6521727020629348, 0.6613686616183422, 0.6660805486816693, 0.6635156418408041, 0.6548387580455224, 0.6544021701141218, 0.6537792511035636, 0.6643811559744174, 0.6513471399839544, 0.6600050474487473, 0.5, 0.660577131931271, 0.6584675123436515, 0.6533991818823708, 0.6671650695009529, 0.5, 0.6573060481668778, 0.6136292487631899, 0.64247552555686, 0.6541040082916606, 0.6672641231576245, 0.6671894554517287]}, {\"categories\": [\"0\", \"1\", \"2\", \"3\", \"4\", \"5\", \"6\", \"7\", \"8\", \"9\", \"10\", \"11\", \"12\", \"13\", \"14\", \"15\", \"16\", \"17\", \"18\", \"19\", \"20\", \"21\", \"22\", \"23\", \"24\", \"25\", \"26\", \"27\", \"28\", \"29\", \"30\", \"31\", \"32\", \"33\", \"34\", \"36\", \"37\"], \"mode\": \"lines\", \"name\": \"AUC_weighted_max\", \"stepped\": true, \"type\": \"scatter\", \"data\": [0.6272491257921979, 0.6719147375349594, 0.6722716111413618, 0.6722716111413618, 0.6722716111413618, 0.6722716111413618, 0.6722716111413618, 0.6722716111413618, 0.6722716111413618, 0.6722716111413618, 0.6722716111413618, 0.6722716111413618, 0.6722716111413618, 0.6722716111413618, 0.6722716111413618, 0.6722716111413618, 0.6722716111413618, 0.6722716111413618, 0.6722716111413618, 0.6722716111413618, 0.6722716111413618, 0.6722716111413618, 0.6722716111413618, 0.6722716111413618, 0.6722716111413618, 0.6722716111413618, 0.6722716111413618, 0.6722716111413618, 0.6722716111413618, 0.6722716111413618, 0.6722716111413618, 0.6722716111413618, 0.6722716111413618, 0.6722716111413618, 0.6722716111413618, 0.6722716111413618, 0.6722716111413618]}], \"recall_score_micro\": [{\"categories\": [\"0\", \"1\", \"2\", \"3\", \"4\", \"5\", \"6\", \"7\", \"8\", \"9\", \"10\", \"11\", \"12\", \"13\", \"14\", \"15\", \"16\", \"17\", \"18\", \"19\", \"20\", \"21\", \"22\", \"23\", \"24\", \"25\", \"26\", \"27\", \"28\", \"29\", \"30\", \"31\", \"32\", \"33\", \"34\", \"36\", \"37\"], \"mode\": \"markers\", \"name\": \"recall_score_micro\", \"stepped\": false, \"type\": \"scatter\", \"data\": [0.8320762315843352, 0.8471711290024969, 0.8481155819555264, 0.8481155819555264, 0.47313756246719607, 0.6384406866528327, 0.8476437725665197, 0.6992915852094764, 0.8066043638030772, 0.8426892734769383, 0.8481155819555264, 0.8481155819555264, 0.839151704069406, 0.8431614165359514, 0.8455206303159888, 0.8441052021489682, 0.8481155819555264, 0.8481155819555264, 0.8481155819555264, 0.8481155819555264, 0.8415107510144401, 0.8426897739819478, 0.8481155819555264, 0.8471719631775128, 0.8481155819555264, 0.8481155819555264, 0.8481155819555264, 0.8481155819555264, 0.8457565350104922, 0.8481155819555264, 0.8481155819555264, 0.8481155819555264, 0.8250004254292582, 0.8221722384552681, 0.8455206303159888, 0.8481155819555264, 0.836084442535852]}, {\"categories\": [\"0\", \"1\", \"2\", \"3\", \"4\", \"5\", \"6\", \"7\", \"8\", \"9\", \"10\", \"11\", \"12\", \"13\", \"14\", \"15\", \"16\", \"17\", \"18\", \"19\", \"20\", \"21\", \"22\", \"23\", \"24\", \"25\", \"26\", \"27\", \"28\", \"29\", \"30\", \"31\", \"32\", \"33\", \"34\", \"36\", \"37\"], \"mode\": \"lines\", \"name\": \"recall_score_micro_max\", \"stepped\": true, \"type\": \"scatter\", \"data\": [0.8320762315843352, 0.8471711290024969, 0.8481155819555264, 0.8481155819555264, 0.8481155819555264, 0.8481155819555264, 0.8481155819555264, 0.8481155819555264, 0.8481155819555264, 0.8481155819555264, 0.8481155819555264, 0.8481155819555264, 0.8481155819555264, 0.8481155819555264, 0.8481155819555264, 0.8481155819555264, 0.8481155819555264, 0.8481155819555264, 0.8481155819555264, 0.8481155819555264, 0.8481155819555264, 0.8481155819555264, 0.8481155819555264, 0.8481155819555264, 0.8481155819555264, 0.8481155819555264, 0.8481155819555264, 0.8481155819555264, 0.8481155819555264, 0.8481155819555264, 0.8481155819555264, 0.8481155819555264, 0.8481155819555264, 0.8481155819555264, 0.8481155819555264, 0.8481155819555264, 0.8481155819555264]}], \"recall_score_weighted\": [{\"categories\": [\"0\", \"1\", \"2\", \"3\", \"4\", \"5\", \"6\", \"7\", \"8\", \"9\", \"10\", \"11\", \"12\", \"13\", \"14\", \"15\", \"16\", \"17\", \"18\", \"19\", \"20\", \"21\", \"22\", \"23\", \"24\", \"25\", \"26\", \"27\", \"28\", \"29\", \"30\", \"31\", \"32\", \"33\", \"34\", \"36\", \"37\"], \"mode\": \"markers\", \"name\": \"recall_score_weighted\", \"stepped\": false, \"type\": \"scatter\", \"data\": [0.8320762315843352, 0.8471711290024969, 0.8481155819555264, 0.8481155819555264, 0.47313756246719607, 0.6384406866528326, 0.8476437725665197, 0.6992915852094764, 0.8066043638030772, 0.8426892734769383, 0.8481155819555264, 0.8481155819555264, 0.839151704069406, 0.8431614165359514, 0.8455206303159888, 0.8441052021489682, 0.8481155819555264, 0.8481155819555264, 0.8481155819555264, 0.8481155819555264, 0.8415107510144401, 0.8426897739819478, 0.8481155819555264, 0.8471719631775128, 0.8481155819555264, 0.8481155819555264, 0.8481155819555264, 0.8481155819555264, 0.8457565350104922, 0.8481155819555264, 0.8481155819555264, 0.8481155819555264, 0.8250004254292582, 0.8221722384552681, 0.8455206303159888, 0.8481155819555264, 0.836084442535852]}, {\"categories\": [\"0\", \"1\", \"2\", \"3\", \"4\", \"5\", \"6\", \"7\", \"8\", \"9\", \"10\", \"11\", \"12\", \"13\", \"14\", \"15\", \"16\", \"17\", \"18\", \"19\", \"20\", \"21\", \"22\", \"23\", \"24\", \"25\", \"26\", \"27\", \"28\", \"29\", \"30\", \"31\", \"32\", \"33\", \"34\", \"36\", \"37\"], \"mode\": \"lines\", \"name\": \"recall_score_weighted_max\", \"stepped\": true, \"type\": \"scatter\", \"data\": [0.8320762315843352, 0.8471711290024969, 0.8481155819555264, 0.8481155819555264, 0.8481155819555264, 0.8481155819555264, 0.8481155819555264, 0.8481155819555264, 0.8481155819555264, 0.8481155819555264, 0.8481155819555264, 0.8481155819555264, 0.8481155819555264, 0.8481155819555264, 0.8481155819555264, 0.8481155819555264, 0.8481155819555264, 0.8481155819555264, 0.8481155819555264, 0.8481155819555264, 0.8481155819555264, 0.8481155819555264, 0.8481155819555264, 0.8481155819555264, 0.8481155819555264, 0.8481155819555264, 0.8481155819555264, 0.8481155819555264, 0.8481155819555264, 0.8481155819555264, 0.8481155819555264, 0.8481155819555264, 0.8481155819555264, 0.8481155819555264, 0.8481155819555264, 0.8481155819555264, 0.8481155819555264]}], \"precision_score_weighted\": [{\"categories\": [\"0\", \"1\", \"2\", \"3\", \"4\", \"5\", \"6\", \"7\", \"8\", \"9\", \"10\", \"11\", \"12\", \"13\", \"14\", \"15\", \"16\", \"17\", \"18\", \"19\", \"20\", \"21\", \"22\", \"23\", \"24\", \"25\", \"26\", \"27\", \"28\", \"29\", \"30\", \"31\", \"32\", \"33\", \"34\", \"36\", \"37\"], \"mode\": \"markers\", \"name\": \"precision_score_weighted\", \"stepped\": false, \"type\": \"scatter\", \"data\": [0.7741441853881125, 0.8035558631912375, 0.719420921315527, 0.719420921315527, 0.7888611358031148, 0.797129165174551, 0.7348389227804802, 0.7627050686285054, 0.7702393987767738, 0.7886524202978409, 0.719420921315527, 0.719420921315527, 0.7787243274471664, 0.7843204783620278, 0.7776124840016646, 0.7645495131440533, 0.719420921315527, 0.719420921315527, 0.719420921315527, 0.719420921315527, 0.7776631270033157, 0.7733972565399224, 0.719420921315527, 0.7193093222496337, 0.719420921315527, 0.719420921315527, 0.719420921315527, 0.719420921315527, 0.7606999848900932, 0.719420921315527, 0.719420921315527, 0.719420921315527, 0.7668529739836537, 0.7671188868308177, 0.7664444155855382, 0.719420921315527, 0.7287028429505905]}, {\"categories\": [\"0\", \"1\", \"2\", \"3\", \"4\", \"5\", \"6\", \"7\", \"8\", \"9\", \"10\", \"11\", \"12\", \"13\", \"14\", \"15\", \"16\", \"17\", \"18\", \"19\", \"20\", \"21\", \"22\", \"23\", \"24\", \"25\", \"26\", \"27\", \"28\", \"29\", \"30\", \"31\", \"32\", \"33\", \"34\", \"36\", \"37\"], \"mode\": \"lines\", \"name\": \"precision_score_weighted_max\", \"stepped\": true, \"type\": \"scatter\", \"data\": [0.7741441853881125, 0.8035558631912375, 0.8035558631912375, 0.8035558631912375, 0.8035558631912375, 0.8035558631912375, 0.8035558631912375, 0.8035558631912375, 0.8035558631912375, 0.8035558631912375, 0.8035558631912375, 0.8035558631912375, 0.8035558631912375, 0.8035558631912375, 0.8035558631912375, 0.8035558631912375, 0.8035558631912375, 0.8035558631912375, 0.8035558631912375, 0.8035558631912375, 0.8035558631912375, 0.8035558631912375, 0.8035558631912375, 0.8035558631912375, 0.8035558631912375, 0.8035558631912375, 0.8035558631912375, 0.8035558631912375, 0.8035558631912375, 0.8035558631912375, 0.8035558631912375, 0.8035558631912375, 0.8035558631912375, 0.8035558631912375, 0.8035558631912375, 0.8035558631912375, 0.8035558631912375]}], \"f1_score_weighted\": [{\"categories\": [\"0\", \"1\", \"2\", \"3\", \"4\", \"5\", \"6\", \"7\", \"8\", \"9\", \"10\", \"11\", \"12\", \"13\", \"14\", \"15\", \"16\", \"17\", \"18\", \"19\", \"20\", \"21\", \"22\", \"23\", \"24\", \"25\", \"26\", \"27\", \"28\", \"29\", \"30\", \"31\", \"32\", \"33\", \"34\", \"36\", \"37\"], \"mode\": \"markers\", \"name\": \"f1_score_weighted\", \"stepped\": false, \"type\": \"scatter\", \"data\": [0.7899484792444041, 0.7864332384466984, 0.7784527258598235, 0.7784527258598235, 0.5101326288477556, 0.6881709886862167, 0.779100598709913, 0.7262980558739862, 0.7851702172896742, 0.7902440235529404, 0.7784527258598235, 0.7784527258598235, 0.7865962473799488, 0.7849650286391391, 0.7784438602526759, 0.7789765299979291, 0.7784527258598235, 0.7784527258598235, 0.7784527258598235, 0.7784527258598235, 0.7862635603895325, 0.779283990376061, 0.7784527258598235, 0.7779827374828865, 0.7784527258598235, 0.7784527258598235, 0.7784527258598235, 0.7784527258598235, 0.779009594856312, 0.7784527258598235, 0.7784527258598235, 0.7784527258598235, 0.7857640364646791, 0.7865440298324663, 0.7797263001865629, 0.7784527258598235, 0.7770165683983953]}, {\"categories\": [\"0\", \"1\", \"2\", \"3\", \"4\", \"5\", \"6\", \"7\", \"8\", \"9\", \"10\", \"11\", \"12\", \"13\", \"14\", \"15\", \"16\", \"17\", \"18\", \"19\", \"20\", \"21\", \"22\", \"23\", \"24\", \"25\", \"26\", \"27\", \"28\", \"29\", \"30\", \"31\", \"32\", \"33\", \"34\", \"36\", \"37\"], \"mode\": \"lines\", \"name\": \"f1_score_weighted_max\", \"stepped\": true, \"type\": \"scatter\", \"data\": [0.7899484792444041, 0.7899484792444041, 0.7899484792444041, 0.7899484792444041, 0.7899484792444041, 0.7899484792444041, 0.7899484792444041, 0.7899484792444041, 0.7899484792444041, 0.7902440235529404, 0.7902440235529404, 0.7902440235529404, 0.7902440235529404, 0.7902440235529404, 0.7902440235529404, 0.7902440235529404, 0.7902440235529404, 0.7902440235529404, 0.7902440235529404, 0.7902440235529404, 0.7902440235529404, 0.7902440235529404, 0.7902440235529404, 0.7902440235529404, 0.7902440235529404, 0.7902440235529404, 0.7902440235529404, 0.7902440235529404, 0.7902440235529404, 0.7902440235529404, 0.7902440235529404, 0.7902440235529404, 0.7902440235529404, 0.7902440235529404, 0.7902440235529404, 0.7902440235529404, 0.7902440235529404]}], \"average_precision_score_micro\": [{\"categories\": [\"0\", \"1\", \"2\", \"3\", \"4\", \"5\", \"6\", \"7\", \"8\", \"9\", \"10\", \"11\", \"12\", \"13\", \"14\", \"15\", \"16\", \"17\", \"18\", \"19\", \"20\", \"21\", \"22\", \"23\", \"24\", \"25\", \"26\", \"27\", \"28\", \"29\", \"30\", \"31\", \"32\", \"33\", \"34\", \"36\", \"37\"], \"mode\": \"markers\", \"name\": \"average_precision_score_micro\", \"stepped\": false, \"type\": \"scatter\", \"data\": [0.8592287392735471, 0.8779004009511157, 0.8795993699353387, 0.8400011334802994, 0.5705202698008479, 0.6601839566875541, 0.8778612241076775, 0.7576255806889339, 0.8480531940888564, 0.8701567432648574, 0.8697779994109617, 0.8703379820332909, 0.8689279850579689, 0.8779226990633434, 0.8713137357765315, 0.8691033583953679, 0.8763201175629168, 0.8797631602325282, 0.8784416970056593, 0.8722188540526052, 0.8722230095007095, 0.8697010447401837, 0.8769417798406002, 0.8689572629480717, 0.8761524219033724, 0.7953631303377638, 0.8728130966600527, 0.8730429005454727, 0.8636868846627803, 0.8792992370808864, 0.7953631303377638, 0.8739769685310508, 0.8532143971419761, 0.8659337953888081, 0.8697348610942606, 0.8771135229824282, 0.8754646498022347]}, {\"categories\": [\"0\", \"1\", \"2\", \"3\", \"4\", \"5\", \"6\", \"7\", \"8\", \"9\", \"10\", \"11\", \"12\", \"13\", \"14\", \"15\", \"16\", \"17\", \"18\", \"19\", \"20\", \"21\", \"22\", \"23\", \"24\", \"25\", \"26\", \"27\", \"28\", \"29\", \"30\", \"31\", \"32\", \"33\", \"34\", \"36\", \"37\"], \"mode\": \"lines\", \"name\": \"average_precision_score_micro_max\", \"stepped\": true, \"type\": \"scatter\", \"data\": [0.8592287392735471, 0.8779004009511157, 0.8795993699353387, 0.8795993699353387, 0.8795993699353387, 0.8795993699353387, 0.8795993699353387, 0.8795993699353387, 0.8795993699353387, 0.8795993699353387, 0.8795993699353387, 0.8795993699353387, 0.8795993699353387, 0.8795993699353387, 0.8795993699353387, 0.8795993699353387, 0.8795993699353387, 0.8797631602325282, 0.8797631602325282, 0.8797631602325282, 0.8797631602325282, 0.8797631602325282, 0.8797631602325282, 0.8797631602325282, 0.8797631602325282, 0.8797631602325282, 0.8797631602325282, 0.8797631602325282, 0.8797631602325282, 0.8797631602325282, 0.8797631602325282, 0.8797631602325282, 0.8797631602325282, 0.8797631602325282, 0.8797631602325282, 0.8797631602325282, 0.8797631602325282]}], \"average_precision_score_macro\": [{\"categories\": [\"0\", \"1\", \"2\", \"3\", \"4\", \"5\", \"6\", \"7\", \"8\", \"9\", \"10\", \"11\", \"12\", \"13\", \"14\", \"15\", \"16\", \"17\", \"18\", \"19\", \"20\", \"21\", \"22\", \"23\", \"24\", \"25\", \"26\", \"27\", \"28\", \"29\", \"30\", \"31\", \"32\", \"33\", \"34\", \"36\", \"37\"], \"mode\": \"markers\", \"name\": \"average_precision_score_macro\", \"stepped\": false, \"type\": \"scatter\", \"data\": [0.5648125926108533, 0.5955597537659437, 0.5874849723387087, 0.5365252122879048, 0.5385945804555883, 0.5840426976158256, 0.5984950184945695, 0.5466791405976384, 0.5586460155178443, 0.5832787384342106, 0.5902962536190882, 0.5877523139177132, 0.5827179261151428, 0.5907047124928774, 0.5897870277873324, 0.5851112066555217, 0.592156623361356, 0.5920871732462657, 0.5923028930536037, 0.5890182500034394, 0.5799839826215365, 0.5875858648674112, 0.5976370887531463, 0.5854200466915233, 0.5875022611454944, 0.5, 0.5872631549370434, 0.5966109874457302, 0.5830301864513672, 0.5953080701306712, 0.5, 0.5869543392731317, 0.5558199998792444, 0.5693309439988186, 0.5927014071046114, 0.5992262949222718, 0.6001169842400641]}, {\"categories\": [\"0\", \"1\", \"2\", \"3\", \"4\", \"5\", \"6\", \"7\", \"8\", \"9\", \"10\", \"11\", \"12\", \"13\", \"14\", \"15\", \"16\", \"17\", \"18\", \"19\", \"20\", \"21\", \"22\", \"23\", \"24\", \"25\", \"26\", \"27\", \"28\", \"29\", \"30\", \"31\", \"32\", \"33\", \"34\", \"36\", \"37\"], \"mode\": \"lines\", \"name\": \"average_precision_score_macro_max\", \"stepped\": true, \"type\": \"scatter\", \"data\": [0.5648125926108533, 0.5955597537659437, 0.5955597537659437, 0.5955597537659437, 0.5955597537659437, 0.5955597537659437, 0.5984950184945695, 0.5984950184945695, 0.5984950184945695, 0.5984950184945695, 0.5984950184945695, 0.5984950184945695, 0.5984950184945695, 0.5984950184945695, 0.5984950184945695, 0.5984950184945695, 0.5984950184945695, 0.5984950184945695, 0.5984950184945695, 0.5984950184945695, 0.5984950184945695, 0.5984950184945695, 0.5984950184945695, 0.5984950184945695, 0.5984950184945695, 0.5984950184945695, 0.5984950184945695, 0.5984950184945695, 0.5984950184945695, 0.5984950184945695, 0.5984950184945695, 0.5984950184945695, 0.5984950184945695, 0.5984950184945695, 0.5984950184945695, 0.5992262949222718, 0.6001169842400641]}], \"f1_score_micro\": [{\"categories\": [\"0\", \"1\", \"2\", \"3\", \"4\", \"5\", \"6\", \"7\", \"8\", \"9\", \"10\", \"11\", \"12\", \"13\", \"14\", \"15\", \"16\", \"17\", \"18\", \"19\", \"20\", \"21\", \"22\", \"23\", \"24\", \"25\", \"26\", \"27\", \"28\", \"29\", \"30\", \"31\", \"32\", \"33\", \"34\", \"36\", \"37\"], \"mode\": \"markers\", \"name\": \"f1_score_micro\", \"stepped\": false, \"type\": \"scatter\", \"data\": [0.8320762315843352, 0.8471711290024969, 0.8481155819555264, 0.8481155819555264, 0.47313756246719607, 0.6384406866528327, 0.8476437725665197, 0.6992915852094764, 0.8066043638030772, 0.8426892734769383, 0.8481155819555264, 0.8481155819555264, 0.839151704069406, 0.8431614165359514, 0.8455206303159888, 0.8441052021489682, 0.8481155819555264, 0.8481155819555264, 0.8481155819555264, 0.8481155819555264, 0.8415107510144401, 0.8426897739819478, 0.8481155819555264, 0.8471719631775128, 0.8481155819555264, 0.8481155819555264, 0.8481155819555264, 0.8481155819555264, 0.8457565350104922, 0.8481155819555264, 0.8481155819555264, 0.8481155819555264, 0.8250004254292582, 0.8221722384552681, 0.8455206303159888, 0.8481155819555264, 0.836084442535852]}, {\"categories\": [\"0\", \"1\", \"2\", \"3\", \"4\", \"5\", \"6\", \"7\", \"8\", \"9\", \"10\", \"11\", \"12\", \"13\", \"14\", \"15\", \"16\", \"17\", \"18\", \"19\", \"20\", \"21\", \"22\", \"23\", \"24\", \"25\", \"26\", \"27\", \"28\", \"29\", \"30\", \"31\", \"32\", \"33\", \"34\", \"36\", \"37\"], \"mode\": \"lines\", \"name\": \"f1_score_micro_max\", \"stepped\": true, \"type\": \"scatter\", \"data\": [0.8320762315843352, 0.8471711290024969, 0.8481155819555264, 0.8481155819555264, 0.8481155819555264, 0.8481155819555264, 0.8481155819555264, 0.8481155819555264, 0.8481155819555264, 0.8481155819555264, 0.8481155819555264, 0.8481155819555264, 0.8481155819555264, 0.8481155819555264, 0.8481155819555264, 0.8481155819555264, 0.8481155819555264, 0.8481155819555264, 0.8481155819555264, 0.8481155819555264, 0.8481155819555264, 0.8481155819555264, 0.8481155819555264, 0.8481155819555264, 0.8481155819555264, 0.8481155819555264, 0.8481155819555264, 0.8481155819555264, 0.8481155819555264, 0.8481155819555264, 0.8481155819555264, 0.8481155819555264, 0.8481155819555264, 0.8481155819555264, 0.8481155819555264, 0.8481155819555264, 0.8481155819555264]}], \"precision_score_macro\": [{\"categories\": [\"0\", \"1\", \"2\", \"3\", \"4\", \"5\", \"6\", \"7\", \"8\", \"9\", \"10\", \"11\", \"12\", \"13\", \"14\", \"15\", \"16\", \"17\", \"18\", \"19\", \"20\", \"21\", \"22\", \"23\", \"24\", \"25\", \"26\", \"27\", \"28\", \"29\", \"30\", \"31\", \"32\", \"33\", \"34\", \"36\", \"37\"], \"mode\": \"markers\", \"name\": \"precision_score_macro\", \"stepped\": false, \"type\": \"scatter\", \"data\": [0.5852318687019866, 0.6858798201743701, 0.4240577909777632, 0.4240577909777632, 0.5462027238494471, 0.5638632082515104, 0.47975317916673443, 0.5307197325726718, 0.5641681507721308, 0.6349241974517636, 0.4240577909777632, 0.4240577909777632, 0.6061179346735447, 0.6257673397664747, 0.6116351606027381, 0.5692885166522275, 0.4240577909777632, 0.4240577909777632, 0.4240577909777632, 0.4240577909777632, 0.6051220152838194, 0.5957484747638812, 0.4240577909777632, 0.4239931641416537, 0.4240577909777632, 0.4240577909777632, 0.4240577909777632, 0.4240577909777632, 0.5575659955862134, 0.4240577909777632, 0.4240577909777632, 0.4240577909777632, 0.5642404172161885, 0.5641198386544005, 0.5757025038361477, 0.4240577909777632, 0.4554145192559352]}, {\"categories\": [\"0\", \"1\", \"2\", \"3\", \"4\", \"5\", \"6\", \"7\", \"8\", \"9\", \"10\", \"11\", \"12\", \"13\", \"14\", \"15\", \"16\", \"17\", \"18\", \"19\", \"20\", \"21\", \"22\", \"23\", \"24\", \"25\", \"26\", \"27\", \"28\", \"29\", \"30\", \"31\", \"32\", \"33\", \"34\", \"36\", \"37\"], \"mode\": \"lines\", \"name\": \"precision_score_macro_max\", \"stepped\": true, \"type\": \"scatter\", \"data\": [0.5852318687019866, 0.6858798201743701, 0.6858798201743701, 0.6858798201743701, 0.6858798201743701, 0.6858798201743701, 0.6858798201743701, 0.6858798201743701, 0.6858798201743701, 0.6858798201743701, 0.6858798201743701, 0.6858798201743701, 0.6858798201743701, 0.6858798201743701, 0.6858798201743701, 0.6858798201743701, 0.6858798201743701, 0.6858798201743701, 0.6858798201743701, 0.6858798201743701, 0.6858798201743701, 0.6858798201743701, 0.6858798201743701, 0.6858798201743701, 0.6858798201743701, 0.6858798201743701, 0.6858798201743701, 0.6858798201743701, 0.6858798201743701, 0.6858798201743701, 0.6858798201743701, 0.6858798201743701, 0.6858798201743701, 0.6858798201743701, 0.6858798201743701, 0.6858798201743701, 0.6858798201743701]}], \"matthews_correlation\": [{\"categories\": [\"0\", \"1\", \"2\", \"3\", \"4\", \"5\", \"6\", \"7\", \"8\", \"9\", \"10\", \"11\", \"12\", \"13\", \"14\", \"15\", \"16\", \"17\", \"18\", \"19\", \"20\", \"21\", \"22\", \"23\", \"24\", \"25\", \"26\", \"27\", \"28\", \"29\", \"30\", \"31\", \"32\", \"33\", \"34\", \"36\", \"37\"], \"mode\": \"markers\", \"name\": \"matthews_correlation\", \"stepped\": false, \"type\": \"scatter\", \"data\": [0.09364822094370161, 0.0918049936561393, 0.0, 0.0, 0.11331811555785577, 0.17260808173012746, 0.012470777990824652, 0.0733734005102188, 0.1018333420206089, 0.10403953612470819, 0.0, 0.0, 0.08119977595153667, 0.07343197524303717, 0.019342814233086914, 0.026774796459679197, 0.0, 0.0, 0.0, 0.0, 0.07699786729191806, 0.028037062926842025, 0.0, -0.007064021031055217, 0.0, 0.0, 0.0, 0.0, 0.021201983627814888, 0.0, 0.0, 0.0, 0.0763484492906688, 0.08327257368461917, 0.031350181234773934, 0.0, 0.011632057440287285]}, {\"categories\": [\"0\", \"1\", \"2\", \"3\", \"4\", \"5\", \"6\", \"7\", \"8\", \"9\", \"10\", \"11\", \"12\", \"13\", \"14\", \"15\", \"16\", \"17\", \"18\", \"19\", \"20\", \"21\", \"22\", \"23\", \"24\", \"25\", \"26\", \"27\", \"28\", \"29\", \"30\", \"31\", \"32\", \"33\", \"34\", \"36\", \"37\"], \"mode\": \"lines\", \"name\": \"matthews_correlation_max\", \"stepped\": true, \"type\": \"scatter\", \"data\": [0.09364822094370161, 0.09364822094370161, 0.09364822094370161, 0.09364822094370161, 0.11331811555785577, 0.17260808173012746, 0.17260808173012746, 0.17260808173012746, 0.17260808173012746, 0.17260808173012746, 0.17260808173012746, 0.17260808173012746, 0.17260808173012746, 0.17260808173012746, 0.17260808173012746, 0.17260808173012746, 0.17260808173012746, 0.17260808173012746, 0.17260808173012746, 0.17260808173012746, 0.17260808173012746, 0.17260808173012746, 0.17260808173012746, 0.17260808173012746, 0.17260808173012746, 0.17260808173012746, 0.17260808173012746, 0.17260808173012746, 0.17260808173012746, 0.17260808173012746, 0.17260808173012746, 0.17260808173012746, 0.17260808173012746, 0.17260808173012746, 0.17260808173012746, 0.17260808173012746, 0.17260808173012746]}], \"log_loss\": [{\"categories\": [\"0\", \"1\", \"2\", \"3\", \"4\", \"5\", \"6\", \"7\", \"8\", \"9\", \"10\", \"11\", \"12\", \"13\", \"14\", \"15\", \"16\", \"17\", \"18\", \"19\", \"20\", \"21\", \"22\", \"23\", \"24\", \"25\", \"26\", \"27\", \"28\", \"29\", \"30\", \"31\", \"32\", \"33\", \"34\", \"36\", \"37\"], \"mode\": \"markers\", \"name\": \"log_loss\", \"stepped\": false, \"type\": \"scatter\", \"data\": [0.460055263397241, 0.4036267085056564, 0.4118336101823044, 0.4249081413540374, 0.6912972078574692, 0.6683531885194571, 0.4040728321318667, 0.7876220597561931, 0.5311062498704716, 0.4539037572655961, 0.40773758364419127, 0.40844842823852634, 0.4160630637391285, 0.4048244424574344, 0.4080993511857291, 0.4101818451536259, 0.407045918926426, 0.40535696491882606, 0.4060935249026862, 0.4139527604312569, 0.4114521509758815, 0.41097179779558807, 0.404253474696257, 0.4081493024077781, 0.40787418600332015, 0.42652937105406447, 0.4064261481203599, 0.4060024008766698, 0.4566614515511707, 0.4056268801398302, 0.426580776306344, 0.4077927516146571, 0.5134660682814256, 0.45874588150168033, 0.40802404358165917, 0.4065231485707801, 0.4297077603598483]}, {\"categories\": [\"0\", \"1\", \"2\", \"3\", \"4\", \"5\", \"6\", \"7\", \"8\", \"9\", \"10\", \"11\", \"12\", \"13\", \"14\", \"15\", \"16\", \"17\", \"18\", \"19\", \"20\", \"21\", \"22\", \"23\", \"24\", \"25\", \"26\", \"27\", \"28\", \"29\", \"30\", \"31\", \"32\", \"33\", \"34\", \"36\", \"37\"], \"mode\": \"lines\", \"name\": \"log_loss_min\", \"stepped\": true, \"type\": \"scatter\", \"data\": [0.460055263397241, 0.4036267085056564, 0.4036267085056564, 0.4036267085056564, 0.4036267085056564, 0.4036267085056564, 0.4036267085056564, 0.4036267085056564, 0.4036267085056564, 0.4036267085056564, 0.4036267085056564, 0.4036267085056564, 0.4036267085056564, 0.4036267085056564, 0.4036267085056564, 0.4036267085056564, 0.4036267085056564, 0.4036267085056564, 0.4036267085056564, 0.4036267085056564, 0.4036267085056564, 0.4036267085056564, 0.4036267085056564, 0.4036267085056564, 0.4036267085056564, 0.4036267085056564, 0.4036267085056564, 0.4036267085056564, 0.4036267085056564, 0.4036267085056564, 0.4036267085056564, 0.4036267085056564, 0.4036267085056564, 0.4036267085056564, 0.4036267085056564, 0.4036267085056564, 0.4036267085056564]}], \"average_precision_score_weighted\": [{\"categories\": [\"0\", \"1\", \"2\", \"3\", \"4\", \"5\", \"6\", \"7\", \"8\", \"9\", \"10\", \"11\", \"12\", \"13\", \"14\", \"15\", \"16\", \"17\", \"18\", \"19\", \"20\", \"21\", \"22\", \"23\", \"24\", \"25\", \"26\", \"27\", \"28\", \"29\", \"30\", \"31\", \"32\", \"33\", \"34\", \"36\", \"37\"], \"mode\": \"markers\", \"name\": \"average_precision_score_weighted\", \"stepped\": false, \"type\": \"scatter\", \"data\": [0.7941525642384558, 0.8146818351804374, 0.8135380276993169, 0.7729780157363568, 0.7756377885102541, 0.8103360250353662, 0.8157303379919338, 0.7836227087924735, 0.7925074556018297, 0.8066030870389325, 0.8070626267423316, 0.8069117779713859, 0.8051366597924625, 0.8133897939273265, 0.8084391714043573, 0.805272647147746, 0.8127649934146138, 0.8154664569261442, 0.8145540380766466, 0.8088379077335114, 0.8065449732847499, 0.8063270938350556, 0.8149040016907638, 0.805070694141535, 0.8113922753825871, 0.7426106787200014, 0.8084219204027424, 0.8115208340719618, 0.8025312141813453, 0.8159440024107084, 0.7426106787200014, 0.8094994513697329, 0.7889390736381513, 0.8021146558742728, 0.8078786745181002, 0.8153239748985782, 0.8151499215782451]}, {\"categories\": [\"0\", \"1\", \"2\", \"3\", \"4\", \"5\", \"6\", \"7\", \"8\", \"9\", \"10\", \"11\", \"12\", \"13\", \"14\", \"15\", \"16\", \"17\", \"18\", \"19\", \"20\", \"21\", \"22\", \"23\", \"24\", \"25\", \"26\", \"27\", \"28\", \"29\", \"30\", \"31\", \"32\", \"33\", \"34\", \"36\", \"37\"], \"mode\": \"lines\", \"name\": \"average_precision_score_weighted_max\", \"stepped\": true, \"type\": \"scatter\", \"data\": [0.7941525642384558, 0.8146818351804374, 0.8146818351804374, 0.8146818351804374, 0.8146818351804374, 0.8146818351804374, 0.8157303379919338, 0.8157303379919338, 0.8157303379919338, 0.8157303379919338, 0.8157303379919338, 0.8157303379919338, 0.8157303379919338, 0.8157303379919338, 0.8157303379919338, 0.8157303379919338, 0.8157303379919338, 0.8157303379919338, 0.8157303379919338, 0.8157303379919338, 0.8157303379919338, 0.8157303379919338, 0.8157303379919338, 0.8157303379919338, 0.8157303379919338, 0.8157303379919338, 0.8157303379919338, 0.8157303379919338, 0.8157303379919338, 0.8159440024107084, 0.8159440024107084, 0.8159440024107084, 0.8159440024107084, 0.8159440024107084, 0.8159440024107084, 0.8159440024107084, 0.8159440024107084]}], \"AUC_micro\": [{\"categories\": [\"0\", \"1\", \"2\", \"3\", \"4\", \"5\", \"6\", \"7\", \"8\", \"9\", \"10\", \"11\", \"12\", \"13\", \"14\", \"15\", \"16\", \"17\", \"18\", \"19\", \"20\", \"21\", \"22\", \"23\", \"24\", \"25\", \"26\", \"27\", \"28\", \"29\", \"30\", \"31\", \"32\", \"33\", \"34\", \"36\", \"37\"], \"mode\": \"markers\", \"name\": \"AUC_micro\", \"stepped\": false, \"type\": \"scatter\", \"data\": [0.8779753656837449, 0.8925347722983045, 0.8926838366666904, 0.869791414663177, 0.5089143705923039, 0.6841915144297381, 0.8925753967204461, 0.7709561440036307, 0.8639749678894516, 0.8882950728536826, 0.8889864725118753, 0.8882499104241287, 0.8857429080589374, 0.8916291443445129, 0.887608926817701, 0.887469470601618, 0.8901090748414764, 0.8912575905424623, 0.8905606212377265, 0.8883556860261054, 0.8873025104156081, 0.8878145590659777, 0.8908393347898383, 0.8873985805201889, 0.8896961935730067, 0.8481155819555265, 0.8898605485180423, 0.8893195150373776, 0.887986952485638, 0.891485408192961, 0.8481155819555265, 0.8890692687256748, 0.8718962868528254, 0.8791693761860057, 0.8880063201636444, 0.8915940411181067, 0.8902268774974703]}, {\"categories\": [\"0\", \"1\", \"2\", \"3\", \"4\", \"5\", \"6\", \"7\", \"8\", \"9\", \"10\", \"11\", \"12\", \"13\", \"14\", \"15\", \"16\", \"17\", \"18\", \"19\", \"20\", \"21\", \"22\", \"23\", \"24\", \"25\", \"26\", \"27\", \"28\", \"29\", \"30\", \"31\", \"32\", \"33\", \"34\", \"36\", \"37\"], \"mode\": \"lines\", \"name\": \"AUC_micro_max\", \"stepped\": true, \"type\": \"scatter\", \"data\": [0.8779753656837449, 0.8925347722983045, 0.8926838366666904, 0.8926838366666904, 0.8926838366666904, 0.8926838366666904, 0.8926838366666904, 0.8926838366666904, 0.8926838366666904, 0.8926838366666904, 0.8926838366666904, 0.8926838366666904, 0.8926838366666904, 0.8926838366666904, 0.8926838366666904, 0.8926838366666904, 0.8926838366666904, 0.8926838366666904, 0.8926838366666904, 0.8926838366666904, 0.8926838366666904, 0.8926838366666904, 0.8926838366666904, 0.8926838366666904, 0.8926838366666904, 0.8926838366666904, 0.8926838366666904, 0.8926838366666904, 0.8926838366666904, 0.8926838366666904, 0.8926838366666904, 0.8926838366666904, 0.8926838366666904, 0.8926838366666904, 0.8926838366666904, 0.8926838366666904, 0.8926838366666904]}]}, \"metricName\": null, \"primaryMetricName\": \"accuracy\", \"showLegend\": false}, \"run_metrics\": [{\"name\": \"experiment_status\", \"run_id\": \"AutoML_5238a037-67da-4b30-9b8d-2fe223a39bf6\", \"categories\": [0, 1, 2, 3, 4, 5, 6, 7, 8, 9, 10, 11, 12, 13, 14], \"series\": [{\"data\": [\"DatasetEvaluation\", \"FeaturesGeneration\", \"DatasetFeaturization\", \"DatasetFeaturizationCompleted\", \"DatasetBalancing\", \"DatasetCrossValidationSplit\", \"ModelSelection\", \"BestRunExplainModel\", \"ModelExplanationDataSetSetup\", \"PickSurrogateModel\", \"EngineeredFeatureExplanations\", \"EngineeredFeatureExplanations\", \"RawFeaturesExplanations\", \"RawFeaturesExplanations\", \"BestRunExplainModel\"]}]}, {\"name\": \"experiment_status_description\", \"run_id\": \"AutoML_5238a037-67da-4b30-9b8d-2fe223a39bf6\", \"categories\": [0, 1, 2, 3, 4, 5, 6, 7, 8, 9, 10, 11, 12, 13, 14], \"series\": [{\"data\": [\"Gathering dataset statistics.\", \"Generating features for the dataset.\", \"Beginning to fit featurizers and featurize the dataset.\", \"Completed fit featurizers and featurizing the dataset.\", \"Performing class balancing sweeping\", \"Generating individually featurized CV splits.\", \"Beginning model selection.\", \"Best run model explanations started\", \"Model explanations data setup completed\", \"Choosing LinearModel as the surrogate model for explanations\", \"Computation of engineered features started\", \"Computation of engineered features completed\", \"Computation of raw features started\", \"Computation of raw features completed\", \"Best run model explanations completed\"]}]}, {\"name\": \"log_loss\", \"run_id\": \"AutoML_5238a037-67da-4b30-9b8d-2fe223a39bf6\", \"categories\": [0], \"series\": [{\"data\": [0.4118336101823044]}]}, {\"name\": \"AUC_macro\", \"run_id\": \"AutoML_5238a037-67da-4b30-9b8d-2fe223a39bf6\", \"categories\": [0], \"series\": [{\"data\": [0.6722716111413618]}]}, {\"name\": \"average_precision_score_micro\", \"run_id\": \"AutoML_5238a037-67da-4b30-9b8d-2fe223a39bf6\", \"categories\": [0], \"series\": [{\"data\": [0.8795993699353387]}]}, {\"name\": \"precision_score_micro\", \"run_id\": \"AutoML_5238a037-67da-4b30-9b8d-2fe223a39bf6\", \"categories\": [0], \"series\": [{\"data\": [0.8481155819555264]}]}, {\"name\": \"AUC_micro\", \"run_id\": \"AutoML_5238a037-67da-4b30-9b8d-2fe223a39bf6\", \"categories\": [0], \"series\": [{\"data\": [0.8926838366666904]}]}, {\"name\": \"recall_score_weighted\", \"run_id\": \"AutoML_5238a037-67da-4b30-9b8d-2fe223a39bf6\", \"categories\": [0], \"series\": [{\"data\": [0.8481155819555264]}]}, {\"name\": \"matthews_correlation\", \"run_id\": \"AutoML_5238a037-67da-4b30-9b8d-2fe223a39bf6\", \"categories\": [0], \"series\": [{\"data\": [0.0]}]}, {\"name\": \"f1_score_micro\", \"run_id\": \"AutoML_5238a037-67da-4b30-9b8d-2fe223a39bf6\", \"categories\": [0], \"series\": [{\"data\": [0.8481155819555264]}]}, {\"name\": \"accuracy\", \"run_id\": \"AutoML_5238a037-67da-4b30-9b8d-2fe223a39bf6\", \"categories\": [0], \"series\": [{\"data\": [0.8481155819555264]}]}, {\"name\": \"balanced_accuracy\", \"run_id\": \"AutoML_5238a037-67da-4b30-9b8d-2fe223a39bf6\", \"categories\": [0], \"series\": [{\"data\": [0.5]}]}, {\"name\": \"norm_macro_recall\", \"run_id\": \"AutoML_5238a037-67da-4b30-9b8d-2fe223a39bf6\", \"categories\": [0], \"series\": [{\"data\": [0.0]}]}, {\"name\": \"f1_score_weighted\", \"run_id\": \"AutoML_5238a037-67da-4b30-9b8d-2fe223a39bf6\", \"categories\": [0], \"series\": [{\"data\": [0.7784527258598235]}]}, {\"name\": \"weighted_accuracy\", \"run_id\": \"AutoML_5238a037-67da-4b30-9b8d-2fe223a39bf6\", \"categories\": [0], \"series\": [{\"data\": [0.9686688438245291]}]}, {\"name\": \"precision_score_macro\", \"run_id\": \"AutoML_5238a037-67da-4b30-9b8d-2fe223a39bf6\", \"categories\": [0], \"series\": [{\"data\": [0.4240577909777632]}]}, {\"name\": \"precision_score_weighted\", \"run_id\": \"AutoML_5238a037-67da-4b30-9b8d-2fe223a39bf6\", \"categories\": [0], \"series\": [{\"data\": [0.719420921315527]}]}, {\"name\": \"average_precision_score_weighted\", \"run_id\": \"AutoML_5238a037-67da-4b30-9b8d-2fe223a39bf6\", \"categories\": [0], \"series\": [{\"data\": [0.8135380276993169]}]}, {\"name\": \"AUC_weighted\", \"run_id\": \"AutoML_5238a037-67da-4b30-9b8d-2fe223a39bf6\", \"categories\": [0], \"series\": [{\"data\": [0.6722716111413618]}]}, {\"name\": \"recall_score_micro\", \"run_id\": \"AutoML_5238a037-67da-4b30-9b8d-2fe223a39bf6\", \"categories\": [0], \"series\": [{\"data\": [0.8481155819555264]}]}, {\"name\": \"average_precision_score_macro\", \"run_id\": \"AutoML_5238a037-67da-4b30-9b8d-2fe223a39bf6\", \"categories\": [0], \"series\": [{\"data\": [0.5874849723387087]}]}, {\"name\": \"recall_score_macro\", \"run_id\": \"AutoML_5238a037-67da-4b30-9b8d-2fe223a39bf6\", \"categories\": [0], \"series\": [{\"data\": [0.5]}]}, {\"name\": \"f1_score_macro\", \"run_id\": \"AutoML_5238a037-67da-4b30-9b8d-2fe223a39bf6\", \"categories\": [0], \"series\": [{\"data\": [0.4588892190256147]}]}], \"run_logs\": \"\\nRun is completed.\", \"graph\": {}, \"widget_settings\": {\"childWidgetDisplay\": \"popup\", \"send_telemetry\": false, \"log_level\": \"INFO\", \"sdk_version\": \"1.26.0\"}, \"loading\": false}"
          },
          "metadata": {}
        }
      ],
      "execution_count": 9,
      "metadata": {
        "gather": {
          "logged": 1618271918612
        },
        "jupyter": {
          "outputs_hidden": false,
          "source_hidden": false
        },
        "nteract": {
          "transient": {
            "deleting": false
          }
        }
      }
    },
    {
      "cell_type": "code",
      "source": [
        "remote_run.wait_for_completion(show_output=True)"
      ],
      "outputs": [
        {
          "output_type": "display_data",
          "data": {
            "text/plain": "<IPython.core.display.HTML object>",
            "text/html": "<table style=\"width:100%\"><tr><th>Experiment</th><th>Id</th><th>Type</th><th>Status</th><th>Details Page</th><th>Docs Page</th></tr><tr><td>Framingham-Experiment</td><td>AutoML_5238a037-67da-4b30-9b8d-2fe223a39bf6</td><td>automl</td><td>Completed</td><td><a href=\"https://ml.azure.com/runs/AutoML_5238a037-67da-4b30-9b8d-2fe223a39bf6?wsid=/subscriptions/48a74bb7-9950-4cc1-9caa-5d50f995cc55/resourcegroups/aml-quickstarts-142522/workspaces/quick-starts-ws-142522&amp;tid=660b3398-b80e-49d2-bc5b-ac1dc93b5254\" target=\"_blank\" rel=\"noopener\">Link to Azure Machine Learning studio</a></td><td><a href=\"https://docs.microsoft.com/en-us/python/api/overview/azure/ml/intro?view=azure-ml-py\" target=\"_blank\" rel=\"noopener\">Link to Documentation</a></td></tr></table>"
          },
          "metadata": {}
        },
        {
          "output_type": "stream",
          "name": "stdout",
          "text": [
            "\n",
            "\n",
            "****************************************************************************************************\n",
            "DATA GUARDRAILS: \n",
            "\n",
            "TYPE:         Cross validation\n",
            "STATUS:       DONE\n",
            "DESCRIPTION:  Each iteration of the trained model was validated through cross-validation.\n",
            "              \n",
            "DETAILS:      \n",
            "+---------------------------------+\n",
            "|Number of folds                  |\n",
            "+=================================+\n",
            "|3                                |\n",
            "+---------------------------------+\n",
            "\n",
            "****************************************************************************************************\n",
            "\n",
            "TYPE:         Class balancing detection\n",
            "STATUS:       ALERTED\n",
            "DESCRIPTION:  To decrease model bias, please cancel the current run and fix balancing problem.\n",
            "              Learn more about imbalanced data: https://aka.ms/AutomatedMLImbalancedData\n",
            "DETAILS:      Imbalanced data can lead to a falsely perceived positive effect of a model's accuracy because the input data has bias towards one class.\n",
            "+---------------------------------+---------------------------------+--------------------------------------+\n",
            "|Size of the smallest class       |Name/Label of the smallest class |Number of samples in the training data|\n",
            "+=================================+=================================+======================================+\n",
            "|644                              |1                                |4240                                  |\n",
            "+---------------------------------+---------------------------------+--------------------------------------+\n",
            "\n",
            "****************************************************************************************************\n",
            "\n",
            "TYPE:         Missing feature values imputation\n",
            "STATUS:       DONE\n",
            "DESCRIPTION:  If the missing values are expected, let the run complete. Otherwise cancel the current run and use a script to customize the handling of missing feature values that may be more appropriate based on the data type and business requirement.\n",
            "              Learn more about missing value imputation: https://aka.ms/AutomatedMLFeaturization\n",
            "DETAILS:      \n",
            "+---------------------------------+---------------------------------+---------------------------------+\n",
            "|Column name                      |Missing value count              |Imputation type                  |\n",
            "+=================================+=================================+=================================+\n",
            "|heartRate                        |1                                |mean                             |\n",
            "+---------------------------------+---------------------------------+---------------------------------+\n",
            "\n",
            "****************************************************************************************************\n",
            "\n",
            "TYPE:         High cardinality feature detection\n",
            "STATUS:       DONE\n",
            "DESCRIPTION:  High cardinality features were detected in your inputs and handled.\n",
            "              Learn more about high cardinality feature handling: https://aka.ms/AutomatedMLFeaturization\n",
            "DETAILS:      High cardinality features refer to columns that contain a large percentage of unique values.\n",
            "+---------------------------------+---------------------------------+\n",
            "|Column name                      |Column Content Type              |\n",
            "+=================================+=================================+\n",
            "|totChol                          |categorical_hash                 |\n",
            "|BMI                              |categorical_hash                 |\n",
            "+---------------------------------+---------------------------------+\n",
            "\n",
            "****************************************************************************************************\n",
            "\n",
            "****************************************************************************************************\n",
            "ITERATION: The iteration being evaluated.\n",
            "PIPELINE: A summary description of the pipeline being evaluated.\n",
            "DURATION: Time taken for the current iteration.\n",
            "METRIC: The result of computing score on the fitted pipeline.\n",
            "BEST: The best observed score thus far.\n",
            "****************************************************************************************************\n",
            "\n",
            " ITERATION   PIPELINE                                       DURATION      METRIC      BEST\n",
            "         0   MaxAbsScaler LightGBM                          0:00:43       0.8321    0.8321\n",
            "         1   MaxAbsScaler XGBoostClassifier                 0:00:50       0.8472    0.8472\n",
            "         2   MaxAbsScaler RandomForest                      0:00:41       0.8481    0.8481\n",
            "         3   MaxAbsScaler RandomForest                      0:01:53       0.8481    0.8481\n",
            "         4   MaxAbsScaler RandomForest                      0:03:18       0.4731    0.8481\n",
            "         5   MaxAbsScaler RandomForest                      0:03:15       0.6384    0.8481\n",
            "         6   StandardScalerWrapper XGBoostClassifier        0:00:49       0.8476    0.8481\n",
            "         7   MaxAbsScaler LogisticRegression                0:00:43       0.6993    0.8481\n",
            "        10   SparseNormalizer GradientBoosting              0:00:49       0.8481    0.8481\n",
            "        11   MaxAbsScaler RandomForest                      0:00:49       0.8481    0.8481\n",
            "         8   MaxAbsScaler LogisticRegression                0:00:43       0.8066    0.8481\n",
            "         9   SparseNormalizer XGBoostClassifier             0:00:49       0.8427    0.8481\n",
            "        12   SparseNormalizer XGBoostClassifier             0:00:51       0.8392    0.8481\n",
            "        13   SparseNormalizer XGBoostClassifier             0:00:53       0.8432    0.8481\n",
            "        14   StandardScalerWrapper LightGBM                 0:00:40       0.8455    0.8481\n",
            "        15   MaxAbsScaler LightGBM                          0:00:47       0.8441    0.8481\n",
            "        16   StandardScalerWrapper RandomForest             0:00:44       0.8481    0.8481\n",
            "        17   MaxAbsScaler ExtremeRandomTrees                0:00:39       0.8481    0.8481\n",
            "        18   MaxAbsScaler ExtremeRandomTrees                0:00:41       0.8481    0.8481\n",
            "        19   StandardScalerWrapper LightGBM                 0:00:44       0.8481    0.8481\n",
            "        20   SparseNormalizer XGBoostClassifier             0:00:45       0.8415    0.8481\n",
            "        21   SparseNormalizer LightGBM                      0:00:40       0.8427    0.8481\n",
            "        22   StandardScalerWrapper LightGBM                 0:00:40       0.8481    0.8481\n",
            "        23   StandardScalerWrapper LightGBM                 0:00:49       0.8472    0.8481\n",
            "        24   StandardScalerWrapper ExtremeRandomTrees       0:00:56       0.8481    0.8481\n",
            "        25   TruncatedSVDWrapper RandomForest               0:00:47       0.8481    0.8481\n",
            "        26   MaxAbsScaler RandomForest                      0:00:43       0.8481    0.8481\n",
            "        27   SparseNormalizer RandomForest                  0:00:46       0.8481    0.8481\n",
            "        28   SparseNormalizer XGBoostClassifier             0:00:43       0.8458    0.8481\n",
            "        29   SparseNormalizer ExtremeRandomTrees            0:00:40       0.8481    0.8481\n",
            "        30   MaxAbsScaler RandomForest                      0:00:50       0.8481    0.8481\n",
            "        31   MaxAbsScaler LightGBM                          0:00:44       0.8481    0.8481\n",
            "        32   StandardScalerWrapper XGBoostClassifier        0:00:54       0.8250    0.8481\n",
            "        33   StandardScalerWrapper XGBoostClassifier        0:00:43       0.8222    0.8481\n",
            "        34   MaxAbsScaler LightGBM                          0:00:34       0.8455    0.8481\n",
            "        35                                                  0:00:08          nan    0.8481\n",
            "        36    VotingEnsemble                                0:01:03       0.8481    0.8481\n",
            "        37    StackEnsemble                                 0:01:16       0.8361    0.8481\n"
          ]
        },
        {
          "output_type": "execute_result",
          "execution_count": 10,
          "data": {
            "text/plain": "{'runId': 'AutoML_5238a037-67da-4b30-9b8d-2fe223a39bf6',\n 'target': 'Compute-Cluster',\n 'status': 'Completed',\n 'startTimeUtc': '2021-04-12T23:36:20.711244Z',\n 'endTimeUtc': '2021-04-12T23:58:24.083435Z',\n 'properties': {'num_iterations': '1000',\n  'training_type': 'TrainFull',\n  'acquisition_function': 'EI',\n  'primary_metric': 'accuracy',\n  'train_split': '0',\n  'acquisition_parameter': '0',\n  'num_cross_validation': None,\n  'target': 'Compute-Cluster',\n  'AMLSettingsJsonString': '{\"path\":null,\"name\":\"Framingham-Experiment\",\"subscription_id\":\"48a74bb7-9950-4cc1-9caa-5d50f995cc55\",\"resource_group\":\"aml-quickstarts-142522\",\"workspace_name\":\"quick-starts-ws-142522\",\"region\":\"southcentralus\",\"compute_target\":\"Compute-Cluster\",\"spark_service\":null,\"azure_service\":\"remote\",\"many_models\":false,\"pipeline_fetch_max_batch_size\":1,\"enable_batch_run\":false,\"enable_run_restructure\":false,\"iterations\":1000,\"primary_metric\":\"accuracy\",\"task_type\":\"classification\",\"data_script\":null,\"test_size\":0.0,\"validation_size\":0.0,\"n_cross_validations\":null,\"y_min\":null,\"y_max\":null,\"num_classes\":null,\"featurization\":\"auto\",\"_ignore_package_version_incompatibilities\":false,\"is_timeseries\":false,\"max_cores_per_iteration\":1,\"max_concurrent_iterations\":4,\"iteration_timeout_minutes\":null,\"mem_in_mb\":null,\"enforce_time_on_windows\":false,\"experiment_timeout_minutes\":30,\"experiment_exit_score\":null,\"whitelist_models\":null,\"blacklist_algos\":[\"TensorFlowLinearClassifier\",\"TensorFlowDNN\"],\"supported_models\":[\"XGBoostClassifier\",\"KNN\",\"MultinomialNaiveBayes\",\"LinearSVM\",\"RandomForest\",\"SVM\",\"ExtremeRandomTrees\",\"GradientBoosting\",\"BernoulliNaiveBayes\",\"SGD\",\"LogisticRegression\",\"DecisionTree\",\"TensorFlowLinearClassifier\",\"AveragedPerceptronClassifier\",\"LightGBM\",\"TensorFlowDNN\"],\"private_models\":[],\"auto_blacklist\":true,\"blacklist_samples_reached\":false,\"exclude_nan_labels\":true,\"verbosity\":20,\"_debug_log\":\"azureml_automl.log\",\"show_warnings\":false,\"model_explainability\":true,\"service_url\":null,\"sdk_url\":null,\"sdk_packages\":null,\"enable_onnx_compatible_models\":false,\"enable_split_onnx_featurizer_estimator_models\":false,\"vm_type\":\"STANDARD_D2_V2\",\"telemetry_verbosity\":20,\"send_telemetry\":true,\"enable_dnn\":false,\"scenario\":\"SDK-1.13.0\",\"environment_label\":null,\"save_mlflow\":false,\"force_text_dnn\":false,\"enable_feature_sweeping\":true,\"enable_early_stopping\":true,\"early_stopping_n_iters\":10,\"metrics\":null,\"enable_metric_confidence\":false,\"enable_ensembling\":true,\"enable_stack_ensembling\":true,\"ensemble_iterations\":15,\"enable_tf\":false,\"enable_subsampling\":null,\"subsample_seed\":null,\"enable_nimbusml\":false,\"enable_streaming\":false,\"force_streaming\":false,\"track_child_runs\":true,\"allowed_private_models\":[],\"label_column_name\":\"TenYearCHD\",\"weight_column_name\":null,\"cv_split_column_names\":null,\"enable_local_managed\":false,\"_local_managed_run_id\":null,\"cost_mode\":1,\"lag_length\":0,\"metric_operation\":\"maximize\",\"preprocess\":true}',\n  'DataPrepJsonString': '{\\\\\"training_data\\\\\": {\\\\\"datasetId\\\\\": \\\\\"08416cbc-8a6a-4c9a-997e-8f9772d795fb\\\\\"}, \\\\\"datasets\\\\\": 0}',\n  'EnableSubsampling': None,\n  'runTemplate': 'AutoML',\n  'azureml.runsource': 'automl',\n  'display_task_type': 'classification',\n  'dependencies_versions': '{\"azureml-widgets\": \"1.26.0\", \"azureml-train\": \"1.26.0\", \"azureml-train-restclients-hyperdrive\": \"1.26.0\", \"azureml-train-core\": \"1.26.0\", \"azureml-train-automl\": \"1.26.0\", \"azureml-train-automl-runtime\": \"1.26.0\", \"azureml-train-automl-client\": \"1.26.0\", \"azureml-tensorboard\": \"1.26.0\", \"azureml-telemetry\": \"1.26.0\", \"azureml-sdk\": \"1.26.0\", \"azureml-samples\": \"0+unknown\", \"azureml-pipeline\": \"1.26.0\", \"azureml-pipeline-steps\": \"1.26.0\", \"azureml-pipeline-core\": \"1.26.0\", \"azureml-opendatasets\": \"1.26.0\", \"azureml-model-management-sdk\": \"1.0.1b6.post1\", \"azureml-mlflow\": \"1.26.0\", \"azureml-interpret\": \"1.26.0\", \"azureml-explain-model\": \"1.26.0\", \"azureml-defaults\": \"1.26.0\", \"azureml-dataset-runtime\": \"1.26.0\", \"azureml-dataprep\": \"2.13.2\", \"azureml-dataprep-rslex\": \"1.11.2\", \"azureml-dataprep-native\": \"32.0.0\", \"azureml-datadrift\": \"1.26.0\", \"azureml-core\": \"1.26.0\", \"azureml-contrib-services\": \"1.26.0\", \"azureml-contrib-server\": \"1.26.0\", \"azureml-contrib-reinforcementlearning\": \"1.26.0\", \"azureml-contrib-pipeline-steps\": \"1.26.0\", \"azureml-contrib-notebook\": \"1.26.0\", \"azureml-contrib-gbdt\": \"1.26.0\", \"azureml-contrib-fairness\": \"1.26.0\", \"azureml-contrib-dataset\": \"1.26.0\", \"azureml-cli-common\": \"1.26.0\", \"azureml-automl-runtime\": \"1.26.0\", \"azureml-automl-dnn-nlp\": \"1.26.0\", \"azureml-automl-core\": \"1.26.0\", \"azureml-accel-models\": \"1.26.0\"}',\n  '_aml_system_scenario_identification': 'Remote.Parent',\n  'ClientType': 'SDK',\n  'environment_cpu_name': 'AzureML-AutoML',\n  'environment_cpu_label': 'prod',\n  'environment_gpu_name': 'AzureML-AutoML-GPU',\n  'environment_gpu_label': 'prod',\n  'root_attribution': 'automl',\n  'attribution': 'AutoML',\n  'Orchestrator': 'AutoML',\n  'CancelUri': 'https://southcentralus.experiments.azureml.net/jasmine/v1.0/subscriptions/48a74bb7-9950-4cc1-9caa-5d50f995cc55/resourceGroups/aml-quickstarts-142522/providers/Microsoft.MachineLearningServices/workspaces/quick-starts-ws-142522/experimentids/f94f8d41-8efe-4f06-98ed-6f47388cb7ad/cancel/AutoML_5238a037-67da-4b30-9b8d-2fe223a39bf6',\n  'ClientSdkVersion': '1.25.0',\n  'snapshotId': '00000000-0000-0000-0000-000000000000',\n  'SetupRunId': 'AutoML_5238a037-67da-4b30-9b8d-2fe223a39bf6_setup',\n  'SetupRunContainerId': 'dcid.AutoML_5238a037-67da-4b30-9b8d-2fe223a39bf6_setup',\n  'FeaturizationRunJsonPath': 'featurizer_container.json',\n  'FeaturizationRunId': 'AutoML_5238a037-67da-4b30-9b8d-2fe223a39bf6_featurize',\n  'ProblemInfoJsonString': '{\"dataset_num_categorical\": 0, \"is_sparse\": true, \"subsampling\": false, \"dataset_classes\": 2, \"dataset_features\": 1385, \"dataset_samples\": 4240, \"single_frequency_class_detected\": false}',\n  'ModelExplainRunId': 'AutoML_5238a037-67da-4b30-9b8d-2fe223a39bf6_ModelExplain'},\n 'inputDatasets': [{'dataset': {'id': '08416cbc-8a6a-4c9a-997e-8f9772d795fb'}, 'consumptionDetails': {'type': 'RunInput', 'inputName': 'training_data', 'mechanism': 'Direct'}}],\n 'outputDatasets': [],\n 'logFiles': {},\n 'submittedBy': 'ODL_User 142522'}"
          },
          "metadata": {}
        }
      ],
      "execution_count": 10,
      "metadata": {
        "gather": {
          "logged": 1618272155403
        }
      }
    },
    {
      "cell_type": "markdown",
      "source": [
        "## Best Model\n",
        "\n",
        "TODO: In the cell below, get the best model from the automl experiments and display all the properties of the model.\n",
        "\n"
      ],
      "metadata": {}
    },
    {
      "cell_type": "code",
      "source": [
        "best_automl_run, best_automl_model = remote_run.get_output()\n",
        "\n",
        "print('Best Run Id: ' + best_automl_run.id,\n",
        "     'Best Model Name: ' + best_automl_run.properties['model_name'],\n",
        "     )"
      ],
      "outputs": [
        {
          "output_type": "stream",
          "name": "stdout",
          "text": [
            "Best Run Id: AutoML_5238a037-67da-4b30-9b8d-2fe223a39bf6_2 Best Model Name: AutoML5238a03762\n"
          ]
        }
      ],
      "execution_count": 11,
      "metadata": {
        "gather": {
          "logged": 1618272184902
        },
        "jupyter": {
          "outputs_hidden": false,
          "source_hidden": false
        },
        "nteract": {
          "transient": {
            "deleting": false
          }
        }
      }
    },
    {
      "cell_type": "code",
      "source": [
        "print(best_automl_model)"
      ],
      "outputs": [
        {
          "output_type": "stream",
          "name": "stdout",
          "text": [
            "Pipeline(memory=None,\n",
            "         steps=[('datatransformer',\n",
            "                 DataTransformer(enable_dnn=None, enable_feature_sweeping=None,\n",
            "                                 feature_sweeping_config=None,\n",
            "                                 feature_sweeping_timeout=None,\n",
            "                                 featurization_config=None, force_text_dnn=None,\n",
            "                                 is_cross_validation=None,\n",
            "                                 is_onnx_compatible=None, logger=None,\n",
            "                                 observer=None, task=None, working_dir=None)),\n",
            "                ('MaxAbsScaler', MaxAbsScaler(copy...\n",
            "                 RandomForestClassifier(bootstrap=False, ccp_alpha=0.0,\n",
            "                                        class_weight=None, criterion='gini',\n",
            "                                        max_depth=None, max_features='sqrt',\n",
            "                                        max_leaf_nodes=None, max_samples=None,\n",
            "                                        min_impurity_decrease=0.0,\n",
            "                                        min_impurity_split=None,\n",
            "                                        min_samples_leaf=0.01,\n",
            "                                        min_samples_split=0.10368421052631578,\n",
            "                                        min_weight_fraction_leaf=0.0,\n",
            "                                        n_estimators=10, n_jobs=1,\n",
            "                                        oob_score=False, random_state=None,\n",
            "                                        verbose=0, warm_start=False))],\n",
            "         verbose=False)\n"
          ]
        }
      ],
      "execution_count": 12,
      "metadata": {
        "collapsed": true,
        "jupyter": {
          "source_hidden": false,
          "outputs_hidden": false
        },
        "nteract": {
          "transient": {
            "deleting": false
          }
        },
        "gather": {
          "logged": 1618272185055
        }
      }
    },
    {
      "cell_type": "code",
      "source": [
        "best_run_metrics = best_automl_run.get_metrics()\n",
        "\n",
        "for metric_name in best_run_metrics:\n",
        "    metric = best_run_metrics[metric_name]\n",
        "    print(metric_name,\":\" , metric)"
      ],
      "outputs": [
        {
          "output_type": "stream",
          "name": "stdout",
          "text": [
            "f1_score_macro : 0.4588892190256147\n",
            "norm_macro_recall : 0.0\n",
            "accuracy : 0.8481155819555264\n",
            "precision_score_weighted : 0.719420921315527\n",
            "matthews_correlation : 0.0\n",
            "average_precision_score_micro : 0.8795993699353387\n",
            "precision_score_macro : 0.4240577909777632\n",
            "precision_score_micro : 0.8481155819555264\n",
            "AUC_micro : 0.8926838366666904\n",
            "recall_score_weighted : 0.8481155819555264\n",
            "weighted_accuracy : 0.9686688438245291\n",
            "f1_score_weighted : 0.7784527258598235\n",
            "AUC_weighted : 0.6722716111413618\n",
            "recall_score_micro : 0.8481155819555264\n",
            "average_precision_score_weighted : 0.8135380276993169\n",
            "f1_score_micro : 0.8481155819555264\n",
            "balanced_accuracy : 0.5\n",
            "recall_score_macro : 0.5\n",
            "average_precision_score_macro : 0.5874849723387087\n",
            "AUC_macro : 0.6722716111413618\n",
            "log_loss : 0.4118336101823044\n",
            "confusion_matrix : aml://artifactId/ExperimentRun/dcid.AutoML_5238a037-67da-4b30-9b8d-2fe223a39bf6_2/confusion_matrix\n",
            "accuracy_table : aml://artifactId/ExperimentRun/dcid.AutoML_5238a037-67da-4b30-9b8d-2fe223a39bf6_2/accuracy_table\n"
          ]
        }
      ],
      "execution_count": 13,
      "metadata": {
        "gather": {
          "logged": 1618272187833
        }
      }
    },
    {
      "cell_type": "code",
      "source": [
        "#TODO: Save the best model\n",
        "automodel = best_automl_run.register_model(model_name='best_automl_model', \n",
        "                                    model_path='outputs/model.pkl',\n",
        "                                    tags={'Method':'AutoML'},\n",
        "                                    properties={'Accuracy': best_run_metrics['accuracy']})"
      ],
      "outputs": [],
      "execution_count": 14,
      "metadata": {
        "gather": {
          "logged": 1618272189044
        },
        "jupyter": {
          "outputs_hidden": false,
          "source_hidden": false
        },
        "nteract": {
          "transient": {
            "deleting": false
          }
        }
      }
    },
    {
      "cell_type": "markdown",
      "source": [
        "## Model Deployment\n",
        "\n",
        "Remember you have to deploy only one of the two models you trained.. Perform the steps in the rest of this notebook only if you wish to deploy this model.\n",
        "\n",
        "TODO: In the cell below, register the model, create an inference config and deploy the model as a web service."
      ],
      "metadata": {}
    },
    {
      "cell_type": "code",
      "source": [
        "# Download scoring file \n",
        "best_automl_run.download_file('outputs/scoring_file_v_1_0_0.py', 'score.py')\n",
        "\n",
        "# Download environment file\n",
        "best_automl_run.download_file('outputs/conda_env_v_1_0_0.yml', 'env.yml')"
      ],
      "outputs": [],
      "execution_count": 15,
      "metadata": {
        "gather": {
          "logged": 1618274159969
        },
        "jupyter": {
          "outputs_hidden": false,
          "source_hidden": false
        },
        "nteract": {
          "transient": {
            "deleting": false
          }
        }
      }
    },
    {
      "cell_type": "code",
      "source": [
        "from azureml.core.webservice import AciWebservice, Webservice\n",
        "aciconfig = AciWebservice.deploy_configuration(cpu_cores=1, \n",
        "                                               memory_gb=1, \n",
        "                                               description='Framingham Heart Disease Prediction with AutoML')"
      ],
      "outputs": [],
      "execution_count": 16,
      "metadata": {
        "gather": {
          "logged": 1618274167471
        }
      }
    },
    {
      "cell_type": "code",
      "source": [
        "from azureml.core.model import InferenceConfig, Model\n",
        "inference_config = InferenceConfig(entry_script=\"score.py\", environment=best_automl_run.get_environment())\n",
        "\n",
        "service = Model.deploy(workspace=ws, \n",
        "                       name='automl-webservice', \n",
        "                       models=[automodel], \n",
        "                       inference_config=inference_config, \n",
        "                       deployment_config=aciconfig)"
      ],
      "outputs": [],
      "execution_count": 17,
      "metadata": {
        "gather": {
          "logged": 1618274172308
        }
      }
    },
    {
      "cell_type": "code",
      "source": [
        "service.wait_for_deployment(show_output=True)"
      ],
      "outputs": [
        {
          "output_type": "stream",
          "name": "stdout",
          "text": [
            "Tips: You can try get_logs(): https://aka.ms/debugimage#dockerlog or local deployment: https://aka.ms/debugimage#debug-locally to debug if deployment takes longer than 10 minutes.\n",
            "Running\n",
            "2021-04-13 00:36:10+00:00 Creating Container Registry if not exists..\n",
            "2021-04-13 00:36:26+00:00 Registering the environment.\n",
            "2021-04-13 00:36:27+00:00 Use the existing image.\n",
            "2021-04-13 00:36:27+00:00 Generating deployment configuration..\n",
            "2021-04-13 00:36:29+00:00 Submitting deployment to compute..\n",
            "2021-04-13 00:36:34+00:00 Checking the status of deployment automl-webservice..\n",
            "2021-04-13 00:37:10+00:00 Checking the status of inference endpoint automl-webservice.\n",
            "Succeeded\n",
            "ACI service creation operation finished, operation \"Succeeded\"\n"
          ]
        }
      ],
      "execution_count": 18,
      "metadata": {
        "gather": {
          "logged": 1618274236550
        }
      }
    },
    {
      "cell_type": "code",
      "source": [
        "print(\"Service State: \",service.state)\n",
        "print(\"Scoring URI: \",service.scoring_uri)\n",
        "print(\"Swagger URI: \",service.swagger_uri)"
      ],
      "outputs": [
        {
          "output_type": "stream",
          "name": "stdout",
          "text": [
            "Service State:  Healthy\n",
            "Scoring URI:  http://3a509473-650c-4c16-b93f-b93f770cb5bb.southcentralus.azurecontainer.io/score\n",
            "Swagger URI:  http://3a509473-650c-4c16-b93f-b93f770cb5bb.southcentralus.azurecontainer.io/swagger.json\n"
          ]
        }
      ],
      "execution_count": 20,
      "metadata": {
        "gather": {
          "logged": 1618274312772
        }
      }
    },
    {
      "cell_type": "markdown",
      "source": [
        "TODO: In the cell below, send a request to the web service you deployed to test it."
      ],
      "metadata": {
        "collapsed": true,
        "gather": {
          "logged": 1598431657736
        },
        "jupyter": {
          "outputs_hidden": false,
          "source_hidden": false
        },
        "nteract": {
          "transient": {
            "deleting": false
          }
        }
      }
    },
    {
      "cell_type": "code",
      "source": [
        "\n",
        "data = {\n",
        "    \"data\": [\n",
        "        {\n",
        "            'male': 0,\n",
        "            'age': 55,\n",
        "            'education': 4 ,\n",
        "            'currentSmoker': 1,\n",
        "            'cigsPerDay': 20,\n",
        "            'BPMeds': 0,\n",
        "            'prevalentStroke': 0,\n",
        "            'prevalentHyp': 0,\n",
        "            'diabetes': 0,\n",
        "            'totChol': 285,\n",
        "            'sysBP': 175,\n",
        "            'diaBP': 84,\n",
        "            'BMI': 25.50,\n",
        "            'heartRate': 93,\n",
        "            'glucose': 87\n",
        "        },\n",
        "        {\n",
        "            'male': 1,\n",
        "            'age': 40,\n",
        "            'education': 4 ,\n",
        "            'currentSmoker': 0,\n",
        "            'cigsPerDay': 30,\n",
        "            'BPMeds': 0,\n",
        "            'prevalentStroke': 0,\n",
        "            'prevalentHyp': 0,\n",
        "            'diabetes': 0,\n",
        "            'totChol': 228,\n",
        "            'sysBP': 121,\n",
        "            'diaBP': 110,\n",
        "            'BMI': 30.30,\n",
        "            'heartRate': 80,\n",
        "            'glucose': 80\n",
        "        }\n",
        "    ]\n",
        "}\n",
        "\n",
        "data_sample = json.dumps(data)"
      ],
      "outputs": [],
      "execution_count": 21,
      "metadata": {
        "gather": {
          "logged": 1618274319479
        },
        "jupyter": {
          "outputs_hidden": false,
          "source_hidden": false
        },
        "nteract": {
          "transient": {
            "deleting": false
          }
        }
      }
    },
    {
      "cell_type": "code",
      "source": [
        "scoring_uri = service.scoring_uri\n",
        "input_data = data_sample\n",
        "\n",
        "# Set the content type\n",
        "headers = {'Content-Type': 'application/json'}\n",
        "\n",
        "# Make the request and display the response\n",
        "response = requests.post(scoring_uri, input_data, headers=headers)\n",
        "response.json()"
      ],
      "outputs": [
        {
          "output_type": "execute_result",
          "execution_count": 22,
          "data": {
            "text/plain": "'{\"result\": [0, 0]}'"
          },
          "metadata": {}
        }
      ],
      "execution_count": 22,
      "metadata": {
        "gather": {
          "logged": 1618274322109
        }
      }
    },
    {
      "cell_type": "markdown",
      "source": [
        "TODO: In the cell below, print the logs of the web service and delete the service"
      ],
      "metadata": {
        "collapsed": true,
        "gather": {
          "logged": 1598432765711
        },
        "jupyter": {
          "outputs_hidden": false,
          "source_hidden": false
        },
        "nteract": {
          "transient": {
            "deleting": false
          }
        }
      }
    },
    {
      "cell_type": "code",
      "source": [
        "service.get_logs()"
      ],
      "outputs": [
        {
          "output_type": "execute_result",
          "execution_count": 23,
          "data": {
            "text/plain": "'2021-04-13T00:36:59,897185000+00:00 - gunicorn/run \\n2021-04-13T00:36:59,900146900+00:00 - iot-server/run \\n2021-04-13T00:36:59,932502000+00:00 - nginx/run \\n/usr/sbin/nginx: /azureml-envs/azureml_8e5a5a51349877e7d47c6a2872e0ebfd/lib/libcrypto.so.1.0.0: no version information available (required by /usr/sbin/nginx)\\n/usr/sbin/nginx: /azureml-envs/azureml_8e5a5a51349877e7d47c6a2872e0ebfd/lib/libcrypto.so.1.0.0: no version information available (required by /usr/sbin/nginx)\\n/usr/sbin/nginx: /azureml-envs/azureml_8e5a5a51349877e7d47c6a2872e0ebfd/lib/libssl.so.1.0.0: no version information available (required by /usr/sbin/nginx)\\n/usr/sbin/nginx: /azureml-envs/azureml_8e5a5a51349877e7d47c6a2872e0ebfd/lib/libssl.so.1.0.0: no version information available (required by /usr/sbin/nginx)\\n/usr/sbin/nginx: /azureml-envs/azureml_8e5a5a51349877e7d47c6a2872e0ebfd/lib/libssl.so.1.0.0: no version information available (required by /usr/sbin/nginx)\\n2021-04-13T00:36:59,913531000+00:00 - rsyslog/run \\nrsyslogd: /azureml-envs/azureml_8e5a5a51349877e7d47c6a2872e0ebfd/lib/libuuid.so.1: no version information available (required by rsyslogd)\\nEdgeHubConnectionString and IOTEDGE_IOTHUBHOSTNAME are not set. Exiting...\\n2021-04-13T00:37:00,240984500+00:00 - iot-server/finish 1 0\\n2021-04-13T00:37:00,243288800+00:00 - Exit code 1 is normal. Not restarting iot-server.\\nStarting gunicorn 19.9.0\\nListening at: http://127.0.0.1:31311 (66)\\nUsing worker: sync\\nworker timeout is set to 300\\nBooting worker with pid: 95\\nSPARK_HOME not set. Skipping PySpark Initialization.\\nGenerating new fontManager, this may take some time...\\nInitializing logger\\n2021-04-13 00:37:02,481 | root | INFO | Starting up app insights client\\n2021-04-13 00:37:02,482 | root | INFO | Starting up request id generator\\n2021-04-13 00:37:02,482 | root | INFO | Starting up app insight hooks\\n2021-04-13 00:37:02,483 | root | INFO | Invoking user\\'s init function\\n2021-04-13 00:37:06,673 | azureml.core | WARNING | Failure while loading azureml_run_type_providers. Failed to load entrypoint automl = azureml.train.automl.run:AutoMLRun._from_run_dto with exception cannot import name \\'RunType\\'.\\nFailure while loading azureml_run_type_providers. Failed to load entrypoint automl = azureml.train.automl.run:AutoMLRun._from_run_dto with exception cannot import name \\'RunType\\'.\\n2021-04-13 00:37:07,048 | root | INFO | Users\\'s init has completed successfully\\n2021-04-13 00:37:07,050 | root | INFO | Skipping middleware: dbg_model_info as it\\'s not enabled.\\n2021-04-13 00:37:07,051 | root | INFO | Skipping middleware: dbg_resource_usage as it\\'s not enabled.\\n2021-04-13 00:37:07,057 | root | INFO | Scoring timeout is found from os.environ: 60000 ms\\n2021-04-13 00:37:10,269 | root | INFO | 200\\n127.0.0.1 - - [13/Apr/2021:00:37:10 +0000] \"GET /swagger.json HTTP/1.0\" 200 2937 \"-\" \"Go-http-client/1.1\"\\n2021-04-13 00:37:14,578 | root | INFO | 200\\n127.0.0.1 - - [13/Apr/2021:00:37:14 +0000] \"GET /swagger.json HTTP/1.0\" 200 2937 \"-\" \"Go-http-client/1.1\"\\n2021-04-13 00:38:40,155 | root | INFO | Validation Request Content-Type\\n2021-04-13 00:38:40,160 | root | INFO | Scoring Timer is set to 60.0 seconds\\n2021-04-13 00:38:40,293 | root | INFO | 200\\n127.0.0.1 - - [13/Apr/2021:00:38:40 +0000] \"POST /score HTTP/1.0\" 200 22 \"-\" \"python-requests/2.25.1\"\\n'"
          },
          "metadata": {}
        }
      ],
      "execution_count": 23,
      "metadata": {
        "gather": {
          "logged": 1618274326430
        },
        "jupyter": {
          "outputs_hidden": false,
          "source_hidden": false
        },
        "nteract": {
          "transient": {
            "deleting": false
          }
        }
      }
    },
    {
      "cell_type": "code",
      "source": [
        "service.delete()"
      ],
      "outputs": [],
      "execution_count": 24,
      "metadata": {
        "collapsed": true,
        "jupyter": {
          "outputs_hidden": false,
          "source_hidden": false
        },
        "nteract": {
          "transient": {
            "deleting": false
          }
        },
        "gather": {
          "logged": 1618275011729
        }
      }
    }
  ],
  "metadata": {
    "kernel_info": {
      "name": "python3-azureml"
    },
    "kernelspec": {
      "name": "python3-azureml",
      "language": "python",
      "display_name": "Python 3.6 - AzureML"
    },
    "language_info": {
      "name": "python",
      "version": "3.6.9",
      "mimetype": "text/x-python",
      "codemirror_mode": {
        "name": "ipython",
        "version": 3
      },
      "pygments_lexer": "ipython3",
      "nbconvert_exporter": "python",
      "file_extension": ".py"
    },
    "microsoft": {
      "host": {
        "AzureML": {
          "notebookHasBeenCompleted": true
        }
      }
    },
    "nteract": {
      "version": "nteract-front-end@1.0.0"
    }
  },
  "nbformat": 4,
  "nbformat_minor": 2
}