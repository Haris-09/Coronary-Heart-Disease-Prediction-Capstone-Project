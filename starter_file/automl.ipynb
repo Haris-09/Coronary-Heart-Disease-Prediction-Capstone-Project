{
  "cells": [
    {
      "cell_type": "markdown",
      "source": [
        "# Automated ML\n",
        "\n",
        "TODO: Import Dependencies. In the cell below, import all the dependencies that you will need to complete the project."
      ],
      "metadata": {}
    },
    {
      "cell_type": "code",
      "source": [
        "from azureml.core.experiment import Experiment\n",
        "from azureml.core.workspace import Workspace\n",
        "from azureml.core.compute import ComputeTarget, AmlCompute\n",
        "from azureml.core.compute_target import ComputeTargetException\n",
        "from azureml.widgets import RunDetails\n",
        "from azureml.data.dataset_factory import TabularDatasetFactory\n",
        "from azureml.train.automl import AutoMLConfig\n",
        "from azureml.core.dataset import Dataset\n",
        "from azureml.core.webservice import AciWebservice, Webservice\n",
        "from azureml.core.model import InferenceConfig, Model\n",
        "import os\n",
        "import joblib\n",
        "import logging\n",
        "import json\n",
        "import requests"
      ],
      "outputs": [],
      "execution_count": 1,
      "metadata": {
        "gather": {
          "logged": 1618149270094
        },
        "jupyter": {
          "outputs_hidden": false,
          "source_hidden": false
        },
        "nteract": {
          "transient": {
            "deleting": false
          }
        }
      }
    },
    {
      "cell_type": "markdown",
      "source": [
        "## Dataset\n",
        "\n",
        "### Overview\n",
        "\n",
        "In this project i uses the Framingham Heart Study Dataset available on Kaggle. The Dataset consists of 16 Columns and 4240 Rows."
      ],
      "metadata": {}
    },
    {
      "cell_type": "code",
      "source": [
        "ws = Workspace.from_config()\n",
        "print('Workspace Name: ' + ws.name,\n",
        "      'Resource group: ' + ws.resource_group,\n",
        "      'Azure Region: ' + ws.location,\n",
        "      'Subscription Id: ' + ws.subscription_id, sep = '\\n')"
      ],
      "outputs": [
        {
          "output_type": "stream",
          "name": "stdout",
          "text": [
            "Performing interactive authentication. Please follow the instructions on the terminal.\n",
            "To sign in, use a web browser to open the page https://microsoft.com/devicelogin and enter the code FH96RGEXU to authenticate.\n",
            "You have logged in. Now let us find all the subscriptions to which you have access...\n",
            "Interactive authentication successfully completed.\n",
            "Workspace Name: quick-starts-ws-142387\n",
            "Resource group: aml-quickstarts-142387\n",
            "Azure Region: southcentralus\n",
            "Subscription Id: a24a24d5-8d87-4c8a-99b6-91ed2d2df51f\n"
          ]
        }
      ],
      "execution_count": 2,
      "metadata": {
        "gather": {
          "logged": 1618149302170
        },
        "jupyter": {
          "outputs_hidden": false,
          "source_hidden": false
        },
        "nteract": {
          "transient": {
            "deleting": false
          }
        }
      }
    },
    {
      "cell_type": "code",
      "source": [
        "# choose a name for experiment\n",
        "experiment_name = 'Framingham-Experiment'\n",
        "\n",
        "experiment=Experiment(ws, experiment_name)\n",
        "run = experiment.start_logging()"
      ],
      "outputs": [],
      "execution_count": 3,
      "metadata": {
        "gather": {
          "logged": 1618149312951
        },
        "jupyter": {
          "outputs_hidden": false,
          "source_hidden": false
        },
        "nteract": {
          "transient": {
            "deleting": false
          }
        }
      }
    },
    {
      "cell_type": "code",
      "source": [
        "# Choose a name for your CPU cluster\n",
        "amlcompute_cluster_name = \"Compute-Cluster\"\n",
        "\n",
        "# Verify that cluster does not exist already\n",
        "try:\n",
        "    compute_target = ComputeTarget(workspace=ws, name=amlcompute_cluster_name)\n",
        "    print('Found existing cluster, use it.')\n",
        "except ComputeTargetException:\n",
        "    compute_config = AmlCompute.provisioning_configuration(vm_size='STANDARD_D2_V2', max_nodes=4)\n",
        "    compute_target = ComputeTarget.create(ws, amlcompute_cluster_name, compute_config)\n",
        "\n",
        "compute_target.wait_for_completion(show_output=True, min_node_count = 1, timeout_in_minutes = 10)"
      ],
      "outputs": [
        {
          "output_type": "stream",
          "name": "stdout",
          "text": [
            "Creating....\n",
            "SucceededProvisioning operation finished, operation \"Succeeded\"\n",
            "Succeeded.....................................................................................................................\n",
            "AmlCompute wait for completion finished\n",
            "\n",
            "Wait timeout has been reached\n",
            "Current provisioning state of AmlCompute is \"Succeeded\" and current node count is \"0\"\n"
          ]
        }
      ],
      "execution_count": 4,
      "metadata": {
        "gather": {
          "logged": 1618149938148
        }
      }
    },
    {
      "cell_type": "code",
      "source": [
        "# Try to load the dataset from the Workspace. Otherwise, create it from the file\n",
        "found = False\n",
        "key = \"Framingham\"\n",
        "description_text = \"Framingham Heart Disease Dataset\"\n",
        "\n",
        "if key in ws.datasets.keys(): \n",
        "        found = True\n",
        "        dataset = ws.datasets[key] \n",
        "\n",
        "if not found:\n",
        "        # Create AML Dataset and register it into Workspace\n",
        "        example_data = 'https://raw.githubusercontent.com/Haris-09/Coronary-Heart-Disease-Prediction-Capstone-Project/master/starter_file/framingham.csv'\n",
        "        dataset = Dataset.Tabular.from_delimited_files(example_data)        \n",
        "        #Register Dataset in Workspace\n",
        "        dataset = dataset.register(workspace=ws,\n",
        "                                   name=key,\n",
        "                                   description=description_text)"
      ],
      "outputs": [],
      "execution_count": 6,
      "metadata": {
        "gather": {
          "logged": 1618150150654
        }
      }
    },
    {
      "cell_type": "code",
      "source": [
        "df = dataset.to_pandas_dataframe()\n",
        "df.describe()"
      ],
      "outputs": [
        {
          "output_type": "execute_result",
          "execution_count": 7,
          "data": {
            "text/plain": "              male          age  currentSmoker  prevalentStroke  prevalentHyp  \\\ncount  4240.000000  4240.000000    4240.000000      4240.000000   4240.000000   \nmean      0.429245    49.580189       0.494104         0.005896      0.310613   \nstd       0.495027     8.572942       0.500024         0.076569      0.462799   \nmin       0.000000    32.000000       0.000000         0.000000      0.000000   \n25%       0.000000    42.000000       0.000000         0.000000      0.000000   \n50%       0.000000    49.000000       0.000000         0.000000      0.000000   \n75%       1.000000    56.000000       1.000000         0.000000      1.000000   \nmax       1.000000    70.000000       1.000000         1.000000      1.000000   \n\n          diabetes        sysBP        diaBP    heartRate   TenYearCHD  \ncount  4240.000000  4240.000000  4240.000000  4239.000000  4240.000000  \nmean      0.025708   132.354599    82.897759    75.878981     0.151887  \nstd       0.158280    22.033300    11.910394    12.025348     0.358953  \nmin       0.000000    83.500000    48.000000    44.000000     0.000000  \n25%       0.000000   117.000000    75.000000    68.000000     0.000000  \n50%       0.000000   128.000000    82.000000    75.000000     0.000000  \n75%       0.000000   144.000000    90.000000    83.000000     0.000000  \nmax       1.000000   295.000000   142.500000   143.000000     1.000000  ",
            "text/html": "<div>\n<style scoped>\n    .dataframe tbody tr th:only-of-type {\n        vertical-align: middle;\n    }\n\n    .dataframe tbody tr th {\n        vertical-align: top;\n    }\n\n    .dataframe thead th {\n        text-align: right;\n    }\n</style>\n<table border=\"1\" class=\"dataframe\">\n  <thead>\n    <tr style=\"text-align: right;\">\n      <th></th>\n      <th>male</th>\n      <th>age</th>\n      <th>currentSmoker</th>\n      <th>prevalentStroke</th>\n      <th>prevalentHyp</th>\n      <th>diabetes</th>\n      <th>sysBP</th>\n      <th>diaBP</th>\n      <th>heartRate</th>\n      <th>TenYearCHD</th>\n    </tr>\n  </thead>\n  <tbody>\n    <tr>\n      <th>count</th>\n      <td>4240.000000</td>\n      <td>4240.000000</td>\n      <td>4240.000000</td>\n      <td>4240.000000</td>\n      <td>4240.000000</td>\n      <td>4240.000000</td>\n      <td>4240.000000</td>\n      <td>4240.000000</td>\n      <td>4239.000000</td>\n      <td>4240.000000</td>\n    </tr>\n    <tr>\n      <th>mean</th>\n      <td>0.429245</td>\n      <td>49.580189</td>\n      <td>0.494104</td>\n      <td>0.005896</td>\n      <td>0.310613</td>\n      <td>0.025708</td>\n      <td>132.354599</td>\n      <td>82.897759</td>\n      <td>75.878981</td>\n      <td>0.151887</td>\n    </tr>\n    <tr>\n      <th>std</th>\n      <td>0.495027</td>\n      <td>8.572942</td>\n      <td>0.500024</td>\n      <td>0.076569</td>\n      <td>0.462799</td>\n      <td>0.158280</td>\n      <td>22.033300</td>\n      <td>11.910394</td>\n      <td>12.025348</td>\n      <td>0.358953</td>\n    </tr>\n    <tr>\n      <th>min</th>\n      <td>0.000000</td>\n      <td>32.000000</td>\n      <td>0.000000</td>\n      <td>0.000000</td>\n      <td>0.000000</td>\n      <td>0.000000</td>\n      <td>83.500000</td>\n      <td>48.000000</td>\n      <td>44.000000</td>\n      <td>0.000000</td>\n    </tr>\n    <tr>\n      <th>25%</th>\n      <td>0.000000</td>\n      <td>42.000000</td>\n      <td>0.000000</td>\n      <td>0.000000</td>\n      <td>0.000000</td>\n      <td>0.000000</td>\n      <td>117.000000</td>\n      <td>75.000000</td>\n      <td>68.000000</td>\n      <td>0.000000</td>\n    </tr>\n    <tr>\n      <th>50%</th>\n      <td>0.000000</td>\n      <td>49.000000</td>\n      <td>0.000000</td>\n      <td>0.000000</td>\n      <td>0.000000</td>\n      <td>0.000000</td>\n      <td>128.000000</td>\n      <td>82.000000</td>\n      <td>75.000000</td>\n      <td>0.000000</td>\n    </tr>\n    <tr>\n      <th>75%</th>\n      <td>1.000000</td>\n      <td>56.000000</td>\n      <td>1.000000</td>\n      <td>0.000000</td>\n      <td>1.000000</td>\n      <td>0.000000</td>\n      <td>144.000000</td>\n      <td>90.000000</td>\n      <td>83.000000</td>\n      <td>0.000000</td>\n    </tr>\n    <tr>\n      <th>max</th>\n      <td>1.000000</td>\n      <td>70.000000</td>\n      <td>1.000000</td>\n      <td>1.000000</td>\n      <td>1.000000</td>\n      <td>1.000000</td>\n      <td>295.000000</td>\n      <td>142.500000</td>\n      <td>143.000000</td>\n      <td>1.000000</td>\n    </tr>\n  </tbody>\n</table>\n</div>"
          },
          "metadata": {}
        }
      ],
      "execution_count": 7,
      "metadata": {
        "gather": {
          "logged": 1618150165842
        }
      }
    },
    {
      "cell_type": "markdown",
      "source": [
        "## AutoML Configuration\n",
        "\n",
        "This is binary Classification problem with a label column TenYearCHD. primary metric is Accuracy and experiment timeout is 30 minutes."
      ],
      "metadata": {}
    },
    {
      "cell_type": "code",
      "source": [
        "# TODO: Put your automl settings here\n",
        "automl_settings = {\"experiment_timeout_minutes\": 30,\n",
        "                   \"max_concurrent_iterations\": 4,\n",
        "                   \"primary_metric\" : 'accuracy',\n",
        "                   \"verbosity\": logging.INFO}\n",
        "\n",
        "# TODO: Put your automl config here\n",
        "automl_config = AutoMLConfig(compute_target=compute_target,\n",
        "                             task = \"classification\",\n",
        "                             training_data=dataset,\n",
        "                             label_column_name=\"TenYearCHD\",   \n",
        "                             path = './',\n",
        "                             enable_early_stopping= True,\n",
        "                             featurization= 'auto',\n",
        "                             debug_log = \"automl_errors.log\",\n",
        "                             **automl_settings)"
      ],
      "outputs": [],
      "execution_count": 8,
      "metadata": {
        "gather": {
          "logged": 1618150166099
        },
        "jupyter": {
          "outputs_hidden": false,
          "source_hidden": false
        },
        "nteract": {
          "transient": {
            "deleting": false
          }
        }
      }
    },
    {
      "cell_type": "code",
      "source": [
        "# TODO: Submit your experiment\n",
        "remote_run = experiment.submit(automl_config, show_output=True)"
      ],
      "outputs": [
        {
          "output_type": "stream",
          "name": "stdout",
          "text": [
            "Submitting remote run.\n",
            "No run_configuration provided, running on Compute-Cluster with default configuration\n",
            "Running on remote compute: Compute-Cluster\n"
          ]
        },
        {
          "output_type": "display_data",
          "data": {
            "text/plain": "<IPython.core.display.HTML object>",
            "text/html": "<table style=\"width:100%\"><tr><th>Experiment</th><th>Id</th><th>Type</th><th>Status</th><th>Details Page</th><th>Docs Page</th></tr><tr><td>Framingham-Experiment</td><td>AutoML_548fa0e4-d38a-4e27-92e4-5947f57948e6</td><td>automl</td><td>NotStarted</td><td><a href=\"https://ml.azure.com/runs/AutoML_548fa0e4-d38a-4e27-92e4-5947f57948e6?wsid=/subscriptions/a24a24d5-8d87-4c8a-99b6-91ed2d2df51f/resourcegroups/aml-quickstarts-142387/workspaces/quick-starts-ws-142387&amp;tid=660b3398-b80e-49d2-bc5b-ac1dc93b5254\" target=\"_blank\" rel=\"noopener\">Link to Azure Machine Learning studio</a></td><td><a href=\"https://docs.microsoft.com/en-us/python/api/overview/azure/ml/intro?view=azure-ml-py\" target=\"_blank\" rel=\"noopener\">Link to Documentation</a></td></tr></table>"
          },
          "metadata": {}
        },
        {
          "output_type": "stream",
          "name": "stdout",
          "text": [
            "\n",
            "Current status: FeaturesGeneration. Generating features for the dataset.\n",
            "Current status: DatasetFeaturization. Beginning to fit featurizers and featurize the dataset.\n",
            "Current status: DatasetCrossValidationSplit. Generating individually featurized CV splits.\n",
            "Current status: ModelSelection. Beginning model selection.\n",
            "\n",
            "****************************************************************************************************\n",
            "DATA GUARDRAILS: \n",
            "\n",
            "TYPE:         Cross validation\n",
            "STATUS:       DONE\n",
            "DESCRIPTION:  Each iteration of the trained model was validated through cross-validation.\n",
            "              \n",
            "DETAILS:      \n",
            "+---------------------------------+\n",
            "|Number of folds                  |\n",
            "+=================================+\n",
            "|3                                |\n",
            "+---------------------------------+\n",
            "\n",
            "****************************************************************************************************\n",
            "\n",
            "TYPE:         Class balancing detection\n",
            "STATUS:       ALERTED\n",
            "DESCRIPTION:  To decrease model bias, please cancel the current run and fix balancing problem.\n",
            "              Learn more about imbalanced data: https://aka.ms/AutomatedMLImbalancedData\n",
            "DETAILS:      Imbalanced data can lead to a falsely perceived positive effect of a model's accuracy because the input data has bias towards one class.\n",
            "+---------------------------------+---------------------------------+--------------------------------------+\n",
            "|Size of the smallest class       |Name/Label of the smallest class |Number of samples in the training data|\n",
            "+=================================+=================================+======================================+\n",
            "|644                              |1                                |4240                                  |\n",
            "+---------------------------------+---------------------------------+--------------------------------------+\n",
            "\n",
            "****************************************************************************************************\n",
            "\n",
            "TYPE:         Missing feature values imputation\n",
            "STATUS:       DONE\n",
            "DESCRIPTION:  If the missing values are expected, let the run complete. Otherwise cancel the current run and use a script to customize the handling of missing feature values that may be more appropriate based on the data type and business requirement.\n",
            "              Learn more about missing value imputation: https://aka.ms/AutomatedMLFeaturization\n",
            "DETAILS:      \n",
            "+---------------------------------+---------------------------------+---------------------------------+\n",
            "|Column name                      |Missing value count              |Imputation type                  |\n",
            "+=================================+=================================+=================================+\n",
            "|heartRate                        |1                                |mean                             |\n",
            "+---------------------------------+---------------------------------+---------------------------------+\n",
            "\n",
            "****************************************************************************************************\n",
            "\n",
            "TYPE:         High cardinality feature detection\n",
            "STATUS:       DONE\n",
            "DESCRIPTION:  High cardinality features were detected in your inputs and handled.\n",
            "              Learn more about high cardinality feature handling: https://aka.ms/AutomatedMLFeaturization\n",
            "DETAILS:      High cardinality features refer to columns that contain a large percentage of unique values.\n",
            "+---------------------------------+---------------------------------+\n",
            "|Column name                      |Column Content Type              |\n",
            "+=================================+=================================+\n",
            "|totChol                          |categorical_hash                 |\n",
            "|BMI                              |categorical_hash                 |\n",
            "+---------------------------------+---------------------------------+\n",
            "\n",
            "****************************************************************************************************\n",
            "\n",
            "****************************************************************************************************\n",
            "ITERATION: The iteration being evaluated.\n",
            "PIPELINE: A summary description of the pipeline being evaluated.\n",
            "DURATION: Time taken for the current iteration.\n",
            "METRIC: The result of computing score on the fitted pipeline.\n",
            "BEST: The best observed score thus far.\n",
            "****************************************************************************************************\n",
            "\n",
            " ITERATION   PIPELINE                                       DURATION      METRIC      BEST\n",
            "         2   MaxAbsScaler RandomForest                      0:00:40       0.8481    0.8481\n",
            "         0   MaxAbsScaler LightGBM                          0:00:48       0.8321    0.8481\n",
            "         1   MaxAbsScaler XGBoostClassifier                 0:00:43       0.8472    0.8481\n",
            "         6   TruncatedSVDWrapper XGBoostClassifier          0:01:32       0.8420    0.8481\n",
            "         7   SparseNormalizer XGBoostClassifier             0:00:41       0.8406    0.8481\n",
            "         3   MaxAbsScaler RandomForest                      0:03:10       0.8481    0.8481\n",
            "         8   MaxAbsScaler LogisticRegression                0:00:46       0.8064    0.8481\n",
            "         9   MaxAbsScaler LogisticRegression                0:00:44       0.7769    0.8481\n",
            "        10   MaxAbsScaler LightGBM                          0:00:43       0.8481    0.8481\n",
            "        11   MaxAbsScaler ExtremeRandomTrees                0:00:54       0.8481    0.8481\n",
            "         4   MaxAbsScaler RandomForest                      0:05:19       0.5670    0.8481\n",
            "         5   MaxAbsScaler RandomForest                      0:05:20       0.6811    0.8481\n",
            "        12   SparseNormalizer LightGBM                      0:00:48       0.8455    0.8481\n",
            "        13   MaxAbsScaler GradientBoosting                  0:00:45       0.8481    0.8481\n",
            "        14   StandardScalerWrapper XGBoostClassifier        0:00:37       0.8488    0.8488\n",
            "        15   StandardScalerWrapper LightGBM                 0:00:46       0.8469    0.8488\n",
            "        16   SparseNormalizer XGBoostClassifier             0:01:00       0.8392    0.8488\n",
            "        17   MaxAbsScaler LogisticRegression                0:00:44       0.8229    0.8488\n",
            "        18   MaxAbsScaler RandomForest                      0:00:38       0.8481    0.8488\n",
            "        19   MaxAbsScaler LogisticRegression                0:00:52       0.7821    0.8488\n",
            "        20   StandardScalerWrapper LightGBM                 0:00:45       0.8481    0.8488\n",
            "        21   MaxAbsScaler ExtremeRandomTrees                0:00:42       0.8481    0.8488\n",
            "        22   SparseNormalizer XGBoostClassifier             0:00:43       0.8396    0.8488\n",
            "        23   MaxAbsScaler ExtremeRandomTrees                0:00:48       0.8481    0.8488\n",
            "        24   SparseNormalizer LightGBM                      0:00:46       0.8481    0.8488\n",
            "        25   SparseNormalizer XGBoostClassifier             0:00:49       0.8481    0.8488\n",
            "        26   StandardScalerWrapper ExtremeRandomTrees       0:00:44       0.8481    0.8488\n",
            "        27   MaxAbsScaler ExtremeRandomTrees                0:00:40       0.8481    0.8488\n",
            "        28   SparseNormalizer LightGBM                      0:00:40       0.8481    0.8488\n",
            "        29   MaxAbsScaler LightGBM                          0:00:43       0.8469    0.8488\n",
            "        30   SparseNormalizer XGBoostClassifier             0:00:50       0.8481    0.8488\n",
            "        31   StandardScalerWrapper ExtremeRandomTrees       0:00:43       0.8481    0.8488\n",
            "        32   StandardScalerWrapper LightGBM                 0:00:48       0.8281    0.8488\n",
            "        33   MaxAbsScaler LightGBM                          0:00:36       0.8429    0.8488\n",
            "        34   MaxAbsScaler LightGBM                          0:00:29       0.8462    0.8488\n",
            "        35                                                  0:00:10          nan    0.8488\n",
            "        36    VotingEnsemble                                0:01:06       0.8481    0.8488\n",
            "        37    StackEnsemble                                 0:01:06       0.8347    0.8488\n"
          ]
        }
      ],
      "execution_count": 9,
      "metadata": {
        "gather": {
          "logged": 1618151634363
        },
        "jupyter": {
          "outputs_hidden": false,
          "source_hidden": false
        },
        "nteract": {
          "transient": {
            "deleting": false
          }
        }
      }
    },
    {
      "cell_type": "markdown",
      "source": [
        "## Run Details\n",
        "\n",
        "OPTIONAL: Write about the different models trained and their performance. Why do you think some models did better than others?\n",
        "\n",
        "TODO: In the cell below, use the `RunDetails` widget to show the different experiments."
      ],
      "metadata": {}
    },
    {
      "cell_type": "code",
      "source": [
        "RunDetails(remote_run).show()"
      ],
      "outputs": [
        {
          "output_type": "display_data",
          "data": {
            "text/plain": "_AutoMLWidget(widget_settings={'childWidgetDisplay': 'popup', 'send_telemetry': False, 'log_level': 'INFO', 's…",
            "application/vnd.jupyter.widget-view+json": {
              "version_major": 2,
              "version_minor": 0,
              "model_id": "36d64d7bd1c640d5b31cf453fc1c0c99"
            }
          },
          "metadata": {}
        },
        {
          "output_type": "display_data",
          "data": {
            "application/aml.mini.widget.v1": "{\"status\": \"Completed\", \"workbench_run_details_uri\": \"https://ml.azure.com/runs/AutoML_548fa0e4-d38a-4e27-92e4-5947f57948e6?wsid=/subscriptions/a24a24d5-8d87-4c8a-99b6-91ed2d2df51f/resourcegroups/aml-quickstarts-142387/workspaces/quick-starts-ws-142387&tid=660b3398-b80e-49d2-bc5b-ac1dc93b5254\", \"run_id\": \"AutoML_548fa0e4-d38a-4e27-92e4-5947f57948e6\", \"run_properties\": {\"run_id\": \"AutoML_548fa0e4-d38a-4e27-92e4-5947f57948e6\", \"created_utc\": \"2021-04-11T14:09:42.900623Z\", \"properties\": {\"num_iterations\": \"1000\", \"training_type\": \"TrainFull\", \"acquisition_function\": \"EI\", \"primary_metric\": \"accuracy\", \"train_split\": \"0\", \"acquisition_parameter\": \"0\", \"num_cross_validation\": null, \"target\": \"Compute-Cluster\", \"AMLSettingsJsonString\": \"{\\\"path\\\":null,\\\"name\\\":\\\"Framingham-Experiment\\\",\\\"subscription_id\\\":\\\"a24a24d5-8d87-4c8a-99b6-91ed2d2df51f\\\",\\\"resource_group\\\":\\\"aml-quickstarts-142387\\\",\\\"workspace_name\\\":\\\"quick-starts-ws-142387\\\",\\\"region\\\":\\\"southcentralus\\\",\\\"compute_target\\\":\\\"Compute-Cluster\\\",\\\"spark_service\\\":null,\\\"azure_service\\\":\\\"remote\\\",\\\"many_models\\\":false,\\\"pipeline_fetch_max_batch_size\\\":1,\\\"enable_batch_run\\\":false,\\\"enable_run_restructure\\\":false,\\\"iterations\\\":1000,\\\"primary_metric\\\":\\\"accuracy\\\",\\\"task_type\\\":\\\"classification\\\",\\\"data_script\\\":null,\\\"test_size\\\":0.0,\\\"validation_size\\\":0.0,\\\"n_cross_validations\\\":null,\\\"y_min\\\":null,\\\"y_max\\\":null,\\\"num_classes\\\":null,\\\"featurization\\\":\\\"auto\\\",\\\"_ignore_package_version_incompatibilities\\\":false,\\\"is_timeseries\\\":false,\\\"max_cores_per_iteration\\\":1,\\\"max_concurrent_iterations\\\":4,\\\"iteration_timeout_minutes\\\":null,\\\"mem_in_mb\\\":null,\\\"enforce_time_on_windows\\\":false,\\\"experiment_timeout_minutes\\\":30,\\\"experiment_exit_score\\\":null,\\\"whitelist_models\\\":null,\\\"blacklist_algos\\\":[\\\"TensorFlowLinearClassifier\\\",\\\"TensorFlowDNN\\\"],\\\"supported_models\\\":[\\\"AveragedPerceptronClassifier\\\",\\\"GradientBoosting\\\",\\\"BernoulliNaiveBayes\\\",\\\"KNN\\\",\\\"TensorFlowDNN\\\",\\\"MultinomialNaiveBayes\\\",\\\"LinearSVM\\\",\\\"RandomForest\\\",\\\"XGBoostClassifier\\\",\\\"SGD\\\",\\\"ExtremeRandomTrees\\\",\\\"TensorFlowLinearClassifier\\\",\\\"LightGBM\\\",\\\"LogisticRegression\\\",\\\"SVM\\\",\\\"DecisionTree\\\"],\\\"private_models\\\":[],\\\"auto_blacklist\\\":true,\\\"blacklist_samples_reached\\\":false,\\\"exclude_nan_labels\\\":true,\\\"verbosity\\\":20,\\\"_debug_log\\\":\\\"azureml_automl.log\\\",\\\"show_warnings\\\":false,\\\"model_explainability\\\":true,\\\"service_url\\\":null,\\\"sdk_url\\\":null,\\\"sdk_packages\\\":null,\\\"enable_onnx_compatible_models\\\":false,\\\"enable_split_onnx_featurizer_estimator_models\\\":false,\\\"vm_type\\\":\\\"STANDARD_D2_V2\\\",\\\"telemetry_verbosity\\\":20,\\\"send_telemetry\\\":true,\\\"enable_dnn\\\":false,\\\"scenario\\\":\\\"SDK-1.13.0\\\",\\\"environment_label\\\":null,\\\"save_mlflow\\\":false,\\\"force_text_dnn\\\":false,\\\"enable_feature_sweeping\\\":true,\\\"enable_early_stopping\\\":true,\\\"early_stopping_n_iters\\\":10,\\\"metrics\\\":null,\\\"enable_metric_confidence\\\":false,\\\"enable_ensembling\\\":true,\\\"enable_stack_ensembling\\\":true,\\\"ensemble_iterations\\\":15,\\\"enable_tf\\\":false,\\\"enable_subsampling\\\":null,\\\"subsample_seed\\\":null,\\\"enable_nimbusml\\\":false,\\\"enable_streaming\\\":false,\\\"force_streaming\\\":false,\\\"track_child_runs\\\":true,\\\"allowed_private_models\\\":[],\\\"label_column_name\\\":\\\"TenYearCHD\\\",\\\"weight_column_name\\\":null,\\\"cv_split_column_names\\\":null,\\\"enable_local_managed\\\":false,\\\"_local_managed_run_id\\\":null,\\\"cost_mode\\\":1,\\\"lag_length\\\":0,\\\"metric_operation\\\":\\\"maximize\\\",\\\"preprocess\\\":true}\", \"DataPrepJsonString\": \"{\\\\\\\"training_data\\\\\\\": {\\\\\\\"datasetId\\\\\\\": \\\\\\\"96a102e3-d085-4e41-b347-712d1ea48e3e\\\\\\\"}, \\\\\\\"datasets\\\\\\\": 0}\", \"EnableSubsampling\": null, \"runTemplate\": \"AutoML\", \"azureml.runsource\": \"automl\", \"display_task_type\": \"classification\", \"dependencies_versions\": \"{\\\"azureml-widgets\\\": \\\"1.26.0\\\", \\\"azureml-train\\\": \\\"1.26.0\\\", \\\"azureml-train-restclients-hyperdrive\\\": \\\"1.26.0\\\", \\\"azureml-train-core\\\": \\\"1.26.0\\\", \\\"azureml-train-automl-client\\\": \\\"1.26.0\\\", \\\"azureml-tensorboard\\\": \\\"1.26.0\\\", \\\"azureml-telemetry\\\": \\\"1.26.0\\\", \\\"azureml-sdk\\\": \\\"1.26.0\\\", \\\"azureml-pipeline\\\": \\\"1.26.0\\\", \\\"azureml-pipeline-steps\\\": \\\"1.26.0\\\", \\\"azureml-pipeline-core\\\": \\\"1.26.0\\\", \\\"azureml-opendatasets\\\": \\\"1.26.0\\\", \\\"azureml-model-management-sdk\\\": \\\"1.0.1b6.post1\\\", \\\"azureml-mlflow\\\": \\\"1.26.0\\\", \\\"azureml-interpret\\\": \\\"1.26.0\\\", \\\"azureml-explain-model\\\": \\\"1.26.0\\\", \\\"azureml-defaults\\\": \\\"1.26.0\\\", \\\"azureml-dataset-runtime\\\": \\\"1.26.0\\\", \\\"azureml-dataprep\\\": \\\"2.13.2\\\", \\\"azureml-dataprep-rslex\\\": \\\"1.11.2\\\", \\\"azureml-dataprep-native\\\": \\\"32.0.0\\\", \\\"azureml-datadrift\\\": \\\"1.26.0\\\", \\\"azureml-core\\\": \\\"1.26.0\\\", \\\"azureml-contrib-services\\\": \\\"1.26.0\\\", \\\"azureml-contrib-server\\\": \\\"1.26.0\\\", \\\"azureml-contrib-reinforcementlearning\\\": \\\"1.26.0\\\", \\\"azureml-contrib-pipeline-steps\\\": \\\"1.26.0\\\", \\\"azureml-contrib-notebook\\\": \\\"1.26.0\\\", \\\"azureml-contrib-gbdt\\\": \\\"1.26.0\\\", \\\"azureml-contrib-fairness\\\": \\\"1.26.0\\\", \\\"azureml-contrib-dataset\\\": \\\"1.26.0\\\", \\\"azureml-cli-common\\\": \\\"1.26.0\\\", \\\"azureml-automl-core\\\": \\\"1.26.0\\\", \\\"azureml-accel-models\\\": \\\"1.26.0\\\"}\", \"_aml_system_scenario_identification\": \"Remote.Parent\", \"ClientType\": \"SDK\", \"environment_cpu_name\": \"AzureML-AutoML\", \"environment_cpu_label\": \"prod\", \"environment_gpu_name\": \"AzureML-AutoML-GPU\", \"environment_gpu_label\": \"prod\", \"root_attribution\": \"automl\", \"attribution\": \"AutoML\", \"Orchestrator\": \"AutoML\", \"CancelUri\": \"https://southcentralus.experiments.azureml.net/jasmine/v1.0/subscriptions/a24a24d5-8d87-4c8a-99b6-91ed2d2df51f/resourceGroups/aml-quickstarts-142387/providers/Microsoft.MachineLearningServices/workspaces/quick-starts-ws-142387/experimentids/a5e9e258-6067-4913-a587-74f1c8a8a8a4/cancel/AutoML_548fa0e4-d38a-4e27-92e4-5947f57948e6\", \"ClientSdkVersion\": \"1.25.0\", \"snapshotId\": \"00000000-0000-0000-0000-000000000000\", \"SetupRunId\": \"AutoML_548fa0e4-d38a-4e27-92e4-5947f57948e6_setup\", \"SetupRunContainerId\": \"dcid.AutoML_548fa0e4-d38a-4e27-92e4-5947f57948e6_setup\", \"FeaturizationRunJsonPath\": \"featurizer_container.json\", \"FeaturizationRunId\": \"AutoML_548fa0e4-d38a-4e27-92e4-5947f57948e6_featurize\", \"ProblemInfoJsonString\": \"{\\\"dataset_num_categorical\\\": 0, \\\"is_sparse\\\": true, \\\"subsampling\\\": false, \\\"dataset_classes\\\": 2, \\\"dataset_features\\\": 1385, \\\"dataset_samples\\\": 4240, \\\"single_frequency_class_detected\\\": false}\", \"ModelExplainRunId\": \"AutoML_548fa0e4-d38a-4e27-92e4-5947f57948e6_ModelExplain\"}, \"tags\": {\"model_explain_run\": \"best_run\", \"_aml_system_azureml.automlComponent\": \"AutoML\", \"pipeline_id\": \"\", \"score\": \"\", \"predicted_cost\": \"\", \"fit_time\": \"\", \"training_percent\": \"\", \"iteration\": \"\", \"run_preprocessor\": \"\", \"run_algorithm\": \"\", \"dynamic_whitelisting_iterations\": \"<25>;<30>;<35>;\", \"automl_best_child_run_id\": \"AutoML_548fa0e4-d38a-4e27-92e4-5947f57948e6_14\", \"model_explain_best_run_child_id\": \"AutoML_548fa0e4-d38a-4e27-92e4-5947f57948e6_14\"}, \"end_time_utc\": \"2021-04-11T14:33:34.217422Z\", \"status\": \"Completed\", \"log_files\": {}, \"log_groups\": [], \"run_duration\": \"0:23:51\", \"run_number\": \"2\", \"run_queued_details\": {\"status\": \"Completed\", \"details\": null}}, \"child_runs\": [{\"run_id\": \"AutoML_548fa0e4-d38a-4e27-92e4-5947f57948e6_1\", \"run_number\": 6, \"metric\": null, \"status\": \"Completed\", \"run_type\": \"azureml.scriptrun\", \"training_percent\": \"100\", \"start_time\": \"2021-04-11T14:20:25.156062Z\", \"end_time\": \"2021-04-11T14:21:08.636655Z\", \"created_time\": \"2021-04-11T14:18:13.72455Z\", \"created_time_dt\": \"2021-04-11T14:18:13.72455Z\", \"duration\": \"0:02:54\", \"iteration\": \"1\", \"goal\": \"accuracy_max\", \"run_name\": \"MaxAbsScaler, XGBoostClassifier\", \"run_properties\": \"copy=True\", \"primary_metric\": 0.84717113, \"best_metric\": 0.84717113}, {\"run_id\": \"AutoML_548fa0e4-d38a-4e27-92e4-5947f57948e6_3\", \"run_number\": 7, \"metric\": null, \"status\": \"Completed\", \"run_type\": \"azureml.scriptrun\", \"training_percent\": \"100\", \"start_time\": \"2021-04-11T14:21:13.486888Z\", \"end_time\": \"2021-04-11T14:24:23.087672Z\", \"created_time\": \"2021-04-11T14:18:13.72864Z\", \"created_time_dt\": \"2021-04-11T14:18:13.72864Z\", \"duration\": \"0:06:09\", \"iteration\": \"3\", \"goal\": \"accuracy_max\", \"run_name\": \"MaxAbsScaler, RandomForest\", \"run_properties\": \"copy=True\", \"primary_metric\": 0.84811558, \"best_metric\": 0.84811558}, {\"run_id\": \"AutoML_548fa0e4-d38a-4e27-92e4-5947f57948e6_0\", \"run_number\": 8, \"metric\": null, \"status\": \"Completed\", \"run_type\": \"azureml.scriptrun\", \"training_percent\": \"100\", \"start_time\": \"2021-04-11T14:19:22.581606Z\", \"end_time\": \"2021-04-11T14:20:10.410282Z\", \"created_time\": \"2021-04-11T14:18:13.768167Z\", \"created_time_dt\": \"2021-04-11T14:18:13.768167Z\", \"duration\": \"0:01:56\", \"iteration\": \"0\", \"goal\": \"accuracy_max\", \"run_name\": \"MaxAbsScaler, LightGBM\", \"run_properties\": \"copy=True\", \"primary_metric\": 0.83207623, \"best_metric\": 0.83207623}, {\"run_id\": \"AutoML_548fa0e4-d38a-4e27-92e4-5947f57948e6_2\", \"run_number\": 9, \"metric\": null, \"status\": \"Completed\", \"run_type\": \"azureml.scriptrun\", \"training_percent\": \"100\", \"start_time\": \"2021-04-11T14:18:27.89519Z\", \"end_time\": \"2021-04-11T14:19:07.40669Z\", \"created_time\": \"2021-04-11T14:18:13.726423Z\", \"created_time_dt\": \"2021-04-11T14:18:13.726423Z\", \"duration\": \"0:00:53\", \"iteration\": \"2\", \"goal\": \"accuracy_max\", \"run_name\": \"MaxAbsScaler, RandomForest\", \"run_properties\": \"copy=True\", \"primary_metric\": 0.84811558, \"best_metric\": 0.84811558}, {\"run_id\": \"AutoML_548fa0e4-d38a-4e27-92e4-5947f57948e6_4\", \"run_number\": 10, \"metric\": null, \"status\": \"Completed\", \"run_type\": \"azureml.scriptrun\", \"training_percent\": \"100\", \"start_time\": \"2021-04-11T14:21:10.917355Z\", \"end_time\": \"2021-04-11T14:26:29.897605Z\", \"created_time\": \"2021-04-11T14:19:10.516535Z\", \"created_time_dt\": \"2021-04-11T14:19:10.516535Z\", \"duration\": \"0:07:19\", \"iteration\": \"4\", \"goal\": \"accuracy_max\", \"run_name\": \"MaxAbsScaler, RandomForest\", \"run_properties\": \"copy=True\", \"primary_metric\": 0.56703848, \"best_metric\": 0.84811558}, {\"run_id\": \"AutoML_548fa0e4-d38a-4e27-92e4-5947f57948e6_5\", \"run_number\": 11, \"metric\": null, \"status\": \"Completed\", \"run_type\": \"azureml.scriptrun\", \"training_percent\": \"100\", \"start_time\": \"2021-04-11T14:21:15.705825Z\", \"end_time\": \"2021-04-11T14:26:35.97181Z\", \"created_time\": \"2021-04-11T14:20:13.885629Z\", \"created_time_dt\": \"2021-04-11T14:20:13.885629Z\", \"duration\": \"0:06:22\", \"iteration\": \"5\", \"goal\": \"accuracy_max\", \"run_name\": \"MaxAbsScaler, RandomForest\", \"run_properties\": \"copy=True\", \"primary_metric\": 0.68112542, \"best_metric\": 0.84811558}, {\"run_id\": \"AutoML_548fa0e4-d38a-4e27-92e4-5947f57948e6_6\", \"run_number\": 12, \"metric\": null, \"status\": \"Completed\", \"run_type\": \"azureml.scriptrun\", \"training_percent\": \"100\", \"start_time\": \"2021-04-11T14:21:22.922192Z\", \"end_time\": \"2021-04-11T14:22:54.551079Z\", \"created_time\": \"2021-04-11T14:21:12.13423Z\", \"created_time_dt\": \"2021-04-11T14:21:12.13423Z\", \"duration\": \"0:01:42\", \"iteration\": \"6\", \"goal\": \"accuracy_max\", \"run_name\": \"TruncatedSVDWrapper, XGBoostClassifier\", \"run_properties\": \"n_components=0.7026315789473684, random_state=None\", \"primary_metric\": 0.84198239, \"best_metric\": 0.84811558}, {\"run_id\": \"AutoML_548fa0e4-d38a-4e27-92e4-5947f57948e6_7\", \"run_number\": 13, \"metric\": null, \"status\": \"Completed\", \"run_type\": \"azureml.scriptrun\", \"training_percent\": \"100\", \"start_time\": \"2021-04-11T14:23:09.210473Z\", \"end_time\": \"2021-04-11T14:23:50.653724Z\", \"created_time\": \"2021-04-11T14:22:59.011712Z\", \"created_time_dt\": \"2021-04-11T14:22:59.011712Z\", \"duration\": \"0:00:51\", \"iteration\": \"7\", \"goal\": \"accuracy_max\", \"run_name\": \"SparseNormalizer, XGBoostClassifier\", \"run_properties\": \"<azureml.automl.runtime.shared.model_wrappers.SparseNormalizer object at 0x7fef084e7ac8\", \"primary_metric\": 0.84056747, \"best_metric\": 0.84811558}, {\"run_id\": \"AutoML_548fa0e4-d38a-4e27-92e4-5947f57948e6_8\", \"run_number\": 14, \"metric\": null, \"status\": \"Completed\", \"run_type\": \"azureml.scriptrun\", \"training_percent\": \"100\", \"start_time\": \"2021-04-11T14:24:05.787976Z\", \"end_time\": \"2021-04-11T14:24:51.639838Z\", \"created_time\": \"2021-04-11T14:23:53.357347Z\", \"created_time_dt\": \"2021-04-11T14:23:53.357347Z\", \"duration\": \"0:00:58\", \"iteration\": \"8\", \"goal\": \"accuracy_max\", \"run_name\": \"MaxAbsScaler, LogisticRegression\", \"run_properties\": \"copy=True\", \"primary_metric\": 0.80636846, \"best_metric\": 0.84811558}, {\"run_id\": \"AutoML_548fa0e4-d38a-4e27-92e4-5947f57948e6_9\", \"run_number\": 15, \"metric\": null, \"status\": \"Completed\", \"run_type\": \"azureml.scriptrun\", \"training_percent\": \"100\", \"start_time\": \"2021-04-11T14:24:35.139239Z\", \"end_time\": \"2021-04-11T14:25:19.378782Z\", \"created_time\": \"2021-04-11T14:24:25.619389Z\", \"created_time_dt\": \"2021-04-11T14:24:25.619389Z\", \"duration\": \"0:00:53\", \"iteration\": \"9\", \"goal\": \"accuracy_max\", \"run_name\": \"MaxAbsScaler, LogisticRegression\", \"run_properties\": \"copy=True\", \"primary_metric\": 0.77688738, \"best_metric\": 0.84811558}, {\"run_id\": \"AutoML_548fa0e4-d38a-4e27-92e4-5947f57948e6_10\", \"run_number\": 16, \"metric\": null, \"status\": \"Completed\", \"run_type\": \"azureml.scriptrun\", \"training_percent\": \"100\", \"start_time\": \"2021-04-11T14:25:08.71365Z\", \"end_time\": \"2021-04-11T14:25:51.437237Z\", \"created_time\": \"2021-04-11T14:24:54.954183Z\", \"created_time_dt\": \"2021-04-11T14:24:54.954183Z\", \"duration\": \"0:00:56\", \"iteration\": \"10\", \"goal\": \"accuracy_max\", \"run_name\": \"MaxAbsScaler, LightGBM\", \"run_properties\": \"copy=True\", \"primary_metric\": 0.84811558, \"best_metric\": 0.84811558}, {\"run_id\": \"AutoML_548fa0e4-d38a-4e27-92e4-5947f57948e6_11\", \"run_number\": 17, \"metric\": null, \"status\": \"Completed\", \"run_type\": \"azureml.scriptrun\", \"training_percent\": \"100\", \"start_time\": \"2021-04-11T14:25:33.619864Z\", \"end_time\": \"2021-04-11T14:26:27.332676Z\", \"created_time\": \"2021-04-11T14:25:21.936919Z\", \"created_time_dt\": \"2021-04-11T14:25:21.936919Z\", \"duration\": \"0:01:05\", \"iteration\": \"11\", \"goal\": \"accuracy_max\", \"run_name\": \"MaxAbsScaler, ExtremeRandomTrees\", \"run_properties\": \"copy=True\", \"primary_metric\": 0.84811558, \"best_metric\": 0.84811558}, {\"run_id\": \"AutoML_548fa0e4-d38a-4e27-92e4-5947f57948e6_12\", \"run_number\": 18, \"metric\": null, \"status\": \"Completed\", \"run_type\": \"azureml.scriptrun\", \"training_percent\": \"100\", \"start_time\": \"2021-04-11T14:26:07.695194Z\", \"end_time\": \"2021-04-11T14:26:55.338245Z\", \"created_time\": \"2021-04-11T14:25:54.493518Z\", \"created_time_dt\": \"2021-04-11T14:25:54.493518Z\", \"duration\": \"0:01:00\", \"iteration\": \"12\", \"goal\": \"accuracy_max\", \"run_name\": \"SparseNormalizer, LightGBM\", \"run_properties\": \"<azureml.automl.runtime.shared.model_wrappers.SparseNormalizer object at 0x7fea360d6d30\", \"primary_metric\": 0.84552063, \"best_metric\": 0.84811558}, {\"run_id\": \"AutoML_548fa0e4-d38a-4e27-92e4-5947f57948e6_13\", \"run_number\": 19, \"metric\": null, \"status\": \"Completed\", \"run_type\": \"azureml.scriptrun\", \"training_percent\": \"100\", \"start_time\": \"2021-04-11T14:26:44.438633Z\", \"end_time\": \"2021-04-11T14:27:29.928706Z\", \"created_time\": \"2021-04-11T14:26:31.718668Z\", \"created_time_dt\": \"2021-04-11T14:26:31.718668Z\", \"duration\": \"0:00:58\", \"iteration\": \"13\", \"goal\": \"accuracy_max\", \"run_name\": \"MaxAbsScaler, GradientBoosting\", \"run_properties\": \"copy=True\", \"primary_metric\": 0.84811558, \"best_metric\": 0.84811558}, {\"run_id\": \"AutoML_548fa0e4-d38a-4e27-92e4-5947f57948e6_15\", \"run_number\": 20, \"metric\": null, \"status\": \"Completed\", \"run_type\": \"azureml.scriptrun\", \"training_percent\": \"100\", \"start_time\": \"2021-04-11T14:26:53.828284Z\", \"end_time\": \"2021-04-11T14:27:39.960848Z\", \"created_time\": \"2021-04-11T14:26:39.996285Z\", \"created_time_dt\": \"2021-04-11T14:26:39.996285Z\", \"duration\": \"0:00:59\", \"iteration\": \"15\", \"goal\": \"accuracy_max\", \"run_name\": \"StandardScalerWrapper, LightGBM\", \"run_properties\": \"<azureml.automl.runtime.shared.model_wrappers.StandardScalerWrapper object at 0x7f96700cf4a8\", \"primary_metric\": 0.84693606, \"best_metric\": 0.84882363}, {\"run_id\": \"AutoML_548fa0e4-d38a-4e27-92e4-5947f57948e6_14\", \"run_number\": 21, \"metric\": null, \"status\": \"Completed\", \"run_type\": \"azureml.scriptrun\", \"training_percent\": \"100\", \"start_time\": \"2021-04-11T14:26:51.235701Z\", \"end_time\": \"2021-04-11T14:27:28.222825Z\", \"created_time\": \"2021-04-11T14:26:40.222787Z\", \"created_time_dt\": \"2021-04-11T14:26:40.222787Z\", \"duration\": \"0:00:48\", \"iteration\": \"14\", \"goal\": \"accuracy_max\", \"run_name\": \"StandardScalerWrapper, XGBoostClassifier\", \"run_properties\": \"<azureml.automl.runtime.shared.model_wrappers.StandardScalerWrapper object at 0x7f43492dc0f0\", \"primary_metric\": 0.84882363, \"best_metric\": 0.84882363}, {\"run_id\": \"AutoML_548fa0e4-d38a-4e27-92e4-5947f57948e6_16\", \"run_number\": 22, \"metric\": null, \"status\": \"Completed\", \"run_type\": \"azureml.scriptrun\", \"training_percent\": \"100\", \"start_time\": \"2021-04-11T14:27:10.880619Z\", \"end_time\": \"2021-04-11T14:28:10.671858Z\", \"created_time\": \"2021-04-11T14:26:58.870738Z\", \"created_time_dt\": \"2021-04-11T14:26:58.870738Z\", \"duration\": \"0:01:11\", \"iteration\": \"16\", \"goal\": \"accuracy_max\", \"run_name\": \"SparseNormalizer, XGBoostClassifier\", \"run_properties\": \"<azureml.automl.runtime.shared.model_wrappers.SparseNormalizer object at 0x7f9f77168be0\", \"primary_metric\": 0.8391517, \"best_metric\": 0.84882363}, {\"run_id\": \"AutoML_548fa0e4-d38a-4e27-92e4-5947f57948e6_17\", \"run_number\": 23, \"metric\": null, \"status\": \"Completed\", \"run_type\": \"azureml.scriptrun\", \"training_percent\": \"100\", \"start_time\": \"2021-04-11T14:27:43.237641Z\", \"end_time\": \"2021-04-11T14:28:27.412003Z\", \"created_time\": \"2021-04-11T14:27:30.095938Z\", \"created_time_dt\": \"2021-04-11T14:27:30.095938Z\", \"duration\": \"0:00:57\", \"iteration\": \"17\", \"goal\": \"accuracy_max\", \"run_name\": \"MaxAbsScaler, LogisticRegression\", \"run_properties\": \"copy=True\", \"primary_metric\": 0.82287728, \"best_metric\": 0.84882363}, {\"run_id\": \"AutoML_548fa0e4-d38a-4e27-92e4-5947f57948e6_18\", \"run_number\": 24, \"metric\": null, \"status\": \"Completed\", \"run_type\": \"azureml.scriptrun\", \"training_percent\": \"100\", \"start_time\": \"2021-04-11T14:27:47.033634Z\", \"end_time\": \"2021-04-11T14:28:25.047173Z\", \"created_time\": \"2021-04-11T14:27:33.770889Z\", \"created_time_dt\": \"2021-04-11T14:27:33.770889Z\", \"duration\": \"0:00:51\", \"iteration\": \"18\", \"goal\": \"accuracy_max\", \"run_name\": \"MaxAbsScaler, RandomForest\", \"run_properties\": \"copy=True\", \"primary_metric\": 0.84811558, \"best_metric\": 0.84882363}, {\"run_id\": \"AutoML_548fa0e4-d38a-4e27-92e4-5947f57948e6_19\", \"run_number\": 25, \"metric\": null, \"status\": \"Completed\", \"run_type\": \"azureml.scriptrun\", \"training_percent\": \"100\", \"start_time\": \"2021-04-11T14:27:55.613821Z\", \"end_time\": \"2021-04-11T14:28:47.14853Z\", \"created_time\": \"2021-04-11T14:27:41.772274Z\", \"created_time_dt\": \"2021-04-11T14:27:41.772274Z\", \"duration\": \"0:01:05\", \"iteration\": \"19\", \"goal\": \"accuracy_max\", \"run_name\": \"MaxAbsScaler, LogisticRegression\", \"run_properties\": \"copy=True\", \"primary_metric\": 0.78207662, \"best_metric\": 0.84882363}, {\"run_id\": \"AutoML_548fa0e4-d38a-4e27-92e4-5947f57948e6_20\", \"run_number\": 26, \"metric\": null, \"status\": \"Completed\", \"run_type\": \"azureml.scriptrun\", \"training_percent\": \"100\", \"start_time\": \"2021-04-11T14:28:22.137152Z\", \"end_time\": \"2021-04-11T14:29:07.474909Z\", \"created_time\": \"2021-04-11T14:28:12.420084Z\", \"created_time_dt\": \"2021-04-11T14:28:12.420084Z\", \"duration\": \"0:00:55\", \"iteration\": \"20\", \"goal\": \"accuracy_max\", \"run_name\": \"StandardScalerWrapper, LightGBM\", \"run_properties\": \"<azureml.automl.runtime.shared.model_wrappers.StandardScalerWrapper object at 0x7f09a1604588\", \"primary_metric\": 0.84811558, \"best_metric\": 0.84882363}, {\"run_id\": \"AutoML_548fa0e4-d38a-4e27-92e4-5947f57948e6_21\", \"run_number\": 27, \"metric\": null, \"status\": \"Completed\", \"run_type\": \"azureml.scriptrun\", \"training_percent\": \"100\", \"start_time\": \"2021-04-11T14:28:37.424624Z\", \"end_time\": \"2021-04-11T14:29:19.372082Z\", \"created_time\": \"2021-04-11T14:28:26.921125Z\", \"created_time_dt\": \"2021-04-11T14:28:26.921125Z\", \"duration\": \"0:00:52\", \"iteration\": \"21\", \"goal\": \"accuracy_max\", \"run_name\": \"MaxAbsScaler, ExtremeRandomTrees\", \"run_properties\": \"copy=True\", \"primary_metric\": 0.84811558, \"best_metric\": 0.84882363}, {\"run_id\": \"AutoML_548fa0e4-d38a-4e27-92e4-5947f57948e6_22\", \"run_number\": 28, \"metric\": null, \"status\": \"Completed\", \"run_type\": \"azureml.scriptrun\", \"training_percent\": \"100\", \"start_time\": \"2021-04-11T14:28:43.497691Z\", \"end_time\": \"2021-04-11T14:29:26.031814Z\", \"created_time\": \"2021-04-11T14:28:31.517191Z\", \"created_time_dt\": \"2021-04-11T14:28:31.517191Z\", \"duration\": \"0:00:54\", \"iteration\": \"22\", \"goal\": \"accuracy_max\", \"run_name\": \"SparseNormalizer, XGBoostClassifier\", \"run_properties\": \"<azureml.automl.runtime.shared.model_wrappers.SparseNormalizer object at 0x7f4d0e24de48\", \"primary_metric\": 0.83962251, \"best_metric\": 0.84882363}, {\"run_id\": \"AutoML_548fa0e4-d38a-4e27-92e4-5947f57948e6_23\", \"run_number\": 29, \"metric\": null, \"status\": \"Completed\", \"run_type\": \"azureml.scriptrun\", \"training_percent\": \"100\", \"start_time\": \"2021-04-11T14:29:01.776904Z\", \"end_time\": \"2021-04-11T14:29:50.221173Z\", \"created_time\": \"2021-04-11T14:28:48.854765Z\", \"created_time_dt\": \"2021-04-11T14:28:48.854765Z\", \"duration\": \"0:01:01\", \"iteration\": \"23\", \"goal\": \"accuracy_max\", \"run_name\": \"MaxAbsScaler, ExtremeRandomTrees\", \"run_properties\": \"copy=True\", \"primary_metric\": 0.84811558, \"best_metric\": 0.84882363}, {\"run_id\": \"AutoML_548fa0e4-d38a-4e27-92e4-5947f57948e6_24\", \"run_number\": 30, \"metric\": null, \"status\": \"Completed\", \"run_type\": \"azureml.scriptrun\", \"training_percent\": \"100\", \"start_time\": \"2021-04-11T14:29:24.69761Z\", \"end_time\": \"2021-04-11T14:30:10.435107Z\", \"created_time\": \"2021-04-11T14:29:10.982854Z\", \"created_time_dt\": \"2021-04-11T14:29:10.982854Z\", \"duration\": \"0:00:59\", \"iteration\": \"24\", \"goal\": \"accuracy_max\", \"run_name\": \"SparseNormalizer, LightGBM\", \"run_properties\": \"<azureml.automl.runtime.shared.model_wrappers.SparseNormalizer object at 0x7fbfe5760a90\", \"primary_metric\": 0.84811558, \"best_metric\": 0.84882363}, {\"run_id\": \"AutoML_548fa0e4-d38a-4e27-92e4-5947f57948e6_25\", \"run_number\": 31, \"metric\": null, \"status\": \"Completed\", \"run_type\": \"azureml.scriptrun\", \"training_percent\": \"100\", \"start_time\": \"2021-04-11T14:29:35.434651Z\", \"end_time\": \"2021-04-11T14:30:24.367705Z\", \"created_time\": \"2021-04-11T14:29:23.140128Z\", \"created_time_dt\": \"2021-04-11T14:29:23.140128Z\", \"duration\": \"0:01:01\", \"iteration\": \"25\", \"goal\": \"accuracy_max\", \"run_name\": \"SparseNormalizer, XGBoostClassifier\", \"run_properties\": \"<azureml.automl.runtime.shared.model_wrappers.SparseNormalizer object at 0x7fa6952ab9e8\", \"primary_metric\": 0.84811558, \"best_metric\": 0.84882363}, {\"run_id\": \"AutoML_548fa0e4-d38a-4e27-92e4-5947f57948e6_26\", \"run_number\": 32, \"metric\": null, \"status\": \"Completed\", \"run_type\": \"azureml.scriptrun\", \"training_percent\": \"100\", \"start_time\": \"2021-04-11T14:29:42.334955Z\", \"end_time\": \"2021-04-11T14:30:25.948979Z\", \"created_time\": \"2021-04-11T14:29:27.99077Z\", \"created_time_dt\": \"2021-04-11T14:29:27.99077Z\", \"duration\": \"0:00:57\", \"iteration\": \"26\", \"goal\": \"accuracy_max\", \"run_name\": \"StandardScalerWrapper, ExtremeRandomTrees\", \"run_properties\": \"<azureml.automl.runtime.shared.model_wrappers.StandardScalerWrapper object at 0x7f2fb4bfefd0\", \"primary_metric\": 0.84811558, \"best_metric\": 0.84882363}, {\"run_id\": \"AutoML_548fa0e4-d38a-4e27-92e4-5947f57948e6_27\", \"run_number\": 33, \"metric\": null, \"status\": \"Completed\", \"run_type\": \"azureml.scriptrun\", \"training_percent\": \"100\", \"start_time\": \"2021-04-11T14:30:06.984224Z\", \"end_time\": \"2021-04-11T14:30:47.470007Z\", \"created_time\": \"2021-04-11T14:29:52.175152Z\", \"created_time_dt\": \"2021-04-11T14:29:52.175152Z\", \"duration\": \"0:00:55\", \"iteration\": \"27\", \"goal\": \"accuracy_max\", \"run_name\": \"MaxAbsScaler, ExtremeRandomTrees\", \"run_properties\": \"copy=True\", \"primary_metric\": 0.84811558, \"best_metric\": 0.84882363}, {\"run_id\": \"AutoML_548fa0e4-d38a-4e27-92e4-5947f57948e6_28\", \"run_number\": 34, \"metric\": null, \"status\": \"Completed\", \"run_type\": \"azureml.scriptrun\", \"training_percent\": \"100\", \"start_time\": \"2021-04-11T14:30:25.301871Z\", \"end_time\": \"2021-04-11T14:31:05.547263Z\", \"created_time\": \"2021-04-11T14:30:12.083976Z\", \"created_time_dt\": \"2021-04-11T14:30:12.083976Z\", \"duration\": \"0:00:53\", \"iteration\": \"28\", \"goal\": \"accuracy_max\", \"run_name\": \"SparseNormalizer, LightGBM\", \"run_properties\": \"<azureml.automl.runtime.shared.model_wrappers.SparseNormalizer object at 0x7fcf6a62b048\", \"primary_metric\": 0.84811558, \"best_metric\": 0.84882363}, {\"run_id\": \"AutoML_548fa0e4-d38a-4e27-92e4-5947f57948e6_29\", \"run_number\": 35, \"metric\": null, \"status\": \"Completed\", \"run_type\": \"azureml.scriptrun\", \"training_percent\": \"100\", \"start_time\": \"2021-04-11T14:30:39.748841Z\", \"end_time\": \"2021-04-11T14:31:22.472191Z\", \"created_time\": \"2021-04-11T14:30:26.157768Z\", \"created_time_dt\": \"2021-04-11T14:30:26.157768Z\", \"duration\": \"0:00:56\", \"iteration\": \"29\", \"goal\": \"accuracy_max\", \"run_name\": \"MaxAbsScaler, LightGBM\", \"run_properties\": \"copy=True\", \"primary_metric\": 0.84693606, \"best_metric\": 0.84882363}, {\"run_id\": \"AutoML_548fa0e4-d38a-4e27-92e4-5947f57948e6_30\", \"run_number\": 36, \"metric\": null, \"status\": \"Completed\", \"run_type\": \"azureml.scriptrun\", \"training_percent\": \"100\", \"start_time\": \"2021-04-11T14:30:39.602064Z\", \"end_time\": \"2021-04-11T14:31:29.56632Z\", \"created_time\": \"2021-04-11T14:30:29.978264Z\", \"created_time_dt\": \"2021-04-11T14:30:29.978264Z\", \"duration\": \"0:00:59\", \"iteration\": \"30\", \"goal\": \"accuracy_max\", \"run_name\": \"SparseNormalizer, XGBoostClassifier\", \"run_properties\": \"<azureml.automl.runtime.shared.model_wrappers.SparseNormalizer object at 0x7f9267e40b00\", \"primary_metric\": 0.84811558, \"best_metric\": 0.84882363}, {\"run_id\": \"AutoML_548fa0e4-d38a-4e27-92e4-5947f57948e6_31\", \"run_number\": 37, \"metric\": null, \"status\": \"Completed\", \"run_type\": \"azureml.scriptrun\", \"training_percent\": \"100\", \"start_time\": \"2021-04-11T14:31:05.682449Z\", \"end_time\": \"2021-04-11T14:31:49.069009Z\", \"created_time\": \"2021-04-11T14:30:49.136808Z\", \"created_time_dt\": \"2021-04-11T14:30:49.136808Z\", \"duration\": \"0:00:59\", \"iteration\": \"31\", \"goal\": \"accuracy_max\", \"run_name\": \"StandardScalerWrapper, ExtremeRandomTrees\", \"run_properties\": \"<azureml.automl.runtime.shared.model_wrappers.StandardScalerWrapper object at 0x7f5d56bd4cc0\", \"primary_metric\": 0.84811558, \"best_metric\": 0.84882363}, {\"run_id\": \"AutoML_548fa0e4-d38a-4e27-92e4-5947f57948e6_32\", \"run_number\": 38, \"metric\": null, \"status\": \"Completed\", \"run_type\": \"azureml.scriptrun\", \"training_percent\": \"100\", \"start_time\": \"2021-04-11T14:31:18.093268Z\", \"end_time\": \"2021-04-11T14:32:06.390131Z\", \"created_time\": \"2021-04-11T14:31:07.268537Z\", \"created_time_dt\": \"2021-04-11T14:31:07.268537Z\", \"duration\": \"0:00:59\", \"iteration\": \"32\", \"goal\": \"accuracy_max\", \"run_name\": \"StandardScalerWrapper, LightGBM\", \"run_properties\": \"<azureml.automl.runtime.shared.model_wrappers.StandardScalerWrapper object at 0x7ffae736dfd0\", \"primary_metric\": 0.82806568, \"best_metric\": 0.84882363}, {\"run_id\": \"AutoML_548fa0e4-d38a-4e27-92e4-5947f57948e6_33\", \"run_number\": 39, \"metric\": null, \"status\": \"Canceled\", \"run_type\": \"azureml.scriptrun\", \"training_percent\": \"100\", \"start_time\": \"2021-04-11T14:31:36.969252Z\", \"end_time\": \"2021-04-11T14:32:12.983306Z\", \"created_time\": \"2021-04-11T14:31:24.189217Z\", \"created_time_dt\": \"2021-04-11T14:31:24.189217Z\", \"duration\": \"0:00:48\", \"iteration\": \"33\", \"goal\": \"accuracy_max\", \"run_name\": \"MaxAbsScaler, LightGBM\", \"run_properties\": \"copy=True\", \"primary_metric\": 0.84292568, \"best_metric\": 0.84882363}, {\"run_id\": \"AutoML_548fa0e4-d38a-4e27-92e4-5947f57948e6_34\", \"run_number\": 40, \"metric\": null, \"status\": \"Canceled\", \"run_type\": \"azureml.scriptrun\", \"training_percent\": \"100\", \"start_time\": \"2021-04-11T14:31:44.132478Z\", \"end_time\": \"2021-04-11T14:32:13.216861Z\", \"created_time\": \"2021-04-11T14:31:31.446741Z\", \"created_time_dt\": \"2021-04-11T14:31:31.446741Z\", \"duration\": \"0:00:41\", \"iteration\": \"34\", \"goal\": \"accuracy_max\", \"run_name\": \"MaxAbsScaler, LightGBM\", \"run_properties\": \"copy=True\", \"primary_metric\": 0.84622834, \"best_metric\": 0.84882363}, {\"run_id\": \"AutoML_548fa0e4-d38a-4e27-92e4-5947f57948e6_35\", \"run_number\": 41, \"metric\": null, \"status\": \"Canceled\", \"run_type\": \"azureml.scriptrun\", \"training_percent\": \"100\", \"start_time\": \"2021-04-11T14:32:02.481015Z\", \"end_time\": \"2021-04-11T14:32:12.919887Z\", \"created_time\": \"2021-04-11T14:31:51.894556Z\", \"created_time_dt\": \"2021-04-11T14:31:51.894556Z\", \"duration\": \"0:00:21\", \"iteration\": \"35\", \"goal\": null, \"run_name\": \"Canceled\", \"run_properties\": null}, {\"run_id\": \"AutoML_548fa0e4-d38a-4e27-92e4-5947f57948e6_36\", \"run_number\": 42, \"metric\": null, \"status\": \"Completed\", \"run_type\": \"azureml.scriptrun\", \"training_percent\": \"100\", \"start_time\": \"2021-04-11T14:32:24.312045Z\", \"end_time\": \"2021-04-11T14:33:30.614303Z\", \"created_time\": \"2021-04-11T14:32:14.103133Z\", \"created_time_dt\": \"2021-04-11T14:32:14.103133Z\", \"duration\": \"0:01:16\", \"iteration\": \"36\", \"goal\": \"accuracy_max\", \"run_name\": \"VotingEnsemble\", \"run_properties\": \"classification_labels=None,\\n                              estimators=[('14',\\n                                           Pipeline(memory=None,\\n                                                    steps=[('standardscalerwrapper',\\n                                                            <azureml.automl.runtime.shared.model_wrappers.StandardScalerWrapper object at 0x7f744c7d8e48>\", \"primary_metric\": 0.84811558, \"best_metric\": 0.84882363}, {\"run_id\": \"AutoML_548fa0e4-d38a-4e27-92e4-5947f57948e6_37\", \"run_number\": 43, \"metric\": null, \"status\": \"Completed\", \"run_type\": \"azureml.scriptrun\", \"training_percent\": \"100\", \"start_time\": \"2021-04-11T14:32:23.625833Z\", \"end_time\": \"2021-04-11T14:33:29.901135Z\", \"created_time\": \"2021-04-11T14:32:14.143072Z\", \"created_time_dt\": \"2021-04-11T14:32:14.143072Z\", \"duration\": \"0:01:15\", \"iteration\": \"37\", \"goal\": \"accuracy_max\", \"run_name\": \"StackEnsemble\", \"run_properties\": \"base_learners=[('14',\\n                                        Pipeline(memory=None,\\n                                                 steps=[('standardscalerwrapper',\\n                                                         <azureml.automl.runtime.shared.model_wrappers.StandardScalerWrapper object at 0x7f652409b198>\", \"primary_metric\": 0.83466901, \"best_metric\": 0.84882363}], \"children_metrics\": {\"categories\": [0], \"series\": {\"average_precision_score_micro\": [{\"categories\": [\"0\", \"1\", \"2\", \"3\", \"4\", \"5\", \"6\", \"7\", \"8\", \"9\", \"10\", \"11\", \"12\", \"13\", \"14\", \"15\", \"16\", \"17\", \"18\", \"19\", \"20\", \"21\", \"22\", \"23\", \"24\", \"25\", \"26\", \"27\", \"28\", \"29\", \"30\", \"31\", \"32\", \"33\", \"34\", \"36\", \"37\"], \"mode\": \"markers\", \"name\": \"average_precision_score_micro\", \"stepped\": false, \"type\": \"scatter\", \"data\": [0.8592287392735471, 0.8779004009511157, 0.8782813855769988, 0.8309610963293057, 0.6055285056211999, 0.6536895490856404, 0.8723236403473335, 0.8770033013455004, 0.8480897753131827, 0.8204796175115986, 0.8721018382512461, 0.8770512302771895, 0.8763920422695187, 0.8742860586054509, 0.8791592378677829, 0.8715796713852585, 0.8689279850579689, 0.8632173686553167, 0.8295258261570994, 0.8284502317240223, 0.8722188540526052, 0.8766352590448143, 0.8763391690071357, 0.8773665753107357, 0.874282641109021, 0.7953631303377638, 0.876433863128593, 0.8743557178586405, 0.8721531769628016, 0.8721259472651814, 0.7953631303377638, 0.8746525186490688, 0.849678222437285, 0.8678994097806987, 0.8718407169186149, 0.8806592807412343, 0.8782031100617393]}, {\"categories\": [\"0\", \"1\", \"2\", \"3\", \"4\", \"5\", \"6\", \"7\", \"8\", \"9\", \"10\", \"11\", \"12\", \"13\", \"14\", \"15\", \"16\", \"17\", \"18\", \"19\", \"20\", \"21\", \"22\", \"23\", \"24\", \"25\", \"26\", \"27\", \"28\", \"29\", \"30\", \"31\", \"32\", \"33\", \"34\", \"36\", \"37\"], \"mode\": \"lines\", \"name\": \"average_precision_score_micro_max\", \"stepped\": true, \"type\": \"scatter\", \"data\": [0.8592287392735471, 0.8779004009511157, 0.8782813855769988, 0.8782813855769988, 0.8782813855769988, 0.8782813855769988, 0.8782813855769988, 0.8782813855769988, 0.8782813855769988, 0.8782813855769988, 0.8782813855769988, 0.8782813855769988, 0.8782813855769988, 0.8782813855769988, 0.8791592378677829, 0.8791592378677829, 0.8791592378677829, 0.8791592378677829, 0.8791592378677829, 0.8791592378677829, 0.8791592378677829, 0.8791592378677829, 0.8791592378677829, 0.8791592378677829, 0.8791592378677829, 0.8791592378677829, 0.8791592378677829, 0.8791592378677829, 0.8791592378677829, 0.8791592378677829, 0.8791592378677829, 0.8791592378677829, 0.8791592378677829, 0.8791592378677829, 0.8791592378677829, 0.8806592807412343, 0.8806592807412343]}], \"average_precision_score_macro\": [{\"categories\": [\"0\", \"1\", \"2\", \"3\", \"4\", \"5\", \"6\", \"7\", \"8\", \"9\", \"10\", \"11\", \"12\", \"13\", \"14\", \"15\", \"16\", \"17\", \"18\", \"19\", \"20\", \"21\", \"22\", \"23\", \"24\", \"25\", \"26\", \"27\", \"28\", \"29\", \"30\", \"31\", \"32\", \"33\", \"34\", \"36\", \"37\"], \"mode\": \"markers\", \"name\": \"average_precision_score_macro\", \"stepped\": false, \"type\": \"scatter\", \"data\": [0.5648125926108533, 0.5955597537659437, 0.5943465605447842, 0.5286673318593124, 0.546683090579979, 0.5773138597246166, 0.5693162458402949, 0.5919850220522962, 0.5586798490700312, 0.5416135305538808, 0.5851293558112524, 0.5874961978247434, 0.5957805917581154, 0.5895769666223002, 0.589293684546189, 0.5893337152645873, 0.5827179261151428, 0.5707329689290525, 0.5338126897637655, 0.5471475123878583, 0.5890182500034394, 0.588188124645992, 0.5890113329563162, 0.588716496857717, 0.5932837943147095, 0.5, 0.5888229758830796, 0.5783335949847958, 0.5948003642190485, 0.5900521326644109, 0.5, 0.5850112552756617, 0.551578199098547, 0.5856611397739978, 0.5910173891429001, 0.5960515835603809, 0.5945033486734673]}, {\"categories\": [\"0\", \"1\", \"2\", \"3\", \"4\", \"5\", \"6\", \"7\", \"8\", \"9\", \"10\", \"11\", \"12\", \"13\", \"14\", \"15\", \"16\", \"17\", \"18\", \"19\", \"20\", \"21\", \"22\", \"23\", \"24\", \"25\", \"26\", \"27\", \"28\", \"29\", \"30\", \"31\", \"32\", \"33\", \"34\", \"36\", \"37\"], \"mode\": \"lines\", \"name\": \"average_precision_score_macro_max\", \"stepped\": true, \"type\": \"scatter\", \"data\": [0.5648125926108533, 0.5955597537659437, 0.5955597537659437, 0.5955597537659437, 0.5955597537659437, 0.5955597537659437, 0.5955597537659437, 0.5955597537659437, 0.5955597537659437, 0.5955597537659437, 0.5955597537659437, 0.5955597537659437, 0.5957805917581154, 0.5957805917581154, 0.5957805917581154, 0.5957805917581154, 0.5957805917581154, 0.5957805917581154, 0.5957805917581154, 0.5957805917581154, 0.5957805917581154, 0.5957805917581154, 0.5957805917581154, 0.5957805917581154, 0.5957805917581154, 0.5957805917581154, 0.5957805917581154, 0.5957805917581154, 0.5957805917581154, 0.5957805917581154, 0.5957805917581154, 0.5957805917581154, 0.5957805917581154, 0.5957805917581154, 0.5957805917581154, 0.5960515835603809, 0.5960515835603809]}], \"f1_score_weighted\": [{\"categories\": [\"0\", \"1\", \"2\", \"3\", \"4\", \"5\", \"6\", \"7\", \"8\", \"9\", \"10\", \"11\", \"12\", \"13\", \"14\", \"15\", \"16\", \"17\", \"18\", \"19\", \"20\", \"21\", \"22\", \"23\", \"24\", \"25\", \"26\", \"27\", \"28\", \"29\", \"30\", \"31\", \"32\", \"33\", \"34\", \"36\", \"37\"], \"mode\": \"markers\", \"name\": \"f1_score_weighted\", \"stepped\": false, \"type\": \"scatter\", \"data\": [0.7899484792444041, 0.7864332384466984, 0.7784527258598235, 0.7784527258598235, 0.5990385238294067, 0.7214621545150592, 0.7808130989382257, 0.7871623863933569, 0.7848086369152875, 0.7685576709785923, 0.7784527258598235, 0.7784527258598235, 0.7788063760235168, 0.7784527258598235, 0.7840608845605511, 0.7787520562177095, 0.7865962473799488, 0.7886904606652658, 0.7784527258598235, 0.7727301599516637, 0.7784527258598235, 0.7784527258598235, 0.7879640562581729, 0.7784527258598235, 0.7784527258598235, 0.7784527258598235, 0.7784527258598235, 0.7784527258598235, 0.7784527258598235, 0.7783037981690328, 0.7784527258598235, 0.7784527258598235, 0.7906849698530144, 0.7799873982930253, 0.7788119111719234, 0.7784527258598235, 0.7774569864256836]}, {\"categories\": [\"0\", \"1\", \"2\", \"3\", \"4\", \"5\", \"6\", \"7\", \"8\", \"9\", \"10\", \"11\", \"12\", \"13\", \"14\", \"15\", \"16\", \"17\", \"18\", \"19\", \"20\", \"21\", \"22\", \"23\", \"24\", \"25\", \"26\", \"27\", \"28\", \"29\", \"30\", \"31\", \"32\", \"33\", \"34\", \"36\", \"37\"], \"mode\": \"lines\", \"name\": \"f1_score_weighted_max\", \"stepped\": true, \"type\": \"scatter\", \"data\": [0.7899484792444041, 0.7899484792444041, 0.7899484792444041, 0.7899484792444041, 0.7899484792444041, 0.7899484792444041, 0.7899484792444041, 0.7899484792444041, 0.7899484792444041, 0.7899484792444041, 0.7899484792444041, 0.7899484792444041, 0.7899484792444041, 0.7899484792444041, 0.7899484792444041, 0.7899484792444041, 0.7899484792444041, 0.7899484792444041, 0.7899484792444041, 0.7899484792444041, 0.7899484792444041, 0.7899484792444041, 0.7899484792444041, 0.7899484792444041, 0.7899484792444041, 0.7899484792444041, 0.7899484792444041, 0.7899484792444041, 0.7899484792444041, 0.7899484792444041, 0.7899484792444041, 0.7899484792444041, 0.7906849698530144, 0.7906849698530144, 0.7906849698530144, 0.7906849698530144, 0.7906849698530144]}], \"AUC_weighted\": [{\"categories\": [\"0\", \"1\", \"2\", \"3\", \"4\", \"5\", \"6\", \"7\", \"8\", \"9\", \"10\", \"11\", \"12\", \"13\", \"14\", \"15\", \"16\", \"17\", \"18\", \"19\", \"20\", \"21\", \"22\", \"23\", \"24\", \"25\", \"26\", \"27\", \"28\", \"29\", \"30\", \"31\", \"32\", \"33\", \"34\", \"36\", \"37\"], \"mode\": \"markers\", \"name\": \"AUC_weighted\", \"stepped\": false, \"type\": \"scatter\", \"data\": [0.6272491257921979, 0.6719147375349594, 0.6742746858723346, 0.5722498093898029, 0.6046459645677439, 0.6527459422931164, 0.6471681526509213, 0.671743453289559, 0.6228457312360461, 0.5892068652843471, 0.654479339876871, 0.6611136329091883, 0.6665109321154384, 0.6598186620352182, 0.6702029666960087, 0.6569016585932383, 0.6488952408559423, 0.6451067370272617, 0.5707372076048761, 0.5991271755098757, 0.6548387580455224, 0.6606572193406616, 0.6684553136006622, 0.6596586110673491, 0.6611001074195961, 0.5, 0.6616331193617737, 0.6540526130825649, 0.6598314313235748, 0.6553616917870211, 0.5, 0.6579791265127435, 0.5990590281168756, 0.6484442928055981, 0.657881750237126, 0.6702479659360439, 0.6709782991124621]}, {\"categories\": [\"0\", \"1\", \"2\", \"3\", \"4\", \"5\", \"6\", \"7\", \"8\", \"9\", \"10\", \"11\", \"12\", \"13\", \"14\", \"15\", \"16\", \"17\", \"18\", \"19\", \"20\", \"21\", \"22\", \"23\", \"24\", \"25\", \"26\", \"27\", \"28\", \"29\", \"30\", \"31\", \"32\", \"33\", \"34\", \"36\", \"37\"], \"mode\": \"lines\", \"name\": \"AUC_weighted_max\", \"stepped\": true, \"type\": \"scatter\", \"data\": [0.6272491257921979, 0.6719147375349594, 0.6742746858723346, 0.6742746858723346, 0.6742746858723346, 0.6742746858723346, 0.6742746858723346, 0.6742746858723346, 0.6742746858723346, 0.6742746858723346, 0.6742746858723346, 0.6742746858723346, 0.6742746858723346, 0.6742746858723346, 0.6742746858723346, 0.6742746858723346, 0.6742746858723346, 0.6742746858723346, 0.6742746858723346, 0.6742746858723346, 0.6742746858723346, 0.6742746858723346, 0.6742746858723346, 0.6742746858723346, 0.6742746858723346, 0.6742746858723346, 0.6742746858723346, 0.6742746858723346, 0.6742746858723346, 0.6742746858723346, 0.6742746858723346, 0.6742746858723346, 0.6742746858723346, 0.6742746858723346, 0.6742746858723346, 0.6742746858723346, 0.6742746858723346]}], \"precision_score_weighted\": [{\"categories\": [\"0\", \"1\", \"2\", \"3\", \"4\", \"5\", \"6\", \"7\", \"8\", \"9\", \"10\", \"11\", \"12\", \"13\", \"14\", \"15\", \"16\", \"17\", \"18\", \"19\", \"20\", \"21\", \"22\", \"23\", \"24\", \"25\", \"26\", \"27\", \"28\", \"29\", \"30\", \"31\", \"32\", \"33\", \"34\", \"36\", \"37\"], \"mode\": \"markers\", \"name\": \"precision_score_weighted\", \"stepped\": false, \"type\": \"scatter\", \"data\": [0.7741441853881125, 0.8035558631912375, 0.719420921315527, 0.719420921315527, 0.7826699390285468, 0.797939414421902, 0.7646494629205599, 0.7783336439450971, 0.7697681305385529, 0.7612193332852817, 0.719420921315527, 0.719420921315527, 0.7292961375894764, 0.719420921315527, 0.8233577989384756, 0.7776316925692233, 0.7787243274471664, 0.7711852905617406, 0.719420921315527, 0.7646883505730453, 0.719420921315527, 0.719420921315527, 0.784121760312635, 0.719420921315527, 0.719420921315527, 0.719420921315527, 0.719420921315527, 0.719420921315527, 0.719420921315527, 0.7259341324926288, 0.719420921315527, 0.719420921315527, 0.7775365305524172, 0.7546689057669677, 0.7790101572447163, 0.719420921315527, 0.7302848593496365]}, {\"categories\": [\"0\", \"1\", \"2\", \"3\", \"4\", \"5\", \"6\", \"7\", \"8\", \"9\", \"10\", \"11\", \"12\", \"13\", \"14\", \"15\", \"16\", \"17\", \"18\", \"19\", \"20\", \"21\", \"22\", \"23\", \"24\", \"25\", \"26\", \"27\", \"28\", \"29\", \"30\", \"31\", \"32\", \"33\", \"34\", \"36\", \"37\"], \"mode\": \"lines\", \"name\": \"precision_score_weighted_max\", \"stepped\": true, \"type\": \"scatter\", \"data\": [0.7741441853881125, 0.8035558631912375, 0.8035558631912375, 0.8035558631912375, 0.8035558631912375, 0.8035558631912375, 0.8035558631912375, 0.8035558631912375, 0.8035558631912375, 0.8035558631912375, 0.8035558631912375, 0.8035558631912375, 0.8035558631912375, 0.8035558631912375, 0.8233577989384756, 0.8233577989384756, 0.8233577989384756, 0.8233577989384756, 0.8233577989384756, 0.8233577989384756, 0.8233577989384756, 0.8233577989384756, 0.8233577989384756, 0.8233577989384756, 0.8233577989384756, 0.8233577989384756, 0.8233577989384756, 0.8233577989384756, 0.8233577989384756, 0.8233577989384756, 0.8233577989384756, 0.8233577989384756, 0.8233577989384756, 0.8233577989384756, 0.8233577989384756, 0.8233577989384756, 0.8233577989384756]}], \"average_precision_score_weighted\": [{\"categories\": [\"0\", \"1\", \"2\", \"3\", \"4\", \"5\", \"6\", \"7\", \"8\", \"9\", \"10\", \"11\", \"12\", \"13\", \"14\", \"15\", \"16\", \"17\", \"18\", \"19\", \"20\", \"21\", \"22\", \"23\", \"24\", \"25\", \"26\", \"27\", \"28\", \"29\", \"30\", \"31\", \"32\", \"33\", \"34\", \"36\", \"37\"], \"mode\": \"markers\", \"name\": \"average_precision_score_weighted\", \"stepped\": false, \"type\": \"scatter\", \"data\": [0.7941525642384558, 0.8146818351804374, 0.8144137113998943, 0.7660155265460076, 0.7839322905464531, 0.8034095399167365, 0.8037794465733207, 0.8130823514977702, 0.7925418986257758, 0.7800411450849447, 0.8075507941890255, 0.8120530707460585, 0.8136180521894741, 0.8103872873009861, 0.8137132076878132, 0.8082515597110737, 0.8051366597924625, 0.8007056984966718, 0.7692830851996755, 0.7839491019940206, 0.8088379077335114, 0.8118976807563594, 0.8119838428710576, 0.8127553638486794, 0.8113605697986056, 0.7426106787200014, 0.8118634450837487, 0.8076966920486314, 0.8101496458473411, 0.8090503245526861, 0.7426106787200014, 0.8094983634319276, 0.785107136995971, 0.8046354903149467, 0.8089843013940011, 0.8171449395630552, 0.8163032428995223]}, {\"categories\": [\"0\", \"1\", \"2\", \"3\", \"4\", \"5\", \"6\", \"7\", \"8\", \"9\", \"10\", \"11\", \"12\", \"13\", \"14\", \"15\", \"16\", \"17\", \"18\", \"19\", \"20\", \"21\", \"22\", \"23\", \"24\", \"25\", \"26\", \"27\", \"28\", \"29\", \"30\", \"31\", \"32\", \"33\", \"34\", \"36\", \"37\"], \"mode\": \"lines\", \"name\": \"average_precision_score_weighted_max\", \"stepped\": true, \"type\": \"scatter\", \"data\": [0.7941525642384558, 0.8146818351804374, 0.8146818351804374, 0.8146818351804374, 0.8146818351804374, 0.8146818351804374, 0.8146818351804374, 0.8146818351804374, 0.8146818351804374, 0.8146818351804374, 0.8146818351804374, 0.8146818351804374, 0.8146818351804374, 0.8146818351804374, 0.8146818351804374, 0.8146818351804374, 0.8146818351804374, 0.8146818351804374, 0.8146818351804374, 0.8146818351804374, 0.8146818351804374, 0.8146818351804374, 0.8146818351804374, 0.8146818351804374, 0.8146818351804374, 0.8146818351804374, 0.8146818351804374, 0.8146818351804374, 0.8146818351804374, 0.8146818351804374, 0.8146818351804374, 0.8146818351804374, 0.8146818351804374, 0.8146818351804374, 0.8146818351804374, 0.8171449395630552, 0.8171449395630552]}], \"AUC_macro\": [{\"categories\": [\"0\", \"1\", \"2\", \"3\", \"4\", \"5\", \"6\", \"7\", \"8\", \"9\", \"10\", \"11\", \"12\", \"13\", \"14\", \"15\", \"16\", \"17\", \"18\", \"19\", \"20\", \"21\", \"22\", \"23\", \"24\", \"25\", \"26\", \"27\", \"28\", \"29\", \"30\", \"31\", \"32\", \"33\", \"34\", \"36\", \"37\"], \"mode\": \"markers\", \"name\": \"AUC_macro\", \"stepped\": false, \"type\": \"scatter\", \"data\": [0.6272491257921978, 0.6719147375349594, 0.6742746858723349, 0.5722498093898029, 0.6046459645677439, 0.6527459422931164, 0.6471677288886633, 0.671743453289559, 0.6228457312360461, 0.5892068652843472, 0.654479339876871, 0.6611136329091883, 0.6665109321154384, 0.6598186620352181, 0.6702029666960088, 0.6569016585932383, 0.6488952408559422, 0.6451067370272617, 0.5707372076048761, 0.5991271755098758, 0.6548387580455223, 0.6606572193406616, 0.6684553136006622, 0.6596586110673491, 0.6611001074195961, 0.5, 0.6616331193617737, 0.6540526130825649, 0.6598314313235748, 0.6553616917870211, 0.5, 0.6579791265127434, 0.5990590281168756, 0.6484442928055981, 0.657881750237126, 0.6702479659360439, 0.6709782991124622]}, {\"categories\": [\"0\", \"1\", \"2\", \"3\", \"4\", \"5\", \"6\", \"7\", \"8\", \"9\", \"10\", \"11\", \"12\", \"13\", \"14\", \"15\", \"16\", \"17\", \"18\", \"19\", \"20\", \"21\", \"22\", \"23\", \"24\", \"25\", \"26\", \"27\", \"28\", \"29\", \"30\", \"31\", \"32\", \"33\", \"34\", \"36\", \"37\"], \"mode\": \"lines\", \"name\": \"AUC_macro_max\", \"stepped\": true, \"type\": \"scatter\", \"data\": [0.6272491257921978, 0.6719147375349594, 0.6742746858723349, 0.6742746858723349, 0.6742746858723349, 0.6742746858723349, 0.6742746858723349, 0.6742746858723349, 0.6742746858723349, 0.6742746858723349, 0.6742746858723349, 0.6742746858723349, 0.6742746858723349, 0.6742746858723349, 0.6742746858723349, 0.6742746858723349, 0.6742746858723349, 0.6742746858723349, 0.6742746858723349, 0.6742746858723349, 0.6742746858723349, 0.6742746858723349, 0.6742746858723349, 0.6742746858723349, 0.6742746858723349, 0.6742746858723349, 0.6742746858723349, 0.6742746858723349, 0.6742746858723349, 0.6742746858723349, 0.6742746858723349, 0.6742746858723349, 0.6742746858723349, 0.6742746858723349, 0.6742746858723349, 0.6742746858723349, 0.6742746858723349]}], \"f1_score_macro\": [{\"categories\": [\"0\", \"1\", \"2\", \"3\", \"4\", \"5\", \"6\", \"7\", \"8\", \"9\", \"10\", \"11\", \"12\", \"13\", \"14\", \"15\", \"16\", \"17\", \"18\", \"19\", \"20\", \"21\", \"22\", \"23\", \"24\", \"25\", \"26\", \"27\", \"28\", \"29\", \"30\", \"31\", \"32\", \"33\", \"34\", \"36\", \"37\"], \"mode\": \"markers\", \"name\": \"f1_score_macro\", \"stepped\": false, \"type\": \"scatter\", \"data\": [0.5208165108643971, 0.4868535488064971, 0.4588892190256147, 0.4588892190256147, 0.4747794290897625, 0.5645939630531708, 0.47554026802011223, 0.4996390072942633, 0.5434127839170114, 0.5345466390692218, 0.4588892190256147, 0.4588892190256147, 0.4643883774989792, 0.4588892190256147, 0.47683281746959677, 0.46168274780821267, 0.5000083932680051, 0.5301572712233914, 0.4588892190256147, 0.5409813309852839, 0.4588892190256147, 0.4588892190256147, 0.5037495081386084, 0.4588892190256147, 0.4588892190256147, 0.4588892190256147, 0.4588892190256147, 0.4588892190256147, 0.4588892190256147, 0.46020598070850244, 0.4588892190256147, 0.4588892190256147, 0.5304415650325601, 0.4718105148288838, 0.4630456668315858, 0.4588892190256147, 0.47766438746174505]}, {\"categories\": [\"0\", \"1\", \"2\", \"3\", \"4\", \"5\", \"6\", \"7\", \"8\", \"9\", \"10\", \"11\", \"12\", \"13\", \"14\", \"15\", \"16\", \"17\", \"18\", \"19\", \"20\", \"21\", \"22\", \"23\", \"24\", \"25\", \"26\", \"27\", \"28\", \"29\", \"30\", \"31\", \"32\", \"33\", \"34\", \"36\", \"37\"], \"mode\": \"lines\", \"name\": \"f1_score_macro_max\", \"stepped\": true, \"type\": \"scatter\", \"data\": [0.5208165108643971, 0.5208165108643971, 0.5208165108643971, 0.5208165108643971, 0.5208165108643971, 0.5645939630531708, 0.5645939630531708, 0.5645939630531708, 0.5645939630531708, 0.5645939630531708, 0.5645939630531708, 0.5645939630531708, 0.5645939630531708, 0.5645939630531708, 0.5645939630531708, 0.5645939630531708, 0.5645939630531708, 0.5645939630531708, 0.5645939630531708, 0.5645939630531708, 0.5645939630531708, 0.5645939630531708, 0.5645939630531708, 0.5645939630531708, 0.5645939630531708, 0.5645939630531708, 0.5645939630531708, 0.5645939630531708, 0.5645939630531708, 0.5645939630531708, 0.5645939630531708, 0.5645939630531708, 0.5645939630531708, 0.5645939630531708, 0.5645939630531708, 0.5645939630531708, 0.5645939630531708]}], \"AUC_micro\": [{\"categories\": [\"0\", \"1\", \"2\", \"3\", \"4\", \"5\", \"6\", \"7\", \"8\", \"9\", \"10\", \"11\", \"12\", \"13\", \"14\", \"15\", \"16\", \"17\", \"18\", \"19\", \"20\", \"21\", \"22\", \"23\", \"24\", \"25\", \"26\", \"27\", \"28\", \"29\", \"30\", \"31\", \"32\", \"33\", \"34\", \"36\", \"37\"], \"mode\": \"markers\", \"name\": \"AUC_micro\", \"stepped\": false, \"type\": \"scatter\", \"data\": [0.8779753656837449, 0.8925347722983045, 0.893405477374951, 0.8665355354580232, 0.5839310755986747, 0.6897220218126322, 0.8853909863800657, 0.8917851935362444, 0.8640014997368747, 0.8370837266198646, 0.8883162112729087, 0.8899780595224467, 0.8913331009572705, 0.8896206943121959, 0.8920717921242477, 0.8888667259648385, 0.8857429080589374, 0.8790762436941201, 0.8668162335613556, 0.8445822260920531, 0.8883556860261054, 0.8898469660679861, 0.8908631755589053, 0.8895569516989976, 0.8900925944072385, 0.8481155819555265, 0.8901000610276101, 0.8881606843035735, 0.8896158421682593, 0.8884870104059216, 0.8481155819555265, 0.8891369260902726, 0.8685242150951439, 0.8864983101726759, 0.889162758906596, 0.8922926817239097, 0.8899923698619764]}, {\"categories\": [\"0\", \"1\", \"2\", \"3\", \"4\", \"5\", \"6\", \"7\", \"8\", \"9\", \"10\", \"11\", \"12\", \"13\", \"14\", \"15\", \"16\", \"17\", \"18\", \"19\", \"20\", \"21\", \"22\", \"23\", \"24\", \"25\", \"26\", \"27\", \"28\", \"29\", \"30\", \"31\", \"32\", \"33\", \"34\", \"36\", \"37\"], \"mode\": \"lines\", \"name\": \"AUC_micro_max\", \"stepped\": true, \"type\": \"scatter\", \"data\": [0.8779753656837449, 0.8925347722983045, 0.893405477374951, 0.893405477374951, 0.893405477374951, 0.893405477374951, 0.893405477374951, 0.893405477374951, 0.893405477374951, 0.893405477374951, 0.893405477374951, 0.893405477374951, 0.893405477374951, 0.893405477374951, 0.893405477374951, 0.893405477374951, 0.893405477374951, 0.893405477374951, 0.893405477374951, 0.893405477374951, 0.893405477374951, 0.893405477374951, 0.893405477374951, 0.893405477374951, 0.893405477374951, 0.893405477374951, 0.893405477374951, 0.893405477374951, 0.893405477374951, 0.893405477374951, 0.893405477374951, 0.893405477374951, 0.893405477374951, 0.893405477374951, 0.893405477374951, 0.893405477374951, 0.893405477374951]}], \"recall_score_micro\": [{\"categories\": [\"0\", \"1\", \"2\", \"3\", \"4\", \"5\", \"6\", \"7\", \"8\", \"9\", \"10\", \"11\", \"12\", \"13\", \"14\", \"15\", \"16\", \"17\", \"18\", \"19\", \"20\", \"21\", \"22\", \"23\", \"24\", \"25\", \"26\", \"27\", \"28\", \"29\", \"30\", \"31\", \"32\", \"33\", \"34\", \"36\", \"37\"], \"mode\": \"markers\", \"name\": \"recall_score_micro\", \"stepped\": false, \"type\": \"scatter\", \"data\": [0.8320762315843352, 0.8471711290024969, 0.8481155819555264, 0.8481155819555264, 0.5670384751547646, 0.6811254222176842, 0.8419823935684438, 0.8405674659064329, 0.8063684591085739, 0.77688737936578, 0.8481155819555264, 0.8481155819555264, 0.8455206303159889, 0.8481155819555264, 0.8488236297090431, 0.8469360584830093, 0.839151704069406, 0.8228772831787273, 0.8481155819555264, 0.7820766153048426, 0.8481155819555264, 0.8481155819555264, 0.8396225124483938, 0.8481155819555264, 0.8481155819555264, 0.8481155819555264, 0.8481155819555264, 0.8481155819555264, 0.8481155819555264, 0.8469360584830093, 0.8481155819555264, 0.8481155819555264, 0.828065684942774, 0.8429256786764512, 0.8462283443994991, 0.8481155819555264, 0.8346690143688315]}, {\"categories\": [\"0\", \"1\", \"2\", \"3\", \"4\", \"5\", \"6\", \"7\", \"8\", \"9\", \"10\", \"11\", \"12\", \"13\", \"14\", \"15\", \"16\", \"17\", \"18\", \"19\", \"20\", \"21\", \"22\", \"23\", \"24\", \"25\", \"26\", \"27\", \"28\", \"29\", \"30\", \"31\", \"32\", \"33\", \"34\", \"36\", \"37\"], \"mode\": \"lines\", \"name\": \"recall_score_micro_max\", \"stepped\": true, \"type\": \"scatter\", \"data\": [0.8320762315843352, 0.8471711290024969, 0.8481155819555264, 0.8481155819555264, 0.8481155819555264, 0.8481155819555264, 0.8481155819555264, 0.8481155819555264, 0.8481155819555264, 0.8481155819555264, 0.8481155819555264, 0.8481155819555264, 0.8481155819555264, 0.8481155819555264, 0.8488236297090431, 0.8488236297090431, 0.8488236297090431, 0.8488236297090431, 0.8488236297090431, 0.8488236297090431, 0.8488236297090431, 0.8488236297090431, 0.8488236297090431, 0.8488236297090431, 0.8488236297090431, 0.8488236297090431, 0.8488236297090431, 0.8488236297090431, 0.8488236297090431, 0.8488236297090431, 0.8488236297090431, 0.8488236297090431, 0.8488236297090431, 0.8488236297090431, 0.8488236297090431, 0.8488236297090431, 0.8488236297090431]}], \"recall_score_macro\": [{\"categories\": [\"0\", \"1\", \"2\", \"3\", \"4\", \"5\", \"6\", \"7\", \"8\", \"9\", \"10\", \"11\", \"12\", \"13\", \"14\", \"15\", \"16\", \"17\", \"18\", \"19\", \"20\", \"21\", \"22\", \"23\", \"24\", \"25\", \"26\", \"27\", \"28\", \"29\", \"30\", \"31\", \"32\", \"33\", \"34\", \"36\", \"37\"], \"mode\": \"markers\", \"name\": \"recall_score_macro\", \"stepped\": false, \"type\": \"scatter\", \"data\": [0.5258446333822475, 0.5119042565431116, 0.5, 0.5, 0.5736327179479231, 0.6230938821552342, 0.5046865361846437, 0.5162088089550934, 0.5395840242188737, 0.5328629090493534, 0.5, 0.5, 0.5014050511056372, 0.5, 0.5079749338910151, 0.5006580244561218, 0.5162133024146512, 0.5303589020202666, 0.5, 0.5387194064484145, 0.5, 0.5, 0.5182452177018897, 0.5, 0.5, 0.5, 0.5, 0.5, 0.5, 0.500043885727229, 0.5, 0.5, 0.5319970161207292, 0.5035705192123862, 0.5009751342270666, 0.5, 0.5067520314844701]}, {\"categories\": [\"0\", \"1\", \"2\", \"3\", \"4\", \"5\", \"6\", \"7\", \"8\", \"9\", \"10\", \"11\", \"12\", \"13\", \"14\", \"15\", \"16\", \"17\", \"18\", \"19\", \"20\", \"21\", \"22\", \"23\", \"24\", \"25\", \"26\", \"27\", \"28\", \"29\", \"30\", \"31\", \"32\", \"33\", \"34\", \"36\", \"37\"], \"mode\": \"lines\", \"name\": \"recall_score_macro_max\", \"stepped\": true, \"type\": \"scatter\", \"data\": [0.5258446333822475, 0.5258446333822475, 0.5258446333822475, 0.5258446333822475, 0.5736327179479231, 0.6230938821552342, 0.6230938821552342, 0.6230938821552342, 0.6230938821552342, 0.6230938821552342, 0.6230938821552342, 0.6230938821552342, 0.6230938821552342, 0.6230938821552342, 0.6230938821552342, 0.6230938821552342, 0.6230938821552342, 0.6230938821552342, 0.6230938821552342, 0.6230938821552342, 0.6230938821552342, 0.6230938821552342, 0.6230938821552342, 0.6230938821552342, 0.6230938821552342, 0.6230938821552342, 0.6230938821552342, 0.6230938821552342, 0.6230938821552342, 0.6230938821552342, 0.6230938821552342, 0.6230938821552342, 0.6230938821552342, 0.6230938821552342, 0.6230938821552342, 0.6230938821552342, 0.6230938821552342]}], \"precision_score_macro\": [{\"categories\": [\"0\", \"1\", \"2\", \"3\", \"4\", \"5\", \"6\", \"7\", \"8\", \"9\", \"10\", \"11\", \"12\", \"13\", \"14\", \"15\", \"16\", \"17\", \"18\", \"19\", \"20\", \"21\", \"22\", \"23\", \"24\", \"25\", \"26\", \"27\", \"28\", \"29\", \"30\", \"31\", \"32\", \"33\", \"34\", \"36\", \"37\"], \"mode\": \"markers\", \"name\": \"precision_score_macro\", \"stepped\": false, \"type\": \"scatter\", \"data\": [0.5852318687019866, 0.6858798201743701, 0.4240577909777632, 0.4240577909777632, 0.5487037712166466, 0.5724396045907877, 0.5662653463283516, 0.6053443698608042, 0.5630447743533257, 0.5383966218579752, 0.4240577909777632, 0.4240577909777632, 0.45931346968009396, 0.4240577909777632, 0.7612053451465651, 0.6116462842527218, 0.6061179346735447, 0.5725113023681351, 0.4240577909777632, 0.5461376826034295, 0.4240577909777632, 0.4240577909777632, 0.6211513822361444, 0.4240577909777632, 0.4240577909777632, 0.4240577909777632, 0.4240577909777632, 0.4240577909777632, 0.4240577909777632, 0.44787251609989703, 0.4240577909777632, 0.4240577909777632, 0.5926920692855683, 0.5369518253711334, 0.6164916820340628, 0.4240577909777632, 0.4592770274048366]}, {\"categories\": [\"0\", \"1\", \"2\", \"3\", \"4\", \"5\", \"6\", \"7\", \"8\", \"9\", \"10\", \"11\", \"12\", \"13\", \"14\", \"15\", \"16\", \"17\", \"18\", \"19\", \"20\", \"21\", \"22\", \"23\", \"24\", \"25\", \"26\", \"27\", \"28\", \"29\", \"30\", \"31\", \"32\", \"33\", \"34\", \"36\", \"37\"], \"mode\": \"lines\", \"name\": \"precision_score_macro_max\", \"stepped\": true, \"type\": \"scatter\", \"data\": [0.5852318687019866, 0.6858798201743701, 0.6858798201743701, 0.6858798201743701, 0.6858798201743701, 0.6858798201743701, 0.6858798201743701, 0.6858798201743701, 0.6858798201743701, 0.6858798201743701, 0.6858798201743701, 0.6858798201743701, 0.6858798201743701, 0.6858798201743701, 0.7612053451465651, 0.7612053451465651, 0.7612053451465651, 0.7612053451465651, 0.7612053451465651, 0.7612053451465651, 0.7612053451465651, 0.7612053451465651, 0.7612053451465651, 0.7612053451465651, 0.7612053451465651, 0.7612053451465651, 0.7612053451465651, 0.7612053451465651, 0.7612053451465651, 0.7612053451465651, 0.7612053451465651, 0.7612053451465651, 0.7612053451465651, 0.7612053451465651, 0.7612053451465651, 0.7612053451465651, 0.7612053451465651]}], \"matthews_correlation\": [{\"categories\": [\"0\", \"1\", \"2\", \"3\", \"4\", \"5\", \"6\", \"7\", \"8\", \"9\", \"10\", \"11\", \"12\", \"13\", \"14\", \"15\", \"16\", \"17\", \"18\", \"19\", \"20\", \"21\", \"22\", \"23\", \"24\", \"25\", \"26\", \"27\", \"28\", \"29\", \"30\", \"31\", \"32\", \"33\", \"34\", \"36\", \"37\"], \"mode\": \"markers\", \"name\": \"matthews_correlation\", \"stepped\": false, \"type\": \"scatter\", \"data\": [0.09364822094370161, 0.0918049936561393, 0.0, 0.0, 0.11928747108838621, 0.18868691818187974, 0.03507013089402161, 0.08167679018666187, 0.09986068597351243, 0.07100768506016888, 0.0, 0.0, 0.008378620098423247, 0.0, 0.08926350544880719, 0.019697833240344794, 0.08119977595153667, 0.09373430811225923, 0.0, 0.0844833853047448, 0.0, 0.0, 0.09227998959488241, 0.0, 0.0, 0.0, 0.0, 0.0, 0.0, 0.0004293091892999161, 0.0, 0.0, 0.10766839519529713, 0.030409787345011454, 0.022160788449796257, 0.0, 0.01834041727863694]}, {\"categories\": [\"0\", \"1\", \"2\", \"3\", \"4\", \"5\", \"6\", \"7\", \"8\", \"9\", \"10\", \"11\", \"12\", \"13\", \"14\", \"15\", \"16\", \"17\", \"18\", \"19\", \"20\", \"21\", \"22\", \"23\", \"24\", \"25\", \"26\", \"27\", \"28\", \"29\", \"30\", \"31\", \"32\", \"33\", \"34\", \"36\", \"37\"], \"mode\": \"lines\", \"name\": \"matthews_correlation_max\", \"stepped\": true, \"type\": \"scatter\", \"data\": [0.09364822094370161, 0.09364822094370161, 0.09364822094370161, 0.09364822094370161, 0.11928747108838621, 0.18868691818187974, 0.18868691818187974, 0.18868691818187974, 0.18868691818187974, 0.18868691818187974, 0.18868691818187974, 0.18868691818187974, 0.18868691818187974, 0.18868691818187974, 0.18868691818187974, 0.18868691818187974, 0.18868691818187974, 0.18868691818187974, 0.18868691818187974, 0.18868691818187974, 0.18868691818187974, 0.18868691818187974, 0.18868691818187974, 0.18868691818187974, 0.18868691818187974, 0.18868691818187974, 0.18868691818187974, 0.18868691818187974, 0.18868691818187974, 0.18868691818187974, 0.18868691818187974, 0.18868691818187974, 0.18868691818187974, 0.18868691818187974, 0.18868691818187974, 0.18868691818187974, 0.18868691818187974]}], \"norm_macro_recall\": [{\"categories\": [\"0\", \"1\", \"2\", \"3\", \"4\", \"5\", \"6\", \"7\", \"8\", \"9\", \"10\", \"11\", \"12\", \"13\", \"14\", \"15\", \"16\", \"17\", \"18\", \"19\", \"20\", \"21\", \"22\", \"23\", \"24\", \"25\", \"26\", \"27\", \"28\", \"29\", \"30\", \"31\", \"32\", \"33\", \"34\", \"36\", \"37\"], \"mode\": \"markers\", \"name\": \"norm_macro_recall\", \"stepped\": false, \"type\": \"scatter\", \"data\": [0.05168926676449496, 0.023808513086223115, 0.0, 0.0, 0.14726543589584606, 0.2461877643104684, 0.009373072369287158, 0.03241761791018664, 0.07916804843774765, 0.06572581809870688, 0.0, 0.0, 0.0028101022112743865, 0.0, 0.015949867782030298, 0.001501501501501486, 0.03242660482930256, 0.0607178040405331, 0.0, 0.07743881289682915, 0.0, 0.0, 0.03649043540377924, 0.0, 0.0, 0.0, 0.0, 0.0, 0.0, 8.777145445789299e-05, 0.0, 0.0, 0.0639940322414585, 0.007609624738088201, 0.0019502684541331898, 0.0, 0.013504062968940245]}, {\"categories\": [\"0\", \"1\", \"2\", \"3\", \"4\", \"5\", \"6\", \"7\", \"8\", \"9\", \"10\", \"11\", \"12\", \"13\", \"14\", \"15\", \"16\", \"17\", \"18\", \"19\", \"20\", \"21\", \"22\", \"23\", \"24\", \"25\", \"26\", \"27\", \"28\", \"29\", \"30\", \"31\", \"32\", \"33\", \"34\", \"36\", \"37\"], \"mode\": \"lines\", \"name\": \"norm_macro_recall_max\", \"stepped\": true, \"type\": \"scatter\", \"data\": [0.05168926676449496, 0.05168926676449496, 0.05168926676449496, 0.05168926676449496, 0.14726543589584606, 0.2461877643104684, 0.2461877643104684, 0.2461877643104684, 0.2461877643104684, 0.2461877643104684, 0.2461877643104684, 0.2461877643104684, 0.2461877643104684, 0.2461877643104684, 0.2461877643104684, 0.2461877643104684, 0.2461877643104684, 0.2461877643104684, 0.2461877643104684, 0.2461877643104684, 0.2461877643104684, 0.2461877643104684, 0.2461877643104684, 0.2461877643104684, 0.2461877643104684, 0.2461877643104684, 0.2461877643104684, 0.2461877643104684, 0.2461877643104684, 0.2461877643104684, 0.2461877643104684, 0.2461877643104684, 0.2461877643104684, 0.2461877643104684, 0.2461877643104684, 0.2461877643104684, 0.2461877643104684]}], \"balanced_accuracy\": [{\"categories\": [\"0\", \"1\", \"2\", \"3\", \"4\", \"5\", \"6\", \"7\", \"8\", \"9\", \"10\", \"11\", \"12\", \"13\", \"14\", \"15\", \"16\", \"17\", \"18\", \"19\", \"20\", \"21\", \"22\", \"23\", \"24\", \"25\", \"26\", \"27\", \"28\", \"29\", \"30\", \"31\", \"32\", \"33\", \"34\", \"36\", \"37\"], \"mode\": \"markers\", \"name\": \"balanced_accuracy\", \"stepped\": false, \"type\": \"scatter\", \"data\": [0.5258446333822475, 0.5119042565431116, 0.5, 0.5, 0.5736327179479231, 0.6230938821552342, 0.5046865361846437, 0.5162088089550934, 0.5395840242188737, 0.5328629090493534, 0.5, 0.5, 0.5014050511056372, 0.5, 0.5079749338910151, 0.5006580244561218, 0.5162133024146512, 0.5303589020202666, 0.5, 0.5387194064484145, 0.5, 0.5, 0.5182452177018897, 0.5, 0.5, 0.5, 0.5, 0.5, 0.5, 0.500043885727229, 0.5, 0.5, 0.5319970161207292, 0.5035705192123862, 0.5009751342270666, 0.5, 0.5067520314844701]}, {\"categories\": [\"0\", \"1\", \"2\", \"3\", \"4\", \"5\", \"6\", \"7\", \"8\", \"9\", \"10\", \"11\", \"12\", \"13\", \"14\", \"15\", \"16\", \"17\", \"18\", \"19\", \"20\", \"21\", \"22\", \"23\", \"24\", \"25\", \"26\", \"27\", \"28\", \"29\", \"30\", \"31\", \"32\", \"33\", \"34\", \"36\", \"37\"], \"mode\": \"lines\", \"name\": \"balanced_accuracy_max\", \"stepped\": true, \"type\": \"scatter\", \"data\": [0.5258446333822475, 0.5258446333822475, 0.5258446333822475, 0.5258446333822475, 0.5736327179479231, 0.6230938821552342, 0.6230938821552342, 0.6230938821552342, 0.6230938821552342, 0.6230938821552342, 0.6230938821552342, 0.6230938821552342, 0.6230938821552342, 0.6230938821552342, 0.6230938821552342, 0.6230938821552342, 0.6230938821552342, 0.6230938821552342, 0.6230938821552342, 0.6230938821552342, 0.6230938821552342, 0.6230938821552342, 0.6230938821552342, 0.6230938821552342, 0.6230938821552342, 0.6230938821552342, 0.6230938821552342, 0.6230938821552342, 0.6230938821552342, 0.6230938821552342, 0.6230938821552342, 0.6230938821552342, 0.6230938821552342, 0.6230938821552342, 0.6230938821552342, 0.6230938821552342, 0.6230938821552342]}], \"accuracy\": [{\"categories\": [\"0\", \"1\", \"2\", \"3\", \"4\", \"5\", \"6\", \"7\", \"8\", \"9\", \"10\", \"11\", \"12\", \"13\", \"14\", \"15\", \"16\", \"17\", \"18\", \"19\", \"20\", \"21\", \"22\", \"23\", \"24\", \"25\", \"26\", \"27\", \"28\", \"29\", \"30\", \"31\", \"32\", \"33\", \"34\", \"36\", \"37\"], \"mode\": \"markers\", \"name\": \"accuracy\", \"stepped\": false, \"type\": \"scatter\", \"data\": [0.8320762315843352, 0.8471711290024969, 0.8481155819555264, 0.8481155819555264, 0.5670384751547646, 0.6811254222176842, 0.8419823935684438, 0.8405674659064329, 0.8063684591085739, 0.77688737936578, 0.8481155819555264, 0.8481155819555264, 0.8455206303159889, 0.8481155819555264, 0.8488236297090431, 0.8469360584830093, 0.839151704069406, 0.8228772831787273, 0.8481155819555264, 0.7820766153048426, 0.8481155819555264, 0.8481155819555264, 0.8396225124483938, 0.8481155819555264, 0.8481155819555264, 0.8481155819555264, 0.8481155819555264, 0.8481155819555264, 0.8481155819555264, 0.8469360584830093, 0.8481155819555264, 0.8481155819555264, 0.828065684942774, 0.8429256786764512, 0.8462283443994991, 0.8481155819555264, 0.8346690143688315]}, {\"categories\": [\"0\", \"1\", \"2\", \"3\", \"4\", \"5\", \"6\", \"7\", \"8\", \"9\", \"10\", \"11\", \"12\", \"13\", \"14\", \"15\", \"16\", \"17\", \"18\", \"19\", \"20\", \"21\", \"22\", \"23\", \"24\", \"25\", \"26\", \"27\", \"28\", \"29\", \"30\", \"31\", \"32\", \"33\", \"34\", \"36\", \"37\"], \"mode\": \"lines\", \"name\": \"accuracy_max\", \"stepped\": true, \"type\": \"scatter\", \"data\": [0.8320762315843352, 0.8471711290024969, 0.8481155819555264, 0.8481155819555264, 0.8481155819555264, 0.8481155819555264, 0.8481155819555264, 0.8481155819555264, 0.8481155819555264, 0.8481155819555264, 0.8481155819555264, 0.8481155819555264, 0.8481155819555264, 0.8481155819555264, 0.8488236297090431, 0.8488236297090431, 0.8488236297090431, 0.8488236297090431, 0.8488236297090431, 0.8488236297090431, 0.8488236297090431, 0.8488236297090431, 0.8488236297090431, 0.8488236297090431, 0.8488236297090431, 0.8488236297090431, 0.8488236297090431, 0.8488236297090431, 0.8488236297090431, 0.8488236297090431, 0.8488236297090431, 0.8488236297090431, 0.8488236297090431, 0.8488236297090431, 0.8488236297090431, 0.8488236297090431, 0.8488236297090431]}], \"weighted_accuracy\": [{\"categories\": [\"0\", \"1\", \"2\", \"3\", \"4\", \"5\", \"6\", \"7\", \"8\", \"9\", \"10\", \"11\", \"12\", \"13\", \"14\", \"15\", \"16\", \"17\", \"18\", \"19\", \"20\", \"21\", \"22\", \"23\", \"24\", \"25\", \"26\", \"27\", \"28\", \"29\", \"30\", \"31\", \"32\", \"33\", \"34\", \"36\", \"37\"], \"mode\": \"markers\", \"name\": \"weighted_accuracy\", \"stepped\": false, \"type\": \"scatter\", \"data\": [0.938068858922891, 0.9632332164095311, 0.9686688438245291, 0.9686688438245291, 0.5627579641308352, 0.7012631253275502, 0.9588392864382147, 0.9530264241484064, 0.8987256172474244, 0.8613015739182326, 0.9686688438245291, 0.9686688438245291, 0.9648392167827478, 0.9686688438245291, 0.9668277517131759, 0.966895555861274, 0.9512049964125344, 0.9240399515785914, 0.9686688438245291, 0.8663420205878314, 0.9686688438245291, 0.9686688438245291, 0.9511068653607994, 0.9686688438245291, 0.9686688438245291, 0.9686688438245291, 0.9686688438245291, 0.9686688438245291, 0.9686688438245291, 0.9671116922997246, 0.9686688438245291, 0.9686688438245291, 0.930863313321705, 0.9605906824499453, 0.9658715107936776, 0.9686688438245291, 0.9489876021584142]}, {\"categories\": [\"0\", \"1\", \"2\", \"3\", \"4\", \"5\", \"6\", \"7\", \"8\", \"9\", \"10\", \"11\", \"12\", \"13\", \"14\", \"15\", \"16\", \"17\", \"18\", \"19\", \"20\", \"21\", \"22\", \"23\", \"24\", \"25\", \"26\", \"27\", \"28\", \"29\", \"30\", \"31\", \"32\", \"33\", \"34\", \"36\", \"37\"], \"mode\": \"lines\", \"name\": \"weighted_accuracy_max\", \"stepped\": true, \"type\": \"scatter\", \"data\": [0.938068858922891, 0.9632332164095311, 0.9686688438245291, 0.9686688438245291, 0.9686688438245291, 0.9686688438245291, 0.9686688438245291, 0.9686688438245291, 0.9686688438245291, 0.9686688438245291, 0.9686688438245291, 0.9686688438245291, 0.9686688438245291, 0.9686688438245291, 0.9686688438245291, 0.9686688438245291, 0.9686688438245291, 0.9686688438245291, 0.9686688438245291, 0.9686688438245291, 0.9686688438245291, 0.9686688438245291, 0.9686688438245291, 0.9686688438245291, 0.9686688438245291, 0.9686688438245291, 0.9686688438245291, 0.9686688438245291, 0.9686688438245291, 0.9686688438245291, 0.9686688438245291, 0.9686688438245291, 0.9686688438245291, 0.9686688438245291, 0.9686688438245291, 0.9686688438245291, 0.9686688438245291]}], \"f1_score_micro\": [{\"categories\": [\"0\", \"1\", \"2\", \"3\", \"4\", \"5\", \"6\", \"7\", \"8\", \"9\", \"10\", \"11\", \"12\", \"13\", \"14\", \"15\", \"16\", \"17\", \"18\", \"19\", \"20\", \"21\", \"22\", \"23\", \"24\", \"25\", \"26\", \"27\", \"28\", \"29\", \"30\", \"31\", \"32\", \"33\", \"34\", \"36\", \"37\"], \"mode\": \"markers\", \"name\": \"f1_score_micro\", \"stepped\": false, \"type\": \"scatter\", \"data\": [0.8320762315843352, 0.8471711290024969, 0.8481155819555264, 0.8481155819555264, 0.5670384751547646, 0.6811254222176842, 0.8419823935684438, 0.8405674659064329, 0.8063684591085739, 0.7768873793657801, 0.8481155819555264, 0.8481155819555264, 0.8455206303159889, 0.8481155819555264, 0.8488236297090431, 0.8469360584830093, 0.839151704069406, 0.8228772831787273, 0.8481155819555264, 0.7820766153048426, 0.8481155819555264, 0.8481155819555264, 0.8396225124483938, 0.8481155819555264, 0.8481155819555264, 0.8481155819555264, 0.8481155819555264, 0.8481155819555264, 0.8481155819555264, 0.8469360584830093, 0.8481155819555264, 0.8481155819555264, 0.828065684942774, 0.8429256786764512, 0.8462283443994991, 0.8481155819555264, 0.8346690143688315]}, {\"categories\": [\"0\", \"1\", \"2\", \"3\", \"4\", \"5\", \"6\", \"7\", \"8\", \"9\", \"10\", \"11\", \"12\", \"13\", \"14\", \"15\", \"16\", \"17\", \"18\", \"19\", \"20\", \"21\", \"22\", \"23\", \"24\", \"25\", \"26\", \"27\", \"28\", \"29\", \"30\", \"31\", \"32\", \"33\", \"34\", \"36\", \"37\"], \"mode\": \"lines\", \"name\": \"f1_score_micro_max\", \"stepped\": true, \"type\": \"scatter\", \"data\": [0.8320762315843352, 0.8471711290024969, 0.8481155819555264, 0.8481155819555264, 0.8481155819555264, 0.8481155819555264, 0.8481155819555264, 0.8481155819555264, 0.8481155819555264, 0.8481155819555264, 0.8481155819555264, 0.8481155819555264, 0.8481155819555264, 0.8481155819555264, 0.8488236297090431, 0.8488236297090431, 0.8488236297090431, 0.8488236297090431, 0.8488236297090431, 0.8488236297090431, 0.8488236297090431, 0.8488236297090431, 0.8488236297090431, 0.8488236297090431, 0.8488236297090431, 0.8488236297090431, 0.8488236297090431, 0.8488236297090431, 0.8488236297090431, 0.8488236297090431, 0.8488236297090431, 0.8488236297090431, 0.8488236297090431, 0.8488236297090431, 0.8488236297090431, 0.8488236297090431, 0.8488236297090431]}], \"precision_score_micro\": [{\"categories\": [\"0\", \"1\", \"2\", \"3\", \"4\", \"5\", \"6\", \"7\", \"8\", \"9\", \"10\", \"11\", \"12\", \"13\", \"14\", \"15\", \"16\", \"17\", \"18\", \"19\", \"20\", \"21\", \"22\", \"23\", \"24\", \"25\", \"26\", \"27\", \"28\", \"29\", \"30\", \"31\", \"32\", \"33\", \"34\", \"36\", \"37\"], \"mode\": \"markers\", \"name\": \"precision_score_micro\", \"stepped\": false, \"type\": \"scatter\", \"data\": [0.8320762315843352, 0.8471711290024969, 0.8481155819555264, 0.8481155819555264, 0.5670384751547646, 0.6811254222176842, 0.8419823935684438, 0.8405674659064329, 0.8063684591085739, 0.77688737936578, 0.8481155819555264, 0.8481155819555264, 0.8455206303159889, 0.8481155819555264, 0.8488236297090431, 0.8469360584830093, 0.839151704069406, 0.8228772831787273, 0.8481155819555264, 0.7820766153048426, 0.8481155819555264, 0.8481155819555264, 0.8396225124483938, 0.8481155819555264, 0.8481155819555264, 0.8481155819555264, 0.8481155819555264, 0.8481155819555264, 0.8481155819555264, 0.8469360584830093, 0.8481155819555264, 0.8481155819555264, 0.828065684942774, 0.8429256786764512, 0.8462283443994991, 0.8481155819555264, 0.8346690143688315]}, {\"categories\": [\"0\", \"1\", \"2\", \"3\", \"4\", \"5\", \"6\", \"7\", \"8\", \"9\", \"10\", \"11\", \"12\", \"13\", \"14\", \"15\", \"16\", \"17\", \"18\", \"19\", \"20\", \"21\", \"22\", \"23\", \"24\", \"25\", \"26\", \"27\", \"28\", \"29\", \"30\", \"31\", \"32\", \"33\", \"34\", \"36\", \"37\"], \"mode\": \"lines\", \"name\": \"precision_score_micro_max\", \"stepped\": true, \"type\": \"scatter\", \"data\": [0.8320762315843352, 0.8471711290024969, 0.8481155819555264, 0.8481155819555264, 0.8481155819555264, 0.8481155819555264, 0.8481155819555264, 0.8481155819555264, 0.8481155819555264, 0.8481155819555264, 0.8481155819555264, 0.8481155819555264, 0.8481155819555264, 0.8481155819555264, 0.8488236297090431, 0.8488236297090431, 0.8488236297090431, 0.8488236297090431, 0.8488236297090431, 0.8488236297090431, 0.8488236297090431, 0.8488236297090431, 0.8488236297090431, 0.8488236297090431, 0.8488236297090431, 0.8488236297090431, 0.8488236297090431, 0.8488236297090431, 0.8488236297090431, 0.8488236297090431, 0.8488236297090431, 0.8488236297090431, 0.8488236297090431, 0.8488236297090431, 0.8488236297090431, 0.8488236297090431, 0.8488236297090431]}], \"log_loss\": [{\"categories\": [\"0\", \"1\", \"2\", \"3\", \"4\", \"5\", \"6\", \"7\", \"8\", \"9\", \"10\", \"11\", \"12\", \"13\", \"14\", \"15\", \"16\", \"17\", \"18\", \"19\", \"20\", \"21\", \"22\", \"23\", \"24\", \"25\", \"26\", \"27\", \"28\", \"29\", \"30\", \"31\", \"32\", \"33\", \"34\", \"36\", \"37\"], \"mode\": \"markers\", \"name\": \"log_loss\", \"stepped\": false, \"type\": \"scatter\", \"data\": [0.460055263397241, 0.4036267085056564, 0.409389004730708, 0.42489847108307194, 0.6879493489391025, 0.6656963518073821, 0.5251967019755132, 0.4075399751660805, 0.5310735905421584, 0.8014327546509822, 0.41353843298059334, 0.406824041147048, 0.4034522550029074, 0.4057045499628826, 0.4033109219392413, 0.40742969830997033, 0.4160630637391285, 0.4575750428390088, 0.42575268862190824, 0.6993317095274536, 0.4139527604312569, 0.40741461448770866, 0.4113316533576235, 0.4068096012243103, 0.405097901307598, 0.4288108433852938, 0.40723984579050243, 0.4089565239409925, 0.4077501576957487, 0.4074547691320831, 0.4265803183500991, 0.4076602335453421, 0.4812207266732023, 0.4106818586075665, 0.4068468758647253, 0.4058901635081918, 0.43195150095693946]}, {\"categories\": [\"0\", \"1\", \"2\", \"3\", \"4\", \"5\", \"6\", \"7\", \"8\", \"9\", \"10\", \"11\", \"12\", \"13\", \"14\", \"15\", \"16\", \"17\", \"18\", \"19\", \"20\", \"21\", \"22\", \"23\", \"24\", \"25\", \"26\", \"27\", \"28\", \"29\", \"30\", \"31\", \"32\", \"33\", \"34\", \"36\", \"37\"], \"mode\": \"lines\", \"name\": \"log_loss_min\", \"stepped\": true, \"type\": \"scatter\", \"data\": [0.460055263397241, 0.4036267085056564, 0.4036267085056564, 0.4036267085056564, 0.4036267085056564, 0.4036267085056564, 0.4036267085056564, 0.4036267085056564, 0.4036267085056564, 0.4036267085056564, 0.4036267085056564, 0.4036267085056564, 0.4034522550029074, 0.4034522550029074, 0.4033109219392413, 0.4033109219392413, 0.4033109219392413, 0.4033109219392413, 0.4033109219392413, 0.4033109219392413, 0.4033109219392413, 0.4033109219392413, 0.4033109219392413, 0.4033109219392413, 0.4033109219392413, 0.4033109219392413, 0.4033109219392413, 0.4033109219392413, 0.4033109219392413, 0.4033109219392413, 0.4033109219392413, 0.4033109219392413, 0.4033109219392413, 0.4033109219392413, 0.4033109219392413, 0.4033109219392413, 0.4033109219392413]}], \"recall_score_weighted\": [{\"categories\": [\"0\", \"1\", \"2\", \"3\", \"4\", \"5\", \"6\", \"7\", \"8\", \"9\", \"10\", \"11\", \"12\", \"13\", \"14\", \"15\", \"16\", \"17\", \"18\", \"19\", \"20\", \"21\", \"22\", \"23\", \"24\", \"25\", \"26\", \"27\", \"28\", \"29\", \"30\", \"31\", \"32\", \"33\", \"34\", \"36\", \"37\"], \"mode\": \"markers\", \"name\": \"recall_score_weighted\", \"stepped\": false, \"type\": \"scatter\", \"data\": [0.8320762315843352, 0.8471711290024969, 0.8481155819555264, 0.8481155819555264, 0.5670384751547645, 0.6811254222176842, 0.8419823935684438, 0.8405674659064329, 0.8063684591085739, 0.77688737936578, 0.8481155819555264, 0.8481155819555264, 0.8455206303159889, 0.8481155819555264, 0.8488236297090431, 0.8469360584830093, 0.839151704069406, 0.8228772831787273, 0.8481155819555264, 0.7820766153048426, 0.8481155819555264, 0.8481155819555264, 0.8396225124483938, 0.8481155819555264, 0.8481155819555264, 0.8481155819555264, 0.8481155819555264, 0.8481155819555264, 0.8481155819555264, 0.8469360584830093, 0.8481155819555264, 0.8481155819555264, 0.828065684942774, 0.8429256786764512, 0.8462283443994991, 0.8481155819555264, 0.8346690143688315]}, {\"categories\": [\"0\", \"1\", \"2\", \"3\", \"4\", \"5\", \"6\", \"7\", \"8\", \"9\", \"10\", \"11\", \"12\", \"13\", \"14\", \"15\", \"16\", \"17\", \"18\", \"19\", \"20\", \"21\", \"22\", \"23\", \"24\", \"25\", \"26\", \"27\", \"28\", \"29\", \"30\", \"31\", \"32\", \"33\", \"34\", \"36\", \"37\"], \"mode\": \"lines\", \"name\": \"recall_score_weighted_max\", \"stepped\": true, \"type\": \"scatter\", \"data\": [0.8320762315843352, 0.8471711290024969, 0.8481155819555264, 0.8481155819555264, 0.8481155819555264, 0.8481155819555264, 0.8481155819555264, 0.8481155819555264, 0.8481155819555264, 0.8481155819555264, 0.8481155819555264, 0.8481155819555264, 0.8481155819555264, 0.8481155819555264, 0.8488236297090431, 0.8488236297090431, 0.8488236297090431, 0.8488236297090431, 0.8488236297090431, 0.8488236297090431, 0.8488236297090431, 0.8488236297090431, 0.8488236297090431, 0.8488236297090431, 0.8488236297090431, 0.8488236297090431, 0.8488236297090431, 0.8488236297090431, 0.8488236297090431, 0.8488236297090431, 0.8488236297090431, 0.8488236297090431, 0.8488236297090431, 0.8488236297090431, 0.8488236297090431, 0.8488236297090431, 0.8488236297090431]}]}, \"metricName\": null, \"primaryMetricName\": \"accuracy\", \"showLegend\": false}, \"run_metrics\": [{\"name\": \"experiment_status\", \"run_id\": \"AutoML_548fa0e4-d38a-4e27-92e4-5947f57948e6\", \"categories\": [0, 1, 2, 3, 4, 5, 6, 7, 8, 9, 10, 11, 12, 13, 14], \"series\": [{\"data\": [\"DatasetEvaluation\", \"FeaturesGeneration\", \"DatasetFeaturization\", \"DatasetFeaturizationCompleted\", \"DatasetBalancing\", \"DatasetCrossValidationSplit\", \"ModelSelection\", \"BestRunExplainModel\", \"ModelExplanationDataSetSetup\", \"PickSurrogateModel\", \"EngineeredFeatureExplanations\", \"EngineeredFeatureExplanations\", \"RawFeaturesExplanations\", \"RawFeaturesExplanations\", \"BestRunExplainModel\"]}]}, {\"name\": \"experiment_status_description\", \"run_id\": \"AutoML_548fa0e4-d38a-4e27-92e4-5947f57948e6\", \"categories\": [0, 1, 2, 3, 4, 5, 6, 7, 8, 9, 10, 11, 12, 13, 14], \"series\": [{\"data\": [\"Gathering dataset statistics.\", \"Generating features for the dataset.\", \"Beginning to fit featurizers and featurize the dataset.\", \"Completed fit featurizers and featurizing the dataset.\", \"Performing class balancing sweeping\", \"Generating individually featurized CV splits.\", \"Beginning model selection.\", \"Best run model explanations started\", \"Model explanations data setup completed\", \"Choosing LinearModel as the surrogate model for explanations\", \"Computation of engineered features started\", \"Computation of engineered features completed\", \"Computation of raw features started\", \"Computation of raw features completed\", \"Best run model explanations completed\"]}]}, {\"name\": \"average_precision_score_weighted\", \"run_id\": \"AutoML_548fa0e4-d38a-4e27-92e4-5947f57948e6\", \"categories\": [0], \"series\": [{\"data\": [0.8137132076878132]}]}, {\"name\": \"precision_score_weighted\", \"run_id\": \"AutoML_548fa0e4-d38a-4e27-92e4-5947f57948e6\", \"categories\": [0], \"series\": [{\"data\": [0.8233577989384756]}]}, {\"name\": \"recall_score_weighted\", \"run_id\": \"AutoML_548fa0e4-d38a-4e27-92e4-5947f57948e6\", \"categories\": [0], \"series\": [{\"data\": [0.8488236297090431]}]}, {\"name\": \"AUC_macro\", \"run_id\": \"AutoML_548fa0e4-d38a-4e27-92e4-5947f57948e6\", \"categories\": [0], \"series\": [{\"data\": [0.6702029666960088]}]}, {\"name\": \"matthews_correlation\", \"run_id\": \"AutoML_548fa0e4-d38a-4e27-92e4-5947f57948e6\", \"categories\": [0], \"series\": [{\"data\": [0.08926350544880719]}]}, {\"name\": \"f1_score_micro\", \"run_id\": \"AutoML_548fa0e4-d38a-4e27-92e4-5947f57948e6\", \"categories\": [0], \"series\": [{\"data\": [0.8488236297090431]}]}, {\"name\": \"recall_score_micro\", \"run_id\": \"AutoML_548fa0e4-d38a-4e27-92e4-5947f57948e6\", \"categories\": [0], \"series\": [{\"data\": [0.8488236297090431]}]}, {\"name\": \"average_precision_score_macro\", \"run_id\": \"AutoML_548fa0e4-d38a-4e27-92e4-5947f57948e6\", \"categories\": [0], \"series\": [{\"data\": [0.589293684546189]}]}, {\"name\": \"recall_score_macro\", \"run_id\": \"AutoML_548fa0e4-d38a-4e27-92e4-5947f57948e6\", \"categories\": [0], \"series\": [{\"data\": [0.5079749338910151]}]}, {\"name\": \"f1_score_weighted\", \"run_id\": \"AutoML_548fa0e4-d38a-4e27-92e4-5947f57948e6\", \"categories\": [0], \"series\": [{\"data\": [0.7840608845605511]}]}, {\"name\": \"precision_score_micro\", \"run_id\": \"AutoML_548fa0e4-d38a-4e27-92e4-5947f57948e6\", \"categories\": [0], \"series\": [{\"data\": [0.8488236297090431]}]}, {\"name\": \"precision_score_macro\", \"run_id\": \"AutoML_548fa0e4-d38a-4e27-92e4-5947f57948e6\", \"categories\": [0], \"series\": [{\"data\": [0.7612053451465651]}]}, {\"name\": \"average_precision_score_micro\", \"run_id\": \"AutoML_548fa0e4-d38a-4e27-92e4-5947f57948e6\", \"categories\": [0], \"series\": [{\"data\": [0.8791592378677829]}]}, {\"name\": \"accuracy\", \"run_id\": \"AutoML_548fa0e4-d38a-4e27-92e4-5947f57948e6\", \"categories\": [0], \"series\": [{\"data\": [0.8488236297090431]}]}, {\"name\": \"AUC_micro\", \"run_id\": \"AutoML_548fa0e4-d38a-4e27-92e4-5947f57948e6\", \"categories\": [0], \"series\": [{\"data\": [0.8920717921242477]}]}, {\"name\": \"log_loss\", \"run_id\": \"AutoML_548fa0e4-d38a-4e27-92e4-5947f57948e6\", \"categories\": [0], \"series\": [{\"data\": [0.4033109219392413]}]}, {\"name\": \"weighted_accuracy\", \"run_id\": \"AutoML_548fa0e4-d38a-4e27-92e4-5947f57948e6\", \"categories\": [0], \"series\": [{\"data\": [0.9668277517131759]}]}, {\"name\": \"AUC_weighted\", \"run_id\": \"AutoML_548fa0e4-d38a-4e27-92e4-5947f57948e6\", \"categories\": [0], \"series\": [{\"data\": [0.6702029666960087]}]}, {\"name\": \"balanced_accuracy\", \"run_id\": \"AutoML_548fa0e4-d38a-4e27-92e4-5947f57948e6\", \"categories\": [0], \"series\": [{\"data\": [0.5079749338910151]}]}, {\"name\": \"f1_score_macro\", \"run_id\": \"AutoML_548fa0e4-d38a-4e27-92e4-5947f57948e6\", \"categories\": [0], \"series\": [{\"data\": [0.47683281746959677]}]}, {\"name\": \"norm_macro_recall\", \"run_id\": \"AutoML_548fa0e4-d38a-4e27-92e4-5947f57948e6\", \"categories\": [0], \"series\": [{\"data\": [0.015949867782030298]}]}], \"run_logs\": \"\\nRun is completed.\", \"graph\": {}, \"widget_settings\": {\"childWidgetDisplay\": \"popup\", \"send_telemetry\": false, \"log_level\": \"INFO\", \"sdk_version\": \"1.26.0\"}, \"loading\": false}"
          },
          "metadata": {}
        }
      ],
      "execution_count": 10,
      "metadata": {
        "gather": {
          "logged": 1618151636586
        },
        "jupyter": {
          "outputs_hidden": false,
          "source_hidden": false
        },
        "nteract": {
          "transient": {
            "deleting": false
          }
        }
      }
    },
    {
      "cell_type": "code",
      "source": [
        "remote_run.wait_for_completion(show_output=True)"
      ],
      "outputs": [
        {
          "output_type": "display_data",
          "data": {
            "text/plain": "<IPython.core.display.HTML object>",
            "text/html": "<table style=\"width:100%\"><tr><th>Experiment</th><th>Id</th><th>Type</th><th>Status</th><th>Details Page</th><th>Docs Page</th></tr><tr><td>Framingham-Experiment</td><td>AutoML_548fa0e4-d38a-4e27-92e4-5947f57948e6</td><td>automl</td><td>Completed</td><td><a href=\"https://ml.azure.com/runs/AutoML_548fa0e4-d38a-4e27-92e4-5947f57948e6?wsid=/subscriptions/a24a24d5-8d87-4c8a-99b6-91ed2d2df51f/resourcegroups/aml-quickstarts-142387/workspaces/quick-starts-ws-142387&amp;tid=660b3398-b80e-49d2-bc5b-ac1dc93b5254\" target=\"_blank\" rel=\"noopener\">Link to Azure Machine Learning studio</a></td><td><a href=\"https://docs.microsoft.com/en-us/python/api/overview/azure/ml/intro?view=azure-ml-py\" target=\"_blank\" rel=\"noopener\">Link to Documentation</a></td></tr></table>"
          },
          "metadata": {}
        },
        {
          "output_type": "stream",
          "name": "stdout",
          "text": [
            "\n",
            "\n",
            "****************************************************************************************************\n",
            "DATA GUARDRAILS: \n",
            "\n",
            "TYPE:         Cross validation\n",
            "STATUS:       DONE\n",
            "DESCRIPTION:  Each iteration of the trained model was validated through cross-validation.\n",
            "              \n",
            "DETAILS:      \n",
            "+---------------------------------+\n",
            "|Number of folds                  |\n",
            "+=================================+\n",
            "|3                                |\n",
            "+---------------------------------+\n",
            "\n",
            "****************************************************************************************************\n",
            "\n",
            "TYPE:         Class balancing detection\n",
            "STATUS:       ALERTED\n",
            "DESCRIPTION:  To decrease model bias, please cancel the current run and fix balancing problem.\n",
            "              Learn more about imbalanced data: https://aka.ms/AutomatedMLImbalancedData\n",
            "DETAILS:      Imbalanced data can lead to a falsely perceived positive effect of a model's accuracy because the input data has bias towards one class.\n",
            "+---------------------------------+---------------------------------+--------------------------------------+\n",
            "|Size of the smallest class       |Name/Label of the smallest class |Number of samples in the training data|\n",
            "+=================================+=================================+======================================+\n",
            "|644                              |1                                |4240                                  |\n",
            "+---------------------------------+---------------------------------+--------------------------------------+\n",
            "\n",
            "****************************************************************************************************\n",
            "\n",
            "TYPE:         Missing feature values imputation\n",
            "STATUS:       DONE\n",
            "DESCRIPTION:  If the missing values are expected, let the run complete. Otherwise cancel the current run and use a script to customize the handling of missing feature values that may be more appropriate based on the data type and business requirement.\n",
            "              Learn more about missing value imputation: https://aka.ms/AutomatedMLFeaturization\n",
            "DETAILS:      \n",
            "+---------------------------------+---------------------------------+---------------------------------+\n",
            "|Column name                      |Missing value count              |Imputation type                  |\n",
            "+=================================+=================================+=================================+\n",
            "|heartRate                        |1                                |mean                             |\n",
            "+---------------------------------+---------------------------------+---------------------------------+\n",
            "\n",
            "****************************************************************************************************\n",
            "\n",
            "TYPE:         High cardinality feature detection\n",
            "STATUS:       DONE\n",
            "DESCRIPTION:  High cardinality features were detected in your inputs and handled.\n",
            "              Learn more about high cardinality feature handling: https://aka.ms/AutomatedMLFeaturization\n",
            "DETAILS:      High cardinality features refer to columns that contain a large percentage of unique values.\n",
            "+---------------------------------+---------------------------------+\n",
            "|Column name                      |Column Content Type              |\n",
            "+=================================+=================================+\n",
            "|totChol                          |categorical_hash                 |\n",
            "|BMI                              |categorical_hash                 |\n",
            "+---------------------------------+---------------------------------+\n",
            "\n",
            "****************************************************************************************************\n",
            "\n",
            "****************************************************************************************************\n",
            "ITERATION: The iteration being evaluated.\n",
            "PIPELINE: A summary description of the pipeline being evaluated.\n",
            "DURATION: Time taken for the current iteration.\n",
            "METRIC: The result of computing score on the fitted pipeline.\n",
            "BEST: The best observed score thus far.\n",
            "****************************************************************************************************\n",
            "\n",
            " ITERATION   PIPELINE                                       DURATION      METRIC      BEST\n",
            "         0   MaxAbsScaler LightGBM                          0:00:48       0.8321    0.8321\n",
            "         1   MaxAbsScaler XGBoostClassifier                 0:00:43       0.8472    0.8472\n",
            "         2   MaxAbsScaler RandomForest                      0:00:40       0.8481    0.8481\n",
            "         3   MaxAbsScaler RandomForest                      0:03:10       0.8481    0.8481\n",
            "         4   MaxAbsScaler RandomForest                      0:05:19       0.5670    0.8481\n",
            "         5   MaxAbsScaler RandomForest                      0:05:20       0.6811    0.8481\n",
            "         6   TruncatedSVDWrapper XGBoostClassifier          0:01:32       0.8420    0.8481\n",
            "         7   SparseNormalizer XGBoostClassifier             0:00:41       0.8406    0.8481\n",
            "        10   MaxAbsScaler LightGBM                          0:00:43       0.8481    0.8481\n",
            "        11   MaxAbsScaler ExtremeRandomTrees                0:00:54       0.8481    0.8481\n",
            "         8   MaxAbsScaler LogisticRegression                0:00:46       0.8064    0.8481\n",
            "         9   MaxAbsScaler LogisticRegression                0:00:44       0.7769    0.8481\n",
            "        12   SparseNormalizer LightGBM                      0:00:48       0.8455    0.8481\n",
            "        13   MaxAbsScaler GradientBoosting                  0:00:45       0.8481    0.8481\n",
            "        14   StandardScalerWrapper XGBoostClassifier        0:00:37       0.8488    0.8488\n",
            "        15   StandardScalerWrapper LightGBM                 0:00:46       0.8469    0.8488\n",
            "        16   SparseNormalizer XGBoostClassifier             0:01:00       0.8392    0.8488\n",
            "        17   MaxAbsScaler LogisticRegression                0:00:44       0.8229    0.8488\n",
            "        18   MaxAbsScaler RandomForest                      0:00:38       0.8481    0.8488\n",
            "        19   MaxAbsScaler LogisticRegression                0:00:52       0.7821    0.8488\n",
            "        20   StandardScalerWrapper LightGBM                 0:00:45       0.8481    0.8488\n",
            "        21   MaxAbsScaler ExtremeRandomTrees                0:00:42       0.8481    0.8488\n",
            "        22   SparseNormalizer XGBoostClassifier             0:00:43       0.8396    0.8488\n",
            "        23   MaxAbsScaler ExtremeRandomTrees                0:00:48       0.8481    0.8488\n",
            "        24   SparseNormalizer LightGBM                      0:00:46       0.8481    0.8488\n",
            "        25   SparseNormalizer XGBoostClassifier             0:00:49       0.8481    0.8488\n",
            "        26   StandardScalerWrapper ExtremeRandomTrees       0:00:44       0.8481    0.8488\n",
            "        27   MaxAbsScaler ExtremeRandomTrees                0:00:40       0.8481    0.8488\n",
            "        28   SparseNormalizer LightGBM                      0:00:40       0.8481    0.8488\n",
            "        29   MaxAbsScaler LightGBM                          0:00:43       0.8469    0.8488\n",
            "        30   SparseNormalizer XGBoostClassifier             0:00:50       0.8481    0.8488\n",
            "        31   StandardScalerWrapper ExtremeRandomTrees       0:00:43       0.8481    0.8488\n",
            "        32   StandardScalerWrapper LightGBM                 0:00:48       0.8281    0.8488\n",
            "        33   MaxAbsScaler LightGBM                          0:00:36       0.8429    0.8488\n",
            "        34   MaxAbsScaler LightGBM                          0:00:29       0.8462    0.8488\n",
            "        35                                                  0:00:10          nan    0.8488\n",
            "        36    VotingEnsemble                                0:01:06       0.8481    0.8488\n",
            "        37    StackEnsemble                                 0:01:06       0.8347    0.8488\n"
          ]
        },
        {
          "output_type": "execute_result",
          "execution_count": 11,
          "data": {
            "text/plain": "{'runId': 'AutoML_548fa0e4-d38a-4e27-92e4-5947f57948e6',\n 'target': 'Compute-Cluster',\n 'status': 'Completed',\n 'startTimeUtc': '2021-04-11T14:09:59.564286Z',\n 'endTimeUtc': '2021-04-11T14:33:34.217422Z',\n 'properties': {'num_iterations': '1000',\n  'training_type': 'TrainFull',\n  'acquisition_function': 'EI',\n  'primary_metric': 'accuracy',\n  'train_split': '0',\n  'acquisition_parameter': '0',\n  'num_cross_validation': None,\n  'target': 'Compute-Cluster',\n  'AMLSettingsJsonString': '{\"path\":null,\"name\":\"Framingham-Experiment\",\"subscription_id\":\"a24a24d5-8d87-4c8a-99b6-91ed2d2df51f\",\"resource_group\":\"aml-quickstarts-142387\",\"workspace_name\":\"quick-starts-ws-142387\",\"region\":\"southcentralus\",\"compute_target\":\"Compute-Cluster\",\"spark_service\":null,\"azure_service\":\"remote\",\"many_models\":false,\"pipeline_fetch_max_batch_size\":1,\"enable_batch_run\":false,\"enable_run_restructure\":false,\"iterations\":1000,\"primary_metric\":\"accuracy\",\"task_type\":\"classification\",\"data_script\":null,\"test_size\":0.0,\"validation_size\":0.0,\"n_cross_validations\":null,\"y_min\":null,\"y_max\":null,\"num_classes\":null,\"featurization\":\"auto\",\"_ignore_package_version_incompatibilities\":false,\"is_timeseries\":false,\"max_cores_per_iteration\":1,\"max_concurrent_iterations\":4,\"iteration_timeout_minutes\":null,\"mem_in_mb\":null,\"enforce_time_on_windows\":false,\"experiment_timeout_minutes\":30,\"experiment_exit_score\":null,\"whitelist_models\":null,\"blacklist_algos\":[\"TensorFlowLinearClassifier\",\"TensorFlowDNN\"],\"supported_models\":[\"AveragedPerceptronClassifier\",\"GradientBoosting\",\"BernoulliNaiveBayes\",\"KNN\",\"TensorFlowDNN\",\"MultinomialNaiveBayes\",\"LinearSVM\",\"RandomForest\",\"XGBoostClassifier\",\"SGD\",\"ExtremeRandomTrees\",\"TensorFlowLinearClassifier\",\"LightGBM\",\"LogisticRegression\",\"SVM\",\"DecisionTree\"],\"private_models\":[],\"auto_blacklist\":true,\"blacklist_samples_reached\":false,\"exclude_nan_labels\":true,\"verbosity\":20,\"_debug_log\":\"azureml_automl.log\",\"show_warnings\":false,\"model_explainability\":true,\"service_url\":null,\"sdk_url\":null,\"sdk_packages\":null,\"enable_onnx_compatible_models\":false,\"enable_split_onnx_featurizer_estimator_models\":false,\"vm_type\":\"STANDARD_D2_V2\",\"telemetry_verbosity\":20,\"send_telemetry\":true,\"enable_dnn\":false,\"scenario\":\"SDK-1.13.0\",\"environment_label\":null,\"save_mlflow\":false,\"force_text_dnn\":false,\"enable_feature_sweeping\":true,\"enable_early_stopping\":true,\"early_stopping_n_iters\":10,\"metrics\":null,\"enable_metric_confidence\":false,\"enable_ensembling\":true,\"enable_stack_ensembling\":true,\"ensemble_iterations\":15,\"enable_tf\":false,\"enable_subsampling\":null,\"subsample_seed\":null,\"enable_nimbusml\":false,\"enable_streaming\":false,\"force_streaming\":false,\"track_child_runs\":true,\"allowed_private_models\":[],\"label_column_name\":\"TenYearCHD\",\"weight_column_name\":null,\"cv_split_column_names\":null,\"enable_local_managed\":false,\"_local_managed_run_id\":null,\"cost_mode\":1,\"lag_length\":0,\"metric_operation\":\"maximize\",\"preprocess\":true}',\n  'DataPrepJsonString': '{\\\\\"training_data\\\\\": {\\\\\"datasetId\\\\\": \\\\\"96a102e3-d085-4e41-b347-712d1ea48e3e\\\\\"}, \\\\\"datasets\\\\\": 0}',\n  'EnableSubsampling': None,\n  'runTemplate': 'AutoML',\n  'azureml.runsource': 'automl',\n  'display_task_type': 'classification',\n  'dependencies_versions': '{\"azureml-widgets\": \"1.26.0\", \"azureml-train\": \"1.26.0\", \"azureml-train-restclients-hyperdrive\": \"1.26.0\", \"azureml-train-core\": \"1.26.0\", \"azureml-train-automl-client\": \"1.26.0\", \"azureml-tensorboard\": \"1.26.0\", \"azureml-telemetry\": \"1.26.0\", \"azureml-sdk\": \"1.26.0\", \"azureml-pipeline\": \"1.26.0\", \"azureml-pipeline-steps\": \"1.26.0\", \"azureml-pipeline-core\": \"1.26.0\", \"azureml-opendatasets\": \"1.26.0\", \"azureml-model-management-sdk\": \"1.0.1b6.post1\", \"azureml-mlflow\": \"1.26.0\", \"azureml-interpret\": \"1.26.0\", \"azureml-explain-model\": \"1.26.0\", \"azureml-defaults\": \"1.26.0\", \"azureml-dataset-runtime\": \"1.26.0\", \"azureml-dataprep\": \"2.13.2\", \"azureml-dataprep-rslex\": \"1.11.2\", \"azureml-dataprep-native\": \"32.0.0\", \"azureml-datadrift\": \"1.26.0\", \"azureml-core\": \"1.26.0\", \"azureml-contrib-services\": \"1.26.0\", \"azureml-contrib-server\": \"1.26.0\", \"azureml-contrib-reinforcementlearning\": \"1.26.0\", \"azureml-contrib-pipeline-steps\": \"1.26.0\", \"azureml-contrib-notebook\": \"1.26.0\", \"azureml-contrib-gbdt\": \"1.26.0\", \"azureml-contrib-fairness\": \"1.26.0\", \"azureml-contrib-dataset\": \"1.26.0\", \"azureml-cli-common\": \"1.26.0\", \"azureml-automl-core\": \"1.26.0\", \"azureml-accel-models\": \"1.26.0\"}',\n  '_aml_system_scenario_identification': 'Remote.Parent',\n  'ClientType': 'SDK',\n  'environment_cpu_name': 'AzureML-AutoML',\n  'environment_cpu_label': 'prod',\n  'environment_gpu_name': 'AzureML-AutoML-GPU',\n  'environment_gpu_label': 'prod',\n  'root_attribution': 'automl',\n  'attribution': 'AutoML',\n  'Orchestrator': 'AutoML',\n  'CancelUri': 'https://southcentralus.experiments.azureml.net/jasmine/v1.0/subscriptions/a24a24d5-8d87-4c8a-99b6-91ed2d2df51f/resourceGroups/aml-quickstarts-142387/providers/Microsoft.MachineLearningServices/workspaces/quick-starts-ws-142387/experimentids/a5e9e258-6067-4913-a587-74f1c8a8a8a4/cancel/AutoML_548fa0e4-d38a-4e27-92e4-5947f57948e6',\n  'ClientSdkVersion': '1.25.0',\n  'snapshotId': '00000000-0000-0000-0000-000000000000',\n  'SetupRunId': 'AutoML_548fa0e4-d38a-4e27-92e4-5947f57948e6_setup',\n  'SetupRunContainerId': 'dcid.AutoML_548fa0e4-d38a-4e27-92e4-5947f57948e6_setup',\n  'FeaturizationRunJsonPath': 'featurizer_container.json',\n  'FeaturizationRunId': 'AutoML_548fa0e4-d38a-4e27-92e4-5947f57948e6_featurize',\n  'ProblemInfoJsonString': '{\"dataset_num_categorical\": 0, \"is_sparse\": true, \"subsampling\": false, \"dataset_classes\": 2, \"dataset_features\": 1385, \"dataset_samples\": 4240, \"single_frequency_class_detected\": false}',\n  'ModelExplainRunId': 'AutoML_548fa0e4-d38a-4e27-92e4-5947f57948e6_ModelExplain'},\n 'inputDatasets': [{'dataset': {'id': '96a102e3-d085-4e41-b347-712d1ea48e3e'}, 'consumptionDetails': {'type': 'RunInput', 'inputName': 'training_data', 'mechanism': 'Direct'}}],\n 'outputDatasets': [],\n 'logFiles': {},\n 'submittedBy': 'ODL_User 142387'}"
          },
          "metadata": {}
        }
      ],
      "execution_count": 11,
      "metadata": {
        "gather": {
          "logged": 1618151851544
        }
      }
    },
    {
      "cell_type": "markdown",
      "source": [
        "## Best Model\n",
        "\n",
        "TODO: In the cell below, get the best model from the automl experiments and display all the properties of the model.\n",
        "\n"
      ],
      "metadata": {}
    },
    {
      "cell_type": "code",
      "source": [
        "best_automl_run, best_automl_model = remote_run.get_output()\n",
        "\n",
        "print('Best Run Id: ' + best_automl_run.id,\n",
        "     'Best Model Name: ' + best_automl_run.properties['model_name'],\n",
        "     )"
      ],
      "outputs": [
        {
          "output_type": "stream",
          "name": "stderr",
          "text": [
            "WARNING:root:The model you attempted to retrieve requires 'azureml-train-automl-runtime' to be installed at '==1.25.0'. Please install 'azureml-train-automl-runtime==1.25.0' (e.g. `pip install azureml-train-automl-runtime==1.25.0`) and then rerun the previous command.\n"
          ]
        },
        {
          "output_type": "stream",
          "name": "stdout",
          "text": [
            "Best Run Id: AutoML_548fa0e4-d38a-4e27-92e4-5947f57948e6_14 Best Model Name: AutoML548fa0e4d14\n"
          ]
        }
      ],
      "execution_count": 12,
      "metadata": {
        "gather": {
          "logged": 1618151854979
        },
        "jupyter": {
          "outputs_hidden": false,
          "source_hidden": false
        },
        "nteract": {
          "transient": {
            "deleting": false
          }
        }
      }
    },
    {
      "cell_type": "code",
      "source": [
        "print(best_automl_model)"
      ],
      "outputs": [
        {
          "output_type": "stream",
          "name": "stdout",
          "text": [
            "None\n"
          ]
        }
      ],
      "execution_count": 13,
      "metadata": {
        "collapsed": true,
        "jupyter": {
          "source_hidden": false,
          "outputs_hidden": false
        },
        "nteract": {
          "transient": {
            "deleting": false
          }
        },
        "gather": {
          "logged": 1618151855324
        }
      }
    },
    {
      "cell_type": "code",
      "source": [
        "best_run_metrics = best_automl_run.get_metrics()\n",
        "\n",
        "for metric_name in best_run_metrics:\n",
        "    metric = best_run_metrics[metric_name]\n",
        "    print(metric_name,\":\" , metric)"
      ],
      "outputs": [
        {
          "output_type": "stream",
          "name": "stdout",
          "text": [
            "recall_score_weighted : 0.8488236297090431\n",
            "norm_macro_recall : 0.015949867782030298\n",
            "balanced_accuracy : 0.5079749338910151\n",
            "f1_score_macro : 0.47683281746959677\n",
            "AUC_weighted : 0.6702029666960087\n",
            "weighted_accuracy : 0.9668277517131759\n",
            "average_precision_score_weighted : 0.8137132076878132\n",
            "log_loss : 0.4033109219392413\n",
            "precision_score_weighted : 0.8233577989384756\n",
            "accuracy : 0.8488236297090431\n",
            "average_precision_score_micro : 0.8791592378677829\n",
            "AUC_micro : 0.8920717921242477\n",
            "f1_score_weighted : 0.7840608845605511\n",
            "precision_score_micro : 0.8488236297090431\n",
            "precision_score_macro : 0.7612053451465651\n",
            "recall_score_micro : 0.8488236297090431\n",
            "AUC_macro : 0.6702029666960088\n",
            "average_precision_score_macro : 0.589293684546189\n",
            "matthews_correlation : 0.08926350544880719\n",
            "f1_score_micro : 0.8488236297090431\n",
            "recall_score_macro : 0.5079749338910151\n",
            "accuracy_table : aml://artifactId/ExperimentRun/dcid.AutoML_548fa0e4-d38a-4e27-92e4-5947f57948e6_14/accuracy_table\n",
            "confusion_matrix : aml://artifactId/ExperimentRun/dcid.AutoML_548fa0e4-d38a-4e27-92e4-5947f57948e6_14/confusion_matrix\n"
          ]
        }
      ],
      "execution_count": 14,
      "metadata": {
        "gather": {
          "logged": 1618151857521
        }
      }
    },
    {
      "cell_type": "code",
      "source": [
        "#TODO: Save the best model\n",
        "automodel = best_automl_run.register_model(model_name='best_automl_model', \n",
        "                                    model_path='outputs/model.pkl',\n",
        "                                    tags={'Method':'AutoML'},\n",
        "                                    properties={'Accuracy': best_run_metrics['accuracy']})"
      ],
      "outputs": [],
      "execution_count": 15,
      "metadata": {
        "gather": {
          "logged": 1618151858173
        },
        "jupyter": {
          "outputs_hidden": false,
          "source_hidden": false
        },
        "nteract": {
          "transient": {
            "deleting": false
          }
        }
      }
    },
    {
      "cell_type": "markdown",
      "source": [
        "## Model Deployment\n",
        "\n",
        "Remember you have to deploy only one of the two models you trained.. Perform the steps in the rest of this notebook only if you wish to deploy this model.\n",
        "\n",
        "TODO: In the cell below, register the model, create an inference config and deploy the model as a web service."
      ],
      "metadata": {}
    },
    {
      "cell_type": "code",
      "source": [
        "# Download scoring file \n",
        "best_automl_run.download_file('outputs/scoring_file_v_1_0_0.py', 'score.py')\n",
        "\n",
        "# Download environment file\n",
        "best_automl_run.download_file('outputs/conda_env_v_1_0_0.yml', 'env.yml')"
      ],
      "outputs": [],
      "execution_count": 16,
      "metadata": {
        "gather": {
          "logged": 1618152006222
        },
        "jupyter": {
          "outputs_hidden": false,
          "source_hidden": false
        },
        "nteract": {
          "transient": {
            "deleting": false
          }
        }
      }
    },
    {
      "cell_type": "code",
      "source": [
        "from azureml.core.webservice import AciWebservice, Webservice\n",
        "aciconfig = AciWebservice.deploy_configuration(cpu_cores=1, \n",
        "                                               memory_gb=1, \n",
        "                                               description='Framingham Heart Disease Prediction with AutoML')"
      ],
      "outputs": [],
      "execution_count": 17,
      "metadata": {
        "gather": {
          "logged": 1618152010267
        }
      }
    },
    {
      "cell_type": "code",
      "source": [
        "from azureml.core.model import InferenceConfig, Model\n",
        "inference_config = InferenceConfig(entry_script=\"score.py\", environment=best_automl_run.get_environment())\n",
        "\n",
        "service = Model.deploy(workspace=ws, \n",
        "                       name='automl-webservice', \n",
        "                       models=[automodel], \n",
        "                       inference_config=inference_config, \n",
        "                       deployment_config=aciconfig)"
      ],
      "outputs": [],
      "execution_count": 18,
      "metadata": {
        "gather": {
          "logged": 1618152014760
        }
      }
    },
    {
      "cell_type": "code",
      "source": [
        "service.wait_for_deployment(show_output=True)"
      ],
      "outputs": [
        {
          "output_type": "stream",
          "name": "stdout",
          "text": [
            "Tips: You can try get_logs(): https://aka.ms/debugimage#dockerlog or local deployment: https://aka.ms/debugimage#debug-locally to debug if deployment takes longer than 10 minutes.\n",
            "Running\n",
            "2021-04-11 14:40:15+00:00 Creating Container Registry if not exists.\n",
            "2021-04-11 14:40:15+00:00 Registering the environment.\n",
            "2021-04-11 14:40:18+00:00 Use the existing image.\n",
            "2021-04-11 14:40:18+00:00 Generating deployment configuration..\n",
            "2021-04-11 14:40:21+00:00 Submitting deployment to compute..\n",
            "2021-04-11 14:40:28+00:00 Checking the status of deployment automl-webservice..\n",
            "2021-04-11 14:43:18+00:00 Checking the status of inference endpoint automl-webservice.\n",
            "Succeeded\n",
            "ACI service creation operation finished, operation \"Succeeded\"\n"
          ]
        }
      ],
      "execution_count": 19,
      "metadata": {
        "gather": {
          "logged": 1618152206567
        }
      }
    },
    {
      "cell_type": "code",
      "source": [
        "print(\"Service State: \",service.state)\n",
        "print(\"Scoring URI: \",service.scoring_uri)\n",
        "print(\"Swagger URI: \",service.swagger_uri)"
      ],
      "outputs": [
        {
          "output_type": "stream",
          "name": "stdout",
          "text": [
            "Service State:  Healthy\n",
            "Scoring URI:  http://219e40cf-11a0-41f8-94f2-3fc5b020dd18.southcentralus.azurecontainer.io/score\n",
            "Swagger URI:  http://219e40cf-11a0-41f8-94f2-3fc5b020dd18.southcentralus.azurecontainer.io/swagger.json\n"
          ]
        }
      ],
      "execution_count": 20,
      "metadata": {
        "gather": {
          "logged": 1618152206831
        }
      }
    },
    {
      "cell_type": "markdown",
      "source": [
        "TODO: In the cell below, send a request to the web service you deployed to test it."
      ],
      "metadata": {
        "collapsed": true,
        "gather": {
          "logged": 1598431657736
        },
        "jupyter": {
          "outputs_hidden": false,
          "source_hidden": false
        },
        "nteract": {
          "transient": {
            "deleting": false
          }
        }
      }
    },
    {
      "cell_type": "code",
      "source": [
        "\n",
        "data = {\n",
        "    \"data\": [\n",
        "        {\n",
        "            'male': 0,\n",
        "            'age': 55,\n",
        "            'education': 4 ,\n",
        "            'currentSmoker': 1,\n",
        "            'cigsPerDay': 20,\n",
        "            'BPMeds': 0,\n",
        "            'prevalentStroke': 0,\n",
        "            'prevalentHyp': 0,\n",
        "            'diabetes': 0,\n",
        "            'totChol': 285,\n",
        "            'sysBP': 175,\n",
        "            'diaBP': 84,\n",
        "            'BMI': 25.50,\n",
        "            'heartRate': 93,\n",
        "            'glucose': 87\n",
        "        },\n",
        "        {\n",
        "            'male': 1,\n",
        "            'age': 40,\n",
        "            'education': 4 ,\n",
        "            'currentSmoker': 0,\n",
        "            'cigsPerDay': 30,\n",
        "            'BPMeds': 0,\n",
        "            'prevalentStroke': 0,\n",
        "            'prevalentHyp': 0,\n",
        "            'diabetes': 0,\n",
        "            'totChol': 228,\n",
        "            'sysBP': 121,\n",
        "            'diaBP': 110,\n",
        "            'BMI': 30.30,\n",
        "            'heartRate': 80,\n",
        "            'glucose': 80\n",
        "        }\n",
        "    ]\n",
        "}\n",
        "\n",
        "data_sample = json.dumps(data)"
      ],
      "outputs": [],
      "execution_count": 21,
      "metadata": {
        "gather": {
          "logged": 1618152207086
        },
        "jupyter": {
          "outputs_hidden": false,
          "source_hidden": false
        },
        "nteract": {
          "transient": {
            "deleting": false
          }
        }
      }
    },
    {
      "cell_type": "code",
      "source": [
        "scoring_uri = service.scoring_uri\n",
        "input_data = data_sample\n",
        "\n",
        "# Set the content type\n",
        "headers = {'Content-Type': 'application/json'}\n",
        "\n",
        "# Make the request and display the response\n",
        "response = requests.post(scoring_uri, input_data, headers=headers)\n",
        "response.json()"
      ],
      "outputs": [
        {
          "output_type": "execute_result",
          "execution_count": 22,
          "data": {
            "text/plain": "'{\"result\": [0, 0]}'"
          },
          "metadata": {}
        }
      ],
      "execution_count": 22,
      "metadata": {
        "gather": {
          "logged": 1618152207368
        }
      }
    },
    {
      "cell_type": "markdown",
      "source": [
        "TODO: In the cell below, print the logs of the web service and delete the service"
      ],
      "metadata": {
        "collapsed": true,
        "gather": {
          "logged": 1598432765711
        },
        "jupyter": {
          "outputs_hidden": false,
          "source_hidden": false
        },
        "nteract": {
          "transient": {
            "deleting": false
          }
        }
      }
    },
    {
      "cell_type": "code",
      "source": [
        "service.get_logs()"
      ],
      "outputs": [
        {
          "output_type": "execute_result",
          "execution_count": 23,
          "data": {
            "text/plain": "'2021-04-11T14:43:10,700096700+00:00 - gunicorn/run \\n2021-04-11T14:43:10,704974800+00:00 - nginx/run \\n2021-04-11T14:43:10,708283900+00:00 - rsyslog/run \\n2021-04-11T14:43:10,719913600+00:00 - iot-server/run \\n/usr/sbin/nginx: /azureml-envs/azureml_8e5a5a51349877e7d47c6a2872e0ebfd/lib/libcrypto.so.1.0.0: no version information available (required by /usr/sbin/nginx)\\n/usr/sbin/nginx: /azureml-envs/azureml_8e5a5a51349877e7d47c6a2872e0ebfd/lib/libcrypto.so.1.0.0: no version information available (required by /usr/sbin/nginx)\\n/usr/sbin/nginx: /azureml-envs/azureml_8e5a5a51349877e7d47c6a2872e0ebfd/lib/libssl.so.1.0.0: no version information available (required by /usr/sbin/nginx)\\n/usr/sbin/nginx: /azureml-envs/azureml_8e5a5a51349877e7d47c6a2872e0ebfd/lib/libssl.so.1.0.0: no version information available (required by /usr/sbin/nginx)\\n/usr/sbin/nginx: /azureml-envs/azureml_8e5a5a51349877e7d47c6a2872e0ebfd/lib/libssl.so.1.0.0: no version information available (required by /usr/sbin/nginx)\\nrsyslogd: /azureml-envs/azureml_8e5a5a51349877e7d47c6a2872e0ebfd/lib/libuuid.so.1: no version information available (required by rsyslogd)\\nEdgeHubConnectionString and IOTEDGE_IOTHUBHOSTNAME are not set. Exiting...\\n2021-04-11T14:43:11,041030600+00:00 - iot-server/finish 1 0\\n2021-04-11T14:43:11,071758100+00:00 - Exit code 1 is normal. Not restarting iot-server.\\nStarting gunicorn 19.9.0\\nListening at: http://127.0.0.1:31311 (68)\\nUsing worker: sync\\nworker timeout is set to 300\\nBooting worker with pid: 97\\nSPARK_HOME not set. Skipping PySpark Initialization.\\nGenerating new fontManager, this may take some time...\\nInitializing logger\\n2021-04-11 14:43:13,488 | root | INFO | Starting up app insights client\\n2021-04-11 14:43:13,489 | root | INFO | Starting up request id generator\\n2021-04-11 14:43:13,489 | root | INFO | Starting up app insight hooks\\n2021-04-11 14:43:13,489 | root | INFO | Invoking user\\'s init function\\n2021-04-11 14:43:18,119 | azureml.core | WARNING | Failure while loading azureml_run_type_providers. Failed to load entrypoint automl = azureml.train.automl.run:AutoMLRun._from_run_dto with exception cannot import name \\'RunType\\'.\\nFailure while loading azureml_run_type_providers. Failed to load entrypoint automl = azureml.train.automl.run:AutoMLRun._from_run_dto with exception cannot import name \\'RunType\\'.\\n2021-04-11 14:43:18,491 | root | INFO | Users\\'s init has completed successfully\\n2021-04-11 14:43:18,498 | root | INFO | Skipping middleware: dbg_model_info as it\\'s not enabled.\\n2021-04-11 14:43:18,499 | root | INFO | Skipping middleware: dbg_resource_usage as it\\'s not enabled.\\n2021-04-11 14:43:18,501 | root | INFO | Scoring timeout is found from os.environ: 60000 ms\\n2021-04-11 14:43:25,238 | root | INFO | 200\\n127.0.0.1 - - [11/Apr/2021:14:43:25 +0000] \"GET /swagger.json HTTP/1.0\" 200 2937 \"-\" \"Go-http-client/1.1\"\\n2021-04-11 14:43:26,590 | root | INFO | 200\\n127.0.0.1 - - [11/Apr/2021:14:43:26 +0000] \"GET /swagger.json HTTP/1.0\" 200 2937 \"-\" \"Go-http-client/1.1\"\\n2021-04-11 14:43:27,266 | root | INFO | Validation Request Content-Type\\n2021-04-11 14:43:27,267 | root | INFO | Scoring Timer is set to 60.0 seconds\\n2021-04-11 14:43:27,425 | root | INFO | 200\\n127.0.0.1 - - [11/Apr/2021:14:43:27 +0000] \"POST /score HTTP/1.0\" 200 22 \"-\" \"python-requests/2.25.1\"\\n'"
          },
          "metadata": {}
        }
      ],
      "execution_count": 23,
      "metadata": {
        "gather": {
          "logged": 1618152207785
        },
        "jupyter": {
          "outputs_hidden": false,
          "source_hidden": false
        },
        "nteract": {
          "transient": {
            "deleting": false
          }
        }
      }
    },
    {
      "cell_type": "code",
      "source": [
        "service.delete()"
      ],
      "outputs": [],
      "execution_count": null,
      "metadata": {
        "collapsed": true,
        "jupyter": {
          "outputs_hidden": false,
          "source_hidden": false
        },
        "nteract": {
          "transient": {
            "deleting": false
          }
        }
      }
    }
  ],
  "metadata": {
    "kernel_info": {
      "name": "python38-azureml"
    },
    "kernelspec": {
      "name": "python38-azureml",
      "language": "python",
      "display_name": "Python 3.8 - AzureML"
    },
    "language_info": {
      "name": "python",
      "version": "3.8.1",
      "mimetype": "text/x-python",
      "codemirror_mode": {
        "name": "ipython",
        "version": 3
      },
      "pygments_lexer": "ipython3",
      "nbconvert_exporter": "python",
      "file_extension": ".py"
    },
    "microsoft": {
      "host": {
        "AzureML": {
          "notebookHasBeenCompleted": true
        }
      }
    },
    "nteract": {
      "version": "nteract-front-end@1.0.0"
    }
  },
  "nbformat": 4,
  "nbformat_minor": 2
}