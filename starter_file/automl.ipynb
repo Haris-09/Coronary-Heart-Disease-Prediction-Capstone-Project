{
  "cells": [
    {
      "cell_type": "markdown",
      "source": [
        "# Automated ML\n",
        "\n",
        "TODO: Import Dependencies. In the cell below, import all the dependencies that you will need to complete the project."
      ],
      "metadata": {}
    },
    {
      "cell_type": "code",
      "source": [
        "from azureml.core.experiment import Experiment\n",
        "from azureml.core.workspace import Workspace\n",
        "from azureml.core.compute import ComputeTarget, AmlCompute\n",
        "from azureml.core.compute_target import ComputeTargetException\n",
        "from azureml.widgets import RunDetails\n",
        "from azureml.data.dataset_factory import TabularDatasetFactory\n",
        "from azureml.train.automl import AutoMLConfig\n",
        "from azureml.core.dataset import Dataset\n",
        "from azureml.core.webservice import AciWebservice, Webservice\n",
        "from azureml.core.model import InferenceConfig, Model\n",
        "import os\n",
        "import joblib\n",
        "import logging\n",
        "import json\n",
        "import requests"
      ],
      "outputs": [],
      "execution_count": 3,
      "metadata": {
        "gather": {
          "logged": 1617446202418
        },
        "jupyter": {
          "outputs_hidden": false,
          "source_hidden": false
        },
        "nteract": {
          "transient": {
            "deleting": false
          }
        }
      }
    },
    {
      "cell_type": "markdown",
      "source": [
        "## Dataset\n",
        "\n",
        "### Overview\n",
        "TODO: In this markdown cell, give an overview of the dataset you are using. Also mention the task you will be performing.\n",
        "\n",
        "\n",
        "TODO: Get data. In the cell below, write code to access the data you will be using in this project. Remember that the dataset needs to be external."
      ],
      "metadata": {}
    },
    {
      "cell_type": "code",
      "source": [
        "ws = Workspace.from_config()\n",
        "print('Workspace Name: ' + ws.name,\n",
        "      'Resource group: ' + ws.resource_group,\n",
        "      'Azure Region: ' + ws.location,\n",
        "      'Subscription Id: ' + ws.subscription_id, sep = '\\n')"
      ],
      "outputs": [
        {
          "output_type": "stream",
          "name": "stdout",
          "text": [
            "Performing interactive authentication. Please follow the instructions on the terminal.\n",
            "To sign in, use a web browser to open the page https://microsoft.com/devicelogin and enter the code AZHA9TJEC to authenticate.\n",
            "You have logged in. Now let us find all the subscriptions to which you have access...\n",
            "Interactive authentication successfully completed.\n",
            "Workspace Name: quick-starts-ws-141869\n",
            "Resource group: aml-quickstarts-141869\n",
            "Azure Region: southcentralus\n",
            "Subscription Id: 610d6e37-4747-4a20-80eb-3aad70a55f43\n"
          ]
        }
      ],
      "execution_count": 4,
      "metadata": {
        "gather": {
          "logged": 1617446239280
        },
        "jupyter": {
          "outputs_hidden": false,
          "source_hidden": false
        },
        "nteract": {
          "transient": {
            "deleting": false
          }
        }
      }
    },
    {
      "cell_type": "code",
      "source": [
        "# choose a name for experiment\n",
        "experiment_name = 'Framingham-Experiment'\n",
        "\n",
        "experiment=Experiment(ws, experiment_name)\n",
        "run = experiment.start_logging()"
      ],
      "outputs": [],
      "execution_count": 5,
      "metadata": {
        "gather": {
          "logged": 1617446252533
        },
        "jupyter": {
          "outputs_hidden": false,
          "source_hidden": false
        },
        "nteract": {
          "transient": {
            "deleting": false
          }
        }
      }
    },
    {
      "cell_type": "code",
      "source": [
        "# Choose a name for your CPU cluster\n",
        "amlcompute_cluster_name = \"Compute-Cluster\"\n",
        "\n",
        "# Verify that cluster does not exist already\n",
        "try:\n",
        "    compute_target = ComputeTarget(workspace=ws, name=amlcompute_cluster_name)\n",
        "    print('Found existing cluster, use it.')\n",
        "except ComputeTargetException:\n",
        "    compute_config = AmlCompute.provisioning_configuration(vm_size='STANDARD_D2_V2', max_nodes=4)\n",
        "    compute_target = ComputeTarget.create(ws, amlcompute_cluster_name, compute_config)\n",
        "\n",
        "compute_target.wait_for_completion(show_output=True, min_node_count = 1, timeout_in_minutes = 10)"
      ],
      "outputs": [
        {
          "output_type": "stream",
          "name": "stdout",
          "text": [
            "Creating....\n",
            "SucceededProvisioning operation finished, operation \"Succeeded\"\n",
            "Succeeded.....................................................................................................................\n",
            "AmlCompute wait for completion finished\n",
            "\n",
            "Wait timeout has been reached\n",
            "Current provisioning state of AmlCompute is \"Succeeded\" and current node count is \"0\"\n"
          ]
        }
      ],
      "execution_count": 6,
      "metadata": {
        "gather": {
          "logged": 1617446879835
        }
      }
    },
    {
      "cell_type": "code",
      "source": [
        "# Try to load the dataset from the Workspace. Otherwise, create it from the file\n",
        "found = False\n",
        "key = \"Framingham\"\n",
        "description_text = \"Frahmingham Heart Disease Dataset\"\n",
        "\n",
        "if key in ws.datasets.keys(): \n",
        "        found = True\n",
        "        dataset = ws.datasets[key] \n",
        "\n",
        "if not found:\n",
        "        # Create AML Dataset and register it into Workspace\n",
        "        example_data = 'https://raw.githubusercontent.com/Haris-09/Coronary-Heart-Disease-Prediction-Capstone-Project/master/starter_file/framingham.csv'\n",
        "        dataset = Dataset.Tabular.from_delimited_files(example_data)        \n",
        "        #Register Dataset in Workspace\n",
        "        dataset = dataset.register(workspace=ws,\n",
        "                                   name=key,\n",
        "                                   description=description_text)"
      ],
      "outputs": [],
      "execution_count": 7,
      "metadata": {
        "gather": {
          "logged": 1617447295970
        }
      }
    },
    {
      "cell_type": "code",
      "source": [
        "df = dataset.to_pandas_dataframe()\n",
        "df.describe()"
      ],
      "outputs": [
        {
          "output_type": "execute_result",
          "execution_count": 8,
          "data": {
            "text/plain": "              male          age  currentSmoker  prevalentStroke  prevalentHyp  \\\ncount  4240.000000  4240.000000    4240.000000      4240.000000   4240.000000   \nmean      0.429245    49.580189       0.494104         0.005896      0.310613   \nstd       0.495027     8.572942       0.500024         0.076569      0.462799   \nmin       0.000000    32.000000       0.000000         0.000000      0.000000   \n25%       0.000000    42.000000       0.000000         0.000000      0.000000   \n50%       0.000000    49.000000       0.000000         0.000000      0.000000   \n75%       1.000000    56.000000       1.000000         0.000000      1.000000   \nmax       1.000000    70.000000       1.000000         1.000000      1.000000   \n\n          diabetes        sysBP        diaBP    heartRate   TenYearCHD  \ncount  4240.000000  4240.000000  4240.000000  4239.000000  4240.000000  \nmean      0.025708   132.354599    82.897759    75.878981     0.151887  \nstd       0.158280    22.033300    11.910394    12.025348     0.358953  \nmin       0.000000    83.500000    48.000000    44.000000     0.000000  \n25%       0.000000   117.000000    75.000000    68.000000     0.000000  \n50%       0.000000   128.000000    82.000000    75.000000     0.000000  \n75%       0.000000   144.000000    90.000000    83.000000     0.000000  \nmax       1.000000   295.000000   142.500000   143.000000     1.000000  ",
            "text/html": "<div>\n<style scoped>\n    .dataframe tbody tr th:only-of-type {\n        vertical-align: middle;\n    }\n\n    .dataframe tbody tr th {\n        vertical-align: top;\n    }\n\n    .dataframe thead th {\n        text-align: right;\n    }\n</style>\n<table border=\"1\" class=\"dataframe\">\n  <thead>\n    <tr style=\"text-align: right;\">\n      <th></th>\n      <th>male</th>\n      <th>age</th>\n      <th>currentSmoker</th>\n      <th>prevalentStroke</th>\n      <th>prevalentHyp</th>\n      <th>diabetes</th>\n      <th>sysBP</th>\n      <th>diaBP</th>\n      <th>heartRate</th>\n      <th>TenYearCHD</th>\n    </tr>\n  </thead>\n  <tbody>\n    <tr>\n      <th>count</th>\n      <td>4240.000000</td>\n      <td>4240.000000</td>\n      <td>4240.000000</td>\n      <td>4240.000000</td>\n      <td>4240.000000</td>\n      <td>4240.000000</td>\n      <td>4240.000000</td>\n      <td>4240.000000</td>\n      <td>4239.000000</td>\n      <td>4240.000000</td>\n    </tr>\n    <tr>\n      <th>mean</th>\n      <td>0.429245</td>\n      <td>49.580189</td>\n      <td>0.494104</td>\n      <td>0.005896</td>\n      <td>0.310613</td>\n      <td>0.025708</td>\n      <td>132.354599</td>\n      <td>82.897759</td>\n      <td>75.878981</td>\n      <td>0.151887</td>\n    </tr>\n    <tr>\n      <th>std</th>\n      <td>0.495027</td>\n      <td>8.572942</td>\n      <td>0.500024</td>\n      <td>0.076569</td>\n      <td>0.462799</td>\n      <td>0.158280</td>\n      <td>22.033300</td>\n      <td>11.910394</td>\n      <td>12.025348</td>\n      <td>0.358953</td>\n    </tr>\n    <tr>\n      <th>min</th>\n      <td>0.000000</td>\n      <td>32.000000</td>\n      <td>0.000000</td>\n      <td>0.000000</td>\n      <td>0.000000</td>\n      <td>0.000000</td>\n      <td>83.500000</td>\n      <td>48.000000</td>\n      <td>44.000000</td>\n      <td>0.000000</td>\n    </tr>\n    <tr>\n      <th>25%</th>\n      <td>0.000000</td>\n      <td>42.000000</td>\n      <td>0.000000</td>\n      <td>0.000000</td>\n      <td>0.000000</td>\n      <td>0.000000</td>\n      <td>117.000000</td>\n      <td>75.000000</td>\n      <td>68.000000</td>\n      <td>0.000000</td>\n    </tr>\n    <tr>\n      <th>50%</th>\n      <td>0.000000</td>\n      <td>49.000000</td>\n      <td>0.000000</td>\n      <td>0.000000</td>\n      <td>0.000000</td>\n      <td>0.000000</td>\n      <td>128.000000</td>\n      <td>82.000000</td>\n      <td>75.000000</td>\n      <td>0.000000</td>\n    </tr>\n    <tr>\n      <th>75%</th>\n      <td>1.000000</td>\n      <td>56.000000</td>\n      <td>1.000000</td>\n      <td>0.000000</td>\n      <td>1.000000</td>\n      <td>0.000000</td>\n      <td>144.000000</td>\n      <td>90.000000</td>\n      <td>83.000000</td>\n      <td>0.000000</td>\n    </tr>\n    <tr>\n      <th>max</th>\n      <td>1.000000</td>\n      <td>70.000000</td>\n      <td>1.000000</td>\n      <td>1.000000</td>\n      <td>1.000000</td>\n      <td>1.000000</td>\n      <td>295.000000</td>\n      <td>142.500000</td>\n      <td>143.000000</td>\n      <td>1.000000</td>\n    </tr>\n  </tbody>\n</table>\n</div>"
          },
          "metadata": {}
        }
      ],
      "execution_count": 8,
      "metadata": {
        "gather": {
          "logged": 1617447688276
        }
      }
    },
    {
      "cell_type": "markdown",
      "source": [
        "## AutoML Configuration\n",
        "\n",
        "TODO: Explain why you chose the automl settings and cofiguration you used below."
      ],
      "metadata": {}
    },
    {
      "cell_type": "code",
      "source": [
        "# TODO: Put your automl settings here\n",
        "automl_settings = {\"experiment_timeout_minutes\": 30,\n",
        "                   \"max_concurrent_iterations\": 4,\n",
        "                   \"primary_metric\" : 'accuracy',\n",
        "                   \"verbosity\": logging.INFO}\n",
        "\n",
        "# TODO: Put your automl config here\n",
        "automl_config = AutoMLConfig(compute_target=compute_target,\n",
        "                             task = \"classification\",\n",
        "                             training_data=dataset,\n",
        "                             label_column_name=\"TenYearCHD\",   \n",
        "                             path = './',\n",
        "                             enable_early_stopping= True,\n",
        "                             featurization= 'auto',\n",
        "                             debug_log = \"automl_errors.log\",\n",
        "                             **automl_settings)"
      ],
      "outputs": [],
      "execution_count": 9,
      "metadata": {
        "gather": {
          "logged": 1617447688502
        },
        "jupyter": {
          "outputs_hidden": false,
          "source_hidden": false
        },
        "nteract": {
          "transient": {
            "deleting": false
          }
        }
      }
    },
    {
      "cell_type": "code",
      "source": [
        "# TODO: Submit your experiment\n",
        "remote_run = experiment.submit(automl_config, show_output=True)"
      ],
      "outputs": [
        {
          "output_type": "stream",
          "name": "stdout",
          "text": [
            "Running on remote.\n",
            "No run_configuration provided, running on Compute-Cluster with default configuration\n",
            "Running on remote compute: Compute-Cluster\n",
            "Parent Run ID: AutoML_8006dbaa-28c8-4fdd-99a5-e4e0ab4fd2c7\n",
            "\n",
            "Current status: FeaturesGeneration. Generating features for the dataset.\n",
            "Current status: DatasetFeaturization. Beginning to fit featurizers and featurize the dataset.\n",
            "Current status: DatasetCrossValidationSplit. Generating individually featurized CV splits.\n",
            "Current status: ModelSelection. Beginning model selection.\n",
            "\n",
            "****************************************************************************************************\n",
            "DATA GUARDRAILS: \n",
            "\n",
            "TYPE:         Cross validation\n",
            "STATUS:       DONE\n",
            "DESCRIPTION:  Each iteration of the trained model was validated through cross-validation.\n",
            "              \n",
            "DETAILS:      \n",
            "+---------------------------------+\n",
            "|Number of folds                  |\n",
            "+=================================+\n",
            "|3                                |\n",
            "+---------------------------------+\n",
            "\n",
            "****************************************************************************************************\n",
            "\n",
            "TYPE:         Class balancing detection\n",
            "STATUS:       ALERTED\n",
            "DESCRIPTION:  To decrease model bias, please cancel the current run and fix balancing problem.\n",
            "              Learn more about imbalanced data: https://aka.ms/AutomatedMLImbalancedData\n",
            "DETAILS:      Imbalanced data can lead to a falsely perceived positive effect of a model's accuracy because the input data has bias towards one class.\n",
            "+---------------------------------+---------------------------------+--------------------------------------+\n",
            "|Size of the smallest class       |Name/Label of the smallest class |Number of samples in the training data|\n",
            "+=================================+=================================+======================================+\n",
            "|644                              |1                                |4240                                  |\n",
            "+---------------------------------+---------------------------------+--------------------------------------+\n",
            "\n",
            "****************************************************************************************************\n",
            "\n",
            "TYPE:         Missing feature values imputation\n",
            "STATUS:       DONE\n",
            "DESCRIPTION:  If the missing values are expected, let the run complete. Otherwise cancel the current run and use a script to customize the handling of missing feature values that may be more appropriate based on the data type and business requirement.\n",
            "              Learn more about missing value imputation: https://aka.ms/AutomatedMLFeaturization\n",
            "DETAILS:      \n",
            "+---------------------------------+---------------------------------+---------------------------------+\n",
            "|Column name                      |Missing value count              |Imputation type                  |\n",
            "+=================================+=================================+=================================+\n",
            "|heartRate                        |1                                |mean                             |\n",
            "+---------------------------------+---------------------------------+---------------------------------+\n",
            "\n",
            "****************************************************************************************************\n",
            "\n",
            "TYPE:         High cardinality feature detection\n",
            "STATUS:       DONE\n",
            "DESCRIPTION:  High cardinality features were detected in your inputs and handled.\n",
            "              Learn more about high cardinality feature handling: https://aka.ms/AutomatedMLFeaturization\n",
            "DETAILS:      High cardinality features refer to columns that contain a large percentage of unique values.\n",
            "+---------------------------------+---------------------------------+\n",
            "|Column name                      |Column Content Type              |\n",
            "+=================================+=================================+\n",
            "|totChol                          |categorical_hash                 |\n",
            "|BMI                              |categorical_hash                 |\n",
            "+---------------------------------+---------------------------------+\n",
            "\n",
            "****************************************************************************************************\n",
            "\n",
            "****************************************************************************************************\n",
            "ITERATION: The iteration being evaluated.\n",
            "PIPELINE: A summary description of the pipeline being evaluated.\n",
            "DURATION: Time taken for the current iteration.\n",
            "METRIC: The result of computing score on the fitted pipeline.\n",
            "BEST: The best observed score thus far.\n",
            "****************************************************************************************************\n",
            "\n",
            " ITERATION   PIPELINE                                       DURATION      METRIC      BEST\n",
            "         2   MaxAbsScaler RandomForest                      0:00:40       0.8481    0.8481\n",
            "         1   MaxAbsScaler XGBoostClassifier                 0:00:46       0.8472    0.8481\n",
            "         4   MaxAbsScaler RandomForest                      0:00:45       0.6691    0.8481\n",
            "         5   MaxAbsScaler RandomForest                      0:00:45       0.6686    0.8481\n",
            "         6   SparseNormalizer XGBoostClassifier             0:00:44       0.8406    0.8481\n",
            "         7   SparseNormalizer XGBoostClassifier             0:00:43       0.8392    0.8481\n",
            "         0   MaxAbsScaler LightGBM                          0:03:06       0.8321    0.8481\n",
            "         3   MaxAbsScaler RandomForest                      0:03:12       0.8481    0.8481\n",
            "         8   MaxAbsScaler LightGBM                          0:00:42       0.8481    0.8481\n",
            "         9   MaxAbsScaler RandomForest                      0:00:40       0.8481    0.8481\n",
            "        10   StandardScalerWrapper RandomForest             0:00:42       0.8481    0.8481\n",
            "        11   MaxAbsScaler RandomForest                      0:00:46       0.8481    0.8481\n",
            "        12   MaxAbsScaler LogisticRegression                0:00:40       0.8226    0.8481\n",
            "        13   MaxAbsScaler LightGBM                          0:00:44       0.8469    0.8481\n",
            "        14   MaxAbsScaler ExtremeRandomTrees                0:00:57       0.8481    0.8481\n",
            "        15   StandardScalerWrapper RandomForest             0:00:50       0.8481    0.8481\n",
            "        16   SparseNormalizer XGBoostClassifier             0:00:43       0.8432    0.8481\n",
            "        17   StandardScalerWrapper LightGBM                 0:00:36       0.8481    0.8481\n",
            "        18   MaxAbsScaler LightGBM                          0:00:41       0.8474    0.8481\n",
            "        19   SparseNormalizer XGBoostClassifier             0:00:43       0.8432    0.8481\n",
            "        20   StandardScalerWrapper LightGBM                 0:00:42       0.8465    0.8481\n",
            "        21   SparseNormalizer LightGBM                      0:00:41       0.8481    0.8481\n",
            "        22   SparseNormalizer LightGBM                      0:00:48       0.8450    0.8481\n",
            "        23   MaxAbsScaler LightGBM                          0:00:43       0.8481    0.8481\n",
            "        24   SparseNormalizer XGBoostClassifier             0:00:44       0.8458    0.8481\n",
            "        25   StandardScalerWrapper RandomForest             0:00:43       0.8481    0.8481\n",
            "        26   MaxAbsScaler LightGBM                          0:00:43       0.8429    0.8481\n",
            "        27   StandardScalerWrapper LightGBM                 0:00:43       0.8455    0.8481\n",
            "        28   SparseNormalizer LightGBM                      0:00:49       0.8481    0.8481\n",
            "        29   MaxAbsScaler ExtremeRandomTrees                0:00:53       0.8481    0.8481\n",
            "        30   MaxAbsScaler RandomForest                      0:00:48       0.8481    0.8481\n",
            "        31   MaxAbsScaler LightGBM                          0:00:41       0.8455    0.8481\n",
            "        32   StandardScalerWrapper RandomForest             0:00:46       0.8481    0.8481\n",
            "        33                                                  0:00:17          nan    0.8481\n",
            "        34                                                  0:00:08          nan    0.8481\n",
            "        35                                                  0:00:08          nan    0.8481\n",
            "        36    VotingEnsemble                                0:01:10       0.8481    0.8481\n",
            "        37    StackEnsemble                                 0:01:14       0.8347    0.8481\n"
          ]
        }
      ],
      "execution_count": 10,
      "metadata": {
        "gather": {
          "logged": 1617449213379
        },
        "jupyter": {
          "outputs_hidden": false,
          "source_hidden": false
        },
        "nteract": {
          "transient": {
            "deleting": false
          }
        }
      }
    },
    {
      "cell_type": "markdown",
      "source": [
        "## Run Details\n",
        "\n",
        "OPTIONAL: Write about the different models trained and their performance. Why do you think some models did better than others?\n",
        "\n",
        "TODO: In the cell below, use the `RunDetails` widget to show the different experiments."
      ],
      "metadata": {}
    },
    {
      "cell_type": "code",
      "source": [
        "RunDetails(remote_run).show()"
      ],
      "outputs": [
        {
          "output_type": "display_data",
          "data": {
            "text/plain": "_AutoMLWidget(widget_settings={'childWidgetDisplay': 'popup', 'send_telemetry': False, 'log_level': 'INFO', 's…",
            "application/vnd.jupyter.widget-view+json": {
              "version_major": 2,
              "version_minor": 0,
              "model_id": "8b3d440b9c4f4006ad4a51dad468e641"
            }
          },
          "metadata": {}
        },
        {
          "output_type": "display_data",
          "data": {
            "application/aml.mini.widget.v1": "{\"status\": \"Completed\", \"workbench_run_details_uri\": \"https://ml.azure.com/experiments/Framingham-Experiment/runs/AutoML_8006dbaa-28c8-4fdd-99a5-e4e0ab4fd2c7?wsid=/subscriptions/610d6e37-4747-4a20-80eb-3aad70a55f43/resourcegroups/aml-quickstarts-141869/workspaces/quick-starts-ws-141869\", \"run_id\": \"AutoML_8006dbaa-28c8-4fdd-99a5-e4e0ab4fd2c7\", \"run_properties\": {\"run_id\": \"AutoML_8006dbaa-28c8-4fdd-99a5-e4e0ab4fd2c7\", \"created_utc\": \"2021-04-03T11:01:25.541354Z\", \"properties\": {\"num_iterations\": \"1000\", \"training_type\": \"TrainFull\", \"acquisition_function\": \"EI\", \"primary_metric\": \"accuracy\", \"train_split\": \"0\", \"acquisition_parameter\": \"0\", \"num_cross_validation\": null, \"target\": \"Compute-Cluster\", \"AMLSettingsJsonString\": \"{\\\"path\\\":null,\\\"name\\\":\\\"Framingham-Experiment\\\",\\\"subscription_id\\\":\\\"610d6e37-4747-4a20-80eb-3aad70a55f43\\\",\\\"resource_group\\\":\\\"aml-quickstarts-141869\\\",\\\"workspace_name\\\":\\\"quick-starts-ws-141869\\\",\\\"region\\\":\\\"southcentralus\\\",\\\"compute_target\\\":\\\"Compute-Cluster\\\",\\\"spark_service\\\":null,\\\"azure_service\\\":\\\"remote\\\",\\\"many_models\\\":false,\\\"pipeline_fetch_max_batch_size\\\":1,\\\"enable_batch_run\\\":false,\\\"iterations\\\":1000,\\\"primary_metric\\\":\\\"accuracy\\\",\\\"task_type\\\":\\\"classification\\\",\\\"data_script\\\":null,\\\"validation_size\\\":0.0,\\\"n_cross_validations\\\":null,\\\"y_min\\\":null,\\\"y_max\\\":null,\\\"num_classes\\\":null,\\\"featurization\\\":\\\"auto\\\",\\\"_ignore_package_version_incompatibilities\\\":false,\\\"is_timeseries\\\":false,\\\"max_cores_per_iteration\\\":1,\\\"max_concurrent_iterations\\\":4,\\\"iteration_timeout_minutes\\\":null,\\\"mem_in_mb\\\":null,\\\"enforce_time_on_windows\\\":false,\\\"experiment_timeout_minutes\\\":30,\\\"experiment_exit_score\\\":null,\\\"whitelist_models\\\":null,\\\"blacklist_algos\\\":[\\\"TensorFlowLinearClassifier\\\",\\\"TensorFlowDNN\\\"],\\\"supported_models\\\":[\\\"TensorFlowDNN\\\",\\\"LinearSVM\\\",\\\"TensorFlowLinearClassifier\\\",\\\"AveragedPerceptronClassifier\\\",\\\"RandomForest\\\",\\\"DecisionTree\\\",\\\"GradientBoosting\\\",\\\"ExtremeRandomTrees\\\",\\\"BernoulliNaiveBayes\\\",\\\"SVM\\\",\\\"MultinomialNaiveBayes\\\",\\\"XGBoostClassifier\\\",\\\"KNN\\\",\\\"LogisticRegression\\\",\\\"LightGBM\\\",\\\"SGD\\\"],\\\"private_models\\\":[],\\\"auto_blacklist\\\":true,\\\"blacklist_samples_reached\\\":false,\\\"exclude_nan_labels\\\":true,\\\"verbosity\\\":20,\\\"_debug_log\\\":\\\"azureml_automl.log\\\",\\\"show_warnings\\\":false,\\\"model_explainability\\\":true,\\\"service_url\\\":null,\\\"sdk_url\\\":null,\\\"sdk_packages\\\":null,\\\"enable_onnx_compatible_models\\\":false,\\\"enable_split_onnx_featurizer_estimator_models\\\":false,\\\"vm_type\\\":\\\"STANDARD_D2_V2\\\",\\\"telemetry_verbosity\\\":20,\\\"send_telemetry\\\":true,\\\"enable_dnn\\\":false,\\\"scenario\\\":\\\"SDK-1.13.0\\\",\\\"environment_label\\\":null,\\\"save_mlflow\\\":false,\\\"force_text_dnn\\\":false,\\\"enable_feature_sweeping\\\":true,\\\"enable_early_stopping\\\":true,\\\"early_stopping_n_iters\\\":10,\\\"metrics\\\":null,\\\"enable_metric_confidence\\\":false,\\\"enable_ensembling\\\":true,\\\"enable_stack_ensembling\\\":true,\\\"ensemble_iterations\\\":15,\\\"enable_tf\\\":false,\\\"enable_subsampling\\\":null,\\\"subsample_seed\\\":null,\\\"enable_nimbusml\\\":false,\\\"enable_streaming\\\":false,\\\"force_streaming\\\":false,\\\"track_child_runs\\\":true,\\\"allowed_private_models\\\":[],\\\"label_column_name\\\":\\\"TenYearCHD\\\",\\\"weight_column_name\\\":null,\\\"cv_split_column_names\\\":null,\\\"enable_local_managed\\\":false,\\\"_local_managed_run_id\\\":null,\\\"cost_mode\\\":1,\\\"lag_length\\\":0,\\\"metric_operation\\\":\\\"maximize\\\",\\\"preprocess\\\":true}\", \"DataPrepJsonString\": \"{\\\\\\\"training_data\\\\\\\": \\\\\\\"{\\\\\\\\\\\\\\\"blocks\\\\\\\\\\\\\\\": [{\\\\\\\\\\\\\\\"id\\\\\\\\\\\\\\\": \\\\\\\\\\\\\\\"24905f1d-6ae8-4311-945e-631b70e8d803\\\\\\\\\\\\\\\", \\\\\\\\\\\\\\\"type\\\\\\\\\\\\\\\": \\\\\\\\\\\\\\\"Microsoft.DPrep.GetFilesBlock\\\\\\\\\\\\\\\", \\\\\\\\\\\\\\\"arguments\\\\\\\\\\\\\\\": {\\\\\\\\\\\\\\\"isArchive\\\\\\\\\\\\\\\": false, \\\\\\\\\\\\\\\"path\\\\\\\\\\\\\\\": {\\\\\\\\\\\\\\\"target\\\\\\\\\\\\\\\": 4, \\\\\\\\\\\\\\\"resourceDetails\\\\\\\\\\\\\\\": [{\\\\\\\\\\\\\\\"path\\\\\\\\\\\\\\\": \\\\\\\\\\\\\\\"https://raw.githubusercontent.com/Haris-09/Coronary-Heart-Disease-Prediction-Capstone-Project/master/starter_file/framingham.csv\\\\\\\\\\\\\\\"}]}}, \\\\\\\\\\\\\\\"localData\\\\\\\\\\\\\\\": {}, \\\\\\\\\\\\\\\"isEnabled\\\\\\\\\\\\\\\": true, \\\\\\\\\\\\\\\"name\\\\\\\\\\\\\\\": null, \\\\\\\\\\\\\\\"annotation\\\\\\\\\\\\\\\": null}, {\\\\\\\\\\\\\\\"id\\\\\\\\\\\\\\\": \\\\\\\\\\\\\\\"81e7e3aa-db41-45b2-944e-e51aa6be5189\\\\\\\\\\\\\\\", \\\\\\\\\\\\\\\"type\\\\\\\\\\\\\\\": \\\\\\\\\\\\\\\"Microsoft.DPrep.ParseDelimitedBlock\\\\\\\\\\\\\\\", \\\\\\\\\\\\\\\"arguments\\\\\\\\\\\\\\\": {\\\\\\\\\\\\\\\"columnHeadersMode\\\\\\\\\\\\\\\": 3, \\\\\\\\\\\\\\\"fileEncoding\\\\\\\\\\\\\\\": 0, \\\\\\\\\\\\\\\"handleQuotedLineBreaks\\\\\\\\\\\\\\\": false, \\\\\\\\\\\\\\\"preview\\\\\\\\\\\\\\\": false, \\\\\\\\\\\\\\\"separator\\\\\\\\\\\\\\\": \\\\\\\\\\\\\\\",\\\\\\\\\\\\\\\", \\\\\\\\\\\\\\\"skipRows\\\\\\\\\\\\\\\": 0, \\\\\\\\\\\\\\\"skipRowsMode\\\\\\\\\\\\\\\": 0}, \\\\\\\\\\\\\\\"localData\\\\\\\\\\\\\\\": {}, \\\\\\\\\\\\\\\"isEnabled\\\\\\\\\\\\\\\": true, \\\\\\\\\\\\\\\"name\\\\\\\\\\\\\\\": null, \\\\\\\\\\\\\\\"annotation\\\\\\\\\\\\\\\": null}, {\\\\\\\\\\\\\\\"id\\\\\\\\\\\\\\\": \\\\\\\\\\\\\\\"fc89b376-a3fd-4b97-934c-1ef4606100c7\\\\\\\\\\\\\\\", \\\\\\\\\\\\\\\"type\\\\\\\\\\\\\\\": \\\\\\\\\\\\\\\"Microsoft.DPrep.DropColumnsBlock\\\\\\\\\\\\\\\", \\\\\\\\\\\\\\\"arguments\\\\\\\\\\\\\\\": {\\\\\\\\\\\\\\\"columns\\\\\\\\\\\\\\\": {\\\\\\\\\\\\\\\"type\\\\\\\\\\\\\\\": 0, \\\\\\\\\\\\\\\"details\\\\\\\\\\\\\\\": {\\\\\\\\\\\\\\\"selectedColumns\\\\\\\\\\\\\\\": [\\\\\\\\\\\\\\\"Path\\\\\\\\\\\\\\\"]}}}, \\\\\\\\\\\\\\\"localData\\\\\\\\\\\\\\\": {}, \\\\\\\\\\\\\\\"isEnabled\\\\\\\\\\\\\\\": true, \\\\\\\\\\\\\\\"name\\\\\\\\\\\\\\\": null, \\\\\\\\\\\\\\\"annotation\\\\\\\\\\\\\\\": null}, {\\\\\\\\\\\\\\\"id\\\\\\\\\\\\\\\": \\\\\\\\\\\\\\\"cf97e1e4-8fcb-4f9d-8650-59e17838195a\\\\\\\\\\\\\\\", \\\\\\\\\\\\\\\"type\\\\\\\\\\\\\\\": \\\\\\\\\\\\\\\"Microsoft.DPrep.SetColumnTypesBlock\\\\\\\\\\\\\\\", \\\\\\\\\\\\\\\"arguments\\\\\\\\\\\\\\\": {\\\\\\\\\\\\\\\"columnConversion\\\\\\\\\\\\\\\": [{\\\\\\\\\\\\\\\"column\\\\\\\\\\\\\\\": {\\\\\\\\\\\\\\\"type\\\\\\\\\\\\\\\": 2, \\\\\\\\\\\\\\\"details\\\\\\\\\\\\\\\": {\\\\\\\\\\\\\\\"selectedColumn\\\\\\\\\\\\\\\": \\\\\\\\\\\\\\\"male\\\\\\\\\\\\\\\"}}, \\\\\\\\\\\\\\\"typeProperty\\\\\\\\\\\\\\\": 2}, {\\\\\\\\\\\\\\\"column\\\\\\\\\\\\\\\": {\\\\\\\\\\\\\\\"type\\\\\\\\\\\\\\\": 2, \\\\\\\\\\\\\\\"details\\\\\\\\\\\\\\\": {\\\\\\\\\\\\\\\"selectedColumn\\\\\\\\\\\\\\\": \\\\\\\\\\\\\\\"age\\\\\\\\\\\\\\\"}}, \\\\\\\\\\\\\\\"typeProperty\\\\\\\\\\\\\\\": 2}, {\\\\\\\\\\\\\\\"column\\\\\\\\\\\\\\\": {\\\\\\\\\\\\\\\"type\\\\\\\\\\\\\\\": 2, \\\\\\\\\\\\\\\"details\\\\\\\\\\\\\\\": {\\\\\\\\\\\\\\\"selectedColumn\\\\\\\\\\\\\\\": \\\\\\\\\\\\\\\"education\\\\\\\\\\\\\\\"}}, \\\\\\\\\\\\\\\"typeProperty\\\\\\\\\\\\\\\": 0}, {\\\\\\\\\\\\\\\"column\\\\\\\\\\\\\\\": {\\\\\\\\\\\\\\\"type\\\\\\\\\\\\\\\": 2, \\\\\\\\\\\\\\\"details\\\\\\\\\\\\\\\": {\\\\\\\\\\\\\\\"selectedColumn\\\\\\\\\\\\\\\": \\\\\\\\\\\\\\\"currentSmoker\\\\\\\\\\\\\\\"}}, \\\\\\\\\\\\\\\"typeProperty\\\\\\\\\\\\\\\": 2}, {\\\\\\\\\\\\\\\"column\\\\\\\\\\\\\\\": {\\\\\\\\\\\\\\\"type\\\\\\\\\\\\\\\": 2, \\\\\\\\\\\\\\\"details\\\\\\\\\\\\\\\": {\\\\\\\\\\\\\\\"selectedColumn\\\\\\\\\\\\\\\": \\\\\\\\\\\\\\\"cigsPerDay\\\\\\\\\\\\\\\"}}, \\\\\\\\\\\\\\\"typeProperty\\\\\\\\\\\\\\\": 0}, {\\\\\\\\\\\\\\\"column\\\\\\\\\\\\\\\": {\\\\\\\\\\\\\\\"type\\\\\\\\\\\\\\\": 2, \\\\\\\\\\\\\\\"details\\\\\\\\\\\\\\\": {\\\\\\\\\\\\\\\"selectedColumn\\\\\\\\\\\\\\\": \\\\\\\\\\\\\\\"BPMeds\\\\\\\\\\\\\\\"}}, \\\\\\\\\\\\\\\"typeProperty\\\\\\\\\\\\\\\": 0}, {\\\\\\\\\\\\\\\"column\\\\\\\\\\\\\\\": {\\\\\\\\\\\\\\\"type\\\\\\\\\\\\\\\": 2, \\\\\\\\\\\\\\\"details\\\\\\\\\\\\\\\": {\\\\\\\\\\\\\\\"selectedColumn\\\\\\\\\\\\\\\": \\\\\\\\\\\\\\\"prevalentStroke\\\\\\\\\\\\\\\"}}, \\\\\\\\\\\\\\\"typeProperty\\\\\\\\\\\\\\\": 2}, {\\\\\\\\\\\\\\\"column\\\\\\\\\\\\\\\": {\\\\\\\\\\\\\\\"type\\\\\\\\\\\\\\\": 2, \\\\\\\\\\\\\\\"details\\\\\\\\\\\\\\\": {\\\\\\\\\\\\\\\"selectedColumn\\\\\\\\\\\\\\\": \\\\\\\\\\\\\\\"prevalentHyp\\\\\\\\\\\\\\\"}}, \\\\\\\\\\\\\\\"typeProperty\\\\\\\\\\\\\\\": 2}, {\\\\\\\\\\\\\\\"column\\\\\\\\\\\\\\\": {\\\\\\\\\\\\\\\"type\\\\\\\\\\\\\\\": 2, \\\\\\\\\\\\\\\"details\\\\\\\\\\\\\\\": {\\\\\\\\\\\\\\\"selectedColumn\\\\\\\\\\\\\\\": \\\\\\\\\\\\\\\"diabetes\\\\\\\\\\\\\\\"}}, \\\\\\\\\\\\\\\"typeProperty\\\\\\\\\\\\\\\": 2}, {\\\\\\\\\\\\\\\"column\\\\\\\\\\\\\\\": {\\\\\\\\\\\\\\\"type\\\\\\\\\\\\\\\": 2, \\\\\\\\\\\\\\\"details\\\\\\\\\\\\\\\": {\\\\\\\\\\\\\\\"selectedColumn\\\\\\\\\\\\\\\": \\\\\\\\\\\\\\\"totChol\\\\\\\\\\\\\\\"}}, \\\\\\\\\\\\\\\"typeProperty\\\\\\\\\\\\\\\": 0}, {\\\\\\\\\\\\\\\"column\\\\\\\\\\\\\\\": {\\\\\\\\\\\\\\\"type\\\\\\\\\\\\\\\": 2, \\\\\\\\\\\\\\\"details\\\\\\\\\\\\\\\": {\\\\\\\\\\\\\\\"selectedColumn\\\\\\\\\\\\\\\": \\\\\\\\\\\\\\\"sysBP\\\\\\\\\\\\\\\"}}, \\\\\\\\\\\\\\\"typeProperty\\\\\\\\\\\\\\\": 3}, {\\\\\\\\\\\\\\\"column\\\\\\\\\\\\\\\": {\\\\\\\\\\\\\\\"type\\\\\\\\\\\\\\\": 2, \\\\\\\\\\\\\\\"details\\\\\\\\\\\\\\\": {\\\\\\\\\\\\\\\"selectedColumn\\\\\\\\\\\\\\\": \\\\\\\\\\\\\\\"diaBP\\\\\\\\\\\\\\\"}}, \\\\\\\\\\\\\\\"typeProperty\\\\\\\\\\\\\\\": 3}, {\\\\\\\\\\\\\\\"column\\\\\\\\\\\\\\\": {\\\\\\\\\\\\\\\"type\\\\\\\\\\\\\\\": 2, \\\\\\\\\\\\\\\"details\\\\\\\\\\\\\\\": {\\\\\\\\\\\\\\\"selectedColumn\\\\\\\\\\\\\\\": \\\\\\\\\\\\\\\"BMI\\\\\\\\\\\\\\\"}}, \\\\\\\\\\\\\\\"typeProperty\\\\\\\\\\\\\\\": 0}, {\\\\\\\\\\\\\\\"column\\\\\\\\\\\\\\\": {\\\\\\\\\\\\\\\"type\\\\\\\\\\\\\\\": 2, \\\\\\\\\\\\\\\"details\\\\\\\\\\\\\\\": {\\\\\\\\\\\\\\\"selectedColumn\\\\\\\\\\\\\\\": \\\\\\\\\\\\\\\"heartRate\\\\\\\\\\\\\\\"}}, \\\\\\\\\\\\\\\"typeProperty\\\\\\\\\\\\\\\": 2}, {\\\\\\\\\\\\\\\"column\\\\\\\\\\\\\\\": {\\\\\\\\\\\\\\\"type\\\\\\\\\\\\\\\": 2, \\\\\\\\\\\\\\\"details\\\\\\\\\\\\\\\": {\\\\\\\\\\\\\\\"selectedColumn\\\\\\\\\\\\\\\": \\\\\\\\\\\\\\\"glucose\\\\\\\\\\\\\\\"}}, \\\\\\\\\\\\\\\"typeProperty\\\\\\\\\\\\\\\": 0}, {\\\\\\\\\\\\\\\"column\\\\\\\\\\\\\\\": {\\\\\\\\\\\\\\\"type\\\\\\\\\\\\\\\": 2, \\\\\\\\\\\\\\\"details\\\\\\\\\\\\\\\": {\\\\\\\\\\\\\\\"selectedColumn\\\\\\\\\\\\\\\": \\\\\\\\\\\\\\\"TenYearCHD\\\\\\\\\\\\\\\"}}, \\\\\\\\\\\\\\\"typeProperty\\\\\\\\\\\\\\\": 2}]}, \\\\\\\\\\\\\\\"localData\\\\\\\\\\\\\\\": {}, \\\\\\\\\\\\\\\"isEnabled\\\\\\\\\\\\\\\": true, \\\\\\\\\\\\\\\"name\\\\\\\\\\\\\\\": null, \\\\\\\\\\\\\\\"annotation\\\\\\\\\\\\\\\": null}], \\\\\\\\\\\\\\\"inspectors\\\\\\\\\\\\\\\": [], \\\\\\\\\\\\\\\"meta\\\\\\\\\\\\\\\": {\\\\\\\\\\\\\\\"savedDatasetId\\\\\\\\\\\\\\\": \\\\\\\\\\\\\\\"1b1d6255-357b-45f6-b792-1fb4182deadc\\\\\\\\\\\\\\\", \\\\\\\\\\\\\\\"datasetType\\\\\\\\\\\\\\\": \\\\\\\\\\\\\\\"tabular\\\\\\\\\\\\\\\", \\\\\\\\\\\\\\\"subscriptionId\\\\\\\\\\\\\\\": \\\\\\\\\\\\\\\"610d6e37-4747-4a20-80eb-3aad70a55f43\\\\\\\\\\\\\\\", \\\\\\\\\\\\\\\"workspaceId\\\\\\\\\\\\\\\": \\\\\\\\\\\\\\\"948b89b3-9778-47bd-9e3c-015cf4ec709f\\\\\\\\\\\\\\\", \\\\\\\\\\\\\\\"workspaceLocation\\\\\\\\\\\\\\\": \\\\\\\\\\\\\\\"southcentralus\\\\\\\\\\\\\\\", \\\\\\\\\\\\\\\"partition_keys\\\\\\\\\\\\\\\": \\\\\\\\\\\\\\\"true\\\\\\\\\\\\\\\"}}\\\\\\\", \\\\\\\"activities\\\\\\\": 0}\", \"EnableSubsampling\": null, \"runTemplate\": \"AutoML\", \"azureml.runsource\": \"automl\", \"display_task_type\": \"classification\", \"dependencies_versions\": \"{\\\"azureml-widgets\\\": \\\"1.24.0\\\", \\\"azureml-train\\\": \\\"1.24.0\\\", \\\"azureml-train-restclients-hyperdrive\\\": \\\"1.24.0\\\", \\\"azureml-train-core\\\": \\\"1.24.0\\\", \\\"azureml-train-automl-client\\\": \\\"1.24.0\\\", \\\"azureml-tensorboard\\\": \\\"1.24.0\\\", \\\"azureml-telemetry\\\": \\\"1.24.0\\\", \\\"azureml-sdk\\\": \\\"1.24.0\\\", \\\"azureml-pipeline\\\": \\\"1.24.0\\\", \\\"azureml-pipeline-steps\\\": \\\"1.24.0\\\", \\\"azureml-pipeline-core\\\": \\\"1.24.0\\\", \\\"azureml-opendatasets\\\": \\\"1.24.0\\\", \\\"azureml-model-management-sdk\\\": \\\"1.0.1b6.post1\\\", \\\"azureml-mlflow\\\": \\\"1.24.0\\\", \\\"azureml-interpret\\\": \\\"1.24.0\\\", \\\"azureml-explain-model\\\": \\\"1.24.0\\\", \\\"azureml-defaults\\\": \\\"1.24.0\\\", \\\"azureml-dataset-runtime\\\": \\\"1.24.0\\\", \\\"azureml-dataprep\\\": \\\"2.11.1\\\", \\\"azureml-dataprep-rslex\\\": \\\"1.9.0\\\", \\\"azureml-dataprep-native\\\": \\\"30.0.0\\\", \\\"azureml-datadrift\\\": \\\"1.24.0\\\", \\\"azureml-core\\\": \\\"1.24.0\\\", \\\"azureml-contrib-services\\\": \\\"1.24.0\\\", \\\"azureml-contrib-server\\\": \\\"1.24.0\\\", \\\"azureml-contrib-reinforcementlearning\\\": \\\"1.24.0\\\", \\\"azureml-contrib-pipeline-steps\\\": \\\"1.24.0\\\", \\\"azureml-contrib-notebook\\\": \\\"1.24.0\\\", \\\"azureml-contrib-gbdt\\\": \\\"1.24.0\\\", \\\"azureml-contrib-fairness\\\": \\\"1.24.0\\\", \\\"azureml-contrib-dataset\\\": \\\"1.24.0\\\", \\\"azureml-cli-common\\\": \\\"1.24.0\\\", \\\"azureml-automl-core\\\": \\\"1.24.0\\\", \\\"azureml-accel-models\\\": \\\"1.24.0\\\"}\", \"_aml_system_scenario_identification\": \"Remote.Parent\", \"ClientType\": \"SDK\", \"environment_cpu_name\": \"AzureML-AutoML\", \"environment_cpu_label\": \"prod\", \"environment_gpu_name\": \"AzureML-AutoML-GPU\", \"environment_gpu_label\": \"prod\", \"root_attribution\": \"automl\", \"attribution\": \"AutoML\", \"Orchestrator\": \"AutoML\", \"CancelUri\": \"https://southcentralus.experiments.azureml.net/jasmine/v1.0/subscriptions/610d6e37-4747-4a20-80eb-3aad70a55f43/resourceGroups/aml-quickstarts-141869/providers/Microsoft.MachineLearningServices/workspaces/quick-starts-ws-141869/experimentids/f3526f5c-0d8f-4b6f-9cdc-34918e218e1c/cancel/AutoML_8006dbaa-28c8-4fdd-99a5-e4e0ab4fd2c7\", \"ClientSdkVersion\": \"1.24.0\", \"snapshotId\": \"00000000-0000-0000-0000-000000000000\", \"SetupRunId\": \"AutoML_8006dbaa-28c8-4fdd-99a5-e4e0ab4fd2c7_setup\", \"SetupRunContainerId\": \"dcid.AutoML_8006dbaa-28c8-4fdd-99a5-e4e0ab4fd2c7_setup\", \"FeaturizationRunJsonPath\": \"featurizer_container.json\", \"FeaturizationRunId\": \"AutoML_8006dbaa-28c8-4fdd-99a5-e4e0ab4fd2c7_featurize\", \"ProblemInfoJsonString\": \"{\\\"dataset_num_categorical\\\": 0, \\\"is_sparse\\\": true, \\\"subsampling\\\": false, \\\"dataset_classes\\\": 2, \\\"dataset_features\\\": 1385, \\\"dataset_samples\\\": 4240, \\\"single_frequency_class_detected\\\": false}\", \"ModelExplainRunId\": \"AutoML_8006dbaa-28c8-4fdd-99a5-e4e0ab4fd2c7_ModelExplain\"}, \"tags\": {\"model_explain_run\": \"best_run\", \"_aml_system_azureml.automlComponent\": \"AutoML\", \"pipeline_id\": \"\", \"score\": \"\", \"predicted_cost\": \"\", \"fit_time\": \"\", \"training_percent\": \"\", \"iteration\": \"\", \"run_preprocessor\": \"\", \"run_algorithm\": \"\", \"dynamic_whitelisting_iterations\": \"<25>;<30>;<35>;\", \"automl_best_child_run_id\": \"AutoML_8006dbaa-28c8-4fdd-99a5-e4e0ab4fd2c7_3\", \"model_explain_best_run_child_id\": \"AutoML_8006dbaa-28c8-4fdd-99a5-e4e0ab4fd2c7_3\"}, \"end_time_utc\": \"2021-04-03T11:26:43.459079Z\", \"status\": \"Completed\", \"log_files\": {}, \"log_groups\": [], \"run_duration\": \"0:25:17\", \"run_number\": \"2\", \"run_queued_details\": {\"status\": \"Completed\", \"details\": null}}, \"child_runs\": [{\"run_id\": \"AutoML_8006dbaa-28c8-4fdd-99a5-e4e0ab4fd2c7_3\", \"run_number\": 15, \"metric\": null, \"status\": \"Completed\", \"run_type\": \"azureml.scriptrun\", \"training_percent\": \"100\", \"start_time\": \"2021-04-03T11:15:24.214918Z\", \"end_time\": \"2021-04-03T11:18:36.680567Z\", \"created_time\": \"2021-04-03T11:15:10.973792Z\", \"created_time_dt\": \"2021-04-03T11:15:10.973792Z\", \"duration\": \"0:03:25\", \"iteration\": \"3\", \"goal\": \"accuracy_max\", \"run_name\": \"MaxAbsScaler, RandomForest\", \"run_properties\": \"copy=True\", \"primary_metric\": 0.84811558, \"best_metric\": 0.84811558}, {\"run_id\": \"AutoML_8006dbaa-28c8-4fdd-99a5-e4e0ab4fd2c7_2\", \"run_number\": 16, \"metric\": null, \"status\": \"Completed\", \"run_type\": \"azureml.scriptrun\", \"training_percent\": \"100\", \"start_time\": \"2021-04-03T11:15:24.320224Z\", \"end_time\": \"2021-04-03T11:16:04.116123Z\", \"created_time\": \"2021-04-03T11:15:10.979025Z\", \"created_time_dt\": \"2021-04-03T11:15:10.979025Z\", \"duration\": \"0:00:53\", \"iteration\": \"2\", \"goal\": \"accuracy_max\", \"run_name\": \"MaxAbsScaler, RandomForest\", \"run_properties\": \"copy=True\", \"primary_metric\": 0.84811558, \"best_metric\": 0.84811558}, {\"run_id\": \"AutoML_8006dbaa-28c8-4fdd-99a5-e4e0ab4fd2c7_0\", \"run_number\": 17, \"metric\": null, \"status\": \"Completed\", \"run_type\": \"azureml.scriptrun\", \"training_percent\": \"100\", \"start_time\": \"2021-04-03T11:15:23.631554Z\", \"end_time\": \"2021-04-03T11:18:29.567831Z\", \"created_time\": \"2021-04-03T11:15:10.990243Z\", \"created_time_dt\": \"2021-04-03T11:15:10.990243Z\", \"duration\": \"0:03:18\", \"iteration\": \"0\", \"goal\": \"accuracy_max\", \"run_name\": \"MaxAbsScaler, LightGBM\", \"run_properties\": \"copy=True\", \"primary_metric\": 0.83207623, \"best_metric\": 0.83207623}, {\"run_id\": \"AutoML_8006dbaa-28c8-4fdd-99a5-e4e0ab4fd2c7_1\", \"run_number\": 18, \"metric\": null, \"status\": \"Completed\", \"run_type\": \"azureml.scriptrun\", \"training_percent\": \"100\", \"start_time\": \"2021-04-03T11:15:27.504779Z\", \"end_time\": \"2021-04-03T11:16:13.418606Z\", \"created_time\": \"2021-04-03T11:15:11.083759Z\", \"created_time_dt\": \"2021-04-03T11:15:11.083759Z\", \"duration\": \"0:01:02\", \"iteration\": \"1\", \"goal\": \"accuracy_max\", \"run_name\": \"MaxAbsScaler, XGBoostClassifier\", \"run_properties\": \"copy=True\", \"primary_metric\": 0.84717113, \"best_metric\": 0.84717113}, {\"run_id\": \"AutoML_8006dbaa-28c8-4fdd-99a5-e4e0ab4fd2c7_4\", \"run_number\": 19, \"metric\": null, \"status\": \"Completed\", \"run_type\": \"azureml.scriptrun\", \"training_percent\": \"100\", \"start_time\": \"2021-04-03T11:16:21.263622Z\", \"end_time\": \"2021-04-03T11:17:06.365337Z\", \"created_time\": \"2021-04-03T11:16:08.882331Z\", \"created_time_dt\": \"2021-04-03T11:16:08.882331Z\", \"duration\": \"0:00:57\", \"iteration\": \"4\", \"goal\": \"accuracy_max\", \"run_name\": \"MaxAbsScaler, RandomForest\", \"run_properties\": \"copy=True\", \"primary_metric\": 0.66910763, \"best_metric\": 0.84811558}, {\"run_id\": \"AutoML_8006dbaa-28c8-4fdd-99a5-e4e0ab4fd2c7_5\", \"run_number\": 20, \"metric\": null, \"status\": \"Completed\", \"run_type\": \"azureml.scriptrun\", \"training_percent\": \"100\", \"start_time\": \"2021-04-03T11:16:28.461304Z\", \"end_time\": \"2021-04-03T11:17:13.007384Z\", \"created_time\": \"2021-04-03T11:16:17.816739Z\", \"created_time_dt\": \"2021-04-03T11:16:17.816739Z\", \"duration\": \"0:00:55\", \"iteration\": \"5\", \"goal\": \"accuracy_max\", \"run_name\": \"MaxAbsScaler, RandomForest\", \"run_properties\": \"copy=True\", \"primary_metric\": 0.66863465, \"best_metric\": 0.84811558}, {\"run_id\": \"AutoML_8006dbaa-28c8-4fdd-99a5-e4e0ab4fd2c7_6\", \"run_number\": 21, \"metric\": null, \"status\": \"Completed\", \"run_type\": \"azureml.scriptrun\", \"training_percent\": \"100\", \"start_time\": \"2021-04-03T11:17:19.968287Z\", \"end_time\": \"2021-04-03T11:18:04.375269Z\", \"created_time\": \"2021-04-03T11:17:09.495848Z\", \"created_time_dt\": \"2021-04-03T11:17:09.495848Z\", \"duration\": \"0:00:54\", \"iteration\": \"6\", \"goal\": \"accuracy_max\", \"run_name\": \"SparseNormalizer, XGBoostClassifier\", \"run_properties\": \"<azureml.automl.runtime.shared.model_wrappers.SparseNormalizer object at 0x7f07ca99d908\", \"primary_metric\": 0.84056747, \"best_metric\": 0.84811558}, {\"run_id\": \"AutoML_8006dbaa-28c8-4fdd-99a5-e4e0ab4fd2c7_7\", \"run_number\": 22, \"metric\": null, \"status\": \"Completed\", \"run_type\": \"azureml.scriptrun\", \"training_percent\": \"100\", \"start_time\": \"2021-04-03T11:17:30.718399Z\", \"end_time\": \"2021-04-03T11:18:13.699227Z\", \"created_time\": \"2021-04-03T11:17:15.760104Z\", \"created_time_dt\": \"2021-04-03T11:17:15.760104Z\", \"duration\": \"0:00:57\", \"iteration\": \"7\", \"goal\": \"accuracy_max\", \"run_name\": \"SparseNormalizer, XGBoostClassifier\", \"run_properties\": \"<azureml.automl.runtime.shared.model_wrappers.SparseNormalizer object at 0x7f49e88aa5f8\", \"primary_metric\": 0.83915187, \"best_metric\": 0.84811558}, {\"run_id\": \"AutoML_8006dbaa-28c8-4fdd-99a5-e4e0ab4fd2c7_8\", \"run_number\": 23, \"metric\": null, \"status\": \"Completed\", \"run_type\": \"azureml.scriptrun\", \"training_percent\": \"100\", \"start_time\": \"2021-04-03T11:18:16.185352Z\", \"end_time\": \"2021-04-03T11:18:57.911054Z\", \"created_time\": \"2021-04-03T11:18:07.246299Z\", \"created_time_dt\": \"2021-04-03T11:18:07.246299Z\", \"duration\": \"0:00:50\", \"iteration\": \"8\", \"goal\": \"accuracy_max\", \"run_name\": \"MaxAbsScaler, LightGBM\", \"run_properties\": \"copy=True\", \"primary_metric\": 0.84811558, \"best_metric\": 0.84811558}, {\"run_id\": \"AutoML_8006dbaa-28c8-4fdd-99a5-e4e0ab4fd2c7_9\", \"run_number\": 24, \"metric\": null, \"status\": \"Completed\", \"run_type\": \"azureml.scriptrun\", \"training_percent\": \"100\", \"start_time\": \"2021-04-03T11:18:28.719915Z\", \"end_time\": \"2021-04-03T11:19:08.981169Z\", \"created_time\": \"2021-04-03T11:18:16.256587Z\", \"created_time_dt\": \"2021-04-03T11:18:16.256587Z\", \"duration\": \"0:00:52\", \"iteration\": \"9\", \"goal\": \"accuracy_max\", \"run_name\": \"MaxAbsScaler, RandomForest\", \"run_properties\": \"copy=True\", \"primary_metric\": 0.84811558, \"best_metric\": 0.84811558}, {\"run_id\": \"AutoML_8006dbaa-28c8-4fdd-99a5-e4e0ab4fd2c7_10\", \"run_number\": 25, \"metric\": null, \"status\": \"Completed\", \"run_type\": \"azureml.scriptrun\", \"training_percent\": \"100\", \"start_time\": \"2021-04-03T11:18:44.623609Z\", \"end_time\": \"2021-04-03T11:19:26.878576Z\", \"created_time\": \"2021-04-03T11:18:32.215781Z\", \"created_time_dt\": \"2021-04-03T11:18:32.215781Z\", \"duration\": \"0:00:54\", \"iteration\": \"10\", \"goal\": \"accuracy_max\", \"run_name\": \"StandardScalerWrapper, RandomForest\", \"run_properties\": \"<azureml.automl.runtime.shared.model_wrappers.StandardScalerWrapper object at 0x7fd63a934cf8\", \"primary_metric\": 0.84811558, \"best_metric\": 0.84811558}, {\"run_id\": \"AutoML_8006dbaa-28c8-4fdd-99a5-e4e0ab4fd2c7_11\", \"run_number\": 26, \"metric\": null, \"status\": \"Completed\", \"run_type\": \"azureml.scriptrun\", \"training_percent\": \"100\", \"start_time\": \"2021-04-03T11:18:52.781141Z\", \"end_time\": \"2021-04-03T11:19:38.629731Z\", \"created_time\": \"2021-04-03T11:18:39.110194Z\", \"created_time_dt\": \"2021-04-03T11:18:39.110194Z\", \"duration\": \"0:00:59\", \"iteration\": \"11\", \"goal\": \"accuracy_max\", \"run_name\": \"MaxAbsScaler, RandomForest\", \"run_properties\": \"copy=True\", \"primary_metric\": 0.84811558, \"best_metric\": 0.84811558}, {\"run_id\": \"AutoML_8006dbaa-28c8-4fdd-99a5-e4e0ab4fd2c7_12\", \"run_number\": 27, \"metric\": null, \"status\": \"Completed\", \"run_type\": \"azureml.scriptrun\", \"training_percent\": \"100\", \"start_time\": \"2021-04-03T11:19:10.142431Z\", \"end_time\": \"2021-04-03T11:19:49.684043Z\", \"created_time\": \"2021-04-03T11:19:00.341292Z\", \"created_time_dt\": \"2021-04-03T11:19:00.341292Z\", \"duration\": \"0:00:49\", \"iteration\": \"12\", \"goal\": \"accuracy_max\", \"run_name\": \"MaxAbsScaler, LogisticRegression\", \"run_properties\": \"copy=True\", \"primary_metric\": 0.82264138, \"best_metric\": 0.84811558}, {\"run_id\": \"AutoML_8006dbaa-28c8-4fdd-99a5-e4e0ab4fd2c7_13\", \"run_number\": 28, \"metric\": null, \"status\": \"Completed\", \"run_type\": \"azureml.scriptrun\", \"training_percent\": \"100\", \"start_time\": \"2021-04-03T11:19:28.94576Z\", \"end_time\": \"2021-04-03T11:20:13.186414Z\", \"created_time\": \"2021-04-03T11:19:11.382694Z\", \"created_time_dt\": \"2021-04-03T11:19:11.382694Z\", \"duration\": \"0:01:01\", \"iteration\": \"13\", \"goal\": \"accuracy_max\", \"run_name\": \"MaxAbsScaler, LightGBM\", \"run_properties\": \"copy=True\", \"primary_metric\": 0.84693606, \"best_metric\": 0.84811558}, {\"run_id\": \"AutoML_8006dbaa-28c8-4fdd-99a5-e4e0ab4fd2c7_14\", \"run_number\": 29, \"metric\": null, \"status\": \"Completed\", \"run_type\": \"azureml.scriptrun\", \"training_percent\": \"100\", \"start_time\": \"2021-04-03T11:19:38.901497Z\", \"end_time\": \"2021-04-03T11:20:35.689726Z\", \"created_time\": \"2021-04-03T11:19:29.375531Z\", \"created_time_dt\": \"2021-04-03T11:19:29.375531Z\", \"duration\": \"0:01:06\", \"iteration\": \"14\", \"goal\": \"accuracy_max\", \"run_name\": \"MaxAbsScaler, ExtremeRandomTrees\", \"run_properties\": \"copy=True\", \"primary_metric\": 0.84811558, \"best_metric\": 0.84811558}, {\"run_id\": \"AutoML_8006dbaa-28c8-4fdd-99a5-e4e0ab4fd2c7_15\", \"run_number\": 30, \"metric\": null, \"status\": \"Completed\", \"run_type\": \"azureml.scriptrun\", \"training_percent\": \"100\", \"start_time\": \"2021-04-03T11:19:51.818166Z\", \"end_time\": \"2021-04-03T11:20:42.147626Z\", \"created_time\": \"2021-04-03T11:19:41.013635Z\", \"created_time_dt\": \"2021-04-03T11:19:41.013635Z\", \"duration\": \"0:01:01\", \"iteration\": \"15\", \"goal\": \"accuracy_max\", \"run_name\": \"StandardScalerWrapper, RandomForest\", \"run_properties\": \"<azureml.automl.runtime.shared.model_wrappers.StandardScalerWrapper object at 0x7fb6d8c5a860\", \"primary_metric\": 0.84811558, \"best_metric\": 0.84811558}, {\"run_id\": \"AutoML_8006dbaa-28c8-4fdd-99a5-e4e0ab4fd2c7_16\", \"run_number\": 31, \"metric\": null, \"status\": \"Completed\", \"run_type\": \"azureml.scriptrun\", \"training_percent\": \"100\", \"start_time\": \"2021-04-03T11:20:05.760361Z\", \"end_time\": \"2021-04-03T11:20:49.236232Z\", \"created_time\": \"2021-04-03T11:19:51.910285Z\", \"created_time_dt\": \"2021-04-03T11:19:51.910285Z\", \"duration\": \"0:00:57\", \"iteration\": \"16\", \"goal\": \"accuracy_max\", \"run_name\": \"SparseNormalizer, XGBoostClassifier\", \"run_properties\": \"<azureml.automl.runtime.shared.model_wrappers.SparseNormalizer object at 0x7f96140422e8\", \"primary_metric\": 0.84316175, \"best_metric\": 0.84811558}, {\"run_id\": \"AutoML_8006dbaa-28c8-4fdd-99a5-e4e0ab4fd2c7_17\", \"run_number\": 32, \"metric\": null, \"status\": \"Completed\", \"run_type\": \"azureml.scriptrun\", \"training_percent\": \"100\", \"start_time\": \"2021-04-03T11:20:30.282783Z\", \"end_time\": \"2021-04-03T11:21:05.834104Z\", \"created_time\": \"2021-04-03T11:20:15.573616Z\", \"created_time_dt\": \"2021-04-03T11:20:15.573616Z\", \"duration\": \"0:00:50\", \"iteration\": \"17\", \"goal\": \"accuracy_max\", \"run_name\": \"StandardScalerWrapper, LightGBM\", \"run_properties\": \"<azureml.automl.runtime.shared.model_wrappers.StandardScalerWrapper object at 0x7f8ba4fe6518\", \"primary_metric\": 0.84811558, \"best_metric\": 0.84811558}, {\"run_id\": \"AutoML_8006dbaa-28c8-4fdd-99a5-e4e0ab4fd2c7_18\", \"run_number\": 33, \"metric\": null, \"status\": \"Completed\", \"run_type\": \"azureml.scriptrun\", \"training_percent\": \"100\", \"start_time\": \"2021-04-03T11:20:50.453184Z\", \"end_time\": \"2021-04-03T11:21:31.375144Z\", \"created_time\": \"2021-04-03T11:20:38.537025Z\", \"created_time_dt\": \"2021-04-03T11:20:38.537025Z\", \"duration\": \"0:00:52\", \"iteration\": \"18\", \"goal\": \"accuracy_max\", \"run_name\": \"MaxAbsScaler, LightGBM\", \"run_properties\": \"copy=True\", \"primary_metric\": 0.84740787, \"best_metric\": 0.84811558}, {\"run_id\": \"AutoML_8006dbaa-28c8-4fdd-99a5-e4e0ab4fd2c7_19\", \"run_number\": 34, \"metric\": null, \"status\": \"Completed\", \"run_type\": \"azureml.scriptrun\", \"training_percent\": \"100\", \"start_time\": \"2021-04-03T11:20:57.123658Z\", \"end_time\": \"2021-04-03T11:21:39.839459Z\", \"created_time\": \"2021-04-03T11:20:44.405591Z\", \"created_time_dt\": \"2021-04-03T11:20:44.405591Z\", \"duration\": \"0:00:55\", \"iteration\": \"19\", \"goal\": \"accuracy_max\", \"run_name\": \"SparseNormalizer, XGBoostClassifier\", \"run_properties\": \"<azureml.automl.runtime.shared.model_wrappers.SparseNormalizer object at 0x7f2f29821358\", \"primary_metric\": 0.84316142, \"best_metric\": 0.84811558}, {\"run_id\": \"AutoML_8006dbaa-28c8-4fdd-99a5-e4e0ab4fd2c7_20\", \"run_number\": 35, \"metric\": null, \"status\": \"Completed\", \"run_type\": \"azureml.scriptrun\", \"training_percent\": \"100\", \"start_time\": \"2021-04-03T11:21:02.082529Z\", \"end_time\": \"2021-04-03T11:21:44.017152Z\", \"created_time\": \"2021-04-03T11:20:51.500119Z\", \"created_time_dt\": \"2021-04-03T11:20:51.500119Z\", \"duration\": \"0:00:52\", \"iteration\": \"20\", \"goal\": \"accuracy_max\", \"run_name\": \"StandardScalerWrapper, LightGBM\", \"run_properties\": \"<azureml.automl.runtime.shared.model_wrappers.StandardScalerWrapper object at 0x7f7f9f0d1c18\", \"primary_metric\": 0.84646425, \"best_metric\": 0.84811558}, {\"run_id\": \"AutoML_8006dbaa-28c8-4fdd-99a5-e4e0ab4fd2c7_21\", \"run_number\": 36, \"metric\": null, \"status\": \"Completed\", \"run_type\": \"azureml.scriptrun\", \"training_percent\": \"100\", \"start_time\": \"2021-04-03T11:21:37.70029Z\", \"end_time\": \"2021-04-03T11:22:18.682183Z\", \"created_time\": \"2021-04-03T11:21:08.162175Z\", \"created_time_dt\": \"2021-04-03T11:21:08.162175Z\", \"duration\": \"0:01:10\", \"iteration\": \"21\", \"goal\": \"accuracy_max\", \"run_name\": \"SparseNormalizer, LightGBM\", \"run_properties\": \"<azureml.automl.runtime.shared.model_wrappers.SparseNormalizer object at 0x7f639b411d30\", \"primary_metric\": 0.84811558, \"best_metric\": 0.84811558}, {\"run_id\": \"AutoML_8006dbaa-28c8-4fdd-99a5-e4e0ab4fd2c7_22\", \"run_number\": 37, \"metric\": null, \"status\": \"Completed\", \"run_type\": \"azureml.scriptrun\", \"training_percent\": \"100\", \"start_time\": \"2021-04-03T11:21:53.726075Z\", \"end_time\": \"2021-04-03T11:22:41.702099Z\", \"created_time\": \"2021-04-03T11:21:33.782529Z\", \"created_time_dt\": \"2021-04-03T11:21:33.782529Z\", \"duration\": \"0:01:07\", \"iteration\": \"22\", \"goal\": \"accuracy_max\", \"run_name\": \"SparseNormalizer, LightGBM\", \"run_properties\": \"<azureml.automl.runtime.shared.model_wrappers.SparseNormalizer object at 0x7fae6349cb38\", \"primary_metric\": 0.84504882, \"best_metric\": 0.84811558}, {\"run_id\": \"AutoML_8006dbaa-28c8-4fdd-99a5-e4e0ab4fd2c7_23\", \"run_number\": 38, \"metric\": null, \"status\": \"Completed\", \"run_type\": \"azureml.scriptrun\", \"training_percent\": \"100\", \"start_time\": \"2021-04-03T11:21:56.95765Z\", \"end_time\": \"2021-04-03T11:22:39.79964Z\", \"created_time\": \"2021-04-03T11:21:42.628979Z\", \"created_time_dt\": \"2021-04-03T11:21:42.628979Z\", \"duration\": \"0:00:57\", \"iteration\": \"23\", \"goal\": \"accuracy_max\", \"run_name\": \"MaxAbsScaler, LightGBM\", \"run_properties\": \"copy=True\", \"primary_metric\": 0.84811558, \"best_metric\": 0.84811558}, {\"run_id\": \"AutoML_8006dbaa-28c8-4fdd-99a5-e4e0ab4fd2c7_24\", \"run_number\": 39, \"metric\": null, \"status\": \"Completed\", \"run_type\": \"azureml.scriptrun\", \"training_percent\": \"100\", \"start_time\": \"2021-04-03T11:22:01.165099Z\", \"end_time\": \"2021-04-03T11:22:44.930964Z\", \"created_time\": \"2021-04-03T11:21:46.484789Z\", \"created_time_dt\": \"2021-04-03T11:21:46.484789Z\", \"duration\": \"0:00:58\", \"iteration\": \"24\", \"goal\": \"accuracy_max\", \"run_name\": \"SparseNormalizer, XGBoostClassifier\", \"run_properties\": \"<azureml.automl.runtime.shared.model_wrappers.SparseNormalizer object at 0x7f78b0aab278\", \"primary_metric\": 0.84575654, \"best_metric\": 0.84811558}, {\"run_id\": \"AutoML_8006dbaa-28c8-4fdd-99a5-e4e0ab4fd2c7_25\", \"run_number\": 40, \"metric\": null, \"status\": \"Completed\", \"run_type\": \"azureml.scriptrun\", \"training_percent\": \"100\", \"start_time\": \"2021-04-03T11:22:35.85385Z\", \"end_time\": \"2021-04-03T11:23:18.972021Z\", \"created_time\": \"2021-04-03T11:22:21.804803Z\", \"created_time_dt\": \"2021-04-03T11:22:21.804803Z\", \"duration\": \"0:00:57\", \"iteration\": \"25\", \"goal\": \"accuracy_max\", \"run_name\": \"StandardScalerWrapper, RandomForest\", \"run_properties\": \"<azureml.automl.runtime.shared.model_wrappers.StandardScalerWrapper object at 0x7f0d4fb90a58\", \"primary_metric\": 0.84811558, \"best_metric\": 0.84811558}, {\"run_id\": \"AutoML_8006dbaa-28c8-4fdd-99a5-e4e0ab4fd2c7_26\", \"run_number\": 41, \"metric\": null, \"status\": \"Completed\", \"run_type\": \"azureml.scriptrun\", \"training_percent\": \"100\", \"start_time\": \"2021-04-03T11:22:54.437499Z\", \"end_time\": \"2021-04-03T11:23:37.408441Z\", \"created_time\": \"2021-04-03T11:22:42.238148Z\", \"created_time_dt\": \"2021-04-03T11:22:42.238148Z\", \"duration\": \"0:00:55\", \"iteration\": \"26\", \"goal\": \"accuracy_max\", \"run_name\": \"MaxAbsScaler, LightGBM\", \"run_properties\": \"copy=True\", \"primary_metric\": 0.84292568, \"best_metric\": 0.84811558}, {\"run_id\": \"AutoML_8006dbaa-28c8-4fdd-99a5-e4e0ab4fd2c7_28\", \"run_number\": 42, \"metric\": null, \"status\": \"Completed\", \"run_type\": \"azureml.scriptrun\", \"training_percent\": \"100\", \"start_time\": \"2021-04-03T11:22:59.770728Z\", \"end_time\": \"2021-04-03T11:23:48.431014Z\", \"created_time\": \"2021-04-03T11:22:46.972127Z\", \"created_time_dt\": \"2021-04-03T11:22:46.972127Z\", \"duration\": \"0:01:01\", \"iteration\": \"28\", \"goal\": \"accuracy_max\", \"run_name\": \"SparseNormalizer, LightGBM\", \"run_properties\": \"<azureml.automl.runtime.shared.model_wrappers.SparseNormalizer object at 0x7fb188821048\", \"primary_metric\": 0.84811558, \"best_metric\": 0.84811558}, {\"run_id\": \"AutoML_8006dbaa-28c8-4fdd-99a5-e4e0ab4fd2c7_27\", \"run_number\": 43, \"metric\": null, \"status\": \"Completed\", \"run_type\": \"azureml.scriptrun\", \"training_percent\": \"100\", \"start_time\": \"2021-04-03T11:23:00.069556Z\", \"end_time\": \"2021-04-03T11:23:43.031604Z\", \"created_time\": \"2021-04-03T11:22:47.019999Z\", \"created_time_dt\": \"2021-04-03T11:22:47.019999Z\", \"duration\": \"0:00:56\", \"iteration\": \"27\", \"goal\": \"accuracy_max\", \"run_name\": \"StandardScalerWrapper, LightGBM\", \"run_properties\": \"<azureml.automl.runtime.shared.model_wrappers.StandardScalerWrapper object at 0x7ff5cb85dba8\", \"primary_metric\": 0.84552063, \"best_metric\": 0.84811558}, {\"run_id\": \"AutoML_8006dbaa-28c8-4fdd-99a5-e4e0ab4fd2c7_29\", \"run_number\": 44, \"metric\": null, \"status\": \"Completed\", \"run_type\": \"azureml.scriptrun\", \"training_percent\": \"100\", \"start_time\": \"2021-04-03T11:23:33.561675Z\", \"end_time\": \"2021-04-03T11:24:26.925282Z\", \"created_time\": \"2021-04-03T11:23:21.622252Z\", \"created_time_dt\": \"2021-04-03T11:23:21.622252Z\", \"duration\": \"0:01:05\", \"iteration\": \"29\", \"goal\": \"accuracy_max\", \"run_name\": \"MaxAbsScaler, ExtremeRandomTrees\", \"run_properties\": \"copy=True\", \"primary_metric\": 0.84811558, \"best_metric\": 0.84811558}, {\"run_id\": \"AutoML_8006dbaa-28c8-4fdd-99a5-e4e0ab4fd2c7_30\", \"run_number\": 45, \"metric\": null, \"status\": \"Completed\", \"run_type\": \"azureml.scriptrun\", \"training_percent\": \"100\", \"start_time\": \"2021-04-03T11:23:50.785585Z\", \"end_time\": \"2021-04-03T11:24:39.140364Z\", \"created_time\": \"2021-04-03T11:23:40.755066Z\", \"created_time_dt\": \"2021-04-03T11:23:40.755066Z\", \"duration\": \"0:00:58\", \"iteration\": \"30\", \"goal\": \"accuracy_max\", \"run_name\": \"MaxAbsScaler, RandomForest\", \"run_properties\": \"copy=True\", \"primary_metric\": 0.84811558, \"best_metric\": 0.84811558}, {\"run_id\": \"AutoML_8006dbaa-28c8-4fdd-99a5-e4e0ab4fd2c7_31\", \"run_number\": 46, \"metric\": null, \"status\": \"Completed\", \"run_type\": \"azureml.scriptrun\", \"training_percent\": \"100\", \"start_time\": \"2021-04-03T11:24:01.390079Z\", \"end_time\": \"2021-04-03T11:24:42.181457Z\", \"created_time\": \"2021-04-03T11:23:45.843867Z\", \"created_time_dt\": \"2021-04-03T11:23:45.843867Z\", \"duration\": \"0:00:56\", \"iteration\": \"31\", \"goal\": \"accuracy_max\", \"run_name\": \"MaxAbsScaler, LightGBM\", \"run_properties\": \"copy=True\", \"primary_metric\": 0.84552063, \"best_metric\": 0.84811558}, {\"run_id\": \"AutoML_8006dbaa-28c8-4fdd-99a5-e4e0ab4fd2c7_32\", \"run_number\": 47, \"metric\": null, \"status\": \"Completed\", \"run_type\": \"azureml.scriptrun\", \"training_percent\": \"100\", \"start_time\": \"2021-04-03T11:24:03.00071Z\", \"end_time\": \"2021-04-03T11:24:48.999057Z\", \"created_time\": \"2021-04-03T11:23:50.883598Z\", \"created_time_dt\": \"2021-04-03T11:23:50.883598Z\", \"duration\": \"0:00:58\", \"iteration\": \"32\", \"goal\": \"accuracy_max\", \"run_name\": \"StandardScalerWrapper, RandomForest\", \"run_properties\": \"<azureml.automl.runtime.shared.model_wrappers.StandardScalerWrapper object at 0x7f75fa436c88\", \"primary_metric\": 0.84811558, \"best_metric\": 0.84811558}, {\"run_id\": \"AutoML_8006dbaa-28c8-4fdd-99a5-e4e0ab4fd2c7_33\", \"run_number\": 48, \"metric\": null, \"status\": \"Canceled\", \"run_type\": \"azureml.scriptrun\", \"training_percent\": \"100\", \"start_time\": \"2021-04-03T11:24:42.973588Z\", \"end_time\": \"2021-04-03T11:25:00.290311Z\", \"created_time\": \"2021-04-03T11:24:29.437749Z\", \"created_time_dt\": \"2021-04-03T11:24:29.437749Z\", \"duration\": \"0:00:30\", \"iteration\": \"33\", \"goal\": null, \"run_name\": \"Canceled\", \"run_properties\": null}, {\"run_id\": \"AutoML_8006dbaa-28c8-4fdd-99a5-e4e0ab4fd2c7_34\", \"run_number\": 49, \"metric\": null, \"status\": \"Canceled\", \"run_type\": \"azureml.scriptrun\", \"training_percent\": \"100\", \"start_time\": \"2021-04-03T11:24:52.07257Z\", \"end_time\": \"2021-04-03T11:24:59.63564Z\", \"created_time\": \"2021-04-03T11:24:42.298231Z\", \"created_time_dt\": \"2021-04-03T11:24:42.298231Z\", \"duration\": \"0:00:17\", \"iteration\": \"34\", \"goal\": null, \"run_name\": \"Canceled\", \"run_properties\": null}, {\"run_id\": \"AutoML_8006dbaa-28c8-4fdd-99a5-e4e0ab4fd2c7_35\", \"run_number\": 50, \"metric\": null, \"status\": \"Canceled\", \"run_type\": \"azureml.scriptrun\", \"training_percent\": \"100\", \"start_time\": \"2021-04-03T11:24:58.507925Z\", \"end_time\": \"2021-04-03T11:25:06.040476Z\", \"created_time\": \"2021-04-03T11:24:49.197472Z\", \"created_time_dt\": \"2021-04-03T11:24:49.197472Z\", \"duration\": \"0:00:16\", \"iteration\": \"35\", \"goal\": null, \"run_name\": \"Canceled\", \"run_properties\": null}, {\"run_id\": \"AutoML_8006dbaa-28c8-4fdd-99a5-e4e0ab4fd2c7_36\", \"run_number\": 51, \"metric\": null, \"status\": \"Completed\", \"run_type\": \"azureml.scriptrun\", \"training_percent\": \"100\", \"start_time\": \"2021-04-03T11:25:22.189749Z\", \"end_time\": \"2021-04-03T11:26:32.6113Z\", \"created_time\": \"2021-04-03T11:25:07.822616Z\", \"created_time_dt\": \"2021-04-03T11:25:07.822616Z\", \"duration\": \"0:01:24\", \"iteration\": \"36\", \"goal\": \"accuracy_max\", \"run_name\": \"VotingEnsemble\", \"run_properties\": \"classification_labels=None,\\n                              estimators=[('32',\\n                                           Pipeline(memory=None,\\n                                                    steps=[('standardscalerwrapper',\\n                                                            <azureml.automl.runtime.shared.model_wrappers.StandardScalerWrapper object at 0x7f5aec898748>\", \"primary_metric\": 0.84811558, \"best_metric\": 0.84811558}, {\"run_id\": \"AutoML_8006dbaa-28c8-4fdd-99a5-e4e0ab4fd2c7_37\", \"run_number\": 52, \"metric\": null, \"status\": \"Completed\", \"run_type\": \"azureml.scriptrun\", \"training_percent\": \"100\", \"start_time\": \"2021-04-03T11:25:22.563808Z\", \"end_time\": \"2021-04-03T11:26:36.754723Z\", \"created_time\": \"2021-04-03T11:25:08.15307Z\", \"created_time_dt\": \"2021-04-03T11:25:08.15307Z\", \"duration\": \"0:01:28\", \"iteration\": \"37\", \"goal\": \"accuracy_max\", \"run_name\": \"StackEnsemble\", \"run_properties\": \"base_learners=[('32',\\n                                        Pipeline(memory=None,\\n                                                 steps=[('standardscalerwrapper',\\n                                                         <azureml.automl.runtime.shared.model_wrappers.StandardScalerWrapper object at 0x7f2040f172e8>\", \"primary_metric\": 0.83466901, \"best_metric\": 0.84811558}], \"children_metrics\": {\"categories\": [0], \"series\": {\"recall_score_micro\": [{\"categories\": [\"0\", \"1\", \"2\", \"3\", \"4\", \"5\", \"6\", \"7\", \"8\", \"9\", \"10\", \"11\", \"12\", \"13\", \"14\", \"15\", \"16\", \"17\", \"18\", \"19\", \"20\", \"21\", \"22\", \"23\", \"24\", \"25\", \"26\", \"27\", \"28\", \"29\", \"30\", \"31\", \"32\", \"36\", \"37\"], \"mode\": \"markers\", \"name\": \"recall_score_micro\", \"stepped\": false, \"type\": \"scatter\", \"data\": [0.8320762315843352, 0.8471711290024969, 0.8481155819555264, 0.8481155819555264, 0.6691076295982645, 0.6686346523642355, 0.8405674659064329, 0.8391518709044092, 0.8481155819555264, 0.8481155819555264, 0.8481155819555264, 0.8481155819555264, 0.8226413784842239, 0.8469360584830093, 0.8481155819555264, 0.8481155819555264, 0.8431617502059577, 0.8481155819555264, 0.8474078678720162, 0.8431614165359514, 0.8464642490940025, 0.8481155819555264, 0.8450488209269821, 0.8481155819555264, 0.8457565350104922, 0.8481155819555264, 0.8429256786764512, 0.8455206303159888, 0.8481155819555264, 0.8481155819555264, 0.8481155819555264, 0.8455206303159889, 0.8481155819555264, 0.8481155819555264, 0.8346690143688315]}, {\"categories\": [\"0\", \"1\", \"2\", \"3\", \"4\", \"5\", \"6\", \"7\", \"8\", \"9\", \"10\", \"11\", \"12\", \"13\", \"14\", \"15\", \"16\", \"17\", \"18\", \"19\", \"20\", \"21\", \"22\", \"23\", \"24\", \"25\", \"26\", \"27\", \"28\", \"29\", \"30\", \"31\", \"32\", \"36\", \"37\"], \"mode\": \"lines\", \"name\": \"recall_score_micro_max\", \"stepped\": true, \"type\": \"scatter\", \"data\": [0.8320762315843352, 0.8471711290024969, 0.8481155819555264, 0.8481155819555264, 0.8481155819555264, 0.8481155819555264, 0.8481155819555264, 0.8481155819555264, 0.8481155819555264, 0.8481155819555264, 0.8481155819555264, 0.8481155819555264, 0.8481155819555264, 0.8481155819555264, 0.8481155819555264, 0.8481155819555264, 0.8481155819555264, 0.8481155819555264, 0.8481155819555264, 0.8481155819555264, 0.8481155819555264, 0.8481155819555264, 0.8481155819555264, 0.8481155819555264, 0.8481155819555264, 0.8481155819555264, 0.8481155819555264, 0.8481155819555264, 0.8481155819555264, 0.8481155819555264, 0.8481155819555264, 0.8481155819555264, 0.8481155819555264, 0.8481155819555264, 0.8481155819555264]}], \"precision_score_macro\": [{\"categories\": [\"0\", \"1\", \"2\", \"3\", \"4\", \"5\", \"6\", \"7\", \"8\", \"9\", \"10\", \"11\", \"12\", \"13\", \"14\", \"15\", \"16\", \"17\", \"18\", \"19\", \"20\", \"21\", \"22\", \"23\", \"24\", \"25\", \"26\", \"27\", \"28\", \"29\", \"30\", \"31\", \"32\", \"36\", \"37\"], \"mode\": \"markers\", \"name\": \"precision_score_macro\", \"stepped\": false, \"type\": \"scatter\", \"data\": [0.5852318687019866, 0.6858798201743701, 0.4240577909777632, 0.4240577909777632, 0.5700016999153255, 0.5688362609426375, 0.6053443698608042, 0.6022712790838701, 0.4240577909777632, 0.4240577909777632, 0.4240577909777632, 0.4240577909777632, 0.5721211049273233, 0.44787251609989703, 0.4240577909777632, 0.4240577909777632, 0.6101428005469796, 0.4240577909777632, 0.4240093552266577, 0.6257673397664747, 0.4425490897238391, 0.4240577909777632, 0.4535133839417072, 0.4240577909777632, 0.6483354710739587, 0.4240577909777632, 0.5369518253711334, 0.6116351606027381, 0.4240577909777632, 0.4240577909777632, 0.4240577909777632, 0.45355050005948166, 0.4240577909777632, 0.4240577909777632, 0.46140366338476985]}, {\"categories\": [\"0\", \"1\", \"2\", \"3\", \"4\", \"5\", \"6\", \"7\", \"8\", \"9\", \"10\", \"11\", \"12\", \"13\", \"14\", \"15\", \"16\", \"17\", \"18\", \"19\", \"20\", \"21\", \"22\", \"23\", \"24\", \"25\", \"26\", \"27\", \"28\", \"29\", \"30\", \"31\", \"32\", \"36\", \"37\"], \"mode\": \"lines\", \"name\": \"precision_score_macro_max\", \"stepped\": true, \"type\": \"scatter\", \"data\": [0.5852318687019866, 0.6858798201743701, 0.6858798201743701, 0.6858798201743701, 0.6858798201743701, 0.6858798201743701, 0.6858798201743701, 0.6858798201743701, 0.6858798201743701, 0.6858798201743701, 0.6858798201743701, 0.6858798201743701, 0.6858798201743701, 0.6858798201743701, 0.6858798201743701, 0.6858798201743701, 0.6858798201743701, 0.6858798201743701, 0.6858798201743701, 0.6858798201743701, 0.6858798201743701, 0.6858798201743701, 0.6858798201743701, 0.6858798201743701, 0.6858798201743701, 0.6858798201743701, 0.6858798201743701, 0.6858798201743701, 0.6858798201743701, 0.6858798201743701, 0.6858798201743701, 0.6858798201743701, 0.6858798201743701, 0.6858798201743701, 0.6858798201743701]}], \"weighted_accuracy\": [{\"categories\": [\"0\", \"1\", \"2\", \"3\", \"4\", \"5\", \"6\", \"7\", \"8\", \"9\", \"10\", \"11\", \"12\", \"13\", \"14\", \"15\", \"16\", \"17\", \"18\", \"19\", \"20\", \"21\", \"22\", \"23\", \"24\", \"25\", \"26\", \"27\", \"28\", \"29\", \"30\", \"31\", \"32\", \"36\", \"37\"], \"mode\": \"markers\", \"name\": \"weighted_accuracy\", \"stepped\": false, \"type\": \"scatter\", \"data\": [0.938068858922891, 0.9632332164095311, 0.9686688438245291, 0.9686688438245291, 0.6857887834055892, 0.6849433620139633, 0.9530264241484064, 0.9523268033848646, 0.9686688438245291, 0.9686688438245291, 0.9686688438245291, 0.9686688438245291, 0.9237733983499873, 0.9671116922997246, 0.9686688438245291, 0.9686688438245291, 0.9597492527069978, 0.9686688438245291, 0.9678691841387167, 0.9582041415233725, 0.9665785858425161, 0.9686688438245291, 0.9645226436323417, 0.9686688438245291, 0.9644564276743832, 0.9686688438245291, 0.9605906824499453, 0.9650718511078652, 0.9686688438245291, 0.9686688438245291, 0.9686688438245291, 0.9650636021645318, 0.9686688438245291, 0.9686688438245291, 0.9485388313948461]}, {\"categories\": [\"0\", \"1\", \"2\", \"3\", \"4\", \"5\", \"6\", \"7\", \"8\", \"9\", \"10\", \"11\", \"12\", \"13\", \"14\", \"15\", \"16\", \"17\", \"18\", \"19\", \"20\", \"21\", \"22\", \"23\", \"24\", \"25\", \"26\", \"27\", \"28\", \"29\", \"30\", \"31\", \"32\", \"36\", \"37\"], \"mode\": \"lines\", \"name\": \"weighted_accuracy_max\", \"stepped\": true, \"type\": \"scatter\", \"data\": [0.938068858922891, 0.9632332164095311, 0.9686688438245291, 0.9686688438245291, 0.9686688438245291, 0.9686688438245291, 0.9686688438245291, 0.9686688438245291, 0.9686688438245291, 0.9686688438245291, 0.9686688438245291, 0.9686688438245291, 0.9686688438245291, 0.9686688438245291, 0.9686688438245291, 0.9686688438245291, 0.9686688438245291, 0.9686688438245291, 0.9686688438245291, 0.9686688438245291, 0.9686688438245291, 0.9686688438245291, 0.9686688438245291, 0.9686688438245291, 0.9686688438245291, 0.9686688438245291, 0.9686688438245291, 0.9686688438245291, 0.9686688438245291, 0.9686688438245291, 0.9686688438245291, 0.9686688438245291, 0.9686688438245291, 0.9686688438245291, 0.9686688438245291]}], \"average_precision_score_weighted\": [{\"categories\": [\"0\", \"1\", \"2\", \"3\", \"4\", \"5\", \"6\", \"7\", \"8\", \"9\", \"10\", \"11\", \"12\", \"13\", \"14\", \"15\", \"16\", \"17\", \"18\", \"19\", \"20\", \"21\", \"22\", \"23\", \"24\", \"25\", \"26\", \"27\", \"28\", \"29\", \"30\", \"31\", \"32\", \"36\", \"37\"], \"mode\": \"markers\", \"name\": \"average_precision_score_weighted\", \"stepped\": false, \"type\": \"scatter\", \"data\": [0.7941525642384558, 0.8146818351804374, 0.8149318272037963, 0.7603432512493496, 0.7983434412055113, 0.8111328197785919, 0.8130823514977702, 0.8075708325273022, 0.8114995563785823, 0.8062960359523842, 0.8129177525437639, 0.8099746084692413, 0.8007052141393564, 0.8090503245526861, 0.8118838293616331, 0.8024118005239634, 0.8135758113247702, 0.8062509371286994, 0.8110154957334652, 0.8133897939273265, 0.8131388887775165, 0.8073101711253909, 0.8118785356088773, 0.8131671959719585, 0.8151366695988971, 0.7426106787200014, 0.8046354903149467, 0.8084391714043573, 0.8113605697986056, 0.8136482685905332, 0.7426106787200014, 0.8097633856773082, 0.8216773264328858, 0.815972301732122, 0.8175015561849873]}, {\"categories\": [\"0\", \"1\", \"2\", \"3\", \"4\", \"5\", \"6\", \"7\", \"8\", \"9\", \"10\", \"11\", \"12\", \"13\", \"14\", \"15\", \"16\", \"17\", \"18\", \"19\", \"20\", \"21\", \"22\", \"23\", \"24\", \"25\", \"26\", \"27\", \"28\", \"29\", \"30\", \"31\", \"32\", \"36\", \"37\"], \"mode\": \"lines\", \"name\": \"average_precision_score_weighted_max\", \"stepped\": true, \"type\": \"scatter\", \"data\": [0.7941525642384558, 0.8146818351804374, 0.8149318272037963, 0.8149318272037963, 0.8149318272037963, 0.8149318272037963, 0.8149318272037963, 0.8149318272037963, 0.8149318272037963, 0.8149318272037963, 0.8149318272037963, 0.8149318272037963, 0.8149318272037963, 0.8149318272037963, 0.8149318272037963, 0.8149318272037963, 0.8149318272037963, 0.8149318272037963, 0.8149318272037963, 0.8149318272037963, 0.8149318272037963, 0.8149318272037963, 0.8149318272037963, 0.8149318272037963, 0.8151366695988971, 0.8151366695988971, 0.8151366695988971, 0.8151366695988971, 0.8151366695988971, 0.8151366695988971, 0.8151366695988971, 0.8151366695988971, 0.8216773264328858, 0.8216773264328858, 0.8216773264328858]}], \"AUC_macro\": [{\"categories\": [\"0\", \"1\", \"2\", \"3\", \"4\", \"5\", \"6\", \"7\", \"8\", \"9\", \"10\", \"11\", \"12\", \"13\", \"14\", \"15\", \"16\", \"17\", \"18\", \"19\", \"20\", \"21\", \"22\", \"23\", \"24\", \"25\", \"26\", \"27\", \"28\", \"29\", \"30\", \"31\", \"32\", \"36\", \"37\"], \"mode\": \"markers\", \"name\": \"AUC_macro\", \"stepped\": false, \"type\": \"scatter\", \"data\": [0.6272491257921978, 0.6719147375349594, 0.6732278388236225, 0.5530623690266273, 0.6472765639141116, 0.6662584685898014, 0.671743453289559, 0.6572858245329312, 0.6614153085049207, 0.6542660409683138, 0.6678340757101552, 0.6596995442574688, 0.645111481268013, 0.6553616917870211, 0.660650952455958, 0.6444444766239502, 0.6719932738974098, 0.6557061888220669, 0.660564171788783, 0.6694813111443157, 0.6635359904140855, 0.6536551793063391, 0.6640193785079403, 0.663275823350025, 0.6735348158998851, 0.5, 0.6484442928055981, 0.6522645885072239, 0.6611001074195961, 0.6667393061664102, 0.5, 0.6605370850681851, 0.685746872663903, 0.6688927295197743, 0.6737022855207474]}, {\"categories\": [\"0\", \"1\", \"2\", \"3\", \"4\", \"5\", \"6\", \"7\", \"8\", \"9\", \"10\", \"11\", \"12\", \"13\", \"14\", \"15\", \"16\", \"17\", \"18\", \"19\", \"20\", \"21\", \"22\", \"23\", \"24\", \"25\", \"26\", \"27\", \"28\", \"29\", \"30\", \"31\", \"32\", \"36\", \"37\"], \"mode\": \"lines\", \"name\": \"AUC_macro_max\", \"stepped\": true, \"type\": \"scatter\", \"data\": [0.6272491257921978, 0.6719147375349594, 0.6732278388236225, 0.6732278388236225, 0.6732278388236225, 0.6732278388236225, 0.6732278388236225, 0.6732278388236225, 0.6732278388236225, 0.6732278388236225, 0.6732278388236225, 0.6732278388236225, 0.6732278388236225, 0.6732278388236225, 0.6732278388236225, 0.6732278388236225, 0.6732278388236225, 0.6732278388236225, 0.6732278388236225, 0.6732278388236225, 0.6732278388236225, 0.6732278388236225, 0.6732278388236225, 0.6732278388236225, 0.6735348158998851, 0.6735348158998851, 0.6735348158998851, 0.6735348158998851, 0.6735348158998851, 0.6735348158998851, 0.6735348158998851, 0.6735348158998851, 0.685746872663903, 0.685746872663903, 0.685746872663903]}], \"recall_score_macro\": [{\"categories\": [\"0\", \"1\", \"2\", \"3\", \"4\", \"5\", \"6\", \"7\", \"8\", \"9\", \"10\", \"11\", \"12\", \"13\", \"14\", \"15\", \"16\", \"17\", \"18\", \"19\", \"20\", \"21\", \"22\", \"23\", \"24\", \"25\", \"26\", \"27\", \"28\", \"29\", \"30\", \"31\", \"32\", \"36\", \"37\"], \"mode\": \"markers\", \"name\": \"recall_score_macro\", \"stepped\": false, \"type\": \"scatter\", \"data\": [0.5258446333822475, 0.5119042565431116, 0.5, 0.5, 0.6209353117528859, 0.6205015974982989, 0.5162088089550934, 0.5129417236392317, 0.5, 0.5, 0.5, 0.5, 0.5302222899984087, 0.500043885727229, 0.5, 0.5, 0.5067753359583193, 0.5, 0.49959016393442623, 0.5112373918238396, 0.49977066168351314, 0.5, 0.5003982284149345, 0.5, 0.5032139784670394, 0.5, 0.5035705192123862, 0.5005652981614929, 0.5, 0.5, 0.5, 0.5006781052691186, 0.5, 0.5, 0.5082059231575072]}, {\"categories\": [\"0\", \"1\", \"2\", \"3\", \"4\", \"5\", \"6\", \"7\", \"8\", \"9\", \"10\", \"11\", \"12\", \"13\", \"14\", \"15\", \"16\", \"17\", \"18\", \"19\", \"20\", \"21\", \"22\", \"23\", \"24\", \"25\", \"26\", \"27\", \"28\", \"29\", \"30\", \"31\", \"32\", \"36\", \"37\"], \"mode\": \"lines\", \"name\": \"recall_score_macro_max\", \"stepped\": true, \"type\": \"scatter\", \"data\": [0.5258446333822475, 0.5258446333822475, 0.5258446333822475, 0.5258446333822475, 0.6209353117528859, 0.6209353117528859, 0.6209353117528859, 0.6209353117528859, 0.6209353117528859, 0.6209353117528859, 0.6209353117528859, 0.6209353117528859, 0.6209353117528859, 0.6209353117528859, 0.6209353117528859, 0.6209353117528859, 0.6209353117528859, 0.6209353117528859, 0.6209353117528859, 0.6209353117528859, 0.6209353117528859, 0.6209353117528859, 0.6209353117528859, 0.6209353117528859, 0.6209353117528859, 0.6209353117528859, 0.6209353117528859, 0.6209353117528859, 0.6209353117528859, 0.6209353117528859, 0.6209353117528859, 0.6209353117528859, 0.6209353117528859, 0.6209353117528859, 0.6209353117528859]}], \"precision_score_micro\": [{\"categories\": [\"0\", \"1\", \"2\", \"3\", \"4\", \"5\", \"6\", \"7\", \"8\", \"9\", \"10\", \"11\", \"12\", \"13\", \"14\", \"15\", \"16\", \"17\", \"18\", \"19\", \"20\", \"21\", \"22\", \"23\", \"24\", \"25\", \"26\", \"27\", \"28\", \"29\", \"30\", \"31\", \"32\", \"36\", \"37\"], \"mode\": \"markers\", \"name\": \"precision_score_micro\", \"stepped\": false, \"type\": \"scatter\", \"data\": [0.8320762315843352, 0.8471711290024969, 0.8481155819555264, 0.8481155819555264, 0.6691076295982645, 0.6686346523642355, 0.8405674659064329, 0.8391518709044092, 0.8481155819555264, 0.8481155819555264, 0.8481155819555264, 0.8481155819555264, 0.8226413784842239, 0.8469360584830093, 0.8481155819555264, 0.8481155819555264, 0.8431617502059577, 0.8481155819555264, 0.8474078678720162, 0.8431614165359514, 0.8464642490940025, 0.8481155819555264, 0.8450488209269821, 0.8481155819555264, 0.8457565350104922, 0.8481155819555264, 0.8429256786764512, 0.8455206303159888, 0.8481155819555264, 0.8481155819555264, 0.8481155819555264, 0.8455206303159889, 0.8481155819555264, 0.8481155819555264, 0.8346690143688315]}, {\"categories\": [\"0\", \"1\", \"2\", \"3\", \"4\", \"5\", \"6\", \"7\", \"8\", \"9\", \"10\", \"11\", \"12\", \"13\", \"14\", \"15\", \"16\", \"17\", \"18\", \"19\", \"20\", \"21\", \"22\", \"23\", \"24\", \"25\", \"26\", \"27\", \"28\", \"29\", \"30\", \"31\", \"32\", \"36\", \"37\"], \"mode\": \"lines\", \"name\": \"precision_score_micro_max\", \"stepped\": true, \"type\": \"scatter\", \"data\": [0.8320762315843352, 0.8471711290024969, 0.8481155819555264, 0.8481155819555264, 0.8481155819555264, 0.8481155819555264, 0.8481155819555264, 0.8481155819555264, 0.8481155819555264, 0.8481155819555264, 0.8481155819555264, 0.8481155819555264, 0.8481155819555264, 0.8481155819555264, 0.8481155819555264, 0.8481155819555264, 0.8481155819555264, 0.8481155819555264, 0.8481155819555264, 0.8481155819555264, 0.8481155819555264, 0.8481155819555264, 0.8481155819555264, 0.8481155819555264, 0.8481155819555264, 0.8481155819555264, 0.8481155819555264, 0.8481155819555264, 0.8481155819555264, 0.8481155819555264, 0.8481155819555264, 0.8481155819555264, 0.8481155819555264, 0.8481155819555264, 0.8481155819555264]}], \"f1_score_macro\": [{\"categories\": [\"0\", \"1\", \"2\", \"3\", \"4\", \"5\", \"6\", \"7\", \"8\", \"9\", \"10\", \"11\", \"12\", \"13\", \"14\", \"15\", \"16\", \"17\", \"18\", \"19\", \"20\", \"21\", \"22\", \"23\", \"24\", \"25\", \"26\", \"27\", \"28\", \"29\", \"30\", \"31\", \"32\", \"36\", \"37\"], \"mode\": \"markers\", \"name\": \"f1_score_macro\", \"stepped\": false, \"type\": \"scatter\", \"data\": [0.5208165108643971, 0.4868535488064971, 0.4588892190256147, 0.4588892190256147, 0.5579943571100854, 0.5573883876861817, 0.4996390072942633, 0.49379873427352394, 0.4588892190256147, 0.4588892190256147, 0.4588892190256147, 0.4588892190256147, 0.5300163147406002, 0.46020598070850244, 0.4588892190256147, 0.4588892190256147, 0.47890977496616344, 0.4588892190256147, 0.45868516951653215, 0.4882188919320902, 0.4600528683053297, 0.4588892190256147, 0.4627318900734417, 0.4588892190256147, 0.46872016475914163, 0.4588892190256147, 0.4718105148288838, 0.4627934246147604, 0.4588892190256147, 0.4588892190256147, 0.4588892190256147, 0.46287091818722864, 0.4588892190256147, 0.4588892190256147, 0.4795932364897399]}, {\"categories\": [\"0\", \"1\", \"2\", \"3\", \"4\", \"5\", \"6\", \"7\", \"8\", \"9\", \"10\", \"11\", \"12\", \"13\", \"14\", \"15\", \"16\", \"17\", \"18\", \"19\", \"20\", \"21\", \"22\", \"23\", \"24\", \"25\", \"26\", \"27\", \"28\", \"29\", \"30\", \"31\", \"32\", \"36\", \"37\"], \"mode\": \"lines\", \"name\": \"f1_score_macro_max\", \"stepped\": true, \"type\": \"scatter\", \"data\": [0.5208165108643971, 0.5208165108643971, 0.5208165108643971, 0.5208165108643971, 0.5579943571100854, 0.5579943571100854, 0.5579943571100854, 0.5579943571100854, 0.5579943571100854, 0.5579943571100854, 0.5579943571100854, 0.5579943571100854, 0.5579943571100854, 0.5579943571100854, 0.5579943571100854, 0.5579943571100854, 0.5579943571100854, 0.5579943571100854, 0.5579943571100854, 0.5579943571100854, 0.5579943571100854, 0.5579943571100854, 0.5579943571100854, 0.5579943571100854, 0.5579943571100854, 0.5579943571100854, 0.5579943571100854, 0.5579943571100854, 0.5579943571100854, 0.5579943571100854, 0.5579943571100854, 0.5579943571100854, 0.5579943571100854, 0.5579943571100854, 0.5579943571100854]}], \"f1_score_weighted\": [{\"categories\": [\"0\", \"1\", \"2\", \"3\", \"4\", \"5\", \"6\", \"7\", \"8\", \"9\", \"10\", \"11\", \"12\", \"13\", \"14\", \"15\", \"16\", \"17\", \"18\", \"19\", \"20\", \"21\", \"22\", \"23\", \"24\", \"25\", \"26\", \"27\", \"28\", \"29\", \"30\", \"31\", \"32\", \"36\", \"37\"], \"mode\": \"markers\", \"name\": \"f1_score_weighted\", \"stepped\": false, \"type\": \"scatter\", \"data\": [0.7899484792444041, 0.7864332384466984, 0.7784527258598235, 0.7784527258598235, 0.7121835137512228, 0.7120463876974289, 0.7871623863933569, 0.784812518349641, 0.7784527258598235, 0.7784527258598235, 0.7784527258598235, 0.7784527258598235, 0.788547731362557, 0.7783037981690328, 0.7784527258598235, 0.7784527258598235, 0.7822359432307407, 0.7784527258598235, 0.7781003686042244, 0.7849650286391391, 0.7780633877838222, 0.7784527258598235, 0.7781719251565998, 0.7784527258598235, 0.7803065491731326, 0.7784527258598235, 0.7799873982930253, 0.7784438602526759, 0.7784527258598235, 0.7784527258598235, 0.7784527258598235, 0.7784062952677396, 0.7784527258598235, 0.7784527258598235, 0.7779461742120971]}, {\"categories\": [\"0\", \"1\", \"2\", \"3\", \"4\", \"5\", \"6\", \"7\", \"8\", \"9\", \"10\", \"11\", \"12\", \"13\", \"14\", \"15\", \"16\", \"17\", \"18\", \"19\", \"20\", \"21\", \"22\", \"23\", \"24\", \"25\", \"26\", \"27\", \"28\", \"29\", \"30\", \"31\", \"32\", \"36\", \"37\"], \"mode\": \"lines\", \"name\": \"f1_score_weighted_max\", \"stepped\": true, \"type\": \"scatter\", \"data\": [0.7899484792444041, 0.7899484792444041, 0.7899484792444041, 0.7899484792444041, 0.7899484792444041, 0.7899484792444041, 0.7899484792444041, 0.7899484792444041, 0.7899484792444041, 0.7899484792444041, 0.7899484792444041, 0.7899484792444041, 0.7899484792444041, 0.7899484792444041, 0.7899484792444041, 0.7899484792444041, 0.7899484792444041, 0.7899484792444041, 0.7899484792444041, 0.7899484792444041, 0.7899484792444041, 0.7899484792444041, 0.7899484792444041, 0.7899484792444041, 0.7899484792444041, 0.7899484792444041, 0.7899484792444041, 0.7899484792444041, 0.7899484792444041, 0.7899484792444041, 0.7899484792444041, 0.7899484792444041, 0.7899484792444041, 0.7899484792444041, 0.7899484792444041]}], \"recall_score_weighted\": [{\"categories\": [\"0\", \"1\", \"2\", \"3\", \"4\", \"5\", \"6\", \"7\", \"8\", \"9\", \"10\", \"11\", \"12\", \"13\", \"14\", \"15\", \"16\", \"17\", \"18\", \"19\", \"20\", \"21\", \"22\", \"23\", \"24\", \"25\", \"26\", \"27\", \"28\", \"29\", \"30\", \"31\", \"32\", \"36\", \"37\"], \"mode\": \"markers\", \"name\": \"recall_score_weighted\", \"stepped\": false, \"type\": \"scatter\", \"data\": [0.8320762315843352, 0.8471711290024969, 0.8481155819555264, 0.8481155819555264, 0.6691076295982645, 0.6686346523642355, 0.8405674659064329, 0.8391518709044092, 0.8481155819555264, 0.8481155819555264, 0.8481155819555264, 0.8481155819555264, 0.8226413784842239, 0.8469360584830093, 0.8481155819555264, 0.8481155819555264, 0.8431617502059577, 0.8481155819555264, 0.8474078678720162, 0.8431614165359514, 0.8464642490940025, 0.8481155819555264, 0.8450488209269821, 0.8481155819555264, 0.8457565350104922, 0.8481155819555264, 0.8429256786764512, 0.8455206303159888, 0.8481155819555264, 0.8481155819555264, 0.8481155819555264, 0.8455206303159889, 0.8481155819555264, 0.8481155819555264, 0.8346690143688315]}, {\"categories\": [\"0\", \"1\", \"2\", \"3\", \"4\", \"5\", \"6\", \"7\", \"8\", \"9\", \"10\", \"11\", \"12\", \"13\", \"14\", \"15\", \"16\", \"17\", \"18\", \"19\", \"20\", \"21\", \"22\", \"23\", \"24\", \"25\", \"26\", \"27\", \"28\", \"29\", \"30\", \"31\", \"32\", \"36\", \"37\"], \"mode\": \"lines\", \"name\": \"recall_score_weighted_max\", \"stepped\": true, \"type\": \"scatter\", \"data\": [0.8320762315843352, 0.8471711290024969, 0.8481155819555264, 0.8481155819555264, 0.8481155819555264, 0.8481155819555264, 0.8481155819555264, 0.8481155819555264, 0.8481155819555264, 0.8481155819555264, 0.8481155819555264, 0.8481155819555264, 0.8481155819555264, 0.8481155819555264, 0.8481155819555264, 0.8481155819555264, 0.8481155819555264, 0.8481155819555264, 0.8481155819555264, 0.8481155819555264, 0.8481155819555264, 0.8481155819555264, 0.8481155819555264, 0.8481155819555264, 0.8481155819555264, 0.8481155819555264, 0.8481155819555264, 0.8481155819555264, 0.8481155819555264, 0.8481155819555264, 0.8481155819555264, 0.8481155819555264, 0.8481155819555264, 0.8481155819555264, 0.8481155819555264]}], \"precision_score_weighted\": [{\"categories\": [\"0\", \"1\", \"2\", \"3\", \"4\", \"5\", \"6\", \"7\", \"8\", \"9\", \"10\", \"11\", \"12\", \"13\", \"14\", \"15\", \"16\", \"17\", \"18\", \"19\", \"20\", \"21\", \"22\", \"23\", \"24\", \"25\", \"26\", \"27\", \"28\", \"29\", \"30\", \"31\", \"32\", \"36\", \"37\"], \"mode\": \"markers\", \"name\": \"precision_score_weighted\", \"stepped\": false, \"type\": \"scatter\", \"data\": [0.7741441853881125, 0.8035558631912375, 0.719420921315527, 0.719420921315527, 0.7973706618124785, 0.7970218387251423, 0.7783336439450971, 0.7771207438244353, 0.719420921315527, 0.719420921315527, 0.719420921315527, 0.719420921315527, 0.7710544000907523, 0.7259341324926288, 0.719420921315527, 0.719420921315527, 0.7787059314576318, 0.719420921315527, 0.7193372813773125, 0.7843204783620278, 0.7244327627191988, 0.719420921315527, 0.7275327648123224, 0.719420921315527, 0.7900737181014841, 0.719420921315527, 0.7546689057669677, 0.7776124840016646, 0.719420921315527, 0.719420921315527, 0.719420921315527, 0.7275953342337936, 0.719420921315527, 0.719420921315527, 0.7311380281148333]}, {\"categories\": [\"0\", \"1\", \"2\", \"3\", \"4\", \"5\", \"6\", \"7\", \"8\", \"9\", \"10\", \"11\", \"12\", \"13\", \"14\", \"15\", \"16\", \"17\", \"18\", \"19\", \"20\", \"21\", \"22\", \"23\", \"24\", \"25\", \"26\", \"27\", \"28\", \"29\", \"30\", \"31\", \"32\", \"36\", \"37\"], \"mode\": \"lines\", \"name\": \"precision_score_weighted_max\", \"stepped\": true, \"type\": \"scatter\", \"data\": [0.7741441853881125, 0.8035558631912375, 0.8035558631912375, 0.8035558631912375, 0.8035558631912375, 0.8035558631912375, 0.8035558631912375, 0.8035558631912375, 0.8035558631912375, 0.8035558631912375, 0.8035558631912375, 0.8035558631912375, 0.8035558631912375, 0.8035558631912375, 0.8035558631912375, 0.8035558631912375, 0.8035558631912375, 0.8035558631912375, 0.8035558631912375, 0.8035558631912375, 0.8035558631912375, 0.8035558631912375, 0.8035558631912375, 0.8035558631912375, 0.8035558631912375, 0.8035558631912375, 0.8035558631912375, 0.8035558631912375, 0.8035558631912375, 0.8035558631912375, 0.8035558631912375, 0.8035558631912375, 0.8035558631912375, 0.8035558631912375, 0.8035558631912375]}], \"average_precision_score_macro\": [{\"categories\": [\"0\", \"1\", \"2\", \"3\", \"4\", \"5\", \"6\", \"7\", \"8\", \"9\", \"10\", \"11\", \"12\", \"13\", \"14\", \"15\", \"16\", \"17\", \"18\", \"19\", \"20\", \"21\", \"22\", \"23\", \"24\", \"25\", \"26\", \"27\", \"28\", \"29\", \"30\", \"31\", \"32\", \"36\", \"37\"], \"mode\": \"markers\", \"name\": \"average_precision_score_macro\", \"stepped\": false, \"type\": \"scatter\", \"data\": [0.5648125926108533, 0.5955597537659437, 0.5902095558476771, 0.5177504412288176, 0.5715834571965074, 0.5847196736786601, 0.5919850220522962, 0.5824255130194963, 0.5925653301766182, 0.5872640519566383, 0.590992445661754, 0.5910137947217896, 0.5707322298304475, 0.5900521326644109, 0.5871795469223666, 0.5759926314814627, 0.5920250448922609, 0.5872578519295637, 0.5909125538103891, 0.5907047124928774, 0.5932047464702421, 0.5918342492982797, 0.59502336522629, 0.5964740345764522, 0.5932011451941989, 0.5, 0.5856611397739978, 0.5897870277873324, 0.5932837943147095, 0.5893310191499667, 0.5, 0.5925536899238307, 0.5995313233280717, 0.5971635533941994, 0.5985163353207156]}, {\"categories\": [\"0\", \"1\", \"2\", \"3\", \"4\", \"5\", \"6\", \"7\", \"8\", \"9\", \"10\", \"11\", \"12\", \"13\", \"14\", \"15\", \"16\", \"17\", \"18\", \"19\", \"20\", \"21\", \"22\", \"23\", \"24\", \"25\", \"26\", \"27\", \"28\", \"29\", \"30\", \"31\", \"32\", \"36\", \"37\"], \"mode\": \"lines\", \"name\": \"average_precision_score_macro_max\", \"stepped\": true, \"type\": \"scatter\", \"data\": [0.5648125926108533, 0.5955597537659437, 0.5955597537659437, 0.5955597537659437, 0.5955597537659437, 0.5955597537659437, 0.5955597537659437, 0.5955597537659437, 0.5955597537659437, 0.5955597537659437, 0.5955597537659437, 0.5955597537659437, 0.5955597537659437, 0.5955597537659437, 0.5955597537659437, 0.5955597537659437, 0.5955597537659437, 0.5955597537659437, 0.5955597537659437, 0.5955597537659437, 0.5955597537659437, 0.5955597537659437, 0.5955597537659437, 0.5964740345764522, 0.5964740345764522, 0.5964740345764522, 0.5964740345764522, 0.5964740345764522, 0.5964740345764522, 0.5964740345764522, 0.5964740345764522, 0.5964740345764522, 0.5995313233280717, 0.5995313233280717, 0.5995313233280717]}], \"AUC_weighted\": [{\"categories\": [\"0\", \"1\", \"2\", \"3\", \"4\", \"5\", \"6\", \"7\", \"8\", \"9\", \"10\", \"11\", \"12\", \"13\", \"14\", \"15\", \"16\", \"17\", \"18\", \"19\", \"20\", \"21\", \"22\", \"23\", \"24\", \"25\", \"26\", \"27\", \"28\", \"29\", \"30\", \"31\", \"32\", \"36\", \"37\"], \"mode\": \"markers\", \"name\": \"AUC_weighted\", \"stepped\": false, \"type\": \"scatter\", \"data\": [0.6272491257921979, 0.6719147375349594, 0.6732278388236225, 0.5530623690266273, 0.6472765639141117, 0.6662584685898014, 0.671743453289559, 0.6572858245329312, 0.6614153085049207, 0.6542660409683138, 0.6678340757101552, 0.6596995442574688, 0.645111481268013, 0.6553616917870211, 0.660650952455958, 0.6444444766239501, 0.6719932738974098, 0.6557061888220669, 0.6605641717887831, 0.6694813111443157, 0.6635359904140855, 0.6536551793063391, 0.6640193785079403, 0.663275823350025, 0.6735348158998852, 0.5, 0.6484442928055981, 0.6522645885072239, 0.6611001074195961, 0.6667393061664102, 0.5, 0.6605370850681852, 0.685746872663903, 0.6688927295197743, 0.6737022855207475]}, {\"categories\": [\"0\", \"1\", \"2\", \"3\", \"4\", \"5\", \"6\", \"7\", \"8\", \"9\", \"10\", \"11\", \"12\", \"13\", \"14\", \"15\", \"16\", \"17\", \"18\", \"19\", \"20\", \"21\", \"22\", \"23\", \"24\", \"25\", \"26\", \"27\", \"28\", \"29\", \"30\", \"31\", \"32\", \"36\", \"37\"], \"mode\": \"lines\", \"name\": \"AUC_weighted_max\", \"stepped\": true, \"type\": \"scatter\", \"data\": [0.6272491257921979, 0.6719147375349594, 0.6732278388236225, 0.6732278388236225, 0.6732278388236225, 0.6732278388236225, 0.6732278388236225, 0.6732278388236225, 0.6732278388236225, 0.6732278388236225, 0.6732278388236225, 0.6732278388236225, 0.6732278388236225, 0.6732278388236225, 0.6732278388236225, 0.6732278388236225, 0.6732278388236225, 0.6732278388236225, 0.6732278388236225, 0.6732278388236225, 0.6732278388236225, 0.6732278388236225, 0.6732278388236225, 0.6732278388236225, 0.6735348158998852, 0.6735348158998852, 0.6735348158998852, 0.6735348158998852, 0.6735348158998852, 0.6735348158998852, 0.6735348158998852, 0.6735348158998852, 0.685746872663903, 0.685746872663903, 0.685746872663903]}], \"f1_score_micro\": [{\"categories\": [\"0\", \"1\", \"2\", \"3\", \"4\", \"5\", \"6\", \"7\", \"8\", \"9\", \"10\", \"11\", \"12\", \"13\", \"14\", \"15\", \"16\", \"17\", \"18\", \"19\", \"20\", \"21\", \"22\", \"23\", \"24\", \"25\", \"26\", \"27\", \"28\", \"29\", \"30\", \"31\", \"32\", \"36\", \"37\"], \"mode\": \"markers\", \"name\": \"f1_score_micro\", \"stepped\": false, \"type\": \"scatter\", \"data\": [0.8320762315843352, 0.8471711290024969, 0.8481155819555264, 0.8481155819555264, 0.6691076295982645, 0.6686346523642355, 0.8405674659064329, 0.8391518709044092, 0.8481155819555264, 0.8481155819555264, 0.8481155819555264, 0.8481155819555264, 0.8226413784842239, 0.8469360584830093, 0.8481155819555264, 0.8481155819555264, 0.8431617502059577, 0.8481155819555264, 0.8474078678720162, 0.8431614165359514, 0.8464642490940025, 0.8481155819555264, 0.8450488209269821, 0.8481155819555264, 0.8457565350104922, 0.8481155819555264, 0.8429256786764512, 0.8455206303159888, 0.8481155819555264, 0.8481155819555264, 0.8481155819555264, 0.8455206303159889, 0.8481155819555264, 0.8481155819555264, 0.8346690143688315]}, {\"categories\": [\"0\", \"1\", \"2\", \"3\", \"4\", \"5\", \"6\", \"7\", \"8\", \"9\", \"10\", \"11\", \"12\", \"13\", \"14\", \"15\", \"16\", \"17\", \"18\", \"19\", \"20\", \"21\", \"22\", \"23\", \"24\", \"25\", \"26\", \"27\", \"28\", \"29\", \"30\", \"31\", \"32\", \"36\", \"37\"], \"mode\": \"lines\", \"name\": \"f1_score_micro_max\", \"stepped\": true, \"type\": \"scatter\", \"data\": [0.8320762315843352, 0.8471711290024969, 0.8481155819555264, 0.8481155819555264, 0.8481155819555264, 0.8481155819555264, 0.8481155819555264, 0.8481155819555264, 0.8481155819555264, 0.8481155819555264, 0.8481155819555264, 0.8481155819555264, 0.8481155819555264, 0.8481155819555264, 0.8481155819555264, 0.8481155819555264, 0.8481155819555264, 0.8481155819555264, 0.8481155819555264, 0.8481155819555264, 0.8481155819555264, 0.8481155819555264, 0.8481155819555264, 0.8481155819555264, 0.8481155819555264, 0.8481155819555264, 0.8481155819555264, 0.8481155819555264, 0.8481155819555264, 0.8481155819555264, 0.8481155819555264, 0.8481155819555264, 0.8481155819555264, 0.8481155819555264, 0.8481155819555264]}], \"log_loss\": [{\"categories\": [\"0\", \"1\", \"2\", \"3\", \"4\", \"5\", \"6\", \"7\", \"8\", \"9\", \"10\", \"11\", \"12\", \"13\", \"14\", \"15\", \"16\", \"17\", \"18\", \"19\", \"20\", \"21\", \"22\", \"23\", \"24\", \"25\", \"26\", \"27\", \"28\", \"29\", \"30\", \"31\", \"32\", \"36\", \"37\"], \"mode\": \"markers\", \"name\": \"log_loss\", \"stepped\": false, \"type\": \"scatter\", \"data\": [0.460055263397241, 0.4036267085056564, 0.4089093128905856, 0.42579243797307553, 0.686498328232143, 0.6642701137219146, 0.4075399751660805, 0.4116961187022851, 0.40601307268184034, 0.4093614307263511, 0.4045941977975948, 0.4074959697855534, 0.45757247334465984, 0.4074547691320831, 0.40733201637111893, 0.42597314274927345, 0.40443674396702395, 0.4072444527188736, 0.4054864501128354, 0.4048244424574344, 0.4048503542510087, 0.40811428536759503, 0.40457409931423766, 0.4058308943769575, 0.4027530723556711, 0.42661604845251255, 0.4106818586075665, 0.4080993511857291, 0.405097901307598, 0.408520422031419, 0.42646613062438865, 0.4056559704571053, 0.42441387720257917, 0.4137772065619543, 0.43473370263639666]}, {\"categories\": [\"0\", \"1\", \"2\", \"3\", \"4\", \"5\", \"6\", \"7\", \"8\", \"9\", \"10\", \"11\", \"12\", \"13\", \"14\", \"15\", \"16\", \"17\", \"18\", \"19\", \"20\", \"21\", \"22\", \"23\", \"24\", \"25\", \"26\", \"27\", \"28\", \"29\", \"30\", \"31\", \"32\", \"36\", \"37\"], \"mode\": \"lines\", \"name\": \"log_loss_min\", \"stepped\": true, \"type\": \"scatter\", \"data\": [0.460055263397241, 0.4036267085056564, 0.4036267085056564, 0.4036267085056564, 0.4036267085056564, 0.4036267085056564, 0.4036267085056564, 0.4036267085056564, 0.4036267085056564, 0.4036267085056564, 0.4036267085056564, 0.4036267085056564, 0.4036267085056564, 0.4036267085056564, 0.4036267085056564, 0.4036267085056564, 0.4036267085056564, 0.4036267085056564, 0.4036267085056564, 0.4036267085056564, 0.4036267085056564, 0.4036267085056564, 0.4036267085056564, 0.4036267085056564, 0.4027530723556711, 0.4027530723556711, 0.4027530723556711, 0.4027530723556711, 0.4027530723556711, 0.4027530723556711, 0.4027530723556711, 0.4027530723556711, 0.4027530723556711, 0.4027530723556711, 0.4027530723556711]}], \"norm_macro_recall\": [{\"categories\": [\"0\", \"1\", \"2\", \"3\", \"4\", \"5\", \"6\", \"7\", \"8\", \"9\", \"10\", \"11\", \"12\", \"13\", \"14\", \"15\", \"16\", \"17\", \"18\", \"19\", \"20\", \"21\", \"22\", \"23\", \"24\", \"25\", \"26\", \"27\", \"28\", \"29\", \"30\", \"31\", \"32\", \"36\", \"37\"], \"mode\": \"markers\", \"name\": \"norm_macro_recall\", \"stepped\": false, \"type\": \"scatter\", \"data\": [0.05168926676449496, 0.023808513086223115, 0.0, 0.0, 0.2418706235057718, 0.24100319499659792, 0.03241761791018664, 0.02588344727846348, 0.0, 0.0, 0.0, 0.0, 0.06044457999681726, 8.777145445789299e-05, 0.0, 0.0, 0.013550671916638576, 0.0, 0.0, 0.02247478364767937, 0.0, 0.0, 0.0013562105382372014, 0.0, 0.006427956934078753, 0.0, 0.007609624738088201, 0.001501501501501486, 0.0, 0.0, 0.0, 0.0013562105382372014, 0.0, 0.0, 0.016411846315014616]}, {\"categories\": [\"0\", \"1\", \"2\", \"3\", \"4\", \"5\", \"6\", \"7\", \"8\", \"9\", \"10\", \"11\", \"12\", \"13\", \"14\", \"15\", \"16\", \"17\", \"18\", \"19\", \"20\", \"21\", \"22\", \"23\", \"24\", \"25\", \"26\", \"27\", \"28\", \"29\", \"30\", \"31\", \"32\", \"36\", \"37\"], \"mode\": \"lines\", \"name\": \"norm_macro_recall_max\", \"stepped\": true, \"type\": \"scatter\", \"data\": [0.05168926676449496, 0.05168926676449496, 0.05168926676449496, 0.05168926676449496, 0.2418706235057718, 0.2418706235057718, 0.2418706235057718, 0.2418706235057718, 0.2418706235057718, 0.2418706235057718, 0.2418706235057718, 0.2418706235057718, 0.2418706235057718, 0.2418706235057718, 0.2418706235057718, 0.2418706235057718, 0.2418706235057718, 0.2418706235057718, 0.2418706235057718, 0.2418706235057718, 0.2418706235057718, 0.2418706235057718, 0.2418706235057718, 0.2418706235057718, 0.2418706235057718, 0.2418706235057718, 0.2418706235057718, 0.2418706235057718, 0.2418706235057718, 0.2418706235057718, 0.2418706235057718, 0.2418706235057718, 0.2418706235057718, 0.2418706235057718, 0.2418706235057718]}], \"average_precision_score_micro\": [{\"categories\": [\"0\", \"1\", \"2\", \"3\", \"4\", \"5\", \"6\", \"7\", \"8\", \"9\", \"10\", \"11\", \"12\", \"13\", \"14\", \"15\", \"16\", \"17\", \"18\", \"19\", \"20\", \"21\", \"22\", \"23\", \"24\", \"25\", \"26\", \"27\", \"28\", \"29\", \"30\", \"31\", \"32\", \"36\", \"37\"], \"mode\": \"markers\", \"name\": \"average_precision_score_micro\", \"stepped\": false, \"type\": \"scatter\", \"data\": [0.8592287392735471, 0.8779004009511157, 0.8802283182932124, 0.8245140904647675, 0.6501054679754344, 0.6899876754867281, 0.8770033013455004, 0.8725567696302305, 0.8746042050696318, 0.8697700889717481, 0.8773028578546258, 0.8732542124918478, 0.8632161023610498, 0.8721259472651814, 0.8769492522189374, 0.8683182667394478, 0.8778115899293802, 0.8698472081849179, 0.8745565783326062, 0.8779226990633434, 0.8764534486293091, 0.8694621512554104, 0.8743418822494678, 0.8753015410401607, 0.8795310653411051, 0.7953631303377638, 0.8678994097806987, 0.8713137357765315, 0.874282641109021, 0.8787168515009675, 0.7953631303377638, 0.8724354597884579, 0.8857622702779602, 0.8788004640502171, 0.8773428428433222]}, {\"categories\": [\"0\", \"1\", \"2\", \"3\", \"4\", \"5\", \"6\", \"7\", \"8\", \"9\", \"10\", \"11\", \"12\", \"13\", \"14\", \"15\", \"16\", \"17\", \"18\", \"19\", \"20\", \"21\", \"22\", \"23\", \"24\", \"25\", \"26\", \"27\", \"28\", \"29\", \"30\", \"31\", \"32\", \"36\", \"37\"], \"mode\": \"lines\", \"name\": \"average_precision_score_micro_max\", \"stepped\": true, \"type\": \"scatter\", \"data\": [0.8592287392735471, 0.8779004009511157, 0.8802283182932124, 0.8802283182932124, 0.8802283182932124, 0.8802283182932124, 0.8802283182932124, 0.8802283182932124, 0.8802283182932124, 0.8802283182932124, 0.8802283182932124, 0.8802283182932124, 0.8802283182932124, 0.8802283182932124, 0.8802283182932124, 0.8802283182932124, 0.8802283182932124, 0.8802283182932124, 0.8802283182932124, 0.8802283182932124, 0.8802283182932124, 0.8802283182932124, 0.8802283182932124, 0.8802283182932124, 0.8802283182932124, 0.8802283182932124, 0.8802283182932124, 0.8802283182932124, 0.8802283182932124, 0.8802283182932124, 0.8802283182932124, 0.8802283182932124, 0.8857622702779602, 0.8857622702779602, 0.8857622702779602]}], \"matthews_correlation\": [{\"categories\": [\"0\", \"1\", \"2\", \"3\", \"4\", \"5\", \"6\", \"7\", \"8\", \"9\", \"10\", \"11\", \"12\", \"13\", \"14\", \"15\", \"16\", \"17\", \"18\", \"19\", \"20\", \"21\", \"22\", \"23\", \"24\", \"25\", \"26\", \"27\", \"28\", \"29\", \"30\", \"31\", \"32\", \"36\", \"37\"], \"mode\": \"markers\", \"name\": \"matthews_correlation\", \"stepped\": false, \"type\": \"scatter\", \"data\": [0.09364822094370161, 0.0918049936561393, 0.0, 0.0, 0.18384753484511407, 0.18210110962866677, 0.08167679018666187, 0.07110634509173232, 0.0, 0.0, 0.0, 0.0, 0.093267036292357, 0.0004293091892999161, 0.0, 0.0, 0.05382464270260497, 0.0, -0.006115451911599919, 0.07343197524303717, -0.001979978056024807, 0.0, -0.0011462729481474417, 0.0, 0.04209226736099909, 0.0, 0.030409787345011454, 0.019342814233086914, 0.0, 0.0, 0.0, 0.004271874787898634, 0.0, 0.0, 0.021877032243657196]}, {\"categories\": [\"0\", \"1\", \"2\", \"3\", \"4\", \"5\", \"6\", \"7\", \"8\", \"9\", \"10\", \"11\", \"12\", \"13\", \"14\", \"15\", \"16\", \"17\", \"18\", \"19\", \"20\", \"21\", \"22\", \"23\", \"24\", \"25\", \"26\", \"27\", \"28\", \"29\", \"30\", \"31\", \"32\", \"36\", \"37\"], \"mode\": \"lines\", \"name\": \"matthews_correlation_max\", \"stepped\": true, \"type\": \"scatter\", \"data\": [0.09364822094370161, 0.09364822094370161, 0.09364822094370161, 0.09364822094370161, 0.18384753484511407, 0.18384753484511407, 0.18384753484511407, 0.18384753484511407, 0.18384753484511407, 0.18384753484511407, 0.18384753484511407, 0.18384753484511407, 0.18384753484511407, 0.18384753484511407, 0.18384753484511407, 0.18384753484511407, 0.18384753484511407, 0.18384753484511407, 0.18384753484511407, 0.18384753484511407, 0.18384753484511407, 0.18384753484511407, 0.18384753484511407, 0.18384753484511407, 0.18384753484511407, 0.18384753484511407, 0.18384753484511407, 0.18384753484511407, 0.18384753484511407, 0.18384753484511407, 0.18384753484511407, 0.18384753484511407, 0.18384753484511407, 0.18384753484511407, 0.18384753484511407]}], \"AUC_micro\": [{\"categories\": [\"0\", \"1\", \"2\", \"3\", \"4\", \"5\", \"6\", \"7\", \"8\", \"9\", \"10\", \"11\", \"12\", \"13\", \"14\", \"15\", \"16\", \"17\", \"18\", \"19\", \"20\", \"21\", \"22\", \"23\", \"24\", \"25\", \"26\", \"27\", \"28\", \"29\", \"30\", \"31\", \"32\", \"36\", \"37\"], \"mode\": \"markers\", \"name\": \"AUC_micro\", \"stepped\": false, \"type\": \"scatter\", \"data\": [0.8779753656837449, 0.8925347722983045, 0.8929572801905002, 0.8618157739838009, 0.6761842934720951, 0.7101497965397355, 0.8917851935362444, 0.8878390399695175, 0.8900729296482753, 0.8882616180896118, 0.8916611590867526, 0.8896688814901125, 0.879075743307015, 0.8884870104059216, 0.8898664348383941, 0.8858045029439569, 0.8923522981942525, 0.8885991587289782, 0.8898453538408196, 0.8916291443445129, 0.8906492660617338, 0.8881681140992539, 0.8906974884716293, 0.890542778563208, 0.8929385614402028, 0.8481155819555265, 0.8864983101726759, 0.887608926817701, 0.8900925944072385, 0.8914922237024704, 0.8481155819555265, 0.8897900489971167, 0.8962045914976088, 0.8920640550386864, 0.8895539627729713]}, {\"categories\": [\"0\", \"1\", \"2\", \"3\", \"4\", \"5\", \"6\", \"7\", \"8\", \"9\", \"10\", \"11\", \"12\", \"13\", \"14\", \"15\", \"16\", \"17\", \"18\", \"19\", \"20\", \"21\", \"22\", \"23\", \"24\", \"25\", \"26\", \"27\", \"28\", \"29\", \"30\", \"31\", \"32\", \"36\", \"37\"], \"mode\": \"lines\", \"name\": \"AUC_micro_max\", \"stepped\": true, \"type\": \"scatter\", \"data\": [0.8779753656837449, 0.8925347722983045, 0.8929572801905002, 0.8929572801905002, 0.8929572801905002, 0.8929572801905002, 0.8929572801905002, 0.8929572801905002, 0.8929572801905002, 0.8929572801905002, 0.8929572801905002, 0.8929572801905002, 0.8929572801905002, 0.8929572801905002, 0.8929572801905002, 0.8929572801905002, 0.8929572801905002, 0.8929572801905002, 0.8929572801905002, 0.8929572801905002, 0.8929572801905002, 0.8929572801905002, 0.8929572801905002, 0.8929572801905002, 0.8929572801905002, 0.8929572801905002, 0.8929572801905002, 0.8929572801905002, 0.8929572801905002, 0.8929572801905002, 0.8929572801905002, 0.8929572801905002, 0.8962045914976088, 0.8962045914976088, 0.8962045914976088]}], \"balanced_accuracy\": [{\"categories\": [\"0\", \"1\", \"2\", \"3\", \"4\", \"5\", \"6\", \"7\", \"8\", \"9\", \"10\", \"11\", \"12\", \"13\", \"14\", \"15\", \"16\", \"17\", \"18\", \"19\", \"20\", \"21\", \"22\", \"23\", \"24\", \"25\", \"26\", \"27\", \"28\", \"29\", \"30\", \"31\", \"32\", \"36\", \"37\"], \"mode\": \"markers\", \"name\": \"balanced_accuracy\", \"stepped\": false, \"type\": \"scatter\", \"data\": [0.5258446333822475, 0.5119042565431116, 0.5, 0.5, 0.6209353117528859, 0.6205015974982989, 0.5162088089550934, 0.5129417236392317, 0.5, 0.5, 0.5, 0.5, 0.5302222899984087, 0.500043885727229, 0.5, 0.5, 0.5067753359583193, 0.5, 0.49959016393442623, 0.5112373918238396, 0.49977066168351314, 0.5, 0.5003982284149345, 0.5, 0.5032139784670394, 0.5, 0.5035705192123862, 0.5005652981614929, 0.5, 0.5, 0.5, 0.5006781052691186, 0.5, 0.5, 0.5082059231575072]}, {\"categories\": [\"0\", \"1\", \"2\", \"3\", \"4\", \"5\", \"6\", \"7\", \"8\", \"9\", \"10\", \"11\", \"12\", \"13\", \"14\", \"15\", \"16\", \"17\", \"18\", \"19\", \"20\", \"21\", \"22\", \"23\", \"24\", \"25\", \"26\", \"27\", \"28\", \"29\", \"30\", \"31\", \"32\", \"36\", \"37\"], \"mode\": \"lines\", \"name\": \"balanced_accuracy_max\", \"stepped\": true, \"type\": \"scatter\", \"data\": [0.5258446333822475, 0.5258446333822475, 0.5258446333822475, 0.5258446333822475, 0.6209353117528859, 0.6209353117528859, 0.6209353117528859, 0.6209353117528859, 0.6209353117528859, 0.6209353117528859, 0.6209353117528859, 0.6209353117528859, 0.6209353117528859, 0.6209353117528859, 0.6209353117528859, 0.6209353117528859, 0.6209353117528859, 0.6209353117528859, 0.6209353117528859, 0.6209353117528859, 0.6209353117528859, 0.6209353117528859, 0.6209353117528859, 0.6209353117528859, 0.6209353117528859, 0.6209353117528859, 0.6209353117528859, 0.6209353117528859, 0.6209353117528859, 0.6209353117528859, 0.6209353117528859, 0.6209353117528859, 0.6209353117528859, 0.6209353117528859, 0.6209353117528859]}], \"accuracy\": [{\"categories\": [\"0\", \"1\", \"2\", \"3\", \"4\", \"5\", \"6\", \"7\", \"8\", \"9\", \"10\", \"11\", \"12\", \"13\", \"14\", \"15\", \"16\", \"17\", \"18\", \"19\", \"20\", \"21\", \"22\", \"23\", \"24\", \"25\", \"26\", \"27\", \"28\", \"29\", \"30\", \"31\", \"32\", \"36\", \"37\"], \"mode\": \"markers\", \"name\": \"accuracy\", \"stepped\": false, \"type\": \"scatter\", \"data\": [0.8320762315843352, 0.8471711290024969, 0.8481155819555264, 0.8481155819555264, 0.6691076295982645, 0.6686346523642355, 0.8405674659064329, 0.8391518709044092, 0.8481155819555264, 0.8481155819555264, 0.8481155819555264, 0.8481155819555264, 0.8226413784842239, 0.8469360584830093, 0.8481155819555264, 0.8481155819555264, 0.8431617502059577, 0.8481155819555264, 0.8474078678720162, 0.8431614165359514, 0.8464642490940025, 0.8481155819555264, 0.8450488209269821, 0.8481155819555264, 0.8457565350104922, 0.8481155819555264, 0.8429256786764512, 0.8455206303159888, 0.8481155819555264, 0.8481155819555264, 0.8481155819555264, 0.8455206303159889, 0.8481155819555264, 0.8481155819555264, 0.8346690143688315]}, {\"categories\": [\"0\", \"1\", \"2\", \"3\", \"4\", \"5\", \"6\", \"7\", \"8\", \"9\", \"10\", \"11\", \"12\", \"13\", \"14\", \"15\", \"16\", \"17\", \"18\", \"19\", \"20\", \"21\", \"22\", \"23\", \"24\", \"25\", \"26\", \"27\", \"28\", \"29\", \"30\", \"31\", \"32\", \"36\", \"37\"], \"mode\": \"lines\", \"name\": \"accuracy_max\", \"stepped\": true, \"type\": \"scatter\", \"data\": [0.8320762315843352, 0.8471711290024969, 0.8481155819555264, 0.8481155819555264, 0.8481155819555264, 0.8481155819555264, 0.8481155819555264, 0.8481155819555264, 0.8481155819555264, 0.8481155819555264, 0.8481155819555264, 0.8481155819555264, 0.8481155819555264, 0.8481155819555264, 0.8481155819555264, 0.8481155819555264, 0.8481155819555264, 0.8481155819555264, 0.8481155819555264, 0.8481155819555264, 0.8481155819555264, 0.8481155819555264, 0.8481155819555264, 0.8481155819555264, 0.8481155819555264, 0.8481155819555264, 0.8481155819555264, 0.8481155819555264, 0.8481155819555264, 0.8481155819555264, 0.8481155819555264, 0.8481155819555264, 0.8481155819555264, 0.8481155819555264, 0.8481155819555264]}]}, \"metricName\": null, \"primaryMetricName\": \"accuracy\", \"showLegend\": false}, \"run_metrics\": [{\"name\": \"experiment_status\", \"run_id\": \"AutoML_8006dbaa-28c8-4fdd-99a5-e4e0ab4fd2c7\", \"categories\": [0, 1, 2, 3, 4, 5, 6, 7, 8, 9, 10, 11, 12, 13, 14], \"series\": [{\"data\": [\"DatasetEvaluation\", \"FeaturesGeneration\", \"DatasetFeaturization\", \"DatasetFeaturizationCompleted\", \"DatasetBalancing\", \"DatasetCrossValidationSplit\", \"ModelSelection\", \"BestRunExplainModel\", \"ModelExplanationDataSetSetup\", \"PickSurrogateModel\", \"EngineeredFeatureExplanations\", \"EngineeredFeatureExplanations\", \"RawFeaturesExplanations\", \"RawFeaturesExplanations\", \"BestRunExplainModel\"]}]}, {\"name\": \"experiment_status_description\", \"run_id\": \"AutoML_8006dbaa-28c8-4fdd-99a5-e4e0ab4fd2c7\", \"categories\": [0, 1, 2, 3, 4, 5, 6, 7, 8, 9, 10, 11, 12, 13, 14], \"series\": [{\"data\": [\"Gathering dataset statistics.\", \"Generating features for the dataset.\", \"Beginning to fit featurizers and featurize the dataset.\", \"Completed fit featurizers and featurizing the dataset.\", \"Performing class balancing sweeping\", \"Generating individually featurized CV splits.\", \"Beginning model selection.\", \"Best run model explanations started\", \"Model explanations data setup completed\", \"Choosing LinearModel as the surrogate model for explanations\", \"Computation of engineered features started\", \"Computation of engineered features completed\", \"Computation of raw features started\", \"Computation of raw features completed\", \"Best run model explanations completed\"]}]}, {\"name\": \"weighted_accuracy\", \"run_id\": \"AutoML_8006dbaa-28c8-4fdd-99a5-e4e0ab4fd2c7\", \"categories\": [0], \"series\": [{\"data\": [0.9686688438245291]}]}, {\"name\": \"norm_macro_recall\", \"run_id\": \"AutoML_8006dbaa-28c8-4fdd-99a5-e4e0ab4fd2c7\", \"categories\": [0], \"series\": [{\"data\": [0.0]}]}, {\"name\": \"precision_score_weighted\", \"run_id\": \"AutoML_8006dbaa-28c8-4fdd-99a5-e4e0ab4fd2c7\", \"categories\": [0], \"series\": [{\"data\": [0.719420921315527]}]}, {\"name\": \"f1_score_micro\", \"run_id\": \"AutoML_8006dbaa-28c8-4fdd-99a5-e4e0ab4fd2c7\", \"categories\": [0], \"series\": [{\"data\": [0.8481155819555264]}]}, {\"name\": \"precision_score_macro\", \"run_id\": \"AutoML_8006dbaa-28c8-4fdd-99a5-e4e0ab4fd2c7\", \"categories\": [0], \"series\": [{\"data\": [0.4240577909777632]}]}, {\"name\": \"f1_score_macro\", \"run_id\": \"AutoML_8006dbaa-28c8-4fdd-99a5-e4e0ab4fd2c7\", \"categories\": [0], \"series\": [{\"data\": [0.4588892190256147]}]}, {\"name\": \"recall_score_macro\", \"run_id\": \"AutoML_8006dbaa-28c8-4fdd-99a5-e4e0ab4fd2c7\", \"categories\": [0], \"series\": [{\"data\": [0.5]}]}, {\"name\": \"AUC_macro\", \"run_id\": \"AutoML_8006dbaa-28c8-4fdd-99a5-e4e0ab4fd2c7\", \"categories\": [0], \"series\": [{\"data\": [0.5530623690266273]}]}, {\"name\": \"recall_score_weighted\", \"run_id\": \"AutoML_8006dbaa-28c8-4fdd-99a5-e4e0ab4fd2c7\", \"categories\": [0], \"series\": [{\"data\": [0.8481155819555264]}]}, {\"name\": \"balanced_accuracy\", \"run_id\": \"AutoML_8006dbaa-28c8-4fdd-99a5-e4e0ab4fd2c7\", \"categories\": [0], \"series\": [{\"data\": [0.5]}]}, {\"name\": \"average_precision_score_weighted\", \"run_id\": \"AutoML_8006dbaa-28c8-4fdd-99a5-e4e0ab4fd2c7\", \"categories\": [0], \"series\": [{\"data\": [0.7603432512493496]}]}, {\"name\": \"precision_score_micro\", \"run_id\": \"AutoML_8006dbaa-28c8-4fdd-99a5-e4e0ab4fd2c7\", \"categories\": [0], \"series\": [{\"data\": [0.8481155819555264]}]}, {\"name\": \"accuracy\", \"run_id\": \"AutoML_8006dbaa-28c8-4fdd-99a5-e4e0ab4fd2c7\", \"categories\": [0], \"series\": [{\"data\": [0.8481155819555264]}]}, {\"name\": \"average_precision_score_macro\", \"run_id\": \"AutoML_8006dbaa-28c8-4fdd-99a5-e4e0ab4fd2c7\", \"categories\": [0], \"series\": [{\"data\": [0.5177504412288176]}]}, {\"name\": \"AUC_micro\", \"run_id\": \"AutoML_8006dbaa-28c8-4fdd-99a5-e4e0ab4fd2c7\", \"categories\": [0], \"series\": [{\"data\": [0.8618157739838009]}]}, {\"name\": \"f1_score_weighted\", \"run_id\": \"AutoML_8006dbaa-28c8-4fdd-99a5-e4e0ab4fd2c7\", \"categories\": [0], \"series\": [{\"data\": [0.7784527258598235]}]}, {\"name\": \"recall_score_micro\", \"run_id\": \"AutoML_8006dbaa-28c8-4fdd-99a5-e4e0ab4fd2c7\", \"categories\": [0], \"series\": [{\"data\": [0.8481155819555264]}]}, {\"name\": \"AUC_weighted\", \"run_id\": \"AutoML_8006dbaa-28c8-4fdd-99a5-e4e0ab4fd2c7\", \"categories\": [0], \"series\": [{\"data\": [0.5530623690266273]}]}, {\"name\": \"log_loss\", \"run_id\": \"AutoML_8006dbaa-28c8-4fdd-99a5-e4e0ab4fd2c7\", \"categories\": [0], \"series\": [{\"data\": [0.42579243797307553]}]}, {\"name\": \"matthews_correlation\", \"run_id\": \"AutoML_8006dbaa-28c8-4fdd-99a5-e4e0ab4fd2c7\", \"categories\": [0], \"series\": [{\"data\": [0.0]}]}, {\"name\": \"average_precision_score_micro\", \"run_id\": \"AutoML_8006dbaa-28c8-4fdd-99a5-e4e0ab4fd2c7\", \"categories\": [0], \"series\": [{\"data\": [0.8245140904647675]}]}], \"run_logs\": \"\\nRun is completed.\", \"graph\": {}, \"widget_settings\": {\"childWidgetDisplay\": \"popup\", \"send_telemetry\": false, \"log_level\": \"INFO\", \"sdk_version\": \"1.24.0\"}, \"loading\": false}"
          },
          "metadata": {}
        }
      ],
      "execution_count": 11,
      "metadata": {
        "gather": {
          "logged": 1617449214365
        },
        "jupyter": {
          "outputs_hidden": false,
          "source_hidden": false
        },
        "nteract": {
          "transient": {
            "deleting": false
          }
        }
      }
    },
    {
      "cell_type": "code",
      "source": [
        "remote_run.wait_for_completion(show_output=True)"
      ],
      "outputs": [
        {
          "output_type": "stream",
          "name": "stdout",
          "text": [
            "\n",
            "\n",
            "****************************************************************************************************\n",
            "DATA GUARDRAILS: \n",
            "\n",
            "TYPE:         Cross validation\n",
            "STATUS:       DONE\n",
            "DESCRIPTION:  Each iteration of the trained model was validated through cross-validation.\n",
            "              \n",
            "DETAILS:      \n",
            "+---------------------------------+\n",
            "|Number of folds                  |\n",
            "+=================================+\n",
            "|3                                |\n",
            "+---------------------------------+\n",
            "\n",
            "****************************************************************************************************\n",
            "\n",
            "TYPE:         Class balancing detection\n",
            "STATUS:       ALERTED\n",
            "DESCRIPTION:  To decrease model bias, please cancel the current run and fix balancing problem.\n",
            "              Learn more about imbalanced data: https://aka.ms/AutomatedMLImbalancedData\n",
            "DETAILS:      Imbalanced data can lead to a falsely perceived positive effect of a model's accuracy because the input data has bias towards one class.\n",
            "+---------------------------------+---------------------------------+--------------------------------------+\n",
            "|Size of the smallest class       |Name/Label of the smallest class |Number of samples in the training data|\n",
            "+=================================+=================================+======================================+\n",
            "|644                              |1                                |4240                                  |\n",
            "+---------------------------------+---------------------------------+--------------------------------------+\n",
            "\n",
            "****************************************************************************************************\n",
            "\n",
            "TYPE:         Missing feature values imputation\n",
            "STATUS:       DONE\n",
            "DESCRIPTION:  If the missing values are expected, let the run complete. Otherwise cancel the current run and use a script to customize the handling of missing feature values that may be more appropriate based on the data type and business requirement.\n",
            "              Learn more about missing value imputation: https://aka.ms/AutomatedMLFeaturization\n",
            "DETAILS:      \n",
            "+---------------------------------+---------------------------------+---------------------------------+\n",
            "|Column name                      |Missing value count              |Imputation type                  |\n",
            "+=================================+=================================+=================================+\n",
            "|heartRate                        |1                                |mean                             |\n",
            "+---------------------------------+---------------------------------+---------------------------------+\n",
            "\n",
            "****************************************************************************************************\n",
            "\n",
            "TYPE:         High cardinality feature detection\n",
            "STATUS:       DONE\n",
            "DESCRIPTION:  High cardinality features were detected in your inputs and handled.\n",
            "              Learn more about high cardinality feature handling: https://aka.ms/AutomatedMLFeaturization\n",
            "DETAILS:      High cardinality features refer to columns that contain a large percentage of unique values.\n",
            "+---------------------------------+---------------------------------+\n",
            "|Column name                      |Column Content Type              |\n",
            "+=================================+=================================+\n",
            "|totChol                          |categorical_hash                 |\n",
            "|BMI                              |categorical_hash                 |\n",
            "+---------------------------------+---------------------------------+\n",
            "\n",
            "****************************************************************************************************\n",
            "\n",
            "****************************************************************************************************\n",
            "ITERATION: The iteration being evaluated.\n",
            "PIPELINE: A summary description of the pipeline being evaluated.\n",
            "DURATION: Time taken for the current iteration.\n",
            "METRIC: The result of computing score on the fitted pipeline.\n",
            "BEST: The best observed score thus far.\n",
            "****************************************************************************************************\n",
            "\n",
            " ITERATION   PIPELINE                                       DURATION      METRIC      BEST\n",
            "         0   MaxAbsScaler LightGBM                          0:03:06       0.8321    0.8321\n",
            "         1   MaxAbsScaler XGBoostClassifier                 0:00:46       0.8472    0.8472\n",
            "         2   MaxAbsScaler RandomForest                      0:00:40       0.8481    0.8481\n",
            "         3   MaxAbsScaler RandomForest                      0:03:12       0.8481    0.8481\n",
            "         4   MaxAbsScaler RandomForest                      0:00:45       0.6691    0.8481\n",
            "         5   MaxAbsScaler RandomForest                      0:00:45       0.6686    0.8481\n",
            "         6   SparseNormalizer XGBoostClassifier             0:00:44       0.8406    0.8481\n",
            "         7   SparseNormalizer XGBoostClassifier             0:00:43       0.8392    0.8481\n",
            "        10   StandardScalerWrapper RandomForest             0:00:42       0.8481    0.8481\n",
            "        11   MaxAbsScaler RandomForest                      0:00:46       0.8481    0.8481\n",
            "         8   MaxAbsScaler LightGBM                          0:00:42       0.8481    0.8481\n",
            "         9   MaxAbsScaler RandomForest                      0:00:40       0.8481    0.8481\n",
            "        12   MaxAbsScaler LogisticRegression                0:00:40       0.8226    0.8481\n",
            "        13   MaxAbsScaler LightGBM                          0:00:44       0.8469    0.8481\n",
            "        14   MaxAbsScaler ExtremeRandomTrees                0:00:57       0.8481    0.8481\n",
            "        15   StandardScalerWrapper RandomForest             0:00:50       0.8481    0.8481\n",
            "        16   SparseNormalizer XGBoostClassifier             0:00:43       0.8432    0.8481\n",
            "        17   StandardScalerWrapper LightGBM                 0:00:36       0.8481    0.8481\n",
            "        18   MaxAbsScaler LightGBM                          0:00:41       0.8474    0.8481\n",
            "        19   SparseNormalizer XGBoostClassifier             0:00:43       0.8432    0.8481\n",
            "        20   StandardScalerWrapper LightGBM                 0:00:42       0.8465    0.8481\n",
            "        21   SparseNormalizer LightGBM                      0:00:41       0.8481    0.8481\n",
            "        22   SparseNormalizer LightGBM                      0:00:48       0.8450    0.8481\n",
            "        23   MaxAbsScaler LightGBM                          0:00:43       0.8481    0.8481\n",
            "        24   SparseNormalizer XGBoostClassifier             0:00:44       0.8458    0.8481\n",
            "        25   StandardScalerWrapper RandomForest             0:00:43       0.8481    0.8481\n",
            "        26   MaxAbsScaler LightGBM                          0:00:43       0.8429    0.8481\n",
            "        27   StandardScalerWrapper LightGBM                 0:00:43       0.8455    0.8481\n",
            "        28   SparseNormalizer LightGBM                      0:00:49       0.8481    0.8481\n",
            "        29   MaxAbsScaler ExtremeRandomTrees                0:00:53       0.8481    0.8481\n",
            "        30   MaxAbsScaler RandomForest                      0:00:48       0.8481    0.8481\n",
            "        31   MaxAbsScaler LightGBM                          0:00:41       0.8455    0.8481\n",
            "        32   StandardScalerWrapper RandomForest             0:00:46       0.8481    0.8481\n",
            "        33                                                  0:00:17          nan    0.8481\n",
            "        34                                                  0:00:08          nan    0.8481\n",
            "        35                                                  0:00:08          nan    0.8481\n",
            "        36    VotingEnsemble                                0:01:10       0.8481    0.8481\n",
            "        37    StackEnsemble                                 0:01:14       0.8347    0.8481\n"
          ]
        },
        {
          "output_type": "execute_result",
          "execution_count": 12,
          "data": {
            "text/plain": "{'runId': 'AutoML_8006dbaa-28c8-4fdd-99a5-e4e0ab4fd2c7',\n 'target': 'Compute-Cluster',\n 'status': 'Completed',\n 'startTimeUtc': '2021-04-03T11:01:41.585304Z',\n 'endTimeUtc': '2021-04-03T11:26:43.459079Z',\n 'properties': {'num_iterations': '1000',\n  'training_type': 'TrainFull',\n  'acquisition_function': 'EI',\n  'primary_metric': 'accuracy',\n  'train_split': '0',\n  'acquisition_parameter': '0',\n  'num_cross_validation': None,\n  'target': 'Compute-Cluster',\n  'AMLSettingsJsonString': '{\"path\":null,\"name\":\"Framingham-Experiment\",\"subscription_id\":\"610d6e37-4747-4a20-80eb-3aad70a55f43\",\"resource_group\":\"aml-quickstarts-141869\",\"workspace_name\":\"quick-starts-ws-141869\",\"region\":\"southcentralus\",\"compute_target\":\"Compute-Cluster\",\"spark_service\":null,\"azure_service\":\"remote\",\"many_models\":false,\"pipeline_fetch_max_batch_size\":1,\"enable_batch_run\":false,\"iterations\":1000,\"primary_metric\":\"accuracy\",\"task_type\":\"classification\",\"data_script\":null,\"validation_size\":0.0,\"n_cross_validations\":null,\"y_min\":null,\"y_max\":null,\"num_classes\":null,\"featurization\":\"auto\",\"_ignore_package_version_incompatibilities\":false,\"is_timeseries\":false,\"max_cores_per_iteration\":1,\"max_concurrent_iterations\":4,\"iteration_timeout_minutes\":null,\"mem_in_mb\":null,\"enforce_time_on_windows\":false,\"experiment_timeout_minutes\":30,\"experiment_exit_score\":null,\"whitelist_models\":null,\"blacklist_algos\":[\"TensorFlowLinearClassifier\",\"TensorFlowDNN\"],\"supported_models\":[\"TensorFlowDNN\",\"LinearSVM\",\"TensorFlowLinearClassifier\",\"AveragedPerceptronClassifier\",\"RandomForest\",\"DecisionTree\",\"GradientBoosting\",\"ExtremeRandomTrees\",\"BernoulliNaiveBayes\",\"SVM\",\"MultinomialNaiveBayes\",\"XGBoostClassifier\",\"KNN\",\"LogisticRegression\",\"LightGBM\",\"SGD\"],\"private_models\":[],\"auto_blacklist\":true,\"blacklist_samples_reached\":false,\"exclude_nan_labels\":true,\"verbosity\":20,\"_debug_log\":\"azureml_automl.log\",\"show_warnings\":false,\"model_explainability\":true,\"service_url\":null,\"sdk_url\":null,\"sdk_packages\":null,\"enable_onnx_compatible_models\":false,\"enable_split_onnx_featurizer_estimator_models\":false,\"vm_type\":\"STANDARD_D2_V2\",\"telemetry_verbosity\":20,\"send_telemetry\":true,\"enable_dnn\":false,\"scenario\":\"SDK-1.13.0\",\"environment_label\":null,\"save_mlflow\":false,\"force_text_dnn\":false,\"enable_feature_sweeping\":true,\"enable_early_stopping\":true,\"early_stopping_n_iters\":10,\"metrics\":null,\"enable_metric_confidence\":false,\"enable_ensembling\":true,\"enable_stack_ensembling\":true,\"ensemble_iterations\":15,\"enable_tf\":false,\"enable_subsampling\":null,\"subsample_seed\":null,\"enable_nimbusml\":false,\"enable_streaming\":false,\"force_streaming\":false,\"track_child_runs\":true,\"allowed_private_models\":[],\"label_column_name\":\"TenYearCHD\",\"weight_column_name\":null,\"cv_split_column_names\":null,\"enable_local_managed\":false,\"_local_managed_run_id\":null,\"cost_mode\":1,\"lag_length\":0,\"metric_operation\":\"maximize\",\"preprocess\":true}',\n  'DataPrepJsonString': '{\\\\\"training_data\\\\\": \\\\\"{\\\\\\\\\\\\\"blocks\\\\\\\\\\\\\": [{\\\\\\\\\\\\\"id\\\\\\\\\\\\\": \\\\\\\\\\\\\"24905f1d-6ae8-4311-945e-631b70e8d803\\\\\\\\\\\\\", \\\\\\\\\\\\\"type\\\\\\\\\\\\\": \\\\\\\\\\\\\"Microsoft.DPrep.GetFilesBlock\\\\\\\\\\\\\", \\\\\\\\\\\\\"arguments\\\\\\\\\\\\\": {\\\\\\\\\\\\\"isArchive\\\\\\\\\\\\\": false, \\\\\\\\\\\\\"path\\\\\\\\\\\\\": {\\\\\\\\\\\\\"target\\\\\\\\\\\\\": 4, \\\\\\\\\\\\\"resourceDetails\\\\\\\\\\\\\": [{\\\\\\\\\\\\\"path\\\\\\\\\\\\\": \\\\\\\\\\\\\"https://raw.githubusercontent.com/Haris-09/Coronary-Heart-Disease-Prediction-Capstone-Project/master/starter_file/framingham.csv\\\\\\\\\\\\\"}]}}, \\\\\\\\\\\\\"localData\\\\\\\\\\\\\": {}, \\\\\\\\\\\\\"isEnabled\\\\\\\\\\\\\": true, \\\\\\\\\\\\\"name\\\\\\\\\\\\\": null, \\\\\\\\\\\\\"annotation\\\\\\\\\\\\\": null}, {\\\\\\\\\\\\\"id\\\\\\\\\\\\\": \\\\\\\\\\\\\"81e7e3aa-db41-45b2-944e-e51aa6be5189\\\\\\\\\\\\\", \\\\\\\\\\\\\"type\\\\\\\\\\\\\": \\\\\\\\\\\\\"Microsoft.DPrep.ParseDelimitedBlock\\\\\\\\\\\\\", \\\\\\\\\\\\\"arguments\\\\\\\\\\\\\": {\\\\\\\\\\\\\"columnHeadersMode\\\\\\\\\\\\\": 3, \\\\\\\\\\\\\"fileEncoding\\\\\\\\\\\\\": 0, \\\\\\\\\\\\\"handleQuotedLineBreaks\\\\\\\\\\\\\": false, \\\\\\\\\\\\\"preview\\\\\\\\\\\\\": false, \\\\\\\\\\\\\"separator\\\\\\\\\\\\\": \\\\\\\\\\\\\",\\\\\\\\\\\\\", \\\\\\\\\\\\\"skipRows\\\\\\\\\\\\\": 0, \\\\\\\\\\\\\"skipRowsMode\\\\\\\\\\\\\": 0}, \\\\\\\\\\\\\"localData\\\\\\\\\\\\\": {}, \\\\\\\\\\\\\"isEnabled\\\\\\\\\\\\\": true, \\\\\\\\\\\\\"name\\\\\\\\\\\\\": null, \\\\\\\\\\\\\"annotation\\\\\\\\\\\\\": null}, {\\\\\\\\\\\\\"id\\\\\\\\\\\\\": \\\\\\\\\\\\\"fc89b376-a3fd-4b97-934c-1ef4606100c7\\\\\\\\\\\\\", \\\\\\\\\\\\\"type\\\\\\\\\\\\\": \\\\\\\\\\\\\"Microsoft.DPrep.DropColumnsBlock\\\\\\\\\\\\\", \\\\\\\\\\\\\"arguments\\\\\\\\\\\\\": {\\\\\\\\\\\\\"columns\\\\\\\\\\\\\": {\\\\\\\\\\\\\"type\\\\\\\\\\\\\": 0, \\\\\\\\\\\\\"details\\\\\\\\\\\\\": {\\\\\\\\\\\\\"selectedColumns\\\\\\\\\\\\\": [\\\\\\\\\\\\\"Path\\\\\\\\\\\\\"]}}}, \\\\\\\\\\\\\"localData\\\\\\\\\\\\\": {}, \\\\\\\\\\\\\"isEnabled\\\\\\\\\\\\\": true, \\\\\\\\\\\\\"name\\\\\\\\\\\\\": null, \\\\\\\\\\\\\"annotation\\\\\\\\\\\\\": null}, {\\\\\\\\\\\\\"id\\\\\\\\\\\\\": \\\\\\\\\\\\\"cf97e1e4-8fcb-4f9d-8650-59e17838195a\\\\\\\\\\\\\", \\\\\\\\\\\\\"type\\\\\\\\\\\\\": \\\\\\\\\\\\\"Microsoft.DPrep.SetColumnTypesBlock\\\\\\\\\\\\\", \\\\\\\\\\\\\"arguments\\\\\\\\\\\\\": {\\\\\\\\\\\\\"columnConversion\\\\\\\\\\\\\": [{\\\\\\\\\\\\\"column\\\\\\\\\\\\\": {\\\\\\\\\\\\\"type\\\\\\\\\\\\\": 2, \\\\\\\\\\\\\"details\\\\\\\\\\\\\": {\\\\\\\\\\\\\"selectedColumn\\\\\\\\\\\\\": \\\\\\\\\\\\\"male\\\\\\\\\\\\\"}}, \\\\\\\\\\\\\"typeProperty\\\\\\\\\\\\\": 2}, {\\\\\\\\\\\\\"column\\\\\\\\\\\\\": {\\\\\\\\\\\\\"type\\\\\\\\\\\\\": 2, \\\\\\\\\\\\\"details\\\\\\\\\\\\\": {\\\\\\\\\\\\\"selectedColumn\\\\\\\\\\\\\": \\\\\\\\\\\\\"age\\\\\\\\\\\\\"}}, \\\\\\\\\\\\\"typeProperty\\\\\\\\\\\\\": 2}, {\\\\\\\\\\\\\"column\\\\\\\\\\\\\": {\\\\\\\\\\\\\"type\\\\\\\\\\\\\": 2, \\\\\\\\\\\\\"details\\\\\\\\\\\\\": {\\\\\\\\\\\\\"selectedColumn\\\\\\\\\\\\\": \\\\\\\\\\\\\"education\\\\\\\\\\\\\"}}, \\\\\\\\\\\\\"typeProperty\\\\\\\\\\\\\": 0}, {\\\\\\\\\\\\\"column\\\\\\\\\\\\\": {\\\\\\\\\\\\\"type\\\\\\\\\\\\\": 2, \\\\\\\\\\\\\"details\\\\\\\\\\\\\": {\\\\\\\\\\\\\"selectedColumn\\\\\\\\\\\\\": \\\\\\\\\\\\\"currentSmoker\\\\\\\\\\\\\"}}, \\\\\\\\\\\\\"typeProperty\\\\\\\\\\\\\": 2}, {\\\\\\\\\\\\\"column\\\\\\\\\\\\\": {\\\\\\\\\\\\\"type\\\\\\\\\\\\\": 2, \\\\\\\\\\\\\"details\\\\\\\\\\\\\": {\\\\\\\\\\\\\"selectedColumn\\\\\\\\\\\\\": \\\\\\\\\\\\\"cigsPerDay\\\\\\\\\\\\\"}}, \\\\\\\\\\\\\"typeProperty\\\\\\\\\\\\\": 0}, {\\\\\\\\\\\\\"column\\\\\\\\\\\\\": {\\\\\\\\\\\\\"type\\\\\\\\\\\\\": 2, \\\\\\\\\\\\\"details\\\\\\\\\\\\\": {\\\\\\\\\\\\\"selectedColumn\\\\\\\\\\\\\": \\\\\\\\\\\\\"BPMeds\\\\\\\\\\\\\"}}, \\\\\\\\\\\\\"typeProperty\\\\\\\\\\\\\": 0}, {\\\\\\\\\\\\\"column\\\\\\\\\\\\\": {\\\\\\\\\\\\\"type\\\\\\\\\\\\\": 2, \\\\\\\\\\\\\"details\\\\\\\\\\\\\": {\\\\\\\\\\\\\"selectedColumn\\\\\\\\\\\\\": \\\\\\\\\\\\\"prevalentStroke\\\\\\\\\\\\\"}}, \\\\\\\\\\\\\"typeProperty\\\\\\\\\\\\\": 2}, {\\\\\\\\\\\\\"column\\\\\\\\\\\\\": {\\\\\\\\\\\\\"type\\\\\\\\\\\\\": 2, \\\\\\\\\\\\\"details\\\\\\\\\\\\\": {\\\\\\\\\\\\\"selectedColumn\\\\\\\\\\\\\": \\\\\\\\\\\\\"prevalentHyp\\\\\\\\\\\\\"}}, \\\\\\\\\\\\\"typeProperty\\\\\\\\\\\\\": 2}, {\\\\\\\\\\\\\"column\\\\\\\\\\\\\": {\\\\\\\\\\\\\"type\\\\\\\\\\\\\": 2, \\\\\\\\\\\\\"details\\\\\\\\\\\\\": {\\\\\\\\\\\\\"selectedColumn\\\\\\\\\\\\\": \\\\\\\\\\\\\"diabetes\\\\\\\\\\\\\"}}, \\\\\\\\\\\\\"typeProperty\\\\\\\\\\\\\": 2}, {\\\\\\\\\\\\\"column\\\\\\\\\\\\\": {\\\\\\\\\\\\\"type\\\\\\\\\\\\\": 2, \\\\\\\\\\\\\"details\\\\\\\\\\\\\": {\\\\\\\\\\\\\"selectedColumn\\\\\\\\\\\\\": \\\\\\\\\\\\\"totChol\\\\\\\\\\\\\"}}, \\\\\\\\\\\\\"typeProperty\\\\\\\\\\\\\": 0}, {\\\\\\\\\\\\\"column\\\\\\\\\\\\\": {\\\\\\\\\\\\\"type\\\\\\\\\\\\\": 2, \\\\\\\\\\\\\"details\\\\\\\\\\\\\": {\\\\\\\\\\\\\"selectedColumn\\\\\\\\\\\\\": \\\\\\\\\\\\\"sysBP\\\\\\\\\\\\\"}}, \\\\\\\\\\\\\"typeProperty\\\\\\\\\\\\\": 3}, {\\\\\\\\\\\\\"column\\\\\\\\\\\\\": {\\\\\\\\\\\\\"type\\\\\\\\\\\\\": 2, \\\\\\\\\\\\\"details\\\\\\\\\\\\\": {\\\\\\\\\\\\\"selectedColumn\\\\\\\\\\\\\": \\\\\\\\\\\\\"diaBP\\\\\\\\\\\\\"}}, \\\\\\\\\\\\\"typeProperty\\\\\\\\\\\\\": 3}, {\\\\\\\\\\\\\"column\\\\\\\\\\\\\": {\\\\\\\\\\\\\"type\\\\\\\\\\\\\": 2, \\\\\\\\\\\\\"details\\\\\\\\\\\\\": {\\\\\\\\\\\\\"selectedColumn\\\\\\\\\\\\\": \\\\\\\\\\\\\"BMI\\\\\\\\\\\\\"}}, \\\\\\\\\\\\\"typeProperty\\\\\\\\\\\\\": 0}, {\\\\\\\\\\\\\"column\\\\\\\\\\\\\": {\\\\\\\\\\\\\"type\\\\\\\\\\\\\": 2, \\\\\\\\\\\\\"details\\\\\\\\\\\\\": {\\\\\\\\\\\\\"selectedColumn\\\\\\\\\\\\\": \\\\\\\\\\\\\"heartRate\\\\\\\\\\\\\"}}, \\\\\\\\\\\\\"typeProperty\\\\\\\\\\\\\": 2}, {\\\\\\\\\\\\\"column\\\\\\\\\\\\\": {\\\\\\\\\\\\\"type\\\\\\\\\\\\\": 2, \\\\\\\\\\\\\"details\\\\\\\\\\\\\": {\\\\\\\\\\\\\"selectedColumn\\\\\\\\\\\\\": \\\\\\\\\\\\\"glucose\\\\\\\\\\\\\"}}, \\\\\\\\\\\\\"typeProperty\\\\\\\\\\\\\": 0}, {\\\\\\\\\\\\\"column\\\\\\\\\\\\\": {\\\\\\\\\\\\\"type\\\\\\\\\\\\\": 2, \\\\\\\\\\\\\"details\\\\\\\\\\\\\": {\\\\\\\\\\\\\"selectedColumn\\\\\\\\\\\\\": \\\\\\\\\\\\\"TenYearCHD\\\\\\\\\\\\\"}}, \\\\\\\\\\\\\"typeProperty\\\\\\\\\\\\\": 2}]}, \\\\\\\\\\\\\"localData\\\\\\\\\\\\\": {}, \\\\\\\\\\\\\"isEnabled\\\\\\\\\\\\\": true, \\\\\\\\\\\\\"name\\\\\\\\\\\\\": null, \\\\\\\\\\\\\"annotation\\\\\\\\\\\\\": null}], \\\\\\\\\\\\\"inspectors\\\\\\\\\\\\\": [], \\\\\\\\\\\\\"meta\\\\\\\\\\\\\": {\\\\\\\\\\\\\"savedDatasetId\\\\\\\\\\\\\": \\\\\\\\\\\\\"1b1d6255-357b-45f6-b792-1fb4182deadc\\\\\\\\\\\\\", \\\\\\\\\\\\\"datasetType\\\\\\\\\\\\\": \\\\\\\\\\\\\"tabular\\\\\\\\\\\\\", \\\\\\\\\\\\\"subscriptionId\\\\\\\\\\\\\": \\\\\\\\\\\\\"610d6e37-4747-4a20-80eb-3aad70a55f43\\\\\\\\\\\\\", \\\\\\\\\\\\\"workspaceId\\\\\\\\\\\\\": \\\\\\\\\\\\\"948b89b3-9778-47bd-9e3c-015cf4ec709f\\\\\\\\\\\\\", \\\\\\\\\\\\\"workspaceLocation\\\\\\\\\\\\\": \\\\\\\\\\\\\"southcentralus\\\\\\\\\\\\\", \\\\\\\\\\\\\"partition_keys\\\\\\\\\\\\\": \\\\\\\\\\\\\"true\\\\\\\\\\\\\"}}\\\\\", \\\\\"activities\\\\\": 0}',\n  'EnableSubsampling': None,\n  'runTemplate': 'AutoML',\n  'azureml.runsource': 'automl',\n  'display_task_type': 'classification',\n  'dependencies_versions': '{\"azureml-widgets\": \"1.24.0\", \"azureml-train\": \"1.24.0\", \"azureml-train-restclients-hyperdrive\": \"1.24.0\", \"azureml-train-core\": \"1.24.0\", \"azureml-train-automl-client\": \"1.24.0\", \"azureml-tensorboard\": \"1.24.0\", \"azureml-telemetry\": \"1.24.0\", \"azureml-sdk\": \"1.24.0\", \"azureml-pipeline\": \"1.24.0\", \"azureml-pipeline-steps\": \"1.24.0\", \"azureml-pipeline-core\": \"1.24.0\", \"azureml-opendatasets\": \"1.24.0\", \"azureml-model-management-sdk\": \"1.0.1b6.post1\", \"azureml-mlflow\": \"1.24.0\", \"azureml-interpret\": \"1.24.0\", \"azureml-explain-model\": \"1.24.0\", \"azureml-defaults\": \"1.24.0\", \"azureml-dataset-runtime\": \"1.24.0\", \"azureml-dataprep\": \"2.11.1\", \"azureml-dataprep-rslex\": \"1.9.0\", \"azureml-dataprep-native\": \"30.0.0\", \"azureml-datadrift\": \"1.24.0\", \"azureml-core\": \"1.24.0\", \"azureml-contrib-services\": \"1.24.0\", \"azureml-contrib-server\": \"1.24.0\", \"azureml-contrib-reinforcementlearning\": \"1.24.0\", \"azureml-contrib-pipeline-steps\": \"1.24.0\", \"azureml-contrib-notebook\": \"1.24.0\", \"azureml-contrib-gbdt\": \"1.24.0\", \"azureml-contrib-fairness\": \"1.24.0\", \"azureml-contrib-dataset\": \"1.24.0\", \"azureml-cli-common\": \"1.24.0\", \"azureml-automl-core\": \"1.24.0\", \"azureml-accel-models\": \"1.24.0\"}',\n  '_aml_system_scenario_identification': 'Remote.Parent',\n  'ClientType': 'SDK',\n  'environment_cpu_name': 'AzureML-AutoML',\n  'environment_cpu_label': 'prod',\n  'environment_gpu_name': 'AzureML-AutoML-GPU',\n  'environment_gpu_label': 'prod',\n  'root_attribution': 'automl',\n  'attribution': 'AutoML',\n  'Orchestrator': 'AutoML',\n  'CancelUri': 'https://southcentralus.experiments.azureml.net/jasmine/v1.0/subscriptions/610d6e37-4747-4a20-80eb-3aad70a55f43/resourceGroups/aml-quickstarts-141869/providers/Microsoft.MachineLearningServices/workspaces/quick-starts-ws-141869/experimentids/f3526f5c-0d8f-4b6f-9cdc-34918e218e1c/cancel/AutoML_8006dbaa-28c8-4fdd-99a5-e4e0ab4fd2c7',\n  'ClientSdkVersion': '1.24.0',\n  'snapshotId': '00000000-0000-0000-0000-000000000000',\n  'SetupRunId': 'AutoML_8006dbaa-28c8-4fdd-99a5-e4e0ab4fd2c7_setup',\n  'SetupRunContainerId': 'dcid.AutoML_8006dbaa-28c8-4fdd-99a5-e4e0ab4fd2c7_setup',\n  'FeaturizationRunJsonPath': 'featurizer_container.json',\n  'FeaturizationRunId': 'AutoML_8006dbaa-28c8-4fdd-99a5-e4e0ab4fd2c7_featurize',\n  'ProblemInfoJsonString': '{\"dataset_num_categorical\": 0, \"is_sparse\": true, \"subsampling\": false, \"dataset_classes\": 2, \"dataset_features\": 1385, \"dataset_samples\": 4240, \"single_frequency_class_detected\": false}',\n  'ModelExplainRunId': 'AutoML_8006dbaa-28c8-4fdd-99a5-e4e0ab4fd2c7_ModelExplain'},\n 'inputDatasets': [{'dataset': {'id': '1b1d6255-357b-45f6-b792-1fb4182deadc'}, 'consumptionDetails': {'type': 'RunInput', 'inputName': 'training_data', 'mechanism': 'Direct'}}],\n 'outputDatasets': [],\n 'logFiles': {},\n 'submittedBy': 'ODL_User 141869'}"
          },
          "metadata": {}
        }
      ],
      "execution_count": 12,
      "metadata": {
        "gather": {
          "logged": 1617449451655
        }
      }
    },
    {
      "cell_type": "markdown",
      "source": [
        "## Best Model\n",
        "\n",
        "TODO: In the cell below, get the best model from the automl experiments and display all the properties of the model.\n",
        "\n"
      ],
      "metadata": {}
    },
    {
      "cell_type": "code",
      "source": [
        "best_automl_run, best_automl_model = remote_run.get_output()\n",
        "\n",
        "print('Best Run Id: ' + best_automl_run.id,\n",
        "     'Best Model Name: ' + best_automl_run.properties['model_name'],\n",
        "     )"
      ],
      "outputs": [
        {
          "output_type": "stream",
          "name": "stderr",
          "text": [
            "WARNING:root:The model you attempted to retrieve requires 'azureml-train-automl-runtime' to be installed at '==1.24.0'. Please install 'azureml-train-automl-runtime==1.24.0' (e.g. `pip install azureml-train-automl-runtime==1.24.0`) and then rerun the previous command.\n"
          ]
        },
        {
          "output_type": "stream",
          "name": "stdout",
          "text": [
            "Best Run Id: AutoML_8006dbaa-28c8-4fdd-99a5-e4e0ab4fd2c7_3 Best Model Name: AutoML8006dbaa23\n"
          ]
        }
      ],
      "execution_count": 13,
      "metadata": {
        "gather": {
          "logged": 1617449454500
        },
        "jupyter": {
          "outputs_hidden": false,
          "source_hidden": false
        },
        "nteract": {
          "transient": {
            "deleting": false
          }
        }
      }
    },
    {
      "cell_type": "code",
      "source": [
        "best_run_metrics = best_automl_run.get_metrics()\n",
        "\n",
        "for metric_name in best_run_metrics:\n",
        "    metric = best_run_metrics[metric_name]\n",
        "    print(metric_name,\":\" , metric)"
      ],
      "outputs": [
        {
          "output_type": "stream",
          "name": "stdout",
          "text": [
            "matthews_correlation : 0.0\n",
            "average_precision_score_micro : 0.8245140904647675\n",
            "balanced_accuracy : 0.5\n",
            "recall_score_micro : 0.8481155819555264\n",
            "f1_score_micro : 0.8481155819555264\n",
            "precision_score_macro : 0.4240577909777632\n",
            "AUC_micro : 0.8618157739838009\n",
            "recall_score_weighted : 0.8481155819555264\n",
            "weighted_accuracy : 0.9686688438245291\n",
            "AUC_weighted : 0.5530623690266273\n",
            "f1_score_weighted : 0.7784527258598235\n",
            "recall_score_macro : 0.5\n",
            "average_precision_score_weighted : 0.7603432512493496\n",
            "precision_score_micro : 0.8481155819555264\n",
            "precision_score_weighted : 0.719420921315527\n",
            "norm_macro_recall : 0.0\n",
            "accuracy : 0.8481155819555264\n",
            "f1_score_macro : 0.4588892190256147\n",
            "average_precision_score_macro : 0.5177504412288176\n",
            "AUC_macro : 0.5530623690266273\n",
            "log_loss : 0.42579243797307553\n",
            "accuracy_table : aml://artifactId/ExperimentRun/dcid.AutoML_8006dbaa-28c8-4fdd-99a5-e4e0ab4fd2c7_3/accuracy_table\n",
            "confusion_matrix : aml://artifactId/ExperimentRun/dcid.AutoML_8006dbaa-28c8-4fdd-99a5-e4e0ab4fd2c7_3/confusion_matrix\n"
          ]
        }
      ],
      "execution_count": 14,
      "metadata": {
        "gather": {
          "logged": 1617449457420
        }
      }
    },
    {
      "cell_type": "code",
      "source": [
        "#TODO: Save the best model\n",
        "automodel = best_automl_run.register_model(model_name='best_automl_model', \n",
        "                                    model_path='outputs/model.pkl',\n",
        "                                    tags={'Method':'AutoML'},\n",
        "                                    properties={'Accuracy': best_run_metrics['accuracy']})"
      ],
      "outputs": [],
      "execution_count": 15,
      "metadata": {
        "gather": {
          "logged": 1617449458132
        },
        "jupyter": {
          "outputs_hidden": false,
          "source_hidden": false
        },
        "nteract": {
          "transient": {
            "deleting": false
          }
        }
      }
    },
    {
      "cell_type": "markdown",
      "source": [
        "## Model Deployment\n",
        "\n",
        "Remember you have to deploy only one of the two models you trained.. Perform the steps in the rest of this notebook only if you wish to deploy this model.\n",
        "\n",
        "TODO: In the cell below, register the model, create an inference config and deploy the model as a web service."
      ],
      "metadata": {}
    },
    {
      "cell_type": "code",
      "source": [
        "# Download scoring file \n",
        "best_automl_run.download_file('outputs/scoring_file_v_1_0_0.py', 'score.py')\n",
        "\n",
        "# Download environment file\n",
        "best_automl_run.download_file('outputs/conda_env_v_1_0_0.yml', 'env.yml')"
      ],
      "outputs": [],
      "execution_count": 29,
      "metadata": {
        "gather": {
          "logged": 1617450770390
        },
        "jupyter": {
          "outputs_hidden": false,
          "source_hidden": false
        },
        "nteract": {
          "transient": {
            "deleting": false
          }
        }
      }
    },
    {
      "cell_type": "code",
      "source": [
        "from azureml.core.webservice import AciWebservice, Webservice\n",
        "aciconfig = AciWebservice.deploy_configuration(cpu_cores=1, \n",
        "                                               memory_gb=1, \n",
        "                                               description='Framingham Heart Disease Prediction with AutoML')"
      ],
      "outputs": [],
      "execution_count": 30,
      "metadata": {
        "gather": {
          "logged": 1617450772390
        }
      }
    },
    {
      "cell_type": "code",
      "source": [
        "from azureml.core.model import InferenceConfig, Model\n",
        "inference_config = InferenceConfig(entry_script=\"score.py\", environment=best_automl_run.get_environment())\n",
        "\n",
        "service = Model.deploy(workspace=ws, \n",
        "                       name='automl-webservice', \n",
        "                       models=[automodel], \n",
        "                       inference_config=inference_config, \n",
        "                       deployment_config=aciconfig)"
      ],
      "outputs": [],
      "execution_count": 31,
      "metadata": {
        "gather": {
          "logged": 1617450776146
        }
      }
    },
    {
      "cell_type": "code",
      "source": [
        "service.wait_for_deployment(show_output=True)"
      ],
      "outputs": [
        {
          "output_type": "stream",
          "name": "stdout",
          "text": [
            "Tips: You can try get_logs(): https://aka.ms/debugimage#dockerlog or local deployment: https://aka.ms/debugimage#debug-locally to debug if deployment takes longer than 10 minutes.\n",
            "Running\n",
            "2021-04-03 11:52:55+00:00 Creating Container Registry if not exists.\n",
            "2021-04-03 11:52:55+00:00 Registering the environment.\n",
            "2021-04-03 11:52:55+00:00 Use the existing image.\n",
            "2021-04-03 11:52:56+00:00 Generating deployment configuration.\n",
            "2021-04-03 11:52:58+00:00 Submitting deployment to compute.\n",
            "2021-04-03 11:53:02+00:00 Checking the status of deployment automl-webservice..\n",
            "2021-04-03 11:56:18+00:00 Checking the status of inference endpoint automl-webservice.\n",
            "Succeeded\n",
            "ACI service creation operation finished, operation \"Succeeded\"\n"
          ]
        }
      ],
      "execution_count": 32,
      "metadata": {
        "gather": {
          "logged": 1617450997830
        }
      }
    },
    {
      "cell_type": "code",
      "source": [
        "print(\"Service State: \",service.state)\n",
        "print(\"Scoring URI: \",service.scoring_uri)\n",
        "print(\"Swagger URI: \",service.swagger_uri)"
      ],
      "outputs": [
        {
          "output_type": "stream",
          "name": "stdout",
          "text": [
            "Service State:  Healthy\n",
            "Scoring URI:  http://644a759d-f5ae-47ca-9f67-cbb3ac2acd00.southcentralus.azurecontainer.io/score\n",
            "Swagger URI:  http://644a759d-f5ae-47ca-9f67-cbb3ac2acd00.southcentralus.azurecontainer.io/swagger.json\n"
          ]
        }
      ],
      "execution_count": 33,
      "metadata": {
        "gather": {
          "logged": 1617450998054
        }
      }
    },
    {
      "cell_type": "markdown",
      "source": [
        "TODO: In the cell below, send a request to the web service you deployed to test it."
      ],
      "metadata": {
        "collapsed": true,
        "gather": {
          "logged": 1598431657736
        },
        "jupyter": {
          "outputs_hidden": false,
          "source_hidden": false
        },
        "nteract": {
          "transient": {
            "deleting": false
          }
        }
      }
    },
    {
      "cell_type": "code",
      "source": [
        "\n",
        "data = {\n",
        "    \"data\": [\n",
        "        {\n",
        "            'male': 0,\n",
        "            'age': 55,\n",
        "            'education': 4 ,\n",
        "            'currentSmoker': 1,\n",
        "            'cigsPerDay': 20,\n",
        "            'BPMeds': 0,\n",
        "            'prevalentStroke': 0,\n",
        "            'prevalentHyp': 0,\n",
        "            'diabetes': 0,\n",
        "            'totChol': 285,\n",
        "            'sysBP': 175,\n",
        "            'diaBP': 84,\n",
        "            'BMI': 25.50,\n",
        "            'heartRate': 93,\n",
        "            'glucose': 87\n",
        "        },\n",
        "        {\n",
        "            'male': 1,\n",
        "            'age': 40,\n",
        "            'education': 4 ,\n",
        "            'currentSmoker': 0,\n",
        "            'cigsPerDay': 30,\n",
        "            'BPMeds': 0,\n",
        "            'prevalentStroke': 0,\n",
        "            'prevalentHyp': 0,\n",
        "            'diabetes': 0,\n",
        "            'totChol': 228,\n",
        "            'sysBP': 121,\n",
        "            'diaBP': 110,\n",
        "            'BMI': 30.30,\n",
        "            'heartRate': 80,\n",
        "            'glucose': 80\n",
        "        }\n",
        "    ]\n",
        "}\n",
        "\n",
        "data_sample = json.dumps(data)"
      ],
      "outputs": [],
      "execution_count": 34,
      "metadata": {
        "gather": {
          "logged": 1617451004385
        },
        "jupyter": {
          "outputs_hidden": false,
          "source_hidden": false
        },
        "nteract": {
          "transient": {
            "deleting": false
          }
        }
      }
    },
    {
      "cell_type": "code",
      "source": [
        "scoring_uri = service.scoring_uri\n",
        "input_data = data_sample\n",
        "\n",
        "# Set the content type\n",
        "headers = {'Content-Type': 'application/json'}\n",
        "\n",
        "# Make the request and display the response\n",
        "response = requests.post(scoring_uri, input_data, headers=headers)\n",
        "response.json()"
      ],
      "outputs": [
        {
          "output_type": "execute_result",
          "execution_count": 35,
          "data": {
            "text/plain": "'{\"result\": [0, 0]}'"
          },
          "metadata": {}
        }
      ],
      "execution_count": 35,
      "metadata": {
        "gather": {
          "logged": 1617451006622
        }
      }
    },
    {
      "cell_type": "markdown",
      "source": [
        "TODO: In the cell below, print the logs of the web service and delete the service"
      ],
      "metadata": {
        "collapsed": true,
        "gather": {
          "logged": 1598432765711
        },
        "jupyter": {
          "outputs_hidden": false,
          "source_hidden": false
        },
        "nteract": {
          "transient": {
            "deleting": false
          }
        }
      }
    },
    {
      "cell_type": "code",
      "source": [
        "service.get_logs()"
      ],
      "outputs": [
        {
          "output_type": "execute_result",
          "execution_count": 36,
          "data": {
            "text/plain": "'2021-04-03T11:56:11,166719200+00:00 - iot-server/run \\n2021-04-03T11:56:11,182657700+00:00 - rsyslog/run \\n2021-04-03T11:56:11,190808000+00:00 - gunicorn/run \\n2021-04-03T11:56:11,202401000+00:00 - nginx/run \\n/usr/sbin/nginx: /azureml-envs/azureml_2b14f450572e78de640d54eaabed5e4d/lib/libcrypto.so.1.0.0: no version information available (required by /usr/sbin/nginx)\\n/usr/sbin/nginx: /azureml-envs/azureml_2b14f450572e78de640d54eaabed5e4d/lib/libcrypto.so.1.0.0: no version information available (required by /usr/sbin/nginx)\\n/usr/sbin/nginx: /azureml-envs/azureml_2b14f450572e78de640d54eaabed5e4d/lib/libssl.so.1.0.0: no version information available (required by /usr/sbin/nginx)\\n/usr/sbin/nginx: /azureml-envs/azureml_2b14f450572e78de640d54eaabed5e4d/lib/libssl.so.1.0.0: no version information available (required by /usr/sbin/nginx)\\n/usr/sbin/nginx: /azureml-envs/azureml_2b14f450572e78de640d54eaabed5e4d/lib/libssl.so.1.0.0: no version information available (required by /usr/sbin/nginx)\\nrsyslogd: /azureml-envs/azureml_2b14f450572e78de640d54eaabed5e4d/lib/libuuid.so.1: no version information available (required by rsyslogd)\\nEdgeHubConnectionString and IOTEDGE_IOTHUBHOSTNAME are not set. Exiting...\\n2021-04-03T11:56:12,782034800+00:00 - iot-server/finish 1 0\\n2021-04-03T11:56:12,793368500+00:00 - Exit code 1 is normal. Not restarting iot-server.\\nStarting gunicorn 19.9.0\\nListening at: http://127.0.0.1:31311 (66)\\nUsing worker: sync\\nworker timeout is set to 300\\nBooting worker with pid: 97\\nSPARK_HOME not set. Skipping PySpark Initialization.\\nGenerating new fontManager, this may take some time...\\nInitializing logger\\n2021-04-03 11:56:18,057 | root | INFO | Starting up app insights client\\n2021-04-03 11:56:18,058 | root | INFO | Starting up request id generator\\n2021-04-03 11:56:18,059 | root | INFO | Starting up app insight hooks\\n2021-04-03 11:56:18,059 | root | INFO | Invoking user\\'s init function\\n2021-04-03 11:56:28,825 | azureml.core | WARNING | Failure while loading azureml_run_type_providers. Failed to load entrypoint automl = azureml.train.automl.run:AutoMLRun._from_run_dto with exception (cryptography 3.2 (/azureml-envs/azureml_2b14f450572e78de640d54eaabed5e4d/lib/python3.6/site-packages), Requirement.parse(\\'cryptography<4.0.0,>=3.3.1; extra == \"crypto\"\\'), {\\'PyJWT\\'}).\\nFailure while loading azureml_run_type_providers. Failed to load entrypoint automl = azureml.train.automl.run:AutoMLRun._from_run_dto with exception (cryptography 3.2 (/azureml-envs/azureml_2b14f450572e78de640d54eaabed5e4d/lib/python3.6/site-packages), Requirement.parse(\\'cryptography<4.0.0,>=3.3.1; extra == \"crypto\"\\'), {\\'PyJWT\\'}).\\n2021-04-03 11:56:29,799 | root | INFO | Users\\'s init has completed successfully\\n2021-04-03 11:56:29,826 | root | INFO | Skipping middleware: dbg_model_info as it\\'s not enabled.\\n2021-04-03 11:56:29,826 | root | INFO | Skipping middleware: dbg_resource_usage as it\\'s not enabled.\\n2021-04-03 11:56:29,829 | root | INFO | Scoring timeout is found from os.environ: 60000 ms\\n2021-04-03 11:56:29,856 | root | INFO | 200\\n127.0.0.1 - - [03/Apr/2021:11:56:29 +0000] \"GET /swagger.json HTTP/1.0\" 200 2937 \"-\" \"Go-http-client/1.1\"\\n2021-04-03 11:56:35,315 | root | INFO | 200\\n127.0.0.1 - - [03/Apr/2021:11:56:35 +0000] \"GET /swagger.json HTTP/1.0\" 200 2937 \"-\" \"Go-http-client/1.1\"\\n2021-04-03 11:56:45,587 | root | INFO | Validation Request Content-Type\\n2021-04-03 11:56:45,595 | root | INFO | Scoring Timer is set to 60.0 seconds\\n2021-04-03 11:56:45,720 | root | INFO | 200\\n127.0.0.1 - - [03/Apr/2021:11:56:45 +0000] \"POST /score HTTP/1.0\" 200 22 \"-\" \"python-requests/2.25.1\"\\n'"
          },
          "metadata": {}
        }
      ],
      "execution_count": 36,
      "metadata": {
        "jupyter": {
          "outputs_hidden": false,
          "source_hidden": false
        },
        "nteract": {
          "transient": {
            "deleting": false
          }
        },
        "gather": {
          "logged": 1617451009715
        }
      }
    },
    {
      "cell_type": "code",
      "source": [],
      "outputs": [],
      "execution_count": null,
      "metadata": {
        "collapsed": true,
        "jupyter": {
          "source_hidden": false,
          "outputs_hidden": false
        },
        "nteract": {
          "transient": {
            "deleting": false
          }
        }
      }
    }
  ],
  "metadata": {
    "kernel_info": {
      "name": "python38-azureml"
    },
    "kernelspec": {
      "name": "python38-azureml",
      "language": "python",
      "display_name": "Python 3.8 - AzureML"
    },
    "language_info": {
      "name": "python",
      "version": "3.8.1",
      "mimetype": "text/x-python",
      "codemirror_mode": {
        "name": "ipython",
        "version": 3
      },
      "pygments_lexer": "ipython3",
      "nbconvert_exporter": "python",
      "file_extension": ".py"
    },
    "nteract": {
      "version": "nteract-front-end@1.0.0"
    },
    "microsoft": {
      "host": {
        "AzureML": {
          "notebookHasBeenCompleted": true
        }
      }
    }
  },
  "nbformat": 4,
  "nbformat_minor": 2
}