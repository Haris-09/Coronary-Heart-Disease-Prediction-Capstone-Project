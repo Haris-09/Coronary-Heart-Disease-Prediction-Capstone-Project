{
  "cells": [
    {
      "cell_type": "markdown",
      "source": [
        "# Automated ML\n",
        "\n",
        "TODO: Import Dependencies. In the cell below, import all the dependencies that you will need to complete the project."
      ],
      "metadata": {}
    },
    {
      "cell_type": "code",
      "source": [
        "from azureml.core.experiment import Experiment\n",
        "from azureml.core.workspace import Workspace\n",
        "from azureml.core.compute import ComputeTarget, AmlCompute\n",
        "from azureml.core.compute_target import ComputeTargetException\n",
        "from azureml.widgets import RunDetails\n",
        "from azureml.data.dataset_factory import TabularDatasetFactory\n",
        "from azureml.train.automl import AutoMLConfig\n",
        "from azureml.core.dataset import Dataset\n",
        "from azureml.core.webservice import AciWebservice, Webservice\n",
        "from azureml.core.model import InferenceConfig, Model\n",
        "import os\n",
        "import joblib\n",
        "import logging\n",
        "import json\n",
        "import requests"
      ],
      "outputs": [],
      "execution_count": 1,
      "metadata": {
        "gather": {
          "logged": 1617126497128
        },
        "jupyter": {
          "outputs_hidden": false,
          "source_hidden": false
        },
        "nteract": {
          "transient": {
            "deleting": false
          }
        }
      }
    },
    {
      "cell_type": "markdown",
      "source": [
        "## Dataset\n",
        "\n",
        "### Overview\n",
        "TODO: In this markdown cell, give an overview of the dataset you are using. Also mention the task you will be performing.\n",
        "\n",
        "\n",
        "TODO: Get data. In the cell below, write code to access the data you will be using in this project. Remember that the dataset needs to be external."
      ],
      "metadata": {}
    },
    {
      "cell_type": "code",
      "source": [
        "ws = Workspace.from_config()\n",
        "print('Workspace Name: ' + ws.name,\n",
        "      'Resource group: ' + ws.resource_group,\n",
        "      'Azure Region: ' + ws.location,\n",
        "      'Subscription Id: ' + ws.subscription_id, sep = '\\n')"
      ],
      "outputs": [
        {
          "output_type": "stream",
          "name": "stdout",
          "text": [
            "Performing interactive authentication. Please follow the instructions on the terminal.\n",
            "To sign in, use a web browser to open the page https://microsoft.com/devicelogin and enter the code RXXMSP8ZY to authenticate.\n",
            "You have logged in. Now let us find all the subscriptions to which you have access...\n",
            "Interactive authentication successfully completed.\n",
            "Workspace Name: quick-starts-ws-141649\n",
            "Resource group: aml-quickstarts-141649\n",
            "Azure Region: southcentralus\n",
            "Subscription Id: 81cefad3-d2c9-4f77-a466-99a7f541c7bb\n"
          ]
        }
      ],
      "execution_count": 2,
      "metadata": {
        "gather": {
          "logged": 1617126540495
        },
        "jupyter": {
          "outputs_hidden": false,
          "source_hidden": false
        },
        "nteract": {
          "transient": {
            "deleting": false
          }
        }
      }
    },
    {
      "cell_type": "code",
      "source": [
        "# choose a name for experiment\n",
        "experiment_name = 'Framingham-Experiment'\n",
        "\n",
        "experiment=Experiment(ws, experiment_name)\n",
        "run = experiment.start_logging()"
      ],
      "outputs": [],
      "execution_count": 3,
      "metadata": {
        "gather": {
          "logged": 1617126581350
        },
        "jupyter": {
          "outputs_hidden": false,
          "source_hidden": false
        },
        "nteract": {
          "transient": {
            "deleting": false
          }
        }
      }
    },
    {
      "cell_type": "code",
      "source": [
        "# Choose a name for your CPU cluster\n",
        "amlcompute_cluster_name = \"Compute-Cluster\"\n",
        "\n",
        "# Verify that cluster does not exist already\n",
        "try:\n",
        "    compute_target = ComputeTarget(workspace=ws, name=amlcompute_cluster_name)\n",
        "    print('Found existing cluster, use it.')\n",
        "except ComputeTargetException:\n",
        "    compute_config = AmlCompute.provisioning_configuration(vm_size='STANDARD_D2_V2', max_nodes=4)\n",
        "    compute_target = ComputeTarget.create(ws, amlcompute_cluster_name, compute_config)\n",
        "\n",
        "compute_target.wait_for_completion(show_output=True, min_node_count = 1, timeout_in_minutes = 10)"
      ],
      "outputs": [
        {
          "output_type": "stream",
          "name": "stdout",
          "text": [
            "Creating....\n",
            "SucceededProvisioning operation finished, operation \"Succeeded\"\n",
            "Succeeded....................................................................................................................\n",
            "AmlCompute wait for completion finished\n",
            "\n",
            "Wait timeout has been reached\n",
            "Current provisioning state of AmlCompute is \"Succeeded\" and current node count is \"0\"\n"
          ]
        }
      ],
      "execution_count": 4,
      "metadata": {
        "gather": {
          "logged": 1617127206137
        }
      }
    },
    {
      "cell_type": "code",
      "source": [
        "# Try to load the dataset from the Workspace. Otherwise, create it from the file\n",
        "found = False\n",
        "key = \"Framingham\"\n",
        "description_text = \"Frahmingham Heart Disease Dataset\"\n",
        "\n",
        "if key in ws.datasets.keys(): \n",
        "        found = True\n",
        "        dataset = ws.datasets[key] \n",
        "\n",
        "if not found:\n",
        "        # Create AML Dataset and register it into Workspace\n",
        "        example_data = 'https://raw.githubusercontent.com/Haris-09/Coronary-Heart-Disease-Prediction-Capstone-Project/master/starter_file/framingham.csv'\n",
        "        dataset = Dataset.Tabular.from_delimited_files(example_data)        \n",
        "        #Register Dataset in Workspace\n",
        "        dataset = dataset.register(workspace=ws,\n",
        "                                   name=key,\n",
        "                                   description=description_text)"
      ],
      "outputs": [],
      "execution_count": 5,
      "metadata": {
        "gather": {
          "logged": 1617127693901
        }
      }
    },
    {
      "cell_type": "code",
      "source": [
        "df = dataset.to_pandas_dataframe()\n",
        "df.describe()"
      ],
      "outputs": [
        {
          "output_type": "execute_result",
          "execution_count": 6,
          "data": {
            "text/plain": "              male          age  currentSmoker  prevalentStroke  prevalentHyp  \\\ncount  4240.000000  4240.000000    4240.000000      4240.000000   4240.000000   \nmean      0.429245    49.580189       0.494104         0.005896      0.310613   \nstd       0.495027     8.572942       0.500024         0.076569      0.462799   \nmin       0.000000    32.000000       0.000000         0.000000      0.000000   \n25%       0.000000    42.000000       0.000000         0.000000      0.000000   \n50%       0.000000    49.000000       0.000000         0.000000      0.000000   \n75%       1.000000    56.000000       1.000000         0.000000      1.000000   \nmax       1.000000    70.000000       1.000000         1.000000      1.000000   \n\n          diabetes        sysBP        diaBP    heartRate   TenYearCHD  \ncount  4240.000000  4240.000000  4240.000000  4239.000000  4240.000000  \nmean      0.025708   132.354599    82.897759    75.878981     0.151887  \nstd       0.158280    22.033300    11.910394    12.025348     0.358953  \nmin       0.000000    83.500000    48.000000    44.000000     0.000000  \n25%       0.000000   117.000000    75.000000    68.000000     0.000000  \n50%       0.000000   128.000000    82.000000    75.000000     0.000000  \n75%       0.000000   144.000000    90.000000    83.000000     0.000000  \nmax       1.000000   295.000000   142.500000   143.000000     1.000000  ",
            "text/html": "<div>\n<style scoped>\n    .dataframe tbody tr th:only-of-type {\n        vertical-align: middle;\n    }\n\n    .dataframe tbody tr th {\n        vertical-align: top;\n    }\n\n    .dataframe thead th {\n        text-align: right;\n    }\n</style>\n<table border=\"1\" class=\"dataframe\">\n  <thead>\n    <tr style=\"text-align: right;\">\n      <th></th>\n      <th>male</th>\n      <th>age</th>\n      <th>currentSmoker</th>\n      <th>prevalentStroke</th>\n      <th>prevalentHyp</th>\n      <th>diabetes</th>\n      <th>sysBP</th>\n      <th>diaBP</th>\n      <th>heartRate</th>\n      <th>TenYearCHD</th>\n    </tr>\n  </thead>\n  <tbody>\n    <tr>\n      <th>count</th>\n      <td>4240.000000</td>\n      <td>4240.000000</td>\n      <td>4240.000000</td>\n      <td>4240.000000</td>\n      <td>4240.000000</td>\n      <td>4240.000000</td>\n      <td>4240.000000</td>\n      <td>4240.000000</td>\n      <td>4239.000000</td>\n      <td>4240.000000</td>\n    </tr>\n    <tr>\n      <th>mean</th>\n      <td>0.429245</td>\n      <td>49.580189</td>\n      <td>0.494104</td>\n      <td>0.005896</td>\n      <td>0.310613</td>\n      <td>0.025708</td>\n      <td>132.354599</td>\n      <td>82.897759</td>\n      <td>75.878981</td>\n      <td>0.151887</td>\n    </tr>\n    <tr>\n      <th>std</th>\n      <td>0.495027</td>\n      <td>8.572942</td>\n      <td>0.500024</td>\n      <td>0.076569</td>\n      <td>0.462799</td>\n      <td>0.158280</td>\n      <td>22.033300</td>\n      <td>11.910394</td>\n      <td>12.025348</td>\n      <td>0.358953</td>\n    </tr>\n    <tr>\n      <th>min</th>\n      <td>0.000000</td>\n      <td>32.000000</td>\n      <td>0.000000</td>\n      <td>0.000000</td>\n      <td>0.000000</td>\n      <td>0.000000</td>\n      <td>83.500000</td>\n      <td>48.000000</td>\n      <td>44.000000</td>\n      <td>0.000000</td>\n    </tr>\n    <tr>\n      <th>25%</th>\n      <td>0.000000</td>\n      <td>42.000000</td>\n      <td>0.000000</td>\n      <td>0.000000</td>\n      <td>0.000000</td>\n      <td>0.000000</td>\n      <td>117.000000</td>\n      <td>75.000000</td>\n      <td>68.000000</td>\n      <td>0.000000</td>\n    </tr>\n    <tr>\n      <th>50%</th>\n      <td>0.000000</td>\n      <td>49.000000</td>\n      <td>0.000000</td>\n      <td>0.000000</td>\n      <td>0.000000</td>\n      <td>0.000000</td>\n      <td>128.000000</td>\n      <td>82.000000</td>\n      <td>75.000000</td>\n      <td>0.000000</td>\n    </tr>\n    <tr>\n      <th>75%</th>\n      <td>1.000000</td>\n      <td>56.000000</td>\n      <td>1.000000</td>\n      <td>0.000000</td>\n      <td>1.000000</td>\n      <td>0.000000</td>\n      <td>144.000000</td>\n      <td>90.000000</td>\n      <td>83.000000</td>\n      <td>0.000000</td>\n    </tr>\n    <tr>\n      <th>max</th>\n      <td>1.000000</td>\n      <td>70.000000</td>\n      <td>1.000000</td>\n      <td>1.000000</td>\n      <td>1.000000</td>\n      <td>1.000000</td>\n      <td>295.000000</td>\n      <td>142.500000</td>\n      <td>143.000000</td>\n      <td>1.000000</td>\n    </tr>\n  </tbody>\n</table>\n</div>"
          },
          "metadata": {}
        }
      ],
      "execution_count": 6,
      "metadata": {
        "gather": {
          "logged": 1617128138965
        }
      }
    },
    {
      "cell_type": "markdown",
      "source": [
        "## AutoML Configuration\n",
        "\n",
        "TODO: Explain why you chose the automl settings and cofiguration you used below."
      ],
      "metadata": {}
    },
    {
      "cell_type": "code",
      "source": [
        "# TODO: Put your automl settings here\n",
        "automl_settings = {\"experiment_timeout_minutes\": 30,\n",
        "                   \"max_concurrent_iterations\": 4,\n",
        "                   \"primary_metric\" : 'accuracy',\n",
        "                   \"verbosity\": logging.INFO}\n",
        "\n",
        "# TODO: Put your automl config here\n",
        "automl_config = AutoMLConfig(compute_target=compute_target,\n",
        "                             task = \"classification\",\n",
        "                             training_data=dataset,\n",
        "                             label_column_name=\"TenYearCHD\",   \n",
        "                             path = './',\n",
        "                             enable_early_stopping= True,\n",
        "                             featurization= 'auto',\n",
        "                             debug_log = \"automl_errors.log\",\n",
        "                             **automl_settings)"
      ],
      "outputs": [],
      "execution_count": 7,
      "metadata": {
        "gather": {
          "logged": 1617128139439
        },
        "jupyter": {
          "outputs_hidden": false,
          "source_hidden": false
        },
        "nteract": {
          "transient": {
            "deleting": false
          }
        }
      }
    },
    {
      "cell_type": "code",
      "source": [
        "# TODO: Submit your experiment\n",
        "remote_run = experiment.submit(automl_config, show_output=True)"
      ],
      "outputs": [
        {
          "output_type": "stream",
          "name": "stdout",
          "text": [
            "Running on remote.\n",
            "No run_configuration provided, running on Compute-Cluster with default configuration\n",
            "Running on remote compute: Compute-Cluster\n",
            "Parent Run ID: AutoML_1d51ae79-9d4c-42a4-978c-078a65042d57\n",
            "\n",
            "Current status: FeaturesGeneration. Generating features for the dataset.\n",
            "Current status: DatasetBalancing. Performing class balancing sweeping\n",
            "Current status: DatasetCrossValidationSplit. Generating individually featurized CV splits.\n",
            "Current status: ModelSelection. Beginning model selection.\n",
            "\n",
            "****************************************************************************************************\n",
            "DATA GUARDRAILS: \n",
            "\n",
            "TYPE:         Cross validation\n",
            "STATUS:       DONE\n",
            "DESCRIPTION:  Each iteration of the trained model was validated through cross-validation.\n",
            "              \n",
            "DETAILS:      \n",
            "+---------------------------------+\n",
            "|Number of folds                  |\n",
            "+=================================+\n",
            "|3                                |\n",
            "+---------------------------------+\n",
            "\n",
            "****************************************************************************************************\n",
            "\n",
            "TYPE:         Class balancing detection\n",
            "STATUS:       ALERTED\n",
            "DESCRIPTION:  To decrease model bias, please cancel the current run and fix balancing problem.\n",
            "              Learn more about imbalanced data: https://aka.ms/AutomatedMLImbalancedData\n",
            "DETAILS:      Imbalanced data can lead to a falsely perceived positive effect of a model's accuracy because the input data has bias towards one class.\n",
            "+---------------------------------+---------------------------------+--------------------------------------+\n",
            "|Size of the smallest class       |Name/Label of the smallest class |Number of samples in the training data|\n",
            "+=================================+=================================+======================================+\n",
            "|644                              |1                                |4240                                  |\n",
            "+---------------------------------+---------------------------------+--------------------------------------+\n",
            "\n",
            "****************************************************************************************************\n",
            "\n",
            "TYPE:         Missing feature values imputation\n",
            "STATUS:       DONE\n",
            "DESCRIPTION:  If the missing values are expected, let the run complete. Otherwise cancel the current run and use a script to customize the handling of missing feature values that may be more appropriate based on the data type and business requirement.\n",
            "              Learn more about missing value imputation: https://aka.ms/AutomatedMLFeaturization\n",
            "DETAILS:      \n",
            "+---------------------------------+---------------------------------+---------------------------------+\n",
            "|Column name                      |Missing value count              |Imputation type                  |\n",
            "+=================================+=================================+=================================+\n",
            "|heartRate                        |1                                |mean                             |\n",
            "+---------------------------------+---------------------------------+---------------------------------+\n",
            "\n",
            "****************************************************************************************************\n",
            "\n",
            "TYPE:         High cardinality feature detection\n",
            "STATUS:       DONE\n",
            "DESCRIPTION:  High cardinality features were detected in your inputs and handled.\n",
            "              Learn more about high cardinality feature handling: https://aka.ms/AutomatedMLFeaturization\n",
            "DETAILS:      High cardinality features refer to columns that contain a large percentage of unique values.\n",
            "+---------------------------------+---------------------------------+\n",
            "|Column name                      |Column Content Type              |\n",
            "+=================================+=================================+\n",
            "|totChol                          |categorical_hash                 |\n",
            "|BMI                              |categorical_hash                 |\n",
            "+---------------------------------+---------------------------------+\n",
            "\n",
            "****************************************************************************************************\n",
            "\n",
            "****************************************************************************************************\n",
            "ITERATION: The iteration being evaluated.\n",
            "PIPELINE: A summary description of the pipeline being evaluated.\n",
            "DURATION: Time taken for the current iteration.\n",
            "METRIC: The result of computing score on the fitted pipeline.\n",
            "BEST: The best observed score thus far.\n",
            "****************************************************************************************************\n",
            "\n",
            " ITERATION   PIPELINE                                       DURATION      METRIC      BEST\n",
            "         1   MaxAbsScaler XGBoostClassifier                 0:01:01       0.8472    0.8472\n",
            "         2   MaxAbsScaler RandomForest                      0:00:57       0.8481    0.8481\n",
            "         0   MaxAbsScaler LightGBM                          0:00:54       0.8321    0.8481\n",
            "         6   StandardScalerWrapper LogisticRegression       0:01:10       0.7021    0.8481\n",
            "         7   SparseNormalizer XGBoostClassifier             0:00:56       0.8406    0.8481\n",
            "         4   MaxAbsScaler RandomForest                      0:03:13       0.6448    0.8481\n",
            "         5   MaxAbsScaler RandomForest                      0:03:11       0.6205    0.8481\n",
            "         8   MaxAbsScaler LogisticRegression                0:00:49       0.8068    0.8481\n",
            "         9   MaxAbsScaler LightGBM                          0:00:45       0.8481    0.8481\n",
            "        10   StandardScalerWrapper LightGBM                 0:00:50       0.8455    0.8481\n",
            "        11   MaxAbsScaler RandomForest                      0:00:42       0.8481    0.8481\n",
            "        12   MaxAbsScaler LightGBM                          0:00:47       0.8469    0.8481\n",
            "        13   MaxAbsScaler LightGBM                          0:00:44       0.8481    0.8481\n",
            "         3   MaxAbsScaler RandomForest                      0:05:30       0.8481    0.8481\n",
            "        14   MaxAbsScaler ExtremeRandomTrees                0:01:06       0.8481    0.8481\n",
            "        15   StandardScalerWrapper XGBoostClassifier        0:00:52       0.8484    0.8484\n",
            "        16   SparseNormalizer XGBoostClassifier             0:00:50       0.8455    0.8484\n",
            "        17   SparseNormalizer LightGBM                      0:00:47       0.8450    0.8484\n",
            "        18   SparseNormalizer XGBoostClassifier             0:00:54       0.8392    0.8484\n",
            "        19   MaxAbsScaler GradientBoosting                  0:00:55       0.8481    0.8484\n",
            "        20   StandardScalerWrapper XGBoostClassifier        0:00:49       0.8481    0.8484\n",
            "        21   StandardScalerWrapper LightGBM                 0:00:45       0.8481    0.8484\n",
            "        22   MaxAbsScaler LightGBM                          0:00:49       0.8481    0.8484\n",
            "        24   SparseNormalizer XGBoostClassifier             0:00:46       0.8481    0.8484\n",
            "        23   StandardScalerWrapper ExtremeRandomTrees       0:01:03       0.8481    0.8484\n",
            "        25   StandardScalerWrapper ExtremeRandomTrees       0:00:59       0.8476    0.8484\n",
            "        26   SparseNormalizer XGBoostClassifier             0:00:45       0.8422    0.8484\n",
            "        27   StandardScalerWrapper LightGBM                 0:00:45       0.8481    0.8484\n",
            "        29   StandardScalerWrapper LightGBM                 0:00:59       0.8481    0.8484\n",
            "        28   MaxAbsScaler ExtremeRandomTrees                0:01:15       0.8481    0.8484\n",
            "        30   SparseNormalizer XGBoostClassifier             0:00:48       0.8481    0.8484\n",
            "        31   TruncatedSVDWrapper XGBoostClassifier          0:00:57       0.8484    0.8484\n",
            "        34   StandardScalerWrapper LightGBM                 0:00:45       0.8481    0.8484\n",
            "        32   SparseNormalizer XGBoostClassifier             0:01:00       0.8387    0.8484\n",
            "        33   SparseNormalizer RandomForest                  0:00:53       0.8481    0.8484\n",
            "        35                                                  0:00:13          nan    0.8484\n",
            "        36    VotingEnsemble                                0:01:08       0.8481    0.8484\n",
            "        37    StackEnsemble                                 0:01:12       0.8401    0.8484\n"
          ]
        }
      ],
      "execution_count": 8,
      "metadata": {
        "gather": {
          "logged": 1617129763939
        },
        "jupyter": {
          "outputs_hidden": false,
          "source_hidden": false
        },
        "nteract": {
          "transient": {
            "deleting": false
          }
        }
      }
    },
    {
      "cell_type": "markdown",
      "source": [
        "## Run Details\n",
        "\n",
        "OPTIONAL: Write about the different models trained and their performance. Why do you think some models did better than others?\n",
        "\n",
        "TODO: In the cell below, use the `RunDetails` widget to show the different experiments."
      ],
      "metadata": {}
    },
    {
      "cell_type": "code",
      "source": [
        "RunDetails(remote_run).show()"
      ],
      "outputs": [
        {
          "output_type": "display_data",
          "data": {
            "text/plain": "_AutoMLWidget(widget_settings={'childWidgetDisplay': 'popup', 'send_telemetry': False, 'log_level': 'INFO', 's…",
            "application/vnd.jupyter.widget-view+json": {
              "version_major": 2,
              "version_minor": 0,
              "model_id": "5c7667e85df7494fa787b93f0e981c31"
            }
          },
          "metadata": {}
        },
        {
          "output_type": "display_data",
          "data": {
            "application/aml.mini.widget.v1": "{\"status\": \"Completed\", \"workbench_run_details_uri\": \"https://ml.azure.com/experiments/Framingham-Experiment/runs/AutoML_1d51ae79-9d4c-42a4-978c-078a65042d57?wsid=/subscriptions/81cefad3-d2c9-4f77-a466-99a7f541c7bb/resourcegroups/aml-quickstarts-141649/workspaces/quick-starts-ws-141649\", \"run_id\": \"AutoML_1d51ae79-9d4c-42a4-978c-078a65042d57\", \"run_properties\": {\"run_id\": \"AutoML_1d51ae79-9d4c-42a4-978c-078a65042d57\", \"created_utc\": \"2021-03-30T18:15:40.937948Z\", \"properties\": {\"num_iterations\": \"1000\", \"training_type\": \"TrainFull\", \"acquisition_function\": \"EI\", \"primary_metric\": \"accuracy\", \"train_split\": \"0\", \"acquisition_parameter\": \"0\", \"num_cross_validation\": null, \"target\": \"Compute-Cluster\", \"AMLSettingsJsonString\": \"{\\\"path\\\":null,\\\"name\\\":\\\"Framingham-Experiment\\\",\\\"subscription_id\\\":\\\"81cefad3-d2c9-4f77-a466-99a7f541c7bb\\\",\\\"resource_group\\\":\\\"aml-quickstarts-141649\\\",\\\"workspace_name\\\":\\\"quick-starts-ws-141649\\\",\\\"region\\\":\\\"southcentralus\\\",\\\"compute_target\\\":\\\"Compute-Cluster\\\",\\\"spark_service\\\":null,\\\"azure_service\\\":\\\"remote\\\",\\\"many_models\\\":false,\\\"pipeline_fetch_max_batch_size\\\":1,\\\"enable_batch_run\\\":false,\\\"iterations\\\":1000,\\\"primary_metric\\\":\\\"accuracy\\\",\\\"task_type\\\":\\\"classification\\\",\\\"data_script\\\":null,\\\"validation_size\\\":0.0,\\\"n_cross_validations\\\":null,\\\"y_min\\\":null,\\\"y_max\\\":null,\\\"num_classes\\\":null,\\\"featurization\\\":\\\"auto\\\",\\\"_ignore_package_version_incompatibilities\\\":false,\\\"is_timeseries\\\":false,\\\"max_cores_per_iteration\\\":1,\\\"max_concurrent_iterations\\\":4,\\\"iteration_timeout_minutes\\\":null,\\\"mem_in_mb\\\":null,\\\"enforce_time_on_windows\\\":false,\\\"experiment_timeout_minutes\\\":30,\\\"experiment_exit_score\\\":null,\\\"whitelist_models\\\":null,\\\"blacklist_algos\\\":[\\\"TensorFlowLinearClassifier\\\",\\\"TensorFlowDNN\\\"],\\\"supported_models\\\":[\\\"LogisticRegression\\\",\\\"RandomForest\\\",\\\"KNN\\\",\\\"SVM\\\",\\\"TensorFlowLinearClassifier\\\",\\\"LightGBM\\\",\\\"LinearSVM\\\",\\\"DecisionTree\\\",\\\"ExtremeRandomTrees\\\",\\\"GradientBoosting\\\",\\\"MultinomialNaiveBayes\\\",\\\"XGBoostClassifier\\\",\\\"TensorFlowDNN\\\",\\\"AveragedPerceptronClassifier\\\",\\\"SGD\\\",\\\"BernoulliNaiveBayes\\\"],\\\"private_models\\\":[],\\\"auto_blacklist\\\":true,\\\"blacklist_samples_reached\\\":false,\\\"exclude_nan_labels\\\":true,\\\"verbosity\\\":20,\\\"_debug_log\\\":\\\"azureml_automl.log\\\",\\\"show_warnings\\\":false,\\\"model_explainability\\\":true,\\\"service_url\\\":null,\\\"sdk_url\\\":null,\\\"sdk_packages\\\":null,\\\"enable_onnx_compatible_models\\\":false,\\\"enable_split_onnx_featurizer_estimator_models\\\":false,\\\"vm_type\\\":\\\"STANDARD_D2_V2\\\",\\\"telemetry_verbosity\\\":20,\\\"send_telemetry\\\":true,\\\"enable_dnn\\\":false,\\\"scenario\\\":\\\"SDK-1.13.0\\\",\\\"environment_label\\\":null,\\\"save_mlflow\\\":false,\\\"force_text_dnn\\\":false,\\\"enable_feature_sweeping\\\":true,\\\"enable_early_stopping\\\":true,\\\"early_stopping_n_iters\\\":10,\\\"metrics\\\":null,\\\"enable_metric_confidence\\\":false,\\\"enable_ensembling\\\":true,\\\"enable_stack_ensembling\\\":true,\\\"ensemble_iterations\\\":15,\\\"enable_tf\\\":false,\\\"enable_subsampling\\\":null,\\\"subsample_seed\\\":null,\\\"enable_nimbusml\\\":false,\\\"enable_streaming\\\":false,\\\"force_streaming\\\":false,\\\"track_child_runs\\\":true,\\\"allowed_private_models\\\":[],\\\"label_column_name\\\":\\\"TenYearCHD\\\",\\\"weight_column_name\\\":null,\\\"cv_split_column_names\\\":null,\\\"enable_local_managed\\\":false,\\\"_local_managed_run_id\\\":null,\\\"cost_mode\\\":1,\\\"lag_length\\\":0,\\\"metric_operation\\\":\\\"maximize\\\",\\\"preprocess\\\":true}\", \"DataPrepJsonString\": \"{\\\\\\\"training_data\\\\\\\": \\\\\\\"{\\\\\\\\\\\\\\\"blocks\\\\\\\\\\\\\\\": [{\\\\\\\\\\\\\\\"id\\\\\\\\\\\\\\\": \\\\\\\\\\\\\\\"d21232bc-b7dd-4cd4-bb4f-ab7e8494e707\\\\\\\\\\\\\\\", \\\\\\\\\\\\\\\"type\\\\\\\\\\\\\\\": \\\\\\\\\\\\\\\"Microsoft.DPrep.GetFilesBlock\\\\\\\\\\\\\\\", \\\\\\\\\\\\\\\"arguments\\\\\\\\\\\\\\\": {\\\\\\\\\\\\\\\"isArchive\\\\\\\\\\\\\\\": false, \\\\\\\\\\\\\\\"path\\\\\\\\\\\\\\\": {\\\\\\\\\\\\\\\"target\\\\\\\\\\\\\\\": 4, \\\\\\\\\\\\\\\"resourceDetails\\\\\\\\\\\\\\\": [{\\\\\\\\\\\\\\\"path\\\\\\\\\\\\\\\": \\\\\\\\\\\\\\\"https://raw.githubusercontent.com/Haris-09/Coronary-Heart-Disease-Prediction-Capstone-Project/master/starter_file/framingham.csv\\\\\\\\\\\\\\\"}]}}, \\\\\\\\\\\\\\\"localData\\\\\\\\\\\\\\\": {}, \\\\\\\\\\\\\\\"isEnabled\\\\\\\\\\\\\\\": true, \\\\\\\\\\\\\\\"name\\\\\\\\\\\\\\\": null, \\\\\\\\\\\\\\\"annotation\\\\\\\\\\\\\\\": null}, {\\\\\\\\\\\\\\\"id\\\\\\\\\\\\\\\": \\\\\\\\\\\\\\\"e76c720c-90cd-4cff-aa98-0c29af44fc55\\\\\\\\\\\\\\\", \\\\\\\\\\\\\\\"type\\\\\\\\\\\\\\\": \\\\\\\\\\\\\\\"Microsoft.DPrep.ParseDelimitedBlock\\\\\\\\\\\\\\\", \\\\\\\\\\\\\\\"arguments\\\\\\\\\\\\\\\": {\\\\\\\\\\\\\\\"columnHeadersMode\\\\\\\\\\\\\\\": 3, \\\\\\\\\\\\\\\"fileEncoding\\\\\\\\\\\\\\\": 0, \\\\\\\\\\\\\\\"handleQuotedLineBreaks\\\\\\\\\\\\\\\": false, \\\\\\\\\\\\\\\"preview\\\\\\\\\\\\\\\": false, \\\\\\\\\\\\\\\"separator\\\\\\\\\\\\\\\": \\\\\\\\\\\\\\\",\\\\\\\\\\\\\\\", \\\\\\\\\\\\\\\"skipRows\\\\\\\\\\\\\\\": 0, \\\\\\\\\\\\\\\"skipRowsMode\\\\\\\\\\\\\\\": 0}, \\\\\\\\\\\\\\\"localData\\\\\\\\\\\\\\\": {}, \\\\\\\\\\\\\\\"isEnabled\\\\\\\\\\\\\\\": true, \\\\\\\\\\\\\\\"name\\\\\\\\\\\\\\\": null, \\\\\\\\\\\\\\\"annotation\\\\\\\\\\\\\\\": null}, {\\\\\\\\\\\\\\\"id\\\\\\\\\\\\\\\": \\\\\\\\\\\\\\\"2a1b312c-fbfb-431a-9835-f5cfde1f23da\\\\\\\\\\\\\\\", \\\\\\\\\\\\\\\"type\\\\\\\\\\\\\\\": \\\\\\\\\\\\\\\"Microsoft.DPrep.DropColumnsBlock\\\\\\\\\\\\\\\", \\\\\\\\\\\\\\\"arguments\\\\\\\\\\\\\\\": {\\\\\\\\\\\\\\\"columns\\\\\\\\\\\\\\\": {\\\\\\\\\\\\\\\"type\\\\\\\\\\\\\\\": 0, \\\\\\\\\\\\\\\"details\\\\\\\\\\\\\\\": {\\\\\\\\\\\\\\\"selectedColumns\\\\\\\\\\\\\\\": [\\\\\\\\\\\\\\\"Path\\\\\\\\\\\\\\\"]}}}, \\\\\\\\\\\\\\\"localData\\\\\\\\\\\\\\\": {}, \\\\\\\\\\\\\\\"isEnabled\\\\\\\\\\\\\\\": true, \\\\\\\\\\\\\\\"name\\\\\\\\\\\\\\\": null, \\\\\\\\\\\\\\\"annotation\\\\\\\\\\\\\\\": null}, {\\\\\\\\\\\\\\\"id\\\\\\\\\\\\\\\": \\\\\\\\\\\\\\\"76e8a292-1246-4701-b697-2ec9c08c65ef\\\\\\\\\\\\\\\", \\\\\\\\\\\\\\\"type\\\\\\\\\\\\\\\": \\\\\\\\\\\\\\\"Microsoft.DPrep.SetColumnTypesBlock\\\\\\\\\\\\\\\", \\\\\\\\\\\\\\\"arguments\\\\\\\\\\\\\\\": {\\\\\\\\\\\\\\\"columnConversion\\\\\\\\\\\\\\\": [{\\\\\\\\\\\\\\\"column\\\\\\\\\\\\\\\": {\\\\\\\\\\\\\\\"type\\\\\\\\\\\\\\\": 2, \\\\\\\\\\\\\\\"details\\\\\\\\\\\\\\\": {\\\\\\\\\\\\\\\"selectedColumn\\\\\\\\\\\\\\\": \\\\\\\\\\\\\\\"male\\\\\\\\\\\\\\\"}}, \\\\\\\\\\\\\\\"typeProperty\\\\\\\\\\\\\\\": 2}, {\\\\\\\\\\\\\\\"column\\\\\\\\\\\\\\\": {\\\\\\\\\\\\\\\"type\\\\\\\\\\\\\\\": 2, \\\\\\\\\\\\\\\"details\\\\\\\\\\\\\\\": {\\\\\\\\\\\\\\\"selectedColumn\\\\\\\\\\\\\\\": \\\\\\\\\\\\\\\"age\\\\\\\\\\\\\\\"}}, \\\\\\\\\\\\\\\"typeProperty\\\\\\\\\\\\\\\": 2}, {\\\\\\\\\\\\\\\"column\\\\\\\\\\\\\\\": {\\\\\\\\\\\\\\\"type\\\\\\\\\\\\\\\": 2, \\\\\\\\\\\\\\\"details\\\\\\\\\\\\\\\": {\\\\\\\\\\\\\\\"selectedColumn\\\\\\\\\\\\\\\": \\\\\\\\\\\\\\\"education\\\\\\\\\\\\\\\"}}, \\\\\\\\\\\\\\\"typeProperty\\\\\\\\\\\\\\\": 0}, {\\\\\\\\\\\\\\\"column\\\\\\\\\\\\\\\": {\\\\\\\\\\\\\\\"type\\\\\\\\\\\\\\\": 2, \\\\\\\\\\\\\\\"details\\\\\\\\\\\\\\\": {\\\\\\\\\\\\\\\"selectedColumn\\\\\\\\\\\\\\\": \\\\\\\\\\\\\\\"currentSmoker\\\\\\\\\\\\\\\"}}, \\\\\\\\\\\\\\\"typeProperty\\\\\\\\\\\\\\\": 2}, {\\\\\\\\\\\\\\\"column\\\\\\\\\\\\\\\": {\\\\\\\\\\\\\\\"type\\\\\\\\\\\\\\\": 2, \\\\\\\\\\\\\\\"details\\\\\\\\\\\\\\\": {\\\\\\\\\\\\\\\"selectedColumn\\\\\\\\\\\\\\\": \\\\\\\\\\\\\\\"cigsPerDay\\\\\\\\\\\\\\\"}}, \\\\\\\\\\\\\\\"typeProperty\\\\\\\\\\\\\\\": 0}, {\\\\\\\\\\\\\\\"column\\\\\\\\\\\\\\\": {\\\\\\\\\\\\\\\"type\\\\\\\\\\\\\\\": 2, \\\\\\\\\\\\\\\"details\\\\\\\\\\\\\\\": {\\\\\\\\\\\\\\\"selectedColumn\\\\\\\\\\\\\\\": \\\\\\\\\\\\\\\"BPMeds\\\\\\\\\\\\\\\"}}, \\\\\\\\\\\\\\\"typeProperty\\\\\\\\\\\\\\\": 0}, {\\\\\\\\\\\\\\\"column\\\\\\\\\\\\\\\": {\\\\\\\\\\\\\\\"type\\\\\\\\\\\\\\\": 2, \\\\\\\\\\\\\\\"details\\\\\\\\\\\\\\\": {\\\\\\\\\\\\\\\"selectedColumn\\\\\\\\\\\\\\\": \\\\\\\\\\\\\\\"prevalentStroke\\\\\\\\\\\\\\\"}}, \\\\\\\\\\\\\\\"typeProperty\\\\\\\\\\\\\\\": 2}, {\\\\\\\\\\\\\\\"column\\\\\\\\\\\\\\\": {\\\\\\\\\\\\\\\"type\\\\\\\\\\\\\\\": 2, \\\\\\\\\\\\\\\"details\\\\\\\\\\\\\\\": {\\\\\\\\\\\\\\\"selectedColumn\\\\\\\\\\\\\\\": \\\\\\\\\\\\\\\"prevalentHyp\\\\\\\\\\\\\\\"}}, \\\\\\\\\\\\\\\"typeProperty\\\\\\\\\\\\\\\": 2}, {\\\\\\\\\\\\\\\"column\\\\\\\\\\\\\\\": {\\\\\\\\\\\\\\\"type\\\\\\\\\\\\\\\": 2, \\\\\\\\\\\\\\\"details\\\\\\\\\\\\\\\": {\\\\\\\\\\\\\\\"selectedColumn\\\\\\\\\\\\\\\": \\\\\\\\\\\\\\\"diabetes\\\\\\\\\\\\\\\"}}, \\\\\\\\\\\\\\\"typeProperty\\\\\\\\\\\\\\\": 2}, {\\\\\\\\\\\\\\\"column\\\\\\\\\\\\\\\": {\\\\\\\\\\\\\\\"type\\\\\\\\\\\\\\\": 2, \\\\\\\\\\\\\\\"details\\\\\\\\\\\\\\\": {\\\\\\\\\\\\\\\"selectedColumn\\\\\\\\\\\\\\\": \\\\\\\\\\\\\\\"totChol\\\\\\\\\\\\\\\"}}, \\\\\\\\\\\\\\\"typeProperty\\\\\\\\\\\\\\\": 0}, {\\\\\\\\\\\\\\\"column\\\\\\\\\\\\\\\": {\\\\\\\\\\\\\\\"type\\\\\\\\\\\\\\\": 2, \\\\\\\\\\\\\\\"details\\\\\\\\\\\\\\\": {\\\\\\\\\\\\\\\"selectedColumn\\\\\\\\\\\\\\\": \\\\\\\\\\\\\\\"sysBP\\\\\\\\\\\\\\\"}}, \\\\\\\\\\\\\\\"typeProperty\\\\\\\\\\\\\\\": 3}, {\\\\\\\\\\\\\\\"column\\\\\\\\\\\\\\\": {\\\\\\\\\\\\\\\"type\\\\\\\\\\\\\\\": 2, \\\\\\\\\\\\\\\"details\\\\\\\\\\\\\\\": {\\\\\\\\\\\\\\\"selectedColumn\\\\\\\\\\\\\\\": \\\\\\\\\\\\\\\"diaBP\\\\\\\\\\\\\\\"}}, \\\\\\\\\\\\\\\"typeProperty\\\\\\\\\\\\\\\": 3}, {\\\\\\\\\\\\\\\"column\\\\\\\\\\\\\\\": {\\\\\\\\\\\\\\\"type\\\\\\\\\\\\\\\": 2, \\\\\\\\\\\\\\\"details\\\\\\\\\\\\\\\": {\\\\\\\\\\\\\\\"selectedColumn\\\\\\\\\\\\\\\": \\\\\\\\\\\\\\\"BMI\\\\\\\\\\\\\\\"}}, \\\\\\\\\\\\\\\"typeProperty\\\\\\\\\\\\\\\": 0}, {\\\\\\\\\\\\\\\"column\\\\\\\\\\\\\\\": {\\\\\\\\\\\\\\\"type\\\\\\\\\\\\\\\": 2, \\\\\\\\\\\\\\\"details\\\\\\\\\\\\\\\": {\\\\\\\\\\\\\\\"selectedColumn\\\\\\\\\\\\\\\": \\\\\\\\\\\\\\\"heartRate\\\\\\\\\\\\\\\"}}, \\\\\\\\\\\\\\\"typeProperty\\\\\\\\\\\\\\\": 2}, {\\\\\\\\\\\\\\\"column\\\\\\\\\\\\\\\": {\\\\\\\\\\\\\\\"type\\\\\\\\\\\\\\\": 2, \\\\\\\\\\\\\\\"details\\\\\\\\\\\\\\\": {\\\\\\\\\\\\\\\"selectedColumn\\\\\\\\\\\\\\\": \\\\\\\\\\\\\\\"glucose\\\\\\\\\\\\\\\"}}, \\\\\\\\\\\\\\\"typeProperty\\\\\\\\\\\\\\\": 0}, {\\\\\\\\\\\\\\\"column\\\\\\\\\\\\\\\": {\\\\\\\\\\\\\\\"type\\\\\\\\\\\\\\\": 2, \\\\\\\\\\\\\\\"details\\\\\\\\\\\\\\\": {\\\\\\\\\\\\\\\"selectedColumn\\\\\\\\\\\\\\\": \\\\\\\\\\\\\\\"TenYearCHD\\\\\\\\\\\\\\\"}}, \\\\\\\\\\\\\\\"typeProperty\\\\\\\\\\\\\\\": 2}]}, \\\\\\\\\\\\\\\"localData\\\\\\\\\\\\\\\": {}, \\\\\\\\\\\\\\\"isEnabled\\\\\\\\\\\\\\\": true, \\\\\\\\\\\\\\\"name\\\\\\\\\\\\\\\": null, \\\\\\\\\\\\\\\"annotation\\\\\\\\\\\\\\\": null}], \\\\\\\\\\\\\\\"inspectors\\\\\\\\\\\\\\\": [], \\\\\\\\\\\\\\\"meta\\\\\\\\\\\\\\\": {\\\\\\\\\\\\\\\"savedDatasetId\\\\\\\\\\\\\\\": \\\\\\\\\\\\\\\"653e5f50-8973-43a2-ac4b-fddf22222719\\\\\\\\\\\\\\\", \\\\\\\\\\\\\\\"datasetType\\\\\\\\\\\\\\\": \\\\\\\\\\\\\\\"tabular\\\\\\\\\\\\\\\", \\\\\\\\\\\\\\\"subscriptionId\\\\\\\\\\\\\\\": \\\\\\\\\\\\\\\"81cefad3-d2c9-4f77-a466-99a7f541c7bb\\\\\\\\\\\\\\\", \\\\\\\\\\\\\\\"workspaceId\\\\\\\\\\\\\\\": \\\\\\\\\\\\\\\"88e065f7-b211-404a-bfc5-f0fcb01a5e57\\\\\\\\\\\\\\\", \\\\\\\\\\\\\\\"workspaceLocation\\\\\\\\\\\\\\\": \\\\\\\\\\\\\\\"southcentralus\\\\\\\\\\\\\\\", \\\\\\\\\\\\\\\"partition_keys\\\\\\\\\\\\\\\": \\\\\\\\\\\\\\\"true\\\\\\\\\\\\\\\"}}\\\\\\\", \\\\\\\"activities\\\\\\\": 0}\", \"EnableSubsampling\": null, \"runTemplate\": \"AutoML\", \"azureml.runsource\": \"automl\", \"display_task_type\": \"classification\", \"dependencies_versions\": \"{\\\"azureml-widgets\\\": \\\"1.24.0\\\", \\\"azureml-train\\\": \\\"1.24.0\\\", \\\"azureml-train-restclients-hyperdrive\\\": \\\"1.24.0\\\", \\\"azureml-train-core\\\": \\\"1.24.0\\\", \\\"azureml-train-automl-client\\\": \\\"1.24.0\\\", \\\"azureml-tensorboard\\\": \\\"1.24.0\\\", \\\"azureml-telemetry\\\": \\\"1.24.0\\\", \\\"azureml-sdk\\\": \\\"1.24.0\\\", \\\"azureml-pipeline\\\": \\\"1.24.0\\\", \\\"azureml-pipeline-steps\\\": \\\"1.24.0\\\", \\\"azureml-pipeline-core\\\": \\\"1.24.0\\\", \\\"azureml-opendatasets\\\": \\\"1.24.0\\\", \\\"azureml-model-management-sdk\\\": \\\"1.0.1b6.post1\\\", \\\"azureml-mlflow\\\": \\\"1.24.0\\\", \\\"azureml-interpret\\\": \\\"1.24.0\\\", \\\"azureml-explain-model\\\": \\\"1.24.0\\\", \\\"azureml-defaults\\\": \\\"1.24.0\\\", \\\"azureml-dataset-runtime\\\": \\\"1.24.0\\\", \\\"azureml-dataprep\\\": \\\"2.11.1\\\", \\\"azureml-dataprep-rslex\\\": \\\"1.9.0\\\", \\\"azureml-dataprep-native\\\": \\\"30.0.0\\\", \\\"azureml-datadrift\\\": \\\"1.24.0\\\", \\\"azureml-core\\\": \\\"1.24.0\\\", \\\"azureml-contrib-services\\\": \\\"1.24.0\\\", \\\"azureml-contrib-server\\\": \\\"1.24.0\\\", \\\"azureml-contrib-reinforcementlearning\\\": \\\"1.24.0\\\", \\\"azureml-contrib-pipeline-steps\\\": \\\"1.24.0\\\", \\\"azureml-contrib-notebook\\\": \\\"1.24.0\\\", \\\"azureml-contrib-gbdt\\\": \\\"1.24.0\\\", \\\"azureml-contrib-fairness\\\": \\\"1.24.0\\\", \\\"azureml-contrib-dataset\\\": \\\"1.24.0\\\", \\\"azureml-cli-common\\\": \\\"1.24.0\\\", \\\"azureml-automl-core\\\": \\\"1.24.0\\\", \\\"azureml-accel-models\\\": \\\"1.24.0\\\"}\", \"_aml_system_scenario_identification\": \"Remote.Parent\", \"ClientType\": \"SDK\", \"environment_cpu_name\": \"AzureML-AutoML\", \"environment_cpu_label\": \"prod\", \"environment_gpu_name\": \"AzureML-AutoML-GPU\", \"environment_gpu_label\": \"prod\", \"root_attribution\": \"automl\", \"attribution\": \"AutoML\", \"Orchestrator\": \"AutoML\", \"CancelUri\": \"https://southcentralus.experiments.azureml.net/jasmine/v1.0/subscriptions/81cefad3-d2c9-4f77-a466-99a7f541c7bb/resourceGroups/aml-quickstarts-141649/providers/Microsoft.MachineLearningServices/workspaces/quick-starts-ws-141649/experimentids/379fcafd-a028-4bd2-b000-d6287a72a7f0/cancel/AutoML_1d51ae79-9d4c-42a4-978c-078a65042d57\", \"ClientSdkVersion\": \"1.24.0\", \"snapshotId\": \"00000000-0000-0000-0000-000000000000\", \"SetupRunId\": \"AutoML_1d51ae79-9d4c-42a4-978c-078a65042d57_setup\", \"SetupRunContainerId\": \"dcid.AutoML_1d51ae79-9d4c-42a4-978c-078a65042d57_setup\", \"FeaturizationRunJsonPath\": \"featurizer_container.json\", \"FeaturizationRunId\": \"AutoML_1d51ae79-9d4c-42a4-978c-078a65042d57_featurize\", \"ProblemInfoJsonString\": \"{\\\"dataset_num_categorical\\\": 0, \\\"is_sparse\\\": true, \\\"subsampling\\\": false, \\\"dataset_classes\\\": 2, \\\"dataset_features\\\": 1385, \\\"dataset_samples\\\": 4240, \\\"single_frequency_class_detected\\\": false}\", \"ModelExplainRunId\": \"AutoML_1d51ae79-9d4c-42a4-978c-078a65042d57_ModelExplain\"}, \"tags\": {\"model_explain_run\": \"best_run\", \"_aml_system_azureml.automlComponent\": \"AutoML\", \"pipeline_id\": \"\", \"score\": \"\", \"predicted_cost\": \"\", \"fit_time\": \"\", \"training_percent\": \"\", \"iteration\": \"\", \"run_preprocessor\": \"\", \"run_algorithm\": \"\", \"dynamic_whitelisting_iterations\": \"<24>;<30>;<35>;\", \"automl_best_child_run_id\": \"AutoML_1d51ae79-9d4c-42a4-978c-078a65042d57_15\", \"model_explain_best_run_child_id\": \"AutoML_1d51ae79-9d4c-42a4-978c-078a65042d57_15\"}, \"end_time_utc\": \"2021-03-30T18:42:29.888671Z\", \"status\": \"Completed\", \"log_files\": {}, \"log_groups\": [], \"run_duration\": \"0:26:48\", \"run_number\": \"2\", \"run_queued_details\": {\"status\": \"Completed\", \"details\": null}}, \"child_runs\": [{\"run_id\": \"AutoML_1d51ae79-9d4c-42a4-978c-078a65042d57_0\", \"run_number\": 6, \"metric\": null, \"status\": \"Completed\", \"run_type\": \"azureml.scriptrun\", \"training_percent\": \"100\", \"start_time\": \"2021-03-30T18:28:36.072951Z\", \"end_time\": \"2021-03-30T18:29:30.253802Z\", \"created_time\": \"2021-03-30T18:25:52.592679Z\", \"created_time_dt\": \"2021-03-30T18:25:52.592679Z\", \"duration\": \"0:03:37\", \"iteration\": \"0\", \"goal\": \"accuracy_max\", \"run_name\": \"MaxAbsScaler, LightGBM\", \"run_properties\": \"copy=True\", \"primary_metric\": 0.83207623, \"best_metric\": 0.83207623}, {\"run_id\": \"AutoML_1d51ae79-9d4c-42a4-978c-078a65042d57_3\", \"run_number\": 7, \"metric\": null, \"status\": \"Completed\", \"run_type\": \"azureml.scriptrun\", \"training_percent\": \"100\", \"start_time\": \"2021-03-30T18:29:33.415645Z\", \"end_time\": \"2021-03-30T18:35:03.430098Z\", \"created_time\": \"2021-03-30T18:25:52.631852Z\", \"created_time_dt\": \"2021-03-30T18:25:52.631852Z\", \"duration\": \"0:09:10\", \"iteration\": \"3\", \"goal\": \"accuracy_max\", \"run_name\": \"MaxAbsScaler, RandomForest\", \"run_properties\": \"copy=True\", \"primary_metric\": 0.84811558, \"best_metric\": 0.84811558}, {\"run_id\": \"AutoML_1d51ae79-9d4c-42a4-978c-078a65042d57_2\", \"run_number\": 8, \"metric\": null, \"status\": \"Completed\", \"run_type\": \"azureml.scriptrun\", \"training_percent\": \"100\", \"start_time\": \"2021-03-30T18:27:22.495525Z\", \"end_time\": \"2021-03-30T18:28:19.687337Z\", \"created_time\": \"2021-03-30T18:25:52.975421Z\", \"created_time_dt\": \"2021-03-30T18:25:52.975421Z\", \"duration\": \"0:02:26\", \"iteration\": \"2\", \"goal\": \"accuracy_max\", \"run_name\": \"MaxAbsScaler, RandomForest\", \"run_properties\": \"copy=True\", \"primary_metric\": 0.84811558, \"best_metric\": 0.84811558}, {\"run_id\": \"AutoML_1d51ae79-9d4c-42a4-978c-078a65042d57_1\", \"run_number\": 9, \"metric\": null, \"status\": \"Completed\", \"run_type\": \"azureml.scriptrun\", \"training_percent\": \"100\", \"start_time\": \"2021-03-30T18:26:07.269237Z\", \"end_time\": \"2021-03-30T18:27:07.874784Z\", \"created_time\": \"2021-03-30T18:25:52.631847Z\", \"created_time_dt\": \"2021-03-30T18:25:52.631847Z\", \"duration\": \"0:01:15\", \"iteration\": \"1\", \"goal\": \"accuracy_max\", \"run_name\": \"MaxAbsScaler, XGBoostClassifier\", \"run_properties\": \"copy=True\", \"primary_metric\": 0.84717113, \"best_metric\": 0.84717113}, {\"run_id\": \"AutoML_1d51ae79-9d4c-42a4-978c-078a65042d57_4\", \"run_number\": 10, \"metric\": null, \"status\": \"Completed\", \"run_type\": \"azureml.scriptrun\", \"training_percent\": \"100\", \"start_time\": \"2021-03-30T18:29:33.171539Z\", \"end_time\": \"2021-03-30T18:32:46.600088Z\", \"created_time\": \"2021-03-30T18:27:11.565464Z\", \"created_time_dt\": \"2021-03-30T18:27:11.565464Z\", \"duration\": \"0:05:35\", \"iteration\": \"4\", \"goal\": \"accuracy_max\", \"run_name\": \"MaxAbsScaler, RandomForest\", \"run_properties\": \"copy=True\", \"primary_metric\": 0.6448016, \"best_metric\": 0.84811558}, {\"run_id\": \"AutoML_1d51ae79-9d4c-42a4-978c-078a65042d57_5\", \"run_number\": 11, \"metric\": null, \"status\": \"Completed\", \"run_type\": \"azureml.scriptrun\", \"training_percent\": \"100\", \"start_time\": \"2021-03-30T18:29:37.02751Z\", \"end_time\": \"2021-03-30T18:32:47.808102Z\", \"created_time\": \"2021-03-30T18:28:22.829464Z\", \"created_time_dt\": \"2021-03-30T18:28:22.829464Z\", \"duration\": \"0:04:24\", \"iteration\": \"5\", \"goal\": \"accuracy_max\", \"run_name\": \"MaxAbsScaler, RandomForest\", \"run_properties\": \"copy=True\", \"primary_metric\": 0.62050926, \"best_metric\": 0.84811558}, {\"run_id\": \"AutoML_1d51ae79-9d4c-42a4-978c-078a65042d57_6\", \"run_number\": 12, \"metric\": null, \"status\": \"Completed\", \"run_type\": \"azureml.scriptrun\", \"training_percent\": \"100\", \"start_time\": \"2021-03-30T18:29:43.150828Z\", \"end_time\": \"2021-03-30T18:30:52.683545Z\", \"created_time\": \"2021-03-30T18:29:33.080169Z\", \"created_time_dt\": \"2021-03-30T18:29:33.080169Z\", \"duration\": \"0:01:19\", \"iteration\": \"6\", \"goal\": \"accuracy_max\", \"run_name\": \"StandardScalerWrapper, LogisticRegression\", \"run_properties\": \"<azureml.automl.runtime.shared.model_wrappers.StandardScalerWrapper object at 0x7effe7174978\", \"primary_metric\": 0.70212211, \"best_metric\": 0.84811558}, {\"run_id\": \"AutoML_1d51ae79-9d4c-42a4-978c-078a65042d57_7\", \"run_number\": 13, \"metric\": null, \"status\": \"Completed\", \"run_type\": \"azureml.scriptrun\", \"training_percent\": \"100\", \"start_time\": \"2021-03-30T18:31:07.981689Z\", \"end_time\": \"2021-03-30T18:32:03.557021Z\", \"created_time\": \"2021-03-30T18:30:55.56008Z\", \"created_time_dt\": \"2021-03-30T18:30:55.56008Z\", \"duration\": \"0:01:07\", \"iteration\": \"7\", \"goal\": \"accuracy_max\", \"run_name\": \"SparseNormalizer, XGBoostClassifier\", \"run_properties\": \"<azureml.automl.runtime.shared.model_wrappers.SparseNormalizer object at 0x7f4a0310e710\", \"primary_metric\": 0.84056747, \"best_metric\": 0.84811558}, {\"run_id\": \"AutoML_1d51ae79-9d4c-42a4-978c-078a65042d57_8\", \"run_number\": 14, \"metric\": null, \"status\": \"Completed\", \"run_type\": \"azureml.scriptrun\", \"training_percent\": \"100\", \"start_time\": \"2021-03-30T18:32:19.293631Z\", \"end_time\": \"2021-03-30T18:33:08.11727Z\", \"created_time\": \"2021-03-30T18:32:06.840058Z\", \"created_time_dt\": \"2021-03-30T18:32:06.840058Z\", \"duration\": \"0:01:01\", \"iteration\": \"8\", \"goal\": \"accuracy_max\", \"run_name\": \"MaxAbsScaler, LogisticRegression\", \"run_properties\": \"copy=True\", \"primary_metric\": 0.80684027, \"best_metric\": 0.84811558}, {\"run_id\": \"AutoML_1d51ae79-9d4c-42a4-978c-078a65042d57_9\", \"run_number\": 15, \"metric\": null, \"status\": \"Completed\", \"run_type\": \"azureml.scriptrun\", \"training_percent\": \"100\", \"start_time\": \"2021-03-30T18:32:58.539533Z\", \"end_time\": \"2021-03-30T18:33:43.269449Z\", \"created_time\": \"2021-03-30T18:32:49.126873Z\", \"created_time_dt\": \"2021-03-30T18:32:49.126873Z\", \"duration\": \"0:00:54\", \"iteration\": \"9\", \"goal\": \"accuracy_max\", \"run_name\": \"MaxAbsScaler, LightGBM\", \"run_properties\": \"copy=True\", \"primary_metric\": 0.84811558, \"best_metric\": 0.84811558}, {\"run_id\": \"AutoML_1d51ae79-9d4c-42a4-978c-078a65042d57_10\", \"run_number\": 16, \"metric\": null, \"status\": \"Completed\", \"run_type\": \"azureml.scriptrun\", \"training_percent\": \"100\", \"start_time\": \"2021-03-30T18:33:00.320385Z\", \"end_time\": \"2021-03-30T18:33:50.781644Z\", \"created_time\": \"2021-03-30T18:32:53.091275Z\", \"created_time_dt\": \"2021-03-30T18:32:53.091275Z\", \"duration\": \"0:00:57\", \"iteration\": \"10\", \"goal\": \"accuracy_max\", \"run_name\": \"StandardScalerWrapper, LightGBM\", \"run_properties\": \"<azureml.automl.runtime.shared.model_wrappers.StandardScalerWrapper object at 0x7f10328f4780\", \"primary_metric\": 0.84552063, \"best_metric\": 0.84811558}, {\"run_id\": \"AutoML_1d51ae79-9d4c-42a4-978c-078a65042d57_11\", \"run_number\": 17, \"metric\": null, \"status\": \"Completed\", \"run_type\": \"azureml.scriptrun\", \"training_percent\": \"100\", \"start_time\": \"2021-03-30T18:33:22.222258Z\", \"end_time\": \"2021-03-30T18:34:04.460386Z\", \"created_time\": \"2021-03-30T18:33:11.284132Z\", \"created_time_dt\": \"2021-03-30T18:33:11.284132Z\", \"duration\": \"0:00:53\", \"iteration\": \"11\", \"goal\": \"accuracy_max\", \"run_name\": \"MaxAbsScaler, RandomForest\", \"run_properties\": \"copy=True\", \"primary_metric\": 0.84811558, \"best_metric\": 0.84811558}, {\"run_id\": \"AutoML_1d51ae79-9d4c-42a4-978c-078a65042d57_12\", \"run_number\": 18, \"metric\": null, \"status\": \"Completed\", \"run_type\": \"azureml.scriptrun\", \"training_percent\": \"100\", \"start_time\": \"2021-03-30T18:33:59.067145Z\", \"end_time\": \"2021-03-30T18:34:46.382106Z\", \"created_time\": \"2021-03-30T18:33:47.623792Z\", \"created_time_dt\": \"2021-03-30T18:33:47.623792Z\", \"duration\": \"0:00:58\", \"iteration\": \"12\", \"goal\": \"accuracy_max\", \"run_name\": \"MaxAbsScaler, LightGBM\", \"run_properties\": \"copy=True\", \"primary_metric\": 0.84693606, \"best_metric\": 0.84811558}, {\"run_id\": \"AutoML_1d51ae79-9d4c-42a4-978c-078a65042d57_13\", \"run_number\": 19, \"metric\": null, \"status\": \"Completed\", \"run_type\": \"azureml.scriptrun\", \"training_percent\": \"100\", \"start_time\": \"2021-03-30T18:34:06.944497Z\", \"end_time\": \"2021-03-30T18:34:51.294579Z\", \"created_time\": \"2021-03-30T18:33:54.813593Z\", \"created_time_dt\": \"2021-03-30T18:33:54.813593Z\", \"duration\": \"0:00:56\", \"iteration\": \"13\", \"goal\": \"accuracy_max\", \"run_name\": \"MaxAbsScaler, LightGBM\", \"run_properties\": \"copy=True\", \"primary_metric\": 0.84811558, \"best_metric\": 0.84811558}, {\"run_id\": \"AutoML_1d51ae79-9d4c-42a4-978c-078a65042d57_14\", \"run_number\": 20, \"metric\": null, \"status\": \"Completed\", \"run_type\": \"azureml.scriptrun\", \"training_percent\": \"100\", \"start_time\": \"2021-03-30T18:34:22.767503Z\", \"end_time\": \"2021-03-30T18:35:28.619986Z\", \"created_time\": \"2021-03-30T18:34:06.643705Z\", \"created_time_dt\": \"2021-03-30T18:34:06.643705Z\", \"duration\": \"0:01:21\", \"iteration\": \"14\", \"goal\": \"accuracy_max\", \"run_name\": \"MaxAbsScaler, ExtremeRandomTrees\", \"run_properties\": \"copy=True\", \"primary_metric\": 0.84811558, \"best_metric\": 0.84811558}, {\"run_id\": \"AutoML_1d51ae79-9d4c-42a4-978c-078a65042d57_15\", \"run_number\": 21, \"metric\": null, \"status\": \"Completed\", \"run_type\": \"azureml.scriptrun\", \"training_percent\": \"100\", \"start_time\": \"2021-03-30T18:35:02.15933Z\", \"end_time\": \"2021-03-30T18:35:54.602795Z\", \"created_time\": \"2021-03-30T18:34:48.360954Z\", \"created_time_dt\": \"2021-03-30T18:34:48.360954Z\", \"duration\": \"0:01:06\", \"iteration\": \"15\", \"goal\": \"accuracy_max\", \"run_name\": \"StandardScalerWrapper, XGBoostClassifier\", \"run_properties\": \"<azureml.automl.runtime.shared.model_wrappers.StandardScalerWrapper object at 0x7f2d11faf240\", \"primary_metric\": 0.84835132, \"best_metric\": 0.84835132}, {\"run_id\": \"AutoML_1d51ae79-9d4c-42a4-978c-078a65042d57_16\", \"run_number\": 22, \"metric\": null, \"status\": \"Completed\", \"run_type\": \"azureml.scriptrun\", \"training_percent\": \"100\", \"start_time\": \"2021-03-30T18:35:07.43237Z\", \"end_time\": \"2021-03-30T18:35:57.441397Z\", \"created_time\": \"2021-03-30T18:34:53.257286Z\", \"created_time_dt\": \"2021-03-30T18:34:53.257286Z\", \"duration\": \"0:01:04\", \"iteration\": \"16\", \"goal\": \"accuracy_max\", \"run_name\": \"SparseNormalizer, XGBoostClassifier\", \"run_properties\": \"<azureml.automl.runtime.shared.model_wrappers.SparseNormalizer object at 0x7f1d5a462da0\", \"primary_metric\": 0.84552063, \"best_metric\": 0.84835132}, {\"run_id\": \"AutoML_1d51ae79-9d4c-42a4-978c-078a65042d57_17\", \"run_number\": 23, \"metric\": null, \"status\": \"Completed\", \"run_type\": \"azureml.scriptrun\", \"training_percent\": \"100\", \"start_time\": \"2021-03-30T18:35:16.058633Z\", \"end_time\": \"2021-03-30T18:36:02.731045Z\", \"created_time\": \"2021-03-30T18:35:05.283499Z\", \"created_time_dt\": \"2021-03-30T18:35:05.283499Z\", \"duration\": \"0:00:57\", \"iteration\": \"17\", \"goal\": \"accuracy_max\", \"run_name\": \"SparseNormalizer, LightGBM\", \"run_properties\": \"<azureml.automl.runtime.shared.model_wrappers.SparseNormalizer object at 0x7f688807fa90\", \"primary_metric\": 0.84504882, \"best_metric\": 0.84835132}, {\"run_id\": \"AutoML_1d51ae79-9d4c-42a4-978c-078a65042d57_18\", \"run_number\": 24, \"metric\": null, \"status\": \"Completed\", \"run_type\": \"azureml.scriptrun\", \"training_percent\": \"100\", \"start_time\": \"2021-03-30T18:35:41.877578Z\", \"end_time\": \"2021-03-30T18:36:35.638837Z\", \"created_time\": \"2021-03-30T18:35:31.599108Z\", \"created_time_dt\": \"2021-03-30T18:35:31.599108Z\", \"duration\": \"0:01:04\", \"iteration\": \"18\", \"goal\": \"accuracy_max\", \"run_name\": \"SparseNormalizer, XGBoostClassifier\", \"run_properties\": \"<azureml.automl.runtime.shared.model_wrappers.SparseNormalizer object at 0x7fb459b9c208\", \"primary_metric\": 0.8391517, \"best_metric\": 0.84835132}, {\"run_id\": \"AutoML_1d51ae79-9d4c-42a4-978c-078a65042d57_19\", \"run_number\": 25, \"metric\": null, \"status\": \"Completed\", \"run_type\": \"azureml.scriptrun\", \"training_percent\": \"100\", \"start_time\": \"2021-03-30T18:36:07.152538Z\", \"end_time\": \"2021-03-30T18:37:02.048908Z\", \"created_time\": \"2021-03-30T18:35:57.972132Z\", \"created_time_dt\": \"2021-03-30T18:35:57.972132Z\", \"duration\": \"0:01:04\", \"iteration\": \"19\", \"goal\": \"accuracy_max\", \"run_name\": \"MaxAbsScaler, GradientBoosting\", \"run_properties\": \"copy=True\", \"primary_metric\": 0.84811558, \"best_metric\": 0.84835132}, {\"run_id\": \"AutoML_1d51ae79-9d4c-42a4-978c-078a65042d57_20\", \"run_number\": 26, \"metric\": null, \"status\": \"Completed\", \"run_type\": \"azureml.scriptrun\", \"training_percent\": \"100\", \"start_time\": \"2021-03-30T18:36:14.821439Z\", \"end_time\": \"2021-03-30T18:37:03.446923Z\", \"created_time\": \"2021-03-30T18:36:02.866261Z\", \"created_time_dt\": \"2021-03-30T18:36:02.866261Z\", \"duration\": \"0:01:00\", \"iteration\": \"20\", \"goal\": \"accuracy_max\", \"run_name\": \"StandardScalerWrapper, XGBoostClassifier\", \"run_properties\": \"<azureml.automl.runtime.shared.model_wrappers.StandardScalerWrapper object at 0x7f52073418d0\", \"primary_metric\": 0.84811558, \"best_metric\": 0.84835132}, {\"run_id\": \"AutoML_1d51ae79-9d4c-42a4-978c-078a65042d57_21\", \"run_number\": 27, \"metric\": null, \"status\": \"Completed\", \"run_type\": \"azureml.scriptrun\", \"training_percent\": \"100\", \"start_time\": \"2021-03-30T18:36:17.838891Z\", \"end_time\": \"2021-03-30T18:37:03.124791Z\", \"created_time\": \"2021-03-30T18:36:06.258108Z\", \"created_time_dt\": \"2021-03-30T18:36:06.258108Z\", \"duration\": \"0:00:56\", \"iteration\": \"21\", \"goal\": \"accuracy_max\", \"run_name\": \"StandardScalerWrapper, LightGBM\", \"run_properties\": \"<azureml.automl.runtime.shared.model_wrappers.StandardScalerWrapper object at 0x7fd383c73710\", \"primary_metric\": 0.84811558, \"best_metric\": 0.84835132}, {\"run_id\": \"AutoML_1d51ae79-9d4c-42a4-978c-078a65042d57_22\", \"run_number\": 28, \"metric\": null, \"status\": \"Completed\", \"run_type\": \"azureml.scriptrun\", \"training_percent\": \"100\", \"start_time\": \"2021-03-30T18:36:51.021633Z\", \"end_time\": \"2021-03-30T18:37:40.025031Z\", \"created_time\": \"2021-03-30T18:36:38.904782Z\", \"created_time_dt\": \"2021-03-30T18:36:38.904782Z\", \"duration\": \"0:01:01\", \"iteration\": \"22\", \"goal\": \"accuracy_max\", \"run_name\": \"MaxAbsScaler, LightGBM\", \"run_properties\": \"copy=True\", \"primary_metric\": 0.84811558, \"best_metric\": 0.84835132}, {\"run_id\": \"AutoML_1d51ae79-9d4c-42a4-978c-078a65042d57_23\", \"run_number\": 29, \"metric\": null, \"status\": \"Completed\", \"run_type\": \"azureml.scriptrun\", \"training_percent\": \"100\", \"start_time\": \"2021-03-30T18:37:16.377976Z\", \"end_time\": \"2021-03-30T18:38:19.203913Z\", \"created_time\": \"2021-03-30T18:37:04.09745Z\", \"created_time_dt\": \"2021-03-30T18:37:04.09745Z\", \"duration\": \"0:01:15\", \"iteration\": \"23\", \"goal\": \"accuracy_max\", \"run_name\": \"StandardScalerWrapper, ExtremeRandomTrees\", \"run_properties\": \"<azureml.automl.runtime.shared.model_wrappers.StandardScalerWrapper object at 0x7fabe564b668\", \"primary_metric\": 0.84811558, \"best_metric\": 0.84835132}, {\"run_id\": \"AutoML_1d51ae79-9d4c-42a4-978c-078a65042d57_24\", \"run_number\": 30, \"metric\": null, \"status\": \"Completed\", \"run_type\": \"azureml.scriptrun\", \"training_percent\": \"100\", \"start_time\": \"2021-03-30T18:37:16.719557Z\", \"end_time\": \"2021-03-30T18:38:03.148465Z\", \"created_time\": \"2021-03-30T18:37:08.57052Z\", \"created_time_dt\": \"2021-03-30T18:37:08.57052Z\", \"duration\": \"0:00:54\", \"iteration\": \"24\", \"goal\": \"accuracy_max\", \"run_name\": \"SparseNormalizer, XGBoostClassifier\", \"run_properties\": \"<azureml.automl.runtime.shared.model_wrappers.SparseNormalizer object at 0x7efd14fa9860\", \"primary_metric\": 0.84811558, \"best_metric\": 0.84835132}, {\"run_id\": \"AutoML_1d51ae79-9d4c-42a4-978c-078a65042d57_25\", \"run_number\": 31, \"metric\": null, \"status\": \"Completed\", \"run_type\": \"azureml.scriptrun\", \"training_percent\": \"100\", \"start_time\": \"2021-03-30T18:37:17.86683Z\", \"end_time\": \"2021-03-30T18:38:16.442041Z\", \"created_time\": \"2021-03-30T18:37:08.598474Z\", \"created_time_dt\": \"2021-03-30T18:37:08.598474Z\", \"duration\": \"0:01:07\", \"iteration\": \"25\", \"goal\": \"accuracy_max\", \"run_name\": \"StandardScalerWrapper, ExtremeRandomTrees\", \"run_properties\": \"<azureml.automl.runtime.shared.model_wrappers.StandardScalerWrapper object at 0x7f530575a0f0\", \"primary_metric\": 0.84764377, \"best_metric\": 0.84835132}, {\"run_id\": \"AutoML_1d51ae79-9d4c-42a4-978c-078a65042d57_26\", \"run_number\": 32, \"metric\": null, \"status\": \"Completed\", \"run_type\": \"azureml.scriptrun\", \"training_percent\": \"100\", \"start_time\": \"2021-03-30T18:37:54.503608Z\", \"end_time\": \"2021-03-30T18:38:39.57745Z\", \"created_time\": \"2021-03-30T18:37:41.984603Z\", \"created_time_dt\": \"2021-03-30T18:37:41.984603Z\", \"duration\": \"0:00:57\", \"iteration\": \"26\", \"goal\": \"accuracy_max\", \"run_name\": \"SparseNormalizer, XGBoostClassifier\", \"run_properties\": \"<azureml.automl.runtime.shared.model_wrappers.SparseNormalizer object at 0x7f6046b9fdd8\", \"primary_metric\": 0.84221847, \"best_metric\": 0.84835132}, {\"run_id\": \"AutoML_1d51ae79-9d4c-42a4-978c-078a65042d57_27\", \"run_number\": 33, \"metric\": null, \"status\": \"Completed\", \"run_type\": \"azureml.scriptrun\", \"training_percent\": \"100\", \"start_time\": \"2021-03-30T18:38:18.783929Z\", \"end_time\": \"2021-03-30T18:39:03.990099Z\", \"created_time\": \"2021-03-30T18:38:05.534578Z\", \"created_time_dt\": \"2021-03-30T18:38:05.534578Z\", \"duration\": \"0:00:58\", \"iteration\": \"27\", \"goal\": \"accuracy_max\", \"run_name\": \"StandardScalerWrapper, LightGBM\", \"run_properties\": \"<azureml.automl.runtime.shared.model_wrappers.StandardScalerWrapper object at 0x7ff7e8c3e080\", \"primary_metric\": 0.84811558, \"best_metric\": 0.84835132}, {\"run_id\": \"AutoML_1d51ae79-9d4c-42a4-978c-078a65042d57_28\", \"run_number\": 34, \"metric\": null, \"status\": \"Completed\", \"run_type\": \"azureml.scriptrun\", \"training_percent\": \"100\", \"start_time\": \"2021-03-30T18:38:29.35664Z\", \"end_time\": \"2021-03-30T18:39:44.189083Z\", \"created_time\": \"2021-03-30T18:38:20.28667Z\", \"created_time_dt\": \"2021-03-30T18:38:20.28667Z\", \"duration\": \"0:01:23\", \"iteration\": \"28\", \"goal\": \"accuracy_max\", \"run_name\": \"MaxAbsScaler, ExtremeRandomTrees\", \"run_properties\": \"copy=True\", \"primary_metric\": 0.84811558, \"best_metric\": 0.84835132}, {\"run_id\": \"AutoML_1d51ae79-9d4c-42a4-978c-078a65042d57_29\", \"run_number\": 35, \"metric\": null, \"status\": \"Completed\", \"run_type\": \"azureml.scriptrun\", \"training_percent\": \"100\", \"start_time\": \"2021-03-30T18:38:33.462124Z\", \"end_time\": \"2021-03-30T18:39:32.321115Z\", \"created_time\": \"2021-03-30T18:38:23.487407Z\", \"created_time_dt\": \"2021-03-30T18:38:23.487407Z\", \"duration\": \"0:01:08\", \"iteration\": \"29\", \"goal\": \"accuracy_max\", \"run_name\": \"StandardScalerWrapper, LightGBM\", \"run_properties\": \"<azureml.automl.runtime.shared.model_wrappers.StandardScalerWrapper object at 0x7f574dfd4080\", \"primary_metric\": 0.84811558, \"best_metric\": 0.84835132}, {\"run_id\": \"AutoML_1d51ae79-9d4c-42a4-978c-078a65042d57_30\", \"run_number\": 36, \"metric\": null, \"status\": \"Completed\", \"run_type\": \"azureml.scriptrun\", \"training_percent\": \"100\", \"start_time\": \"2021-03-30T18:38:54.58576Z\", \"end_time\": \"2021-03-30T18:39:42.328279Z\", \"created_time\": \"2021-03-30T18:38:42.670288Z\", \"created_time_dt\": \"2021-03-30T18:38:42.670288Z\", \"duration\": \"0:00:59\", \"iteration\": \"30\", \"goal\": \"accuracy_max\", \"run_name\": \"SparseNormalizer, XGBoostClassifier\", \"run_properties\": \"<azureml.automl.runtime.shared.model_wrappers.SparseNormalizer object at 0x7f7d7719c6a0\", \"primary_metric\": 0.84811558, \"best_metric\": 0.84835132}, {\"run_id\": \"AutoML_1d51ae79-9d4c-42a4-978c-078a65042d57_31\", \"run_number\": 37, \"metric\": null, \"status\": \"Completed\", \"run_type\": \"azureml.scriptrun\", \"training_percent\": \"100\", \"start_time\": \"2021-03-30T18:39:22.603196Z\", \"end_time\": \"2021-03-30T18:40:20.002012Z\", \"created_time\": \"2021-03-30T18:39:05.689086Z\", \"created_time_dt\": \"2021-03-30T18:39:05.689086Z\", \"duration\": \"0:01:14\", \"iteration\": \"31\", \"goal\": \"accuracy_max\", \"run_name\": \"TruncatedSVDWrapper, XGBoostClassifier\", \"run_properties\": \"n_components=0.8510526315789474, random_state=None\", \"primary_metric\": 0.84835099, \"best_metric\": 0.84835132}, {\"run_id\": \"AutoML_1d51ae79-9d4c-42a4-978c-078a65042d57_32\", \"run_number\": 38, \"metric\": null, \"status\": \"Canceled\", \"run_type\": \"azureml.scriptrun\", \"training_percent\": \"100\", \"start_time\": \"2021-03-30T18:39:49.255434Z\", \"end_time\": \"2021-03-30T18:40:49.535171Z\", \"created_time\": \"2021-03-30T18:39:34.160967Z\", \"created_time_dt\": \"2021-03-30T18:39:34.160967Z\", \"duration\": \"0:01:15\", \"iteration\": \"32\", \"goal\": \"accuracy_max\", \"run_name\": \"SparseNormalizer, XGBoostClassifier\", \"run_properties\": \"<azureml.automl.runtime.shared.model_wrappers.SparseNormalizer object at 0x7ff41984e390\", \"primary_metric\": 0.83867973, \"best_metric\": 0.84835132}, {\"run_id\": \"AutoML_1d51ae79-9d4c-42a4-978c-078a65042d57_33\", \"run_number\": 39, \"metric\": null, \"status\": \"Canceled\", \"run_type\": \"azureml.scriptrun\", \"training_percent\": \"100\", \"start_time\": \"2021-03-30T18:39:58.677076Z\", \"end_time\": \"2021-03-30T18:40:51.386431Z\", \"created_time\": \"2021-03-30T18:39:44.144002Z\", \"created_time_dt\": \"2021-03-30T18:39:44.144002Z\", \"duration\": \"0:01:07\", \"iteration\": \"33\", \"goal\": \"accuracy_max\", \"run_name\": \"SparseNormalizer, RandomForest\", \"run_properties\": \"<azureml.automl.runtime.shared.model_wrappers.SparseNormalizer object at 0x7fba76a8eef0\", \"primary_metric\": 0.84811558, \"best_metric\": 0.84835132}, {\"run_id\": \"AutoML_1d51ae79-9d4c-42a4-978c-078a65042d57_34\", \"run_number\": 40, \"metric\": null, \"status\": \"Completed\", \"run_type\": \"azureml.scriptrun\", \"training_percent\": \"100\", \"start_time\": \"2021-03-30T18:39:57.020787Z\", \"end_time\": \"2021-03-30T18:40:42.202711Z\", \"created_time\": \"2021-03-30T18:39:47.506356Z\", \"created_time_dt\": \"2021-03-30T18:39:47.506356Z\", \"duration\": \"0:00:54\", \"iteration\": \"34\", \"goal\": \"accuracy_max\", \"run_name\": \"StandardScalerWrapper, LightGBM\", \"run_properties\": \"<azureml.automl.runtime.shared.model_wrappers.StandardScalerWrapper object at 0x7fbb363c29b0\", \"primary_metric\": 0.84811558, \"best_metric\": 0.84835132}, {\"run_id\": \"AutoML_1d51ae79-9d4c-42a4-978c-078a65042d57_35\", \"run_number\": 41, \"metric\": null, \"status\": \"Canceled\", \"run_type\": \"azureml.scriptrun\", \"training_percent\": \"100\", \"start_time\": \"2021-03-30T18:40:36.445264Z\", \"end_time\": \"2021-03-30T18:40:49.369609Z\", \"created_time\": \"2021-03-30T18:40:23.274183Z\", \"created_time_dt\": \"2021-03-30T18:40:23.274183Z\", \"duration\": \"0:00:26\", \"iteration\": \"35\", \"goal\": null, \"run_name\": \"Canceled\", \"run_properties\": null}, {\"run_id\": \"AutoML_1d51ae79-9d4c-42a4-978c-078a65042d57_36\", \"run_number\": 42, \"metric\": null, \"status\": \"Completed\", \"run_type\": \"azureml.scriptrun\", \"training_percent\": \"100\", \"start_time\": \"2021-03-30T18:41:01.030796Z\", \"end_time\": \"2021-03-30T18:42:09.5065Z\", \"created_time\": \"2021-03-30T18:40:52.241483Z\", \"created_time_dt\": \"2021-03-30T18:40:52.241483Z\", \"duration\": \"0:01:17\", \"iteration\": \"36\", \"goal\": \"accuracy_max\", \"run_name\": \"VotingEnsemble\", \"run_properties\": \"classification_labels=None,\\n                              estimators=[('15',\\n                                           Pipeline(memory=None,\\n                                                    steps=[('standardscalerwrapper',\\n                                                            <azureml.automl.runtime.shared.model_wrappers.StandardScalerWrapper object at 0x7f2318049a90>\", \"primary_metric\": 0.84811558, \"best_metric\": 0.84835132}, {\"run_id\": \"AutoML_1d51ae79-9d4c-42a4-978c-078a65042d57_37\", \"run_number\": 43, \"metric\": null, \"status\": \"Completed\", \"run_type\": \"azureml.scriptrun\", \"training_percent\": \"100\", \"start_time\": \"2021-03-30T18:41:02.871482Z\", \"end_time\": \"2021-03-30T18:42:15.218473Z\", \"created_time\": \"2021-03-30T18:40:52.279646Z\", \"created_time_dt\": \"2021-03-30T18:40:52.279646Z\", \"duration\": \"0:01:22\", \"iteration\": \"37\", \"goal\": \"accuracy_max\", \"run_name\": \"StackEnsemble\", \"run_properties\": \"base_learners=[('15',\\n                                        Pipeline(memory=None,\\n                                                 steps=[('standardscalerwrapper',\\n                                                         <azureml.automl.runtime.shared.model_wrappers.StandardScalerWrapper object at 0x7f6d20265be0>\", \"primary_metric\": 0.84009482, \"best_metric\": 0.84835132}], \"children_metrics\": {\"categories\": [0], \"series\": {\"recall_score_micro\": [{\"categories\": [\"0\", \"1\", \"2\", \"3\", \"4\", \"5\", \"6\", \"7\", \"8\", \"9\", \"10\", \"11\", \"12\", \"13\", \"14\", \"15\", \"16\", \"17\", \"18\", \"19\", \"20\", \"21\", \"22\", \"23\", \"24\", \"25\", \"26\", \"27\", \"28\", \"29\", \"30\", \"31\", \"32\", \"33\", \"34\", \"36\", \"37\"], \"mode\": \"markers\", \"name\": \"recall_score_micro\", \"stepped\": false, \"type\": \"scatter\", \"data\": [0.8320762315843352, 0.8471711290024969, 0.8481155819555264, 0.8481155819555264, 0.6448016048192627, 0.6205092605105218, 0.702122107873511, 0.8405674659064329, 0.8068402684975807, 0.8481155819555264, 0.8455206303159888, 0.8481155819555264, 0.8469360584830093, 0.8481155819555264, 0.8481155819555264, 0.8483513198150266, 0.8455206303159888, 0.8450488209269821, 0.839151704069406, 0.8481155819555264, 0.8481155819555264, 0.8481155819555264, 0.8481155819555264, 0.8481155819555264, 0.8481155819555264, 0.8476437725665197, 0.8422184650979506, 0.8481155819555264, 0.8481155819555264, 0.8481155819555264, 0.8481155819555264, 0.8483509861450202, 0.8386797278453959, 0.8481155819555264, 0.8481155819555264, 0.8481155819555264, 0.8400948223424102]}, {\"categories\": [\"0\", \"1\", \"2\", \"3\", \"4\", \"5\", \"6\", \"7\", \"8\", \"9\", \"10\", \"11\", \"12\", \"13\", \"14\", \"15\", \"16\", \"17\", \"18\", \"19\", \"20\", \"21\", \"22\", \"23\", \"24\", \"25\", \"26\", \"27\", \"28\", \"29\", \"30\", \"31\", \"32\", \"33\", \"34\", \"36\", \"37\"], \"mode\": \"lines\", \"name\": \"recall_score_micro_max\", \"stepped\": true, \"type\": \"scatter\", \"data\": [0.8320762315843352, 0.8471711290024969, 0.8481155819555264, 0.8481155819555264, 0.8481155819555264, 0.8481155819555264, 0.8481155819555264, 0.8481155819555264, 0.8481155819555264, 0.8481155819555264, 0.8481155819555264, 0.8481155819555264, 0.8481155819555264, 0.8481155819555264, 0.8481155819555264, 0.8483513198150266, 0.8483513198150266, 0.8483513198150266, 0.8483513198150266, 0.8483513198150266, 0.8483513198150266, 0.8483513198150266, 0.8483513198150266, 0.8483513198150266, 0.8483513198150266, 0.8483513198150266, 0.8483513198150266, 0.8483513198150266, 0.8483513198150266, 0.8483513198150266, 0.8483513198150266, 0.8483513198150266, 0.8483513198150266, 0.8483513198150266, 0.8483513198150266, 0.8483513198150266, 0.8483513198150266]}], \"precision_score_micro\": [{\"categories\": [\"0\", \"1\", \"2\", \"3\", \"4\", \"5\", \"6\", \"7\", \"8\", \"9\", \"10\", \"11\", \"12\", \"13\", \"14\", \"15\", \"16\", \"17\", \"18\", \"19\", \"20\", \"21\", \"22\", \"23\", \"24\", \"25\", \"26\", \"27\", \"28\", \"29\", \"30\", \"31\", \"32\", \"33\", \"34\", \"36\", \"37\"], \"mode\": \"markers\", \"name\": \"precision_score_micro\", \"stepped\": false, \"type\": \"scatter\", \"data\": [0.8320762315843352, 0.8471711290024969, 0.8481155819555264, 0.8481155819555264, 0.6448016048192627, 0.6205092605105218, 0.702122107873511, 0.8405674659064329, 0.8068402684975807, 0.8481155819555264, 0.8455206303159888, 0.8481155819555264, 0.8469360584830093, 0.8481155819555264, 0.8481155819555264, 0.8483513198150266, 0.8455206303159888, 0.8450488209269821, 0.839151704069406, 0.8481155819555264, 0.8481155819555264, 0.8481155819555264, 0.8481155819555264, 0.8481155819555264, 0.8481155819555264, 0.8476437725665197, 0.8422184650979506, 0.8481155819555264, 0.8481155819555264, 0.8481155819555264, 0.8481155819555264, 0.8483509861450202, 0.8386797278453959, 0.8481155819555264, 0.8481155819555264, 0.8481155819555264, 0.8400948223424102]}, {\"categories\": [\"0\", \"1\", \"2\", \"3\", \"4\", \"5\", \"6\", \"7\", \"8\", \"9\", \"10\", \"11\", \"12\", \"13\", \"14\", \"15\", \"16\", \"17\", \"18\", \"19\", \"20\", \"21\", \"22\", \"23\", \"24\", \"25\", \"26\", \"27\", \"28\", \"29\", \"30\", \"31\", \"32\", \"33\", \"34\", \"36\", \"37\"], \"mode\": \"lines\", \"name\": \"precision_score_micro_max\", \"stepped\": true, \"type\": \"scatter\", \"data\": [0.8320762315843352, 0.8471711290024969, 0.8481155819555264, 0.8481155819555264, 0.8481155819555264, 0.8481155819555264, 0.8481155819555264, 0.8481155819555264, 0.8481155819555264, 0.8481155819555264, 0.8481155819555264, 0.8481155819555264, 0.8481155819555264, 0.8481155819555264, 0.8481155819555264, 0.8483513198150266, 0.8483513198150266, 0.8483513198150266, 0.8483513198150266, 0.8483513198150266, 0.8483513198150266, 0.8483513198150266, 0.8483513198150266, 0.8483513198150266, 0.8483513198150266, 0.8483513198150266, 0.8483513198150266, 0.8483513198150266, 0.8483513198150266, 0.8483513198150266, 0.8483513198150266, 0.8483513198150266, 0.8483513198150266, 0.8483513198150266, 0.8483513198150266, 0.8483513198150266, 0.8483513198150266]}], \"recall_score_weighted\": [{\"categories\": [\"0\", \"1\", \"2\", \"3\", \"4\", \"5\", \"6\", \"7\", \"8\", \"9\", \"10\", \"11\", \"12\", \"13\", \"14\", \"15\", \"16\", \"17\", \"18\", \"19\", \"20\", \"21\", \"22\", \"23\", \"24\", \"25\", \"26\", \"27\", \"28\", \"29\", \"30\", \"31\", \"32\", \"33\", \"34\", \"36\", \"37\"], \"mode\": \"markers\", \"name\": \"recall_score_weighted\", \"stepped\": false, \"type\": \"scatter\", \"data\": [0.8320762315843352, 0.8471711290024969, 0.8481155819555264, 0.8481155819555264, 0.6448016048192627, 0.6205092605105218, 0.702122107873511, 0.8405674659064329, 0.8068402684975807, 0.8481155819555264, 0.8455206303159888, 0.8481155819555264, 0.8469360584830093, 0.8481155819555264, 0.8481155819555264, 0.8483513198150266, 0.8455206303159888, 0.8450488209269821, 0.839151704069406, 0.8481155819555264, 0.8481155819555264, 0.8481155819555264, 0.8481155819555264, 0.8481155819555264, 0.8481155819555264, 0.8476437725665197, 0.8422184650979506, 0.8481155819555264, 0.8481155819555264, 0.8481155819555264, 0.8481155819555264, 0.8483509861450202, 0.8386797278453959, 0.8481155819555264, 0.8481155819555264, 0.8481155819555264, 0.8400948223424102]}, {\"categories\": [\"0\", \"1\", \"2\", \"3\", \"4\", \"5\", \"6\", \"7\", \"8\", \"9\", \"10\", \"11\", \"12\", \"13\", \"14\", \"15\", \"16\", \"17\", \"18\", \"19\", \"20\", \"21\", \"22\", \"23\", \"24\", \"25\", \"26\", \"27\", \"28\", \"29\", \"30\", \"31\", \"32\", \"33\", \"34\", \"36\", \"37\"], \"mode\": \"lines\", \"name\": \"recall_score_weighted_max\", \"stepped\": true, \"type\": \"scatter\", \"data\": [0.8320762315843352, 0.8471711290024969, 0.8481155819555264, 0.8481155819555264, 0.8481155819555264, 0.8481155819555264, 0.8481155819555264, 0.8481155819555264, 0.8481155819555264, 0.8481155819555264, 0.8481155819555264, 0.8481155819555264, 0.8481155819555264, 0.8481155819555264, 0.8481155819555264, 0.8483513198150266, 0.8483513198150266, 0.8483513198150266, 0.8483513198150266, 0.8483513198150266, 0.8483513198150266, 0.8483513198150266, 0.8483513198150266, 0.8483513198150266, 0.8483513198150266, 0.8483513198150266, 0.8483513198150266, 0.8483513198150266, 0.8483513198150266, 0.8483513198150266, 0.8483513198150266, 0.8483513198150266, 0.8483513198150266, 0.8483513198150266, 0.8483513198150266, 0.8483513198150266, 0.8483513198150266]}], \"matthews_correlation\": [{\"categories\": [\"0\", \"1\", \"2\", \"3\", \"4\", \"5\", \"6\", \"7\", \"8\", \"9\", \"10\", \"11\", \"12\", \"13\", \"14\", \"15\", \"16\", \"17\", \"18\", \"19\", \"20\", \"21\", \"22\", \"23\", \"24\", \"25\", \"26\", \"27\", \"28\", \"29\", \"30\", \"31\", \"32\", \"33\", \"34\", \"36\", \"37\"], \"mode\": \"markers\", \"name\": \"matthews_correlation\", \"stepped\": false, \"type\": \"scatter\", \"data\": [0.09364822094370161, 0.0918049936561393, 0.0, 0.0, 0.16647054070535253, 0.1598234107773052, 0.06309029332768852, 0.08167679018666187, 0.10229661151447404, 0.0, 0.019342814233086914, 0.0, 0.0004293091892999161, 0.0, 0.0, 0.02105689647699088, 0.03259911631519818, 0.006683538201871162, 0.08119977595153667, 0.0, 0.0, 0.0, 0.0, 0.0, 0.0, 0.005865333524490147, 0.0841036981913705, 0.0, 0.0, 0.0, 0.0, 0.09307723418519219, 0.0871916871467644, 0.0, 0.0, 0.0, 0.020673967947957908]}, {\"categories\": [\"0\", \"1\", \"2\", \"3\", \"4\", \"5\", \"6\", \"7\", \"8\", \"9\", \"10\", \"11\", \"12\", \"13\", \"14\", \"15\", \"16\", \"17\", \"18\", \"19\", \"20\", \"21\", \"22\", \"23\", \"24\", \"25\", \"26\", \"27\", \"28\", \"29\", \"30\", \"31\", \"32\", \"33\", \"34\", \"36\", \"37\"], \"mode\": \"lines\", \"name\": \"matthews_correlation_max\", \"stepped\": true, \"type\": \"scatter\", \"data\": [0.09364822094370161, 0.09364822094370161, 0.09364822094370161, 0.09364822094370161, 0.16647054070535253, 0.16647054070535253, 0.16647054070535253, 0.16647054070535253, 0.16647054070535253, 0.16647054070535253, 0.16647054070535253, 0.16647054070535253, 0.16647054070535253, 0.16647054070535253, 0.16647054070535253, 0.16647054070535253, 0.16647054070535253, 0.16647054070535253, 0.16647054070535253, 0.16647054070535253, 0.16647054070535253, 0.16647054070535253, 0.16647054070535253, 0.16647054070535253, 0.16647054070535253, 0.16647054070535253, 0.16647054070535253, 0.16647054070535253, 0.16647054070535253, 0.16647054070535253, 0.16647054070535253, 0.16647054070535253, 0.16647054070535253, 0.16647054070535253, 0.16647054070535253, 0.16647054070535253, 0.16647054070535253]}], \"average_precision_score_macro\": [{\"categories\": [\"0\", \"1\", \"2\", \"3\", \"4\", \"5\", \"6\", \"7\", \"8\", \"9\", \"10\", \"11\", \"12\", \"13\", \"14\", \"15\", \"16\", \"17\", \"18\", \"19\", \"20\", \"21\", \"22\", \"23\", \"24\", \"25\", \"26\", \"27\", \"28\", \"29\", \"30\", \"31\", \"32\", \"33\", \"34\", \"36\", \"37\"], \"mode\": \"markers\", \"name\": \"average_precision_score_macro\", \"stepped\": false, \"type\": \"scatter\", \"data\": [0.5648125926108533, 0.5955597537659437, 0.5916301125971072, 0.5392417068070922, 0.5667860162202386, 0.5831640109031193, 0.5356803583729793, 0.5919850220522962, 0.5586839350352949, 0.5925653301766182, 0.5897870277873324, 0.5873584482581076, 0.5900521326644109, 0.5964740345764522, 0.5889935748598543, 0.5766390135931861, 0.5901438350458471, 0.5922865735278099, 0.5827179261151428, 0.5912121762020586, 0.5907920769537865, 0.5881627074440788, 0.5998104971633564, 0.5830443254729282, 0.5, 0.5885527983106184, 0.5896980630785814, 0.5896802053205958, 0.5878148607385699, 0.5864553365289739, 0.5, 0.5831629351674464, 0.5806853938130369, 0.5956854671108855, 0.5928158704273316, 0.6050172096364527, 0.6031740257605223]}, {\"categories\": [\"0\", \"1\", \"2\", \"3\", \"4\", \"5\", \"6\", \"7\", \"8\", \"9\", \"10\", \"11\", \"12\", \"13\", \"14\", \"15\", \"16\", \"17\", \"18\", \"19\", \"20\", \"21\", \"22\", \"23\", \"24\", \"25\", \"26\", \"27\", \"28\", \"29\", \"30\", \"31\", \"32\", \"33\", \"34\", \"36\", \"37\"], \"mode\": \"lines\", \"name\": \"average_precision_score_macro_max\", \"stepped\": true, \"type\": \"scatter\", \"data\": [0.5648125926108533, 0.5955597537659437, 0.5955597537659437, 0.5955597537659437, 0.5955597537659437, 0.5955597537659437, 0.5955597537659437, 0.5955597537659437, 0.5955597537659437, 0.5955597537659437, 0.5955597537659437, 0.5955597537659437, 0.5955597537659437, 0.5964740345764522, 0.5964740345764522, 0.5964740345764522, 0.5964740345764522, 0.5964740345764522, 0.5964740345764522, 0.5964740345764522, 0.5964740345764522, 0.5964740345764522, 0.5998104971633564, 0.5998104971633564, 0.5998104971633564, 0.5998104971633564, 0.5998104971633564, 0.5998104971633564, 0.5998104971633564, 0.5998104971633564, 0.5998104971633564, 0.5998104971633564, 0.5998104971633564, 0.5998104971633564, 0.5998104971633564, 0.6050172096364527, 0.6050172096364527]}], \"balanced_accuracy\": [{\"categories\": [\"0\", \"1\", \"2\", \"3\", \"4\", \"5\", \"6\", \"7\", \"8\", \"9\", \"10\", \"11\", \"12\", \"13\", \"14\", \"15\", \"16\", \"17\", \"18\", \"19\", \"20\", \"21\", \"22\", \"23\", \"24\", \"25\", \"26\", \"27\", \"28\", \"29\", \"30\", \"31\", \"32\", \"33\", \"34\", \"36\", \"37\"], \"mode\": \"markers\", \"name\": \"balanced_accuracy\", \"stepped\": false, \"type\": \"scatter\", \"data\": [0.5258446333822475, 0.5119042565431116, 0.5, 0.5, 0.6108963542187352, 0.6081092958764598, 0.53726007362763, 0.5162088089550934, 0.5405875205043426, 0.5, 0.5005652981614929, 0.5, 0.500043885727229, 0.5, 0.5, 0.5013149570996014, 0.5033569479947073, 0.5018521200879716, 0.5162133024146512, 0.5, 0.5, 0.5, 0.5, 0.5, 0.5, 0.5004537217928028, 0.5152582290103325, 0.5, 0.5, 0.5, 0.5, 0.51134277044184, 0.5184698596550567, 0.5, 0.5, 0.5, 0.5062593788046095]}, {\"categories\": [\"0\", \"1\", \"2\", \"3\", \"4\", \"5\", \"6\", \"7\", \"8\", \"9\", \"10\", \"11\", \"12\", \"13\", \"14\", \"15\", \"16\", \"17\", \"18\", \"19\", \"20\", \"21\", \"22\", \"23\", \"24\", \"25\", \"26\", \"27\", \"28\", \"29\", \"30\", \"31\", \"32\", \"33\", \"34\", \"36\", \"37\"], \"mode\": \"lines\", \"name\": \"balanced_accuracy_max\", \"stepped\": true, \"type\": \"scatter\", \"data\": [0.5258446333822475, 0.5258446333822475, 0.5258446333822475, 0.5258446333822475, 0.6108963542187352, 0.6108963542187352, 0.6108963542187352, 0.6108963542187352, 0.6108963542187352, 0.6108963542187352, 0.6108963542187352, 0.6108963542187352, 0.6108963542187352, 0.6108963542187352, 0.6108963542187352, 0.6108963542187352, 0.6108963542187352, 0.6108963542187352, 0.6108963542187352, 0.6108963542187352, 0.6108963542187352, 0.6108963542187352, 0.6108963542187352, 0.6108963542187352, 0.6108963542187352, 0.6108963542187352, 0.6108963542187352, 0.6108963542187352, 0.6108963542187352, 0.6108963542187352, 0.6108963542187352, 0.6108963542187352, 0.6108963542187352, 0.6108963542187352, 0.6108963542187352, 0.6108963542187352, 0.6108963542187352]}], \"norm_macro_recall\": [{\"categories\": [\"0\", \"1\", \"2\", \"3\", \"4\", \"5\", \"6\", \"7\", \"8\", \"9\", \"10\", \"11\", \"12\", \"13\", \"14\", \"15\", \"16\", \"17\", \"18\", \"19\", \"20\", \"21\", \"22\", \"23\", \"24\", \"25\", \"26\", \"27\", \"28\", \"29\", \"30\", \"31\", \"32\", \"33\", \"34\", \"36\", \"37\"], \"mode\": \"markers\", \"name\": \"norm_macro_recall\", \"stepped\": false, \"type\": \"scatter\", \"data\": [0.05168926676449496, 0.023808513086223115, 0.0, 0.0, 0.22179270843747045, 0.21621859175291966, 0.07452014725525997, 0.03241761791018664, 0.08117504100868489, 0.0, 0.001501501501501486, 0.0, 8.777145445789299e-05, 0.0, 0.0, 0.0026299141992027764, 0.006713895989414557, 0.004263993884311572, 0.03242660482930256, 0.0, 0.0, 0.0, 0.0, 0.0, 0.0, 0.0009074435856054978, 0.03051645802066494, 0.0, 0.0, 0.0, 0.0, 0.02268554088367991, 0.036939719310113306, 0.0, 0.0, 0.0, 0.01251875760921887]}, {\"categories\": [\"0\", \"1\", \"2\", \"3\", \"4\", \"5\", \"6\", \"7\", \"8\", \"9\", \"10\", \"11\", \"12\", \"13\", \"14\", \"15\", \"16\", \"17\", \"18\", \"19\", \"20\", \"21\", \"22\", \"23\", \"24\", \"25\", \"26\", \"27\", \"28\", \"29\", \"30\", \"31\", \"32\", \"33\", \"34\", \"36\", \"37\"], \"mode\": \"lines\", \"name\": \"norm_macro_recall_max\", \"stepped\": true, \"type\": \"scatter\", \"data\": [0.05168926676449496, 0.05168926676449496, 0.05168926676449496, 0.05168926676449496, 0.22179270843747045, 0.22179270843747045, 0.22179270843747045, 0.22179270843747045, 0.22179270843747045, 0.22179270843747045, 0.22179270843747045, 0.22179270843747045, 0.22179270843747045, 0.22179270843747045, 0.22179270843747045, 0.22179270843747045, 0.22179270843747045, 0.22179270843747045, 0.22179270843747045, 0.22179270843747045, 0.22179270843747045, 0.22179270843747045, 0.22179270843747045, 0.22179270843747045, 0.22179270843747045, 0.22179270843747045, 0.22179270843747045, 0.22179270843747045, 0.22179270843747045, 0.22179270843747045, 0.22179270843747045, 0.22179270843747045, 0.22179270843747045, 0.22179270843747045, 0.22179270843747045, 0.22179270843747045, 0.22179270843747045]}], \"weighted_accuracy\": [{\"categories\": [\"0\", \"1\", \"2\", \"3\", \"4\", \"5\", \"6\", \"7\", \"8\", \"9\", \"10\", \"11\", \"12\", \"13\", \"14\", \"15\", \"16\", \"17\", \"18\", \"19\", \"20\", \"21\", \"22\", \"23\", \"24\", \"25\", \"26\", \"27\", \"28\", \"29\", \"30\", \"31\", \"32\", \"33\", \"34\", \"36\", \"37\"], \"mode\": \"markers\", \"name\": \"weighted_accuracy\", \"stepped\": false, \"type\": \"scatter\", \"data\": [0.938068858922891, 0.9632332164095311, 0.9686688438245291, 0.9686688438245291, 0.6559337414232399, 0.6244495894688127, 0.7591482265508378, 0.9530264241484064, 0.8990382643603395, 0.9686688438245291, 0.9650718511078652, 0.9686688438245291, 0.9671116922997246, 0.9686688438245291, 0.9686688438245291, 0.968502482192327, 0.964178632486572, 0.9640738728687738, 0.9512049964125344, 0.9686688438245291, 0.9686688438245291, 0.9686688438245291, 0.9686688438245291, 0.9686688438245291, 0.9686688438245291, 0.967911351985537, 0.9555765150081234, 0.9686688438245291, 0.9686688438245291, 0.9686688438245291, 0.9686688438245291, 0.9650038623031062, 0.949781451050561, 0.9686688438245291, 0.9686688438245291, 0.9686688438245291, 0.956240253325229]}, {\"categories\": [\"0\", \"1\", \"2\", \"3\", \"4\", \"5\", \"6\", \"7\", \"8\", \"9\", \"10\", \"11\", \"12\", \"13\", \"14\", \"15\", \"16\", \"17\", \"18\", \"19\", \"20\", \"21\", \"22\", \"23\", \"24\", \"25\", \"26\", \"27\", \"28\", \"29\", \"30\", \"31\", \"32\", \"33\", \"34\", \"36\", \"37\"], \"mode\": \"lines\", \"name\": \"weighted_accuracy_max\", \"stepped\": true, \"type\": \"scatter\", \"data\": [0.938068858922891, 0.9632332164095311, 0.9686688438245291, 0.9686688438245291, 0.9686688438245291, 0.9686688438245291, 0.9686688438245291, 0.9686688438245291, 0.9686688438245291, 0.9686688438245291, 0.9686688438245291, 0.9686688438245291, 0.9686688438245291, 0.9686688438245291, 0.9686688438245291, 0.9686688438245291, 0.9686688438245291, 0.9686688438245291, 0.9686688438245291, 0.9686688438245291, 0.9686688438245291, 0.9686688438245291, 0.9686688438245291, 0.9686688438245291, 0.9686688438245291, 0.9686688438245291, 0.9686688438245291, 0.9686688438245291, 0.9686688438245291, 0.9686688438245291, 0.9686688438245291, 0.9686688438245291, 0.9686688438245291, 0.9686688438245291, 0.9686688438245291, 0.9686688438245291, 0.9686688438245291]}], \"log_loss\": [{\"categories\": [\"0\", \"1\", \"2\", \"3\", \"4\", \"5\", \"6\", \"7\", \"8\", \"9\", \"10\", \"11\", \"12\", \"13\", \"14\", \"15\", \"16\", \"17\", \"18\", \"19\", \"20\", \"21\", \"22\", \"23\", \"24\", \"25\", \"26\", \"27\", \"28\", \"29\", \"30\", \"31\", \"32\", \"33\", \"34\", \"36\", \"37\"], \"mode\": \"markers\", \"name\": \"log_loss\", \"stepped\": false, \"type\": \"scatter\", \"data\": [0.460055263397241, 0.4036267085056564, 0.4100639378235836, 0.4236666724612103, 0.687212669733098, 0.6727072002121818, 1.0463621881156544, 0.4075399751660805, 0.5310940528020951, 0.40601307268184034, 0.4080993511857291, 0.4088340233260501, 0.4074547691320831, 0.4058308943769575, 0.4071406394775697, 0.45776584213366184, 0.453306059226148, 0.40684081396017974, 0.4160630637391285, 0.40576283900657506, 0.4063868979697836, 0.4077950460397626, 0.4063390453496112, 0.4074402541912134, 0.42655454656822483, 0.4066648682895225, 0.4089395240699471, 0.407023781925369, 0.4060298748356674, 0.41057042847331937, 0.4265819706380012, 0.4264107569498134, 0.41892068521113845, 0.4056436333515494, 0.4054996366290453, 0.407054939687496, 0.4293944343551477]}, {\"categories\": [\"0\", \"1\", \"2\", \"3\", \"4\", \"5\", \"6\", \"7\", \"8\", \"9\", \"10\", \"11\", \"12\", \"13\", \"14\", \"15\", \"16\", \"17\", \"18\", \"19\", \"20\", \"21\", \"22\", \"23\", \"24\", \"25\", \"26\", \"27\", \"28\", \"29\", \"30\", \"31\", \"32\", \"33\", \"34\", \"36\", \"37\"], \"mode\": \"lines\", \"name\": \"log_loss_min\", \"stepped\": true, \"type\": \"scatter\", \"data\": [0.460055263397241, 0.4036267085056564, 0.4036267085056564, 0.4036267085056564, 0.4036267085056564, 0.4036267085056564, 0.4036267085056564, 0.4036267085056564, 0.4036267085056564, 0.4036267085056564, 0.4036267085056564, 0.4036267085056564, 0.4036267085056564, 0.4036267085056564, 0.4036267085056564, 0.4036267085056564, 0.4036267085056564, 0.4036267085056564, 0.4036267085056564, 0.4036267085056564, 0.4036267085056564, 0.4036267085056564, 0.4036267085056564, 0.4036267085056564, 0.4036267085056564, 0.4036267085056564, 0.4036267085056564, 0.4036267085056564, 0.4036267085056564, 0.4036267085056564, 0.4036267085056564, 0.4036267085056564, 0.4036267085056564, 0.4036267085056564, 0.4036267085056564, 0.4036267085056564, 0.4036267085056564]}], \"precision_score_macro\": [{\"categories\": [\"0\", \"1\", \"2\", \"3\", \"4\", \"5\", \"6\", \"7\", \"8\", \"9\", \"10\", \"11\", \"12\", \"13\", \"14\", \"15\", \"16\", \"17\", \"18\", \"19\", \"20\", \"21\", \"22\", \"23\", \"24\", \"25\", \"26\", \"27\", \"28\", \"29\", \"30\", \"31\", \"32\", \"33\", \"34\", \"36\", \"37\"], \"mode\": \"markers\", \"name\": \"precision_score_macro\", \"stepped\": false, \"type\": \"scatter\", \"data\": [0.5852318687019866, 0.6858798201743701, 0.4240577909777632, 0.4240577909777632, 0.5625581964370061, 0.559130795463922, 0.5267294454511127, 0.6053443698608042, 0.5645303261162096, 0.4240577909777632, 0.6116351606027381, 0.4240577909777632, 0.44787251609989703, 0.4240577909777632, 0.4240577909777632, 0.5353477521091401, 0.5734674251012164, 0.4639584390180473, 0.6061179346735447, 0.4240577909777632, 0.4240577909777632, 0.4240577909777632, 0.4240577909777632, 0.4240577909777632, 0.4240577909777632, 0.4657781180096452, 0.6192593810481654, 0.4240577909777632, 0.4240577909777632, 0.4240577909777632, 0.4240577909777632, 0.6913033104070904, 0.6069548556965282, 0.4240577909777632, 0.4240577909777632, 0.4240577909777632, 0.4638934952822457]}, {\"categories\": [\"0\", \"1\", \"2\", \"3\", \"4\", \"5\", \"6\", \"7\", \"8\", \"9\", \"10\", \"11\", \"12\", \"13\", \"14\", \"15\", \"16\", \"17\", \"18\", \"19\", \"20\", \"21\", \"22\", \"23\", \"24\", \"25\", \"26\", \"27\", \"28\", \"29\", \"30\", \"31\", \"32\", \"33\", \"34\", \"36\", \"37\"], \"mode\": \"lines\", \"name\": \"precision_score_macro_max\", \"stepped\": true, \"type\": \"scatter\", \"data\": [0.5852318687019866, 0.6858798201743701, 0.6858798201743701, 0.6858798201743701, 0.6858798201743701, 0.6858798201743701, 0.6858798201743701, 0.6858798201743701, 0.6858798201743701, 0.6858798201743701, 0.6858798201743701, 0.6858798201743701, 0.6858798201743701, 0.6858798201743701, 0.6858798201743701, 0.6858798201743701, 0.6858798201743701, 0.6858798201743701, 0.6858798201743701, 0.6858798201743701, 0.6858798201743701, 0.6858798201743701, 0.6858798201743701, 0.6858798201743701, 0.6858798201743701, 0.6858798201743701, 0.6858798201743701, 0.6858798201743701, 0.6858798201743701, 0.6858798201743701, 0.6858798201743701, 0.6913033104070904, 0.6913033104070904, 0.6913033104070904, 0.6913033104070904, 0.6913033104070904, 0.6913033104070904]}], \"average_precision_score_micro\": [{\"categories\": [\"0\", \"1\", \"2\", \"3\", \"4\", \"5\", \"6\", \"7\", \"8\", \"9\", \"10\", \"11\", \"12\", \"13\", \"14\", \"15\", \"16\", \"17\", \"18\", \"19\", \"20\", \"21\", \"22\", \"23\", \"24\", \"25\", \"26\", \"27\", \"28\", \"29\", \"30\", \"31\", \"32\", \"33\", \"34\", \"36\", \"37\"], \"mode\": \"markers\", \"name\": \"average_precision_score_micro\", \"stepped\": false, \"type\": \"scatter\", \"data\": [0.8592287392735471, 0.8779004009511157, 0.8832569362986833, 0.8362940528979829, 0.625380098721394, 0.6710573967445956, 0.7483619691413934, 0.8770033013455004, 0.8480847171542033, 0.8746042050696318, 0.8713137357765315, 0.8698421806964644, 0.8721259472651814, 0.8753015410401607, 0.8778512306593521, 0.8657408606077333, 0.872497767242303, 0.8723043030672605, 0.8689279850579689, 0.8739785224980153, 0.8730510452178429, 0.8735757964120306, 0.8791812737089848, 0.8760516775466668, 0.7953631303377638, 0.8763172948541772, 0.8737157852231853, 0.873821836049311, 0.8775427001065164, 0.8723387093507139, 0.7953631303377638, 0.8733187140843185, 0.8715000732030288, 0.8763772328553333, 0.8768283860106566, 0.8816824774556519, 0.8801111723068056]}, {\"categories\": [\"0\", \"1\", \"2\", \"3\", \"4\", \"5\", \"6\", \"7\", \"8\", \"9\", \"10\", \"11\", \"12\", \"13\", \"14\", \"15\", \"16\", \"17\", \"18\", \"19\", \"20\", \"21\", \"22\", \"23\", \"24\", \"25\", \"26\", \"27\", \"28\", \"29\", \"30\", \"31\", \"32\", \"33\", \"34\", \"36\", \"37\"], \"mode\": \"lines\", \"name\": \"average_precision_score_micro_max\", \"stepped\": true, \"type\": \"scatter\", \"data\": [0.8592287392735471, 0.8779004009511157, 0.8832569362986833, 0.8832569362986833, 0.8832569362986833, 0.8832569362986833, 0.8832569362986833, 0.8832569362986833, 0.8832569362986833, 0.8832569362986833, 0.8832569362986833, 0.8832569362986833, 0.8832569362986833, 0.8832569362986833, 0.8832569362986833, 0.8832569362986833, 0.8832569362986833, 0.8832569362986833, 0.8832569362986833, 0.8832569362986833, 0.8832569362986833, 0.8832569362986833, 0.8832569362986833, 0.8832569362986833, 0.8832569362986833, 0.8832569362986833, 0.8832569362986833, 0.8832569362986833, 0.8832569362986833, 0.8832569362986833, 0.8832569362986833, 0.8832569362986833, 0.8832569362986833, 0.8832569362986833, 0.8832569362986833, 0.8832569362986833, 0.8832569362986833]}], \"precision_score_weighted\": [{\"categories\": [\"0\", \"1\", \"2\", \"3\", \"4\", \"5\", \"6\", \"7\", \"8\", \"9\", \"10\", \"11\", \"12\", \"13\", \"14\", \"15\", \"16\", \"17\", \"18\", \"19\", \"20\", \"21\", \"22\", \"23\", \"24\", \"25\", \"26\", \"27\", \"28\", \"29\", \"30\", \"31\", \"32\", \"33\", \"34\", \"36\", \"37\"], \"mode\": \"markers\", \"name\": \"precision_score_weighted\", \"stepped\": false, \"type\": \"scatter\", \"data\": [0.7741441853881125, 0.8035558631912375, 0.719420921315527, 0.719420921315527, 0.7945205706077726, 0.7943171752154671, 0.7596318875930902, 0.7783336439450971, 0.7703792498845813, 0.719420921315527, 0.7776124840016646, 0.719420921315527, 0.7259341324926288, 0.719420921315527, 0.719420921315527, 0.7557100043685105, 0.7653998448745384, 0.7306394616164381, 0.7787243274471664, 0.719420921315527, 0.719420921315527, 0.719420921315527, 0.719420921315527, 0.719420921315527, 0.719420921315527, 0.7308959847440187, 0.7825812752829974, 0.719420921315527, 0.719420921315527, 0.719420921315527, 0.719420921315527, 0.8049166904345153, 0.7793816322125765, 0.719420921315527, 0.719420921315527, 0.719420921315527, 0.7314271092156951]}, {\"categories\": [\"0\", \"1\", \"2\", \"3\", \"4\", \"5\", \"6\", \"7\", \"8\", \"9\", \"10\", \"11\", \"12\", \"13\", \"14\", \"15\", \"16\", \"17\", \"18\", \"19\", \"20\", \"21\", \"22\", \"23\", \"24\", \"25\", \"26\", \"27\", \"28\", \"29\", \"30\", \"31\", \"32\", \"33\", \"34\", \"36\", \"37\"], \"mode\": \"lines\", \"name\": \"precision_score_weighted_max\", \"stepped\": true, \"type\": \"scatter\", \"data\": [0.7741441853881125, 0.8035558631912375, 0.8035558631912375, 0.8035558631912375, 0.8035558631912375, 0.8035558631912375, 0.8035558631912375, 0.8035558631912375, 0.8035558631912375, 0.8035558631912375, 0.8035558631912375, 0.8035558631912375, 0.8035558631912375, 0.8035558631912375, 0.8035558631912375, 0.8035558631912375, 0.8035558631912375, 0.8035558631912375, 0.8035558631912375, 0.8035558631912375, 0.8035558631912375, 0.8035558631912375, 0.8035558631912375, 0.8035558631912375, 0.8035558631912375, 0.8035558631912375, 0.8035558631912375, 0.8035558631912375, 0.8035558631912375, 0.8035558631912375, 0.8035558631912375, 0.8049166904345153, 0.8049166904345153, 0.8049166904345153, 0.8049166904345153, 0.8049166904345153, 0.8049166904345153]}], \"f1_score_macro\": [{\"categories\": [\"0\", \"1\", \"2\", \"3\", \"4\", \"5\", \"6\", \"7\", \"8\", \"9\", \"10\", \"11\", \"12\", \"13\", \"14\", \"15\", \"16\", \"17\", \"18\", \"19\", \"20\", \"21\", \"22\", \"23\", \"24\", \"25\", \"26\", \"27\", \"28\", \"29\", \"30\", \"31\", \"32\", \"33\", \"34\", \"36\", \"37\"], \"mode\": \"markers\", \"name\": \"f1_score_macro\", \"stepped\": false, \"type\": \"scatter\", \"data\": [0.5208165108643971, 0.4868535488064971, 0.4588892190256147, 0.4588892190256147, 0.5407826899482621, 0.5287792441462272, 0.5247752946175953, 0.4996390072942633, 0.5445865997953558, 0.4588892190256147, 0.4627934246147604, 0.4588892190256147, 0.46020598070850244, 0.4588892190256147, 0.4588892190256147, 0.4618100130840445, 0.4687828823757227, 0.46573824387208124, 0.5000083932680051, 0.4588892190256147, 0.4588892190256147, 0.4588892190256147, 0.4588892190256147, 0.4588892190256147, 0.4588892190256147, 0.46043588782609984, 0.4968174267777455, 0.4588892190256147, 0.4588892190256147, 0.4588892190256147, 0.4588892190256147, 0.48479670453235707, 0.5045325503478315, 0.4588892190256147, 0.4588892190256147, 0.4588892190256147, 0.47583433656453566]}, {\"categories\": [\"0\", \"1\", \"2\", \"3\", \"4\", \"5\", \"6\", \"7\", \"8\", \"9\", \"10\", \"11\", \"12\", \"13\", \"14\", \"15\", \"16\", \"17\", \"18\", \"19\", \"20\", \"21\", \"22\", \"23\", \"24\", \"25\", \"26\", \"27\", \"28\", \"29\", \"30\", \"31\", \"32\", \"33\", \"34\", \"36\", \"37\"], \"mode\": \"lines\", \"name\": \"f1_score_macro_max\", \"stepped\": true, \"type\": \"scatter\", \"data\": [0.5208165108643971, 0.5208165108643971, 0.5208165108643971, 0.5208165108643971, 0.5407826899482621, 0.5407826899482621, 0.5407826899482621, 0.5407826899482621, 0.5445865997953558, 0.5445865997953558, 0.5445865997953558, 0.5445865997953558, 0.5445865997953558, 0.5445865997953558, 0.5445865997953558, 0.5445865997953558, 0.5445865997953558, 0.5445865997953558, 0.5445865997953558, 0.5445865997953558, 0.5445865997953558, 0.5445865997953558, 0.5445865997953558, 0.5445865997953558, 0.5445865997953558, 0.5445865997953558, 0.5445865997953558, 0.5445865997953558, 0.5445865997953558, 0.5445865997953558, 0.5445865997953558, 0.5445865997953558, 0.5445865997953558, 0.5445865997953558, 0.5445865997953558, 0.5445865997953558, 0.5445865997953558]}], \"average_precision_score_weighted\": [{\"categories\": [\"0\", \"1\", \"2\", \"3\", \"4\", \"5\", \"6\", \"7\", \"8\", \"9\", \"10\", \"11\", \"12\", \"13\", \"14\", \"15\", \"16\", \"17\", \"18\", \"19\", \"20\", \"21\", \"22\", \"23\", \"24\", \"25\", \"26\", \"27\", \"28\", \"29\", \"30\", \"31\", \"32\", \"33\", \"34\", \"36\", \"37\"], \"mode\": \"markers\", \"name\": \"average_precision_score_weighted\", \"stepped\": false, \"type\": \"scatter\", \"data\": [0.7941525642384558, 0.8146818351804374, 0.8175121276512112, 0.7740528369365248, 0.797666116894835, 0.8075083481659181, 0.7751506652080334, 0.8130823514977702, 0.7925312379658781, 0.8114995563785823, 0.8084391714043573, 0.8064141020090725, 0.8090503245526861, 0.8131671959719585, 0.813131796338218, 0.8015591882407153, 0.8097784404093772, 0.8096955469750394, 0.8051366597924625, 0.8106681567713822, 0.8099904874486654, 0.8095222931024545, 0.816947134799595, 0.8100714568028899, 0.7426106787200014, 0.8115558257223728, 0.8105224256957205, 0.8101072479717638, 0.8122479106239046, 0.8080111898104453, 0.7426106787200014, 0.8081809670691035, 0.8063044205932073, 0.8138467029211028, 0.813386578800034, 0.8205126999463354, 0.8196882644543061]}, {\"categories\": [\"0\", \"1\", \"2\", \"3\", \"4\", \"5\", \"6\", \"7\", \"8\", \"9\", \"10\", \"11\", \"12\", \"13\", \"14\", \"15\", \"16\", \"17\", \"18\", \"19\", \"20\", \"21\", \"22\", \"23\", \"24\", \"25\", \"26\", \"27\", \"28\", \"29\", \"30\", \"31\", \"32\", \"33\", \"34\", \"36\", \"37\"], \"mode\": \"lines\", \"name\": \"average_precision_score_weighted_max\", \"stepped\": true, \"type\": \"scatter\", \"data\": [0.7941525642384558, 0.8146818351804374, 0.8175121276512112, 0.8175121276512112, 0.8175121276512112, 0.8175121276512112, 0.8175121276512112, 0.8175121276512112, 0.8175121276512112, 0.8175121276512112, 0.8175121276512112, 0.8175121276512112, 0.8175121276512112, 0.8175121276512112, 0.8175121276512112, 0.8175121276512112, 0.8175121276512112, 0.8175121276512112, 0.8175121276512112, 0.8175121276512112, 0.8175121276512112, 0.8175121276512112, 0.8175121276512112, 0.8175121276512112, 0.8175121276512112, 0.8175121276512112, 0.8175121276512112, 0.8175121276512112, 0.8175121276512112, 0.8175121276512112, 0.8175121276512112, 0.8175121276512112, 0.8175121276512112, 0.8175121276512112, 0.8175121276512112, 0.8205126999463354, 0.8205126999463354]}], \"accuracy\": [{\"categories\": [\"0\", \"1\", \"2\", \"3\", \"4\", \"5\", \"6\", \"7\", \"8\", \"9\", \"10\", \"11\", \"12\", \"13\", \"14\", \"15\", \"16\", \"17\", \"18\", \"19\", \"20\", \"21\", \"22\", \"23\", \"24\", \"25\", \"26\", \"27\", \"28\", \"29\", \"30\", \"31\", \"32\", \"33\", \"34\", \"36\", \"37\"], \"mode\": \"markers\", \"name\": \"accuracy\", \"stepped\": false, \"type\": \"scatter\", \"data\": [0.8320762315843352, 0.8471711290024969, 0.8481155819555264, 0.8481155819555264, 0.6448016048192627, 0.6205092605105218, 0.702122107873511, 0.8405674659064329, 0.8068402684975807, 0.8481155819555264, 0.8455206303159888, 0.8481155819555264, 0.8469360584830093, 0.8481155819555264, 0.8481155819555264, 0.8483513198150266, 0.8455206303159888, 0.8450488209269821, 0.839151704069406, 0.8481155819555264, 0.8481155819555264, 0.8481155819555264, 0.8481155819555264, 0.8481155819555264, 0.8481155819555264, 0.8476437725665197, 0.8422184650979506, 0.8481155819555264, 0.8481155819555264, 0.8481155819555264, 0.8481155819555264, 0.8483509861450202, 0.8386797278453959, 0.8481155819555264, 0.8481155819555264, 0.8481155819555264, 0.8400948223424102]}, {\"categories\": [\"0\", \"1\", \"2\", \"3\", \"4\", \"5\", \"6\", \"7\", \"8\", \"9\", \"10\", \"11\", \"12\", \"13\", \"14\", \"15\", \"16\", \"17\", \"18\", \"19\", \"20\", \"21\", \"22\", \"23\", \"24\", \"25\", \"26\", \"27\", \"28\", \"29\", \"30\", \"31\", \"32\", \"33\", \"34\", \"36\", \"37\"], \"mode\": \"lines\", \"name\": \"accuracy_max\", \"stepped\": true, \"type\": \"scatter\", \"data\": [0.8320762315843352, 0.8471711290024969, 0.8481155819555264, 0.8481155819555264, 0.8481155819555264, 0.8481155819555264, 0.8481155819555264, 0.8481155819555264, 0.8481155819555264, 0.8481155819555264, 0.8481155819555264, 0.8481155819555264, 0.8481155819555264, 0.8481155819555264, 0.8481155819555264, 0.8483513198150266, 0.8483513198150266, 0.8483513198150266, 0.8483513198150266, 0.8483513198150266, 0.8483513198150266, 0.8483513198150266, 0.8483513198150266, 0.8483513198150266, 0.8483513198150266, 0.8483513198150266, 0.8483513198150266, 0.8483513198150266, 0.8483513198150266, 0.8483513198150266, 0.8483513198150266, 0.8483513198150266, 0.8483513198150266, 0.8483513198150266, 0.8483513198150266, 0.8483513198150266, 0.8483513198150266]}], \"f1_score_weighted\": [{\"categories\": [\"0\", \"1\", \"2\", \"3\", \"4\", \"5\", \"6\", \"7\", \"8\", \"9\", \"10\", \"11\", \"12\", \"13\", \"14\", \"15\", \"16\", \"17\", \"18\", \"19\", \"20\", \"21\", \"22\", \"23\", \"24\", \"25\", \"26\", \"27\", \"28\", \"29\", \"30\", \"31\", \"32\", \"33\", \"34\", \"36\", \"37\"], \"mode\": \"markers\", \"name\": \"f1_score_weighted\", \"stepped\": false, \"type\": \"scatter\", \"data\": [0.7899484792444041, 0.7864332384466984, 0.7784527258598235, 0.7784527258598235, 0.6917666732115775, 0.6734330537176394, 0.7270825258828114, 0.7871623863933569, 0.7853256550243639, 0.7784527258598235, 0.7784438602526759, 0.7784527258598235, 0.7783037981690328, 0.7784527258598235, 0.7784527258598235, 0.7794626473908811, 0.7800813301762354, 0.7789642612602309, 0.7865962473799488, 0.7784527258598235, 0.7784527258598235, 0.7784527258598235, 0.7784527258598235, 0.7784527258598235, 0.7784527258598235, 0.7786639123850568, 0.7870365142265391, 0.7784527258598235, 0.7784527258598235, 0.7784527258598235, 0.7784527258598235, 0.7863099208995009, 0.7877247456102303, 0.7784527258598235, 0.7784527258598235, 0.7784527258598235, 0.779432907955226]}, {\"categories\": [\"0\", \"1\", \"2\", \"3\", \"4\", \"5\", \"6\", \"7\", \"8\", \"9\", \"10\", \"11\", \"12\", \"13\", \"14\", \"15\", \"16\", \"17\", \"18\", \"19\", \"20\", \"21\", \"22\", \"23\", \"24\", \"25\", \"26\", \"27\", \"28\", \"29\", \"30\", \"31\", \"32\", \"33\", \"34\", \"36\", \"37\"], \"mode\": \"lines\", \"name\": \"f1_score_weighted_max\", \"stepped\": true, \"type\": \"scatter\", \"data\": [0.7899484792444041, 0.7899484792444041, 0.7899484792444041, 0.7899484792444041, 0.7899484792444041, 0.7899484792444041, 0.7899484792444041, 0.7899484792444041, 0.7899484792444041, 0.7899484792444041, 0.7899484792444041, 0.7899484792444041, 0.7899484792444041, 0.7899484792444041, 0.7899484792444041, 0.7899484792444041, 0.7899484792444041, 0.7899484792444041, 0.7899484792444041, 0.7899484792444041, 0.7899484792444041, 0.7899484792444041, 0.7899484792444041, 0.7899484792444041, 0.7899484792444041, 0.7899484792444041, 0.7899484792444041, 0.7899484792444041, 0.7899484792444041, 0.7899484792444041, 0.7899484792444041, 0.7899484792444041, 0.7899484792444041, 0.7899484792444041, 0.7899484792444041, 0.7899484792444041, 0.7899484792444041]}], \"AUC_micro\": [{\"categories\": [\"0\", \"1\", \"2\", \"3\", \"4\", \"5\", \"6\", \"7\", \"8\", \"9\", \"10\", \"11\", \"12\", \"13\", \"14\", \"15\", \"16\", \"17\", \"18\", \"19\", \"20\", \"21\", \"22\", \"23\", \"24\", \"25\", \"26\", \"27\", \"28\", \"29\", \"30\", \"31\", \"32\", \"33\", \"34\", \"36\", \"37\"], \"mode\": \"markers\", \"name\": \"AUC_micro\", \"stepped\": false, \"type\": \"scatter\", \"data\": [0.8779753656837449, 0.8925347722983045, 0.8944311588120307, 0.872392043356563, 0.6360801979741811, 0.675740028926957, 0.7664839302688898, 0.8917851935362444, 0.8639998349273174, 0.8900729296482753, 0.887608926817701, 0.8881186988218662, 0.8884870104059216, 0.890542778563208, 0.890193854958189, 0.8881604802302112, 0.8910489572697569, 0.8886654475978449, 0.8857429080589374, 0.8894536390827352, 0.8909706660742479, 0.8892095660807366, 0.8929600443293851, 0.8892633990343307, 0.8481155819555265, 0.8903973012955229, 0.8891479125941858, 0.8896140782729312, 0.8910517546335724, 0.8888233048871431, 0.8481155819555265, 0.8869744917371145, 0.8876438049613696, 0.8905996748018093, 0.890750559484152, 0.8934906677043047, 0.8917473228073357]}, {\"categories\": [\"0\", \"1\", \"2\", \"3\", \"4\", \"5\", \"6\", \"7\", \"8\", \"9\", \"10\", \"11\", \"12\", \"13\", \"14\", \"15\", \"16\", \"17\", \"18\", \"19\", \"20\", \"21\", \"22\", \"23\", \"24\", \"25\", \"26\", \"27\", \"28\", \"29\", \"30\", \"31\", \"32\", \"33\", \"34\", \"36\", \"37\"], \"mode\": \"lines\", \"name\": \"AUC_micro_max\", \"stepped\": true, \"type\": \"scatter\", \"data\": [0.8779753656837449, 0.8925347722983045, 0.8944311588120307, 0.8944311588120307, 0.8944311588120307, 0.8944311588120307, 0.8944311588120307, 0.8944311588120307, 0.8944311588120307, 0.8944311588120307, 0.8944311588120307, 0.8944311588120307, 0.8944311588120307, 0.8944311588120307, 0.8944311588120307, 0.8944311588120307, 0.8944311588120307, 0.8944311588120307, 0.8944311588120307, 0.8944311588120307, 0.8944311588120307, 0.8944311588120307, 0.8944311588120307, 0.8944311588120307, 0.8944311588120307, 0.8944311588120307, 0.8944311588120307, 0.8944311588120307, 0.8944311588120307, 0.8944311588120307, 0.8944311588120307, 0.8944311588120307, 0.8944311588120307, 0.8944311588120307, 0.8944311588120307, 0.8944311588120307, 0.8944311588120307]}], \"AUC_macro\": [{\"categories\": [\"0\", \"1\", \"2\", \"3\", \"4\", \"5\", \"6\", \"7\", \"8\", \"9\", \"10\", \"11\", \"12\", \"13\", \"14\", \"15\", \"16\", \"17\", \"18\", \"19\", \"20\", \"21\", \"22\", \"23\", \"24\", \"25\", \"26\", \"27\", \"28\", \"29\", \"30\", \"31\", \"32\", \"33\", \"34\", \"36\", \"37\"], \"mode\": \"markers\", \"name\": \"AUC_macro\", \"stepped\": false, \"type\": \"scatter\", \"data\": [0.6272491257921978, 0.6719147375349594, 0.6787321545123891, 0.5909727003552425, 0.642916403818859, 0.6491158302321434, 0.5759125058622881, 0.671743453289559, 0.6228010898198861, 0.6614153085049207, 0.6522645885072239, 0.6536342883196306, 0.6553616917870211, 0.663275823350025, 0.661890424208531, 0.654262101989172, 0.665192935438449, 0.6559375256221393, 0.6488952408559422, 0.6593554489739004, 0.6649794612594077, 0.6580573883091579, 0.6728298381996108, 0.6584961382672406, 0.5, 0.6631630658601534, 0.6604924022273061, 0.6594083581769604, 0.6655694142349123, 0.656601178264702, 0.5, 0.6507401625914216, 0.6576543522688431, 0.66356118730022, 0.6638484767681555, 0.6748299351864352, 0.6733820550593798]}, {\"categories\": [\"0\", \"1\", \"2\", \"3\", \"4\", \"5\", \"6\", \"7\", \"8\", \"9\", \"10\", \"11\", \"12\", \"13\", \"14\", \"15\", \"16\", \"17\", \"18\", \"19\", \"20\", \"21\", \"22\", \"23\", \"24\", \"25\", \"26\", \"27\", \"28\", \"29\", \"30\", \"31\", \"32\", \"33\", \"34\", \"36\", \"37\"], \"mode\": \"lines\", \"name\": \"AUC_macro_max\", \"stepped\": true, \"type\": \"scatter\", \"data\": [0.6272491257921978, 0.6719147375349594, 0.6787321545123891, 0.6787321545123891, 0.6787321545123891, 0.6787321545123891, 0.6787321545123891, 0.6787321545123891, 0.6787321545123891, 0.6787321545123891, 0.6787321545123891, 0.6787321545123891, 0.6787321545123891, 0.6787321545123891, 0.6787321545123891, 0.6787321545123891, 0.6787321545123891, 0.6787321545123891, 0.6787321545123891, 0.6787321545123891, 0.6787321545123891, 0.6787321545123891, 0.6787321545123891, 0.6787321545123891, 0.6787321545123891, 0.6787321545123891, 0.6787321545123891, 0.6787321545123891, 0.6787321545123891, 0.6787321545123891, 0.6787321545123891, 0.6787321545123891, 0.6787321545123891, 0.6787321545123891, 0.6787321545123891, 0.6787321545123891, 0.6787321545123891]}], \"recall_score_macro\": [{\"categories\": [\"0\", \"1\", \"2\", \"3\", \"4\", \"5\", \"6\", \"7\", \"8\", \"9\", \"10\", \"11\", \"12\", \"13\", \"14\", \"15\", \"16\", \"17\", \"18\", \"19\", \"20\", \"21\", \"22\", \"23\", \"24\", \"25\", \"26\", \"27\", \"28\", \"29\", \"30\", \"31\", \"32\", \"33\", \"34\", \"36\", \"37\"], \"mode\": \"markers\", \"name\": \"recall_score_macro\", \"stepped\": false, \"type\": \"scatter\", \"data\": [0.5258446333822475, 0.5119042565431116, 0.5, 0.5, 0.6108963542187352, 0.6081092958764598, 0.53726007362763, 0.5162088089550934, 0.5405875205043426, 0.5, 0.5005652981614929, 0.5, 0.500043885727229, 0.5, 0.5, 0.5013149570996014, 0.5033569479947073, 0.5018521200879716, 0.5162133024146512, 0.5, 0.5, 0.5, 0.5, 0.5, 0.5, 0.5004537217928028, 0.5152582290103325, 0.5, 0.5, 0.5, 0.5, 0.51134277044184, 0.5184698596550567, 0.5, 0.5, 0.5, 0.5062593788046095]}, {\"categories\": [\"0\", \"1\", \"2\", \"3\", \"4\", \"5\", \"6\", \"7\", \"8\", \"9\", \"10\", \"11\", \"12\", \"13\", \"14\", \"15\", \"16\", \"17\", \"18\", \"19\", \"20\", \"21\", \"22\", \"23\", \"24\", \"25\", \"26\", \"27\", \"28\", \"29\", \"30\", \"31\", \"32\", \"33\", \"34\", \"36\", \"37\"], \"mode\": \"lines\", \"name\": \"recall_score_macro_max\", \"stepped\": true, \"type\": \"scatter\", \"data\": [0.5258446333822475, 0.5258446333822475, 0.5258446333822475, 0.5258446333822475, 0.6108963542187352, 0.6108963542187352, 0.6108963542187352, 0.6108963542187352, 0.6108963542187352, 0.6108963542187352, 0.6108963542187352, 0.6108963542187352, 0.6108963542187352, 0.6108963542187352, 0.6108963542187352, 0.6108963542187352, 0.6108963542187352, 0.6108963542187352, 0.6108963542187352, 0.6108963542187352, 0.6108963542187352, 0.6108963542187352, 0.6108963542187352, 0.6108963542187352, 0.6108963542187352, 0.6108963542187352, 0.6108963542187352, 0.6108963542187352, 0.6108963542187352, 0.6108963542187352, 0.6108963542187352, 0.6108963542187352, 0.6108963542187352, 0.6108963542187352, 0.6108963542187352, 0.6108963542187352, 0.6108963542187352]}], \"f1_score_micro\": [{\"categories\": [\"0\", \"1\", \"2\", \"3\", \"4\", \"5\", \"6\", \"7\", \"8\", \"9\", \"10\", \"11\", \"12\", \"13\", \"14\", \"15\", \"16\", \"17\", \"18\", \"19\", \"20\", \"21\", \"22\", \"23\", \"24\", \"25\", \"26\", \"27\", \"28\", \"29\", \"30\", \"31\", \"32\", \"33\", \"34\", \"36\", \"37\"], \"mode\": \"markers\", \"name\": \"f1_score_micro\", \"stepped\": false, \"type\": \"scatter\", \"data\": [0.8320762315843352, 0.8471711290024969, 0.8481155819555264, 0.8481155819555264, 0.6448016048192627, 0.6205092605105218, 0.702122107873511, 0.8405674659064329, 0.8068402684975808, 0.8481155819555264, 0.8455206303159888, 0.8481155819555264, 0.8469360584830093, 0.8481155819555264, 0.8481155819555264, 0.8483513198150266, 0.8455206303159888, 0.8450488209269821, 0.839151704069406, 0.8481155819555264, 0.8481155819555264, 0.8481155819555264, 0.8481155819555264, 0.8481155819555264, 0.8481155819555264, 0.8476437725665197, 0.8422184650979506, 0.8481155819555264, 0.8481155819555264, 0.8481155819555264, 0.8481155819555264, 0.8483509861450202, 0.8386797278453959, 0.8481155819555264, 0.8481155819555264, 0.8481155819555264, 0.8400948223424102]}, {\"categories\": [\"0\", \"1\", \"2\", \"3\", \"4\", \"5\", \"6\", \"7\", \"8\", \"9\", \"10\", \"11\", \"12\", \"13\", \"14\", \"15\", \"16\", \"17\", \"18\", \"19\", \"20\", \"21\", \"22\", \"23\", \"24\", \"25\", \"26\", \"27\", \"28\", \"29\", \"30\", \"31\", \"32\", \"33\", \"34\", \"36\", \"37\"], \"mode\": \"lines\", \"name\": \"f1_score_micro_max\", \"stepped\": true, \"type\": \"scatter\", \"data\": [0.8320762315843352, 0.8471711290024969, 0.8481155819555264, 0.8481155819555264, 0.8481155819555264, 0.8481155819555264, 0.8481155819555264, 0.8481155819555264, 0.8481155819555264, 0.8481155819555264, 0.8481155819555264, 0.8481155819555264, 0.8481155819555264, 0.8481155819555264, 0.8481155819555264, 0.8483513198150266, 0.8483513198150266, 0.8483513198150266, 0.8483513198150266, 0.8483513198150266, 0.8483513198150266, 0.8483513198150266, 0.8483513198150266, 0.8483513198150266, 0.8483513198150266, 0.8483513198150266, 0.8483513198150266, 0.8483513198150266, 0.8483513198150266, 0.8483513198150266, 0.8483513198150266, 0.8483513198150266, 0.8483513198150266, 0.8483513198150266, 0.8483513198150266, 0.8483513198150266, 0.8483513198150266]}], \"AUC_weighted\": [{\"categories\": [\"0\", \"1\", \"2\", \"3\", \"4\", \"5\", \"6\", \"7\", \"8\", \"9\", \"10\", \"11\", \"12\", \"13\", \"14\", \"15\", \"16\", \"17\", \"18\", \"19\", \"20\", \"21\", \"22\", \"23\", \"24\", \"25\", \"26\", \"27\", \"28\", \"29\", \"30\", \"31\", \"32\", \"33\", \"34\", \"36\", \"37\"], \"mode\": \"markers\", \"name\": \"AUC_weighted\", \"stepped\": false, \"type\": \"scatter\", \"data\": [0.6272491257921979, 0.6719147375349594, 0.6787321545123891, 0.5909727003552425, 0.642916403818859, 0.6491158302321434, 0.5759125058622883, 0.671743453289559, 0.6228010898198861, 0.6614153085049207, 0.6522645885072239, 0.6536342883196307, 0.6553616917870211, 0.663275823350025, 0.661890424208531, 0.654262101989172, 0.665192935438449, 0.6559375256221393, 0.6488952408559423, 0.6593554489739004, 0.6649794612594077, 0.6580573883091579, 0.6728298381996108, 0.6584961382672404, 0.5, 0.6631630658601533, 0.6604924022273062, 0.6594083581769604, 0.6655694142349123, 0.6566011782647019, 0.5, 0.6507401625914216, 0.6576543522688433, 0.66356118730022, 0.6638484767681555, 0.6748299351864352, 0.6733820550593798]}, {\"categories\": [\"0\", \"1\", \"2\", \"3\", \"4\", \"5\", \"6\", \"7\", \"8\", \"9\", \"10\", \"11\", \"12\", \"13\", \"14\", \"15\", \"16\", \"17\", \"18\", \"19\", \"20\", \"21\", \"22\", \"23\", \"24\", \"25\", \"26\", \"27\", \"28\", \"29\", \"30\", \"31\", \"32\", \"33\", \"34\", \"36\", \"37\"], \"mode\": \"lines\", \"name\": \"AUC_weighted_max\", \"stepped\": true, \"type\": \"scatter\", \"data\": [0.6272491257921979, 0.6719147375349594, 0.6787321545123891, 0.6787321545123891, 0.6787321545123891, 0.6787321545123891, 0.6787321545123891, 0.6787321545123891, 0.6787321545123891, 0.6787321545123891, 0.6787321545123891, 0.6787321545123891, 0.6787321545123891, 0.6787321545123891, 0.6787321545123891, 0.6787321545123891, 0.6787321545123891, 0.6787321545123891, 0.6787321545123891, 0.6787321545123891, 0.6787321545123891, 0.6787321545123891, 0.6787321545123891, 0.6787321545123891, 0.6787321545123891, 0.6787321545123891, 0.6787321545123891, 0.6787321545123891, 0.6787321545123891, 0.6787321545123891, 0.6787321545123891, 0.6787321545123891, 0.6787321545123891, 0.6787321545123891, 0.6787321545123891, 0.6787321545123891, 0.6787321545123891]}]}, \"metricName\": null, \"primaryMetricName\": \"accuracy\", \"showLegend\": false}, \"run_metrics\": [{\"name\": \"experiment_status\", \"run_id\": \"AutoML_1d51ae79-9d4c-42a4-978c-078a65042d57\", \"categories\": [0, 1, 2, 3, 4, 5, 6, 7, 8, 9, 10, 11, 12, 13, 14], \"series\": [{\"data\": [\"DatasetEvaluation\", \"FeaturesGeneration\", \"DatasetFeaturization\", \"DatasetFeaturizationCompleted\", \"DatasetBalancing\", \"DatasetCrossValidationSplit\", \"ModelSelection\", \"BestRunExplainModel\", \"ModelExplanationDataSetSetup\", \"PickSurrogateModel\", \"EngineeredFeatureExplanations\", \"EngineeredFeatureExplanations\", \"RawFeaturesExplanations\", \"RawFeaturesExplanations\", \"BestRunExplainModel\"]}]}, {\"name\": \"experiment_status_description\", \"run_id\": \"AutoML_1d51ae79-9d4c-42a4-978c-078a65042d57\", \"categories\": [0, 1, 2, 3, 4, 5, 6, 7, 8, 9, 10, 11, 12, 13, 14], \"series\": [{\"data\": [\"Gathering dataset statistics.\", \"Generating features for the dataset.\", \"Beginning to fit featurizers and featurize the dataset.\", \"Completed fit featurizers and featurizing the dataset.\", \"Performing class balancing sweeping\", \"Generating individually featurized CV splits.\", \"Beginning model selection.\", \"Best run model explanations started\", \"Model explanations data setup completed\", \"Choosing LinearModel as the surrogate model for explanations\", \"Computation of engineered features started\", \"Computation of engineered features completed\", \"Computation of raw features started\", \"Computation of raw features completed\", \"Best run model explanations completed\"]}]}, {\"name\": \"f1_score_micro\", \"run_id\": \"AutoML_1d51ae79-9d4c-42a4-978c-078a65042d57\", \"categories\": [0], \"series\": [{\"data\": [0.8483513198150266]}]}, {\"name\": \"recall_score_weighted\", \"run_id\": \"AutoML_1d51ae79-9d4c-42a4-978c-078a65042d57\", \"categories\": [0], \"series\": [{\"data\": [0.8483513198150266]}]}, {\"name\": \"f1_score_weighted\", \"run_id\": \"AutoML_1d51ae79-9d4c-42a4-978c-078a65042d57\", \"categories\": [0], \"series\": [{\"data\": [0.7794626473908811]}]}, {\"name\": \"AUC_weighted\", \"run_id\": \"AutoML_1d51ae79-9d4c-42a4-978c-078a65042d57\", \"categories\": [0], \"series\": [{\"data\": [0.654262101989172]}]}, {\"name\": \"recall_score_micro\", \"run_id\": \"AutoML_1d51ae79-9d4c-42a4-978c-078a65042d57\", \"categories\": [0], \"series\": [{\"data\": [0.8483513198150266]}]}, {\"name\": \"average_precision_score_micro\", \"run_id\": \"AutoML_1d51ae79-9d4c-42a4-978c-078a65042d57\", \"categories\": [0], \"series\": [{\"data\": [0.8657408606077333]}]}, {\"name\": \"AUC_macro\", \"run_id\": \"AutoML_1d51ae79-9d4c-42a4-978c-078a65042d57\", \"categories\": [0], \"series\": [{\"data\": [0.654262101989172]}]}, {\"name\": \"accuracy\", \"run_id\": \"AutoML_1d51ae79-9d4c-42a4-978c-078a65042d57\", \"categories\": [0], \"series\": [{\"data\": [0.8483513198150266]}]}, {\"name\": \"average_precision_score_macro\", \"run_id\": \"AutoML_1d51ae79-9d4c-42a4-978c-078a65042d57\", \"categories\": [0], \"series\": [{\"data\": [0.5766390135931861]}]}, {\"name\": \"matthews_correlation\", \"run_id\": \"AutoML_1d51ae79-9d4c-42a4-978c-078a65042d57\", \"categories\": [0], \"series\": [{\"data\": [0.02105689647699088]}]}, {\"name\": \"precision_score_micro\", \"run_id\": \"AutoML_1d51ae79-9d4c-42a4-978c-078a65042d57\", \"categories\": [0], \"series\": [{\"data\": [0.8483513198150266]}]}, {\"name\": \"AUC_micro\", \"run_id\": \"AutoML_1d51ae79-9d4c-42a4-978c-078a65042d57\", \"categories\": [0], \"series\": [{\"data\": [0.8881604802302112]}]}, {\"name\": \"balanced_accuracy\", \"run_id\": \"AutoML_1d51ae79-9d4c-42a4-978c-078a65042d57\", \"categories\": [0], \"series\": [{\"data\": [0.5013149570996014]}]}, {\"name\": \"precision_score_macro\", \"run_id\": \"AutoML_1d51ae79-9d4c-42a4-978c-078a65042d57\", \"categories\": [0], \"series\": [{\"data\": [0.5353477521091401]}]}, {\"name\": \"average_precision_score_weighted\", \"run_id\": \"AutoML_1d51ae79-9d4c-42a4-978c-078a65042d57\", \"categories\": [0], \"series\": [{\"data\": [0.8015591882407153]}]}, {\"name\": \"precision_score_weighted\", \"run_id\": \"AutoML_1d51ae79-9d4c-42a4-978c-078a65042d57\", \"categories\": [0], \"series\": [{\"data\": [0.7557100043685105]}]}, {\"name\": \"weighted_accuracy\", \"run_id\": \"AutoML_1d51ae79-9d4c-42a4-978c-078a65042d57\", \"categories\": [0], \"series\": [{\"data\": [0.968502482192327]}]}, {\"name\": \"recall_score_macro\", \"run_id\": \"AutoML_1d51ae79-9d4c-42a4-978c-078a65042d57\", \"categories\": [0], \"series\": [{\"data\": [0.5013149570996014]}]}, {\"name\": \"f1_score_macro\", \"run_id\": \"AutoML_1d51ae79-9d4c-42a4-978c-078a65042d57\", \"categories\": [0], \"series\": [{\"data\": [0.4618100130840445]}]}, {\"name\": \"norm_macro_recall\", \"run_id\": \"AutoML_1d51ae79-9d4c-42a4-978c-078a65042d57\", \"categories\": [0], \"series\": [{\"data\": [0.0026299141992027764]}]}, {\"name\": \"log_loss\", \"run_id\": \"AutoML_1d51ae79-9d4c-42a4-978c-078a65042d57\", \"categories\": [0], \"series\": [{\"data\": [0.45776584213366184]}]}], \"run_logs\": \"\\nRun is completed.\", \"graph\": {}, \"widget_settings\": {\"childWidgetDisplay\": \"popup\", \"send_telemetry\": false, \"log_level\": \"INFO\", \"sdk_version\": \"1.24.0\"}, \"loading\": false}"
          },
          "metadata": {}
        }
      ],
      "execution_count": 9,
      "metadata": {
        "gather": {
          "logged": 1617129764694
        },
        "jupyter": {
          "outputs_hidden": false,
          "source_hidden": false
        },
        "nteract": {
          "transient": {
            "deleting": false
          }
        }
      }
    },
    {
      "cell_type": "code",
      "source": [
        "remote_run.wait_for_completion(show_output=True)"
      ],
      "outputs": [
        {
          "output_type": "stream",
          "name": "stdout",
          "text": [
            "\n",
            "\n",
            "****************************************************************************************************\n",
            "DATA GUARDRAILS: \n",
            "\n",
            "TYPE:         Cross validation\n",
            "STATUS:       DONE\n",
            "DESCRIPTION:  Each iteration of the trained model was validated through cross-validation.\n",
            "              \n",
            "DETAILS:      \n",
            "+---------------------------------+\n",
            "|Number of folds                  |\n",
            "+=================================+\n",
            "|3                                |\n",
            "+---------------------------------+\n",
            "\n",
            "****************************************************************************************************\n",
            "\n",
            "TYPE:         Class balancing detection\n",
            "STATUS:       ALERTED\n",
            "DESCRIPTION:  To decrease model bias, please cancel the current run and fix balancing problem.\n",
            "              Learn more about imbalanced data: https://aka.ms/AutomatedMLImbalancedData\n",
            "DETAILS:      Imbalanced data can lead to a falsely perceived positive effect of a model's accuracy because the input data has bias towards one class.\n",
            "+---------------------------------+---------------------------------+--------------------------------------+\n",
            "|Size of the smallest class       |Name/Label of the smallest class |Number of samples in the training data|\n",
            "+=================================+=================================+======================================+\n",
            "|644                              |1                                |4240                                  |\n",
            "+---------------------------------+---------------------------------+--------------------------------------+\n",
            "\n",
            "****************************************************************************************************\n",
            "\n",
            "TYPE:         Missing feature values imputation\n",
            "STATUS:       DONE\n",
            "DESCRIPTION:  If the missing values are expected, let the run complete. Otherwise cancel the current run and use a script to customize the handling of missing feature values that may be more appropriate based on the data type and business requirement.\n",
            "              Learn more about missing value imputation: https://aka.ms/AutomatedMLFeaturization\n",
            "DETAILS:      \n",
            "+---------------------------------+---------------------------------+---------------------------------+\n",
            "|Column name                      |Missing value count              |Imputation type                  |\n",
            "+=================================+=================================+=================================+\n",
            "|heartRate                        |1                                |mean                             |\n",
            "+---------------------------------+---------------------------------+---------------------------------+\n",
            "\n",
            "****************************************************************************************************\n",
            "\n",
            "TYPE:         High cardinality feature detection\n",
            "STATUS:       DONE\n",
            "DESCRIPTION:  High cardinality features were detected in your inputs and handled.\n",
            "              Learn more about high cardinality feature handling: https://aka.ms/AutomatedMLFeaturization\n",
            "DETAILS:      High cardinality features refer to columns that contain a large percentage of unique values.\n",
            "+---------------------------------+---------------------------------+\n",
            "|Column name                      |Column Content Type              |\n",
            "+=================================+=================================+\n",
            "|totChol                          |categorical_hash                 |\n",
            "|BMI                              |categorical_hash                 |\n",
            "+---------------------------------+---------------------------------+\n",
            "\n",
            "****************************************************************************************************\n",
            "\n",
            "****************************************************************************************************\n",
            "ITERATION: The iteration being evaluated.\n",
            "PIPELINE: A summary description of the pipeline being evaluated.\n",
            "DURATION: Time taken for the current iteration.\n",
            "METRIC: The result of computing score on the fitted pipeline.\n",
            "BEST: The best observed score thus far.\n",
            "****************************************************************************************************\n",
            "\n",
            " ITERATION   PIPELINE                                       DURATION      METRIC      BEST\n",
            "         0   MaxAbsScaler LightGBM                          0:00:54       0.8321    0.8321\n",
            "         1   MaxAbsScaler XGBoostClassifier                 0:01:01       0.8472    0.8472\n",
            "         2   MaxAbsScaler RandomForest                      0:00:57       0.8481    0.8481\n",
            "         3   MaxAbsScaler RandomForest                      0:05:30       0.8481    0.8481\n",
            "         4   MaxAbsScaler RandomForest                      0:03:13       0.6448    0.8481\n",
            "         5   MaxAbsScaler RandomForest                      0:03:11       0.6205    0.8481\n",
            "         6   StandardScalerWrapper LogisticRegression       0:01:10       0.7021    0.8481\n",
            "         7   SparseNormalizer XGBoostClassifier             0:00:56       0.8406    0.8481\n",
            "        10   StandardScalerWrapper LightGBM                 0:00:50       0.8455    0.8481\n",
            "        11   MaxAbsScaler RandomForest                      0:00:42       0.8481    0.8481\n",
            "         8   MaxAbsScaler LogisticRegression                0:00:49       0.8068    0.8481\n",
            "         9   MaxAbsScaler LightGBM                          0:00:45       0.8481    0.8481\n",
            "        12   MaxAbsScaler LightGBM                          0:00:47       0.8469    0.8481\n",
            "        13   MaxAbsScaler LightGBM                          0:00:44       0.8481    0.8481\n",
            "        14   MaxAbsScaler ExtremeRandomTrees                0:01:06       0.8481    0.8481\n",
            "        15   StandardScalerWrapper XGBoostClassifier        0:00:52       0.8484    0.8484\n",
            "        16   SparseNormalizer XGBoostClassifier             0:00:50       0.8455    0.8484\n",
            "        17   SparseNormalizer LightGBM                      0:00:47       0.8450    0.8484\n",
            "        18   SparseNormalizer XGBoostClassifier             0:00:54       0.8392    0.8484\n",
            "        19   MaxAbsScaler GradientBoosting                  0:00:55       0.8481    0.8484\n",
            "        20   StandardScalerWrapper XGBoostClassifier        0:00:49       0.8481    0.8484\n",
            "        21   StandardScalerWrapper LightGBM                 0:00:45       0.8481    0.8484\n",
            "        22   MaxAbsScaler LightGBM                          0:00:49       0.8481    0.8484\n",
            "        23   StandardScalerWrapper ExtremeRandomTrees       0:01:03       0.8481    0.8484\n",
            "        24   SparseNormalizer XGBoostClassifier             0:00:46       0.8481    0.8484\n",
            "        25   StandardScalerWrapper ExtremeRandomTrees       0:00:59       0.8476    0.8484\n",
            "        26   SparseNormalizer XGBoostClassifier             0:00:45       0.8422    0.8484\n",
            "        27   StandardScalerWrapper LightGBM                 0:00:45       0.8481    0.8484\n",
            "        28   MaxAbsScaler ExtremeRandomTrees                0:01:15       0.8481    0.8484\n",
            "        29   StandardScalerWrapper LightGBM                 0:00:59       0.8481    0.8484\n",
            "        30   SparseNormalizer XGBoostClassifier             0:00:48       0.8481    0.8484\n",
            "        31   TruncatedSVDWrapper XGBoostClassifier          0:00:57       0.8484    0.8484\n",
            "        32   SparseNormalizer XGBoostClassifier             0:01:00       0.8387    0.8484\n",
            "        33   SparseNormalizer RandomForest                  0:00:53       0.8481    0.8484\n",
            "        34   StandardScalerWrapper LightGBM                 0:00:45       0.8481    0.8484\n",
            "        35                                                  0:00:13          nan    0.8484\n",
            "        36    VotingEnsemble                                0:01:08       0.8481    0.8484\n",
            "        37    StackEnsemble                                 0:01:12       0.8401    0.8484\n"
          ]
        },
        {
          "output_type": "execute_result",
          "execution_count": 10,
          "data": {
            "text/plain": "{'runId': 'AutoML_1d51ae79-9d4c-42a4-978c-078a65042d57',\n 'target': 'Compute-Cluster',\n 'status': 'Completed',\n 'startTimeUtc': '2021-03-30T18:15:59.808733Z',\n 'endTimeUtc': '2021-03-30T18:42:29.888671Z',\n 'properties': {'num_iterations': '1000',\n  'training_type': 'TrainFull',\n  'acquisition_function': 'EI',\n  'primary_metric': 'accuracy',\n  'train_split': '0',\n  'acquisition_parameter': '0',\n  'num_cross_validation': None,\n  'target': 'Compute-Cluster',\n  'AMLSettingsJsonString': '{\"path\":null,\"name\":\"Framingham-Experiment\",\"subscription_id\":\"81cefad3-d2c9-4f77-a466-99a7f541c7bb\",\"resource_group\":\"aml-quickstarts-141649\",\"workspace_name\":\"quick-starts-ws-141649\",\"region\":\"southcentralus\",\"compute_target\":\"Compute-Cluster\",\"spark_service\":null,\"azure_service\":\"remote\",\"many_models\":false,\"pipeline_fetch_max_batch_size\":1,\"enable_batch_run\":false,\"iterations\":1000,\"primary_metric\":\"accuracy\",\"task_type\":\"classification\",\"data_script\":null,\"validation_size\":0.0,\"n_cross_validations\":null,\"y_min\":null,\"y_max\":null,\"num_classes\":null,\"featurization\":\"auto\",\"_ignore_package_version_incompatibilities\":false,\"is_timeseries\":false,\"max_cores_per_iteration\":1,\"max_concurrent_iterations\":4,\"iteration_timeout_minutes\":null,\"mem_in_mb\":null,\"enforce_time_on_windows\":false,\"experiment_timeout_minutes\":30,\"experiment_exit_score\":null,\"whitelist_models\":null,\"blacklist_algos\":[\"TensorFlowLinearClassifier\",\"TensorFlowDNN\"],\"supported_models\":[\"LogisticRegression\",\"RandomForest\",\"KNN\",\"SVM\",\"TensorFlowLinearClassifier\",\"LightGBM\",\"LinearSVM\",\"DecisionTree\",\"ExtremeRandomTrees\",\"GradientBoosting\",\"MultinomialNaiveBayes\",\"XGBoostClassifier\",\"TensorFlowDNN\",\"AveragedPerceptronClassifier\",\"SGD\",\"BernoulliNaiveBayes\"],\"private_models\":[],\"auto_blacklist\":true,\"blacklist_samples_reached\":false,\"exclude_nan_labels\":true,\"verbosity\":20,\"_debug_log\":\"azureml_automl.log\",\"show_warnings\":false,\"model_explainability\":true,\"service_url\":null,\"sdk_url\":null,\"sdk_packages\":null,\"enable_onnx_compatible_models\":false,\"enable_split_onnx_featurizer_estimator_models\":false,\"vm_type\":\"STANDARD_D2_V2\",\"telemetry_verbosity\":20,\"send_telemetry\":true,\"enable_dnn\":false,\"scenario\":\"SDK-1.13.0\",\"environment_label\":null,\"save_mlflow\":false,\"force_text_dnn\":false,\"enable_feature_sweeping\":true,\"enable_early_stopping\":true,\"early_stopping_n_iters\":10,\"metrics\":null,\"enable_metric_confidence\":false,\"enable_ensembling\":true,\"enable_stack_ensembling\":true,\"ensemble_iterations\":15,\"enable_tf\":false,\"enable_subsampling\":null,\"subsample_seed\":null,\"enable_nimbusml\":false,\"enable_streaming\":false,\"force_streaming\":false,\"track_child_runs\":true,\"allowed_private_models\":[],\"label_column_name\":\"TenYearCHD\",\"weight_column_name\":null,\"cv_split_column_names\":null,\"enable_local_managed\":false,\"_local_managed_run_id\":null,\"cost_mode\":1,\"lag_length\":0,\"metric_operation\":\"maximize\",\"preprocess\":true}',\n  'DataPrepJsonString': '{\\\\\"training_data\\\\\": \\\\\"{\\\\\\\\\\\\\"blocks\\\\\\\\\\\\\": [{\\\\\\\\\\\\\"id\\\\\\\\\\\\\": \\\\\\\\\\\\\"d21232bc-b7dd-4cd4-bb4f-ab7e8494e707\\\\\\\\\\\\\", \\\\\\\\\\\\\"type\\\\\\\\\\\\\": \\\\\\\\\\\\\"Microsoft.DPrep.GetFilesBlock\\\\\\\\\\\\\", \\\\\\\\\\\\\"arguments\\\\\\\\\\\\\": {\\\\\\\\\\\\\"isArchive\\\\\\\\\\\\\": false, \\\\\\\\\\\\\"path\\\\\\\\\\\\\": {\\\\\\\\\\\\\"target\\\\\\\\\\\\\": 4, \\\\\\\\\\\\\"resourceDetails\\\\\\\\\\\\\": [{\\\\\\\\\\\\\"path\\\\\\\\\\\\\": \\\\\\\\\\\\\"https://raw.githubusercontent.com/Haris-09/Coronary-Heart-Disease-Prediction-Capstone-Project/master/starter_file/framingham.csv\\\\\\\\\\\\\"}]}}, \\\\\\\\\\\\\"localData\\\\\\\\\\\\\": {}, \\\\\\\\\\\\\"isEnabled\\\\\\\\\\\\\": true, \\\\\\\\\\\\\"name\\\\\\\\\\\\\": null, \\\\\\\\\\\\\"annotation\\\\\\\\\\\\\": null}, {\\\\\\\\\\\\\"id\\\\\\\\\\\\\": \\\\\\\\\\\\\"e76c720c-90cd-4cff-aa98-0c29af44fc55\\\\\\\\\\\\\", \\\\\\\\\\\\\"type\\\\\\\\\\\\\": \\\\\\\\\\\\\"Microsoft.DPrep.ParseDelimitedBlock\\\\\\\\\\\\\", \\\\\\\\\\\\\"arguments\\\\\\\\\\\\\": {\\\\\\\\\\\\\"columnHeadersMode\\\\\\\\\\\\\": 3, \\\\\\\\\\\\\"fileEncoding\\\\\\\\\\\\\": 0, \\\\\\\\\\\\\"handleQuotedLineBreaks\\\\\\\\\\\\\": false, \\\\\\\\\\\\\"preview\\\\\\\\\\\\\": false, \\\\\\\\\\\\\"separator\\\\\\\\\\\\\": \\\\\\\\\\\\\",\\\\\\\\\\\\\", \\\\\\\\\\\\\"skipRows\\\\\\\\\\\\\": 0, \\\\\\\\\\\\\"skipRowsMode\\\\\\\\\\\\\": 0}, \\\\\\\\\\\\\"localData\\\\\\\\\\\\\": {}, \\\\\\\\\\\\\"isEnabled\\\\\\\\\\\\\": true, \\\\\\\\\\\\\"name\\\\\\\\\\\\\": null, \\\\\\\\\\\\\"annotation\\\\\\\\\\\\\": null}, {\\\\\\\\\\\\\"id\\\\\\\\\\\\\": \\\\\\\\\\\\\"2a1b312c-fbfb-431a-9835-f5cfde1f23da\\\\\\\\\\\\\", \\\\\\\\\\\\\"type\\\\\\\\\\\\\": \\\\\\\\\\\\\"Microsoft.DPrep.DropColumnsBlock\\\\\\\\\\\\\", \\\\\\\\\\\\\"arguments\\\\\\\\\\\\\": {\\\\\\\\\\\\\"columns\\\\\\\\\\\\\": {\\\\\\\\\\\\\"type\\\\\\\\\\\\\": 0, \\\\\\\\\\\\\"details\\\\\\\\\\\\\": {\\\\\\\\\\\\\"selectedColumns\\\\\\\\\\\\\": [\\\\\\\\\\\\\"Path\\\\\\\\\\\\\"]}}}, \\\\\\\\\\\\\"localData\\\\\\\\\\\\\": {}, \\\\\\\\\\\\\"isEnabled\\\\\\\\\\\\\": true, \\\\\\\\\\\\\"name\\\\\\\\\\\\\": null, \\\\\\\\\\\\\"annotation\\\\\\\\\\\\\": null}, {\\\\\\\\\\\\\"id\\\\\\\\\\\\\": \\\\\\\\\\\\\"76e8a292-1246-4701-b697-2ec9c08c65ef\\\\\\\\\\\\\", \\\\\\\\\\\\\"type\\\\\\\\\\\\\": \\\\\\\\\\\\\"Microsoft.DPrep.SetColumnTypesBlock\\\\\\\\\\\\\", \\\\\\\\\\\\\"arguments\\\\\\\\\\\\\": {\\\\\\\\\\\\\"columnConversion\\\\\\\\\\\\\": [{\\\\\\\\\\\\\"column\\\\\\\\\\\\\": {\\\\\\\\\\\\\"type\\\\\\\\\\\\\": 2, \\\\\\\\\\\\\"details\\\\\\\\\\\\\": {\\\\\\\\\\\\\"selectedColumn\\\\\\\\\\\\\": \\\\\\\\\\\\\"male\\\\\\\\\\\\\"}}, \\\\\\\\\\\\\"typeProperty\\\\\\\\\\\\\": 2}, {\\\\\\\\\\\\\"column\\\\\\\\\\\\\": {\\\\\\\\\\\\\"type\\\\\\\\\\\\\": 2, \\\\\\\\\\\\\"details\\\\\\\\\\\\\": {\\\\\\\\\\\\\"selectedColumn\\\\\\\\\\\\\": \\\\\\\\\\\\\"age\\\\\\\\\\\\\"}}, \\\\\\\\\\\\\"typeProperty\\\\\\\\\\\\\": 2}, {\\\\\\\\\\\\\"column\\\\\\\\\\\\\": {\\\\\\\\\\\\\"type\\\\\\\\\\\\\": 2, \\\\\\\\\\\\\"details\\\\\\\\\\\\\": {\\\\\\\\\\\\\"selectedColumn\\\\\\\\\\\\\": \\\\\\\\\\\\\"education\\\\\\\\\\\\\"}}, \\\\\\\\\\\\\"typeProperty\\\\\\\\\\\\\": 0}, {\\\\\\\\\\\\\"column\\\\\\\\\\\\\": {\\\\\\\\\\\\\"type\\\\\\\\\\\\\": 2, \\\\\\\\\\\\\"details\\\\\\\\\\\\\": {\\\\\\\\\\\\\"selectedColumn\\\\\\\\\\\\\": \\\\\\\\\\\\\"currentSmoker\\\\\\\\\\\\\"}}, \\\\\\\\\\\\\"typeProperty\\\\\\\\\\\\\": 2}, {\\\\\\\\\\\\\"column\\\\\\\\\\\\\": {\\\\\\\\\\\\\"type\\\\\\\\\\\\\": 2, \\\\\\\\\\\\\"details\\\\\\\\\\\\\": {\\\\\\\\\\\\\"selectedColumn\\\\\\\\\\\\\": \\\\\\\\\\\\\"cigsPerDay\\\\\\\\\\\\\"}}, \\\\\\\\\\\\\"typeProperty\\\\\\\\\\\\\": 0}, {\\\\\\\\\\\\\"column\\\\\\\\\\\\\": {\\\\\\\\\\\\\"type\\\\\\\\\\\\\": 2, \\\\\\\\\\\\\"details\\\\\\\\\\\\\": {\\\\\\\\\\\\\"selectedColumn\\\\\\\\\\\\\": \\\\\\\\\\\\\"BPMeds\\\\\\\\\\\\\"}}, \\\\\\\\\\\\\"typeProperty\\\\\\\\\\\\\": 0}, {\\\\\\\\\\\\\"column\\\\\\\\\\\\\": {\\\\\\\\\\\\\"type\\\\\\\\\\\\\": 2, \\\\\\\\\\\\\"details\\\\\\\\\\\\\": {\\\\\\\\\\\\\"selectedColumn\\\\\\\\\\\\\": \\\\\\\\\\\\\"prevalentStroke\\\\\\\\\\\\\"}}, \\\\\\\\\\\\\"typeProperty\\\\\\\\\\\\\": 2}, {\\\\\\\\\\\\\"column\\\\\\\\\\\\\": {\\\\\\\\\\\\\"type\\\\\\\\\\\\\": 2, \\\\\\\\\\\\\"details\\\\\\\\\\\\\": {\\\\\\\\\\\\\"selectedColumn\\\\\\\\\\\\\": \\\\\\\\\\\\\"prevalentHyp\\\\\\\\\\\\\"}}, \\\\\\\\\\\\\"typeProperty\\\\\\\\\\\\\": 2}, {\\\\\\\\\\\\\"column\\\\\\\\\\\\\": {\\\\\\\\\\\\\"type\\\\\\\\\\\\\": 2, \\\\\\\\\\\\\"details\\\\\\\\\\\\\": {\\\\\\\\\\\\\"selectedColumn\\\\\\\\\\\\\": \\\\\\\\\\\\\"diabetes\\\\\\\\\\\\\"}}, \\\\\\\\\\\\\"typeProperty\\\\\\\\\\\\\": 2}, {\\\\\\\\\\\\\"column\\\\\\\\\\\\\": {\\\\\\\\\\\\\"type\\\\\\\\\\\\\": 2, \\\\\\\\\\\\\"details\\\\\\\\\\\\\": {\\\\\\\\\\\\\"selectedColumn\\\\\\\\\\\\\": \\\\\\\\\\\\\"totChol\\\\\\\\\\\\\"}}, \\\\\\\\\\\\\"typeProperty\\\\\\\\\\\\\": 0}, {\\\\\\\\\\\\\"column\\\\\\\\\\\\\": {\\\\\\\\\\\\\"type\\\\\\\\\\\\\": 2, \\\\\\\\\\\\\"details\\\\\\\\\\\\\": {\\\\\\\\\\\\\"selectedColumn\\\\\\\\\\\\\": \\\\\\\\\\\\\"sysBP\\\\\\\\\\\\\"}}, \\\\\\\\\\\\\"typeProperty\\\\\\\\\\\\\": 3}, {\\\\\\\\\\\\\"column\\\\\\\\\\\\\": {\\\\\\\\\\\\\"type\\\\\\\\\\\\\": 2, \\\\\\\\\\\\\"details\\\\\\\\\\\\\": {\\\\\\\\\\\\\"selectedColumn\\\\\\\\\\\\\": \\\\\\\\\\\\\"diaBP\\\\\\\\\\\\\"}}, \\\\\\\\\\\\\"typeProperty\\\\\\\\\\\\\": 3}, {\\\\\\\\\\\\\"column\\\\\\\\\\\\\": {\\\\\\\\\\\\\"type\\\\\\\\\\\\\": 2, \\\\\\\\\\\\\"details\\\\\\\\\\\\\": {\\\\\\\\\\\\\"selectedColumn\\\\\\\\\\\\\": \\\\\\\\\\\\\"BMI\\\\\\\\\\\\\"}}, \\\\\\\\\\\\\"typeProperty\\\\\\\\\\\\\": 0}, {\\\\\\\\\\\\\"column\\\\\\\\\\\\\": {\\\\\\\\\\\\\"type\\\\\\\\\\\\\": 2, \\\\\\\\\\\\\"details\\\\\\\\\\\\\": {\\\\\\\\\\\\\"selectedColumn\\\\\\\\\\\\\": \\\\\\\\\\\\\"heartRate\\\\\\\\\\\\\"}}, \\\\\\\\\\\\\"typeProperty\\\\\\\\\\\\\": 2}, {\\\\\\\\\\\\\"column\\\\\\\\\\\\\": {\\\\\\\\\\\\\"type\\\\\\\\\\\\\": 2, \\\\\\\\\\\\\"details\\\\\\\\\\\\\": {\\\\\\\\\\\\\"selectedColumn\\\\\\\\\\\\\": \\\\\\\\\\\\\"glucose\\\\\\\\\\\\\"}}, \\\\\\\\\\\\\"typeProperty\\\\\\\\\\\\\": 0}, {\\\\\\\\\\\\\"column\\\\\\\\\\\\\": {\\\\\\\\\\\\\"type\\\\\\\\\\\\\": 2, \\\\\\\\\\\\\"details\\\\\\\\\\\\\": {\\\\\\\\\\\\\"selectedColumn\\\\\\\\\\\\\": \\\\\\\\\\\\\"TenYearCHD\\\\\\\\\\\\\"}}, \\\\\\\\\\\\\"typeProperty\\\\\\\\\\\\\": 2}]}, \\\\\\\\\\\\\"localData\\\\\\\\\\\\\": {}, \\\\\\\\\\\\\"isEnabled\\\\\\\\\\\\\": true, \\\\\\\\\\\\\"name\\\\\\\\\\\\\": null, \\\\\\\\\\\\\"annotation\\\\\\\\\\\\\": null}], \\\\\\\\\\\\\"inspectors\\\\\\\\\\\\\": [], \\\\\\\\\\\\\"meta\\\\\\\\\\\\\": {\\\\\\\\\\\\\"savedDatasetId\\\\\\\\\\\\\": \\\\\\\\\\\\\"653e5f50-8973-43a2-ac4b-fddf22222719\\\\\\\\\\\\\", \\\\\\\\\\\\\"datasetType\\\\\\\\\\\\\": \\\\\\\\\\\\\"tabular\\\\\\\\\\\\\", \\\\\\\\\\\\\"subscriptionId\\\\\\\\\\\\\": \\\\\\\\\\\\\"81cefad3-d2c9-4f77-a466-99a7f541c7bb\\\\\\\\\\\\\", \\\\\\\\\\\\\"workspaceId\\\\\\\\\\\\\": \\\\\\\\\\\\\"88e065f7-b211-404a-bfc5-f0fcb01a5e57\\\\\\\\\\\\\", \\\\\\\\\\\\\"workspaceLocation\\\\\\\\\\\\\": \\\\\\\\\\\\\"southcentralus\\\\\\\\\\\\\", \\\\\\\\\\\\\"partition_keys\\\\\\\\\\\\\": \\\\\\\\\\\\\"true\\\\\\\\\\\\\"}}\\\\\", \\\\\"activities\\\\\": 0}',\n  'EnableSubsampling': None,\n  'runTemplate': 'AutoML',\n  'azureml.runsource': 'automl',\n  'display_task_type': 'classification',\n  'dependencies_versions': '{\"azureml-widgets\": \"1.24.0\", \"azureml-train\": \"1.24.0\", \"azureml-train-restclients-hyperdrive\": \"1.24.0\", \"azureml-train-core\": \"1.24.0\", \"azureml-train-automl-client\": \"1.24.0\", \"azureml-tensorboard\": \"1.24.0\", \"azureml-telemetry\": \"1.24.0\", \"azureml-sdk\": \"1.24.0\", \"azureml-pipeline\": \"1.24.0\", \"azureml-pipeline-steps\": \"1.24.0\", \"azureml-pipeline-core\": \"1.24.0\", \"azureml-opendatasets\": \"1.24.0\", \"azureml-model-management-sdk\": \"1.0.1b6.post1\", \"azureml-mlflow\": \"1.24.0\", \"azureml-interpret\": \"1.24.0\", \"azureml-explain-model\": \"1.24.0\", \"azureml-defaults\": \"1.24.0\", \"azureml-dataset-runtime\": \"1.24.0\", \"azureml-dataprep\": \"2.11.1\", \"azureml-dataprep-rslex\": \"1.9.0\", \"azureml-dataprep-native\": \"30.0.0\", \"azureml-datadrift\": \"1.24.0\", \"azureml-core\": \"1.24.0\", \"azureml-contrib-services\": \"1.24.0\", \"azureml-contrib-server\": \"1.24.0\", \"azureml-contrib-reinforcementlearning\": \"1.24.0\", \"azureml-contrib-pipeline-steps\": \"1.24.0\", \"azureml-contrib-notebook\": \"1.24.0\", \"azureml-contrib-gbdt\": \"1.24.0\", \"azureml-contrib-fairness\": \"1.24.0\", \"azureml-contrib-dataset\": \"1.24.0\", \"azureml-cli-common\": \"1.24.0\", \"azureml-automl-core\": \"1.24.0\", \"azureml-accel-models\": \"1.24.0\"}',\n  '_aml_system_scenario_identification': 'Remote.Parent',\n  'ClientType': 'SDK',\n  'environment_cpu_name': 'AzureML-AutoML',\n  'environment_cpu_label': 'prod',\n  'environment_gpu_name': 'AzureML-AutoML-GPU',\n  'environment_gpu_label': 'prod',\n  'root_attribution': 'automl',\n  'attribution': 'AutoML',\n  'Orchestrator': 'AutoML',\n  'CancelUri': 'https://southcentralus.experiments.azureml.net/jasmine/v1.0/subscriptions/81cefad3-d2c9-4f77-a466-99a7f541c7bb/resourceGroups/aml-quickstarts-141649/providers/Microsoft.MachineLearningServices/workspaces/quick-starts-ws-141649/experimentids/379fcafd-a028-4bd2-b000-d6287a72a7f0/cancel/AutoML_1d51ae79-9d4c-42a4-978c-078a65042d57',\n  'ClientSdkVersion': '1.24.0',\n  'snapshotId': '00000000-0000-0000-0000-000000000000',\n  'SetupRunId': 'AutoML_1d51ae79-9d4c-42a4-978c-078a65042d57_setup',\n  'SetupRunContainerId': 'dcid.AutoML_1d51ae79-9d4c-42a4-978c-078a65042d57_setup',\n  'FeaturizationRunJsonPath': 'featurizer_container.json',\n  'FeaturizationRunId': 'AutoML_1d51ae79-9d4c-42a4-978c-078a65042d57_featurize',\n  'ProblemInfoJsonString': '{\"dataset_num_categorical\": 0, \"is_sparse\": true, \"subsampling\": false, \"dataset_classes\": 2, \"dataset_features\": 1385, \"dataset_samples\": 4240, \"single_frequency_class_detected\": false}',\n  'ModelExplainRunId': 'AutoML_1d51ae79-9d4c-42a4-978c-078a65042d57_ModelExplain'},\n 'inputDatasets': [{'dataset': {'id': '653e5f50-8973-43a2-ac4b-fddf22222719'}, 'consumptionDetails': {'type': 'RunInput', 'inputName': 'training_data', 'mechanism': 'Direct'}}],\n 'outputDatasets': [],\n 'logFiles': {},\n 'submittedBy': 'ODL_User 141649'}"
          },
          "metadata": {}
        }
      ],
      "execution_count": 10,
      "metadata": {
        "gather": {
          "logged": 1617129996339
        }
      }
    },
    {
      "cell_type": "markdown",
      "source": [
        "## Best Model\n",
        "\n",
        "TODO: In the cell below, get the best model from the automl experiments and display all the properties of the model.\n",
        "\n"
      ],
      "metadata": {}
    },
    {
      "cell_type": "code",
      "source": [
        "best_automl_run, best_automl_model = remote_run.get_output()\n",
        "\n",
        "print('Best Run Id: ' + best_automl_run.id,\n",
        "     'Best Model Name: ' + best_automl_run.properties['model_name'],\n",
        "     )"
      ],
      "outputs": [
        {
          "output_type": "stream",
          "name": "stderr",
          "text": [
            "WARNING:root:The model you attempted to retrieve requires 'azureml-train-automl-runtime' to be installed at '==1.24.0'. Please install 'azureml-train-automl-runtime==1.24.0' (e.g. `pip install azureml-train-automl-runtime==1.24.0`) and then rerun the previous command.\n"
          ]
        },
        {
          "output_type": "stream",
          "name": "stdout",
          "text": [
            "Best Run Id: AutoML_1d51ae79-9d4c-42a4-978c-078a65042d57_15 Best Model Name: AutoML1d51ae79915\n"
          ]
        }
      ],
      "execution_count": 12,
      "metadata": {
        "gather": {
          "logged": 1617133201199
        },
        "jupyter": {
          "outputs_hidden": false,
          "source_hidden": false
        },
        "nteract": {
          "transient": {
            "deleting": false
          }
        }
      }
    },
    {
      "cell_type": "code",
      "source": [
        "best_run_metrics = best_automl_run.get_metrics()\n",
        "\n",
        "for metric_name in best_run_metrics:\n",
        "    metric = best_run_metrics[metric_name]\n",
        "    print(metric_name,\":\" , metric)"
      ],
      "outputs": [
        {
          "output_type": "stream",
          "name": "stdout",
          "text": [
            "precision_score_micro : 0.8483513198150266\n",
            "log_loss : 0.45776584213366184\n",
            "weighted_accuracy : 0.968502482192327\n",
            "precision_score_weighted : 0.7557100043685105\n",
            "average_precision_score_micro : 0.8657408606077333\n",
            "accuracy : 0.8483513198150266\n",
            "f1_score_macro : 0.4618100130840445\n",
            "average_precision_score_macro : 0.5766390135931861\n",
            "norm_macro_recall : 0.0026299141992027764\n",
            "f1_score_micro : 0.8483513198150266\n",
            "AUC_macro : 0.654262101989172\n",
            "matthews_correlation : 0.02105689647699088\n",
            "precision_score_macro : 0.5353477521091401\n",
            "recall_score_weighted : 0.8483513198150266\n",
            "AUC_micro : 0.8881604802302112\n",
            "recall_score_micro : 0.8483513198150266\n",
            "f1_score_weighted : 0.7794626473908811\n",
            "average_precision_score_weighted : 0.8015591882407153\n",
            "recall_score_macro : 0.5013149570996014\n",
            "AUC_weighted : 0.654262101989172\n",
            "balanced_accuracy : 0.5013149570996014\n",
            "accuracy_table : aml://artifactId/ExperimentRun/dcid.AutoML_1d51ae79-9d4c-42a4-978c-078a65042d57_15/accuracy_table\n",
            "confusion_matrix : aml://artifactId/ExperimentRun/dcid.AutoML_1d51ae79-9d4c-42a4-978c-078a65042d57_15/confusion_matrix\n"
          ]
        }
      ],
      "execution_count": 14,
      "metadata": {
        "gather": {
          "logged": 1617133253076
        }
      }
    },
    {
      "cell_type": "code",
      "source": [
        "#TODO: Save the best model\n",
        "automodel = best_automl_run.register_model(model_name='best_automl_model', \n",
        "                                    model_path='outputs/model.pkl',\n",
        "                                    tags={'Method':'AutoML'},\n",
        "                                    properties={'Accuracy': best_run_metrics['accuracy']})"
      ],
      "outputs": [],
      "execution_count": 18,
      "metadata": {
        "gather": {
          "logged": 1617133609099
        },
        "jupyter": {
          "outputs_hidden": false,
          "source_hidden": false
        },
        "nteract": {
          "transient": {
            "deleting": false
          }
        }
      }
    },
    {
      "cell_type": "markdown",
      "source": [
        "## Model Deployment\n",
        "\n",
        "Remember you have to deploy only one of the two models you trained.. Perform the steps in the rest of this notebook only if you wish to deploy this model.\n",
        "\n",
        "TODO: In the cell below, register the model, create an inference config and deploy the model as a web service."
      ],
      "metadata": {}
    },
    {
      "cell_type": "code",
      "source": [
        "# Download scoring file \n",
        "best_automl_run.download_file('outputs/scoring_file_v_1_0_0.py', 'score.py')\n",
        "\n",
        "# Download environment file\n",
        "best_automl_run.download_file('outputs/conda_env_v_1_0_0.yml', 'env.yml')"
      ],
      "outputs": [],
      "execution_count": 19,
      "metadata": {
        "gather": {
          "logged": 1617133636824
        },
        "jupyter": {
          "outputs_hidden": false,
          "source_hidden": false
        },
        "nteract": {
          "transient": {
            "deleting": false
          }
        }
      }
    },
    {
      "cell_type": "code",
      "source": [
        "from azureml.core.webservice import AciWebservice, Webservice\n",
        "aciconfig = AciWebservice.deploy_configuration(cpu_cores=1, \n",
        "                                               memory_gb=1, \n",
        "                                               description='Framingham Heart Disease Prediction with AutoML')"
      ],
      "outputs": [],
      "execution_count": 21,
      "metadata": {
        "gather": {
          "logged": 1617134107278
        }
      }
    },
    {
      "cell_type": "code",
      "source": [
        "from azureml.core.model import InferenceConfig, Model\n",
        "inference_config = InferenceConfig(entry_script=\"score.py\", environment=best_automl_run.get_environment())\n",
        "\n",
        "service = Model.deploy(workspace=ws, \n",
        "                       name='automl-webservice', \n",
        "                       models=[automodel], \n",
        "                       inference_config=inference_config, \n",
        "                       deployment_config=aciconfig)"
      ],
      "outputs": [],
      "execution_count": 24,
      "metadata": {
        "gather": {
          "logged": 1617134214808
        }
      }
    },
    {
      "cell_type": "code",
      "source": [
        "service.wait_for_deployment(show_output=True)"
      ],
      "outputs": [
        {
          "output_type": "stream",
          "name": "stdout",
          "text": [
            "Tips: You can try get_logs(): https://aka.ms/debugimage#dockerlog or local deployment: https://aka.ms/debugimage#debug-locally to debug if deployment takes longer than 10 minutes.\n",
            "Running\n",
            "2021-03-30 19:56:54+00:00 Creating Container Registry if not exists.\n",
            "2021-03-30 19:56:54+00:00 Registering the environment.\n",
            "2021-03-30 19:56:55+00:00 Use the existing image.\n",
            "2021-03-30 19:56:55+00:00 Generating deployment configuration.\n",
            "2021-03-30 19:56:57+00:00 Submitting deployment to compute.\n",
            "2021-03-30 19:57:04+00:00 Checking the status of deployment automl-webservice..\n",
            "2021-03-30 19:58:05+00:00 Checking the status of inference endpoint automl-webservice.\n",
            "Succeeded\n",
            "ACI service creation operation finished, operation \"Succeeded\"\n"
          ]
        }
      ],
      "execution_count": 25,
      "metadata": {
        "gather": {
          "logged": 1617134300746
        }
      }
    },
    {
      "cell_type": "code",
      "source": [
        "print(\"Service State: \",service.state)\n",
        "print(\"Scoring URI: \",service.scoring_uri)\n",
        "print(\"Swagger URI: \",service.swagger_uri)"
      ],
      "outputs": [
        {
          "output_type": "stream",
          "name": "stdout",
          "text": [
            "Service State:  Healthy\n",
            "Scoring URI:  http://5c79d03d-d5db-4140-9027-b50473289efb.southcentralus.azurecontainer.io/score\n",
            "Swagger URI:  http://5c79d03d-d5db-4140-9027-b50473289efb.southcentralus.azurecontainer.io/swagger.json\n"
          ]
        }
      ],
      "execution_count": 26,
      "metadata": {
        "gather": {
          "logged": 1617134324528
        }
      }
    },
    {
      "cell_type": "markdown",
      "source": [
        "TODO: In the cell below, send a request to the web service you deployed to test it."
      ],
      "metadata": {
        "collapsed": true,
        "gather": {
          "logged": 1598431657736
        },
        "jupyter": {
          "outputs_hidden": false,
          "source_hidden": false
        },
        "nteract": {
          "transient": {
            "deleting": false
          }
        }
      }
    },
    {
      "cell_type": "code",
      "source": [
        "\n",
        "import json\n",
        "\n",
        "data = {\n",
        "    \"data\": [\n",
        "        {\n",
        "            'male': 0,\n",
        "            'age': 55,\n",
        "            'education': 4 ,\n",
        "            'currentSmoker': 1,\n",
        "            'cigsPerDay': 20,\n",
        "            'BPMeds': 0,\n",
        "            'prevalentStroke': 0,\n",
        "            'prevalentHyp': 0,\n",
        "            'diabetes': 0,\n",
        "            'totChol': 285,\n",
        "            'sysBP': 175,\n",
        "            'diaBP': 84,\n",
        "            'BMI': 25.50,\n",
        "            'heartRate': 93,\n",
        "            'glucose': 87\n",
        "        },\n",
        "        {\n",
        "            'male': 1,\n",
        "            'age': 40,\n",
        "            'education': 4 ,\n",
        "            'currentSmoker': 0,\n",
        "            'cigsPerDay': 30,\n",
        "            'BPMeds': 0,\n",
        "            'prevalentStroke': 0,\n",
        "            'prevalentHyp': 0,\n",
        "            'diabetes': 0,\n",
        "            'totChol': 228,\n",
        "            'sysBP': 121,\n",
        "            'diaBP': 110,\n",
        "            'BMI': 30.30,\n",
        "            'heartRate': 80,\n",
        "            'glucose': 80\n",
        "        }\n",
        "    ]\n",
        "}\n",
        "\n",
        "data_sample = json.dumps(data)"
      ],
      "outputs": [],
      "execution_count": 33,
      "metadata": {
        "gather": {
          "logged": 1617134943265
        },
        "jupyter": {
          "outputs_hidden": false,
          "source_hidden": false
        },
        "nteract": {
          "transient": {
            "deleting": false
          }
        }
      }
    },
    {
      "cell_type": "code",
      "source": [
        "\n",
        "import requests\n",
        "\n",
        "scoring_uri = service.scoring_uri\n",
        "input_data = data_sample\n",
        "\n",
        "# Set the content type\n",
        "headers = {'Content-Type': 'application/json'}\n",
        "\n",
        "# Make the request and display the response\n",
        "response = requests.post(scoring_uri, input_data, headers=headers)\n",
        "response.json()"
      ],
      "outputs": [
        {
          "output_type": "execute_result",
          "execution_count": 34,
          "data": {
            "text/plain": "'{\"result\": [0, 0]}'"
          },
          "metadata": {}
        }
      ],
      "execution_count": 34,
      "metadata": {
        "gather": {
          "logged": 1617134949886
        }
      }
    },
    {
      "cell_type": "markdown",
      "source": [
        "TODO: In the cell below, print the logs of the web service and delete the service"
      ],
      "metadata": {
        "collapsed": true,
        "gather": {
          "logged": 1598432765711
        },
        "jupyter": {
          "outputs_hidden": false,
          "source_hidden": false
        },
        "nteract": {
          "transient": {
            "deleting": false
          }
        }
      }
    },
    {
      "cell_type": "code",
      "source": [
        "service.get_logs()"
      ],
      "outputs": [
        {
          "output_type": "execute_result",
          "execution_count": 35,
          "data": {
            "text/plain": "'2021-03-30T19:57:57,245662000+00:00 - rsyslog/run \\n2021-03-30T19:57:57,257303600+00:00 - gunicorn/run \\nrsyslogd: /azureml-envs/azureml_2b14f450572e78de640d54eaabed5e4d/lib/libuuid.so.1: no version information available (required by rsyslogd)\\n2021-03-30T19:57:57,270959100+00:00 - iot-server/run \\n2021-03-30T19:57:57,310604700+00:00 - nginx/run \\n/usr/sbin/nginx: /azureml-envs/azureml_2b14f450572e78de640d54eaabed5e4d/lib/libcrypto.so.1.0.0: no version information available (required by /usr/sbin/nginx)\\n/usr/sbin/nginx: /azureml-envs/azureml_2b14f450572e78de640d54eaabed5e4d/lib/libcrypto.so.1.0.0: no version information available (required by /usr/sbin/nginx)\\n/usr/sbin/nginx: /azureml-envs/azureml_2b14f450572e78de640d54eaabed5e4d/lib/libssl.so.1.0.0: no version information available (required by /usr/sbin/nginx)\\n/usr/sbin/nginx: /azureml-envs/azureml_2b14f450572e78de640d54eaabed5e4d/lib/libssl.so.1.0.0: no version information available (required by /usr/sbin/nginx)\\n/usr/sbin/nginx: /azureml-envs/azureml_2b14f450572e78de640d54eaabed5e4d/lib/libssl.so.1.0.0: no version information available (required by /usr/sbin/nginx)\\nEdgeHubConnectionString and IOTEDGE_IOTHUBHOSTNAME are not set. Exiting...\\n2021-03-30T19:57:58,991204800+00:00 - iot-server/finish 1 0\\n2021-03-30T19:57:58,998910500+00:00 - Exit code 1 is normal. Not restarting iot-server.\\nStarting gunicorn 19.9.0\\nListening at: http://127.0.0.1:31311 (65)\\nUsing worker: sync\\nworker timeout is set to 300\\nBooting worker with pid: 94\\nSPARK_HOME not set. Skipping PySpark Initialization.\\nGenerating new fontManager, this may take some time...\\nInitializing logger\\n2021-03-30 19:58:04,420 | root | INFO | Starting up app insights client\\n2021-03-30 19:58:04,421 | root | INFO | Starting up request id generator\\n2021-03-30 19:58:04,421 | root | INFO | Starting up app insight hooks\\n2021-03-30 19:58:04,422 | root | INFO | Invoking user\\'s init function\\n2021-03-30 19:58:14,999 | azureml.core | WARNING | Failure while loading azureml_run_type_providers. Failed to load entrypoint automl = azureml.train.automl.run:AutoMLRun._from_run_dto with exception (cryptography 3.2 (/azureml-envs/azureml_2b14f450572e78de640d54eaabed5e4d/lib/python3.6/site-packages), Requirement.parse(\\'cryptography<4.0.0,>=3.3.1; extra == \"crypto\"\\'), {\\'PyJWT\\'}).\\nFailure while loading azureml_run_type_providers. Failed to load entrypoint automl = azureml.train.automl.run:AutoMLRun._from_run_dto with exception (cryptography 3.2 (/azureml-envs/azureml_2b14f450572e78de640d54eaabed5e4d/lib/python3.6/site-packages), Requirement.parse(\\'cryptography<4.0.0,>=3.3.1; extra == \"crypto\"\\'), {\\'PyJWT\\'}).\\n2021-03-30 19:58:15,881 | root | INFO | Users\\'s init has completed successfully\\n2021-03-30 19:58:15,902 | root | INFO | Skipping middleware: dbg_model_info as it\\'s not enabled.\\n2021-03-30 19:58:15,902 | root | INFO | Skipping middleware: dbg_resource_usage as it\\'s not enabled.\\n2021-03-30 19:58:15,906 | root | INFO | Scoring timeout is found from os.environ: 60000 ms\\n2021-03-30 19:58:15,975 | root | INFO | 200\\n127.0.0.1 - - [30/Mar/2021:19:58:15 +0000] \"GET /swagger.json HTTP/1.0\" 200 2937 \"-\" \"Go-http-client/1.1\"\\n2021-03-30 19:58:20,150 | root | INFO | 200\\n127.0.0.1 - - [30/Mar/2021:19:58:20 +0000] \"GET /swagger.json HTTP/1.0\" 200 2937 \"-\" \"Go-http-client/1.1\"\\n2021-03-30 20:06:22,884 | root | INFO | Validation Request Content-Type\\n2021-03-30 20:06:22,885 | root | INFO | Scoring Timer is set to 60.0 seconds\\n2021-03-30 20:06:22,916 | root | INFO | 200\\n127.0.0.1 - - [30/Mar/2021:20:06:22 +0000] \"POST /score HTTP/1.0\" 200 640 \"-\" \"python-requests/2.25.1\"\\n2021-03-30 20:09:09,295 | root | INFO | Validation Request Content-Type\\n2021-03-30 20:09:09,297 | root | INFO | Scoring Timer is set to 60.0 seconds\\n2021-03-30 20:09:09,438 | root | INFO | 200\\n127.0.0.1 - - [30/Mar/2021:20:09:09 +0000] \"POST /score HTTP/1.0\" 200 22 \"-\" \"python-requests/2.25.1\"\\n'"
          },
          "metadata": {}
        }
      ],
      "execution_count": 35,
      "metadata": {
        "jupyter": {
          "outputs_hidden": false,
          "source_hidden": false
        },
        "nteract": {
          "transient": {
            "deleting": false
          }
        },
        "gather": {
          "logged": 1617134960257
        }
      }
    },
    {
      "cell_type": "code",
      "source": [
        "service.delete()"
      ],
      "outputs": [],
      "execution_count": 37,
      "metadata": {
        "gather": {
          "logged": 1617135033496
        }
      }
    }
  ],
  "metadata": {
    "kernel_info": {
      "name": "python3"
    },
    "kernelspec": {
      "name": "python3",
      "language": "python",
      "display_name": "Python 3"
    },
    "language_info": {
      "name": "python",
      "version": "3.6.9",
      "mimetype": "text/x-python",
      "codemirror_mode": {
        "name": "ipython",
        "version": 3
      },
      "pygments_lexer": "ipython3",
      "nbconvert_exporter": "python",
      "file_extension": ".py"
    },
    "nteract": {
      "version": "nteract-front-end@1.0.0"
    }
  },
  "nbformat": 4,
  "nbformat_minor": 2
}