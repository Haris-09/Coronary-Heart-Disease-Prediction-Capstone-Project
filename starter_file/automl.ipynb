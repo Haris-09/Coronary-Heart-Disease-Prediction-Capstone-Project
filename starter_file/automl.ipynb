{
  "cells": [
    {
      "cell_type": "markdown",
      "source": [
        "# Automated ML\n",
        "\n",
        "TODO: Import Dependencies. In the cell below, import all the dependencies that you will need to complete the project."
      ],
      "metadata": {}
    },
    {
      "cell_type": "code",
      "source": [
        "from azureml.core.experiment import Experiment\n",
        "from azureml.core.workspace import Workspace\n",
        "from azureml.core.compute import ComputeTarget, AmlCompute\n",
        "from azureml.core.compute_target import ComputeTargetException\n",
        "from azureml.widgets import RunDetails\n",
        "from azureml.data.dataset_factory import TabularDatasetFactory\n",
        "from azureml.train.automl import AutoMLConfig\n",
        "from azureml.core.dataset import Dataset\n",
        "from azureml.core.webservice import AciWebservice, Webservice\n",
        "from azureml.core.model import InferenceConfig, Model\n",
        "import os\n",
        "import joblib\n",
        "import logging\n",
        "import json\n",
        "import requests"
      ],
      "outputs": [],
      "execution_count": 1,
      "metadata": {
        "gather": {
          "logged": 1617205550043
        },
        "jupyter": {
          "outputs_hidden": false,
          "source_hidden": false
        },
        "nteract": {
          "transient": {
            "deleting": false
          }
        }
      }
    },
    {
      "cell_type": "markdown",
      "source": [
        "## Dataset\n",
        "\n",
        "### Overview\n",
        "TODO: In this markdown cell, give an overview of the dataset you are using. Also mention the task you will be performing.\n",
        "\n",
        "\n",
        "TODO: Get data. In the cell below, write code to access the data you will be using in this project. Remember that the dataset needs to be external."
      ],
      "metadata": {}
    },
    {
      "cell_type": "code",
      "source": [
        "ws = Workspace.from_config()\n",
        "print('Workspace Name: ' + ws.name,\n",
        "      'Resource group: ' + ws.resource_group,\n",
        "      'Azure Region: ' + ws.location,\n",
        "      'Subscription Id: ' + ws.subscription_id, sep = '\\n')"
      ],
      "outputs": [
        {
          "output_type": "stream",
          "name": "stdout",
          "text": [
            "Workspace Name: quick-starts-ws-141698\n",
            "Resource group: aml-quickstarts-141698\n",
            "Azure Region: southcentralus\n",
            "Subscription Id: a24a24d5-8d87-4c8a-99b6-91ed2d2df51f\n"
          ]
        }
      ],
      "execution_count": 22,
      "metadata": {
        "gather": {
          "logged": 1617209306216
        },
        "jupyter": {
          "outputs_hidden": false,
          "source_hidden": false
        },
        "nteract": {
          "transient": {
            "deleting": false
          }
        }
      }
    },
    {
      "cell_type": "code",
      "source": [
        "# choose a name for experiment\n",
        "experiment_name = 'Framingham-Experiment'\n",
        "\n",
        "experiment=Experiment(ws, experiment_name)\n",
        "run = experiment.start_logging()"
      ],
      "outputs": [],
      "execution_count": 23,
      "metadata": {
        "gather": {
          "logged": 1617209310612
        },
        "jupyter": {
          "outputs_hidden": false,
          "source_hidden": false
        },
        "nteract": {
          "transient": {
            "deleting": false
          }
        }
      }
    },
    {
      "cell_type": "code",
      "source": [
        "# Choose a name for your CPU cluster\n",
        "amlcompute_cluster_name = \"Compute-Cluster\"\n",
        "\n",
        "# Verify that cluster does not exist already\n",
        "try:\n",
        "    compute_target = ComputeTarget(workspace=ws, name=amlcompute_cluster_name)\n",
        "    print('Found existing cluster, use it.')\n",
        "except ComputeTargetException:\n",
        "    compute_config = AmlCompute.provisioning_configuration(vm_size='STANDARD_D2_V2', max_nodes=4)\n",
        "    compute_target = ComputeTarget.create(ws, amlcompute_cluster_name, compute_config)\n",
        "\n",
        "compute_target.wait_for_completion(show_output=True, min_node_count = 1, timeout_in_minutes = 10)"
      ],
      "outputs": [
        {
          "output_type": "stream",
          "name": "stdout",
          "text": [
            "Found existing cluster, use it.\n",
            "Succeeded........................................................................................."
          ]
        }
      ],
      "execution_count": 24,
      "metadata": {
        "gather": {
          "logged": 1617206254914
        }
      }
    },
    {
      "cell_type": "code",
      "source": [
        "# Try to load the dataset from the Workspace. Otherwise, create it from the file\n",
        "found = False\n",
        "key = \"Framingham\"\n",
        "description_text = \"Frahmingham Heart Disease Dataset\"\n",
        "\n",
        "if key in ws.datasets.keys(): \n",
        "        found = True\n",
        "        dataset = ws.datasets[key] \n",
        "\n",
        "if not found:\n",
        "        # Create AML Dataset and register it into Workspace\n",
        "        example_data = 'https://raw.githubusercontent.com/Haris-09/Coronary-Heart-Disease-Prediction-Capstone-Project/master/starter_file/framingham.csv'\n",
        "        dataset = Dataset.Tabular.from_delimited_files(example_data)        \n",
        "        #Register Dataset in Workspace\n",
        "        dataset = dataset.register(workspace=ws,\n",
        "                                   name=key,\n",
        "                                   description=description_text)"
      ],
      "outputs": [],
      "execution_count": null,
      "metadata": {
        "gather": {
          "logged": 1617206689496
        }
      }
    },
    {
      "cell_type": "code",
      "source": [
        "df = dataset.to_pandas_dataframe()\n",
        "df.describe()"
      ],
      "outputs": [],
      "execution_count": null,
      "metadata": {
        "gather": {
          "logged": 1617207106990
        }
      }
    },
    {
      "cell_type": "markdown",
      "source": [
        "## AutoML Configuration\n",
        "\n",
        "TODO: Explain why you chose the automl settings and cofiguration you used below."
      ],
      "metadata": {}
    },
    {
      "cell_type": "code",
      "source": [
        "# TODO: Put your automl settings here\n",
        "automl_settings = {\"experiment_timeout_minutes\": 30,\n",
        "                   \"max_concurrent_iterations\": 4,\n",
        "                   \"primary_metric\" : 'accuracy',\n",
        "                   \"verbosity\": logging.INFO}\n",
        "\n",
        "# TODO: Put your automl config here\n",
        "automl_config = AutoMLConfig(compute_target=compute_target,\n",
        "                             task = \"classification\",\n",
        "                             training_data=dataset,\n",
        "                             label_column_name=\"TenYearCHD\",   \n",
        "                             path = './',\n",
        "                             enable_early_stopping= True,\n",
        "                             featurization= 'auto',\n",
        "                             debug_log = \"automl_errors.log\",\n",
        "                             **automl_settings)"
      ],
      "outputs": [],
      "execution_count": null,
      "metadata": {
        "gather": {
          "logged": 1617207107284
        },
        "jupyter": {
          "outputs_hidden": false,
          "source_hidden": false
        },
        "nteract": {
          "transient": {
            "deleting": false
          }
        }
      }
    },
    {
      "cell_type": "code",
      "source": [
        "# TODO: Submit your experiment\n",
        "remote_run = experiment.submit(automl_config, show_output=True)"
      ],
      "outputs": [],
      "execution_count": null,
      "metadata": {
        "gather": {
          "logged": 1617208517373
        },
        "jupyter": {
          "outputs_hidden": false,
          "source_hidden": false
        },
        "nteract": {
          "transient": {
            "deleting": false
          }
        }
      }
    },
    {
      "cell_type": "markdown",
      "source": [
        "## Run Details\n",
        "\n",
        "OPTIONAL: Write about the different models trained and their performance. Why do you think some models did better than others?\n",
        "\n",
        "TODO: In the cell below, use the `RunDetails` widget to show the different experiments."
      ],
      "metadata": {}
    },
    {
      "cell_type": "code",
      "source": [
        "RunDetails(remote_run).show()"
      ],
      "outputs": [
        {
          "output_type": "display_data",
          "data": {
            "text/plain": "_AutoMLWidget(widget_settings={'childWidgetDisplay': 'popup', 'send_telemetry': False, 'log_level': 'INFO', 's…",
            "application/vnd.jupyter.widget-view+json": {
              "version_major": 2,
              "version_minor": 0,
              "model_id": "af504d970e574d12b0efa823c0f33ab6"
            }
          },
          "metadata": {}
        },
        {
          "output_type": "display_data",
          "data": {
            "application/aml.mini.widget.v1": "{\"status\": \"Completed\", \"workbench_run_details_uri\": \"https://ml.azure.com/experiments/Framingham-Experiment/runs/AutoML_6ebf3996-cf8f-42a4-9bd0-9732d46ccf65?wsid=/subscriptions/a24a24d5-8d87-4c8a-99b6-91ed2d2df51f/resourcegroups/aml-quickstarts-141698/workspaces/quick-starts-ws-141698\", \"run_id\": \"AutoML_6ebf3996-cf8f-42a4-9bd0-9732d46ccf65\", \"run_properties\": {\"run_id\": \"AutoML_6ebf3996-cf8f-42a4-9bd0-9732d46ccf65\", \"created_utc\": \"2021-03-31T16:11:48.295263Z\", \"properties\": {\"num_iterations\": \"1000\", \"training_type\": \"TrainFull\", \"acquisition_function\": \"EI\", \"primary_metric\": \"accuracy\", \"train_split\": \"0\", \"acquisition_parameter\": \"0\", \"num_cross_validation\": null, \"target\": \"Compute-Cluster\", \"AMLSettingsJsonString\": \"{\\\"path\\\":null,\\\"name\\\":\\\"Framingham-Experiment\\\",\\\"subscription_id\\\":\\\"a24a24d5-8d87-4c8a-99b6-91ed2d2df51f\\\",\\\"resource_group\\\":\\\"aml-quickstarts-141698\\\",\\\"workspace_name\\\":\\\"quick-starts-ws-141698\\\",\\\"region\\\":\\\"southcentralus\\\",\\\"compute_target\\\":\\\"Compute-Cluster\\\",\\\"spark_service\\\":null,\\\"azure_service\\\":\\\"remote\\\",\\\"many_models\\\":false,\\\"pipeline_fetch_max_batch_size\\\":1,\\\"enable_batch_run\\\":false,\\\"iterations\\\":1000,\\\"primary_metric\\\":\\\"accuracy\\\",\\\"task_type\\\":\\\"classification\\\",\\\"data_script\\\":null,\\\"validation_size\\\":0.0,\\\"n_cross_validations\\\":null,\\\"y_min\\\":null,\\\"y_max\\\":null,\\\"num_classes\\\":null,\\\"featurization\\\":\\\"auto\\\",\\\"_ignore_package_version_incompatibilities\\\":false,\\\"is_timeseries\\\":false,\\\"max_cores_per_iteration\\\":1,\\\"max_concurrent_iterations\\\":4,\\\"iteration_timeout_minutes\\\":null,\\\"mem_in_mb\\\":null,\\\"enforce_time_on_windows\\\":false,\\\"experiment_timeout_minutes\\\":30,\\\"experiment_exit_score\\\":null,\\\"whitelist_models\\\":null,\\\"blacklist_algos\\\":[\\\"TensorFlowLinearClassifier\\\",\\\"TensorFlowDNN\\\"],\\\"supported_models\\\":[\\\"BernoulliNaiveBayes\\\",\\\"KNN\\\",\\\"AveragedPerceptronClassifier\\\",\\\"GradientBoosting\\\",\\\"XGBoostClassifier\\\",\\\"RandomForest\\\",\\\"LogisticRegression\\\",\\\"DecisionTree\\\",\\\"LinearSVM\\\",\\\"SVM\\\",\\\"MultinomialNaiveBayes\\\",\\\"TensorFlowDNN\\\",\\\"ExtremeRandomTrees\\\",\\\"LightGBM\\\",\\\"TensorFlowLinearClassifier\\\",\\\"SGD\\\"],\\\"private_models\\\":[],\\\"auto_blacklist\\\":true,\\\"blacklist_samples_reached\\\":false,\\\"exclude_nan_labels\\\":true,\\\"verbosity\\\":20,\\\"_debug_log\\\":\\\"azureml_automl.log\\\",\\\"show_warnings\\\":false,\\\"model_explainability\\\":true,\\\"service_url\\\":null,\\\"sdk_url\\\":null,\\\"sdk_packages\\\":null,\\\"enable_onnx_compatible_models\\\":false,\\\"enable_split_onnx_featurizer_estimator_models\\\":false,\\\"vm_type\\\":\\\"STANDARD_D2_V2\\\",\\\"telemetry_verbosity\\\":20,\\\"send_telemetry\\\":true,\\\"enable_dnn\\\":false,\\\"scenario\\\":\\\"SDK-1.13.0\\\",\\\"environment_label\\\":null,\\\"save_mlflow\\\":false,\\\"force_text_dnn\\\":false,\\\"enable_feature_sweeping\\\":true,\\\"enable_early_stopping\\\":true,\\\"early_stopping_n_iters\\\":10,\\\"metrics\\\":null,\\\"enable_metric_confidence\\\":false,\\\"enable_ensembling\\\":true,\\\"enable_stack_ensembling\\\":true,\\\"ensemble_iterations\\\":15,\\\"enable_tf\\\":false,\\\"enable_subsampling\\\":null,\\\"subsample_seed\\\":null,\\\"enable_nimbusml\\\":false,\\\"enable_streaming\\\":false,\\\"force_streaming\\\":false,\\\"track_child_runs\\\":true,\\\"allowed_private_models\\\":[],\\\"label_column_name\\\":\\\"TenYearCHD\\\",\\\"weight_column_name\\\":null,\\\"cv_split_column_names\\\":null,\\\"enable_local_managed\\\":false,\\\"_local_managed_run_id\\\":null,\\\"cost_mode\\\":1,\\\"lag_length\\\":0,\\\"metric_operation\\\":\\\"maximize\\\",\\\"preprocess\\\":true}\", \"DataPrepJsonString\": \"{\\\\\\\"training_data\\\\\\\": \\\\\\\"{\\\\\\\\\\\\\\\"blocks\\\\\\\\\\\\\\\": [{\\\\\\\\\\\\\\\"id\\\\\\\\\\\\\\\": \\\\\\\\\\\\\\\"a4d2a9ac-96f7-40fd-bcba-c49cfaff401f\\\\\\\\\\\\\\\", \\\\\\\\\\\\\\\"type\\\\\\\\\\\\\\\": \\\\\\\\\\\\\\\"Microsoft.DPrep.GetFilesBlock\\\\\\\\\\\\\\\", \\\\\\\\\\\\\\\"arguments\\\\\\\\\\\\\\\": {\\\\\\\\\\\\\\\"isArchive\\\\\\\\\\\\\\\": false, \\\\\\\\\\\\\\\"path\\\\\\\\\\\\\\\": {\\\\\\\\\\\\\\\"target\\\\\\\\\\\\\\\": 4, \\\\\\\\\\\\\\\"resourceDetails\\\\\\\\\\\\\\\": [{\\\\\\\\\\\\\\\"path\\\\\\\\\\\\\\\": \\\\\\\\\\\\\\\"https://raw.githubusercontent.com/Haris-09/Coronary-Heart-Disease-Prediction-Capstone-Project/master/starter_file/framingham.csv\\\\\\\\\\\\\\\"}]}}, \\\\\\\\\\\\\\\"localData\\\\\\\\\\\\\\\": {}, \\\\\\\\\\\\\\\"isEnabled\\\\\\\\\\\\\\\": true, \\\\\\\\\\\\\\\"name\\\\\\\\\\\\\\\": null, \\\\\\\\\\\\\\\"annotation\\\\\\\\\\\\\\\": null}, {\\\\\\\\\\\\\\\"id\\\\\\\\\\\\\\\": \\\\\\\\\\\\\\\"2d90d6da-6b80-4453-a383-d80e4541ec95\\\\\\\\\\\\\\\", \\\\\\\\\\\\\\\"type\\\\\\\\\\\\\\\": \\\\\\\\\\\\\\\"Microsoft.DPrep.ParseDelimitedBlock\\\\\\\\\\\\\\\", \\\\\\\\\\\\\\\"arguments\\\\\\\\\\\\\\\": {\\\\\\\\\\\\\\\"columnHeadersMode\\\\\\\\\\\\\\\": 3, \\\\\\\\\\\\\\\"fileEncoding\\\\\\\\\\\\\\\": 0, \\\\\\\\\\\\\\\"handleQuotedLineBreaks\\\\\\\\\\\\\\\": false, \\\\\\\\\\\\\\\"preview\\\\\\\\\\\\\\\": false, \\\\\\\\\\\\\\\"separator\\\\\\\\\\\\\\\": \\\\\\\\\\\\\\\",\\\\\\\\\\\\\\\", \\\\\\\\\\\\\\\"skipRows\\\\\\\\\\\\\\\": 0, \\\\\\\\\\\\\\\"skipRowsMode\\\\\\\\\\\\\\\": 0}, \\\\\\\\\\\\\\\"localData\\\\\\\\\\\\\\\": {}, \\\\\\\\\\\\\\\"isEnabled\\\\\\\\\\\\\\\": true, \\\\\\\\\\\\\\\"name\\\\\\\\\\\\\\\": null, \\\\\\\\\\\\\\\"annotation\\\\\\\\\\\\\\\": null}, {\\\\\\\\\\\\\\\"id\\\\\\\\\\\\\\\": \\\\\\\\\\\\\\\"04bb889e-b30c-4863-ab7e-27a9f7d9ff56\\\\\\\\\\\\\\\", \\\\\\\\\\\\\\\"type\\\\\\\\\\\\\\\": \\\\\\\\\\\\\\\"Microsoft.DPrep.DropColumnsBlock\\\\\\\\\\\\\\\", \\\\\\\\\\\\\\\"arguments\\\\\\\\\\\\\\\": {\\\\\\\\\\\\\\\"columns\\\\\\\\\\\\\\\": {\\\\\\\\\\\\\\\"type\\\\\\\\\\\\\\\": 0, \\\\\\\\\\\\\\\"details\\\\\\\\\\\\\\\": {\\\\\\\\\\\\\\\"selectedColumns\\\\\\\\\\\\\\\": [\\\\\\\\\\\\\\\"Path\\\\\\\\\\\\\\\"]}}}, \\\\\\\\\\\\\\\"localData\\\\\\\\\\\\\\\": {}, \\\\\\\\\\\\\\\"isEnabled\\\\\\\\\\\\\\\": true, \\\\\\\\\\\\\\\"name\\\\\\\\\\\\\\\": null, \\\\\\\\\\\\\\\"annotation\\\\\\\\\\\\\\\": null}, {\\\\\\\\\\\\\\\"id\\\\\\\\\\\\\\\": \\\\\\\\\\\\\\\"785e0385-9364-4616-bb44-826eaab21c42\\\\\\\\\\\\\\\", \\\\\\\\\\\\\\\"type\\\\\\\\\\\\\\\": \\\\\\\\\\\\\\\"Microsoft.DPrep.SetColumnTypesBlock\\\\\\\\\\\\\\\", \\\\\\\\\\\\\\\"arguments\\\\\\\\\\\\\\\": {\\\\\\\\\\\\\\\"columnConversion\\\\\\\\\\\\\\\": [{\\\\\\\\\\\\\\\"column\\\\\\\\\\\\\\\": {\\\\\\\\\\\\\\\"type\\\\\\\\\\\\\\\": 2, \\\\\\\\\\\\\\\"details\\\\\\\\\\\\\\\": {\\\\\\\\\\\\\\\"selectedColumn\\\\\\\\\\\\\\\": \\\\\\\\\\\\\\\"male\\\\\\\\\\\\\\\"}}, \\\\\\\\\\\\\\\"typeProperty\\\\\\\\\\\\\\\": 2}, {\\\\\\\\\\\\\\\"column\\\\\\\\\\\\\\\": {\\\\\\\\\\\\\\\"type\\\\\\\\\\\\\\\": 2, \\\\\\\\\\\\\\\"details\\\\\\\\\\\\\\\": {\\\\\\\\\\\\\\\"selectedColumn\\\\\\\\\\\\\\\": \\\\\\\\\\\\\\\"age\\\\\\\\\\\\\\\"}}, \\\\\\\\\\\\\\\"typeProperty\\\\\\\\\\\\\\\": 2}, {\\\\\\\\\\\\\\\"column\\\\\\\\\\\\\\\": {\\\\\\\\\\\\\\\"type\\\\\\\\\\\\\\\": 2, \\\\\\\\\\\\\\\"details\\\\\\\\\\\\\\\": {\\\\\\\\\\\\\\\"selectedColumn\\\\\\\\\\\\\\\": \\\\\\\\\\\\\\\"education\\\\\\\\\\\\\\\"}}, \\\\\\\\\\\\\\\"typeProperty\\\\\\\\\\\\\\\": 0}, {\\\\\\\\\\\\\\\"column\\\\\\\\\\\\\\\": {\\\\\\\\\\\\\\\"type\\\\\\\\\\\\\\\": 2, \\\\\\\\\\\\\\\"details\\\\\\\\\\\\\\\": {\\\\\\\\\\\\\\\"selectedColumn\\\\\\\\\\\\\\\": \\\\\\\\\\\\\\\"currentSmoker\\\\\\\\\\\\\\\"}}, \\\\\\\\\\\\\\\"typeProperty\\\\\\\\\\\\\\\": 2}, {\\\\\\\\\\\\\\\"column\\\\\\\\\\\\\\\": {\\\\\\\\\\\\\\\"type\\\\\\\\\\\\\\\": 2, \\\\\\\\\\\\\\\"details\\\\\\\\\\\\\\\": {\\\\\\\\\\\\\\\"selectedColumn\\\\\\\\\\\\\\\": \\\\\\\\\\\\\\\"cigsPerDay\\\\\\\\\\\\\\\"}}, \\\\\\\\\\\\\\\"typeProperty\\\\\\\\\\\\\\\": 0}, {\\\\\\\\\\\\\\\"column\\\\\\\\\\\\\\\": {\\\\\\\\\\\\\\\"type\\\\\\\\\\\\\\\": 2, \\\\\\\\\\\\\\\"details\\\\\\\\\\\\\\\": {\\\\\\\\\\\\\\\"selectedColumn\\\\\\\\\\\\\\\": \\\\\\\\\\\\\\\"BPMeds\\\\\\\\\\\\\\\"}}, \\\\\\\\\\\\\\\"typeProperty\\\\\\\\\\\\\\\": 0}, {\\\\\\\\\\\\\\\"column\\\\\\\\\\\\\\\": {\\\\\\\\\\\\\\\"type\\\\\\\\\\\\\\\": 2, \\\\\\\\\\\\\\\"details\\\\\\\\\\\\\\\": {\\\\\\\\\\\\\\\"selectedColumn\\\\\\\\\\\\\\\": \\\\\\\\\\\\\\\"prevalentStroke\\\\\\\\\\\\\\\"}}, \\\\\\\\\\\\\\\"typeProperty\\\\\\\\\\\\\\\": 2}, {\\\\\\\\\\\\\\\"column\\\\\\\\\\\\\\\": {\\\\\\\\\\\\\\\"type\\\\\\\\\\\\\\\": 2, \\\\\\\\\\\\\\\"details\\\\\\\\\\\\\\\": {\\\\\\\\\\\\\\\"selectedColumn\\\\\\\\\\\\\\\": \\\\\\\\\\\\\\\"prevalentHyp\\\\\\\\\\\\\\\"}}, \\\\\\\\\\\\\\\"typeProperty\\\\\\\\\\\\\\\": 2}, {\\\\\\\\\\\\\\\"column\\\\\\\\\\\\\\\": {\\\\\\\\\\\\\\\"type\\\\\\\\\\\\\\\": 2, \\\\\\\\\\\\\\\"details\\\\\\\\\\\\\\\": {\\\\\\\\\\\\\\\"selectedColumn\\\\\\\\\\\\\\\": \\\\\\\\\\\\\\\"diabetes\\\\\\\\\\\\\\\"}}, \\\\\\\\\\\\\\\"typeProperty\\\\\\\\\\\\\\\": 2}, {\\\\\\\\\\\\\\\"column\\\\\\\\\\\\\\\": {\\\\\\\\\\\\\\\"type\\\\\\\\\\\\\\\": 2, \\\\\\\\\\\\\\\"details\\\\\\\\\\\\\\\": {\\\\\\\\\\\\\\\"selectedColumn\\\\\\\\\\\\\\\": \\\\\\\\\\\\\\\"totChol\\\\\\\\\\\\\\\"}}, \\\\\\\\\\\\\\\"typeProperty\\\\\\\\\\\\\\\": 0}, {\\\\\\\\\\\\\\\"column\\\\\\\\\\\\\\\": {\\\\\\\\\\\\\\\"type\\\\\\\\\\\\\\\": 2, \\\\\\\\\\\\\\\"details\\\\\\\\\\\\\\\": {\\\\\\\\\\\\\\\"selectedColumn\\\\\\\\\\\\\\\": \\\\\\\\\\\\\\\"sysBP\\\\\\\\\\\\\\\"}}, \\\\\\\\\\\\\\\"typeProperty\\\\\\\\\\\\\\\": 3}, {\\\\\\\\\\\\\\\"column\\\\\\\\\\\\\\\": {\\\\\\\\\\\\\\\"type\\\\\\\\\\\\\\\": 2, \\\\\\\\\\\\\\\"details\\\\\\\\\\\\\\\": {\\\\\\\\\\\\\\\"selectedColumn\\\\\\\\\\\\\\\": \\\\\\\\\\\\\\\"diaBP\\\\\\\\\\\\\\\"}}, \\\\\\\\\\\\\\\"typeProperty\\\\\\\\\\\\\\\": 3}, {\\\\\\\\\\\\\\\"column\\\\\\\\\\\\\\\": {\\\\\\\\\\\\\\\"type\\\\\\\\\\\\\\\": 2, \\\\\\\\\\\\\\\"details\\\\\\\\\\\\\\\": {\\\\\\\\\\\\\\\"selectedColumn\\\\\\\\\\\\\\\": \\\\\\\\\\\\\\\"BMI\\\\\\\\\\\\\\\"}}, \\\\\\\\\\\\\\\"typeProperty\\\\\\\\\\\\\\\": 0}, {\\\\\\\\\\\\\\\"column\\\\\\\\\\\\\\\": {\\\\\\\\\\\\\\\"type\\\\\\\\\\\\\\\": 2, \\\\\\\\\\\\\\\"details\\\\\\\\\\\\\\\": {\\\\\\\\\\\\\\\"selectedColumn\\\\\\\\\\\\\\\": \\\\\\\\\\\\\\\"heartRate\\\\\\\\\\\\\\\"}}, \\\\\\\\\\\\\\\"typeProperty\\\\\\\\\\\\\\\": 2}, {\\\\\\\\\\\\\\\"column\\\\\\\\\\\\\\\": {\\\\\\\\\\\\\\\"type\\\\\\\\\\\\\\\": 2, \\\\\\\\\\\\\\\"details\\\\\\\\\\\\\\\": {\\\\\\\\\\\\\\\"selectedColumn\\\\\\\\\\\\\\\": \\\\\\\\\\\\\\\"glucose\\\\\\\\\\\\\\\"}}, \\\\\\\\\\\\\\\"typeProperty\\\\\\\\\\\\\\\": 0}, {\\\\\\\\\\\\\\\"column\\\\\\\\\\\\\\\": {\\\\\\\\\\\\\\\"type\\\\\\\\\\\\\\\": 2, \\\\\\\\\\\\\\\"details\\\\\\\\\\\\\\\": {\\\\\\\\\\\\\\\"selectedColumn\\\\\\\\\\\\\\\": \\\\\\\\\\\\\\\"TenYearCHD\\\\\\\\\\\\\\\"}}, \\\\\\\\\\\\\\\"typeProperty\\\\\\\\\\\\\\\": 2}]}, \\\\\\\\\\\\\\\"localData\\\\\\\\\\\\\\\": {}, \\\\\\\\\\\\\\\"isEnabled\\\\\\\\\\\\\\\": true, \\\\\\\\\\\\\\\"name\\\\\\\\\\\\\\\": null, \\\\\\\\\\\\\\\"annotation\\\\\\\\\\\\\\\": null}], \\\\\\\\\\\\\\\"inspectors\\\\\\\\\\\\\\\": [], \\\\\\\\\\\\\\\"meta\\\\\\\\\\\\\\\": {\\\\\\\\\\\\\\\"savedDatasetId\\\\\\\\\\\\\\\": \\\\\\\\\\\\\\\"9402b2d0-7ead-4db3-90cf-82dc9468cda1\\\\\\\\\\\\\\\", \\\\\\\\\\\\\\\"datasetType\\\\\\\\\\\\\\\": \\\\\\\\\\\\\\\"tabular\\\\\\\\\\\\\\\", \\\\\\\\\\\\\\\"subscriptionId\\\\\\\\\\\\\\\": \\\\\\\\\\\\\\\"a24a24d5-8d87-4c8a-99b6-91ed2d2df51f\\\\\\\\\\\\\\\", \\\\\\\\\\\\\\\"workspaceId\\\\\\\\\\\\\\\": \\\\\\\\\\\\\\\"6905bfa4-c708-497b-a17d-3700c0d7a0ad\\\\\\\\\\\\\\\", \\\\\\\\\\\\\\\"workspaceLocation\\\\\\\\\\\\\\\": \\\\\\\\\\\\\\\"southcentralus\\\\\\\\\\\\\\\", \\\\\\\\\\\\\\\"partition_keys\\\\\\\\\\\\\\\": \\\\\\\\\\\\\\\"true\\\\\\\\\\\\\\\"}}\\\\\\\", \\\\\\\"activities\\\\\\\": 0}\", \"EnableSubsampling\": null, \"runTemplate\": \"AutoML\", \"azureml.runsource\": \"automl\", \"display_task_type\": \"classification\", \"dependencies_versions\": \"{\\\"azureml-widgets\\\": \\\"1.24.0\\\", \\\"azureml-train\\\": \\\"1.24.0\\\", \\\"azureml-train-restclients-hyperdrive\\\": \\\"1.24.0\\\", \\\"azureml-train-core\\\": \\\"1.24.0\\\", \\\"azureml-train-automl-client\\\": \\\"1.24.0\\\", \\\"azureml-tensorboard\\\": \\\"1.24.0\\\", \\\"azureml-telemetry\\\": \\\"1.24.0\\\", \\\"azureml-sdk\\\": \\\"1.24.0\\\", \\\"azureml-pipeline\\\": \\\"1.24.0\\\", \\\"azureml-pipeline-steps\\\": \\\"1.24.0\\\", \\\"azureml-pipeline-core\\\": \\\"1.24.0\\\", \\\"azureml-opendatasets\\\": \\\"1.24.0\\\", \\\"azureml-model-management-sdk\\\": \\\"1.0.1b6.post1\\\", \\\"azureml-mlflow\\\": \\\"1.24.0\\\", \\\"azureml-interpret\\\": \\\"1.24.0\\\", \\\"azureml-explain-model\\\": \\\"1.24.0\\\", \\\"azureml-defaults\\\": \\\"1.24.0\\\", \\\"azureml-dataset-runtime\\\": \\\"1.24.0\\\", \\\"azureml-dataprep\\\": \\\"2.11.1\\\", \\\"azureml-dataprep-rslex\\\": \\\"1.9.0\\\", \\\"azureml-dataprep-native\\\": \\\"30.0.0\\\", \\\"azureml-datadrift\\\": \\\"1.24.0\\\", \\\"azureml-core\\\": \\\"1.24.0\\\", \\\"azureml-contrib-services\\\": \\\"1.24.0\\\", \\\"azureml-contrib-server\\\": \\\"1.24.0\\\", \\\"azureml-contrib-reinforcementlearning\\\": \\\"1.24.0\\\", \\\"azureml-contrib-pipeline-steps\\\": \\\"1.24.0\\\", \\\"azureml-contrib-notebook\\\": \\\"1.24.0\\\", \\\"azureml-contrib-gbdt\\\": \\\"1.24.0\\\", \\\"azureml-contrib-fairness\\\": \\\"1.24.0\\\", \\\"azureml-contrib-dataset\\\": \\\"1.24.0\\\", \\\"azureml-cli-common\\\": \\\"1.24.0\\\", \\\"azureml-automl-core\\\": \\\"1.24.0\\\", \\\"azureml-accel-models\\\": \\\"1.24.0\\\"}\", \"_aml_system_scenario_identification\": \"Remote.Parent\", \"ClientType\": \"SDK\", \"environment_cpu_name\": \"AzureML-AutoML\", \"environment_cpu_label\": \"prod\", \"environment_gpu_name\": \"AzureML-AutoML-GPU\", \"environment_gpu_label\": \"prod\", \"root_attribution\": \"automl\", \"attribution\": \"AutoML\", \"Orchestrator\": \"AutoML\", \"CancelUri\": \"https://southcentralus.experiments.azureml.net/jasmine/v1.0/subscriptions/a24a24d5-8d87-4c8a-99b6-91ed2d2df51f/resourceGroups/aml-quickstarts-141698/providers/Microsoft.MachineLearningServices/workspaces/quick-starts-ws-141698/experimentids/6ff29bd9-0eb0-43ee-b6e0-30df4861ce2f/cancel/AutoML_6ebf3996-cf8f-42a4-9bd0-9732d46ccf65\", \"ClientSdkVersion\": \"1.24.0\", \"snapshotId\": \"00000000-0000-0000-0000-000000000000\", \"SetupRunId\": \"AutoML_6ebf3996-cf8f-42a4-9bd0-9732d46ccf65_setup\", \"SetupRunContainerId\": \"dcid.AutoML_6ebf3996-cf8f-42a4-9bd0-9732d46ccf65_setup\", \"FeaturizationRunJsonPath\": \"featurizer_container.json\", \"FeaturizationRunId\": \"AutoML_6ebf3996-cf8f-42a4-9bd0-9732d46ccf65_featurize\", \"ProblemInfoJsonString\": \"{\\\"dataset_num_categorical\\\": 0, \\\"is_sparse\\\": true, \\\"subsampling\\\": false, \\\"dataset_classes\\\": 2, \\\"dataset_features\\\": 1385, \\\"dataset_samples\\\": 4240, \\\"single_frequency_class_detected\\\": false}\", \"ModelExplainRunId\": \"AutoML_6ebf3996-cf8f-42a4-9bd0-9732d46ccf65_ModelExplain\"}, \"tags\": {\"model_explain_run\": \"best_run\", \"_aml_system_azureml.automlComponent\": \"AutoML\", \"pipeline_id\": \"\", \"score\": \"\", \"predicted_cost\": \"\", \"fit_time\": \"\", \"training_percent\": \"\", \"iteration\": \"\", \"run_preprocessor\": \"\", \"run_algorithm\": \"\", \"dynamic_whitelisting_iterations\": \"<25>;<30>;<35>;\", \"automl_best_child_run_id\": \"AutoML_6ebf3996-cf8f-42a4-9bd0-9732d46ccf65_3\", \"model_explain_best_run_child_id\": \"AutoML_6ebf3996-cf8f-42a4-9bd0-9732d46ccf65_3\"}, \"end_time_utc\": \"2021-03-31T16:35:01.325079Z\", \"status\": \"Completed\", \"log_files\": {}, \"log_groups\": [], \"run_duration\": \"0:23:13\", \"run_number\": \"2\", \"run_queued_details\": {\"status\": \"Completed\", \"details\": null}}, \"child_runs\": [{\"run_id\": \"AutoML_6ebf3996-cf8f-42a4-9bd0-9732d46ccf65_3\", \"run_number\": 6, \"metric\": null, \"status\": \"Completed\", \"run_type\": \"azureml.scriptrun\", \"training_percent\": \"100\", \"start_time\": \"2021-03-31T16:21:10.89245Z\", \"end_time\": \"2021-03-31T16:21:54.500068Z\", \"created_time\": \"2021-03-31T16:20:56.817636Z\", \"created_time_dt\": \"2021-03-31T16:20:56.817636Z\", \"duration\": \"0:00:57\", \"iteration\": \"3\", \"goal\": \"accuracy_max\", \"run_name\": \"MaxAbsScaler, RandomForest\", \"run_properties\": \"copy=True\", \"primary_metric\": 0.84811558, \"best_metric\": 0.84811558}, {\"run_id\": \"AutoML_6ebf3996-cf8f-42a4-9bd0-9732d46ccf65_1\", \"run_number\": 7, \"metric\": null, \"status\": \"Completed\", \"run_type\": \"azureml.scriptrun\", \"training_percent\": \"100\", \"start_time\": \"2021-03-31T16:23:11.630337Z\", \"end_time\": \"2021-03-31T16:23:55.976126Z\", \"created_time\": \"2021-03-31T16:20:56.845521Z\", \"created_time_dt\": \"2021-03-31T16:20:56.845521Z\", \"duration\": \"0:02:59\", \"iteration\": \"1\", \"goal\": \"accuracy_max\", \"run_name\": \"MaxAbsScaler, XGBoostClassifier\", \"run_properties\": \"copy=True\", \"primary_metric\": 0.84717113, \"best_metric\": 0.84717113}, {\"run_id\": \"AutoML_6ebf3996-cf8f-42a4-9bd0-9732d46ccf65_0\", \"run_number\": 8, \"metric\": null, \"status\": \"Completed\", \"run_type\": \"azureml.scriptrun\", \"training_percent\": \"100\", \"start_time\": \"2021-03-31T16:22:10.16387Z\", \"end_time\": \"2021-03-31T16:22:55.88976Z\", \"created_time\": \"2021-03-31T16:20:57.09412Z\", \"created_time_dt\": \"2021-03-31T16:20:57.09412Z\", \"duration\": \"0:01:58\", \"iteration\": \"0\", \"goal\": \"accuracy_max\", \"run_name\": \"MaxAbsScaler, LightGBM\", \"run_properties\": \"copy=True\", \"primary_metric\": 0.83207623, \"best_metric\": 0.83207623}, {\"run_id\": \"AutoML_6ebf3996-cf8f-42a4-9bd0-9732d46ccf65_2\", \"run_number\": 9, \"metric\": null, \"status\": \"Completed\", \"run_type\": \"azureml.scriptrun\", \"training_percent\": \"100\", \"start_time\": \"2021-03-31T16:23:15.223093Z\", \"end_time\": \"2021-03-31T16:26:26.911717Z\", \"created_time\": \"2021-03-31T16:20:56.849021Z\", \"created_time_dt\": \"2021-03-31T16:20:56.849021Z\", \"duration\": \"0:05:30\", \"iteration\": \"2\", \"goal\": \"accuracy_max\", \"run_name\": \"MaxAbsScaler, RandomForest\", \"run_properties\": \"copy=True\", \"primary_metric\": 0.84811558, \"best_metric\": 0.84811558}, {\"run_id\": \"AutoML_6ebf3996-cf8f-42a4-9bd0-9732d46ccf65_4\", \"run_number\": 10, \"metric\": null, \"status\": \"Completed\", \"run_type\": \"azureml.scriptrun\", \"training_percent\": \"100\", \"start_time\": \"2021-03-31T16:23:18.444653Z\", \"end_time\": \"2021-03-31T16:26:29.806505Z\", \"created_time\": \"2021-03-31T16:21:57.447738Z\", \"created_time_dt\": \"2021-03-31T16:21:57.447738Z\", \"duration\": \"0:04:32\", \"iteration\": \"4\", \"goal\": \"accuracy_max\", \"run_name\": \"MaxAbsScaler, RandomForest\", \"run_properties\": \"copy=True\", \"primary_metric\": 0.58819649, \"best_metric\": 0.84811558}, {\"run_id\": \"AutoML_6ebf3996-cf8f-42a4-9bd0-9732d46ccf65_5\", \"run_number\": 11, \"metric\": null, \"status\": \"Completed\", \"run_type\": \"azureml.scriptrun\", \"training_percent\": \"100\", \"start_time\": \"2021-03-31T16:23:16.741585Z\", \"end_time\": \"2021-03-31T16:26:25.992037Z\", \"created_time\": \"2021-03-31T16:22:59.051214Z\", \"created_time_dt\": \"2021-03-31T16:22:59.051214Z\", \"duration\": \"0:03:26\", \"iteration\": \"5\", \"goal\": \"accuracy_max\", \"run_name\": \"MaxAbsScaler, RandomForest\", \"run_properties\": \"copy=True\", \"primary_metric\": 0.65211699, \"best_metric\": 0.84811558}, {\"run_id\": \"AutoML_6ebf3996-cf8f-42a4-9bd0-9732d46ccf65_6\", \"run_number\": 12, \"metric\": null, \"status\": \"Completed\", \"run_type\": \"azureml.scriptrun\", \"training_percent\": \"100\", \"start_time\": \"2021-03-31T16:24:08.096222Z\", \"end_time\": \"2021-03-31T16:24:49.997201Z\", \"created_time\": \"2021-03-31T16:23:58.932522Z\", \"created_time_dt\": \"2021-03-31T16:23:58.932522Z\", \"duration\": \"0:00:51\", \"iteration\": \"6\", \"goal\": \"accuracy_max\", \"run_name\": \"SparseNormalizer, LightGBM\", \"run_properties\": \"<azureml.automl.runtime.shared.model_wrappers.SparseNormalizer object at 0x7f38faf2bb70\", \"primary_metric\": 0.84622834, \"best_metric\": 0.84811558}, {\"run_id\": \"AutoML_6ebf3996-cf8f-42a4-9bd0-9732d46ccf65_7\", \"run_number\": 13, \"metric\": null, \"status\": \"Completed\", \"run_type\": \"azureml.scriptrun\", \"training_percent\": \"100\", \"start_time\": \"2021-03-31T16:25:05.393606Z\", \"end_time\": \"2021-03-31T16:25:47.689176Z\", \"created_time\": \"2021-03-31T16:24:52.88751Z\", \"created_time_dt\": \"2021-03-31T16:24:52.88751Z\", \"duration\": \"0:00:54\", \"iteration\": \"7\", \"goal\": \"accuracy_max\", \"run_name\": \"SparseNormalizer, XGBoostClassifier\", \"run_properties\": \"<azureml.automl.runtime.shared.model_wrappers.SparseNormalizer object at 0x7f850ca85588\", \"primary_metric\": 0.84268927, \"best_metric\": 0.84811558}, {\"run_id\": \"AutoML_6ebf3996-cf8f-42a4-9bd0-9732d46ccf65_8\", \"run_number\": 14, \"metric\": null, \"status\": \"Completed\", \"run_type\": \"azureml.scriptrun\", \"training_percent\": \"100\", \"start_time\": \"2021-03-31T16:26:00.872299Z\", \"end_time\": \"2021-03-31T16:26:42.213348Z\", \"created_time\": \"2021-03-31T16:25:51.314648Z\", \"created_time_dt\": \"2021-03-31T16:25:51.314648Z\", \"duration\": \"0:00:50\", \"iteration\": \"8\", \"goal\": \"accuracy_max\", \"run_name\": \"MaxAbsScaler, LogisticRegression\", \"run_properties\": \"copy=True\", \"primary_metric\": 0.80636846, \"best_metric\": 0.84811558}, {\"run_id\": \"AutoML_6ebf3996-cf8f-42a4-9bd0-9732d46ccf65_9\", \"run_number\": 15, \"metric\": null, \"status\": \"Completed\", \"run_type\": \"azureml.scriptrun\", \"training_percent\": \"100\", \"start_time\": \"2021-03-31T16:26:38.221877Z\", \"end_time\": \"2021-03-31T16:27:23.053986Z\", \"created_time\": \"2021-03-31T16:26:28.719684Z\", \"created_time_dt\": \"2021-03-31T16:26:28.719684Z\", \"duration\": \"0:00:54\", \"iteration\": \"9\", \"goal\": \"accuracy_max\", \"run_name\": \"StandardScalerWrapper, RandomForest\", \"run_properties\": \"<azureml.automl.runtime.shared.model_wrappers.StandardScalerWrapper object at 0x7f0e1d1a4e10\", \"primary_metric\": 0.84811558, \"best_metric\": 0.84811558}, {\"run_id\": \"AutoML_6ebf3996-cf8f-42a4-9bd0-9732d46ccf65_10\", \"run_number\": 16, \"metric\": null, \"status\": \"Completed\", \"run_type\": \"azureml.scriptrun\", \"training_percent\": \"100\", \"start_time\": \"2021-03-31T16:26:41.076885Z\", \"end_time\": \"2021-03-31T16:27:28.99093Z\", \"created_time\": \"2021-03-31T16:26:32.206675Z\", \"created_time_dt\": \"2021-03-31T16:26:32.206675Z\", \"duration\": \"0:00:56\", \"iteration\": \"10\", \"goal\": \"accuracy_max\", \"run_name\": \"StandardScalerWrapper, LightGBM\", \"run_properties\": \"<azureml.automl.runtime.shared.model_wrappers.StandardScalerWrapper object at 0x7f73e63dc4a8\", \"primary_metric\": 0.84552063, \"best_metric\": 0.84811558}, {\"run_id\": \"AutoML_6ebf3996-cf8f-42a4-9bd0-9732d46ccf65_11\", \"run_number\": 17, \"metric\": null, \"status\": \"Completed\", \"run_type\": \"azureml.scriptrun\", \"training_percent\": \"100\", \"start_time\": \"2021-03-31T16:26:43.124111Z\", \"end_time\": \"2021-03-31T16:27:25.021493Z\", \"created_time\": \"2021-03-31T16:26:32.232553Z\", \"created_time_dt\": \"2021-03-31T16:26:32.232553Z\", \"duration\": \"0:00:52\", \"iteration\": \"11\", \"goal\": \"accuracy_max\", \"run_name\": \"MaxAbsScaler, LogisticRegression\", \"run_properties\": \"copy=True\", \"primary_metric\": 0.82264138, \"best_metric\": 0.84811558}, {\"run_id\": \"AutoML_6ebf3996-cf8f-42a4-9bd0-9732d46ccf65_12\", \"run_number\": 18, \"metric\": null, \"status\": \"Completed\", \"run_type\": \"azureml.scriptrun\", \"training_percent\": \"100\", \"start_time\": \"2021-03-31T16:27:00.208965Z\", \"end_time\": \"2021-03-31T16:27:47.393341Z\", \"created_time\": \"2021-03-31T16:26:43.998324Z\", \"created_time_dt\": \"2021-03-31T16:26:43.998324Z\", \"duration\": \"0:01:03\", \"iteration\": \"12\", \"goal\": \"accuracy_max\", \"run_name\": \"MaxAbsScaler, LightGBM\", \"run_properties\": \"copy=True\", \"primary_metric\": 0.84693606, \"best_metric\": 0.84811558}, {\"run_id\": \"AutoML_6ebf3996-cf8f-42a4-9bd0-9732d46ccf65_13\", \"run_number\": 19, \"metric\": null, \"status\": \"Completed\", \"run_type\": \"azureml.scriptrun\", \"training_percent\": \"100\", \"start_time\": \"2021-03-31T16:27:39.34494Z\", \"end_time\": \"2021-03-31T16:28:28.252695Z\", \"created_time\": \"2021-03-31T16:27:26.215643Z\", \"created_time_dt\": \"2021-03-31T16:27:26.215643Z\", \"duration\": \"0:01:02\", \"iteration\": \"13\", \"goal\": \"accuracy_max\", \"run_name\": \"SparseNormalizer, XGBoostClassifier\", \"run_properties\": \"<azureml.automl.runtime.shared.model_wrappers.SparseNormalizer object at 0x7f3184386160\", \"primary_metric\": 0.83584904, \"best_metric\": 0.84811558}, {\"run_id\": \"AutoML_6ebf3996-cf8f-42a4-9bd0-9732d46ccf65_15\", \"run_number\": 20, \"metric\": null, \"status\": \"Completed\", \"run_type\": \"azureml.scriptrun\", \"training_percent\": \"100\", \"start_time\": \"2021-03-31T16:27:40.799841Z\", \"end_time\": \"2021-03-31T16:28:25.929882Z\", \"created_time\": \"2021-03-31T16:27:31.673387Z\", \"created_time_dt\": \"2021-03-31T16:27:31.673387Z\", \"duration\": \"0:00:54\", \"iteration\": \"15\", \"goal\": \"accuracy_max\", \"run_name\": \"SparseNormalizer, XGBoostClassifier\", \"run_properties\": \"<azureml.automl.runtime.shared.model_wrappers.SparseNormalizer object at 0x7fe4700d3ba8\", \"primary_metric\": 0.83962251, \"best_metric\": 0.84811558}, {\"run_id\": \"AutoML_6ebf3996-cf8f-42a4-9bd0-9732d46ccf65_14\", \"run_number\": 21, \"metric\": null, \"status\": \"Completed\", \"run_type\": \"azureml.scriptrun\", \"training_percent\": \"100\", \"start_time\": \"2021-03-31T16:27:43.882293Z\", \"end_time\": \"2021-03-31T16:28:32.689023Z\", \"created_time\": \"2021-03-31T16:27:31.910675Z\", \"created_time_dt\": \"2021-03-31T16:27:31.910675Z\", \"duration\": \"0:01:00\", \"iteration\": \"14\", \"goal\": \"accuracy_max\", \"run_name\": \"SparseNormalizer, XGBoostClassifier\", \"run_properties\": \"<azureml.automl.runtime.shared.model_wrappers.SparseNormalizer object at 0x7f5c347b9ac8\", \"primary_metric\": 0.84009549, \"best_metric\": 0.84811558}, {\"run_id\": \"AutoML_6ebf3996-cf8f-42a4-9bd0-9732d46ccf65_16\", \"run_number\": 22, \"metric\": null, \"status\": \"Completed\", \"run_type\": \"azureml.scriptrun\", \"training_percent\": \"100\", \"start_time\": \"2021-03-31T16:28:02.038957Z\", \"end_time\": \"2021-03-31T16:28:47.40204Z\", \"created_time\": \"2021-03-31T16:27:49.486603Z\", \"created_time_dt\": \"2021-03-31T16:27:49.486603Z\", \"duration\": \"0:00:57\", \"iteration\": \"16\", \"goal\": \"accuracy_max\", \"run_name\": \"StandardScalerWrapper, ExtremeRandomTrees\", \"run_properties\": \"<azureml.automl.runtime.shared.model_wrappers.StandardScalerWrapper object at 0x7fa96647f208\", \"primary_metric\": 0.84811558, \"best_metric\": 0.84811558}, {\"run_id\": \"AutoML_6ebf3996-cf8f-42a4-9bd0-9732d46ccf65_17\", \"run_number\": 23, \"metric\": null, \"status\": \"Completed\", \"run_type\": \"azureml.scriptrun\", \"training_percent\": \"100\", \"start_time\": \"2021-03-31T16:28:43.389801Z\", \"end_time\": \"2021-03-31T16:29:31.959942Z\", \"created_time\": \"2021-03-31T16:28:28.089373Z\", \"created_time_dt\": \"2021-03-31T16:28:28.089373Z\", \"duration\": \"0:01:03\", \"iteration\": \"17\", \"goal\": \"accuracy_max\", \"run_name\": \"StandardScalerWrapper, ExtremeRandomTrees\", \"run_properties\": \"<azureml.automl.runtime.shared.model_wrappers.StandardScalerWrapper object at 0x7f44e0660908\", \"primary_metric\": 0.84811558, \"best_metric\": 0.84811558}, {\"run_id\": \"AutoML_6ebf3996-cf8f-42a4-9bd0-9732d46ccf65_18\", \"run_number\": 24, \"metric\": null, \"status\": \"Completed\", \"run_type\": \"azureml.scriptrun\", \"training_percent\": \"100\", \"start_time\": \"2021-03-31T16:28:43.099881Z\", \"end_time\": \"2021-03-31T16:29:33.724904Z\", \"created_time\": \"2021-03-31T16:28:32.154387Z\", \"created_time_dt\": \"2021-03-31T16:28:32.154387Z\", \"duration\": \"0:01:01\", \"iteration\": \"18\", \"goal\": \"accuracy_max\", \"run_name\": \"StandardScalerWrapper, LightGBM\", \"run_properties\": \"<azureml.automl.runtime.shared.model_wrappers.StandardScalerWrapper object at 0x7fb80de97470\", \"primary_metric\": 0.84811558, \"best_metric\": 0.84811558}, {\"run_id\": \"AutoML_6ebf3996-cf8f-42a4-9bd0-9732d46ccf65_19\", \"run_number\": 25, \"metric\": null, \"status\": \"Completed\", \"run_type\": \"azureml.scriptrun\", \"training_percent\": \"100\", \"start_time\": \"2021-03-31T16:28:47.110463Z\", \"end_time\": \"2021-03-31T16:29:31.483652Z\", \"created_time\": \"2021-03-31T16:28:37.110024Z\", \"created_time_dt\": \"2021-03-31T16:28:37.110024Z\", \"duration\": \"0:00:54\", \"iteration\": \"19\", \"goal\": \"accuracy_max\", \"run_name\": \"SparseNormalizer, LightGBM\", \"run_properties\": \"<azureml.automl.runtime.shared.model_wrappers.SparseNormalizer object at 0x7f1fcb0b4eb8\", \"primary_metric\": 0.84386913, \"best_metric\": 0.84811558}, {\"run_id\": \"AutoML_6ebf3996-cf8f-42a4-9bd0-9732d46ccf65_20\", \"run_number\": 26, \"metric\": null, \"status\": \"Completed\", \"run_type\": \"azureml.scriptrun\", \"training_percent\": \"100\", \"start_time\": \"2021-03-31T16:29:05.25031Z\", \"end_time\": \"2021-03-31T16:30:00.939206Z\", \"created_time\": \"2021-03-31T16:28:49.4585Z\", \"created_time_dt\": \"2021-03-31T16:28:49.4585Z\", \"duration\": \"0:01:11\", \"iteration\": \"20\", \"goal\": \"accuracy_max\", \"run_name\": \"SparseNormalizer, XGBoostClassifier\", \"run_properties\": \"<azureml.automl.runtime.shared.model_wrappers.SparseNormalizer object at 0x7f362149beb8\", \"primary_metric\": 0.83396347, \"best_metric\": 0.84811558}, {\"run_id\": \"AutoML_6ebf3996-cf8f-42a4-9bd0-9732d46ccf65_22\", \"run_number\": 27, \"metric\": null, \"status\": \"Completed\", \"run_type\": \"azureml.scriptrun\", \"training_percent\": \"100\", \"start_time\": \"2021-03-31T16:29:48.316013Z\", \"end_time\": \"2021-03-31T16:30:47.804136Z\", \"created_time\": \"2021-03-31T16:29:35.737834Z\", \"created_time_dt\": \"2021-03-31T16:29:35.737834Z\", \"duration\": \"0:01:12\", \"iteration\": \"22\", \"goal\": \"accuracy_max\", \"run_name\": \"StandardScalerWrapper, XGBoostClassifier\", \"run_properties\": \"<azureml.automl.runtime.shared.model_wrappers.StandardScalerWrapper object at 0x7ff84087fa90\", \"primary_metric\": 0.82453012, \"best_metric\": 0.84811558}, {\"run_id\": \"AutoML_6ebf3996-cf8f-42a4-9bd0-9732d46ccf65_21\", \"run_number\": 28, \"metric\": null, \"status\": \"Completed\", \"run_type\": \"azureml.scriptrun\", \"training_percent\": \"100\", \"start_time\": \"2021-03-31T16:29:47.961065Z\", \"end_time\": \"2021-03-31T16:30:39.514237Z\", \"created_time\": \"2021-03-31T16:29:36.000885Z\", \"created_time_dt\": \"2021-03-31T16:29:36.000885Z\", \"duration\": \"0:01:03\", \"iteration\": \"21\", \"goal\": \"accuracy_max\", \"run_name\": \"StandardScalerWrapper, XGBoostClassifier\", \"run_properties\": \"<azureml.automl.runtime.shared.model_wrappers.StandardScalerWrapper object at 0x7fc342090940\", \"primary_metric\": 0.83655742, \"best_metric\": 0.84811558}, {\"run_id\": \"AutoML_6ebf3996-cf8f-42a4-9bd0-9732d46ccf65_23\", \"run_number\": 29, \"metric\": null, \"status\": \"Completed\", \"run_type\": \"azureml.scriptrun\", \"training_percent\": \"100\", \"start_time\": \"2021-03-31T16:29:50.761374Z\", \"end_time\": \"2021-03-31T16:30:39.281492Z\", \"created_time\": \"2021-03-31T16:29:40.609288Z\", \"created_time_dt\": \"2021-03-31T16:29:40.609288Z\", \"duration\": \"0:00:58\", \"iteration\": \"23\", \"goal\": \"accuracy_max\", \"run_name\": \"SparseNormalizer, XGBoostClassifier\", \"run_properties\": \"<azureml.automl.runtime.shared.model_wrappers.SparseNormalizer object at 0x7ff701748ac8\", \"primary_metric\": 0.84033106, \"best_metric\": 0.84811558}, {\"run_id\": \"AutoML_6ebf3996-cf8f-42a4-9bd0-9732d46ccf65_24\", \"run_number\": 30, \"metric\": null, \"status\": \"Completed\", \"run_type\": \"azureml.scriptrun\", \"training_percent\": \"100\", \"start_time\": \"2021-03-31T16:30:18.362642Z\", \"end_time\": \"2021-03-31T16:31:07.10669Z\", \"created_time\": \"2021-03-31T16:30:03.195724Z\", \"created_time_dt\": \"2021-03-31T16:30:03.195724Z\", \"duration\": \"0:01:03\", \"iteration\": \"24\", \"goal\": \"accuracy_max\", \"run_name\": \"SparseNormalizer, XGBoostClassifier\", \"run_properties\": \"<azureml.automl.runtime.shared.model_wrappers.SparseNormalizer object at 0x7f4d9f507978\", \"primary_metric\": 0.84316142, \"best_metric\": 0.84811558}, {\"run_id\": \"AutoML_6ebf3996-cf8f-42a4-9bd0-9732d46ccf65_25\", \"run_number\": 31, \"metric\": null, \"status\": \"Completed\", \"run_type\": \"azureml.scriptrun\", \"training_percent\": \"100\", \"start_time\": \"2021-03-31T16:30:55.576595Z\", \"end_time\": \"2021-03-31T16:31:43.876227Z\", \"created_time\": \"2021-03-31T16:30:42.327787Z\", \"created_time_dt\": \"2021-03-31T16:30:42.327787Z\", \"duration\": \"0:01:01\", \"iteration\": \"25\", \"goal\": \"accuracy_max\", \"run_name\": \"TruncatedSVDWrapper, RandomForest\", \"run_properties\": \"n_components=0.8510526315789474, random_state=None\", \"primary_metric\": 0.84811558, \"best_metric\": 0.84811558}, {\"run_id\": \"AutoML_6ebf3996-cf8f-42a4-9bd0-9732d46ccf65_26\", \"run_number\": 32, \"metric\": null, \"status\": \"Completed\", \"run_type\": \"azureml.scriptrun\", \"training_percent\": \"100\", \"start_time\": \"2021-03-31T16:30:52.399769Z\", \"end_time\": \"2021-03-31T16:31:42.03307Z\", \"created_time\": \"2021-03-31T16:30:42.347225Z\", \"created_time_dt\": \"2021-03-31T16:30:42.347225Z\", \"duration\": \"0:00:59\", \"iteration\": \"26\", \"goal\": \"accuracy_max\", \"run_name\": \"StandardScalerWrapper, LightGBM\", \"run_properties\": \"<azureml.automl.runtime.shared.model_wrappers.StandardScalerWrapper object at 0x7fcb1f2f6f28\", \"primary_metric\": 0.84693606, \"best_metric\": 0.84811558}, {\"run_id\": \"AutoML_6ebf3996-cf8f-42a4-9bd0-9732d46ccf65_27\", \"run_number\": 33, \"metric\": null, \"status\": \"Completed\", \"run_type\": \"azureml.scriptrun\", \"training_percent\": \"100\", \"start_time\": \"2021-03-31T16:31:03.870424Z\", \"end_time\": \"2021-03-31T16:31:54.64462Z\", \"created_time\": \"2021-03-31T16:30:51.467765Z\", \"created_time_dt\": \"2021-03-31T16:30:51.467765Z\", \"duration\": \"0:01:03\", \"iteration\": \"27\", \"goal\": \"accuracy_max\", \"run_name\": \"StandardScalerWrapper, LightGBM\", \"run_properties\": \"<azureml.automl.runtime.shared.model_wrappers.StandardScalerWrapper object at 0x7f59b8190710\", \"primary_metric\": 0.84811558, \"best_metric\": 0.84811558}, {\"run_id\": \"AutoML_6ebf3996-cf8f-42a4-9bd0-9732d46ccf65_28\", \"run_number\": 34, \"metric\": null, \"status\": \"Completed\", \"run_type\": \"azureml.scriptrun\", \"training_percent\": \"100\", \"start_time\": \"2021-03-31T16:31:25.950697Z\", \"end_time\": \"2021-03-31T16:32:14.069467Z\", \"created_time\": \"2021-03-31T16:31:08.959906Z\", \"created_time_dt\": \"2021-03-31T16:31:08.959906Z\", \"duration\": \"0:01:05\", \"iteration\": \"28\", \"goal\": \"accuracy_max\", \"run_name\": \"MaxAbsScaler, LightGBM\", \"run_properties\": \"copy=True\", \"primary_metric\": 0.84811558, \"best_metric\": 0.84811558}, {\"run_id\": \"AutoML_6ebf3996-cf8f-42a4-9bd0-9732d46ccf65_29\", \"run_number\": 35, \"metric\": null, \"status\": \"Completed\", \"run_type\": \"azureml.scriptrun\", \"training_percent\": \"100\", \"start_time\": \"2021-03-31T16:31:57.057999Z\", \"end_time\": \"2021-03-31T16:32:39.770016Z\", \"created_time\": \"2021-03-31T16:31:44.244232Z\", \"created_time_dt\": \"2021-03-31T16:31:44.244232Z\", \"duration\": \"0:00:55\", \"iteration\": \"29\", \"goal\": \"accuracy_max\", \"run_name\": \"StandardScalerWrapper, LightGBM\", \"run_properties\": \"<azureml.automl.runtime.shared.model_wrappers.StandardScalerWrapper object at 0x7f644e630c18\", \"primary_metric\": 0.84693606, \"best_metric\": 0.84811558}, {\"run_id\": \"AutoML_6ebf3996-cf8f-42a4-9bd0-9732d46ccf65_30\", \"run_number\": 36, \"metric\": null, \"status\": \"Completed\", \"run_type\": \"azureml.scriptrun\", \"training_percent\": \"100\", \"start_time\": \"2021-03-31T16:31:57.931083Z\", \"end_time\": \"2021-03-31T16:32:52.268862Z\", \"created_time\": \"2021-03-31T16:31:48.639296Z\", \"created_time_dt\": \"2021-03-31T16:31:48.639296Z\", \"duration\": \"0:01:03\", \"iteration\": \"30\", \"goal\": \"accuracy_max\", \"run_name\": \"SparseNormalizer, RandomForest\", \"run_properties\": \"<azureml.automl.runtime.shared.model_wrappers.SparseNormalizer object at 0x7fd66eb01630\", \"primary_metric\": 0.84811558, \"best_metric\": 0.84811558}, {\"run_id\": \"AutoML_6ebf3996-cf8f-42a4-9bd0-9732d46ccf65_31\", \"run_number\": 37, \"metric\": null, \"status\": \"Completed\", \"run_type\": \"azureml.scriptrun\", \"training_percent\": \"100\", \"start_time\": \"2021-03-31T16:32:10.85117Z\", \"end_time\": \"2021-03-31T16:33:03.076986Z\", \"created_time\": \"2021-03-31T16:31:56.475543Z\", \"created_time_dt\": \"2021-03-31T16:31:56.475543Z\", \"duration\": \"0:01:06\", \"iteration\": \"31\", \"goal\": \"accuracy_max\", \"run_name\": \"StandardScalerWrapper, LightGBM\", \"run_properties\": \"<azureml.automl.runtime.shared.model_wrappers.StandardScalerWrapper object at 0x7fabc74cacf8\", \"primary_metric\": 0.84670015, \"best_metric\": 0.84811558}, {\"run_id\": \"AutoML_6ebf3996-cf8f-42a4-9bd0-9732d46ccf65_32\", \"run_number\": 38, \"metric\": null, \"status\": \"Completed\", \"run_type\": \"azureml.scriptrun\", \"training_percent\": \"100\", \"start_time\": \"2021-03-31T16:32:28.046173Z\", \"end_time\": \"2021-03-31T16:33:12.634315Z\", \"created_time\": \"2021-03-31T16:32:16.877982Z\", \"created_time_dt\": \"2021-03-31T16:32:16.877982Z\", \"duration\": \"0:00:55\", \"iteration\": \"32\", \"goal\": \"accuracy_max\", \"run_name\": \"SparseNormalizer, XGBoostClassifier\", \"run_properties\": \"<azureml.automl.runtime.shared.model_wrappers.SparseNormalizer object at 0x7f5c0d5ae240\", \"primary_metric\": 0.84552063, \"best_metric\": 0.84811558}, {\"run_id\": \"AutoML_6ebf3996-cf8f-42a4-9bd0-9732d46ccf65_33\", \"run_number\": 39, \"metric\": null, \"status\": \"Canceled\", \"run_type\": \"azureml.scriptrun\", \"training_percent\": \"100\", \"start_time\": \"2021-03-31T16:32:54.0484Z\", \"end_time\": \"2021-03-31T16:33:20.343273Z\", \"created_time\": \"2021-03-31T16:32:41.784268Z\", \"created_time_dt\": \"2021-03-31T16:32:41.784268Z\", \"duration\": \"0:00:38\", \"iteration\": \"33\", \"goal\": null, \"run_name\": \"StandardScalerWrapper, ExtremeRandomTrees\", \"run_properties\": null}, {\"run_id\": \"AutoML_6ebf3996-cf8f-42a4-9bd0-9732d46ccf65_34\", \"run_number\": 40, \"metric\": null, \"status\": \"Canceled\", \"run_type\": \"azureml.scriptrun\", \"training_percent\": \"100\", \"start_time\": \"2021-03-31T16:33:06.429282Z\", \"end_time\": \"2021-03-31T16:33:20.790396Z\", \"created_time\": \"2021-03-31T16:32:54.954398Z\", \"created_time_dt\": \"2021-03-31T16:32:54.954398Z\", \"duration\": \"0:00:25\", \"iteration\": \"34\", \"goal\": null, \"run_name\": \"Canceled\", \"run_properties\": null}, {\"run_id\": \"AutoML_6ebf3996-cf8f-42a4-9bd0-9732d46ccf65_35\", \"run_number\": 41, \"metric\": null, \"status\": \"Canceled\", \"run_type\": \"azureml.scriptrun\", \"training_percent\": \"100\", \"start_time\": \"2021-03-31T16:33:07.154998Z\", \"end_time\": \"2021-03-31T16:33:27.457064Z\", \"created_time\": \"2021-03-31T16:33:07.154998Z\", \"created_time_dt\": \"2021-03-31T16:33:07.154998Z\", \"duration\": \"0:00:20\", \"iteration\": \"35\", \"goal\": null, \"run_name\": \"Canceled\", \"run_properties\": null}, {\"run_id\": \"AutoML_6ebf3996-cf8f-42a4-9bd0-9732d46ccf65_36\", \"run_number\": 42, \"metric\": null, \"status\": \"Completed\", \"run_type\": \"azureml.scriptrun\", \"training_percent\": \"100\", \"start_time\": \"2021-03-31T16:33:41.153023Z\", \"end_time\": \"2021-03-31T16:34:35.077961Z\", \"created_time\": \"2021-03-31T16:33:28.761999Z\", \"created_time_dt\": \"2021-03-31T16:33:28.761999Z\", \"duration\": \"0:01:06\", \"iteration\": \"36\", \"goal\": \"accuracy_max\", \"run_name\": \"VotingEnsemble\", \"run_properties\": \"classification_labels=None,\\n                              estimators=[('30',\\n                                           Pipeline(memory=None,\\n                                                    steps=[('sparsenormalizer',\\n                                                            <azureml.automl.runtime.shared.model_wrappers.SparseNormalizer object at 0x7f3d3c1b6ef0>\", \"primary_metric\": 0.84811558, \"best_metric\": 0.84811558}, {\"run_id\": \"AutoML_6ebf3996-cf8f-42a4-9bd0-9732d46ccf65_37\", \"run_number\": 43, \"metric\": null, \"status\": \"Completed\", \"run_type\": \"azureml.scriptrun\", \"training_percent\": \"100\", \"start_time\": \"2021-03-31T16:33:43.50853Z\", \"end_time\": \"2021-03-31T16:34:55.606289Z\", \"created_time\": \"2021-03-31T16:33:29.132705Z\", \"created_time_dt\": \"2021-03-31T16:33:29.132705Z\", \"duration\": \"0:01:26\", \"iteration\": \"37\", \"goal\": \"accuracy_max\", \"run_name\": \"StackEnsemble\", \"run_properties\": \"base_learners=[('30',\\n                                        Pipeline(memory=None,\\n                                                 steps=[('sparsenormalizer',\\n                                                         <azureml.automl.runtime.shared.model_wrappers.SparseNormalizer object at 0x7f10441cc2e8>\", \"primary_metric\": 0.84127435, \"best_metric\": 0.84811558}], \"children_metrics\": {\"categories\": [0], \"series\": {\"balanced_accuracy\": [{\"categories\": [\"0\", \"1\", \"2\", \"3\", \"4\", \"5\", \"6\", \"7\", \"8\", \"9\", \"10\", \"11\", \"12\", \"13\", \"14\", \"15\", \"16\", \"17\", \"18\", \"19\", \"20\", \"21\", \"22\", \"23\", \"24\", \"25\", \"26\", \"27\", \"28\", \"29\", \"30\", \"31\", \"32\", \"36\", \"37\"], \"mode\": \"markers\", \"name\": \"balanced_accuracy\", \"stepped\": false, \"type\": \"scatter\", \"data\": [0.5258446333822475, 0.5119042565431116, 0.5, 0.5, 0.6039976573298856, 0.6114651589885757, 0.5010879413346924, 0.5204063720944497, 0.5395840242188737, 0.5, 0.5005652981614929, 0.5302222899984087, 0.500043885727229, 0.5122837170610145, 0.5261343365855953, 0.5182452177018897, 0.5, 0.5, 0.5, 0.5175685764534558, 0.5236904819056044, 0.5224169684310964, 0.5242484983691976, 0.5092380798985446, 0.5112373918238396, 0.5, 0.5022247232367847, 0.5, 0.5, 0.4993169398907104, 0.5, 0.5025894428361939, 0.5033569479947073, 0.5, 0.5033077097313061]}, {\"categories\": [\"0\", \"1\", \"2\", \"3\", \"4\", \"5\", \"6\", \"7\", \"8\", \"9\", \"10\", \"11\", \"12\", \"13\", \"14\", \"15\", \"16\", \"17\", \"18\", \"19\", \"20\", \"21\", \"22\", \"23\", \"24\", \"25\", \"26\", \"27\", \"28\", \"29\", \"30\", \"31\", \"32\", \"36\", \"37\"], \"mode\": \"lines\", \"name\": \"balanced_accuracy_max\", \"stepped\": true, \"type\": \"scatter\", \"data\": [0.5258446333822475, 0.5258446333822475, 0.5258446333822475, 0.5258446333822475, 0.6039976573298856, 0.6114651589885757, 0.6114651589885757, 0.6114651589885757, 0.6114651589885757, 0.6114651589885757, 0.6114651589885757, 0.6114651589885757, 0.6114651589885757, 0.6114651589885757, 0.6114651589885757, 0.6114651589885757, 0.6114651589885757, 0.6114651589885757, 0.6114651589885757, 0.6114651589885757, 0.6114651589885757, 0.6114651589885757, 0.6114651589885757, 0.6114651589885757, 0.6114651589885757, 0.6114651589885757, 0.6114651589885757, 0.6114651589885757, 0.6114651589885757, 0.6114651589885757, 0.6114651589885757, 0.6114651589885757, 0.6114651589885757, 0.6114651589885757, 0.6114651589885757]}], \"accuracy\": [{\"categories\": [\"0\", \"1\", \"2\", \"3\", \"4\", \"5\", \"6\", \"7\", \"8\", \"9\", \"10\", \"11\", \"12\", \"13\", \"14\", \"15\", \"16\", \"17\", \"18\", \"19\", \"20\", \"21\", \"22\", \"23\", \"24\", \"25\", \"26\", \"27\", \"28\", \"29\", \"30\", \"31\", \"32\", \"36\", \"37\"], \"mode\": \"markers\", \"name\": \"accuracy\", \"stepped\": false, \"type\": \"scatter\", \"data\": [0.8320762315843352, 0.8471711290024969, 0.8481155819555264, 0.8481155819555264, 0.5881964902586709, 0.6521169860389132, 0.8462283443994991, 0.8426892734769383, 0.8063684591085739, 0.8481155819555264, 0.8455206303159888, 0.8226413784842239, 0.8469360584830093, 0.8358490383463582, 0.8400954896824229, 0.8396225124483938, 0.8481155819555264, 0.8481155819555264, 0.8481155819555264, 0.8438691306194617, 0.8339634691403627, 0.8365574197698811, 0.8245301175552799, 0.8403310607069199, 0.8431614165359514, 0.8481155819555264, 0.8469360584830093, 0.8481155819555264, 0.8481155819555264, 0.8469360584830093, 0.8481155819555264, 0.846700153788506, 0.8455206303159888, 0.8481155819555264, 0.8412743458149272]}, {\"categories\": [\"0\", \"1\", \"2\", \"3\", \"4\", \"5\", \"6\", \"7\", \"8\", \"9\", \"10\", \"11\", \"12\", \"13\", \"14\", \"15\", \"16\", \"17\", \"18\", \"19\", \"20\", \"21\", \"22\", \"23\", \"24\", \"25\", \"26\", \"27\", \"28\", \"29\", \"30\", \"31\", \"32\", \"36\", \"37\"], \"mode\": \"lines\", \"name\": \"accuracy_max\", \"stepped\": true, \"type\": \"scatter\", \"data\": [0.8320762315843352, 0.8471711290024969, 0.8481155819555264, 0.8481155819555264, 0.8481155819555264, 0.8481155819555264, 0.8481155819555264, 0.8481155819555264, 0.8481155819555264, 0.8481155819555264, 0.8481155819555264, 0.8481155819555264, 0.8481155819555264, 0.8481155819555264, 0.8481155819555264, 0.8481155819555264, 0.8481155819555264, 0.8481155819555264, 0.8481155819555264, 0.8481155819555264, 0.8481155819555264, 0.8481155819555264, 0.8481155819555264, 0.8481155819555264, 0.8481155819555264, 0.8481155819555264, 0.8481155819555264, 0.8481155819555264, 0.8481155819555264, 0.8481155819555264, 0.8481155819555264, 0.8481155819555264, 0.8481155819555264, 0.8481155819555264, 0.8481155819555264]}], \"AUC_weighted\": [{\"categories\": [\"0\", \"1\", \"2\", \"3\", \"4\", \"5\", \"6\", \"7\", \"8\", \"9\", \"10\", \"11\", \"12\", \"13\", \"14\", \"15\", \"16\", \"17\", \"18\", \"19\", \"20\", \"21\", \"22\", \"23\", \"24\", \"25\", \"26\", \"27\", \"28\", \"29\", \"30\", \"31\", \"32\", \"36\", \"37\"], \"mode\": \"markers\", \"name\": \"AUC_weighted\", \"stepped\": false, \"type\": \"scatter\", \"data\": [0.6272491257921979, 0.6719147375349594, 0.6765265746367671, 0.5957664141241882, 0.6550600576531634, 0.6464259699643581, 0.659805785471994, 0.6573421647729839, 0.6228007595517471, 0.6684582311288793, 0.6522645885072239, 0.645109056900954, 0.6553616917870211, 0.652657057533988, 0.6512063439068343, 0.6684553136006622, 0.6719948607089389, 0.659456046139392, 0.6624987915631654, 0.6539329040295084, 0.6288690846834807, 0.6385734873864432, 0.6241412419029982, 0.6593691520860697, 0.6694813111443157, 0.5, 0.6643135522099078, 0.6650522794527339, 0.663275823350025, 0.6584075832687769, 0.5, 0.6560600476416422, 0.665192935438449, 0.6665654367759627, 0.6664153841273102]}, {\"categories\": [\"0\", \"1\", \"2\", \"3\", \"4\", \"5\", \"6\", \"7\", \"8\", \"9\", \"10\", \"11\", \"12\", \"13\", \"14\", \"15\", \"16\", \"17\", \"18\", \"19\", \"20\", \"21\", \"22\", \"23\", \"24\", \"25\", \"26\", \"27\", \"28\", \"29\", \"30\", \"31\", \"32\", \"36\", \"37\"], \"mode\": \"lines\", \"name\": \"AUC_weighted_max\", \"stepped\": true, \"type\": \"scatter\", \"data\": [0.6272491257921979, 0.6719147375349594, 0.6765265746367671, 0.6765265746367671, 0.6765265746367671, 0.6765265746367671, 0.6765265746367671, 0.6765265746367671, 0.6765265746367671, 0.6765265746367671, 0.6765265746367671, 0.6765265746367671, 0.6765265746367671, 0.6765265746367671, 0.6765265746367671, 0.6765265746367671, 0.6765265746367671, 0.6765265746367671, 0.6765265746367671, 0.6765265746367671, 0.6765265746367671, 0.6765265746367671, 0.6765265746367671, 0.6765265746367671, 0.6765265746367671, 0.6765265746367671, 0.6765265746367671, 0.6765265746367671, 0.6765265746367671, 0.6765265746367671, 0.6765265746367671, 0.6765265746367671, 0.6765265746367671, 0.6765265746367671, 0.6765265746367671]}], \"f1_score_weighted\": [{\"categories\": [\"0\", \"1\", \"2\", \"3\", \"4\", \"5\", \"6\", \"7\", \"8\", \"9\", \"10\", \"11\", \"12\", \"13\", \"14\", \"15\", \"16\", \"17\", \"18\", \"19\", \"20\", \"21\", \"22\", \"23\", \"24\", \"25\", \"26\", \"27\", \"28\", \"29\", \"30\", \"31\", \"32\", \"36\", \"37\"], \"mode\": \"markers\", \"name\": \"f1_score_weighted\", \"stepped\": false, \"type\": \"scatter\", \"data\": [0.7899484792444041, 0.7864332384466984, 0.7784527258598235, 0.7784527258598235, 0.6427450032492289, 0.6980484240751585, 0.7787805285616859, 0.7902440235529404, 0.7848086369152875, 0.7784527258598235, 0.7784438602526759, 0.788547731362557, 0.7783037981690328, 0.7836163006445233, 0.7923357568825318, 0.7879640562581729, 0.7784527258598235, 0.7784527258598235, 0.7784527258598235, 0.7879458427920477, 0.7892449823586468, 0.7893807178241158, 0.7866269156250522, 0.78287306075973, 0.7849650286391391, 0.7784527258598235, 0.7795669466744957, 0.7784527258598235, 0.7784527258598235, 0.7778650168401472, 0.7784527258598235, 0.7799132698028722, 0.7800813301762354, 0.7784527258598235, 0.7785854650487462]}, {\"categories\": [\"0\", \"1\", \"2\", \"3\", \"4\", \"5\", \"6\", \"7\", \"8\", \"9\", \"10\", \"11\", \"12\", \"13\", \"14\", \"15\", \"16\", \"17\", \"18\", \"19\", \"20\", \"21\", \"22\", \"23\", \"24\", \"25\", \"26\", \"27\", \"28\", \"29\", \"30\", \"31\", \"32\", \"36\", \"37\"], \"mode\": \"lines\", \"name\": \"f1_score_weighted_max\", \"stepped\": true, \"type\": \"scatter\", \"data\": [0.7899484792444041, 0.7899484792444041, 0.7899484792444041, 0.7899484792444041, 0.7899484792444041, 0.7899484792444041, 0.7899484792444041, 0.7902440235529404, 0.7902440235529404, 0.7902440235529404, 0.7902440235529404, 0.7902440235529404, 0.7902440235529404, 0.7902440235529404, 0.7923357568825318, 0.7923357568825318, 0.7923357568825318, 0.7923357568825318, 0.7923357568825318, 0.7923357568825318, 0.7923357568825318, 0.7923357568825318, 0.7923357568825318, 0.7923357568825318, 0.7923357568825318, 0.7923357568825318, 0.7923357568825318, 0.7923357568825318, 0.7923357568825318, 0.7923357568825318, 0.7923357568825318, 0.7923357568825318, 0.7923357568825318, 0.7923357568825318, 0.7923357568825318]}], \"average_precision_score_micro\": [{\"categories\": [\"0\", \"1\", \"2\", \"3\", \"4\", \"5\", \"6\", \"7\", \"8\", \"9\", \"10\", \"11\", \"12\", \"13\", \"14\", \"15\", \"16\", \"17\", \"18\", \"19\", \"20\", \"21\", \"22\", \"23\", \"24\", \"25\", \"26\", \"27\", \"28\", \"29\", \"30\", \"31\", \"32\", \"36\", \"37\"], \"mode\": \"markers\", \"name\": \"average_precision_score_micro\", \"stepped\": false, \"type\": \"scatter\", \"data\": [0.8592287392735471, 0.8779004009511157, 0.8811380445130536, 0.8387114367332881, 0.599935006763507, 0.6639467688970585, 0.8726556357436438, 0.8701567432648574, 0.84806373722044, 0.8776098712318307, 0.8713137357765315, 0.8632140403471276, 0.8721259472651814, 0.8725527012232375, 0.8702048435020217, 0.8763391690071357, 0.8814495353582786, 0.8765745307988455, 0.8746036597705782, 0.868724431798011, 0.8596177142185587, 0.8660195931649758, 0.8578333143070003, 0.8731959023234657, 0.8779226990633434, 0.7953631303377638, 0.8748790087673046, 0.8784858726950543, 0.8753015410401607, 0.873110517460459, 0.7953631303377638, 0.8719724512164189, 0.872497767242303, 0.878149527993861, 0.8775411993147961]}, {\"categories\": [\"0\", \"1\", \"2\", \"3\", \"4\", \"5\", \"6\", \"7\", \"8\", \"9\", \"10\", \"11\", \"12\", \"13\", \"14\", \"15\", \"16\", \"17\", \"18\", \"19\", \"20\", \"21\", \"22\", \"23\", \"24\", \"25\", \"26\", \"27\", \"28\", \"29\", \"30\", \"31\", \"32\", \"36\", \"37\"], \"mode\": \"lines\", \"name\": \"average_precision_score_micro_max\", \"stepped\": true, \"type\": \"scatter\", \"data\": [0.8592287392735471, 0.8779004009511157, 0.8811380445130536, 0.8811380445130536, 0.8811380445130536, 0.8811380445130536, 0.8811380445130536, 0.8811380445130536, 0.8811380445130536, 0.8811380445130536, 0.8811380445130536, 0.8811380445130536, 0.8811380445130536, 0.8811380445130536, 0.8811380445130536, 0.8811380445130536, 0.8814495353582786, 0.8814495353582786, 0.8814495353582786, 0.8814495353582786, 0.8814495353582786, 0.8814495353582786, 0.8814495353582786, 0.8814495353582786, 0.8814495353582786, 0.8814495353582786, 0.8814495353582786, 0.8814495353582786, 0.8814495353582786, 0.8814495353582786, 0.8814495353582786, 0.8814495353582786, 0.8814495353582786, 0.8814495353582786, 0.8814495353582786]}], \"precision_score_weighted\": [{\"categories\": [\"0\", \"1\", \"2\", \"3\", \"4\", \"5\", \"6\", \"7\", \"8\", \"9\", \"10\", \"11\", \"12\", \"13\", \"14\", \"15\", \"16\", \"17\", \"18\", \"19\", \"20\", \"21\", \"22\", \"23\", \"24\", \"25\", \"26\", \"27\", \"28\", \"29\", \"30\", \"31\", \"32\", \"36\", \"37\"], \"mode\": \"markers\", \"name\": \"precision_score_weighted\", \"stepped\": false, \"type\": \"scatter\", \"data\": [0.7741441853881125, 0.8035558631912375, 0.719420921315527, 0.719420921315527, 0.7940806782471079, 0.7938002987092068, 0.7294010398687983, 0.7886524202978409, 0.7697681305385529, 0.719420921315527, 0.7776124840016646, 0.7710544000907523, 0.7259341324926288, 0.7707237435844972, 0.7866438024226042, 0.784121760312635, 0.719420921315527, 0.719420921315527, 0.719420921315527, 0.7966392865313833, 0.7751545150667202, 0.7746699140736023, 0.7667106151075491, 0.7710320998912915, 0.7843204783620278, 0.719420921315527, 0.7338872986422413, 0.719420921315527, 0.719420921315527, 0.7192813234072851, 0.719420921315527, 0.7821075585394234, 0.7653998448745384, 0.719420921315527, 0.7294104851983317]}, {\"categories\": [\"0\", \"1\", \"2\", \"3\", \"4\", \"5\", \"6\", \"7\", \"8\", \"9\", \"10\", \"11\", \"12\", \"13\", \"14\", \"15\", \"16\", \"17\", \"18\", \"19\", \"20\", \"21\", \"22\", \"23\", \"24\", \"25\", \"26\", \"27\", \"28\", \"29\", \"30\", \"31\", \"32\", \"36\", \"37\"], \"mode\": \"lines\", \"name\": \"precision_score_weighted_max\", \"stepped\": true, \"type\": \"scatter\", \"data\": [0.7741441853881125, 0.8035558631912375, 0.8035558631912375, 0.8035558631912375, 0.8035558631912375, 0.8035558631912375, 0.8035558631912375, 0.8035558631912375, 0.8035558631912375, 0.8035558631912375, 0.8035558631912375, 0.8035558631912375, 0.8035558631912375, 0.8035558631912375, 0.8035558631912375, 0.8035558631912375, 0.8035558631912375, 0.8035558631912375, 0.8035558631912375, 0.8035558631912375, 0.8035558631912375, 0.8035558631912375, 0.8035558631912375, 0.8035558631912375, 0.8035558631912375, 0.8035558631912375, 0.8035558631912375, 0.8035558631912375, 0.8035558631912375, 0.8035558631912375, 0.8035558631912375, 0.8035558631912375, 0.8035558631912375, 0.8035558631912375, 0.8035558631912375]}], \"recall_score_macro\": [{\"categories\": [\"0\", \"1\", \"2\", \"3\", \"4\", \"5\", \"6\", \"7\", \"8\", \"9\", \"10\", \"11\", \"12\", \"13\", \"14\", \"15\", \"16\", \"17\", \"18\", \"19\", \"20\", \"21\", \"22\", \"23\", \"24\", \"25\", \"26\", \"27\", \"28\", \"29\", \"30\", \"31\", \"32\", \"36\", \"37\"], \"mode\": \"markers\", \"name\": \"recall_score_macro\", \"stepped\": false, \"type\": \"scatter\", \"data\": [0.5258446333822475, 0.5119042565431116, 0.5, 0.5, 0.6039976573298856, 0.6114651589885757, 0.5010879413346924, 0.5204063720944497, 0.5395840242188737, 0.5, 0.5005652981614929, 0.5302222899984087, 0.500043885727229, 0.5122837170610145, 0.5261343365855953, 0.5182452177018897, 0.5, 0.5, 0.5, 0.5175685764534558, 0.5236904819056044, 0.5224169684310964, 0.5242484983691976, 0.5092380798985446, 0.5112373918238396, 0.5, 0.5022247232367847, 0.5, 0.5, 0.4993169398907104, 0.5, 0.5025894428361939, 0.5033569479947073, 0.5, 0.5033077097313061]}, {\"categories\": [\"0\", \"1\", \"2\", \"3\", \"4\", \"5\", \"6\", \"7\", \"8\", \"9\", \"10\", \"11\", \"12\", \"13\", \"14\", \"15\", \"16\", \"17\", \"18\", \"19\", \"20\", \"21\", \"22\", \"23\", \"24\", \"25\", \"26\", \"27\", \"28\", \"29\", \"30\", \"31\", \"32\", \"36\", \"37\"], \"mode\": \"lines\", \"name\": \"recall_score_macro_max\", \"stepped\": true, \"type\": \"scatter\", \"data\": [0.5258446333822475, 0.5258446333822475, 0.5258446333822475, 0.5258446333822475, 0.6039976573298856, 0.6114651589885757, 0.6114651589885757, 0.6114651589885757, 0.6114651589885757, 0.6114651589885757, 0.6114651589885757, 0.6114651589885757, 0.6114651589885757, 0.6114651589885757, 0.6114651589885757, 0.6114651589885757, 0.6114651589885757, 0.6114651589885757, 0.6114651589885757, 0.6114651589885757, 0.6114651589885757, 0.6114651589885757, 0.6114651589885757, 0.6114651589885757, 0.6114651589885757, 0.6114651589885757, 0.6114651589885757, 0.6114651589885757, 0.6114651589885757, 0.6114651589885757, 0.6114651589885757, 0.6114651589885757, 0.6114651589885757, 0.6114651589885757, 0.6114651589885757]}], \"AUC_micro\": [{\"categories\": [\"0\", \"1\", \"2\", \"3\", \"4\", \"5\", \"6\", \"7\", \"8\", \"9\", \"10\", \"11\", \"12\", \"13\", \"14\", \"15\", \"16\", \"17\", \"18\", \"19\", \"20\", \"21\", \"22\", \"23\", \"24\", \"25\", \"26\", \"27\", \"28\", \"29\", \"30\", \"31\", \"32\", \"36\", \"37\"], \"mode\": \"markers\", \"name\": \"AUC_micro\", \"stepped\": false, \"type\": \"scatter\", \"data\": [0.8779753656837449, 0.8925347722983045, 0.8937513276033583, 0.8737676584972626, 0.6121981337996362, 0.6913438251659217, 0.8894791836702898, 0.8882950728536826, 0.8639854793234907, 0.8918413447712702, 0.887608926817701, 0.8790747415885671, 0.8884870104059216, 0.8860260222319387, 0.8859368468644181, 0.8908631755589053, 0.8926499335075481, 0.8895092549936053, 0.890413701941997, 0.8873926453356121, 0.8791614979368862, 0.8817452039679433, 0.8751753583413121, 0.8888191574398169, 0.8916291443445129, 0.8481155819555265, 0.8908006894316832, 0.8910543365935056, 0.890542778563208, 0.8892933520921066, 0.8481155819555265, 0.8885644434660874, 0.8910489572697569, 0.8914020613703433, 0.8907026817212366]}, {\"categories\": [\"0\", \"1\", \"2\", \"3\", \"4\", \"5\", \"6\", \"7\", \"8\", \"9\", \"10\", \"11\", \"12\", \"13\", \"14\", \"15\", \"16\", \"17\", \"18\", \"19\", \"20\", \"21\", \"22\", \"23\", \"24\", \"25\", \"26\", \"27\", \"28\", \"29\", \"30\", \"31\", \"32\", \"36\", \"37\"], \"mode\": \"lines\", \"name\": \"AUC_micro_max\", \"stepped\": true, \"type\": \"scatter\", \"data\": [0.8779753656837449, 0.8925347722983045, 0.8937513276033583, 0.8937513276033583, 0.8937513276033583, 0.8937513276033583, 0.8937513276033583, 0.8937513276033583, 0.8937513276033583, 0.8937513276033583, 0.8937513276033583, 0.8937513276033583, 0.8937513276033583, 0.8937513276033583, 0.8937513276033583, 0.8937513276033583, 0.8937513276033583, 0.8937513276033583, 0.8937513276033583, 0.8937513276033583, 0.8937513276033583, 0.8937513276033583, 0.8937513276033583, 0.8937513276033583, 0.8937513276033583, 0.8937513276033583, 0.8937513276033583, 0.8937513276033583, 0.8937513276033583, 0.8937513276033583, 0.8937513276033583, 0.8937513276033583, 0.8937513276033583, 0.8937513276033583, 0.8937513276033583]}], \"matthews_correlation\": [{\"categories\": [\"0\", \"1\", \"2\", \"3\", \"4\", \"5\", \"6\", \"7\", \"8\", \"9\", \"10\", \"11\", \"12\", \"13\", \"14\", \"15\", \"16\", \"17\", \"18\", \"19\", \"20\", \"21\", \"22\", \"23\", \"24\", \"25\", \"26\", \"27\", \"28\", \"29\", \"30\", \"31\", \"32\", \"36\", \"37\"], \"mode\": \"markers\", \"name\": \"matthews_correlation\", \"stepped\": false, \"type\": \"scatter\", \"data\": [0.09364822094370161, 0.0918049936561393, 0.0, 0.0, 0.1527976403284873, 0.1666842837455258, 0.0075443385299977656, 0.10403953612470819, 0.09986068597351243, 0.0, 0.019342814233086914, 0.093267036292357, 0.0004293091892999161, 0.061604057315451564, 0.11365314782536817, 0.09227998959488241, 0.0, 0.0, 0.0, 0.10062146380587643, 0.09205553533721324, 0.08888817052928831, 0.07779479257754392, 0.05384858401915232, 0.07343197524303717, 0.0, 0.016004011783238518, 0.0, 0.0, -0.007900619734181392, 0.0, 0.036611968951758465, 0.03259911631519818, 0.0, 0.012416829888347686]}, {\"categories\": [\"0\", \"1\", \"2\", \"3\", \"4\", \"5\", \"6\", \"7\", \"8\", \"9\", \"10\", \"11\", \"12\", \"13\", \"14\", \"15\", \"16\", \"17\", \"18\", \"19\", \"20\", \"21\", \"22\", \"23\", \"24\", \"25\", \"26\", \"27\", \"28\", \"29\", \"30\", \"31\", \"32\", \"36\", \"37\"], \"mode\": \"lines\", \"name\": \"matthews_correlation_max\", \"stepped\": true, \"type\": \"scatter\", \"data\": [0.09364822094370161, 0.09364822094370161, 0.09364822094370161, 0.09364822094370161, 0.1527976403284873, 0.1666842837455258, 0.1666842837455258, 0.1666842837455258, 0.1666842837455258, 0.1666842837455258, 0.1666842837455258, 0.1666842837455258, 0.1666842837455258, 0.1666842837455258, 0.1666842837455258, 0.1666842837455258, 0.1666842837455258, 0.1666842837455258, 0.1666842837455258, 0.1666842837455258, 0.1666842837455258, 0.1666842837455258, 0.1666842837455258, 0.1666842837455258, 0.1666842837455258, 0.1666842837455258, 0.1666842837455258, 0.1666842837455258, 0.1666842837455258, 0.1666842837455258, 0.1666842837455258, 0.1666842837455258, 0.1666842837455258, 0.1666842837455258, 0.1666842837455258]}], \"average_precision_score_weighted\": [{\"categories\": [\"0\", \"1\", \"2\", \"3\", \"4\", \"5\", \"6\", \"7\", \"8\", \"9\", \"10\", \"11\", \"12\", \"13\", \"14\", \"15\", \"16\", \"17\", \"18\", \"19\", \"20\", \"21\", \"22\", \"23\", \"24\", \"25\", \"26\", \"27\", \"28\", \"29\", \"30\", \"31\", \"32\", \"36\", \"37\"], \"mode\": \"markers\", \"name\": \"average_precision_score_weighted\", \"stepped\": false, \"type\": \"scatter\", \"data\": [0.7941525642384558, 0.8146818351804374, 0.8144774318666904, 0.7768787320960463, 0.8038741395994237, 0.8043209466992547, 0.8099593928495524, 0.8066030870389325, 0.7925131755973073, 0.8142282065618667, 0.8084391714043573, 0.8007036799634492, 0.8090503245526861, 0.8073376587598519, 0.8055855126223316, 0.8119838428710576, 0.8163388058139883, 0.808967313676186, 0.8105738648588057, 0.8057270785823997, 0.7950924979187796, 0.8013418581419259, 0.7939075921148936, 0.807191344702261, 0.8133897939273265, 0.7426106787200014, 0.8122460761573738, 0.8146536148754726, 0.8131671959719585, 0.8099303781181603, 0.7426106787200014, 0.8091307317942009, 0.8097784404093772, 0.8155082045249903, 0.8153724432409879]}, {\"categories\": [\"0\", \"1\", \"2\", \"3\", \"4\", \"5\", \"6\", \"7\", \"8\", \"9\", \"10\", \"11\", \"12\", \"13\", \"14\", \"15\", \"16\", \"17\", \"18\", \"19\", \"20\", \"21\", \"22\", \"23\", \"24\", \"25\", \"26\", \"27\", \"28\", \"29\", \"30\", \"31\", \"32\", \"36\", \"37\"], \"mode\": \"lines\", \"name\": \"average_precision_score_weighted_max\", \"stepped\": true, \"type\": \"scatter\", \"data\": [0.7941525642384558, 0.8146818351804374, 0.8146818351804374, 0.8146818351804374, 0.8146818351804374, 0.8146818351804374, 0.8146818351804374, 0.8146818351804374, 0.8146818351804374, 0.8146818351804374, 0.8146818351804374, 0.8146818351804374, 0.8146818351804374, 0.8146818351804374, 0.8146818351804374, 0.8146818351804374, 0.8163388058139883, 0.8163388058139883, 0.8163388058139883, 0.8163388058139883, 0.8163388058139883, 0.8163388058139883, 0.8163388058139883, 0.8163388058139883, 0.8163388058139883, 0.8163388058139883, 0.8163388058139883, 0.8163388058139883, 0.8163388058139883, 0.8163388058139883, 0.8163388058139883, 0.8163388058139883, 0.8163388058139883, 0.8163388058139883, 0.8163388058139883]}], \"log_loss\": [{\"categories\": [\"0\", \"1\", \"2\", \"3\", \"4\", \"5\", \"6\", \"7\", \"8\", \"9\", \"10\", \"11\", \"12\", \"13\", \"14\", \"15\", \"16\", \"17\", \"18\", \"19\", \"20\", \"21\", \"22\", \"23\", \"24\", \"25\", \"26\", \"27\", \"28\", \"29\", \"30\", \"31\", \"32\", \"36\", \"37\"], \"mode\": \"markers\", \"name\": \"log_loss\", \"stepped\": false, \"type\": \"scatter\", \"data\": [0.460055263397241, 0.4036267085056564, 0.40941596190275176, 0.42257764232117595, 0.6900464903087556, 0.6613454984814147, 0.40567171392238827, 0.4539037572655961, 0.5311058868035596, 0.40422564531886507, 0.4080993511857291, 0.4575711699074619, 0.4074547691320831, 0.42042095755631087, 0.42039756780930787, 0.4113316533576235, 0.4035998674221622, 0.4072853799780794, 0.40690375660682704, 0.4132869688205458, 0.44600801110954835, 0.43729885216002423, 0.47745216039935506, 0.4107898130367375, 0.4048244424574344, 0.4265148321131466, 0.40432025009654665, 0.4047043945486162, 0.4058308943769575, 0.4063546778253421, 0.42654477941436225, 0.40770082687845205, 0.453306059226148, 0.4096112003202135, 0.42882274962758044]}, {\"categories\": [\"0\", \"1\", \"2\", \"3\", \"4\", \"5\", \"6\", \"7\", \"8\", \"9\", \"10\", \"11\", \"12\", \"13\", \"14\", \"15\", \"16\", \"17\", \"18\", \"19\", \"20\", \"21\", \"22\", \"23\", \"24\", \"25\", \"26\", \"27\", \"28\", \"29\", \"30\", \"31\", \"32\", \"36\", \"37\"], \"mode\": \"lines\", \"name\": \"log_loss_min\", \"stepped\": true, \"type\": \"scatter\", \"data\": [0.460055263397241, 0.4036267085056564, 0.4036267085056564, 0.4036267085056564, 0.4036267085056564, 0.4036267085056564, 0.4036267085056564, 0.4036267085056564, 0.4036267085056564, 0.4036267085056564, 0.4036267085056564, 0.4036267085056564, 0.4036267085056564, 0.4036267085056564, 0.4036267085056564, 0.4036267085056564, 0.4035998674221622, 0.4035998674221622, 0.4035998674221622, 0.4035998674221622, 0.4035998674221622, 0.4035998674221622, 0.4035998674221622, 0.4035998674221622, 0.4035998674221622, 0.4035998674221622, 0.4035998674221622, 0.4035998674221622, 0.4035998674221622, 0.4035998674221622, 0.4035998674221622, 0.4035998674221622, 0.4035998674221622, 0.4035998674221622, 0.4035998674221622]}], \"recall_score_weighted\": [{\"categories\": [\"0\", \"1\", \"2\", \"3\", \"4\", \"5\", \"6\", \"7\", \"8\", \"9\", \"10\", \"11\", \"12\", \"13\", \"14\", \"15\", \"16\", \"17\", \"18\", \"19\", \"20\", \"21\", \"22\", \"23\", \"24\", \"25\", \"26\", \"27\", \"28\", \"29\", \"30\", \"31\", \"32\", \"36\", \"37\"], \"mode\": \"markers\", \"name\": \"recall_score_weighted\", \"stepped\": false, \"type\": \"scatter\", \"data\": [0.8320762315843352, 0.8471711290024969, 0.8481155819555264, 0.8481155819555264, 0.5881964902586709, 0.6521169860389132, 0.8462283443994991, 0.8426892734769383, 0.8063684591085739, 0.8481155819555264, 0.8455206303159888, 0.8226413784842239, 0.8469360584830093, 0.8358490383463582, 0.8400954896824229, 0.8396225124483938, 0.8481155819555264, 0.8481155819555264, 0.8481155819555264, 0.8438691306194617, 0.8339634691403627, 0.8365574197698811, 0.8245301175552799, 0.8403310607069199, 0.8431614165359514, 0.8481155819555264, 0.8469360584830093, 0.8481155819555264, 0.8481155819555264, 0.8469360584830093, 0.8481155819555264, 0.846700153788506, 0.8455206303159888, 0.8481155819555264, 0.8412743458149272]}, {\"categories\": [\"0\", \"1\", \"2\", \"3\", \"4\", \"5\", \"6\", \"7\", \"8\", \"9\", \"10\", \"11\", \"12\", \"13\", \"14\", \"15\", \"16\", \"17\", \"18\", \"19\", \"20\", \"21\", \"22\", \"23\", \"24\", \"25\", \"26\", \"27\", \"28\", \"29\", \"30\", \"31\", \"32\", \"36\", \"37\"], \"mode\": \"lines\", \"name\": \"recall_score_weighted_max\", \"stepped\": true, \"type\": \"scatter\", \"data\": [0.8320762315843352, 0.8471711290024969, 0.8481155819555264, 0.8481155819555264, 0.8481155819555264, 0.8481155819555264, 0.8481155819555264, 0.8481155819555264, 0.8481155819555264, 0.8481155819555264, 0.8481155819555264, 0.8481155819555264, 0.8481155819555264, 0.8481155819555264, 0.8481155819555264, 0.8481155819555264, 0.8481155819555264, 0.8481155819555264, 0.8481155819555264, 0.8481155819555264, 0.8481155819555264, 0.8481155819555264, 0.8481155819555264, 0.8481155819555264, 0.8481155819555264, 0.8481155819555264, 0.8481155819555264, 0.8481155819555264, 0.8481155819555264, 0.8481155819555264, 0.8481155819555264, 0.8481155819555264, 0.8481155819555264, 0.8481155819555264, 0.8481155819555264]}], \"recall_score_micro\": [{\"categories\": [\"0\", \"1\", \"2\", \"3\", \"4\", \"5\", \"6\", \"7\", \"8\", \"9\", \"10\", \"11\", \"12\", \"13\", \"14\", \"15\", \"16\", \"17\", \"18\", \"19\", \"20\", \"21\", \"22\", \"23\", \"24\", \"25\", \"26\", \"27\", \"28\", \"29\", \"30\", \"31\", \"32\", \"36\", \"37\"], \"mode\": \"markers\", \"name\": \"recall_score_micro\", \"stepped\": false, \"type\": \"scatter\", \"data\": [0.8320762315843352, 0.8471711290024969, 0.8481155819555264, 0.8481155819555264, 0.5881964902586709, 0.6521169860389132, 0.8462283443994991, 0.8426892734769383, 0.8063684591085739, 0.8481155819555264, 0.8455206303159888, 0.8226413784842239, 0.8469360584830093, 0.8358490383463582, 0.8400954896824229, 0.8396225124483938, 0.8481155819555264, 0.8481155819555264, 0.8481155819555264, 0.8438691306194617, 0.8339634691403627, 0.8365574197698811, 0.8245301175552799, 0.8403310607069199, 0.8431614165359514, 0.8481155819555264, 0.8469360584830093, 0.8481155819555264, 0.8481155819555264, 0.8469360584830093, 0.8481155819555264, 0.846700153788506, 0.8455206303159888, 0.8481155819555264, 0.8412743458149272]}, {\"categories\": [\"0\", \"1\", \"2\", \"3\", \"4\", \"5\", \"6\", \"7\", \"8\", \"9\", \"10\", \"11\", \"12\", \"13\", \"14\", \"15\", \"16\", \"17\", \"18\", \"19\", \"20\", \"21\", \"22\", \"23\", \"24\", \"25\", \"26\", \"27\", \"28\", \"29\", \"30\", \"31\", \"32\", \"36\", \"37\"], \"mode\": \"lines\", \"name\": \"recall_score_micro_max\", \"stepped\": true, \"type\": \"scatter\", \"data\": [0.8320762315843352, 0.8471711290024969, 0.8481155819555264, 0.8481155819555264, 0.8481155819555264, 0.8481155819555264, 0.8481155819555264, 0.8481155819555264, 0.8481155819555264, 0.8481155819555264, 0.8481155819555264, 0.8481155819555264, 0.8481155819555264, 0.8481155819555264, 0.8481155819555264, 0.8481155819555264, 0.8481155819555264, 0.8481155819555264, 0.8481155819555264, 0.8481155819555264, 0.8481155819555264, 0.8481155819555264, 0.8481155819555264, 0.8481155819555264, 0.8481155819555264, 0.8481155819555264, 0.8481155819555264, 0.8481155819555264, 0.8481155819555264, 0.8481155819555264, 0.8481155819555264, 0.8481155819555264, 0.8481155819555264, 0.8481155819555264, 0.8481155819555264]}], \"f1_score_micro\": [{\"categories\": [\"0\", \"1\", \"2\", \"3\", \"4\", \"5\", \"6\", \"7\", \"8\", \"9\", \"10\", \"11\", \"12\", \"13\", \"14\", \"15\", \"16\", \"17\", \"18\", \"19\", \"20\", \"21\", \"22\", \"23\", \"24\", \"25\", \"26\", \"27\", \"28\", \"29\", \"30\", \"31\", \"32\", \"36\", \"37\"], \"mode\": \"markers\", \"name\": \"f1_score_micro\", \"stepped\": false, \"type\": \"scatter\", \"data\": [0.8320762315843352, 0.8471711290024969, 0.8481155819555264, 0.8481155819555264, 0.5881964902586709, 0.6521169860389132, 0.8462283443994991, 0.8426892734769383, 0.8063684591085739, 0.8481155819555264, 0.8455206303159888, 0.8226413784842239, 0.8469360584830093, 0.8358490383463582, 0.8400954896824229, 0.8396225124483938, 0.8481155819555264, 0.8481155819555264, 0.8481155819555264, 0.8438691306194617, 0.8339634691403627, 0.8365574197698811, 0.8245301175552799, 0.8403310607069199, 0.8431614165359514, 0.8481155819555264, 0.8469360584830093, 0.8481155819555264, 0.8481155819555264, 0.8469360584830093, 0.8481155819555264, 0.846700153788506, 0.8455206303159888, 0.8481155819555264, 0.8412743458149272]}, {\"categories\": [\"0\", \"1\", \"2\", \"3\", \"4\", \"5\", \"6\", \"7\", \"8\", \"9\", \"10\", \"11\", \"12\", \"13\", \"14\", \"15\", \"16\", \"17\", \"18\", \"19\", \"20\", \"21\", \"22\", \"23\", \"24\", \"25\", \"26\", \"27\", \"28\", \"29\", \"30\", \"31\", \"32\", \"36\", \"37\"], \"mode\": \"lines\", \"name\": \"f1_score_micro_max\", \"stepped\": true, \"type\": \"scatter\", \"data\": [0.8320762315843352, 0.8471711290024969, 0.8481155819555264, 0.8481155819555264, 0.8481155819555264, 0.8481155819555264, 0.8481155819555264, 0.8481155819555264, 0.8481155819555264, 0.8481155819555264, 0.8481155819555264, 0.8481155819555264, 0.8481155819555264, 0.8481155819555264, 0.8481155819555264, 0.8481155819555264, 0.8481155819555264, 0.8481155819555264, 0.8481155819555264, 0.8481155819555264, 0.8481155819555264, 0.8481155819555264, 0.8481155819555264, 0.8481155819555264, 0.8481155819555264, 0.8481155819555264, 0.8481155819555264, 0.8481155819555264, 0.8481155819555264, 0.8481155819555264, 0.8481155819555264, 0.8481155819555264, 0.8481155819555264, 0.8481155819555264, 0.8481155819555264]}], \"weighted_accuracy\": [{\"categories\": [\"0\", \"1\", \"2\", \"3\", \"4\", \"5\", \"6\", \"7\", \"8\", \"9\", \"10\", \"11\", \"12\", \"13\", \"14\", \"15\", \"16\", \"17\", \"18\", \"19\", \"20\", \"21\", \"22\", \"23\", \"24\", \"25\", \"26\", \"27\", \"28\", \"29\", \"30\", \"31\", \"32\", \"36\", \"37\"], \"mode\": \"markers\", \"name\": \"weighted_accuracy\", \"stepped\": false, \"type\": \"scatter\", \"data\": [0.938068858922891, 0.9632332164095311, 0.9686688438245291, 0.9686688438245291, 0.5816099447833286, 0.6660301845700158, 0.9658632618503441, 0.954368492743379, 0.8987256172474244, 0.9686688438245291, 0.9650718511078652, 0.9237733983499873, 0.9671116922997246, 0.9481107079678669, 0.9489722560817859, 0.9511068653607994, 0.9686688438245291, 0.9686688438245291, 0.9686688438245291, 0.9572213974727949, 0.9415274835043066, 0.9453747866895533, 0.9283123607159128, 0.9551808512787385, 0.9582041415233725, 0.9686688438245291, 0.9664385361543726, 0.9686688438245291, 0.9686688438245291, 0.9673360776815084, 0.9686688438245291, 0.9659640954306518, 0.964178632486572, 0.9686688438245291, 0.9586949463771696]}, {\"categories\": [\"0\", \"1\", \"2\", \"3\", \"4\", \"5\", \"6\", \"7\", \"8\", \"9\", \"10\", \"11\", \"12\", \"13\", \"14\", \"15\", \"16\", \"17\", \"18\", \"19\", \"20\", \"21\", \"22\", \"23\", \"24\", \"25\", \"26\", \"27\", \"28\", \"29\", \"30\", \"31\", \"32\", \"36\", \"37\"], \"mode\": \"lines\", \"name\": \"weighted_accuracy_max\", \"stepped\": true, \"type\": \"scatter\", \"data\": [0.938068858922891, 0.9632332164095311, 0.9686688438245291, 0.9686688438245291, 0.9686688438245291, 0.9686688438245291, 0.9686688438245291, 0.9686688438245291, 0.9686688438245291, 0.9686688438245291, 0.9686688438245291, 0.9686688438245291, 0.9686688438245291, 0.9686688438245291, 0.9686688438245291, 0.9686688438245291, 0.9686688438245291, 0.9686688438245291, 0.9686688438245291, 0.9686688438245291, 0.9686688438245291, 0.9686688438245291, 0.9686688438245291, 0.9686688438245291, 0.9686688438245291, 0.9686688438245291, 0.9686688438245291, 0.9686688438245291, 0.9686688438245291, 0.9686688438245291, 0.9686688438245291, 0.9686688438245291, 0.9686688438245291, 0.9686688438245291, 0.9686688438245291]}], \"AUC_macro\": [{\"categories\": [\"0\", \"1\", \"2\", \"3\", \"4\", \"5\", \"6\", \"7\", \"8\", \"9\", \"10\", \"11\", \"12\", \"13\", \"14\", \"15\", \"16\", \"17\", \"18\", \"19\", \"20\", \"21\", \"22\", \"23\", \"24\", \"25\", \"26\", \"27\", \"28\", \"29\", \"30\", \"31\", \"32\", \"36\", \"37\"], \"mode\": \"markers\", \"name\": \"AUC_macro\", \"stepped\": false, \"type\": \"scatter\", \"data\": [0.6272491257921978, 0.6719147375349594, 0.6765265746367674, 0.5957664141241882, 0.6550600576531636, 0.6464259699643581, 0.659805785471994, 0.6573421647729839, 0.6228007595517471, 0.6684582311288793, 0.6522645885072239, 0.645109056900954, 0.6553616917870211, 0.652657057533988, 0.6512063439068342, 0.6684553136006622, 0.6719948607089389, 0.659456046139392, 0.6624987915631654, 0.6539329040295084, 0.6288690846834807, 0.6385732797644269, 0.6241410257627564, 0.6593691520860697, 0.6694813111443157, 0.5, 0.664313552209908, 0.6650522794527339, 0.663275823350025, 0.6584075832687769, 0.5, 0.6560600476416422, 0.665192935438449, 0.6665654367759627, 0.6664153841273102]}, {\"categories\": [\"0\", \"1\", \"2\", \"3\", \"4\", \"5\", \"6\", \"7\", \"8\", \"9\", \"10\", \"11\", \"12\", \"13\", \"14\", \"15\", \"16\", \"17\", \"18\", \"19\", \"20\", \"21\", \"22\", \"23\", \"24\", \"25\", \"26\", \"27\", \"28\", \"29\", \"30\", \"31\", \"32\", \"36\", \"37\"], \"mode\": \"lines\", \"name\": \"AUC_macro_max\", \"stepped\": true, \"type\": \"scatter\", \"data\": [0.6272491257921978, 0.6719147375349594, 0.6765265746367674, 0.6765265746367674, 0.6765265746367674, 0.6765265746367674, 0.6765265746367674, 0.6765265746367674, 0.6765265746367674, 0.6765265746367674, 0.6765265746367674, 0.6765265746367674, 0.6765265746367674, 0.6765265746367674, 0.6765265746367674, 0.6765265746367674, 0.6765265746367674, 0.6765265746367674, 0.6765265746367674, 0.6765265746367674, 0.6765265746367674, 0.6765265746367674, 0.6765265746367674, 0.6765265746367674, 0.6765265746367674, 0.6765265746367674, 0.6765265746367674, 0.6765265746367674, 0.6765265746367674, 0.6765265746367674, 0.6765265746367674, 0.6765265746367674, 0.6765265746367674, 0.6765265746367674, 0.6765265746367674]}], \"precision_score_micro\": [{\"categories\": [\"0\", \"1\", \"2\", \"3\", \"4\", \"5\", \"6\", \"7\", \"8\", \"9\", \"10\", \"11\", \"12\", \"13\", \"14\", \"15\", \"16\", \"17\", \"18\", \"19\", \"20\", \"21\", \"22\", \"23\", \"24\", \"25\", \"26\", \"27\", \"28\", \"29\", \"30\", \"31\", \"32\", \"36\", \"37\"], \"mode\": \"markers\", \"name\": \"precision_score_micro\", \"stepped\": false, \"type\": \"scatter\", \"data\": [0.8320762315843352, 0.8471711290024969, 0.8481155819555264, 0.8481155819555264, 0.5881964902586709, 0.6521169860389132, 0.8462283443994991, 0.8426892734769383, 0.8063684591085739, 0.8481155819555264, 0.8455206303159888, 0.8226413784842239, 0.8469360584830093, 0.8358490383463582, 0.8400954896824229, 0.8396225124483938, 0.8481155819555264, 0.8481155819555264, 0.8481155819555264, 0.8438691306194617, 0.8339634691403627, 0.8365574197698811, 0.8245301175552799, 0.8403310607069199, 0.8431614165359514, 0.8481155819555264, 0.8469360584830093, 0.8481155819555264, 0.8481155819555264, 0.8469360584830093, 0.8481155819555264, 0.846700153788506, 0.8455206303159888, 0.8481155819555264, 0.8412743458149272]}, {\"categories\": [\"0\", \"1\", \"2\", \"3\", \"4\", \"5\", \"6\", \"7\", \"8\", \"9\", \"10\", \"11\", \"12\", \"13\", \"14\", \"15\", \"16\", \"17\", \"18\", \"19\", \"20\", \"21\", \"22\", \"23\", \"24\", \"25\", \"26\", \"27\", \"28\", \"29\", \"30\", \"31\", \"32\", \"36\", \"37\"], \"mode\": \"lines\", \"name\": \"precision_score_micro_max\", \"stepped\": true, \"type\": \"scatter\", \"data\": [0.8320762315843352, 0.8471711290024969, 0.8481155819555264, 0.8481155819555264, 0.8481155819555264, 0.8481155819555264, 0.8481155819555264, 0.8481155819555264, 0.8481155819555264, 0.8481155819555264, 0.8481155819555264, 0.8481155819555264, 0.8481155819555264, 0.8481155819555264, 0.8481155819555264, 0.8481155819555264, 0.8481155819555264, 0.8481155819555264, 0.8481155819555264, 0.8481155819555264, 0.8481155819555264, 0.8481155819555264, 0.8481155819555264, 0.8481155819555264, 0.8481155819555264, 0.8481155819555264, 0.8481155819555264, 0.8481155819555264, 0.8481155819555264, 0.8481155819555264, 0.8481155819555264, 0.8481155819555264, 0.8481155819555264, 0.8481155819555264, 0.8481155819555264]}], \"norm_macro_recall\": [{\"categories\": [\"0\", \"1\", \"2\", \"3\", \"4\", \"5\", \"6\", \"7\", \"8\", \"9\", \"10\", \"11\", \"12\", \"13\", \"14\", \"15\", \"16\", \"17\", \"18\", \"19\", \"20\", \"21\", \"22\", \"23\", \"24\", \"25\", \"26\", \"27\", \"28\", \"29\", \"30\", \"31\", \"32\", \"36\", \"37\"], \"mode\": \"markers\", \"name\": \"norm_macro_recall\", \"stepped\": false, \"type\": \"scatter\", \"data\": [0.05168926676449496, 0.023808513086223115, 0.0, 0.0, 0.20799531465977142, 0.22293031797715135, 0.002175882669384732, 0.04081274418889961, 0.07916804843774765, 0.0, 0.001501501501501486, 0.06044457999681726, 8.777145445789299e-05, 0.024567434122028775, 0.052268673171190626, 0.03649043540377924, 0.0, 0.0, 0.0, 0.035137152906911405, 0.0473809638112089, 0.044833936862192836, 0.04849699673839525, 0.018476159797089425, 0.02247478364767937, 0.0, 0.004449446473569448, 0.0, 0.0, 0.0, 0.0, 0.005178885672387705, 0.006713895989414557, 0.0, 0.006615419462612164]}, {\"categories\": [\"0\", \"1\", \"2\", \"3\", \"4\", \"5\", \"6\", \"7\", \"8\", \"9\", \"10\", \"11\", \"12\", \"13\", \"14\", \"15\", \"16\", \"17\", \"18\", \"19\", \"20\", \"21\", \"22\", \"23\", \"24\", \"25\", \"26\", \"27\", \"28\", \"29\", \"30\", \"31\", \"32\", \"36\", \"37\"], \"mode\": \"lines\", \"name\": \"norm_macro_recall_max\", \"stepped\": true, \"type\": \"scatter\", \"data\": [0.05168926676449496, 0.05168926676449496, 0.05168926676449496, 0.05168926676449496, 0.20799531465977142, 0.22293031797715135, 0.22293031797715135, 0.22293031797715135, 0.22293031797715135, 0.22293031797715135, 0.22293031797715135, 0.22293031797715135, 0.22293031797715135, 0.22293031797715135, 0.22293031797715135, 0.22293031797715135, 0.22293031797715135, 0.22293031797715135, 0.22293031797715135, 0.22293031797715135, 0.22293031797715135, 0.22293031797715135, 0.22293031797715135, 0.22293031797715135, 0.22293031797715135, 0.22293031797715135, 0.22293031797715135, 0.22293031797715135, 0.22293031797715135, 0.22293031797715135, 0.22293031797715135, 0.22293031797715135, 0.22293031797715135, 0.22293031797715135, 0.22293031797715135]}], \"f1_score_macro\": [{\"categories\": [\"0\", \"1\", \"2\", \"3\", \"4\", \"5\", \"6\", \"7\", \"8\", \"9\", \"10\", \"11\", \"12\", \"13\", \"14\", \"15\", \"16\", \"17\", \"18\", \"19\", \"20\", \"21\", \"22\", \"23\", \"24\", \"25\", \"26\", \"27\", \"28\", \"29\", \"30\", \"31\", \"32\", \"36\", \"37\"], \"mode\": \"markers\", \"name\": \"f1_score_macro\", \"stepped\": false, \"type\": \"scatter\", \"data\": [0.5208165108643971, 0.4868535488064971, 0.4588892190256147, 0.4588892190256147, 0.5092765661365751, 0.5443433338080811, 0.46314573153862343, 0.5067474483610463, 0.5434127839170114, 0.4588892190256147, 0.4627934246147604, 0.5300163147406002, 0.46020598070850244, 0.4944873732837451, 0.5180448738955206, 0.5037495081386084, 0.4588892190256147, 0.4588892190256147, 0.4588892190256147, 0.49862871121720587, 0.5162810208755753, 0.5126495780641047, 0.5204152663995124, 0.48561238073630136, 0.4882188919320902, 0.4588892190256147, 0.46498302738340525, 0.4588892190256147, 0.4588892190256147, 0.45854887769577757, 0.4588892190256147, 0.4662391070703839, 0.4687828823757227, 0.4588892190256147, 0.4705611745556275]}, {\"categories\": [\"0\", \"1\", \"2\", \"3\", \"4\", \"5\", \"6\", \"7\", \"8\", \"9\", \"10\", \"11\", \"12\", \"13\", \"14\", \"15\", \"16\", \"17\", \"18\", \"19\", \"20\", \"21\", \"22\", \"23\", \"24\", \"25\", \"26\", \"27\", \"28\", \"29\", \"30\", \"31\", \"32\", \"36\", \"37\"], \"mode\": \"lines\", \"name\": \"f1_score_macro_max\", \"stepped\": true, \"type\": \"scatter\", \"data\": [0.5208165108643971, 0.5208165108643971, 0.5208165108643971, 0.5208165108643971, 0.5208165108643971, 0.5443433338080811, 0.5443433338080811, 0.5443433338080811, 0.5443433338080811, 0.5443433338080811, 0.5443433338080811, 0.5443433338080811, 0.5443433338080811, 0.5443433338080811, 0.5443433338080811, 0.5443433338080811, 0.5443433338080811, 0.5443433338080811, 0.5443433338080811, 0.5443433338080811, 0.5443433338080811, 0.5443433338080811, 0.5443433338080811, 0.5443433338080811, 0.5443433338080811, 0.5443433338080811, 0.5443433338080811, 0.5443433338080811, 0.5443433338080811, 0.5443433338080811, 0.5443433338080811, 0.5443433338080811, 0.5443433338080811, 0.5443433338080811, 0.5443433338080811]}], \"average_precision_score_macro\": [{\"categories\": [\"0\", \"1\", \"2\", \"3\", \"4\", \"5\", \"6\", \"7\", \"8\", \"9\", \"10\", \"11\", \"12\", \"13\", \"14\", \"15\", \"16\", \"17\", \"18\", \"19\", \"20\", \"21\", \"22\", \"23\", \"24\", \"25\", \"26\", \"27\", \"28\", \"29\", \"30\", \"31\", \"32\", \"36\", \"37\"], \"mode\": \"markers\", \"name\": \"average_precision_score_macro\", \"stepped\": false, \"type\": \"scatter\", \"data\": [0.5648125926108533, 0.5955597537659437, 0.5870196283802996, 0.5459431627238437, 0.5814944400682936, 0.5793727355756398, 0.5926944315138036, 0.5832787384342106, 0.5586471055742201, 0.5946690858299261, 0.5897870277873324, 0.5707322742274058, 0.5900521326644109, 0.5789873888855088, 0.5804686882555191, 0.5890113329563162, 0.5915421091186125, 0.5784215790731024, 0.5892265651578056, 0.5868166065326236, 0.5684506467385583, 0.5739088991377937, 0.5628018624380792, 0.5805667695877689, 0.5907047124928774, 0.5, 0.5947593005073332, 0.592784760318645, 0.5964740345764522, 0.5907331621472424, 0.5, 0.5907038189118793, 0.5901438350458471, 0.5967160136432659, 0.5963626592270015]}, {\"categories\": [\"0\", \"1\", \"2\", \"3\", \"4\", \"5\", \"6\", \"7\", \"8\", \"9\", \"10\", \"11\", \"12\", \"13\", \"14\", \"15\", \"16\", \"17\", \"18\", \"19\", \"20\", \"21\", \"22\", \"23\", \"24\", \"25\", \"26\", \"27\", \"28\", \"29\", \"30\", \"31\", \"32\", \"36\", \"37\"], \"mode\": \"lines\", \"name\": \"average_precision_score_macro_max\", \"stepped\": true, \"type\": \"scatter\", \"data\": [0.5648125926108533, 0.5955597537659437, 0.5955597537659437, 0.5955597537659437, 0.5955597537659437, 0.5955597537659437, 0.5955597537659437, 0.5955597537659437, 0.5955597537659437, 0.5955597537659437, 0.5955597537659437, 0.5955597537659437, 0.5955597537659437, 0.5955597537659437, 0.5955597537659437, 0.5955597537659437, 0.5955597537659437, 0.5955597537659437, 0.5955597537659437, 0.5955597537659437, 0.5955597537659437, 0.5955597537659437, 0.5955597537659437, 0.5955597537659437, 0.5955597537659437, 0.5955597537659437, 0.5955597537659437, 0.5955597537659437, 0.5964740345764522, 0.5964740345764522, 0.5964740345764522, 0.5964740345764522, 0.5964740345764522, 0.5967160136432659, 0.5967160136432659]}], \"precision_score_macro\": [{\"categories\": [\"0\", \"1\", \"2\", \"3\", \"4\", \"5\", \"6\", \"7\", \"8\", \"9\", \"10\", \"11\", \"12\", \"13\", \"14\", \"15\", \"16\", \"17\", \"18\", \"19\", \"20\", \"21\", \"22\", \"23\", \"24\", \"25\", \"26\", \"27\", \"28\", \"29\", \"30\", \"31\", \"32\", \"36\", \"37\"], \"mode\": \"markers\", \"name\": \"precision_score_macro\", \"stepped\": false, \"type\": \"scatter\", \"data\": [0.5852318687019866, 0.6858798201743701, 0.4240577909777632, 0.4240577909777632, 0.55614591984632, 0.5624046482226422, 0.459901664081417, 0.6349241974517636, 0.5630447743533257, 0.4240577909777632, 0.6116351606027381, 0.5721211049273233, 0.44787251609989703, 0.5820220937059247, 0.62613727432115, 0.6211513822361444, 0.4240577909777632, 0.4240577909777632, 0.4240577909777632, 0.6636024247203505, 0.5906088177396424, 0.5896443239403136, 0.5624444671846311, 0.5856149915995238, 0.6257673397664747, 0.4240577909777632, 0.47560464527939467, 0.4240577909777632, 0.4240577909777632, 0.4239769500579494, 0.4240577909777632, 0.626767453704252, 0.5734674251012164, 0.4240577909777632, 0.4584754956272035]}, {\"categories\": [\"0\", \"1\", \"2\", \"3\", \"4\", \"5\", \"6\", \"7\", \"8\", \"9\", \"10\", \"11\", \"12\", \"13\", \"14\", \"15\", \"16\", \"17\", \"18\", \"19\", \"20\", \"21\", \"22\", \"23\", \"24\", \"25\", \"26\", \"27\", \"28\", \"29\", \"30\", \"31\", \"32\", \"36\", \"37\"], \"mode\": \"lines\", \"name\": \"precision_score_macro_max\", \"stepped\": true, \"type\": \"scatter\", \"data\": [0.5852318687019866, 0.6858798201743701, 0.6858798201743701, 0.6858798201743701, 0.6858798201743701, 0.6858798201743701, 0.6858798201743701, 0.6858798201743701, 0.6858798201743701, 0.6858798201743701, 0.6858798201743701, 0.6858798201743701, 0.6858798201743701, 0.6858798201743701, 0.6858798201743701, 0.6858798201743701, 0.6858798201743701, 0.6858798201743701, 0.6858798201743701, 0.6858798201743701, 0.6858798201743701, 0.6858798201743701, 0.6858798201743701, 0.6858798201743701, 0.6858798201743701, 0.6858798201743701, 0.6858798201743701, 0.6858798201743701, 0.6858798201743701, 0.6858798201743701, 0.6858798201743701, 0.6858798201743701, 0.6858798201743701, 0.6858798201743701, 0.6858798201743701]}]}, \"metricName\": null, \"primaryMetricName\": \"accuracy\", \"showLegend\": false}, \"run_metrics\": [{\"name\": \"experiment_status\", \"run_id\": \"AutoML_6ebf3996-cf8f-42a4-9bd0-9732d46ccf65\", \"categories\": [0, 1, 2, 3, 4, 5, 6, 7, 8, 9, 10, 11, 12, 13, 14], \"series\": [{\"data\": [\"DatasetEvaluation\", \"FeaturesGeneration\", \"DatasetFeaturization\", \"DatasetFeaturizationCompleted\", \"DatasetBalancing\", \"DatasetCrossValidationSplit\", \"ModelSelection\", \"BestRunExplainModel\", \"ModelExplanationDataSetSetup\", \"PickSurrogateModel\", \"EngineeredFeatureExplanations\", \"EngineeredFeatureExplanations\", \"RawFeaturesExplanations\", \"RawFeaturesExplanations\", \"BestRunExplainModel\"]}]}, {\"name\": \"experiment_status_description\", \"run_id\": \"AutoML_6ebf3996-cf8f-42a4-9bd0-9732d46ccf65\", \"categories\": [0, 1, 2, 3, 4, 5, 6, 7, 8, 9, 10, 11, 12, 13, 14], \"series\": [{\"data\": [\"Gathering dataset statistics.\", \"Generating features for the dataset.\", \"Beginning to fit featurizers and featurize the dataset.\", \"Completed fit featurizers and featurizing the dataset.\", \"Performing class balancing sweeping\", \"Generating individually featurized CV splits.\", \"Beginning model selection.\", \"Best run model explanations started\", \"Model explanations data setup completed\", \"Choosing LinearModel as the surrogate model for explanations\", \"Computation of engineered features started\", \"Computation of engineered features completed\", \"Computation of raw features started\", \"Computation of raw features completed\", \"Best run model explanations completed\"]}]}, {\"name\": \"AUC_weighted\", \"run_id\": \"AutoML_6ebf3996-cf8f-42a4-9bd0-9732d46ccf65\", \"categories\": [0], \"series\": [{\"data\": [0.5957664141241882]}]}, {\"name\": \"precision_score_micro\", \"run_id\": \"AutoML_6ebf3996-cf8f-42a4-9bd0-9732d46ccf65\", \"categories\": [0], \"series\": [{\"data\": [0.8481155819555264]}]}, {\"name\": \"weighted_accuracy\", \"run_id\": \"AutoML_6ebf3996-cf8f-42a4-9bd0-9732d46ccf65\", \"categories\": [0], \"series\": [{\"data\": [0.9686688438245291]}]}, {\"name\": \"precision_score_macro\", \"run_id\": \"AutoML_6ebf3996-cf8f-42a4-9bd0-9732d46ccf65\", \"categories\": [0], \"series\": [{\"data\": [0.4240577909777632]}]}, {\"name\": \"recall_score_micro\", \"run_id\": \"AutoML_6ebf3996-cf8f-42a4-9bd0-9732d46ccf65\", \"categories\": [0], \"series\": [{\"data\": [0.8481155819555264]}]}, {\"name\": \"AUC_macro\", \"run_id\": \"AutoML_6ebf3996-cf8f-42a4-9bd0-9732d46ccf65\", \"categories\": [0], \"series\": [{\"data\": [0.5957664141241882]}]}, {\"name\": \"recall_score_weighted\", \"run_id\": \"AutoML_6ebf3996-cf8f-42a4-9bd0-9732d46ccf65\", \"categories\": [0], \"series\": [{\"data\": [0.8481155819555264]}]}, {\"name\": \"f1_score_micro\", \"run_id\": \"AutoML_6ebf3996-cf8f-42a4-9bd0-9732d46ccf65\", \"categories\": [0], \"series\": [{\"data\": [0.8481155819555264]}]}, {\"name\": \"precision_score_weighted\", \"run_id\": \"AutoML_6ebf3996-cf8f-42a4-9bd0-9732d46ccf65\", \"categories\": [0], \"series\": [{\"data\": [0.719420921315527]}]}, {\"name\": \"average_precision_score_macro\", \"run_id\": \"AutoML_6ebf3996-cf8f-42a4-9bd0-9732d46ccf65\", \"categories\": [0], \"series\": [{\"data\": [0.5459431627238437]}]}, {\"name\": \"accuracy\", \"run_id\": \"AutoML_6ebf3996-cf8f-42a4-9bd0-9732d46ccf65\", \"categories\": [0], \"series\": [{\"data\": [0.8481155819555264]}]}, {\"name\": \"AUC_micro\", \"run_id\": \"AutoML_6ebf3996-cf8f-42a4-9bd0-9732d46ccf65\", \"categories\": [0], \"series\": [{\"data\": [0.8737676584972626]}]}, {\"name\": \"f1_score_weighted\", \"run_id\": \"AutoML_6ebf3996-cf8f-42a4-9bd0-9732d46ccf65\", \"categories\": [0], \"series\": [{\"data\": [0.7784527258598235]}]}, {\"name\": \"balanced_accuracy\", \"run_id\": \"AutoML_6ebf3996-cf8f-42a4-9bd0-9732d46ccf65\", \"categories\": [0], \"series\": [{\"data\": [0.5]}]}, {\"name\": \"matthews_correlation\", \"run_id\": \"AutoML_6ebf3996-cf8f-42a4-9bd0-9732d46ccf65\", \"categories\": [0], \"series\": [{\"data\": [0.0]}]}, {\"name\": \"recall_score_macro\", \"run_id\": \"AutoML_6ebf3996-cf8f-42a4-9bd0-9732d46ccf65\", \"categories\": [0], \"series\": [{\"data\": [0.5]}]}, {\"name\": \"f1_score_macro\", \"run_id\": \"AutoML_6ebf3996-cf8f-42a4-9bd0-9732d46ccf65\", \"categories\": [0], \"series\": [{\"data\": [0.4588892190256147]}]}, {\"name\": \"average_precision_score_weighted\", \"run_id\": \"AutoML_6ebf3996-cf8f-42a4-9bd0-9732d46ccf65\", \"categories\": [0], \"series\": [{\"data\": [0.7768787320960463]}]}, {\"name\": \"log_loss\", \"run_id\": \"AutoML_6ebf3996-cf8f-42a4-9bd0-9732d46ccf65\", \"categories\": [0], \"series\": [{\"data\": [0.42257764232117595]}]}, {\"name\": \"norm_macro_recall\", \"run_id\": \"AutoML_6ebf3996-cf8f-42a4-9bd0-9732d46ccf65\", \"categories\": [0], \"series\": [{\"data\": [0.0]}]}, {\"name\": \"average_precision_score_micro\", \"run_id\": \"AutoML_6ebf3996-cf8f-42a4-9bd0-9732d46ccf65\", \"categories\": [0], \"series\": [{\"data\": [0.8387114367332881]}]}], \"run_logs\": \"\\nRun is completed.\", \"graph\": {}, \"widget_settings\": {\"childWidgetDisplay\": \"popup\", \"send_telemetry\": false, \"log_level\": \"INFO\", \"sdk_version\": \"1.24.0\"}, \"loading\": false}"
          },
          "metadata": {}
        }
      ],
      "execution_count": 9,
      "metadata": {
        "gather": {
          "logged": 1617208517981
        },
        "jupyter": {
          "outputs_hidden": false,
          "source_hidden": false
        },
        "nteract": {
          "transient": {
            "deleting": false
          }
        }
      }
    },
    {
      "cell_type": "code",
      "source": [
        "remote_run.wait_for_completion(show_output=True)"
      ],
      "outputs": [
        {
          "output_type": "stream",
          "name": "stdout",
          "text": [
            "\n",
            "\n",
            "****************************************************************************************************\n",
            "DATA GUARDRAILS: \n",
            "\n",
            "TYPE:         Cross validation\n",
            "STATUS:       DONE\n",
            "DESCRIPTION:  Each iteration of the trained model was validated through cross-validation.\n",
            "              \n",
            "DETAILS:      \n",
            "+---------------------------------+\n",
            "|Number of folds                  |\n",
            "+=================================+\n",
            "|3                                |\n",
            "+---------------------------------+\n",
            "\n",
            "****************************************************************************************************\n",
            "\n",
            "TYPE:         Class balancing detection\n",
            "STATUS:       ALERTED\n",
            "DESCRIPTION:  To decrease model bias, please cancel the current run and fix balancing problem.\n",
            "              Learn more about imbalanced data: https://aka.ms/AutomatedMLImbalancedData\n",
            "DETAILS:      Imbalanced data can lead to a falsely perceived positive effect of a model's accuracy because the input data has bias towards one class.\n",
            "+---------------------------------+---------------------------------+--------------------------------------+\n",
            "|Size of the smallest class       |Name/Label of the smallest class |Number of samples in the training data|\n",
            "+=================================+=================================+======================================+\n",
            "|644                              |1                                |4240                                  |\n",
            "+---------------------------------+---------------------------------+--------------------------------------+\n",
            "\n",
            "****************************************************************************************************\n",
            "\n",
            "TYPE:         Missing feature values imputation\n",
            "STATUS:       DONE\n",
            "DESCRIPTION:  If the missing values are expected, let the run complete. Otherwise cancel the current run and use a script to customize the handling of missing feature values that may be more appropriate based on the data type and business requirement.\n",
            "              Learn more about missing value imputation: https://aka.ms/AutomatedMLFeaturization\n",
            "DETAILS:      \n",
            "+---------------------------------+---------------------------------+---------------------------------+\n",
            "|Column name                      |Missing value count              |Imputation type                  |\n",
            "+=================================+=================================+=================================+\n",
            "|heartRate                        |1                                |mean                             |\n",
            "+---------------------------------+---------------------------------+---------------------------------+\n",
            "\n",
            "****************************************************************************************************\n",
            "\n",
            "TYPE:         High cardinality feature detection\n",
            "STATUS:       DONE\n",
            "DESCRIPTION:  High cardinality features were detected in your inputs and handled.\n",
            "              Learn more about high cardinality feature handling: https://aka.ms/AutomatedMLFeaturization\n",
            "DETAILS:      High cardinality features refer to columns that contain a large percentage of unique values.\n",
            "+---------------------------------+---------------------------------+\n",
            "|Column name                      |Column Content Type              |\n",
            "+=================================+=================================+\n",
            "|totChol                          |categorical_hash                 |\n",
            "|BMI                              |categorical_hash                 |\n",
            "+---------------------------------+---------------------------------+\n",
            "\n",
            "****************************************************************************************************\n",
            "\n",
            "****************************************************************************************************\n",
            "ITERATION: The iteration being evaluated.\n",
            "PIPELINE: A summary description of the pipeline being evaluated.\n",
            "DURATION: Time taken for the current iteration.\n",
            "METRIC: The result of computing score on the fitted pipeline.\n",
            "BEST: The best observed score thus far.\n",
            "****************************************************************************************************\n",
            "\n",
            " ITERATION   PIPELINE                                       DURATION      METRIC      BEST\n",
            "         0   MaxAbsScaler LightGBM                          0:00:46       0.8321    0.8321\n",
            "         1   MaxAbsScaler XGBoostClassifier                 0:00:44       0.8472    0.8472\n",
            "         2   MaxAbsScaler RandomForest                      0:03:12       0.8481    0.8481\n",
            "         3   MaxAbsScaler RandomForest                      0:00:44       0.8481    0.8481\n",
            "         4   MaxAbsScaler RandomForest                      0:03:11       0.5882    0.8481\n",
            "         5   MaxAbsScaler RandomForest                      0:03:09       0.6521    0.8481\n",
            "         6   SparseNormalizer LightGBM                      0:00:42       0.8462    0.8481\n",
            "         7   SparseNormalizer XGBoostClassifier             0:00:42       0.8427    0.8481\n",
            "        10   StandardScalerWrapper LightGBM                 0:00:48       0.8455    0.8481\n",
            "        11   MaxAbsScaler LogisticRegression                0:00:42       0.8226    0.8481\n",
            "         8   MaxAbsScaler LogisticRegression                0:00:41       0.8064    0.8481\n",
            "         9   StandardScalerWrapper RandomForest             0:00:45       0.8481    0.8481\n",
            "        12   MaxAbsScaler LightGBM                          0:00:47       0.8469    0.8481\n",
            "        13   SparseNormalizer XGBoostClassifier             0:00:49       0.8358    0.8481\n",
            "        14   SparseNormalizer XGBoostClassifier             0:00:49       0.8401    0.8481\n",
            "        15   SparseNormalizer XGBoostClassifier             0:00:45       0.8396    0.8481\n",
            "        16   StandardScalerWrapper ExtremeRandomTrees       0:00:45       0.8481    0.8481\n",
            "        17   StandardScalerWrapper ExtremeRandomTrees       0:00:49       0.8481    0.8481\n",
            "        18   StandardScalerWrapper LightGBM                 0:00:51       0.8481    0.8481\n",
            "        19   SparseNormalizer LightGBM                      0:00:44       0.8439    0.8481\n",
            "        20   SparseNormalizer XGBoostClassifier             0:00:56       0.8340    0.8481\n",
            "        21   StandardScalerWrapper XGBoostClassifier        0:00:52       0.8366    0.8481\n",
            "        22   StandardScalerWrapper XGBoostClassifier        0:00:59       0.8245    0.8481\n",
            "        23   SparseNormalizer XGBoostClassifier             0:00:49       0.8403    0.8481\n",
            "        24   SparseNormalizer XGBoostClassifier             0:00:49       0.8432    0.8481\n",
            "        25   TruncatedSVDWrapper RandomForest               0:00:48       0.8481    0.8481\n",
            "        26   StandardScalerWrapper LightGBM                 0:00:50       0.8469    0.8481\n",
            "        27   StandardScalerWrapper LightGBM                 0:00:51       0.8481    0.8481\n",
            "        28   MaxAbsScaler LightGBM                          0:00:48       0.8481    0.8481\n",
            "        29   StandardScalerWrapper LightGBM                 0:00:43       0.8469    0.8481\n",
            "        30   SparseNormalizer RandomForest                  0:00:54       0.8481    0.8481\n",
            "        31   StandardScalerWrapper LightGBM                 0:00:52       0.8467    0.8481\n",
            "        32   SparseNormalizer XGBoostClassifier             0:00:45       0.8455    0.8481\n",
            "        33   StandardScalerWrapper ExtremeRandomTrees       0:00:26          nan    0.8481\n",
            "        34                                                  0:00:14          nan    0.8481\n",
            "        35                                                  0:00:20          nan    0.8481\n",
            "        36    VotingEnsemble                                0:00:54       0.8481    0.8481\n",
            "        37    StackEnsemble                                 0:01:12       0.8413    0.8481\n"
          ]
        },
        {
          "output_type": "execute_result",
          "execution_count": 10,
          "data": {
            "text/plain": "{'runId': 'AutoML_6ebf3996-cf8f-42a4-9bd0-9732d46ccf65',\n 'target': 'Compute-Cluster',\n 'status': 'Completed',\n 'startTimeUtc': '2021-03-31T16:12:03.612896Z',\n 'endTimeUtc': '2021-03-31T16:35:01.325079Z',\n 'properties': {'num_iterations': '1000',\n  'training_type': 'TrainFull',\n  'acquisition_function': 'EI',\n  'primary_metric': 'accuracy',\n  'train_split': '0',\n  'acquisition_parameter': '0',\n  'num_cross_validation': None,\n  'target': 'Compute-Cluster',\n  'AMLSettingsJsonString': '{\"path\":null,\"name\":\"Framingham-Experiment\",\"subscription_id\":\"a24a24d5-8d87-4c8a-99b6-91ed2d2df51f\",\"resource_group\":\"aml-quickstarts-141698\",\"workspace_name\":\"quick-starts-ws-141698\",\"region\":\"southcentralus\",\"compute_target\":\"Compute-Cluster\",\"spark_service\":null,\"azure_service\":\"remote\",\"many_models\":false,\"pipeline_fetch_max_batch_size\":1,\"enable_batch_run\":false,\"iterations\":1000,\"primary_metric\":\"accuracy\",\"task_type\":\"classification\",\"data_script\":null,\"validation_size\":0.0,\"n_cross_validations\":null,\"y_min\":null,\"y_max\":null,\"num_classes\":null,\"featurization\":\"auto\",\"_ignore_package_version_incompatibilities\":false,\"is_timeseries\":false,\"max_cores_per_iteration\":1,\"max_concurrent_iterations\":4,\"iteration_timeout_minutes\":null,\"mem_in_mb\":null,\"enforce_time_on_windows\":false,\"experiment_timeout_minutes\":30,\"experiment_exit_score\":null,\"whitelist_models\":null,\"blacklist_algos\":[\"TensorFlowLinearClassifier\",\"TensorFlowDNN\"],\"supported_models\":[\"BernoulliNaiveBayes\",\"KNN\",\"AveragedPerceptronClassifier\",\"GradientBoosting\",\"XGBoostClassifier\",\"RandomForest\",\"LogisticRegression\",\"DecisionTree\",\"LinearSVM\",\"SVM\",\"MultinomialNaiveBayes\",\"TensorFlowDNN\",\"ExtremeRandomTrees\",\"LightGBM\",\"TensorFlowLinearClassifier\",\"SGD\"],\"private_models\":[],\"auto_blacklist\":true,\"blacklist_samples_reached\":false,\"exclude_nan_labels\":true,\"verbosity\":20,\"_debug_log\":\"azureml_automl.log\",\"show_warnings\":false,\"model_explainability\":true,\"service_url\":null,\"sdk_url\":null,\"sdk_packages\":null,\"enable_onnx_compatible_models\":false,\"enable_split_onnx_featurizer_estimator_models\":false,\"vm_type\":\"STANDARD_D2_V2\",\"telemetry_verbosity\":20,\"send_telemetry\":true,\"enable_dnn\":false,\"scenario\":\"SDK-1.13.0\",\"environment_label\":null,\"save_mlflow\":false,\"force_text_dnn\":false,\"enable_feature_sweeping\":true,\"enable_early_stopping\":true,\"early_stopping_n_iters\":10,\"metrics\":null,\"enable_metric_confidence\":false,\"enable_ensembling\":true,\"enable_stack_ensembling\":true,\"ensemble_iterations\":15,\"enable_tf\":false,\"enable_subsampling\":null,\"subsample_seed\":null,\"enable_nimbusml\":false,\"enable_streaming\":false,\"force_streaming\":false,\"track_child_runs\":true,\"allowed_private_models\":[],\"label_column_name\":\"TenYearCHD\",\"weight_column_name\":null,\"cv_split_column_names\":null,\"enable_local_managed\":false,\"_local_managed_run_id\":null,\"cost_mode\":1,\"lag_length\":0,\"metric_operation\":\"maximize\",\"preprocess\":true}',\n  'DataPrepJsonString': '{\\\\\"training_data\\\\\": \\\\\"{\\\\\\\\\\\\\"blocks\\\\\\\\\\\\\": [{\\\\\\\\\\\\\"id\\\\\\\\\\\\\": \\\\\\\\\\\\\"a4d2a9ac-96f7-40fd-bcba-c49cfaff401f\\\\\\\\\\\\\", \\\\\\\\\\\\\"type\\\\\\\\\\\\\": \\\\\\\\\\\\\"Microsoft.DPrep.GetFilesBlock\\\\\\\\\\\\\", \\\\\\\\\\\\\"arguments\\\\\\\\\\\\\": {\\\\\\\\\\\\\"isArchive\\\\\\\\\\\\\": false, \\\\\\\\\\\\\"path\\\\\\\\\\\\\": {\\\\\\\\\\\\\"target\\\\\\\\\\\\\": 4, \\\\\\\\\\\\\"resourceDetails\\\\\\\\\\\\\": [{\\\\\\\\\\\\\"path\\\\\\\\\\\\\": \\\\\\\\\\\\\"https://raw.githubusercontent.com/Haris-09/Coronary-Heart-Disease-Prediction-Capstone-Project/master/starter_file/framingham.csv\\\\\\\\\\\\\"}]}}, \\\\\\\\\\\\\"localData\\\\\\\\\\\\\": {}, \\\\\\\\\\\\\"isEnabled\\\\\\\\\\\\\": true, \\\\\\\\\\\\\"name\\\\\\\\\\\\\": null, \\\\\\\\\\\\\"annotation\\\\\\\\\\\\\": null}, {\\\\\\\\\\\\\"id\\\\\\\\\\\\\": \\\\\\\\\\\\\"2d90d6da-6b80-4453-a383-d80e4541ec95\\\\\\\\\\\\\", \\\\\\\\\\\\\"type\\\\\\\\\\\\\": \\\\\\\\\\\\\"Microsoft.DPrep.ParseDelimitedBlock\\\\\\\\\\\\\", \\\\\\\\\\\\\"arguments\\\\\\\\\\\\\": {\\\\\\\\\\\\\"columnHeadersMode\\\\\\\\\\\\\": 3, \\\\\\\\\\\\\"fileEncoding\\\\\\\\\\\\\": 0, \\\\\\\\\\\\\"handleQuotedLineBreaks\\\\\\\\\\\\\": false, \\\\\\\\\\\\\"preview\\\\\\\\\\\\\": false, \\\\\\\\\\\\\"separator\\\\\\\\\\\\\": \\\\\\\\\\\\\",\\\\\\\\\\\\\", \\\\\\\\\\\\\"skipRows\\\\\\\\\\\\\": 0, \\\\\\\\\\\\\"skipRowsMode\\\\\\\\\\\\\": 0}, \\\\\\\\\\\\\"localData\\\\\\\\\\\\\": {}, \\\\\\\\\\\\\"isEnabled\\\\\\\\\\\\\": true, \\\\\\\\\\\\\"name\\\\\\\\\\\\\": null, \\\\\\\\\\\\\"annotation\\\\\\\\\\\\\": null}, {\\\\\\\\\\\\\"id\\\\\\\\\\\\\": \\\\\\\\\\\\\"04bb889e-b30c-4863-ab7e-27a9f7d9ff56\\\\\\\\\\\\\", \\\\\\\\\\\\\"type\\\\\\\\\\\\\": \\\\\\\\\\\\\"Microsoft.DPrep.DropColumnsBlock\\\\\\\\\\\\\", \\\\\\\\\\\\\"arguments\\\\\\\\\\\\\": {\\\\\\\\\\\\\"columns\\\\\\\\\\\\\": {\\\\\\\\\\\\\"type\\\\\\\\\\\\\": 0, \\\\\\\\\\\\\"details\\\\\\\\\\\\\": {\\\\\\\\\\\\\"selectedColumns\\\\\\\\\\\\\": [\\\\\\\\\\\\\"Path\\\\\\\\\\\\\"]}}}, \\\\\\\\\\\\\"localData\\\\\\\\\\\\\": {}, \\\\\\\\\\\\\"isEnabled\\\\\\\\\\\\\": true, \\\\\\\\\\\\\"name\\\\\\\\\\\\\": null, \\\\\\\\\\\\\"annotation\\\\\\\\\\\\\": null}, {\\\\\\\\\\\\\"id\\\\\\\\\\\\\": \\\\\\\\\\\\\"785e0385-9364-4616-bb44-826eaab21c42\\\\\\\\\\\\\", \\\\\\\\\\\\\"type\\\\\\\\\\\\\": \\\\\\\\\\\\\"Microsoft.DPrep.SetColumnTypesBlock\\\\\\\\\\\\\", \\\\\\\\\\\\\"arguments\\\\\\\\\\\\\": {\\\\\\\\\\\\\"columnConversion\\\\\\\\\\\\\": [{\\\\\\\\\\\\\"column\\\\\\\\\\\\\": {\\\\\\\\\\\\\"type\\\\\\\\\\\\\": 2, \\\\\\\\\\\\\"details\\\\\\\\\\\\\": {\\\\\\\\\\\\\"selectedColumn\\\\\\\\\\\\\": \\\\\\\\\\\\\"male\\\\\\\\\\\\\"}}, \\\\\\\\\\\\\"typeProperty\\\\\\\\\\\\\": 2}, {\\\\\\\\\\\\\"column\\\\\\\\\\\\\": {\\\\\\\\\\\\\"type\\\\\\\\\\\\\": 2, \\\\\\\\\\\\\"details\\\\\\\\\\\\\": {\\\\\\\\\\\\\"selectedColumn\\\\\\\\\\\\\": \\\\\\\\\\\\\"age\\\\\\\\\\\\\"}}, \\\\\\\\\\\\\"typeProperty\\\\\\\\\\\\\": 2}, {\\\\\\\\\\\\\"column\\\\\\\\\\\\\": {\\\\\\\\\\\\\"type\\\\\\\\\\\\\": 2, \\\\\\\\\\\\\"details\\\\\\\\\\\\\": {\\\\\\\\\\\\\"selectedColumn\\\\\\\\\\\\\": \\\\\\\\\\\\\"education\\\\\\\\\\\\\"}}, \\\\\\\\\\\\\"typeProperty\\\\\\\\\\\\\": 0}, {\\\\\\\\\\\\\"column\\\\\\\\\\\\\": {\\\\\\\\\\\\\"type\\\\\\\\\\\\\": 2, \\\\\\\\\\\\\"details\\\\\\\\\\\\\": {\\\\\\\\\\\\\"selectedColumn\\\\\\\\\\\\\": \\\\\\\\\\\\\"currentSmoker\\\\\\\\\\\\\"}}, \\\\\\\\\\\\\"typeProperty\\\\\\\\\\\\\": 2}, {\\\\\\\\\\\\\"column\\\\\\\\\\\\\": {\\\\\\\\\\\\\"type\\\\\\\\\\\\\": 2, \\\\\\\\\\\\\"details\\\\\\\\\\\\\": {\\\\\\\\\\\\\"selectedColumn\\\\\\\\\\\\\": \\\\\\\\\\\\\"cigsPerDay\\\\\\\\\\\\\"}}, \\\\\\\\\\\\\"typeProperty\\\\\\\\\\\\\": 0}, {\\\\\\\\\\\\\"column\\\\\\\\\\\\\": {\\\\\\\\\\\\\"type\\\\\\\\\\\\\": 2, \\\\\\\\\\\\\"details\\\\\\\\\\\\\": {\\\\\\\\\\\\\"selectedColumn\\\\\\\\\\\\\": \\\\\\\\\\\\\"BPMeds\\\\\\\\\\\\\"}}, \\\\\\\\\\\\\"typeProperty\\\\\\\\\\\\\": 0}, {\\\\\\\\\\\\\"column\\\\\\\\\\\\\": {\\\\\\\\\\\\\"type\\\\\\\\\\\\\": 2, \\\\\\\\\\\\\"details\\\\\\\\\\\\\": {\\\\\\\\\\\\\"selectedColumn\\\\\\\\\\\\\": \\\\\\\\\\\\\"prevalentStroke\\\\\\\\\\\\\"}}, \\\\\\\\\\\\\"typeProperty\\\\\\\\\\\\\": 2}, {\\\\\\\\\\\\\"column\\\\\\\\\\\\\": {\\\\\\\\\\\\\"type\\\\\\\\\\\\\": 2, \\\\\\\\\\\\\"details\\\\\\\\\\\\\": {\\\\\\\\\\\\\"selectedColumn\\\\\\\\\\\\\": \\\\\\\\\\\\\"prevalentHyp\\\\\\\\\\\\\"}}, \\\\\\\\\\\\\"typeProperty\\\\\\\\\\\\\": 2}, {\\\\\\\\\\\\\"column\\\\\\\\\\\\\": {\\\\\\\\\\\\\"type\\\\\\\\\\\\\": 2, \\\\\\\\\\\\\"details\\\\\\\\\\\\\": {\\\\\\\\\\\\\"selectedColumn\\\\\\\\\\\\\": \\\\\\\\\\\\\"diabetes\\\\\\\\\\\\\"}}, \\\\\\\\\\\\\"typeProperty\\\\\\\\\\\\\": 2}, {\\\\\\\\\\\\\"column\\\\\\\\\\\\\": {\\\\\\\\\\\\\"type\\\\\\\\\\\\\": 2, \\\\\\\\\\\\\"details\\\\\\\\\\\\\": {\\\\\\\\\\\\\"selectedColumn\\\\\\\\\\\\\": \\\\\\\\\\\\\"totChol\\\\\\\\\\\\\"}}, \\\\\\\\\\\\\"typeProperty\\\\\\\\\\\\\": 0}, {\\\\\\\\\\\\\"column\\\\\\\\\\\\\": {\\\\\\\\\\\\\"type\\\\\\\\\\\\\": 2, \\\\\\\\\\\\\"details\\\\\\\\\\\\\": {\\\\\\\\\\\\\"selectedColumn\\\\\\\\\\\\\": \\\\\\\\\\\\\"sysBP\\\\\\\\\\\\\"}}, \\\\\\\\\\\\\"typeProperty\\\\\\\\\\\\\": 3}, {\\\\\\\\\\\\\"column\\\\\\\\\\\\\": {\\\\\\\\\\\\\"type\\\\\\\\\\\\\": 2, \\\\\\\\\\\\\"details\\\\\\\\\\\\\": {\\\\\\\\\\\\\"selectedColumn\\\\\\\\\\\\\": \\\\\\\\\\\\\"diaBP\\\\\\\\\\\\\"}}, \\\\\\\\\\\\\"typeProperty\\\\\\\\\\\\\": 3}, {\\\\\\\\\\\\\"column\\\\\\\\\\\\\": {\\\\\\\\\\\\\"type\\\\\\\\\\\\\": 2, \\\\\\\\\\\\\"details\\\\\\\\\\\\\": {\\\\\\\\\\\\\"selectedColumn\\\\\\\\\\\\\": \\\\\\\\\\\\\"BMI\\\\\\\\\\\\\"}}, \\\\\\\\\\\\\"typeProperty\\\\\\\\\\\\\": 0}, {\\\\\\\\\\\\\"column\\\\\\\\\\\\\": {\\\\\\\\\\\\\"type\\\\\\\\\\\\\": 2, \\\\\\\\\\\\\"details\\\\\\\\\\\\\": {\\\\\\\\\\\\\"selectedColumn\\\\\\\\\\\\\": \\\\\\\\\\\\\"heartRate\\\\\\\\\\\\\"}}, \\\\\\\\\\\\\"typeProperty\\\\\\\\\\\\\": 2}, {\\\\\\\\\\\\\"column\\\\\\\\\\\\\": {\\\\\\\\\\\\\"type\\\\\\\\\\\\\": 2, \\\\\\\\\\\\\"details\\\\\\\\\\\\\": {\\\\\\\\\\\\\"selectedColumn\\\\\\\\\\\\\": \\\\\\\\\\\\\"glucose\\\\\\\\\\\\\"}}, \\\\\\\\\\\\\"typeProperty\\\\\\\\\\\\\": 0}, {\\\\\\\\\\\\\"column\\\\\\\\\\\\\": {\\\\\\\\\\\\\"type\\\\\\\\\\\\\": 2, \\\\\\\\\\\\\"details\\\\\\\\\\\\\": {\\\\\\\\\\\\\"selectedColumn\\\\\\\\\\\\\": \\\\\\\\\\\\\"TenYearCHD\\\\\\\\\\\\\"}}, \\\\\\\\\\\\\"typeProperty\\\\\\\\\\\\\": 2}]}, \\\\\\\\\\\\\"localData\\\\\\\\\\\\\": {}, \\\\\\\\\\\\\"isEnabled\\\\\\\\\\\\\": true, \\\\\\\\\\\\\"name\\\\\\\\\\\\\": null, \\\\\\\\\\\\\"annotation\\\\\\\\\\\\\": null}], \\\\\\\\\\\\\"inspectors\\\\\\\\\\\\\": [], \\\\\\\\\\\\\"meta\\\\\\\\\\\\\": {\\\\\\\\\\\\\"savedDatasetId\\\\\\\\\\\\\": \\\\\\\\\\\\\"9402b2d0-7ead-4db3-90cf-82dc9468cda1\\\\\\\\\\\\\", \\\\\\\\\\\\\"datasetType\\\\\\\\\\\\\": \\\\\\\\\\\\\"tabular\\\\\\\\\\\\\", \\\\\\\\\\\\\"subscriptionId\\\\\\\\\\\\\": \\\\\\\\\\\\\"a24a24d5-8d87-4c8a-99b6-91ed2d2df51f\\\\\\\\\\\\\", \\\\\\\\\\\\\"workspaceId\\\\\\\\\\\\\": \\\\\\\\\\\\\"6905bfa4-c708-497b-a17d-3700c0d7a0ad\\\\\\\\\\\\\", \\\\\\\\\\\\\"workspaceLocation\\\\\\\\\\\\\": \\\\\\\\\\\\\"southcentralus\\\\\\\\\\\\\", \\\\\\\\\\\\\"partition_keys\\\\\\\\\\\\\": \\\\\\\\\\\\\"true\\\\\\\\\\\\\"}}\\\\\", \\\\\"activities\\\\\": 0}',\n  'EnableSubsampling': None,\n  'runTemplate': 'AutoML',\n  'azureml.runsource': 'automl',\n  'display_task_type': 'classification',\n  'dependencies_versions': '{\"azureml-widgets\": \"1.24.0\", \"azureml-train\": \"1.24.0\", \"azureml-train-restclients-hyperdrive\": \"1.24.0\", \"azureml-train-core\": \"1.24.0\", \"azureml-train-automl-client\": \"1.24.0\", \"azureml-tensorboard\": \"1.24.0\", \"azureml-telemetry\": \"1.24.0\", \"azureml-sdk\": \"1.24.0\", \"azureml-pipeline\": \"1.24.0\", \"azureml-pipeline-steps\": \"1.24.0\", \"azureml-pipeline-core\": \"1.24.0\", \"azureml-opendatasets\": \"1.24.0\", \"azureml-model-management-sdk\": \"1.0.1b6.post1\", \"azureml-mlflow\": \"1.24.0\", \"azureml-interpret\": \"1.24.0\", \"azureml-explain-model\": \"1.24.0\", \"azureml-defaults\": \"1.24.0\", \"azureml-dataset-runtime\": \"1.24.0\", \"azureml-dataprep\": \"2.11.1\", \"azureml-dataprep-rslex\": \"1.9.0\", \"azureml-dataprep-native\": \"30.0.0\", \"azureml-datadrift\": \"1.24.0\", \"azureml-core\": \"1.24.0\", \"azureml-contrib-services\": \"1.24.0\", \"azureml-contrib-server\": \"1.24.0\", \"azureml-contrib-reinforcementlearning\": \"1.24.0\", \"azureml-contrib-pipeline-steps\": \"1.24.0\", \"azureml-contrib-notebook\": \"1.24.0\", \"azureml-contrib-gbdt\": \"1.24.0\", \"azureml-contrib-fairness\": \"1.24.0\", \"azureml-contrib-dataset\": \"1.24.0\", \"azureml-cli-common\": \"1.24.0\", \"azureml-automl-core\": \"1.24.0\", \"azureml-accel-models\": \"1.24.0\"}',\n  '_aml_system_scenario_identification': 'Remote.Parent',\n  'ClientType': 'SDK',\n  'environment_cpu_name': 'AzureML-AutoML',\n  'environment_cpu_label': 'prod',\n  'environment_gpu_name': 'AzureML-AutoML-GPU',\n  'environment_gpu_label': 'prod',\n  'root_attribution': 'automl',\n  'attribution': 'AutoML',\n  'Orchestrator': 'AutoML',\n  'CancelUri': 'https://southcentralus.experiments.azureml.net/jasmine/v1.0/subscriptions/a24a24d5-8d87-4c8a-99b6-91ed2d2df51f/resourceGroups/aml-quickstarts-141698/providers/Microsoft.MachineLearningServices/workspaces/quick-starts-ws-141698/experimentids/6ff29bd9-0eb0-43ee-b6e0-30df4861ce2f/cancel/AutoML_6ebf3996-cf8f-42a4-9bd0-9732d46ccf65',\n  'ClientSdkVersion': '1.24.0',\n  'snapshotId': '00000000-0000-0000-0000-000000000000',\n  'SetupRunId': 'AutoML_6ebf3996-cf8f-42a4-9bd0-9732d46ccf65_setup',\n  'SetupRunContainerId': 'dcid.AutoML_6ebf3996-cf8f-42a4-9bd0-9732d46ccf65_setup',\n  'FeaturizationRunJsonPath': 'featurizer_container.json',\n  'FeaturizationRunId': 'AutoML_6ebf3996-cf8f-42a4-9bd0-9732d46ccf65_featurize',\n  'ProblemInfoJsonString': '{\"dataset_num_categorical\": 0, \"is_sparse\": true, \"subsampling\": false, \"dataset_classes\": 2, \"dataset_features\": 1385, \"dataset_samples\": 4240, \"single_frequency_class_detected\": false}',\n  'ModelExplainRunId': 'AutoML_6ebf3996-cf8f-42a4-9bd0-9732d46ccf65_ModelExplain'},\n 'inputDatasets': [{'dataset': {'id': '9402b2d0-7ead-4db3-90cf-82dc9468cda1'}, 'consumptionDetails': {'type': 'RunInput', 'inputName': 'training_data', 'mechanism': 'Direct'}}],\n 'outputDatasets': [],\n 'logFiles': {},\n 'submittedBy': 'ODL_User 141698'}"
          },
          "metadata": {}
        }
      ],
      "execution_count": 10,
      "metadata": {
        "gather": {
          "logged": 1617208725590
        }
      }
    },
    {
      "cell_type": "markdown",
      "source": [
        "## Best Model\n",
        "\n",
        "TODO: In the cell below, get the best model from the automl experiments and display all the properties of the model.\n",
        "\n"
      ],
      "metadata": {}
    },
    {
      "cell_type": "code",
      "source": [
        "best_automl_run, best_automl_model = remote_run.get_output()\n",
        "\n",
        "print('Best Run Id: ' + best_automl_run.id,\n",
        "     'Best Model Name: ' + best_automl_run.properties['model_name'],\n",
        "     )"
      ],
      "outputs": [
        {
          "output_type": "stream",
          "name": "stderr",
          "text": [
            "WARNING:root:The model you attempted to retrieve requires 'azureml-train-automl-runtime' to be installed at '==1.24.0'. Please install 'azureml-train-automl-runtime==1.24.0' (e.g. `pip install azureml-train-automl-runtime==1.24.0`) and then rerun the previous command.\n"
          ]
        },
        {
          "output_type": "stream",
          "name": "stdout",
          "text": [
            "Best Run Id: AutoML_6ebf3996-cf8f-42a4-9bd0-9732d46ccf65_3 Best Model Name: AutoML6ebf3996c3\n"
          ]
        }
      ],
      "execution_count": 11,
      "metadata": {
        "gather": {
          "logged": 1617208729458
        },
        "jupyter": {
          "outputs_hidden": false,
          "source_hidden": false
        },
        "nteract": {
          "transient": {
            "deleting": false
          }
        }
      }
    },
    {
      "cell_type": "code",
      "source": [
        "best_run_metrics = best_automl_run.get_metrics()\n",
        "\n",
        "for metric_name in best_run_metrics:\n",
        "    metric = best_run_metrics[metric_name]\n",
        "    print(metric_name,\":\" , metric)"
      ],
      "outputs": [
        {
          "output_type": "stream",
          "name": "stdout",
          "text": [
            "average_precision_score_weighted : 0.7768787320960463\n",
            "average_precision_score_macro : 0.5459431627238437\n",
            "log_loss : 0.42257764232117595\n",
            "f1_score_macro : 0.4588892190256147\n",
            "precision_score_weighted : 0.719420921315527\n",
            "AUC_micro : 0.8737676584972626\n",
            "average_precision_score_micro : 0.8387114367332881\n",
            "matthews_correlation : 0.0\n",
            "f1_score_micro : 0.8481155819555264\n",
            "f1_score_weighted : 0.7784527258598235\n",
            "norm_macro_recall : 0.0\n",
            "balanced_accuracy : 0.5\n",
            "accuracy : 0.8481155819555264\n",
            "recall_score_macro : 0.5\n",
            "precision_score_micro : 0.8481155819555264\n",
            "precision_score_macro : 0.4240577909777632\n",
            "AUC_macro : 0.5957664141241882\n",
            "weighted_accuracy : 0.9686688438245291\n",
            "recall_score_micro : 0.8481155819555264\n",
            "recall_score_weighted : 0.8481155819555264\n",
            "AUC_weighted : 0.5957664141241882\n",
            "accuracy_table : aml://artifactId/ExperimentRun/dcid.AutoML_6ebf3996-cf8f-42a4-9bd0-9732d46ccf65_3/accuracy_table\n",
            "confusion_matrix : aml://artifactId/ExperimentRun/dcid.AutoML_6ebf3996-cf8f-42a4-9bd0-9732d46ccf65_3/confusion_matrix\n"
          ]
        }
      ],
      "execution_count": 12,
      "metadata": {
        "gather": {
          "logged": 1617208732122
        }
      }
    },
    {
      "cell_type": "code",
      "source": [
        "#TODO: Save the best model\n",
        "automodel = best_automl_run.register_model(model_name='best_automl_model', \n",
        "                                    model_path='outputs/model.pkl',\n",
        "                                    tags={'Method':'AutoML'},\n",
        "                                    properties={'Accuracy': best_run_metrics['accuracy']})"
      ],
      "outputs": [],
      "execution_count": 13,
      "metadata": {
        "gather": {
          "logged": 1617208733708
        },
        "jupyter": {
          "outputs_hidden": false,
          "source_hidden": false
        },
        "nteract": {
          "transient": {
            "deleting": false
          }
        }
      }
    },
    {
      "cell_type": "markdown",
      "source": [
        "## Model Deployment\n",
        "\n",
        "Remember you have to deploy only one of the two models you trained.. Perform the steps in the rest of this notebook only if you wish to deploy this model.\n",
        "\n",
        "TODO: In the cell below, register the model, create an inference config and deploy the model as a web service."
      ],
      "metadata": {}
    },
    {
      "cell_type": "code",
      "source": [
        "# Download scoring file \n",
        "best_automl_run.download_file('outputs/scoring_file_v_1_0_0.py', 'score.py')\n",
        "\n",
        "# Download environment file\n",
        "best_automl_run.download_file('outputs/conda_env_v_1_0_0.yml', 'env.yml')"
      ],
      "outputs": [],
      "execution_count": 14,
      "metadata": {
        "gather": {
          "logged": 1617208734015
        },
        "jupyter": {
          "outputs_hidden": false,
          "source_hidden": false
        },
        "nteract": {
          "transient": {
            "deleting": false
          }
        }
      }
    },
    {
      "cell_type": "code",
      "source": [
        "from azureml.core.webservice import AciWebservice, Webservice\n",
        "aciconfig = AciWebservice.deploy_configuration(cpu_cores=1, \n",
        "                                               memory_gb=1, \n",
        "                                               description='Framingham Heart Disease Prediction with AutoML')"
      ],
      "outputs": [],
      "execution_count": 15,
      "metadata": {
        "gather": {
          "logged": 1617208734245
        }
      }
    },
    {
      "cell_type": "code",
      "source": [
        "from azureml.core.model import InferenceConfig, Model\n",
        "inference_config = InferenceConfig(entry_script=\"score.py\", environment=best_automl_run.get_environment())\n",
        "\n",
        "service = Model.deploy(workspace=ws, \n",
        "                       name='automl-webservice', \n",
        "                       models=[automodel], \n",
        "                       inference_config=inference_config, \n",
        "                       deployment_config=aciconfig)"
      ],
      "outputs": [],
      "execution_count": 16,
      "metadata": {
        "gather": {
          "logged": 1617208737067
        }
      }
    },
    {
      "cell_type": "code",
      "source": [
        "service.wait_for_deployment(show_output=True)"
      ],
      "outputs": [
        {
          "output_type": "stream",
          "name": "stdout",
          "text": [
            "Tips: You can try get_logs(): https://aka.ms/debugimage#dockerlog or local deployment: https://aka.ms/debugimage#debug-locally to debug if deployment takes longer than 10 minutes.\n",
            "Running\n",
            "2021-03-31 16:38:55+00:00 Creating Container Registry if not exists.\n",
            "2021-03-31 16:38:55+00:00 Registering the environment.\n",
            "2021-03-31 16:38:56+00:00 Use the existing image.\n",
            "2021-03-31 16:38:57+00:00 Submitting deployment to compute..\n",
            "2021-03-31 16:39:16+00:00 Checking the status of deployment automl-webservice..\n",
            "2021-03-31 16:41:48+00:00 Checking the status of inference endpoint automl-webservice.\n",
            "Succeeded\n",
            "ACI service creation operation finished, operation \"Succeeded\"\n"
          ]
        }
      ],
      "execution_count": 17,
      "metadata": {
        "gather": {
          "logged": 1617208929341
        }
      }
    },
    {
      "cell_type": "code",
      "source": [
        "print(\"Service State: \",service.state)\n",
        "print(\"Scoring URI: \",service.scoring_uri)\n",
        "print(\"Swagger URI: \",service.swagger_uri)"
      ],
      "outputs": [
        {
          "output_type": "stream",
          "name": "stdout",
          "text": [
            "Service State:  Healthy\n",
            "Scoring URI:  http://4344bb92-6df2-465b-b3cb-b5f01b4707c4.southcentralus.azurecontainer.io/score\n",
            "Swagger URI:  http://4344bb92-6df2-465b-b3cb-b5f01b4707c4.southcentralus.azurecontainer.io/swagger.json\n"
          ]
        }
      ],
      "execution_count": 18,
      "metadata": {
        "gather": {
          "logged": 1617208929595
        }
      }
    },
    {
      "cell_type": "markdown",
      "source": [
        "TODO: In the cell below, send a request to the web service you deployed to test it."
      ],
      "metadata": {
        "collapsed": true,
        "gather": {
          "logged": 1598431657736
        },
        "jupyter": {
          "outputs_hidden": false,
          "source_hidden": false
        },
        "nteract": {
          "transient": {
            "deleting": false
          }
        }
      }
    },
    {
      "cell_type": "code",
      "source": [
        "\n",
        "data = {\n",
        "    \"data\": [\n",
        "        {\n",
        "            'male': 0,\n",
        "            'age': 55,\n",
        "            'education': 4 ,\n",
        "            'currentSmoker': 1,\n",
        "            'cigsPerDay': 20,\n",
        "            'BPMeds': 0,\n",
        "            'prevalentStroke': 0,\n",
        "            'prevalentHyp': 0,\n",
        "            'diabetes': 0,\n",
        "            'totChol': 285,\n",
        "            'sysBP': 175,\n",
        "            'diaBP': 84,\n",
        "            'BMI': 25.50,\n",
        "            'heartRate': 93,\n",
        "            'glucose': 87\n",
        "        },\n",
        "        {\n",
        "            'male': 1,\n",
        "            'age': 40,\n",
        "            'education': 4 ,\n",
        "            'currentSmoker': 0,\n",
        "            'cigsPerDay': 30,\n",
        "            'BPMeds': 0,\n",
        "            'prevalentStroke': 0,\n",
        "            'prevalentHyp': 0,\n",
        "            'diabetes': 0,\n",
        "            'totChol': 228,\n",
        "            'sysBP': 121,\n",
        "            'diaBP': 110,\n",
        "            'BMI': 30.30,\n",
        "            'heartRate': 80,\n",
        "            'glucose': 80\n",
        "        }\n",
        "    ]\n",
        "}\n",
        "\n",
        "data_sample = json.dumps(data)"
      ],
      "outputs": [],
      "execution_count": 19,
      "metadata": {
        "gather": {
          "logged": 1617208929946
        },
        "jupyter": {
          "outputs_hidden": false,
          "source_hidden": false
        },
        "nteract": {
          "transient": {
            "deleting": false
          }
        }
      }
    },
    {
      "cell_type": "code",
      "source": [
        "scoring_uri = service.scoring_uri\n",
        "input_data = data_sample\n",
        "\n",
        "# Set the content type\n",
        "headers = {'Content-Type': 'application/json'}\n",
        "\n",
        "# Make the request and display the response\n",
        "response = requests.post(scoring_uri, input_data, headers=headers)\n",
        "response.json()"
      ],
      "outputs": [
        {
          "output_type": "execute_result",
          "execution_count": 20,
          "data": {
            "text/plain": "'{\"result\": [0, 0]}'"
          },
          "metadata": {}
        }
      ],
      "execution_count": 20,
      "metadata": {
        "gather": {
          "logged": 1617208930260
        }
      }
    },
    {
      "cell_type": "markdown",
      "source": [
        "TODO: In the cell below, print the logs of the web service and delete the service"
      ],
      "metadata": {
        "collapsed": true,
        "gather": {
          "logged": 1598432765711
        },
        "jupyter": {
          "outputs_hidden": false,
          "source_hidden": false
        },
        "nteract": {
          "transient": {
            "deleting": false
          }
        }
      }
    },
    {
      "cell_type": "code",
      "source": [
        "service.get_logs()"
      ],
      "outputs": [
        {
          "output_type": "execute_result",
          "execution_count": 21,
          "data": {
            "text/plain": "'2021-03-31T16:41:45,895922900+00:00 - iot-server/run \\n2021-03-31T16:41:45,894883500+00:00 - gunicorn/run \\n2021-03-31T16:41:45,914095400+00:00 - nginx/run \\n/usr/sbin/nginx: /azureml-envs/azureml_2b14f450572e78de640d54eaabed5e4d/lib/libcrypto.so.1.0.0: no version information available (required by /usr/sbin/nginx)\\n/usr/sbin/nginx: /azureml-envs/azureml_2b14f450572e78de640d54eaabed5e4d/lib/libcrypto.so.1.0.0: no version information available (required by /usr/sbin/nginx)\\n/usr/sbin/nginx: /azureml-envs/azureml_2b14f450572e78de640d54eaabed5e4d/lib/libssl.so.1.0.0: no version information available (required by /usr/sbin/nginx)\\n/usr/sbin/nginx: /azureml-envs/azureml_2b14f450572e78de640d54eaabed5e4d/lib/libssl.so.1.0.0: no version information available (required by /usr/sbin/nginx)\\n/usr/sbin/nginx: /azureml-envs/azureml_2b14f450572e78de640d54eaabed5e4d/lib/libssl.so.1.0.0: no version information available (required by /usr/sbin/nginx)\\n2021-03-31T16:41:45,943850500+00:00 - rsyslog/run \\nrsyslogd: /azureml-envs/azureml_2b14f450572e78de640d54eaabed5e4d/lib/libuuid.so.1: no version information available (required by rsyslogd)\\nEdgeHubConnectionString and IOTEDGE_IOTHUBHOSTNAME are not set. Exiting...\\n2021-03-31T16:41:47,745996300+00:00 - iot-server/finish 1 0\\n2021-03-31T16:41:47,751852000+00:00 - Exit code 1 is normal. Not restarting iot-server.\\nStarting gunicorn 19.9.0\\nListening at: http://127.0.0.1:31311 (66)\\nUsing worker: sync\\nworker timeout is set to 300\\nBooting worker with pid: 97\\nSPARK_HOME not set. Skipping PySpark Initialization.\\nGenerating new fontManager, this may take some time...\\nInitializing logger\\n2021-03-31 16:41:53,774 | root | INFO | Starting up app insights client\\n2021-03-31 16:41:53,774 | root | INFO | Starting up request id generator\\n2021-03-31 16:41:53,775 | root | INFO | Starting up app insight hooks\\n2021-03-31 16:41:53,775 | root | INFO | Invoking user\\'s init function\\n2021-03-31 16:42:04,588 | azureml.core | WARNING | Failure while loading azureml_run_type_providers. Failed to load entrypoint automl = azureml.train.automl.run:AutoMLRun._from_run_dto with exception (cryptography 3.2 (/azureml-envs/azureml_2b14f450572e78de640d54eaabed5e4d/lib/python3.6/site-packages), Requirement.parse(\\'cryptography<4.0.0,>=3.3.1; extra == \"crypto\"\\'), {\\'PyJWT\\'}).\\nFailure while loading azureml_run_type_providers. Failed to load entrypoint automl = azureml.train.automl.run:AutoMLRun._from_run_dto with exception (cryptography 3.2 (/azureml-envs/azureml_2b14f450572e78de640d54eaabed5e4d/lib/python3.6/site-packages), Requirement.parse(\\'cryptography<4.0.0,>=3.3.1; extra == \"crypto\"\\'), {\\'PyJWT\\'}).\\n2021-03-31 16:42:05,521 | root | INFO | Users\\'s init has completed successfully\\n2021-03-31 16:42:05,547 | root | INFO | Skipping middleware: dbg_model_info as it\\'s not enabled.\\n2021-03-31 16:42:05,547 | root | INFO | Skipping middleware: dbg_resource_usage as it\\'s not enabled.\\n2021-03-31 16:42:05,550 | root | INFO | Scoring timeout is found from os.environ: 60000 ms\\n2021-03-31 16:42:05,575 | root | INFO | 200\\n127.0.0.1 - - [31/Mar/2021:16:42:05 +0000] \"GET /swagger.json HTTP/1.0\" 200 2937 \"-\" \"Go-http-client/1.1\"\\n2021-03-31 16:42:07,922 | root | INFO | 200\\n127.0.0.1 - - [31/Mar/2021:16:42:07 +0000] \"GET /swagger.json HTTP/1.0\" 200 2937 \"-\" \"Go-http-client/1.1\"\\n2021-03-31 16:42:08,211 | root | INFO | Validation Request Content-Type\\n2021-03-31 16:42:08,211 | root | INFO | Scoring Timer is set to 60.0 seconds\\n2021-03-31 16:42:08,397 | root | INFO | 200\\n127.0.0.1 - - [31/Mar/2021:16:42:08 +0000] \"POST /score HTTP/1.0\" 200 22 \"-\" \"python-requests/2.25.1\"\\n'"
          },
          "metadata": {}
        }
      ],
      "execution_count": 21,
      "metadata": {
        "jupyter": {
          "outputs_hidden": false,
          "source_hidden": false
        },
        "nteract": {
          "transient": {
            "deleting": false
          }
        },
        "gather": {
          "logged": 1617208931106
        }
      }
    },
    {
      "cell_type": "code",
      "source": [
        "service.delete()"
      ],
      "outputs": [],
      "execution_count": 37,
      "metadata": {
        "gather": {
          "logged": 1617135033496
        }
      }
    }
  ],
  "metadata": {
    "kernel_info": {
      "name": "python38-azureml"
    },
    "kernelspec": {
      "name": "python38-azureml",
      "language": "python",
      "display_name": "Python 3.8 - AzureML"
    },
    "language_info": {
      "name": "python",
      "version": "3.8.1",
      "mimetype": "text/x-python",
      "codemirror_mode": {
        "name": "ipython",
        "version": 3
      },
      "pygments_lexer": "ipython3",
      "nbconvert_exporter": "python",
      "file_extension": ".py"
    },
    "nteract": {
      "version": "nteract-front-end@1.0.0"
    },
    "microsoft": {
      "host": {
        "AzureML": {
          "notebookHasBeenCompleted": true
        }
      }
    }
  },
  "nbformat": 4,
  "nbformat_minor": 2
}