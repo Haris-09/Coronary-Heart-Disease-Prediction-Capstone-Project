{
  "cells": [
    {
      "cell_type": "markdown",
      "source": [
        "# Automated ML\n",
        "\n",
        "TODO: Import Dependencies. In the cell below, import all the dependencies that you will need to complete the project."
      ],
      "metadata": {}
    },
    {
      "cell_type": "code",
      "source": [
        "from azureml.core.experiment import Experiment\n",
        "from azureml.core.workspace import Workspace\n",
        "from azureml.core.compute import ComputeTarget, AmlCompute\n",
        "from azureml.core.compute_target import ComputeTargetException\n",
        "from azureml.widgets import RunDetails\n",
        "from azureml.data.dataset_factory import TabularDatasetFactory\n",
        "from azureml.train.automl import AutoMLConfig\n",
        "from azureml.core.dataset import Dataset\n",
        "from azureml.core.webservice import AciWebservice, Webservice\n",
        "from azureml.core.model import InferenceConfig, Model\n",
        "import os\n",
        "import joblib\n",
        "import logging\n",
        "import json\n",
        "import requests"
      ],
      "outputs": [],
      "execution_count": 11,
      "metadata": {
        "gather": {
          "logged": 1617293960608
        },
        "jupyter": {
          "outputs_hidden": false,
          "source_hidden": false
        },
        "nteract": {
          "transient": {
            "deleting": false
          }
        }
      }
    },
    {
      "cell_type": "markdown",
      "source": [
        "## Dataset\n",
        "\n",
        "### Overview\n",
        "TODO: In this markdown cell, give an overview of the dataset you are using. Also mention the task you will be performing.\n",
        "\n",
        "\n",
        "TODO: Get data. In the cell below, write code to access the data you will be using in this project. Remember that the dataset needs to be external."
      ],
      "metadata": {}
    },
    {
      "cell_type": "code",
      "source": [
        "ws = Workspace.from_config()\n",
        "print('Workspace Name: ' + ws.name,\n",
        "      'Resource group: ' + ws.resource_group,\n",
        "      'Azure Region: ' + ws.location,\n",
        "      'Subscription Id: ' + ws.subscription_id, sep = '\\n')"
      ],
      "outputs": [
        {
          "output_type": "stream",
          "name": "stdout",
          "text": [
            "Workspace Name: quick-starts-ws-141738\n",
            "Resource group: aml-quickstarts-141738\n",
            "Azure Region: southcentralus\n",
            "Subscription Id: b968fb36-f06a-4c76-a15f-afab68ae7667\n"
          ]
        }
      ],
      "execution_count": 12,
      "metadata": {
        "gather": {
          "logged": 1617293960712
        },
        "jupyter": {
          "outputs_hidden": false,
          "source_hidden": false
        },
        "nteract": {
          "transient": {
            "deleting": false
          }
        }
      }
    },
    {
      "cell_type": "code",
      "source": [
        "# choose a name for experiment\n",
        "experiment_name = 'Framingham-Experiment'\n",
        "\n",
        "experiment=Experiment(ws, experiment_name)\n",
        "run = experiment.start_logging()"
      ],
      "outputs": [],
      "execution_count": 3,
      "metadata": {
        "gather": {
          "logged": 1617290459873
        },
        "jupyter": {
          "outputs_hidden": false,
          "source_hidden": false
        },
        "nteract": {
          "transient": {
            "deleting": false
          }
        }
      }
    },
    {
      "cell_type": "code",
      "source": [
        "# Choose a name for your CPU cluster\n",
        "amlcompute_cluster_name = \"Compute-Cluster\"\n",
        "\n",
        "# Verify that cluster does not exist already\n",
        "try:\n",
        "    compute_target = ComputeTarget(workspace=ws, name=amlcompute_cluster_name)\n",
        "    print('Found existing cluster, use it.')\n",
        "except ComputeTargetException:\n",
        "    compute_config = AmlCompute.provisioning_configuration(vm_size='STANDARD_D2_V2', max_nodes=4)\n",
        "    compute_target = ComputeTarget.create(ws, amlcompute_cluster_name, compute_config)\n",
        "\n",
        "compute_target.wait_for_completion(show_output=True, min_node_count = 1, timeout_in_minutes = 10)"
      ],
      "outputs": [
        {
          "output_type": "stream",
          "name": "stdout",
          "text": [
            "Creating...\n",
            "SucceededProvisioning operation finished, operation \"Succeeded\"\n",
            "Succeeded.....................................................................................................................\n",
            "AmlCompute wait for completion finished\n",
            "\n",
            "Wait timeout has been reached\n",
            "Current provisioning state of AmlCompute is \"Succeeded\" and current node count is \"0\"\n"
          ]
        }
      ],
      "execution_count": 4,
      "metadata": {
        "gather": {
          "logged": 1617291080138
        }
      }
    },
    {
      "cell_type": "code",
      "source": [
        "# Try to load the dataset from the Workspace. Otherwise, create it from the file\n",
        "found = False\n",
        "key = \"Framingham\"\n",
        "description_text = \"Frahmingham Heart Disease Dataset\"\n",
        "\n",
        "if key in ws.datasets.keys(): \n",
        "        found = True\n",
        "        dataset = ws.datasets[key] \n",
        "\n",
        "if not found:\n",
        "        # Create AML Dataset and register it into Workspace\n",
        "        example_data = 'https://raw.githubusercontent.com/Haris-09/Coronary-Heart-Disease-Prediction-Capstone-Project/master/starter_file/framingham.csv'\n",
        "        dataset = Dataset.Tabular.from_delimited_files(example_data)        \n",
        "        #Register Dataset in Workspace\n",
        "        dataset = dataset.register(workspace=ws,\n",
        "                                   name=key,\n",
        "                                   description=description_text)"
      ],
      "outputs": [],
      "execution_count": 5,
      "metadata": {
        "gather": {
          "logged": 1617291558173
        }
      }
    },
    {
      "cell_type": "code",
      "source": [
        "df = dataset.to_pandas_dataframe()\n",
        "df.describe()"
      ],
      "outputs": [
        {
          "output_type": "execute_result",
          "execution_count": 6,
          "data": {
            "text/plain": "              male          age  currentSmoker  prevalentStroke  prevalentHyp  \\\ncount  4240.000000  4240.000000    4240.000000      4240.000000   4240.000000   \nmean      0.429245    49.580189       0.494104         0.005896      0.310613   \nstd       0.495027     8.572942       0.500024         0.076569      0.462799   \nmin       0.000000    32.000000       0.000000         0.000000      0.000000   \n25%       0.000000    42.000000       0.000000         0.000000      0.000000   \n50%       0.000000    49.000000       0.000000         0.000000      0.000000   \n75%       1.000000    56.000000       1.000000         0.000000      1.000000   \nmax       1.000000    70.000000       1.000000         1.000000      1.000000   \n\n          diabetes        sysBP        diaBP    heartRate   TenYearCHD  \ncount  4240.000000  4240.000000  4240.000000  4239.000000  4240.000000  \nmean      0.025708   132.354599    82.897759    75.878981     0.151887  \nstd       0.158280    22.033300    11.910394    12.025348     0.358953  \nmin       0.000000    83.500000    48.000000    44.000000     0.000000  \n25%       0.000000   117.000000    75.000000    68.000000     0.000000  \n50%       0.000000   128.000000    82.000000    75.000000     0.000000  \n75%       0.000000   144.000000    90.000000    83.000000     0.000000  \nmax       1.000000   295.000000   142.500000   143.000000     1.000000  ",
            "text/html": "<div>\n<style scoped>\n    .dataframe tbody tr th:only-of-type {\n        vertical-align: middle;\n    }\n\n    .dataframe tbody tr th {\n        vertical-align: top;\n    }\n\n    .dataframe thead th {\n        text-align: right;\n    }\n</style>\n<table border=\"1\" class=\"dataframe\">\n  <thead>\n    <tr style=\"text-align: right;\">\n      <th></th>\n      <th>male</th>\n      <th>age</th>\n      <th>currentSmoker</th>\n      <th>prevalentStroke</th>\n      <th>prevalentHyp</th>\n      <th>diabetes</th>\n      <th>sysBP</th>\n      <th>diaBP</th>\n      <th>heartRate</th>\n      <th>TenYearCHD</th>\n    </tr>\n  </thead>\n  <tbody>\n    <tr>\n      <th>count</th>\n      <td>4240.000000</td>\n      <td>4240.000000</td>\n      <td>4240.000000</td>\n      <td>4240.000000</td>\n      <td>4240.000000</td>\n      <td>4240.000000</td>\n      <td>4240.000000</td>\n      <td>4240.000000</td>\n      <td>4239.000000</td>\n      <td>4240.000000</td>\n    </tr>\n    <tr>\n      <th>mean</th>\n      <td>0.429245</td>\n      <td>49.580189</td>\n      <td>0.494104</td>\n      <td>0.005896</td>\n      <td>0.310613</td>\n      <td>0.025708</td>\n      <td>132.354599</td>\n      <td>82.897759</td>\n      <td>75.878981</td>\n      <td>0.151887</td>\n    </tr>\n    <tr>\n      <th>std</th>\n      <td>0.495027</td>\n      <td>8.572942</td>\n      <td>0.500024</td>\n      <td>0.076569</td>\n      <td>0.462799</td>\n      <td>0.158280</td>\n      <td>22.033300</td>\n      <td>11.910394</td>\n      <td>12.025348</td>\n      <td>0.358953</td>\n    </tr>\n    <tr>\n      <th>min</th>\n      <td>0.000000</td>\n      <td>32.000000</td>\n      <td>0.000000</td>\n      <td>0.000000</td>\n      <td>0.000000</td>\n      <td>0.000000</td>\n      <td>83.500000</td>\n      <td>48.000000</td>\n      <td>44.000000</td>\n      <td>0.000000</td>\n    </tr>\n    <tr>\n      <th>25%</th>\n      <td>0.000000</td>\n      <td>42.000000</td>\n      <td>0.000000</td>\n      <td>0.000000</td>\n      <td>0.000000</td>\n      <td>0.000000</td>\n      <td>117.000000</td>\n      <td>75.000000</td>\n      <td>68.000000</td>\n      <td>0.000000</td>\n    </tr>\n    <tr>\n      <th>50%</th>\n      <td>0.000000</td>\n      <td>49.000000</td>\n      <td>0.000000</td>\n      <td>0.000000</td>\n      <td>0.000000</td>\n      <td>0.000000</td>\n      <td>128.000000</td>\n      <td>82.000000</td>\n      <td>75.000000</td>\n      <td>0.000000</td>\n    </tr>\n    <tr>\n      <th>75%</th>\n      <td>1.000000</td>\n      <td>56.000000</td>\n      <td>1.000000</td>\n      <td>0.000000</td>\n      <td>1.000000</td>\n      <td>0.000000</td>\n      <td>144.000000</td>\n      <td>90.000000</td>\n      <td>83.000000</td>\n      <td>0.000000</td>\n    </tr>\n    <tr>\n      <th>max</th>\n      <td>1.000000</td>\n      <td>70.000000</td>\n      <td>1.000000</td>\n      <td>1.000000</td>\n      <td>1.000000</td>\n      <td>1.000000</td>\n      <td>295.000000</td>\n      <td>142.500000</td>\n      <td>143.000000</td>\n      <td>1.000000</td>\n    </tr>\n  </tbody>\n</table>\n</div>"
          },
          "metadata": {}
        }
      ],
      "execution_count": 6,
      "metadata": {
        "gather": {
          "logged": 1617292005538
        }
      }
    },
    {
      "cell_type": "markdown",
      "source": [
        "## AutoML Configuration\n",
        "\n",
        "TODO: Explain why you chose the automl settings and cofiguration you used below."
      ],
      "metadata": {}
    },
    {
      "cell_type": "code",
      "source": [
        "# TODO: Put your automl settings here\n",
        "automl_settings = {\"experiment_timeout_minutes\": 30,\n",
        "                   \"max_concurrent_iterations\": 4,\n",
        "                   \"primary_metric\" : 'accuracy',\n",
        "                   \"verbosity\": logging.INFO}\n",
        "\n",
        "# TODO: Put your automl config here\n",
        "automl_config = AutoMLConfig(compute_target=compute_target,\n",
        "                             task = \"classification\",\n",
        "                             training_data=dataset,\n",
        "                             label_column_name=\"TenYearCHD\",   \n",
        "                             path = './',\n",
        "                             enable_early_stopping= True,\n",
        "                             featurization= 'auto',\n",
        "                             debug_log = \"automl_errors.log\",\n",
        "                             **automl_settings)"
      ],
      "outputs": [],
      "execution_count": 7,
      "metadata": {
        "gather": {
          "logged": 1617292005970
        },
        "jupyter": {
          "outputs_hidden": false,
          "source_hidden": false
        },
        "nteract": {
          "transient": {
            "deleting": false
          }
        }
      }
    },
    {
      "cell_type": "code",
      "source": [
        "# TODO: Submit your experiment\n",
        "remote_run = experiment.submit(automl_config, show_output=True)"
      ],
      "outputs": [
        {
          "output_type": "stream",
          "name": "stdout",
          "text": [
            "Running on remote.\n",
            "No run_configuration provided, running on Compute-Cluster with default configuration\n",
            "Running on remote compute: Compute-Cluster\n",
            "Parent Run ID: AutoML_48a3780c-79c8-4df9-ba17-2162603fc8db\n",
            "\n",
            "Current status: FeaturesGeneration. Generating features for the dataset.\n",
            "Current status: DatasetBalancing. Performing class balancing sweeping\n",
            "Current status: DatasetCrossValidationSplit. Generating individually featurized CV splits.\n",
            "Current status: ModelSelection. Beginning model selection.\n",
            "\n",
            "****************************************************************************************************\n",
            "DATA GUARDRAILS: \n",
            "\n",
            "TYPE:         Cross validation\n",
            "STATUS:       DONE\n",
            "DESCRIPTION:  Each iteration of the trained model was validated through cross-validation.\n",
            "              \n",
            "DETAILS:      \n",
            "+---------------------------------+\n",
            "|Number of folds                  |\n",
            "+=================================+\n",
            "|3                                |\n",
            "+---------------------------------+\n",
            "\n",
            "****************************************************************************************************\n",
            "\n",
            "TYPE:         Class balancing detection\n",
            "STATUS:       ALERTED\n",
            "DESCRIPTION:  To decrease model bias, please cancel the current run and fix balancing problem.\n",
            "              Learn more about imbalanced data: https://aka.ms/AutomatedMLImbalancedData\n",
            "DETAILS:      Imbalanced data can lead to a falsely perceived positive effect of a model's accuracy because the input data has bias towards one class.\n",
            "+---------------------------------+---------------------------------+--------------------------------------+\n",
            "|Size of the smallest class       |Name/Label of the smallest class |Number of samples in the training data|\n",
            "+=================================+=================================+======================================+\n",
            "|644                              |1                                |4240                                  |\n",
            "+---------------------------------+---------------------------------+--------------------------------------+\n",
            "\n",
            "****************************************************************************************************\n",
            "\n",
            "TYPE:         Missing feature values imputation\n",
            "STATUS:       DONE\n",
            "DESCRIPTION:  If the missing values are expected, let the run complete. Otherwise cancel the current run and use a script to customize the handling of missing feature values that may be more appropriate based on the data type and business requirement.\n",
            "              Learn more about missing value imputation: https://aka.ms/AutomatedMLFeaturization\n",
            "DETAILS:      \n",
            "+---------------------------------+---------------------------------+---------------------------------+\n",
            "|Column name                      |Missing value count              |Imputation type                  |\n",
            "+=================================+=================================+=================================+\n",
            "|heartRate                        |1                                |mean                             |\n",
            "+---------------------------------+---------------------------------+---------------------------------+\n",
            "\n",
            "****************************************************************************************************\n",
            "\n",
            "TYPE:         High cardinality feature detection\n",
            "STATUS:       DONE\n",
            "DESCRIPTION:  High cardinality features were detected in your inputs and handled.\n",
            "              Learn more about high cardinality feature handling: https://aka.ms/AutomatedMLFeaturization\n",
            "DETAILS:      High cardinality features refer to columns that contain a large percentage of unique values.\n",
            "+---------------------------------+---------------------------------+\n",
            "|Column name                      |Column Content Type              |\n",
            "+=================================+=================================+\n",
            "|totChol                          |categorical_hash                 |\n",
            "|BMI                              |categorical_hash                 |\n",
            "+---------------------------------+---------------------------------+\n",
            "\n",
            "****************************************************************************************************\n",
            "\n",
            "****************************************************************************************************\n",
            "ITERATION: The iteration being evaluated.\n",
            "PIPELINE: A summary description of the pipeline being evaluated.\n",
            "DURATION: Time taken for the current iteration.\n",
            "METRIC: The result of computing score on the fitted pipeline.\n",
            "BEST: The best observed score thus far.\n",
            "****************************************************************************************************\n",
            "\n",
            " ITERATION   PIPELINE                                       DURATION      METRIC      BEST\n",
            "         1   MaxAbsScaler XGBoostClassifier                 0:00:52       0.8472    0.8472\n",
            "         3   MaxAbsScaler RandomForest                      0:00:47       0.8481    0.8481\n",
            "         5   MaxAbsScaler RandomForest                      0:00:36       0.6644    0.8481\n",
            "         6   SparseNormalizer XGBoostClassifier             0:00:46       0.8392    0.8481\n",
            "         7   MaxAbsScaler GradientBoosting                  0:00:45       0.8481    0.8481\n",
            "         4   MaxAbsScaler RandomForest                      0:03:15       0.5306    0.8481\n",
            "         8   MaxAbsScaler LightGBM                          0:00:39       0.8476    0.8481\n",
            "         9   MaxAbsScaler LightGBM                          0:01:01       0.8481    0.8481\n",
            "        10   MaxAbsScaler LogisticRegression                0:00:52       0.8229    0.8481\n",
            "         2   MaxAbsScaler RandomForest                      0:05:25       0.8481    0.8481\n",
            "         0   MaxAbsScaler LightGBM                          0:05:36       0.8321    0.8481\n",
            "        11   StandardScalerWrapper LightGBM                 0:00:45       0.8481    0.8481\n",
            "        12   StandardScalerWrapper RandomForest             0:00:43       0.8481    0.8481\n",
            "        13   MaxAbsScaler LightGBM                          0:00:46       0.8481    0.8481\n",
            "        14   SparseNormalizer XGBoostClassifier             0:00:44       0.8415    0.8481\n",
            "        15   SparseNormalizer LightGBM                      0:00:50       0.8465    0.8481\n",
            "        16   MaxAbsScaler ExtremeRandomTrees                0:00:57       0.8481    0.8481\n",
            "        18   SparseNormalizer XGBoostClassifier             0:00:43       0.8476    0.8481\n",
            "        17   SparseNormalizer XGBoostClassifier             0:00:52       0.8328    0.8481\n",
            "        19   SparseNormalizer XGBoostClassifier             0:00:46       0.8415    0.8481\n",
            "        20   MaxAbsScaler RandomForest                      0:00:56       0.8481    0.8481\n",
            "        21   MaxAbsScaler LightGBM                          0:00:42       0.8469    0.8481\n",
            "        22   SparseNormalizer XGBoostClassifier             0:00:45       0.8415    0.8481\n",
            "        23   StandardScalerWrapper XGBoostClassifier        0:00:54       0.8484    0.8484\n",
            "        24   SparseNormalizer XGBoostClassifier             0:00:48       0.8460    0.8484\n",
            "        25   SparseNormalizer RandomForest                  0:00:46       0.8481    0.8484\n",
            "        26   SparseNormalizer LightGBM                      0:00:52       0.8458    0.8484\n",
            "        27   StandardScalerWrapper RandomForest             0:00:45       0.8481    0.8484\n",
            "        28   SparseNormalizer ExtremeRandomTrees            0:00:43       0.8481    0.8484\n",
            "        29   MaxAbsScaler LightGBM                          0:00:47       0.8467    0.8484\n",
            "        30   TruncatedSVDWrapper XGBoostClassifier          0:00:56       0.8481    0.8484\n",
            "        32   StandardScalerWrapper XGBoostClassifier        0:00:47       0.8222    0.8484\n",
            "        31   StandardScalerWrapper XGBoostClassifier        0:01:00       0.8297    0.8484\n",
            "        33   SparseNormalizer LightGBM                      0:00:46       0.8453    0.8484\n",
            "        34   MaxAbsScaler LightGBM                          0:00:50       0.8455    0.8484\n",
            "        35   StandardScalerWrapper XGBoostClassifier        0:01:00       0.8481    0.8484\n",
            "        36   StandardScalerWrapper LightGBM                 0:00:51       0.8455    0.8484\n",
            "        37   StandardScalerWrapper LightGBM                 0:00:48       0.8469    0.8484\n",
            "        38   SparseNormalizer XGBoostClassifier             0:00:29          nan    0.8484\n",
            "        39                                                  0:00:05          nan    0.8484\n",
            "        40    VotingEnsemble                                0:01:04       0.8481    0.8484\n",
            "        41    StackEnsemble                                 0:01:04       0.8406    0.8484\n"
          ]
        }
      ],
      "execution_count": 8,
      "metadata": {
        "gather": {
          "logged": 1617293718465
        },
        "jupyter": {
          "outputs_hidden": false,
          "source_hidden": false
        },
        "nteract": {
          "transient": {
            "deleting": false
          }
        }
      }
    },
    {
      "cell_type": "markdown",
      "source": [
        "## Run Details\n",
        "\n",
        "OPTIONAL: Write about the different models trained and their performance. Why do you think some models did better than others?\n",
        "\n",
        "TODO: In the cell below, use the `RunDetails` widget to show the different experiments."
      ],
      "metadata": {}
    },
    {
      "cell_type": "code",
      "source": [
        "RunDetails(remote_run).show()"
      ],
      "outputs": [
        {
          "output_type": "display_data",
          "data": {
            "text/plain": "_AutoMLWidget(widget_settings={'childWidgetDisplay': 'popup', 'send_telemetry': False, 'log_level': 'INFO', 's…",
            "application/vnd.jupyter.widget-view+json": {
              "version_major": 2,
              "version_minor": 0,
              "model_id": "f070c05fbb6744d1bd8d097d87be588c"
            }
          },
          "metadata": {}
        },
        {
          "output_type": "display_data",
          "data": {
            "application/aml.mini.widget.v1": "{\"status\": \"Completed\", \"workbench_run_details_uri\": \"https://ml.azure.com/experiments/Framingham-Experiment/runs/AutoML_48a3780c-79c8-4df9-ba17-2162603fc8db?wsid=/subscriptions/b968fb36-f06a-4c76-a15f-afab68ae7667/resourcegroups/aml-quickstarts-141738/workspaces/quick-starts-ws-141738\", \"run_id\": \"AutoML_48a3780c-79c8-4df9-ba17-2162603fc8db\", \"run_properties\": {\"run_id\": \"AutoML_48a3780c-79c8-4df9-ba17-2162603fc8db\", \"created_utc\": \"2021-04-01T15:46:46.346762Z\", \"properties\": {\"num_iterations\": \"1000\", \"training_type\": \"TrainFull\", \"acquisition_function\": \"EI\", \"primary_metric\": \"accuracy\", \"train_split\": \"0\", \"acquisition_parameter\": \"0\", \"num_cross_validation\": null, \"target\": \"Compute-Cluster\", \"AMLSettingsJsonString\": \"{\\\"path\\\":null,\\\"name\\\":\\\"Framingham-Experiment\\\",\\\"subscription_id\\\":\\\"b968fb36-f06a-4c76-a15f-afab68ae7667\\\",\\\"resource_group\\\":\\\"aml-quickstarts-141738\\\",\\\"workspace_name\\\":\\\"quick-starts-ws-141738\\\",\\\"region\\\":\\\"southcentralus\\\",\\\"compute_target\\\":\\\"Compute-Cluster\\\",\\\"spark_service\\\":null,\\\"azure_service\\\":\\\"remote\\\",\\\"many_models\\\":false,\\\"pipeline_fetch_max_batch_size\\\":1,\\\"enable_batch_run\\\":false,\\\"iterations\\\":1000,\\\"primary_metric\\\":\\\"accuracy\\\",\\\"task_type\\\":\\\"classification\\\",\\\"data_script\\\":null,\\\"validation_size\\\":0.0,\\\"n_cross_validations\\\":null,\\\"y_min\\\":null,\\\"y_max\\\":null,\\\"num_classes\\\":null,\\\"featurization\\\":\\\"auto\\\",\\\"_ignore_package_version_incompatibilities\\\":false,\\\"is_timeseries\\\":false,\\\"max_cores_per_iteration\\\":1,\\\"max_concurrent_iterations\\\":4,\\\"iteration_timeout_minutes\\\":null,\\\"mem_in_mb\\\":null,\\\"enforce_time_on_windows\\\":false,\\\"experiment_timeout_minutes\\\":30,\\\"experiment_exit_score\\\":null,\\\"whitelist_models\\\":null,\\\"blacklist_algos\\\":[\\\"TensorFlowLinearClassifier\\\",\\\"TensorFlowDNN\\\"],\\\"supported_models\\\":[\\\"XGBoostClassifier\\\",\\\"SGD\\\",\\\"LinearSVM\\\",\\\"ExtremeRandomTrees\\\",\\\"LogisticRegression\\\",\\\"BernoulliNaiveBayes\\\",\\\"LightGBM\\\",\\\"KNN\\\",\\\"GradientBoosting\\\",\\\"TensorFlowLinearClassifier\\\",\\\"DecisionTree\\\",\\\"SVM\\\",\\\"TensorFlowDNN\\\",\\\"MultinomialNaiveBayes\\\",\\\"RandomForest\\\",\\\"AveragedPerceptronClassifier\\\"],\\\"private_models\\\":[],\\\"auto_blacklist\\\":true,\\\"blacklist_samples_reached\\\":false,\\\"exclude_nan_labels\\\":true,\\\"verbosity\\\":20,\\\"_debug_log\\\":\\\"azureml_automl.log\\\",\\\"show_warnings\\\":false,\\\"model_explainability\\\":true,\\\"service_url\\\":null,\\\"sdk_url\\\":null,\\\"sdk_packages\\\":null,\\\"enable_onnx_compatible_models\\\":false,\\\"enable_split_onnx_featurizer_estimator_models\\\":false,\\\"vm_type\\\":\\\"STANDARD_D2_V2\\\",\\\"telemetry_verbosity\\\":20,\\\"send_telemetry\\\":true,\\\"enable_dnn\\\":false,\\\"scenario\\\":\\\"SDK-1.13.0\\\",\\\"environment_label\\\":null,\\\"save_mlflow\\\":false,\\\"force_text_dnn\\\":false,\\\"enable_feature_sweeping\\\":true,\\\"enable_early_stopping\\\":true,\\\"early_stopping_n_iters\\\":10,\\\"metrics\\\":null,\\\"enable_metric_confidence\\\":false,\\\"enable_ensembling\\\":true,\\\"enable_stack_ensembling\\\":true,\\\"ensemble_iterations\\\":15,\\\"enable_tf\\\":false,\\\"enable_subsampling\\\":null,\\\"subsample_seed\\\":null,\\\"enable_nimbusml\\\":false,\\\"enable_streaming\\\":false,\\\"force_streaming\\\":false,\\\"track_child_runs\\\":true,\\\"allowed_private_models\\\":[],\\\"label_column_name\\\":\\\"TenYearCHD\\\",\\\"weight_column_name\\\":null,\\\"cv_split_column_names\\\":null,\\\"enable_local_managed\\\":false,\\\"_local_managed_run_id\\\":null,\\\"cost_mode\\\":1,\\\"lag_length\\\":0,\\\"metric_operation\\\":\\\"maximize\\\",\\\"preprocess\\\":true}\", \"DataPrepJsonString\": \"{\\\\\\\"training_data\\\\\\\": \\\\\\\"{\\\\\\\\\\\\\\\"blocks\\\\\\\\\\\\\\\": [{\\\\\\\\\\\\\\\"id\\\\\\\\\\\\\\\": \\\\\\\\\\\\\\\"714c5418-0fcc-4092-89d8-9bd67d63696b\\\\\\\\\\\\\\\", \\\\\\\\\\\\\\\"type\\\\\\\\\\\\\\\": \\\\\\\\\\\\\\\"Microsoft.DPrep.GetFilesBlock\\\\\\\\\\\\\\\", \\\\\\\\\\\\\\\"arguments\\\\\\\\\\\\\\\": {\\\\\\\\\\\\\\\"isArchive\\\\\\\\\\\\\\\": false, \\\\\\\\\\\\\\\"path\\\\\\\\\\\\\\\": {\\\\\\\\\\\\\\\"target\\\\\\\\\\\\\\\": 4, \\\\\\\\\\\\\\\"resourceDetails\\\\\\\\\\\\\\\": [{\\\\\\\\\\\\\\\"path\\\\\\\\\\\\\\\": \\\\\\\\\\\\\\\"https://raw.githubusercontent.com/Haris-09/Coronary-Heart-Disease-Prediction-Capstone-Project/master/starter_file/framingham.csv\\\\\\\\\\\\\\\"}]}}, \\\\\\\\\\\\\\\"localData\\\\\\\\\\\\\\\": {}, \\\\\\\\\\\\\\\"isEnabled\\\\\\\\\\\\\\\": true, \\\\\\\\\\\\\\\"name\\\\\\\\\\\\\\\": null, \\\\\\\\\\\\\\\"annotation\\\\\\\\\\\\\\\": null}, {\\\\\\\\\\\\\\\"id\\\\\\\\\\\\\\\": \\\\\\\\\\\\\\\"8d3df2f3-6ba9-4e77-bf21-806c0af87f69\\\\\\\\\\\\\\\", \\\\\\\\\\\\\\\"type\\\\\\\\\\\\\\\": \\\\\\\\\\\\\\\"Microsoft.DPrep.ParseDelimitedBlock\\\\\\\\\\\\\\\", \\\\\\\\\\\\\\\"arguments\\\\\\\\\\\\\\\": {\\\\\\\\\\\\\\\"columnHeadersMode\\\\\\\\\\\\\\\": 3, \\\\\\\\\\\\\\\"fileEncoding\\\\\\\\\\\\\\\": 0, \\\\\\\\\\\\\\\"handleQuotedLineBreaks\\\\\\\\\\\\\\\": false, \\\\\\\\\\\\\\\"preview\\\\\\\\\\\\\\\": false, \\\\\\\\\\\\\\\"separator\\\\\\\\\\\\\\\": \\\\\\\\\\\\\\\",\\\\\\\\\\\\\\\", \\\\\\\\\\\\\\\"skipRows\\\\\\\\\\\\\\\": 0, \\\\\\\\\\\\\\\"skipRowsMode\\\\\\\\\\\\\\\": 0}, \\\\\\\\\\\\\\\"localData\\\\\\\\\\\\\\\": {}, \\\\\\\\\\\\\\\"isEnabled\\\\\\\\\\\\\\\": true, \\\\\\\\\\\\\\\"name\\\\\\\\\\\\\\\": null, \\\\\\\\\\\\\\\"annotation\\\\\\\\\\\\\\\": null}, {\\\\\\\\\\\\\\\"id\\\\\\\\\\\\\\\": \\\\\\\\\\\\\\\"7aa6bc16-5bff-4ff4-8d37-a1fe19d0d0b8\\\\\\\\\\\\\\\", \\\\\\\\\\\\\\\"type\\\\\\\\\\\\\\\": \\\\\\\\\\\\\\\"Microsoft.DPrep.DropColumnsBlock\\\\\\\\\\\\\\\", \\\\\\\\\\\\\\\"arguments\\\\\\\\\\\\\\\": {\\\\\\\\\\\\\\\"columns\\\\\\\\\\\\\\\": {\\\\\\\\\\\\\\\"type\\\\\\\\\\\\\\\": 0, \\\\\\\\\\\\\\\"details\\\\\\\\\\\\\\\": {\\\\\\\\\\\\\\\"selectedColumns\\\\\\\\\\\\\\\": [\\\\\\\\\\\\\\\"Path\\\\\\\\\\\\\\\"]}}}, \\\\\\\\\\\\\\\"localData\\\\\\\\\\\\\\\": {}, \\\\\\\\\\\\\\\"isEnabled\\\\\\\\\\\\\\\": true, \\\\\\\\\\\\\\\"name\\\\\\\\\\\\\\\": null, \\\\\\\\\\\\\\\"annotation\\\\\\\\\\\\\\\": null}, {\\\\\\\\\\\\\\\"id\\\\\\\\\\\\\\\": \\\\\\\\\\\\\\\"9bd91375-3be1-4fac-a6c6-194227f447d3\\\\\\\\\\\\\\\", \\\\\\\\\\\\\\\"type\\\\\\\\\\\\\\\": \\\\\\\\\\\\\\\"Microsoft.DPrep.SetColumnTypesBlock\\\\\\\\\\\\\\\", \\\\\\\\\\\\\\\"arguments\\\\\\\\\\\\\\\": {\\\\\\\\\\\\\\\"columnConversion\\\\\\\\\\\\\\\": [{\\\\\\\\\\\\\\\"column\\\\\\\\\\\\\\\": {\\\\\\\\\\\\\\\"type\\\\\\\\\\\\\\\": 2, \\\\\\\\\\\\\\\"details\\\\\\\\\\\\\\\": {\\\\\\\\\\\\\\\"selectedColumn\\\\\\\\\\\\\\\": \\\\\\\\\\\\\\\"male\\\\\\\\\\\\\\\"}}, \\\\\\\\\\\\\\\"typeProperty\\\\\\\\\\\\\\\": 2}, {\\\\\\\\\\\\\\\"column\\\\\\\\\\\\\\\": {\\\\\\\\\\\\\\\"type\\\\\\\\\\\\\\\": 2, \\\\\\\\\\\\\\\"details\\\\\\\\\\\\\\\": {\\\\\\\\\\\\\\\"selectedColumn\\\\\\\\\\\\\\\": \\\\\\\\\\\\\\\"age\\\\\\\\\\\\\\\"}}, \\\\\\\\\\\\\\\"typeProperty\\\\\\\\\\\\\\\": 2}, {\\\\\\\\\\\\\\\"column\\\\\\\\\\\\\\\": {\\\\\\\\\\\\\\\"type\\\\\\\\\\\\\\\": 2, \\\\\\\\\\\\\\\"details\\\\\\\\\\\\\\\": {\\\\\\\\\\\\\\\"selectedColumn\\\\\\\\\\\\\\\": \\\\\\\\\\\\\\\"education\\\\\\\\\\\\\\\"}}, \\\\\\\\\\\\\\\"typeProperty\\\\\\\\\\\\\\\": 0}, {\\\\\\\\\\\\\\\"column\\\\\\\\\\\\\\\": {\\\\\\\\\\\\\\\"type\\\\\\\\\\\\\\\": 2, \\\\\\\\\\\\\\\"details\\\\\\\\\\\\\\\": {\\\\\\\\\\\\\\\"selectedColumn\\\\\\\\\\\\\\\": \\\\\\\\\\\\\\\"currentSmoker\\\\\\\\\\\\\\\"}}, \\\\\\\\\\\\\\\"typeProperty\\\\\\\\\\\\\\\": 2}, {\\\\\\\\\\\\\\\"column\\\\\\\\\\\\\\\": {\\\\\\\\\\\\\\\"type\\\\\\\\\\\\\\\": 2, \\\\\\\\\\\\\\\"details\\\\\\\\\\\\\\\": {\\\\\\\\\\\\\\\"selectedColumn\\\\\\\\\\\\\\\": \\\\\\\\\\\\\\\"cigsPerDay\\\\\\\\\\\\\\\"}}, \\\\\\\\\\\\\\\"typeProperty\\\\\\\\\\\\\\\": 0}, {\\\\\\\\\\\\\\\"column\\\\\\\\\\\\\\\": {\\\\\\\\\\\\\\\"type\\\\\\\\\\\\\\\": 2, \\\\\\\\\\\\\\\"details\\\\\\\\\\\\\\\": {\\\\\\\\\\\\\\\"selectedColumn\\\\\\\\\\\\\\\": \\\\\\\\\\\\\\\"BPMeds\\\\\\\\\\\\\\\"}}, \\\\\\\\\\\\\\\"typeProperty\\\\\\\\\\\\\\\": 0}, {\\\\\\\\\\\\\\\"column\\\\\\\\\\\\\\\": {\\\\\\\\\\\\\\\"type\\\\\\\\\\\\\\\": 2, \\\\\\\\\\\\\\\"details\\\\\\\\\\\\\\\": {\\\\\\\\\\\\\\\"selectedColumn\\\\\\\\\\\\\\\": \\\\\\\\\\\\\\\"prevalentStroke\\\\\\\\\\\\\\\"}}, \\\\\\\\\\\\\\\"typeProperty\\\\\\\\\\\\\\\": 2}, {\\\\\\\\\\\\\\\"column\\\\\\\\\\\\\\\": {\\\\\\\\\\\\\\\"type\\\\\\\\\\\\\\\": 2, \\\\\\\\\\\\\\\"details\\\\\\\\\\\\\\\": {\\\\\\\\\\\\\\\"selectedColumn\\\\\\\\\\\\\\\": \\\\\\\\\\\\\\\"prevalentHyp\\\\\\\\\\\\\\\"}}, \\\\\\\\\\\\\\\"typeProperty\\\\\\\\\\\\\\\": 2}, {\\\\\\\\\\\\\\\"column\\\\\\\\\\\\\\\": {\\\\\\\\\\\\\\\"type\\\\\\\\\\\\\\\": 2, \\\\\\\\\\\\\\\"details\\\\\\\\\\\\\\\": {\\\\\\\\\\\\\\\"selectedColumn\\\\\\\\\\\\\\\": \\\\\\\\\\\\\\\"diabetes\\\\\\\\\\\\\\\"}}, \\\\\\\\\\\\\\\"typeProperty\\\\\\\\\\\\\\\": 2}, {\\\\\\\\\\\\\\\"column\\\\\\\\\\\\\\\": {\\\\\\\\\\\\\\\"type\\\\\\\\\\\\\\\": 2, \\\\\\\\\\\\\\\"details\\\\\\\\\\\\\\\": {\\\\\\\\\\\\\\\"selectedColumn\\\\\\\\\\\\\\\": \\\\\\\\\\\\\\\"totChol\\\\\\\\\\\\\\\"}}, \\\\\\\\\\\\\\\"typeProperty\\\\\\\\\\\\\\\": 0}, {\\\\\\\\\\\\\\\"column\\\\\\\\\\\\\\\": {\\\\\\\\\\\\\\\"type\\\\\\\\\\\\\\\": 2, \\\\\\\\\\\\\\\"details\\\\\\\\\\\\\\\": {\\\\\\\\\\\\\\\"selectedColumn\\\\\\\\\\\\\\\": \\\\\\\\\\\\\\\"sysBP\\\\\\\\\\\\\\\"}}, \\\\\\\\\\\\\\\"typeProperty\\\\\\\\\\\\\\\": 3}, {\\\\\\\\\\\\\\\"column\\\\\\\\\\\\\\\": {\\\\\\\\\\\\\\\"type\\\\\\\\\\\\\\\": 2, \\\\\\\\\\\\\\\"details\\\\\\\\\\\\\\\": {\\\\\\\\\\\\\\\"selectedColumn\\\\\\\\\\\\\\\": \\\\\\\\\\\\\\\"diaBP\\\\\\\\\\\\\\\"}}, \\\\\\\\\\\\\\\"typeProperty\\\\\\\\\\\\\\\": 3}, {\\\\\\\\\\\\\\\"column\\\\\\\\\\\\\\\": {\\\\\\\\\\\\\\\"type\\\\\\\\\\\\\\\": 2, \\\\\\\\\\\\\\\"details\\\\\\\\\\\\\\\": {\\\\\\\\\\\\\\\"selectedColumn\\\\\\\\\\\\\\\": \\\\\\\\\\\\\\\"BMI\\\\\\\\\\\\\\\"}}, \\\\\\\\\\\\\\\"typeProperty\\\\\\\\\\\\\\\": 0}, {\\\\\\\\\\\\\\\"column\\\\\\\\\\\\\\\": {\\\\\\\\\\\\\\\"type\\\\\\\\\\\\\\\": 2, \\\\\\\\\\\\\\\"details\\\\\\\\\\\\\\\": {\\\\\\\\\\\\\\\"selectedColumn\\\\\\\\\\\\\\\": \\\\\\\\\\\\\\\"heartRate\\\\\\\\\\\\\\\"}}, \\\\\\\\\\\\\\\"typeProperty\\\\\\\\\\\\\\\": 2}, {\\\\\\\\\\\\\\\"column\\\\\\\\\\\\\\\": {\\\\\\\\\\\\\\\"type\\\\\\\\\\\\\\\": 2, \\\\\\\\\\\\\\\"details\\\\\\\\\\\\\\\": {\\\\\\\\\\\\\\\"selectedColumn\\\\\\\\\\\\\\\": \\\\\\\\\\\\\\\"glucose\\\\\\\\\\\\\\\"}}, \\\\\\\\\\\\\\\"typeProperty\\\\\\\\\\\\\\\": 0}, {\\\\\\\\\\\\\\\"column\\\\\\\\\\\\\\\": {\\\\\\\\\\\\\\\"type\\\\\\\\\\\\\\\": 2, \\\\\\\\\\\\\\\"details\\\\\\\\\\\\\\\": {\\\\\\\\\\\\\\\"selectedColumn\\\\\\\\\\\\\\\": \\\\\\\\\\\\\\\"TenYearCHD\\\\\\\\\\\\\\\"}}, \\\\\\\\\\\\\\\"typeProperty\\\\\\\\\\\\\\\": 2}]}, \\\\\\\\\\\\\\\"localData\\\\\\\\\\\\\\\": {}, \\\\\\\\\\\\\\\"isEnabled\\\\\\\\\\\\\\\": true, \\\\\\\\\\\\\\\"name\\\\\\\\\\\\\\\": null, \\\\\\\\\\\\\\\"annotation\\\\\\\\\\\\\\\": null}], \\\\\\\\\\\\\\\"inspectors\\\\\\\\\\\\\\\": [], \\\\\\\\\\\\\\\"meta\\\\\\\\\\\\\\\": {\\\\\\\\\\\\\\\"savedDatasetId\\\\\\\\\\\\\\\": \\\\\\\\\\\\\\\"86703e5d-e144-4d41-b8e1-e9118b2ef501\\\\\\\\\\\\\\\", \\\\\\\\\\\\\\\"datasetType\\\\\\\\\\\\\\\": \\\\\\\\\\\\\\\"tabular\\\\\\\\\\\\\\\", \\\\\\\\\\\\\\\"subscriptionId\\\\\\\\\\\\\\\": \\\\\\\\\\\\\\\"b968fb36-f06a-4c76-a15f-afab68ae7667\\\\\\\\\\\\\\\", \\\\\\\\\\\\\\\"workspaceId\\\\\\\\\\\\\\\": \\\\\\\\\\\\\\\"4d0fdcd7-3799-4f28-8029-bb2603612795\\\\\\\\\\\\\\\", \\\\\\\\\\\\\\\"workspaceLocation\\\\\\\\\\\\\\\": \\\\\\\\\\\\\\\"southcentralus\\\\\\\\\\\\\\\", \\\\\\\\\\\\\\\"partition_keys\\\\\\\\\\\\\\\": \\\\\\\\\\\\\\\"true\\\\\\\\\\\\\\\"}}\\\\\\\", \\\\\\\"activities\\\\\\\": 0}\", \"EnableSubsampling\": null, \"runTemplate\": \"AutoML\", \"azureml.runsource\": \"automl\", \"display_task_type\": \"classification\", \"dependencies_versions\": \"{\\\"azureml-widgets\\\": \\\"1.24.0\\\", \\\"azureml-train\\\": \\\"1.24.0\\\", \\\"azureml-train-restclients-hyperdrive\\\": \\\"1.24.0\\\", \\\"azureml-train-core\\\": \\\"1.24.0\\\", \\\"azureml-train-automl-client\\\": \\\"1.24.0\\\", \\\"azureml-tensorboard\\\": \\\"1.24.0\\\", \\\"azureml-telemetry\\\": \\\"1.24.0\\\", \\\"azureml-sdk\\\": \\\"1.24.0\\\", \\\"azureml-pipeline\\\": \\\"1.24.0\\\", \\\"azureml-pipeline-steps\\\": \\\"1.24.0\\\", \\\"azureml-pipeline-core\\\": \\\"1.24.0\\\", \\\"azureml-opendatasets\\\": \\\"1.24.0\\\", \\\"azureml-model-management-sdk\\\": \\\"1.0.1b6.post1\\\", \\\"azureml-mlflow\\\": \\\"1.24.0\\\", \\\"azureml-interpret\\\": \\\"1.24.0\\\", \\\"azureml-explain-model\\\": \\\"1.24.0\\\", \\\"azureml-defaults\\\": \\\"1.24.0\\\", \\\"azureml-dataset-runtime\\\": \\\"1.24.0\\\", \\\"azureml-dataprep\\\": \\\"2.11.1\\\", \\\"azureml-dataprep-rslex\\\": \\\"1.9.0\\\", \\\"azureml-dataprep-native\\\": \\\"30.0.0\\\", \\\"azureml-datadrift\\\": \\\"1.24.0\\\", \\\"azureml-core\\\": \\\"1.24.0\\\", \\\"azureml-contrib-services\\\": \\\"1.24.0\\\", \\\"azureml-contrib-server\\\": \\\"1.24.0\\\", \\\"azureml-contrib-reinforcementlearning\\\": \\\"1.24.0\\\", \\\"azureml-contrib-pipeline-steps\\\": \\\"1.24.0\\\", \\\"azureml-contrib-notebook\\\": \\\"1.24.0\\\", \\\"azureml-contrib-gbdt\\\": \\\"1.24.0\\\", \\\"azureml-contrib-fairness\\\": \\\"1.24.0\\\", \\\"azureml-contrib-dataset\\\": \\\"1.24.0\\\", \\\"azureml-cli-common\\\": \\\"1.24.0\\\", \\\"azureml-automl-core\\\": \\\"1.24.0\\\", \\\"azureml-accel-models\\\": \\\"1.24.0\\\"}\", \"_aml_system_scenario_identification\": \"Remote.Parent\", \"ClientType\": \"SDK\", \"environment_cpu_name\": \"AzureML-AutoML\", \"environment_cpu_label\": \"prod\", \"environment_gpu_name\": \"AzureML-AutoML-GPU\", \"environment_gpu_label\": \"prod\", \"root_attribution\": \"automl\", \"attribution\": \"AutoML\", \"Orchestrator\": \"AutoML\", \"CancelUri\": \"https://southcentralus.experiments.azureml.net/jasmine/v1.0/subscriptions/b968fb36-f06a-4c76-a15f-afab68ae7667/resourceGroups/aml-quickstarts-141738/providers/Microsoft.MachineLearningServices/workspaces/quick-starts-ws-141738/experimentids/ac7d7765-9282-4cf0-862b-b0b5bd2930a7/cancel/AutoML_48a3780c-79c8-4df9-ba17-2162603fc8db\", \"ClientSdkVersion\": \"1.24.0\", \"snapshotId\": \"00000000-0000-0000-0000-000000000000\", \"SetupRunId\": \"AutoML_48a3780c-79c8-4df9-ba17-2162603fc8db_setup\", \"SetupRunContainerId\": \"dcid.AutoML_48a3780c-79c8-4df9-ba17-2162603fc8db_setup\", \"FeaturizationRunJsonPath\": \"featurizer_container.json\", \"FeaturizationRunId\": \"AutoML_48a3780c-79c8-4df9-ba17-2162603fc8db_featurize\", \"ProblemInfoJsonString\": \"{\\\"dataset_num_categorical\\\": 0, \\\"is_sparse\\\": true, \\\"subsampling\\\": false, \\\"dataset_classes\\\": 2, \\\"dataset_features\\\": 1385, \\\"dataset_samples\\\": 4240, \\\"single_frequency_class_detected\\\": false}\", \"ModelExplainRunId\": \"AutoML_48a3780c-79c8-4df9-ba17-2162603fc8db_ModelExplain\"}, \"tags\": {\"model_explain_run\": \"best_run\", \"_aml_system_azureml.automlComponent\": \"AutoML\", \"pipeline_id\": \"\", \"score\": \"\", \"predicted_cost\": \"\", \"fit_time\": \"\", \"training_percent\": \"\", \"iteration\": \"\", \"run_preprocessor\": \"\", \"run_algorithm\": \"\", \"dynamic_whitelisting_iterations\": \"<25>;<30>;<35>;\", \"automl_best_child_run_id\": \"AutoML_48a3780c-79c8-4df9-ba17-2162603fc8db_23\", \"model_explain_best_run_child_id\": \"AutoML_48a3780c-79c8-4df9-ba17-2162603fc8db_23\"}, \"end_time_utc\": \"2021-04-01T16:15:00.705423Z\", \"status\": \"Completed\", \"log_files\": {}, \"log_groups\": [], \"run_duration\": \"0:28:14\", \"run_number\": \"2\", \"run_queued_details\": {\"status\": \"Completed\", \"details\": null}}, \"child_runs\": [{\"run_id\": \"AutoML_48a3780c-79c8-4df9-ba17-2162603fc8db_0\", \"run_number\": 6, \"metric\": null, \"status\": \"Completed\", \"run_type\": \"azureml.scriptrun\", \"training_percent\": \"100\", \"start_time\": \"2021-04-01T15:58:40.586559Z\", \"end_time\": \"2021-04-01T16:04:16.421133Z\", \"created_time\": \"2021-04-01T15:56:32.867476Z\", \"created_time_dt\": \"2021-04-01T15:56:32.867476Z\", \"duration\": \"0:07:43\", \"iteration\": \"0\", \"goal\": \"accuracy_max\", \"run_name\": \"MaxAbsScaler, LightGBM\", \"run_properties\": \"copy=True\", \"primary_metric\": 0.83207623, \"best_metric\": 0.83207623}, {\"run_id\": \"AutoML_48a3780c-79c8-4df9-ba17-2162603fc8db_3\", \"run_number\": 7, \"metric\": null, \"status\": \"Completed\", \"run_type\": \"azureml.scriptrun\", \"training_percent\": \"100\", \"start_time\": \"2021-04-01T15:57:54.711613Z\", \"end_time\": \"2021-04-01T15:58:41.692867Z\", \"created_time\": \"2021-04-01T15:56:33.015613Z\", \"created_time_dt\": \"2021-04-01T15:56:33.015613Z\", \"duration\": \"0:02:08\", \"iteration\": \"3\", \"goal\": \"accuracy_max\", \"run_name\": \"MaxAbsScaler, RandomForest\", \"run_properties\": \"copy=True\", \"primary_metric\": 0.84811558, \"best_metric\": 0.84811558}, {\"run_id\": \"AutoML_48a3780c-79c8-4df9-ba17-2162603fc8db_1\", \"run_number\": 8, \"metric\": null, \"status\": \"Completed\", \"run_type\": \"azureml.scriptrun\", \"training_percent\": \"100\", \"start_time\": \"2021-04-01T15:56:45.973207Z\", \"end_time\": \"2021-04-01T15:57:37.728539Z\", \"created_time\": \"2021-04-01T15:56:32.867931Z\", \"created_time_dt\": \"2021-04-01T15:56:32.867931Z\", \"duration\": \"0:01:04\", \"iteration\": \"1\", \"goal\": \"accuracy_max\", \"run_name\": \"MaxAbsScaler, XGBoostClassifier\", \"run_properties\": \"copy=True\", \"primary_metric\": 0.84717113, \"best_metric\": 0.84717113}, {\"run_id\": \"AutoML_48a3780c-79c8-4df9-ba17-2162603fc8db_2\", \"run_number\": 9, \"metric\": null, \"status\": \"Completed\", \"run_type\": \"azureml.scriptrun\", \"training_percent\": \"100\", \"start_time\": \"2021-04-01T15:58:41.013708Z\", \"end_time\": \"2021-04-01T16:04:06.269902Z\", \"created_time\": \"2021-04-01T15:56:32.998821Z\", \"created_time_dt\": \"2021-04-01T15:56:32.998821Z\", \"duration\": \"0:07:33\", \"iteration\": \"2\", \"goal\": \"accuracy_max\", \"run_name\": \"MaxAbsScaler, RandomForest\", \"run_properties\": \"copy=True\", \"primary_metric\": 0.84811558, \"best_metric\": 0.84811558}, {\"run_id\": \"AutoML_48a3780c-79c8-4df9-ba17-2162603fc8db_4\", \"run_number\": 10, \"metric\": null, \"status\": \"Completed\", \"run_type\": \"azureml.scriptrun\", \"training_percent\": \"100\", \"start_time\": \"2021-04-01T15:58:47.277499Z\", \"end_time\": \"2021-04-01T16:02:02.158655Z\", \"created_time\": \"2021-04-01T15:57:40.939723Z\", \"created_time_dt\": \"2021-04-01T15:57:40.939723Z\", \"duration\": \"0:04:21\", \"iteration\": \"4\", \"goal\": \"accuracy_max\", \"run_name\": \"MaxAbsScaler, RandomForest\", \"run_properties\": \"copy=True\", \"primary_metric\": 0.53061839, \"best_metric\": 0.84811558}, {\"run_id\": \"AutoML_48a3780c-79c8-4df9-ba17-2162603fc8db_5\", \"run_number\": 11, \"metric\": null, \"status\": \"Completed\", \"run_type\": \"azureml.scriptrun\", \"training_percent\": \"100\", \"start_time\": \"2021-04-01T15:58:57.211413Z\", \"end_time\": \"2021-04-01T15:59:33.107986Z\", \"created_time\": \"2021-04-01T15:58:45.609266Z\", \"created_time_dt\": \"2021-04-01T15:58:45.609266Z\", \"duration\": \"0:00:47\", \"iteration\": \"5\", \"goal\": \"accuracy_max\", \"run_name\": \"MaxAbsScaler, RandomForest\", \"run_properties\": \"copy=True\", \"primary_metric\": 0.66438236, \"best_metric\": 0.84811558}, {\"run_id\": \"AutoML_48a3780c-79c8-4df9-ba17-2162603fc8db_6\", \"run_number\": 12, \"metric\": null, \"status\": \"Completed\", \"run_type\": \"azureml.scriptrun\", \"training_percent\": \"100\", \"start_time\": \"2021-04-01T15:59:50.273683Z\", \"end_time\": \"2021-04-01T16:00:36.41746Z\", \"created_time\": \"2021-04-01T15:59:36.443773Z\", \"created_time_dt\": \"2021-04-01T15:59:36.443773Z\", \"duration\": \"0:00:59\", \"iteration\": \"6\", \"goal\": \"accuracy_max\", \"run_name\": \"SparseNormalizer, XGBoostClassifier\", \"run_properties\": \"<azureml.automl.runtime.shared.model_wrappers.SparseNormalizer object at 0x7f101eb254e0\", \"primary_metric\": 0.83915187, \"best_metric\": 0.84811558}, {\"run_id\": \"AutoML_48a3780c-79c8-4df9-ba17-2162603fc8db_7\", \"run_number\": 13, \"metric\": null, \"status\": \"Completed\", \"run_type\": \"azureml.scriptrun\", \"training_percent\": \"100\", \"start_time\": \"2021-04-01T16:00:51.41453Z\", \"end_time\": \"2021-04-01T16:01:36.854249Z\", \"created_time\": \"2021-04-01T16:00:39.319437Z\", \"created_time_dt\": \"2021-04-01T16:00:39.319437Z\", \"duration\": \"0:00:57\", \"iteration\": \"7\", \"goal\": \"accuracy_max\", \"run_name\": \"MaxAbsScaler, GradientBoosting\", \"run_properties\": \"copy=True\", \"primary_metric\": 0.84811558, \"best_metric\": 0.84811558}, {\"run_id\": \"AutoML_48a3780c-79c8-4df9-ba17-2162603fc8db_8\", \"run_number\": 14, \"metric\": null, \"status\": \"Completed\", \"run_type\": \"azureml.scriptrun\", \"training_percent\": \"100\", \"start_time\": \"2021-04-01T16:01:50.769963Z\", \"end_time\": \"2021-04-01T16:02:30.209104Z\", \"created_time\": \"2021-04-01T16:01:39.724619Z\", \"created_time_dt\": \"2021-04-01T16:01:39.724619Z\", \"duration\": \"0:00:50\", \"iteration\": \"8\", \"goal\": \"accuracy_max\", \"run_name\": \"MaxAbsScaler, LightGBM\", \"run_properties\": \"copy=True\", \"primary_metric\": 0.84764377, \"best_metric\": 0.84811558}, {\"run_id\": \"AutoML_48a3780c-79c8-4df9-ba17-2162603fc8db_9\", \"run_number\": 15, \"metric\": null, \"status\": \"Completed\", \"run_type\": \"azureml.scriptrun\", \"training_percent\": \"100\", \"start_time\": \"2021-04-01T16:02:18.879186Z\", \"end_time\": \"2021-04-01T16:03:19.908793Z\", \"created_time\": \"2021-04-01T16:02:05.205571Z\", \"created_time_dt\": \"2021-04-01T16:02:05.205571Z\", \"duration\": \"0:01:14\", \"iteration\": \"9\", \"goal\": \"accuracy_max\", \"run_name\": \"MaxAbsScaler, LightGBM\", \"run_properties\": \"copy=True\", \"primary_metric\": 0.84811558, \"best_metric\": 0.84811558}, {\"run_id\": \"AutoML_48a3780c-79c8-4df9-ba17-2162603fc8db_10\", \"run_number\": 16, \"metric\": null, \"status\": \"Completed\", \"run_type\": \"azureml.scriptrun\", \"training_percent\": \"100\", \"start_time\": \"2021-04-01T16:02:45.875187Z\", \"end_time\": \"2021-04-01T16:03:37.754055Z\", \"created_time\": \"2021-04-01T16:02:33.593936Z\", \"created_time_dt\": \"2021-04-01T16:02:33.593936Z\", \"duration\": \"0:01:04\", \"iteration\": \"10\", \"goal\": \"accuracy_max\", \"run_name\": \"MaxAbsScaler, LogisticRegression\", \"run_properties\": \"copy=True\", \"primary_metric\": 0.82287728, \"best_metric\": 0.84811558}, {\"run_id\": \"AutoML_48a3780c-79c8-4df9-ba17-2162603fc8db_11\", \"run_number\": 17, \"metric\": null, \"status\": \"Completed\", \"run_type\": \"azureml.scriptrun\", \"training_percent\": \"100\", \"start_time\": \"2021-04-01T16:03:33.394317Z\", \"end_time\": \"2021-04-01T16:04:18.452865Z\", \"created_time\": \"2021-04-01T16:03:22.216077Z\", \"created_time_dt\": \"2021-04-01T16:03:22.216077Z\", \"duration\": \"0:00:56\", \"iteration\": \"11\", \"goal\": \"accuracy_max\", \"run_name\": \"StandardScalerWrapper, LightGBM\", \"run_properties\": \"<azureml.automl.runtime.shared.model_wrappers.StandardScalerWrapper object at 0x7f12100e5828\", \"primary_metric\": 0.84811558, \"best_metric\": 0.84811558}, {\"run_id\": \"AutoML_48a3780c-79c8-4df9-ba17-2162603fc8db_12\", \"run_number\": 18, \"metric\": null, \"status\": \"Completed\", \"run_type\": \"azureml.scriptrun\", \"training_percent\": \"100\", \"start_time\": \"2021-04-01T16:03:53.774392Z\", \"end_time\": \"2021-04-01T16:04:36.427603Z\", \"created_time\": \"2021-04-01T16:03:40.335952Z\", \"created_time_dt\": \"2021-04-01T16:03:40.335952Z\", \"duration\": \"0:00:56\", \"iteration\": \"12\", \"goal\": \"accuracy_max\", \"run_name\": \"StandardScalerWrapper, RandomForest\", \"run_properties\": \"<azureml.automl.runtime.shared.model_wrappers.StandardScalerWrapper object at 0x7f5f2a740470\", \"primary_metric\": 0.84811558, \"best_metric\": 0.84811558}, {\"run_id\": \"AutoML_48a3780c-79c8-4df9-ba17-2162603fc8db_13\", \"run_number\": 19, \"metric\": null, \"status\": \"Completed\", \"run_type\": \"azureml.scriptrun\", \"training_percent\": \"100\", \"start_time\": \"2021-04-01T16:04:21.717355Z\", \"end_time\": \"2021-04-01T16:05:07.45988Z\", \"created_time\": \"2021-04-01T16:04:08.862666Z\", \"created_time_dt\": \"2021-04-01T16:04:08.862666Z\", \"duration\": \"0:00:58\", \"iteration\": \"13\", \"goal\": \"accuracy_max\", \"run_name\": \"MaxAbsScaler, LightGBM\", \"run_properties\": \"copy=True\", \"primary_metric\": 0.84811558, \"best_metric\": 0.84811558}, {\"run_id\": \"AutoML_48a3780c-79c8-4df9-ba17-2162603fc8db_14\", \"run_number\": 20, \"metric\": null, \"status\": \"Completed\", \"run_type\": \"azureml.scriptrun\", \"training_percent\": \"100\", \"start_time\": \"2021-04-01T16:04:27.248932Z\", \"end_time\": \"2021-04-01T16:05:11.73238Z\", \"created_time\": \"2021-04-01T16:04:19.117503Z\", \"created_time_dt\": \"2021-04-01T16:04:19.117503Z\", \"duration\": \"0:00:52\", \"iteration\": \"14\", \"goal\": \"accuracy_max\", \"run_name\": \"SparseNormalizer, XGBoostClassifier\", \"run_properties\": \"<azureml.automl.runtime.shared.model_wrappers.SparseNormalizer object at 0x7f16068ee3c8\", \"primary_metric\": 0.84151042, \"best_metric\": 0.84811558}, {\"run_id\": \"AutoML_48a3780c-79c8-4df9-ba17-2162603fc8db_15\", \"run_number\": 21, \"metric\": null, \"status\": \"Completed\", \"run_type\": \"azureml.scriptrun\", \"training_percent\": \"100\", \"start_time\": \"2021-04-01T16:04:34.494553Z\", \"end_time\": \"2021-04-01T16:05:24.968111Z\", \"created_time\": \"2021-04-01T16:04:23.408313Z\", \"created_time_dt\": \"2021-04-01T16:04:23.408313Z\", \"duration\": \"0:01:01\", \"iteration\": \"15\", \"goal\": \"accuracy_max\", \"run_name\": \"SparseNormalizer, LightGBM\", \"run_properties\": \"<azureml.automl.runtime.shared.model_wrappers.SparseNormalizer object at 0x7f2fb7f24668\", \"primary_metric\": 0.84646425, \"best_metric\": 0.84811558}, {\"run_id\": \"AutoML_48a3780c-79c8-4df9-ba17-2162603fc8db_16\", \"run_number\": 22, \"metric\": null, \"status\": \"Completed\", \"run_type\": \"azureml.scriptrun\", \"training_percent\": \"100\", \"start_time\": \"2021-04-01T16:04:51.383751Z\", \"end_time\": \"2021-04-01T16:05:48.268275Z\", \"created_time\": \"2021-04-01T16:04:38.706576Z\", \"created_time_dt\": \"2021-04-01T16:04:38.706576Z\", \"duration\": \"0:01:09\", \"iteration\": \"16\", \"goal\": \"accuracy_max\", \"run_name\": \"MaxAbsScaler, ExtremeRandomTrees\", \"run_properties\": \"copy=True\", \"primary_metric\": 0.84811558, \"best_metric\": 0.84811558}, {\"run_id\": \"AutoML_48a3780c-79c8-4df9-ba17-2162603fc8db_17\", \"run_number\": 23, \"metric\": null, \"status\": \"Completed\", \"run_type\": \"azureml.scriptrun\", \"training_percent\": \"100\", \"start_time\": \"2021-04-01T16:05:22.1725Z\", \"end_time\": \"2021-04-01T16:06:13.840166Z\", \"created_time\": \"2021-04-01T16:05:10.107546Z\", \"created_time_dt\": \"2021-04-01T16:05:10.107546Z\", \"duration\": \"0:01:03\", \"iteration\": \"17\", \"goal\": \"accuracy_max\", \"run_name\": \"SparseNormalizer, XGBoostClassifier\", \"run_properties\": \"<azureml.automl.runtime.shared.model_wrappers.SparseNormalizer object at 0x7f380aaab2e8\", \"primary_metric\": 0.83278328, \"best_metric\": 0.84811558}, {\"run_id\": \"AutoML_48a3780c-79c8-4df9-ba17-2162603fc8db_18\", \"run_number\": 24, \"metric\": null, \"status\": \"Completed\", \"run_type\": \"azureml.scriptrun\", \"training_percent\": \"100\", \"start_time\": \"2021-04-01T16:05:27.399812Z\", \"end_time\": \"2021-04-01T16:06:10.456143Z\", \"created_time\": \"2021-04-01T16:05:15.270764Z\", \"created_time_dt\": \"2021-04-01T16:05:15.270764Z\", \"duration\": \"0:00:55\", \"iteration\": \"18\", \"goal\": \"accuracy_max\", \"run_name\": \"SparseNormalizer, XGBoostClassifier\", \"run_properties\": \"<azureml.automl.runtime.shared.model_wrappers.SparseNormalizer object at 0x7f52a23c8a58\", \"primary_metric\": 0.84764377, \"best_metric\": 0.84811558}, {\"run_id\": \"AutoML_48a3780c-79c8-4df9-ba17-2162603fc8db_19\", \"run_number\": 25, \"metric\": null, \"status\": \"Completed\", \"run_type\": \"azureml.scriptrun\", \"training_percent\": \"100\", \"start_time\": \"2021-04-01T16:05:39.816612Z\", \"end_time\": \"2021-04-01T16:06:25.987544Z\", \"created_time\": \"2021-04-01T16:05:27.391512Z\", \"created_time_dt\": \"2021-04-01T16:05:27.391512Z\", \"duration\": \"0:00:58\", \"iteration\": \"19\", \"goal\": \"accuracy_max\", \"run_name\": \"SparseNormalizer, XGBoostClassifier\", \"run_properties\": \"<azureml.automl.runtime.shared.model_wrappers.SparseNormalizer object at 0x7fddf86952b0\", \"primary_metric\": 0.84151092, \"best_metric\": 0.84811558}, {\"run_id\": \"AutoML_48a3780c-79c8-4df9-ba17-2162603fc8db_20\", \"run_number\": 26, \"metric\": null, \"status\": \"Completed\", \"run_type\": \"azureml.scriptrun\", \"training_percent\": \"100\", \"start_time\": \"2021-04-01T16:06:05.217443Z\", \"end_time\": \"2021-04-01T16:07:01.129319Z\", \"created_time\": \"2021-04-01T16:05:50.724375Z\", \"created_time_dt\": \"2021-04-01T16:05:50.724375Z\", \"duration\": \"0:01:10\", \"iteration\": \"20\", \"goal\": \"accuracy_max\", \"run_name\": \"MaxAbsScaler, RandomForest\", \"run_properties\": \"copy=True\", \"primary_metric\": 0.84811558, \"best_metric\": 0.84811558}, {\"run_id\": \"AutoML_48a3780c-79c8-4df9-ba17-2162603fc8db_21\", \"run_number\": 27, \"metric\": null, \"status\": \"Completed\", \"run_type\": \"azureml.scriptrun\", \"training_percent\": \"100\", \"start_time\": \"2021-04-01T16:06:26.964411Z\", \"end_time\": \"2021-04-01T16:07:09.160758Z\", \"created_time\": \"2021-04-01T16:06:13.025039Z\", \"created_time_dt\": \"2021-04-01T16:06:13.025039Z\", \"duration\": \"0:00:56\", \"iteration\": \"21\", \"goal\": \"accuracy_max\", \"run_name\": \"MaxAbsScaler, LightGBM\", \"run_properties\": \"copy=True\", \"primary_metric\": 0.84693606, \"best_metric\": 0.84811558}, {\"run_id\": \"AutoML_48a3780c-79c8-4df9-ba17-2162603fc8db_22\", \"run_number\": 28, \"metric\": null, \"status\": \"Completed\", \"run_type\": \"azureml.scriptrun\", \"training_percent\": \"100\", \"start_time\": \"2021-04-01T16:06:29.026998Z\", \"end_time\": \"2021-04-01T16:07:13.748369Z\", \"created_time\": \"2021-04-01T16:06:18.434218Z\", \"created_time_dt\": \"2021-04-01T16:06:18.434218Z\", \"duration\": \"0:00:55\", \"iteration\": \"22\", \"goal\": \"accuracy_max\", \"run_name\": \"SparseNormalizer, XGBoostClassifier\", \"run_properties\": \"<azureml.automl.runtime.shared.model_wrappers.SparseNormalizer object at 0x7f8f40734b00\", \"primary_metric\": 0.84151092, \"best_metric\": 0.84811558}, {\"run_id\": \"AutoML_48a3780c-79c8-4df9-ba17-2162603fc8db_23\", \"run_number\": 29, \"metric\": null, \"status\": \"Completed\", \"run_type\": \"azureml.scriptrun\", \"training_percent\": \"100\", \"start_time\": \"2021-04-01T16:06:41.678613Z\", \"end_time\": \"2021-04-01T16:07:36.032405Z\", \"created_time\": \"2021-04-01T16:06:29.197597Z\", \"created_time_dt\": \"2021-04-01T16:06:29.197597Z\", \"duration\": \"0:01:06\", \"iteration\": \"23\", \"goal\": \"accuracy_max\", \"run_name\": \"StandardScalerWrapper, XGBoostClassifier\", \"run_properties\": \"<azureml.automl.runtime.shared.model_wrappers.StandardScalerWrapper object at 0x7f9a26a9db00\", \"primary_metric\": 0.84835132, \"best_metric\": 0.84835132}, {\"run_id\": \"AutoML_48a3780c-79c8-4df9-ba17-2162603fc8db_24\", \"run_number\": 32, \"metric\": null, \"status\": \"Completed\", \"run_type\": \"azureml.scriptrun\", \"training_percent\": \"100\", \"start_time\": \"2021-04-01T16:07:14.456182Z\", \"end_time\": \"2021-04-01T16:08:02.06813Z\", \"created_time\": \"2021-04-01T16:07:03.533556Z\", \"created_time_dt\": \"2021-04-01T16:07:03.533556Z\", \"duration\": \"0:00:58\", \"iteration\": \"24\", \"goal\": \"accuracy_max\", \"run_name\": \"SparseNormalizer, XGBoostClassifier\", \"run_properties\": \"<azureml.automl.runtime.shared.model_wrappers.SparseNormalizer object at 0x7f9f0afa3198\", \"primary_metric\": 0.84599261, \"best_metric\": 0.84835132}, {\"run_id\": \"AutoML_48a3780c-79c8-4df9-ba17-2162603fc8db_25\", \"run_number\": 33, \"metric\": null, \"status\": \"Completed\", \"run_type\": \"azureml.scriptrun\", \"training_percent\": \"100\", \"start_time\": \"2021-04-01T16:07:25.168079Z\", \"end_time\": \"2021-04-01T16:08:10.880631Z\", \"created_time\": \"2021-04-01T16:07:12.8109Z\", \"created_time_dt\": \"2021-04-01T16:07:12.8109Z\", \"duration\": \"0:00:58\", \"iteration\": \"25\", \"goal\": \"accuracy_max\", \"run_name\": \"SparseNormalizer, RandomForest\", \"run_properties\": \"<azureml.automl.runtime.shared.model_wrappers.SparseNormalizer object at 0x7f578c1876a0\", \"primary_metric\": 0.84811558, \"best_metric\": 0.84835132}, {\"run_id\": \"AutoML_48a3780c-79c8-4df9-ba17-2162603fc8db_26\", \"run_number\": 34, \"metric\": null, \"status\": \"Completed\", \"run_type\": \"azureml.scriptrun\", \"training_percent\": \"100\", \"start_time\": \"2021-04-01T16:07:30.064923Z\", \"end_time\": \"2021-04-01T16:08:21.657072Z\", \"created_time\": \"2021-04-01T16:07:17.301394Z\", \"created_time_dt\": \"2021-04-01T16:07:17.301394Z\", \"duration\": \"0:01:04\", \"iteration\": \"26\", \"goal\": \"accuracy_max\", \"run_name\": \"SparseNormalizer, LightGBM\", \"run_properties\": \"<azureml.automl.runtime.shared.model_wrappers.SparseNormalizer object at 0x7ffa7e32f278\", \"primary_metric\": 0.84575654, \"best_metric\": 0.84835132}, {\"run_id\": \"AutoML_48a3780c-79c8-4df9-ba17-2162603fc8db_27\", \"run_number\": 39, \"metric\": null, \"status\": \"Completed\", \"run_type\": \"azureml.scriptrun\", \"training_percent\": \"100\", \"start_time\": \"2021-04-01T16:09:56.352382Z\", \"end_time\": \"2021-04-01T16:10:41.198666Z\", \"created_time\": \"2021-04-01T16:07:38.298108Z\", \"created_time_dt\": \"2021-04-01T16:07:38.298108Z\", \"duration\": \"0:03:02\", \"iteration\": \"27\", \"goal\": \"accuracy_max\", \"run_name\": \"StandardScalerWrapper, RandomForest\", \"run_properties\": \"<azureml.automl.runtime.shared.model_wrappers.StandardScalerWrapper object at 0x7fd7e2fa5198\", \"primary_metric\": 0.84811558, \"best_metric\": 0.84835132}, {\"run_id\": \"AutoML_48a3780c-79c8-4df9-ba17-2162603fc8db_28\", \"run_number\": 40, \"metric\": null, \"status\": \"Completed\", \"run_type\": \"azureml.scriptrun\", \"training_percent\": \"100\", \"start_time\": \"2021-04-01T16:10:12.211451Z\", \"end_time\": \"2021-04-01T16:10:55.132332Z\", \"created_time\": \"2021-04-01T16:08:04.658097Z\", \"created_time_dt\": \"2021-04-01T16:08:04.658097Z\", \"duration\": \"0:02:50\", \"iteration\": \"28\", \"goal\": \"accuracy_max\", \"run_name\": \"SparseNormalizer, ExtremeRandomTrees\", \"run_properties\": \"<azureml.automl.runtime.shared.model_wrappers.SparseNormalizer object at 0x7fcec896e908\", \"primary_metric\": 0.84811558, \"best_metric\": 0.84835132}, {\"run_id\": \"AutoML_48a3780c-79c8-4df9-ba17-2162603fc8db_29\", \"run_number\": 41, \"metric\": null, \"status\": \"Completed\", \"run_type\": \"azureml.scriptrun\", \"training_percent\": \"100\", \"start_time\": \"2021-04-01T16:10:46.758261Z\", \"end_time\": \"2021-04-01T16:11:34.006871Z\", \"created_time\": \"2021-04-01T16:08:13.559483Z\", \"created_time_dt\": \"2021-04-01T16:08:13.559483Z\", \"duration\": \"0:03:20\", \"iteration\": \"29\", \"goal\": \"accuracy_max\", \"run_name\": \"MaxAbsScaler, LightGBM\", \"run_properties\": \"copy=True\", \"primary_metric\": 0.84670015, \"best_metric\": 0.84835132}, {\"run_id\": \"AutoML_48a3780c-79c8-4df9-ba17-2162603fc8db_30\", \"run_number\": 42, \"metric\": null, \"status\": \"Completed\", \"run_type\": \"azureml.scriptrun\", \"training_percent\": \"100\", \"start_time\": \"2021-04-01T16:10:53.983856Z\", \"end_time\": \"2021-04-01T16:11:50.351402Z\", \"created_time\": \"2021-04-01T16:08:24.949717Z\", \"created_time_dt\": \"2021-04-01T16:08:24.949717Z\", \"duration\": \"0:03:25\", \"iteration\": \"30\", \"goal\": \"accuracy_max\", \"run_name\": \"TruncatedSVDWrapper, XGBoostClassifier\", \"run_properties\": \"n_components=0.8015789473684211, random_state=None\", \"primary_metric\": 0.84811558, \"best_metric\": 0.84835132}, {\"run_id\": \"AutoML_48a3780c-79c8-4df9-ba17-2162603fc8db_31\", \"run_number\": 45, \"metric\": null, \"status\": \"Completed\", \"run_type\": \"azureml.scriptrun\", \"training_percent\": \"100\", \"start_time\": \"2021-04-01T16:11:19.208601Z\", \"end_time\": \"2021-04-01T16:12:19.447446Z\", \"created_time\": \"2021-04-01T16:10:43.154701Z\", \"created_time_dt\": \"2021-04-01T16:10:43.154701Z\", \"duration\": \"0:01:36\", \"iteration\": \"31\", \"goal\": \"accuracy_max\", \"run_name\": \"StandardScalerWrapper, XGBoostClassifier\", \"run_properties\": \"<azureml.automl.runtime.shared.model_wrappers.StandardScalerWrapper object at 0x7f4b3bba1cf8\", \"primary_metric\": 0.82971802, \"best_metric\": 0.84835132}, {\"run_id\": \"AutoML_48a3780c-79c8-4df9-ba17-2162603fc8db_32\", \"run_number\": 46, \"metric\": null, \"status\": \"Completed\", \"run_type\": \"azureml.scriptrun\", \"training_percent\": \"100\", \"start_time\": \"2021-04-01T16:11:22.8219Z\", \"end_time\": \"2021-04-01T16:12:09.770471Z\", \"created_time\": \"2021-04-01T16:10:57.059802Z\", \"created_time_dt\": \"2021-04-01T16:10:57.059802Z\", \"duration\": \"0:01:12\", \"iteration\": \"32\", \"goal\": \"accuracy_max\", \"run_name\": \"StandardScalerWrapper, XGBoostClassifier\", \"run_properties\": \"<azureml.automl.runtime.shared.model_wrappers.StandardScalerWrapper object at 0x7fea61ac9ba8\", \"primary_metric\": 0.82217224, \"best_metric\": 0.84835132}, {\"run_id\": \"AutoML_48a3780c-79c8-4df9-ba17-2162603fc8db_33\", \"run_number\": 47, \"metric\": null, \"status\": \"Completed\", \"run_type\": \"azureml.scriptrun\", \"training_percent\": \"100\", \"start_time\": \"2021-04-01T16:11:47.841026Z\", \"end_time\": \"2021-04-01T16:12:33.519233Z\", \"created_time\": \"2021-04-01T16:11:35.972503Z\", \"created_time_dt\": \"2021-04-01T16:11:35.972503Z\", \"duration\": \"0:00:57\", \"iteration\": \"33\", \"goal\": \"accuracy_max\", \"run_name\": \"SparseNormalizer, LightGBM\", \"run_properties\": \"<azureml.automl.runtime.shared.model_wrappers.SparseNormalizer object at 0x7f4255232390\", \"primary_metric\": 0.84528489, \"best_metric\": 0.84835132}, {\"run_id\": \"AutoML_48a3780c-79c8-4df9-ba17-2162603fc8db_34\", \"run_number\": 48, \"metric\": null, \"status\": \"Completed\", \"run_type\": \"azureml.scriptrun\", \"training_percent\": \"100\", \"start_time\": \"2021-04-01T16:12:02.337696Z\", \"end_time\": \"2021-04-01T16:12:52.749226Z\", \"created_time\": \"2021-04-01T16:11:52.627262Z\", \"created_time_dt\": \"2021-04-01T16:11:52.627262Z\", \"duration\": \"0:01:00\", \"iteration\": \"34\", \"goal\": \"accuracy_max\", \"run_name\": \"MaxAbsScaler, LightGBM\", \"run_properties\": \"copy=True\", \"primary_metric\": 0.84552063, \"best_metric\": 0.84835132}, {\"run_id\": \"AutoML_48a3780c-79c8-4df9-ba17-2162603fc8db_35\", \"run_number\": 49, \"metric\": null, \"status\": \"Completed\", \"run_type\": \"azureml.scriptrun\", \"training_percent\": \"100\", \"start_time\": \"2021-04-01T16:12:24.115468Z\", \"end_time\": \"2021-04-01T16:13:24.378239Z\", \"created_time\": \"2021-04-01T16:12:14.233258Z\", \"created_time_dt\": \"2021-04-01T16:12:14.233258Z\", \"duration\": \"0:01:10\", \"iteration\": \"35\", \"goal\": \"accuracy_max\", \"run_name\": \"StandardScalerWrapper, XGBoostClassifier\", \"run_properties\": \"<azureml.automl.runtime.shared.model_wrappers.StandardScalerWrapper object at 0x7fb57c264390\", \"primary_metric\": 0.84811558, \"best_metric\": 0.84835132}, {\"run_id\": \"AutoML_48a3780c-79c8-4df9-ba17-2162603fc8db_36\", \"run_number\": 50, \"metric\": null, \"status\": \"Completed\", \"run_type\": \"azureml.scriptrun\", \"training_percent\": \"100\", \"start_time\": \"2021-04-01T16:12:34.77542Z\", \"end_time\": \"2021-04-01T16:13:26.14068Z\", \"created_time\": \"2021-04-01T16:12:21.600658Z\", \"created_time_dt\": \"2021-04-01T16:12:21.600658Z\", \"duration\": \"0:01:04\", \"iteration\": \"36\", \"goal\": \"accuracy_max\", \"run_name\": \"StandardScalerWrapper, LightGBM\", \"run_properties\": \"<azureml.automl.runtime.shared.model_wrappers.StandardScalerWrapper object at 0x7fa5bbb15ef0\", \"primary_metric\": 0.84552063, \"best_metric\": 0.84835132}, {\"run_id\": \"AutoML_48a3780c-79c8-4df9-ba17-2162603fc8db_37\", \"run_number\": 51, \"metric\": null, \"status\": \"Canceled\", \"run_type\": \"azureml.scriptrun\", \"training_percent\": \"100\", \"start_time\": \"2021-04-01T16:12:49.582654Z\", \"end_time\": \"2021-04-01T16:13:37.995014Z\", \"created_time\": \"2021-04-01T16:12:36.497326Z\", \"created_time_dt\": \"2021-04-01T16:12:36.497326Z\", \"duration\": \"0:01:01\", \"iteration\": \"37\", \"goal\": \"accuracy_max\", \"run_name\": \"StandardScalerWrapper, LightGBM\", \"run_properties\": \"<azureml.automl.runtime.shared.model_wrappers.StandardScalerWrapper object at 0x7f8fb0c0e2b0\", \"primary_metric\": 0.84693606, \"best_metric\": 0.84835132}, {\"run_id\": \"AutoML_48a3780c-79c8-4df9-ba17-2162603fc8db_38\", \"run_number\": 52, \"metric\": null, \"status\": \"Canceled\", \"run_type\": \"azureml.scriptrun\", \"training_percent\": \"100\", \"start_time\": \"2021-04-01T16:13:08.905379Z\", \"end_time\": \"2021-04-01T16:13:37.679541Z\", \"created_time\": \"2021-04-01T16:12:54.597077Z\", \"created_time_dt\": \"2021-04-01T16:12:54.597077Z\", \"duration\": \"0:00:43\", \"iteration\": \"38\", \"goal\": null, \"run_name\": \"SparseNormalizer, XGBoostClassifier\", \"run_properties\": null}, {\"run_id\": \"AutoML_48a3780c-79c8-4df9-ba17-2162603fc8db_39\", \"run_number\": 53, \"metric\": null, \"status\": \"Canceled\", \"run_type\": \"azureml.scriptrun\", \"training_percent\": \"100\", \"start_time\": \"2021-04-01T16:13:26.245193Z\", \"end_time\": \"2021-04-01T16:13:31.594962Z\", \"created_time\": \"2021-04-01T16:13:26.245193Z\", \"created_time_dt\": \"2021-04-01T16:13:26.245193Z\", \"duration\": \"0:00:05\", \"iteration\": \"39\", \"goal\": null, \"run_name\": \"Canceled\", \"run_properties\": null}, {\"run_id\": \"AutoML_48a3780c-79c8-4df9-ba17-2162603fc8db_41\", \"run_number\": 54, \"metric\": null, \"status\": \"Completed\", \"run_type\": \"azureml.scriptrun\", \"training_percent\": \"100\", \"start_time\": \"2021-04-01T16:13:50.655382Z\", \"end_time\": \"2021-04-01T16:14:54.981029Z\", \"created_time\": \"2021-04-01T16:13:40.132203Z\", \"created_time_dt\": \"2021-04-01T16:13:40.132203Z\", \"duration\": \"0:01:14\", \"iteration\": \"41\", \"goal\": \"accuracy_max\", \"run_name\": \"StackEnsemble\", \"run_properties\": \"base_learners=[('23',\\n                                        Pipeline(memory=None,\\n                                                 steps=[('standardscalerwrapper',\\n                                                         <azureml.automl.runtime.shared.model_wrappers.StandardScalerWrapper object at 0x7ff974800da0>\", \"primary_metric\": 0.84056663, \"best_metric\": 0.84835132}, {\"run_id\": \"AutoML_48a3780c-79c8-4df9-ba17-2162603fc8db_40\", \"run_number\": 55, \"metric\": null, \"status\": \"Completed\", \"run_type\": \"azureml.scriptrun\", \"training_percent\": \"100\", \"start_time\": \"2021-04-01T16:13:50.577536Z\", \"end_time\": \"2021-04-01T16:14:54.222678Z\", \"created_time\": \"2021-04-01T16:13:40.435294Z\", \"created_time_dt\": \"2021-04-01T16:13:40.435294Z\", \"duration\": \"0:01:13\", \"iteration\": \"40\", \"goal\": \"accuracy_max\", \"run_name\": \"VotingEnsemble\", \"run_properties\": \"classification_labels=None,\\n                              estimators=[('23',\\n                                           Pipeline(memory=None,\\n                                                    steps=[('standardscalerwrapper',\\n                                                            <azureml.automl.runtime.shared.model_wrappers.StandardScalerWrapper object at 0x7f39941decf8>\", \"primary_metric\": 0.84811558, \"best_metric\": 0.84835132}], \"children_metrics\": {\"categories\": [0], \"series\": {\"average_precision_score_micro\": [{\"categories\": [\"0\", \"1\", \"2\", \"3\", \"4\", \"5\", \"6\", \"7\", \"8\", \"9\", \"10\", \"11\", \"12\", \"13\", \"14\", \"15\", \"16\", \"17\", \"18\", \"19\", \"20\", \"21\", \"22\", \"23\", \"24\", \"25\", \"26\", \"27\", \"28\", \"29\", \"30\", \"31\", \"32\", \"33\", \"34\", \"35\", \"36\", \"37\", \"40\", \"41\"], \"mode\": \"markers\", \"name\": \"average_precision_score_micro\", \"stepped\": false, \"type\": \"scatter\", \"data\": [0.8592287392735471, 0.8779004009511157, 0.8827401073848637, 0.8242270888453165, 0.5914009064054583, 0.6596461923667974, 0.8725567696302305, 0.8747111756262571, 0.8684887126724035, 0.8753015410401607, 0.8632109112155107, 0.8754737515126575, 0.8774908741775634, 0.8750081767251867, 0.8689744740300521, 0.8743823220854501, 0.8775741868067293, 0.8696728825386065, 0.8726259645308233, 0.8765670113608349, 0.8746478150521799, 0.8721989732197146, 0.8674017633450385, 0.8657408606077333, 0.8711968337805617, 0.7953631303377638, 0.8773363622922078, 0.8764296455506914, 0.8788083160866546, 0.8781808631751221, 0.7953631303377638, 0.8547320284806887, 0.8659337953888081, 0.8706617911716704, 0.8724354597884579, 0.7953631303377638, 0.8713137357765315, 0.8715796713852585, 0.8788549016761151, 0.8785557010616949]}, {\"categories\": [\"0\", \"1\", \"2\", \"3\", \"4\", \"5\", \"6\", \"7\", \"8\", \"9\", \"10\", \"11\", \"12\", \"13\", \"14\", \"15\", \"16\", \"17\", \"18\", \"19\", \"20\", \"21\", \"22\", \"23\", \"24\", \"25\", \"26\", \"27\", \"28\", \"29\", \"30\", \"31\", \"32\", \"33\", \"34\", \"35\", \"36\", \"37\", \"40\", \"41\"], \"mode\": \"lines\", \"name\": \"average_precision_score_micro_max\", \"stepped\": true, \"type\": \"scatter\", \"data\": [0.8592287392735471, 0.8779004009511157, 0.8827401073848637, 0.8827401073848637, 0.8827401073848637, 0.8827401073848637, 0.8827401073848637, 0.8827401073848637, 0.8827401073848637, 0.8827401073848637, 0.8827401073848637, 0.8827401073848637, 0.8827401073848637, 0.8827401073848637, 0.8827401073848637, 0.8827401073848637, 0.8827401073848637, 0.8827401073848637, 0.8827401073848637, 0.8827401073848637, 0.8827401073848637, 0.8827401073848637, 0.8827401073848637, 0.8827401073848637, 0.8827401073848637, 0.8827401073848637, 0.8827401073848637, 0.8827401073848637, 0.8827401073848637, 0.8827401073848637, 0.8827401073848637, 0.8827401073848637, 0.8827401073848637, 0.8827401073848637, 0.8827401073848637, 0.8827401073848637, 0.8827401073848637, 0.8827401073848637, 0.8827401073848637, 0.8827401073848637]}], \"matthews_correlation\": [{\"categories\": [\"0\", \"1\", \"2\", \"3\", \"4\", \"5\", \"6\", \"7\", \"8\", \"9\", \"10\", \"11\", \"12\", \"13\", \"14\", \"15\", \"16\", \"17\", \"18\", \"19\", \"20\", \"21\", \"22\", \"23\", \"24\", \"25\", \"26\", \"27\", \"28\", \"29\", \"30\", \"31\", \"32\", \"33\", \"34\", \"35\", \"36\", \"37\", \"40\", \"41\"], \"mode\": \"markers\", \"name\": \"matthews_correlation\", \"stepped\": false, \"type\": \"scatter\", \"data\": [0.09364822094370161, 0.0918049936561393, 0.0, 0.0, 0.1473027956652156, 0.18041425914128117, 0.07110634509173232, 0.0, -0.004991475863470638, 0.0, 0.09373430811225923, 0.0, 0.0, 0.0, 0.07679370891086387, -0.001979978056024807, 0.0, 0.0630660221148615, 0.02158577812401521, 0.062464535181162455, 0.0, 0.006654926243861156, 0.06322304504871143, 0.02105689647699088, 0.001567353164476523, 0.0, 0.000608651904827406, 0.0, 0.0, -0.0008488057550172873, 0.0, 0.0867293114949466, 0.08327257368461917, 0.03525862170460357, 0.004271874787898634, 0.0, 0.019342814233086914, 0.019697833240344794, 0.0, 0.012985789031371708]}, {\"categories\": [\"0\", \"1\", \"2\", \"3\", \"4\", \"5\", \"6\", \"7\", \"8\", \"9\", \"10\", \"11\", \"12\", \"13\", \"14\", \"15\", \"16\", \"17\", \"18\", \"19\", \"20\", \"21\", \"22\", \"23\", \"24\", \"25\", \"26\", \"27\", \"28\", \"29\", \"30\", \"31\", \"32\", \"33\", \"34\", \"35\", \"36\", \"37\", \"40\", \"41\"], \"mode\": \"lines\", \"name\": \"matthews_correlation_max\", \"stepped\": true, \"type\": \"scatter\", \"data\": [0.09364822094370161, 0.09364822094370161, 0.09364822094370161, 0.09364822094370161, 0.1473027956652156, 0.18041425914128117, 0.18041425914128117, 0.18041425914128117, 0.18041425914128117, 0.18041425914128117, 0.18041425914128117, 0.18041425914128117, 0.18041425914128117, 0.18041425914128117, 0.18041425914128117, 0.18041425914128117, 0.18041425914128117, 0.18041425914128117, 0.18041425914128117, 0.18041425914128117, 0.18041425914128117, 0.18041425914128117, 0.18041425914128117, 0.18041425914128117, 0.18041425914128117, 0.18041425914128117, 0.18041425914128117, 0.18041425914128117, 0.18041425914128117, 0.18041425914128117, 0.18041425914128117, 0.18041425914128117, 0.18041425914128117, 0.18041425914128117, 0.18041425914128117, 0.18041425914128117, 0.18041425914128117, 0.18041425914128117, 0.18041425914128117, 0.18041425914128117]}], \"average_precision_score_macro\": [{\"categories\": [\"0\", \"1\", \"2\", \"3\", \"4\", \"5\", \"6\", \"7\", \"8\", \"9\", \"10\", \"11\", \"12\", \"13\", \"14\", \"15\", \"16\", \"17\", \"18\", \"19\", \"20\", \"21\", \"22\", \"23\", \"24\", \"25\", \"26\", \"27\", \"28\", \"29\", \"30\", \"31\", \"32\", \"33\", \"34\", \"35\", \"36\", \"37\", \"40\", \"41\"], \"mode\": \"markers\", \"name\": \"average_precision_score_macro\", \"stepped\": false, \"type\": \"scatter\", \"data\": [0.5648125926108533, 0.5955597537659437, 0.5982043100152676, 0.5172851018377153, 0.5662029888880283, 0.5811384211150653, 0.5824255130194963, 0.5922294357254072, 0.5861818648693751, 0.5964740345764522, 0.5707478213160374, 0.592915425759084, 0.5923127272042253, 0.5878980643516033, 0.5792850087759961, 0.591083690880246, 0.5887675063833814, 0.5739627411453286, 0.5899597014183139, 0.589287266500799, 0.5921697149381019, 0.5911931540662536, 0.5748068000055188, 0.5766390135931861, 0.5867453825299725, 0.5, 0.6002424316929588, 0.5902940577110614, 0.5954522208898094, 0.601524920712965, 0.5, 0.5560888295975066, 0.5693309439988186, 0.5900660063499692, 0.5925536899238307, 0.5, 0.5897870277873324, 0.5893337152645873, 0.5943476252794803, 0.59487084855078]}, {\"categories\": [\"0\", \"1\", \"2\", \"3\", \"4\", \"5\", \"6\", \"7\", \"8\", \"9\", \"10\", \"11\", \"12\", \"13\", \"14\", \"15\", \"16\", \"17\", \"18\", \"19\", \"20\", \"21\", \"22\", \"23\", \"24\", \"25\", \"26\", \"27\", \"28\", \"29\", \"30\", \"31\", \"32\", \"33\", \"34\", \"35\", \"36\", \"37\", \"40\", \"41\"], \"mode\": \"lines\", \"name\": \"average_precision_score_macro_max\", \"stepped\": true, \"type\": \"scatter\", \"data\": [0.5648125926108533, 0.5955597537659437, 0.5982043100152676, 0.5982043100152676, 0.5982043100152676, 0.5982043100152676, 0.5982043100152676, 0.5982043100152676, 0.5982043100152676, 0.5982043100152676, 0.5982043100152676, 0.5982043100152676, 0.5982043100152676, 0.5982043100152676, 0.5982043100152676, 0.5982043100152676, 0.5982043100152676, 0.5982043100152676, 0.5982043100152676, 0.5982043100152676, 0.5982043100152676, 0.5982043100152676, 0.5982043100152676, 0.5982043100152676, 0.5982043100152676, 0.5982043100152676, 0.6002424316929588, 0.6002424316929588, 0.6002424316929588, 0.601524920712965, 0.601524920712965, 0.601524920712965, 0.601524920712965, 0.601524920712965, 0.601524920712965, 0.601524920712965, 0.601524920712965, 0.601524920712965, 0.601524920712965, 0.601524920712965]}], \"precision_score_weighted\": [{\"categories\": [\"0\", \"1\", \"2\", \"3\", \"4\", \"5\", \"6\", \"7\", \"8\", \"9\", \"10\", \"11\", \"12\", \"13\", \"14\", \"15\", \"16\", \"17\", \"18\", \"19\", \"20\", \"21\", \"22\", \"23\", \"24\", \"25\", \"26\", \"27\", \"28\", \"29\", \"30\", \"31\", \"32\", \"33\", \"34\", \"35\", \"36\", \"37\", \"40\", \"41\"], \"mode\": \"markers\", \"name\": \"precision_score_weighted\", \"stepped\": false, \"type\": \"scatter\", \"data\": [0.7741441853881125, 0.8035558631912375, 0.719420921315527, 0.719420921315527, 0.7987758529993726, 0.7967885635081511, 0.7771207438244353, 0.719420921315527, 0.7193652008747605, 0.719420921315527, 0.7711852905617406, 0.719420921315527, 0.719420921315527, 0.719420921315527, 0.7810739547419421, 0.7244327627191988, 0.719420921315527, 0.7663941523146033, 0.7381731109867632, 0.773162378728963, 0.719420921315527, 0.7296965962444147, 0.7756952287500143, 0.7557100043685105, 0.7419630357870638, 0.719420921315527, 0.7259432041171952, 0.719420921315527, 0.719420921315527, 0.7250931310096441, 0.719420921315527, 0.771588959390764, 0.7671188868308177, 0.7675809831893136, 0.7275953342337936, 0.719420921315527, 0.7776124840016646, 0.7776316925692233, 0.719420921315527, 0.7294629904645489]}, {\"categories\": [\"0\", \"1\", \"2\", \"3\", \"4\", \"5\", \"6\", \"7\", \"8\", \"9\", \"10\", \"11\", \"12\", \"13\", \"14\", \"15\", \"16\", \"17\", \"18\", \"19\", \"20\", \"21\", \"22\", \"23\", \"24\", \"25\", \"26\", \"27\", \"28\", \"29\", \"30\", \"31\", \"32\", \"33\", \"34\", \"35\", \"36\", \"37\", \"40\", \"41\"], \"mode\": \"lines\", \"name\": \"precision_score_weighted_max\", \"stepped\": true, \"type\": \"scatter\", \"data\": [0.7741441853881125, 0.8035558631912375, 0.8035558631912375, 0.8035558631912375, 0.8035558631912375, 0.8035558631912375, 0.8035558631912375, 0.8035558631912375, 0.8035558631912375, 0.8035558631912375, 0.8035558631912375, 0.8035558631912375, 0.8035558631912375, 0.8035558631912375, 0.8035558631912375, 0.8035558631912375, 0.8035558631912375, 0.8035558631912375, 0.8035558631912375, 0.8035558631912375, 0.8035558631912375, 0.8035558631912375, 0.8035558631912375, 0.8035558631912375, 0.8035558631912375, 0.8035558631912375, 0.8035558631912375, 0.8035558631912375, 0.8035558631912375, 0.8035558631912375, 0.8035558631912375, 0.8035558631912375, 0.8035558631912375, 0.8035558631912375, 0.8035558631912375, 0.8035558631912375, 0.8035558631912375, 0.8035558631912375, 0.8035558631912375, 0.8035558631912375]}], \"f1_score_micro\": [{\"categories\": [\"0\", \"1\", \"2\", \"3\", \"4\", \"5\", \"6\", \"7\", \"8\", \"9\", \"10\", \"11\", \"12\", \"13\", \"14\", \"15\", \"16\", \"17\", \"18\", \"19\", \"20\", \"21\", \"22\", \"23\", \"24\", \"25\", \"26\", \"27\", \"28\", \"29\", \"30\", \"31\", \"32\", \"33\", \"34\", \"35\", \"36\", \"37\", \"40\", \"41\"], \"mode\": \"markers\", \"name\": \"f1_score_micro\", \"stepped\": false, \"type\": \"scatter\", \"data\": [0.8320762315843352, 0.8471711290024969, 0.8481155819555264, 0.8481155819555264, 0.5306183939595052, 0.6643823618030593, 0.8391518709044092, 0.8481155819555264, 0.8476437725665197, 0.8481155819555264, 0.8228772831787273, 0.8481155819555264, 0.8481155819555264, 0.8481155819555264, 0.8415104173444338, 0.8464642490940025, 0.8481155819555264, 0.8327832783278328, 0.8476437725665197, 0.8415109178494434, 0.8481155819555264, 0.8469360584830093, 0.8415109178494434, 0.8483513198150266, 0.8459926065399989, 0.8481155819555264, 0.8457565350104922, 0.8481155819555264, 0.8481155819555264, 0.846700153788506, 0.8481155819555264, 0.829718018814317, 0.8221722384552681, 0.8452848924564886, 0.8455206303159889, 0.8481155819555264, 0.8455206303159888, 0.8469360584830093, 0.8481155819555264, 0.840566631731417]}, {\"categories\": [\"0\", \"1\", \"2\", \"3\", \"4\", \"5\", \"6\", \"7\", \"8\", \"9\", \"10\", \"11\", \"12\", \"13\", \"14\", \"15\", \"16\", \"17\", \"18\", \"19\", \"20\", \"21\", \"22\", \"23\", \"24\", \"25\", \"26\", \"27\", \"28\", \"29\", \"30\", \"31\", \"32\", \"33\", \"34\", \"35\", \"36\", \"37\", \"40\", \"41\"], \"mode\": \"lines\", \"name\": \"f1_score_micro_max\", \"stepped\": true, \"type\": \"scatter\", \"data\": [0.8320762315843352, 0.8471711290024969, 0.8481155819555264, 0.8481155819555264, 0.8481155819555264, 0.8481155819555264, 0.8481155819555264, 0.8481155819555264, 0.8481155819555264, 0.8481155819555264, 0.8481155819555264, 0.8481155819555264, 0.8481155819555264, 0.8481155819555264, 0.8481155819555264, 0.8481155819555264, 0.8481155819555264, 0.8481155819555264, 0.8481155819555264, 0.8481155819555264, 0.8481155819555264, 0.8481155819555264, 0.8481155819555264, 0.8483513198150266, 0.8483513198150266, 0.8483513198150266, 0.8483513198150266, 0.8483513198150266, 0.8483513198150266, 0.8483513198150266, 0.8483513198150266, 0.8483513198150266, 0.8483513198150266, 0.8483513198150266, 0.8483513198150266, 0.8483513198150266, 0.8483513198150266, 0.8483513198150266, 0.8483513198150266, 0.8483513198150266]}], \"average_precision_score_weighted\": [{\"categories\": [\"0\", \"1\", \"2\", \"3\", \"4\", \"5\", \"6\", \"7\", \"8\", \"9\", \"10\", \"11\", \"12\", \"13\", \"14\", \"15\", \"16\", \"17\", \"18\", \"19\", \"20\", \"21\", \"22\", \"23\", \"24\", \"25\", \"26\", \"27\", \"28\", \"29\", \"30\", \"31\", \"32\", \"33\", \"34\", \"35\", \"36\", \"37\", \"40\", \"41\"], \"mode\": \"markers\", \"name\": \"average_precision_score_weighted\", \"stepped\": false, \"type\": \"scatter\", \"data\": [0.7941525642384558, 0.8146818351804374, 0.8186411988155985, 0.7582375577709476, 0.7973302693907544, 0.807146823241947, 0.8075708325273022, 0.8116113457430378, 0.8050645541780522, 0.8131671959719585, 0.8007067750648726, 0.8122165038749619, 0.8134032442725445, 0.8104380768350571, 0.8037659734253492, 0.8108246432406037, 0.812847297187508, 0.8036180687146078, 0.8092477279980455, 0.8120109134641869, 0.8114729055795356, 0.8093149262253841, 0.8021430371371622, 0.8015591882407153, 0.8072907460087148, 0.7426106787200014, 0.8157088485930825, 0.8123044806681355, 0.8156722443853494, 0.8168133169271011, 0.7426106787200014, 0.789544210871961, 0.8021146558742728, 0.8078535987672567, 0.8097633856773082, 0.7426106787200014, 0.8084391714043573, 0.8082515597110737, 0.8152605498181438, 0.8156780062471066]}, {\"categories\": [\"0\", \"1\", \"2\", \"3\", \"4\", \"5\", \"6\", \"7\", \"8\", \"9\", \"10\", \"11\", \"12\", \"13\", \"14\", \"15\", \"16\", \"17\", \"18\", \"19\", \"20\", \"21\", \"22\", \"23\", \"24\", \"25\", \"26\", \"27\", \"28\", \"29\", \"30\", \"31\", \"32\", \"33\", \"34\", \"35\", \"36\", \"37\", \"40\", \"41\"], \"mode\": \"lines\", \"name\": \"average_precision_score_weighted_max\", \"stepped\": true, \"type\": \"scatter\", \"data\": [0.7941525642384558, 0.8146818351804374, 0.8186411988155985, 0.8186411988155985, 0.8186411988155985, 0.8186411988155985, 0.8186411988155985, 0.8186411988155985, 0.8186411988155985, 0.8186411988155985, 0.8186411988155985, 0.8186411988155985, 0.8186411988155985, 0.8186411988155985, 0.8186411988155985, 0.8186411988155985, 0.8186411988155985, 0.8186411988155985, 0.8186411988155985, 0.8186411988155985, 0.8186411988155985, 0.8186411988155985, 0.8186411988155985, 0.8186411988155985, 0.8186411988155985, 0.8186411988155985, 0.8186411988155985, 0.8186411988155985, 0.8186411988155985, 0.8186411988155985, 0.8186411988155985, 0.8186411988155985, 0.8186411988155985, 0.8186411988155985, 0.8186411988155985, 0.8186411988155985, 0.8186411988155985, 0.8186411988155985, 0.8186411988155985, 0.8186411988155985]}], \"log_loss\": [{\"categories\": [\"0\", \"1\", \"2\", \"3\", \"4\", \"5\", \"6\", \"7\", \"8\", \"9\", \"10\", \"11\", \"12\", \"13\", \"14\", \"15\", \"16\", \"17\", \"18\", \"19\", \"20\", \"21\", \"22\", \"23\", \"24\", \"25\", \"26\", \"27\", \"28\", \"29\", \"30\", \"31\", \"32\", \"33\", \"34\", \"35\", \"36\", \"37\", \"40\", \"41\"], \"mode\": \"markers\", \"name\": \"log_loss\", \"stepped\": false, \"type\": \"scatter\", \"data\": [0.460055263397241, 0.4036267085056564, 0.40879538679909927, 0.4259771572074693, 0.6884635354715315, 0.6597502662264177, 0.4116961187022851, 0.4062437424925968, 0.4086589115980342, 0.4058308943769575, 0.4575744952937013, 0.4107389730672617, 0.40427352308372133, 0.4114385625209742, 0.4114724085227211, 0.40512549746444404, 0.4072544215435035, 0.42946262186556505, 0.40840501718001027, 0.4065039587139623, 0.40708312282403, 0.4066220260654294, 0.45537706713973153, 0.45776584213366184, 0.4090706691674506, 0.42661914542078844, 0.4026641018477315, 0.4087328891016566, 0.40579742353451936, 0.40375272195117334, 0.4265444022056612, 0.4986308217911534, 0.45874588150168033, 0.4091813385996619, 0.4056559704571053, 0.4265445560998585, 0.4080993511857291, 0.40742969830997033, 0.41607333405444136, 0.4299392842294232]}, {\"categories\": [\"0\", \"1\", \"2\", \"3\", \"4\", \"5\", \"6\", \"7\", \"8\", \"9\", \"10\", \"11\", \"12\", \"13\", \"14\", \"15\", \"16\", \"17\", \"18\", \"19\", \"20\", \"21\", \"22\", \"23\", \"24\", \"25\", \"26\", \"27\", \"28\", \"29\", \"30\", \"31\", \"32\", \"33\", \"34\", \"35\", \"36\", \"37\", \"40\", \"41\"], \"mode\": \"lines\", \"name\": \"log_loss_min\", \"stepped\": true, \"type\": \"scatter\", \"data\": [0.460055263397241, 0.4036267085056564, 0.4036267085056564, 0.4036267085056564, 0.4036267085056564, 0.4036267085056564, 0.4036267085056564, 0.4036267085056564, 0.4036267085056564, 0.4036267085056564, 0.4036267085056564, 0.4036267085056564, 0.4036267085056564, 0.4036267085056564, 0.4036267085056564, 0.4036267085056564, 0.4036267085056564, 0.4036267085056564, 0.4036267085056564, 0.4036267085056564, 0.4036267085056564, 0.4036267085056564, 0.4036267085056564, 0.4036267085056564, 0.4036267085056564, 0.4036267085056564, 0.4026641018477315, 0.4026641018477315, 0.4026641018477315, 0.4026641018477315, 0.4026641018477315, 0.4026641018477315, 0.4026641018477315, 0.4026641018477315, 0.4026641018477315, 0.4026641018477315, 0.4026641018477315, 0.4026641018477315, 0.4026641018477315, 0.4026641018477315]}], \"AUC_macro\": [{\"categories\": [\"0\", \"1\", \"2\", \"3\", \"4\", \"5\", \"6\", \"7\", \"8\", \"9\", \"10\", \"11\", \"12\", \"13\", \"14\", \"15\", \"16\", \"17\", \"18\", \"19\", \"20\", \"21\", \"22\", \"23\", \"24\", \"25\", \"26\", \"27\", \"28\", \"29\", \"30\", \"31\", \"32\", \"33\", \"34\", \"35\", \"36\", \"37\", \"40\", \"41\"], \"mode\": \"markers\", \"name\": \"AUC_macro\", \"stepped\": false, \"type\": \"scatter\", \"data\": [0.6272491257921978, 0.6719147375349594, 0.6880714285500599, 0.5541538920359249, 0.6348951443060776, 0.6566936942066736, 0.6572858245329312, 0.6607999889444799, 0.6495415015006695, 0.663275823350025, 0.6451124967477847, 0.6649129495161754, 0.6682364712873751, 0.6628952645239125, 0.651295772558531, 0.6602088877260411, 0.6615374638466834, 0.6507579197881428, 0.6659253497233639, 0.6683080871821273, 0.6609115010732782, 0.6561543973238191, 0.6533602779949524, 0.654262101989172, 0.6630090257888871, 0.5, 0.6694840989486508, 0.6611409249582244, 0.665878393590902, 0.6693210074981333, 0.5, 0.611952318417742, 0.64247552555686, 0.6539639159061393, 0.6605370850681851, 0.5, 0.6522645885072239, 0.6569016585932383, 0.6662759167456785, 0.6674785587475652]}, {\"categories\": [\"0\", \"1\", \"2\", \"3\", \"4\", \"5\", \"6\", \"7\", \"8\", \"9\", \"10\", \"11\", \"12\", \"13\", \"14\", \"15\", \"16\", \"17\", \"18\", \"19\", \"20\", \"21\", \"22\", \"23\", \"24\", \"25\", \"26\", \"27\", \"28\", \"29\", \"30\", \"31\", \"32\", \"33\", \"34\", \"35\", \"36\", \"37\", \"40\", \"41\"], \"mode\": \"lines\", \"name\": \"AUC_macro_max\", \"stepped\": true, \"type\": \"scatter\", \"data\": [0.6272491257921978, 0.6719147375349594, 0.6880714285500599, 0.6880714285500599, 0.6880714285500599, 0.6880714285500599, 0.6880714285500599, 0.6880714285500599, 0.6880714285500599, 0.6880714285500599, 0.6880714285500599, 0.6880714285500599, 0.6880714285500599, 0.6880714285500599, 0.6880714285500599, 0.6880714285500599, 0.6880714285500599, 0.6880714285500599, 0.6880714285500599, 0.6880714285500599, 0.6880714285500599, 0.6880714285500599, 0.6880714285500599, 0.6880714285500599, 0.6880714285500599, 0.6880714285500599, 0.6880714285500599, 0.6880714285500599, 0.6880714285500599, 0.6880714285500599, 0.6880714285500599, 0.6880714285500599, 0.6880714285500599, 0.6880714285500599, 0.6880714285500599, 0.6880714285500599, 0.6880714285500599, 0.6880714285500599, 0.6880714285500599, 0.6880714285500599]}], \"precision_score_micro\": [{\"categories\": [\"0\", \"1\", \"2\", \"3\", \"4\", \"5\", \"6\", \"7\", \"8\", \"9\", \"10\", \"11\", \"12\", \"13\", \"14\", \"15\", \"16\", \"17\", \"18\", \"19\", \"20\", \"21\", \"22\", \"23\", \"24\", \"25\", \"26\", \"27\", \"28\", \"29\", \"30\", \"31\", \"32\", \"33\", \"34\", \"35\", \"36\", \"37\", \"40\", \"41\"], \"mode\": \"markers\", \"name\": \"precision_score_micro\", \"stepped\": false, \"type\": \"scatter\", \"data\": [0.8320762315843352, 0.8471711290024969, 0.8481155819555264, 0.8481155819555264, 0.5306183939595052, 0.6643823618030593, 0.8391518709044092, 0.8481155819555264, 0.8476437725665197, 0.8481155819555264, 0.8228772831787273, 0.8481155819555264, 0.8481155819555264, 0.8481155819555264, 0.8415104173444338, 0.8464642490940025, 0.8481155819555264, 0.8327832783278328, 0.8476437725665197, 0.8415109178494434, 0.8481155819555264, 0.8469360584830093, 0.8415109178494434, 0.8483513198150266, 0.8459926065399989, 0.8481155819555264, 0.8457565350104922, 0.8481155819555264, 0.8481155819555264, 0.846700153788506, 0.8481155819555264, 0.829718018814317, 0.8221722384552681, 0.8452848924564886, 0.8455206303159889, 0.8481155819555264, 0.8455206303159888, 0.8469360584830093, 0.8481155819555264, 0.840566631731417]}, {\"categories\": [\"0\", \"1\", \"2\", \"3\", \"4\", \"5\", \"6\", \"7\", \"8\", \"9\", \"10\", \"11\", \"12\", \"13\", \"14\", \"15\", \"16\", \"17\", \"18\", \"19\", \"20\", \"21\", \"22\", \"23\", \"24\", \"25\", \"26\", \"27\", \"28\", \"29\", \"30\", \"31\", \"32\", \"33\", \"34\", \"35\", \"36\", \"37\", \"40\", \"41\"], \"mode\": \"lines\", \"name\": \"precision_score_micro_max\", \"stepped\": true, \"type\": \"scatter\", \"data\": [0.8320762315843352, 0.8471711290024969, 0.8481155819555264, 0.8481155819555264, 0.8481155819555264, 0.8481155819555264, 0.8481155819555264, 0.8481155819555264, 0.8481155819555264, 0.8481155819555264, 0.8481155819555264, 0.8481155819555264, 0.8481155819555264, 0.8481155819555264, 0.8481155819555264, 0.8481155819555264, 0.8481155819555264, 0.8481155819555264, 0.8481155819555264, 0.8481155819555264, 0.8481155819555264, 0.8481155819555264, 0.8481155819555264, 0.8483513198150266, 0.8483513198150266, 0.8483513198150266, 0.8483513198150266, 0.8483513198150266, 0.8483513198150266, 0.8483513198150266, 0.8483513198150266, 0.8483513198150266, 0.8483513198150266, 0.8483513198150266, 0.8483513198150266, 0.8483513198150266, 0.8483513198150266, 0.8483513198150266, 0.8483513198150266, 0.8483513198150266]}], \"recall_score_macro\": [{\"categories\": [\"0\", \"1\", \"2\", \"3\", \"4\", \"5\", \"6\", \"7\", \"8\", \"9\", \"10\", \"11\", \"12\", \"13\", \"14\", \"15\", \"16\", \"17\", \"18\", \"19\", \"20\", \"21\", \"22\", \"23\", \"24\", \"25\", \"26\", \"27\", \"28\", \"29\", \"30\", \"31\", \"32\", \"33\", \"34\", \"35\", \"36\", \"37\", \"40\", \"41\"], \"mode\": \"markers\", \"name\": \"recall_score_macro\", \"stepped\": false, \"type\": \"scatter\", \"data\": [0.5258446333822475, 0.5119042565431116, 0.5, 0.5, 0.5932792219623004, 0.6194080270509105, 0.5129417236392317, 0.5, 0.4997267759562842, 0.5, 0.5303589020202666, 0.5, 0.5, 0.5, 0.5135593664063832, 0.49977066168351314, 0.5, 0.5150313939803128, 0.5026345593023586, 0.5111480003676241, 0.5, 0.5007708315637475, 0.5105471672596679, 0.5013149570996014, 0.5001008886039897, 0.5, 0.5000877714544579, 0.5, 0.5, 0.4999072737053711, 0.5, 0.5243627010493289, 0.5270820346555075, 0.5046701926916545, 0.5006781052691186, 0.5, 0.5005652981614929, 0.5006580244561218, 0.5, 0.5036248195022509]}, {\"categories\": [\"0\", \"1\", \"2\", \"3\", \"4\", \"5\", \"6\", \"7\", \"8\", \"9\", \"10\", \"11\", \"12\", \"13\", \"14\", \"15\", \"16\", \"17\", \"18\", \"19\", \"20\", \"21\", \"22\", \"23\", \"24\", \"25\", \"26\", \"27\", \"28\", \"29\", \"30\", \"31\", \"32\", \"33\", \"34\", \"35\", \"36\", \"37\", \"40\", \"41\"], \"mode\": \"lines\", \"name\": \"recall_score_macro_max\", \"stepped\": true, \"type\": \"scatter\", \"data\": [0.5258446333822475, 0.5258446333822475, 0.5258446333822475, 0.5258446333822475, 0.5932792219623004, 0.6194080270509105, 0.6194080270509105, 0.6194080270509105, 0.6194080270509105, 0.6194080270509105, 0.6194080270509105, 0.6194080270509105, 0.6194080270509105, 0.6194080270509105, 0.6194080270509105, 0.6194080270509105, 0.6194080270509105, 0.6194080270509105, 0.6194080270509105, 0.6194080270509105, 0.6194080270509105, 0.6194080270509105, 0.6194080270509105, 0.6194080270509105, 0.6194080270509105, 0.6194080270509105, 0.6194080270509105, 0.6194080270509105, 0.6194080270509105, 0.6194080270509105, 0.6194080270509105, 0.6194080270509105, 0.6194080270509105, 0.6194080270509105, 0.6194080270509105, 0.6194080270509105, 0.6194080270509105, 0.6194080270509105, 0.6194080270509105, 0.6194080270509105]}], \"weighted_accuracy\": [{\"categories\": [\"0\", \"1\", \"2\", \"3\", \"4\", \"5\", \"6\", \"7\", \"8\", \"9\", \"10\", \"11\", \"12\", \"13\", \"14\", \"15\", \"16\", \"17\", \"18\", \"19\", \"20\", \"21\", \"22\", \"23\", \"24\", \"25\", \"26\", \"27\", \"28\", \"29\", \"30\", \"31\", \"32\", \"33\", \"34\", \"35\", \"36\", \"37\", \"40\", \"41\"], \"mode\": \"markers\", \"name\": \"weighted_accuracy\", \"stepped\": false, \"type\": \"scatter\", \"data\": [0.938068858922891, 0.9632332164095311, 0.9686688438245291, 0.9686688438245291, 0.5086024137699177, 0.6800066351898275, 0.9523268033848646, 0.9686688438245291, 0.9681357373673208, 0.9686688438245291, 0.9240399515785914, 0.9686688438245291, 0.9686688438245291, 0.9686688438245291, 0.9552200828446423, 0.9665785858425161, 0.9686688438245291, 0.942832779648174, 0.967238195840185, 0.9560799687327307, 0.9686688438245291, 0.9668873069179406, 0.9563118093211447, 0.968502482192327, 0.9658168769283209, 0.9686688438245291, 0.9655545407749199, 0.9686688438245291, 0.9686688438245291, 0.9668451390711205, 0.9686688438245291, 0.9355843576616159, 0.9244518197001691, 0.9634586945508451, 0.9650636021645318, 0.9686688438245291, 0.9650718511078652, 0.966895555861274, 0.9686688438245291, 0.9576709013095731]}, {\"categories\": [\"0\", \"1\", \"2\", \"3\", \"4\", \"5\", \"6\", \"7\", \"8\", \"9\", \"10\", \"11\", \"12\", \"13\", \"14\", \"15\", \"16\", \"17\", \"18\", \"19\", \"20\", \"21\", \"22\", \"23\", \"24\", \"25\", \"26\", \"27\", \"28\", \"29\", \"30\", \"31\", \"32\", \"33\", \"34\", \"35\", \"36\", \"37\", \"40\", \"41\"], \"mode\": \"lines\", \"name\": \"weighted_accuracy_max\", \"stepped\": true, \"type\": \"scatter\", \"data\": [0.938068858922891, 0.9632332164095311, 0.9686688438245291, 0.9686688438245291, 0.9686688438245291, 0.9686688438245291, 0.9686688438245291, 0.9686688438245291, 0.9686688438245291, 0.9686688438245291, 0.9686688438245291, 0.9686688438245291, 0.9686688438245291, 0.9686688438245291, 0.9686688438245291, 0.9686688438245291, 0.9686688438245291, 0.9686688438245291, 0.9686688438245291, 0.9686688438245291, 0.9686688438245291, 0.9686688438245291, 0.9686688438245291, 0.9686688438245291, 0.9686688438245291, 0.9686688438245291, 0.9686688438245291, 0.9686688438245291, 0.9686688438245291, 0.9686688438245291, 0.9686688438245291, 0.9686688438245291, 0.9686688438245291, 0.9686688438245291, 0.9686688438245291, 0.9686688438245291, 0.9686688438245291, 0.9686688438245291, 0.9686688438245291, 0.9686688438245291]}], \"balanced_accuracy\": [{\"categories\": [\"0\", \"1\", \"2\", \"3\", \"4\", \"5\", \"6\", \"7\", \"8\", \"9\", \"10\", \"11\", \"12\", \"13\", \"14\", \"15\", \"16\", \"17\", \"18\", \"19\", \"20\", \"21\", \"22\", \"23\", \"24\", \"25\", \"26\", \"27\", \"28\", \"29\", \"30\", \"31\", \"32\", \"33\", \"34\", \"35\", \"36\", \"37\", \"40\", \"41\"], \"mode\": \"markers\", \"name\": \"balanced_accuracy\", \"stepped\": false, \"type\": \"scatter\", \"data\": [0.5258446333822475, 0.5119042565431116, 0.5, 0.5, 0.5932792219623004, 0.6194080270509105, 0.5129417236392317, 0.5, 0.4997267759562842, 0.5, 0.5303589020202666, 0.5, 0.5, 0.5, 0.5135593664063832, 0.49977066168351314, 0.5, 0.5150313939803128, 0.5026345593023586, 0.5111480003676241, 0.5, 0.5007708315637475, 0.5105471672596679, 0.5013149570996014, 0.5001008886039897, 0.5, 0.5000877714544579, 0.5, 0.5, 0.4999072737053711, 0.5, 0.5243627010493289, 0.5270820346555075, 0.5046701926916545, 0.5006781052691186, 0.5, 0.5005652981614929, 0.5006580244561218, 0.5, 0.5036248195022509]}, {\"categories\": [\"0\", \"1\", \"2\", \"3\", \"4\", \"5\", \"6\", \"7\", \"8\", \"9\", \"10\", \"11\", \"12\", \"13\", \"14\", \"15\", \"16\", \"17\", \"18\", \"19\", \"20\", \"21\", \"22\", \"23\", \"24\", \"25\", \"26\", \"27\", \"28\", \"29\", \"30\", \"31\", \"32\", \"33\", \"34\", \"35\", \"36\", \"37\", \"40\", \"41\"], \"mode\": \"lines\", \"name\": \"balanced_accuracy_max\", \"stepped\": true, \"type\": \"scatter\", \"data\": [0.5258446333822475, 0.5258446333822475, 0.5258446333822475, 0.5258446333822475, 0.5932792219623004, 0.6194080270509105, 0.6194080270509105, 0.6194080270509105, 0.6194080270509105, 0.6194080270509105, 0.6194080270509105, 0.6194080270509105, 0.6194080270509105, 0.6194080270509105, 0.6194080270509105, 0.6194080270509105, 0.6194080270509105, 0.6194080270509105, 0.6194080270509105, 0.6194080270509105, 0.6194080270509105, 0.6194080270509105, 0.6194080270509105, 0.6194080270509105, 0.6194080270509105, 0.6194080270509105, 0.6194080270509105, 0.6194080270509105, 0.6194080270509105, 0.6194080270509105, 0.6194080270509105, 0.6194080270509105, 0.6194080270509105, 0.6194080270509105, 0.6194080270509105, 0.6194080270509105, 0.6194080270509105, 0.6194080270509105, 0.6194080270509105, 0.6194080270509105]}], \"f1_score_weighted\": [{\"categories\": [\"0\", \"1\", \"2\", \"3\", \"4\", \"5\", \"6\", \"7\", \"8\", \"9\", \"10\", \"11\", \"12\", \"13\", \"14\", \"15\", \"16\", \"17\", \"18\", \"19\", \"20\", \"21\", \"22\", \"23\", \"24\", \"25\", \"26\", \"27\", \"28\", \"29\", \"30\", \"31\", \"32\", \"33\", \"34\", \"35\", \"36\", \"37\", \"40\", \"41\"], \"mode\": \"markers\", \"name\": \"f1_score_weighted\", \"stepped\": false, \"type\": \"scatter\", \"data\": [0.7899484792444041, 0.7864332384466984, 0.7784527258598235, 0.7784527258598235, 0.5641843819300402, 0.7088086328377021, 0.784812518349641, 0.7784527258598235, 0.778217910306238, 0.7784527258598235, 0.7886904606652658, 0.7784527258598235, 0.7784527258598235, 0.7784527258598235, 0.7858507849080952, 0.7780633877838222, 0.7784527258598235, 0.7847670850914868, 0.7799471223203603, 0.7843191193710419, 0.7784527258598235, 0.7787335385594507, 0.7839392400209881, 0.7794626473908811, 0.7782762590834761, 0.7784527258598235, 0.7781208475986512, 0.7784527258598235, 0.7784527258598235, 0.7781836266966015, 0.7784527258598235, 0.78804628622837, 0.7865440298324663, 0.7807225729542688, 0.7784062952677396, 0.7784527258598235, 0.7784438602526759, 0.7787520562177095, 0.7784527258598235, 0.778495233467975]}, {\"categories\": [\"0\", \"1\", \"2\", \"3\", \"4\", \"5\", \"6\", \"7\", \"8\", \"9\", \"10\", \"11\", \"12\", \"13\", \"14\", \"15\", \"16\", \"17\", \"18\", \"19\", \"20\", \"21\", \"22\", \"23\", \"24\", \"25\", \"26\", \"27\", \"28\", \"29\", \"30\", \"31\", \"32\", \"33\", \"34\", \"35\", \"36\", \"37\", \"40\", \"41\"], \"mode\": \"lines\", \"name\": \"f1_score_weighted_max\", \"stepped\": true, \"type\": \"scatter\", \"data\": [0.7899484792444041, 0.7899484792444041, 0.7899484792444041, 0.7899484792444041, 0.7899484792444041, 0.7899484792444041, 0.7899484792444041, 0.7899484792444041, 0.7899484792444041, 0.7899484792444041, 0.7899484792444041, 0.7899484792444041, 0.7899484792444041, 0.7899484792444041, 0.7899484792444041, 0.7899484792444041, 0.7899484792444041, 0.7899484792444041, 0.7899484792444041, 0.7899484792444041, 0.7899484792444041, 0.7899484792444041, 0.7899484792444041, 0.7899484792444041, 0.7899484792444041, 0.7899484792444041, 0.7899484792444041, 0.7899484792444041, 0.7899484792444041, 0.7899484792444041, 0.7899484792444041, 0.7899484792444041, 0.7899484792444041, 0.7899484792444041, 0.7899484792444041, 0.7899484792444041, 0.7899484792444041, 0.7899484792444041, 0.7899484792444041, 0.7899484792444041]}], \"recall_score_micro\": [{\"categories\": [\"0\", \"1\", \"2\", \"3\", \"4\", \"5\", \"6\", \"7\", \"8\", \"9\", \"10\", \"11\", \"12\", \"13\", \"14\", \"15\", \"16\", \"17\", \"18\", \"19\", \"20\", \"21\", \"22\", \"23\", \"24\", \"25\", \"26\", \"27\", \"28\", \"29\", \"30\", \"31\", \"32\", \"33\", \"34\", \"35\", \"36\", \"37\", \"40\", \"41\"], \"mode\": \"markers\", \"name\": \"recall_score_micro\", \"stepped\": false, \"type\": \"scatter\", \"data\": [0.8320762315843352, 0.8471711290024969, 0.8481155819555264, 0.8481155819555264, 0.5306183939595052, 0.6643823618030593, 0.8391518709044092, 0.8481155819555264, 0.8476437725665197, 0.8481155819555264, 0.8228772831787273, 0.8481155819555264, 0.8481155819555264, 0.8481155819555264, 0.8415104173444338, 0.8464642490940025, 0.8481155819555264, 0.8327832783278328, 0.8476437725665197, 0.8415109178494434, 0.8481155819555264, 0.8469360584830093, 0.8415109178494434, 0.8483513198150266, 0.8459926065399989, 0.8481155819555264, 0.8457565350104922, 0.8481155819555264, 0.8481155819555264, 0.846700153788506, 0.8481155819555264, 0.829718018814317, 0.8221722384552681, 0.8452848924564886, 0.8455206303159889, 0.8481155819555264, 0.8455206303159888, 0.8469360584830093, 0.8481155819555264, 0.840566631731417]}, {\"categories\": [\"0\", \"1\", \"2\", \"3\", \"4\", \"5\", \"6\", \"7\", \"8\", \"9\", \"10\", \"11\", \"12\", \"13\", \"14\", \"15\", \"16\", \"17\", \"18\", \"19\", \"20\", \"21\", \"22\", \"23\", \"24\", \"25\", \"26\", \"27\", \"28\", \"29\", \"30\", \"31\", \"32\", \"33\", \"34\", \"35\", \"36\", \"37\", \"40\", \"41\"], \"mode\": \"lines\", \"name\": \"recall_score_micro_max\", \"stepped\": true, \"type\": \"scatter\", \"data\": [0.8320762315843352, 0.8471711290024969, 0.8481155819555264, 0.8481155819555264, 0.8481155819555264, 0.8481155819555264, 0.8481155819555264, 0.8481155819555264, 0.8481155819555264, 0.8481155819555264, 0.8481155819555264, 0.8481155819555264, 0.8481155819555264, 0.8481155819555264, 0.8481155819555264, 0.8481155819555264, 0.8481155819555264, 0.8481155819555264, 0.8481155819555264, 0.8481155819555264, 0.8481155819555264, 0.8481155819555264, 0.8481155819555264, 0.8483513198150266, 0.8483513198150266, 0.8483513198150266, 0.8483513198150266, 0.8483513198150266, 0.8483513198150266, 0.8483513198150266, 0.8483513198150266, 0.8483513198150266, 0.8483513198150266, 0.8483513198150266, 0.8483513198150266, 0.8483513198150266, 0.8483513198150266, 0.8483513198150266, 0.8483513198150266, 0.8483513198150266]}], \"norm_macro_recall\": [{\"categories\": [\"0\", \"1\", \"2\", \"3\", \"4\", \"5\", \"6\", \"7\", \"8\", \"9\", \"10\", \"11\", \"12\", \"13\", \"14\", \"15\", \"16\", \"17\", \"18\", \"19\", \"20\", \"21\", \"22\", \"23\", \"24\", \"25\", \"26\", \"27\", \"28\", \"29\", \"30\", \"31\", \"32\", \"33\", \"34\", \"35\", \"36\", \"37\", \"40\", \"41\"], \"mode\": \"markers\", \"name\": \"norm_macro_recall\", \"stepped\": false, \"type\": \"scatter\", \"data\": [0.05168926676449496, 0.023808513086223115, 0.0, 0.0, 0.18655844392460078, 0.23881605410182108, 0.02588344727846348, 0.0, 0.0, 0.0, 0.0607178040405331, 0.0, 0.0, 0.0, 0.027118732812766517, 0.0, 0.0, 0.03006278796062567, 0.0052691186047169785, 0.022296000735248178, 0.0, 0.001541663127495078, 0.021094334519335806, 0.0026299141992027764, 0.0009417477931332, 0.0, 0.00017554290891586, 0.0, 0.0, 0.0, 0.0, 0.04872540209865783, 0.05416406931101525, 0.009621679335488853, 0.0013562105382372014, 0.0, 0.001501501501501486, 0.001501501501501486, 0.0, 0.007249639004501818]}, {\"categories\": [\"0\", \"1\", \"2\", \"3\", \"4\", \"5\", \"6\", \"7\", \"8\", \"9\", \"10\", \"11\", \"12\", \"13\", \"14\", \"15\", \"16\", \"17\", \"18\", \"19\", \"20\", \"21\", \"22\", \"23\", \"24\", \"25\", \"26\", \"27\", \"28\", \"29\", \"30\", \"31\", \"32\", \"33\", \"34\", \"35\", \"36\", \"37\", \"40\", \"41\"], \"mode\": \"lines\", \"name\": \"norm_macro_recall_max\", \"stepped\": true, \"type\": \"scatter\", \"data\": [0.05168926676449496, 0.05168926676449496, 0.05168926676449496, 0.05168926676449496, 0.18655844392460078, 0.23881605410182108, 0.23881605410182108, 0.23881605410182108, 0.23881605410182108, 0.23881605410182108, 0.23881605410182108, 0.23881605410182108, 0.23881605410182108, 0.23881605410182108, 0.23881605410182108, 0.23881605410182108, 0.23881605410182108, 0.23881605410182108, 0.23881605410182108, 0.23881605410182108, 0.23881605410182108, 0.23881605410182108, 0.23881605410182108, 0.23881605410182108, 0.23881605410182108, 0.23881605410182108, 0.23881605410182108, 0.23881605410182108, 0.23881605410182108, 0.23881605410182108, 0.23881605410182108, 0.23881605410182108, 0.23881605410182108, 0.23881605410182108, 0.23881605410182108, 0.23881605410182108, 0.23881605410182108, 0.23881605410182108, 0.23881605410182108, 0.23881605410182108]}], \"precision_score_macro\": [{\"categories\": [\"0\", \"1\", \"2\", \"3\", \"4\", \"5\", \"6\", \"7\", \"8\", \"9\", \"10\", \"11\", \"12\", \"13\", \"14\", \"15\", \"16\", \"17\", \"18\", \"19\", \"20\", \"21\", \"22\", \"23\", \"24\", \"25\", \"26\", \"27\", \"28\", \"29\", \"30\", \"31\", \"32\", \"33\", \"34\", \"35\", \"36\", \"37\", \"40\", \"41\"], \"mode\": \"markers\", \"name\": \"precision_score_macro\", \"stepped\": false, \"type\": \"scatter\", \"data\": [0.5852318687019866, 0.6858798201743701, 0.4240577909777632, 0.4240577909777632, 0.558977568026907, 0.5682400444655994, 0.6022712790838701, 0.4240577909777632, 0.4240255233618602, 0.4240577909777632, 0.5725113023681351, 0.4240577909777632, 0.4240577909777632, 0.4240577909777632, 0.6145824578815257, 0.4425490897238391, 0.4240577909777632, 0.5666057479612455, 0.49103737185431645, 0.5919944318041822, 0.4240577909777632, 0.4611863166943994, 0.6000395412202875, 0.5353477521091401, 0.49814803231932925, 0.4240577909777632, 0.4478777694628118, 0.4240577909777632, 0.4240577909777632, 0.4448801266189329, 0.4240577909777632, 0.578563304346473, 0.5641198386544005, 0.5806166937905831, 0.45355050005948166, 0.4240577909777632, 0.6116351606027381, 0.6116462842527218, 0.4240577909777632, 0.4584528777026822]}, {\"categories\": [\"0\", \"1\", \"2\", \"3\", \"4\", \"5\", \"6\", \"7\", \"8\", \"9\", \"10\", \"11\", \"12\", \"13\", \"14\", \"15\", \"16\", \"17\", \"18\", \"19\", \"20\", \"21\", \"22\", \"23\", \"24\", \"25\", \"26\", \"27\", \"28\", \"29\", \"30\", \"31\", \"32\", \"33\", \"34\", \"35\", \"36\", \"37\", \"40\", \"41\"], \"mode\": \"lines\", \"name\": \"precision_score_macro_max\", \"stepped\": true, \"type\": \"scatter\", \"data\": [0.5852318687019866, 0.6858798201743701, 0.6858798201743701, 0.6858798201743701, 0.6858798201743701, 0.6858798201743701, 0.6858798201743701, 0.6858798201743701, 0.6858798201743701, 0.6858798201743701, 0.6858798201743701, 0.6858798201743701, 0.6858798201743701, 0.6858798201743701, 0.6858798201743701, 0.6858798201743701, 0.6858798201743701, 0.6858798201743701, 0.6858798201743701, 0.6858798201743701, 0.6858798201743701, 0.6858798201743701, 0.6858798201743701, 0.6858798201743701, 0.6858798201743701, 0.6858798201743701, 0.6858798201743701, 0.6858798201743701, 0.6858798201743701, 0.6858798201743701, 0.6858798201743701, 0.6858798201743701, 0.6858798201743701, 0.6858798201743701, 0.6858798201743701, 0.6858798201743701, 0.6858798201743701, 0.6858798201743701, 0.6858798201743701, 0.6858798201743701]}], \"accuracy\": [{\"categories\": [\"0\", \"1\", \"2\", \"3\", \"4\", \"5\", \"6\", \"7\", \"8\", \"9\", \"10\", \"11\", \"12\", \"13\", \"14\", \"15\", \"16\", \"17\", \"18\", \"19\", \"20\", \"21\", \"22\", \"23\", \"24\", \"25\", \"26\", \"27\", \"28\", \"29\", \"30\", \"31\", \"32\", \"33\", \"34\", \"35\", \"36\", \"37\", \"40\", \"41\"], \"mode\": \"markers\", \"name\": \"accuracy\", \"stepped\": false, \"type\": \"scatter\", \"data\": [0.8320762315843352, 0.8471711290024969, 0.8481155819555264, 0.8481155819555264, 0.5306183939595052, 0.6643823618030593, 0.8391518709044092, 0.8481155819555264, 0.8476437725665197, 0.8481155819555264, 0.8228772831787273, 0.8481155819555264, 0.8481155819555264, 0.8481155819555264, 0.8415104173444338, 0.8464642490940025, 0.8481155819555264, 0.8327832783278328, 0.8476437725665197, 0.8415109178494434, 0.8481155819555264, 0.8469360584830093, 0.8415109178494434, 0.8483513198150266, 0.8459926065399989, 0.8481155819555264, 0.8457565350104922, 0.8481155819555264, 0.8481155819555264, 0.846700153788506, 0.8481155819555264, 0.829718018814317, 0.8221722384552681, 0.8452848924564886, 0.8455206303159889, 0.8481155819555264, 0.8455206303159888, 0.8469360584830093, 0.8481155819555264, 0.840566631731417]}, {\"categories\": [\"0\", \"1\", \"2\", \"3\", \"4\", \"5\", \"6\", \"7\", \"8\", \"9\", \"10\", \"11\", \"12\", \"13\", \"14\", \"15\", \"16\", \"17\", \"18\", \"19\", \"20\", \"21\", \"22\", \"23\", \"24\", \"25\", \"26\", \"27\", \"28\", \"29\", \"30\", \"31\", \"32\", \"33\", \"34\", \"35\", \"36\", \"37\", \"40\", \"41\"], \"mode\": \"lines\", \"name\": \"accuracy_max\", \"stepped\": true, \"type\": \"scatter\", \"data\": [0.8320762315843352, 0.8471711290024969, 0.8481155819555264, 0.8481155819555264, 0.8481155819555264, 0.8481155819555264, 0.8481155819555264, 0.8481155819555264, 0.8481155819555264, 0.8481155819555264, 0.8481155819555264, 0.8481155819555264, 0.8481155819555264, 0.8481155819555264, 0.8481155819555264, 0.8481155819555264, 0.8481155819555264, 0.8481155819555264, 0.8481155819555264, 0.8481155819555264, 0.8481155819555264, 0.8481155819555264, 0.8481155819555264, 0.8483513198150266, 0.8483513198150266, 0.8483513198150266, 0.8483513198150266, 0.8483513198150266, 0.8483513198150266, 0.8483513198150266, 0.8483513198150266, 0.8483513198150266, 0.8483513198150266, 0.8483513198150266, 0.8483513198150266, 0.8483513198150266, 0.8483513198150266, 0.8483513198150266, 0.8483513198150266, 0.8483513198150266]}], \"f1_score_macro\": [{\"categories\": [\"0\", \"1\", \"2\", \"3\", \"4\", \"5\", \"6\", \"7\", \"8\", \"9\", \"10\", \"11\", \"12\", \"13\", \"14\", \"15\", \"16\", \"17\", \"18\", \"19\", \"20\", \"21\", \"22\", \"23\", \"24\", \"25\", \"26\", \"27\", \"28\", \"29\", \"30\", \"31\", \"32\", \"33\", \"34\", \"35\", \"36\", \"37\", \"40\", \"41\"], \"mode\": \"markers\", \"name\": \"f1_score_macro\", \"stepped\": false, \"type\": \"scatter\", \"data\": [0.5208165108643971, 0.4868535488064971, 0.4588892190256147, 0.4588892190256147, 0.4618624148950123, 0.555081321969192, 0.49379873427352394, 0.4588892190256147, 0.4587532377234768, 0.4588892190256147, 0.5301572712233914, 0.4588892190256147, 0.4588892190256147, 0.4588892190256147, 0.493772127136941, 0.4600528683053297, 0.4588892190256147, 0.5021328485236999, 0.46528370714039013, 0.48877909694691984, 0.4588892190256147, 0.4618300658421566, 0.4875211228632317, 0.4618100130840445, 0.4613840788871884, 0.4588892190256147, 0.461408150539127, 0.4588892190256147, 0.4588892190256147, 0.46012940947913084, 0.4588892190256147, 0.5184676273981162, 0.525023258642083, 0.47159555237488976, 0.46287091818722864, 0.4588892190256147, 0.4627934246147604, 0.46168274780821267, 0.4588892190256147, 0.4714102400586038]}, {\"categories\": [\"0\", \"1\", \"2\", \"3\", \"4\", \"5\", \"6\", \"7\", \"8\", \"9\", \"10\", \"11\", \"12\", \"13\", \"14\", \"15\", \"16\", \"17\", \"18\", \"19\", \"20\", \"21\", \"22\", \"23\", \"24\", \"25\", \"26\", \"27\", \"28\", \"29\", \"30\", \"31\", \"32\", \"33\", \"34\", \"35\", \"36\", \"37\", \"40\", \"41\"], \"mode\": \"lines\", \"name\": \"f1_score_macro_max\", \"stepped\": true, \"type\": \"scatter\", \"data\": [0.5208165108643971, 0.5208165108643971, 0.5208165108643971, 0.5208165108643971, 0.5208165108643971, 0.555081321969192, 0.555081321969192, 0.555081321969192, 0.555081321969192, 0.555081321969192, 0.555081321969192, 0.555081321969192, 0.555081321969192, 0.555081321969192, 0.555081321969192, 0.555081321969192, 0.555081321969192, 0.555081321969192, 0.555081321969192, 0.555081321969192, 0.555081321969192, 0.555081321969192, 0.555081321969192, 0.555081321969192, 0.555081321969192, 0.555081321969192, 0.555081321969192, 0.555081321969192, 0.555081321969192, 0.555081321969192, 0.555081321969192, 0.555081321969192, 0.555081321969192, 0.555081321969192, 0.555081321969192, 0.555081321969192, 0.555081321969192, 0.555081321969192, 0.555081321969192, 0.555081321969192]}], \"AUC_weighted\": [{\"categories\": [\"0\", \"1\", \"2\", \"3\", \"4\", \"5\", \"6\", \"7\", \"8\", \"9\", \"10\", \"11\", \"12\", \"13\", \"14\", \"15\", \"16\", \"17\", \"18\", \"19\", \"20\", \"21\", \"22\", \"23\", \"24\", \"25\", \"26\", \"27\", \"28\", \"29\", \"30\", \"31\", \"32\", \"33\", \"34\", \"35\", \"36\", \"37\", \"40\", \"41\"], \"mode\": \"markers\", \"name\": \"AUC_weighted\", \"stepped\": false, \"type\": \"scatter\", \"data\": [0.6272491257921979, 0.6719147375349594, 0.6880714285500599, 0.554153892035925, 0.6348951443060776, 0.6566936942066736, 0.6572858245329312, 0.6607999889444799, 0.6495415015006695, 0.663275823350025, 0.6451124967477847, 0.6649129495161753, 0.6682364712873751, 0.6628952645239125, 0.651295772558531, 0.6602088877260411, 0.6615374638466834, 0.6507579197881428, 0.6659253497233639, 0.6683080871821271, 0.6609115010732781, 0.6561543973238191, 0.6533602779949524, 0.654262101989172, 0.6630090257888871, 0.5, 0.6694840989486508, 0.6611409249582244, 0.665878393590902, 0.6693210074981333, 0.5, 0.6119525345579838, 0.64247552555686, 0.6539639159061393, 0.6605370850681852, 0.5, 0.6522645885072239, 0.6569016585932383, 0.6662759167456785, 0.6674785587475652]}, {\"categories\": [\"0\", \"1\", \"2\", \"3\", \"4\", \"5\", \"6\", \"7\", \"8\", \"9\", \"10\", \"11\", \"12\", \"13\", \"14\", \"15\", \"16\", \"17\", \"18\", \"19\", \"20\", \"21\", \"22\", \"23\", \"24\", \"25\", \"26\", \"27\", \"28\", \"29\", \"30\", \"31\", \"32\", \"33\", \"34\", \"35\", \"36\", \"37\", \"40\", \"41\"], \"mode\": \"lines\", \"name\": \"AUC_weighted_max\", \"stepped\": true, \"type\": \"scatter\", \"data\": [0.6272491257921979, 0.6719147375349594, 0.6880714285500599, 0.6880714285500599, 0.6880714285500599, 0.6880714285500599, 0.6880714285500599, 0.6880714285500599, 0.6880714285500599, 0.6880714285500599, 0.6880714285500599, 0.6880714285500599, 0.6880714285500599, 0.6880714285500599, 0.6880714285500599, 0.6880714285500599, 0.6880714285500599, 0.6880714285500599, 0.6880714285500599, 0.6880714285500599, 0.6880714285500599, 0.6880714285500599, 0.6880714285500599, 0.6880714285500599, 0.6880714285500599, 0.6880714285500599, 0.6880714285500599, 0.6880714285500599, 0.6880714285500599, 0.6880714285500599, 0.6880714285500599, 0.6880714285500599, 0.6880714285500599, 0.6880714285500599, 0.6880714285500599, 0.6880714285500599, 0.6880714285500599, 0.6880714285500599, 0.6880714285500599, 0.6880714285500599]}], \"recall_score_weighted\": [{\"categories\": [\"0\", \"1\", \"2\", \"3\", \"4\", \"5\", \"6\", \"7\", \"8\", \"9\", \"10\", \"11\", \"12\", \"13\", \"14\", \"15\", \"16\", \"17\", \"18\", \"19\", \"20\", \"21\", \"22\", \"23\", \"24\", \"25\", \"26\", \"27\", \"28\", \"29\", \"30\", \"31\", \"32\", \"33\", \"34\", \"35\", \"36\", \"37\", \"40\", \"41\"], \"mode\": \"markers\", \"name\": \"recall_score_weighted\", \"stepped\": false, \"type\": \"scatter\", \"data\": [0.8320762315843352, 0.8471711290024969, 0.8481155819555264, 0.8481155819555264, 0.5306183939595052, 0.6643823618030593, 0.8391518709044092, 0.8481155819555264, 0.8476437725665197, 0.8481155819555264, 0.8228772831787273, 0.8481155819555264, 0.8481155819555264, 0.8481155819555264, 0.8415104173444338, 0.8464642490940025, 0.8481155819555264, 0.8327832783278328, 0.8476437725665197, 0.8415109178494434, 0.8481155819555264, 0.8469360584830093, 0.8415109178494434, 0.8483513198150266, 0.8459926065399989, 0.8481155819555264, 0.8457565350104922, 0.8481155819555264, 0.8481155819555264, 0.846700153788506, 0.8481155819555264, 0.829718018814317, 0.8221722384552681, 0.8452848924564886, 0.8455206303159889, 0.8481155819555264, 0.8455206303159888, 0.8469360584830093, 0.8481155819555264, 0.840566631731417]}, {\"categories\": [\"0\", \"1\", \"2\", \"3\", \"4\", \"5\", \"6\", \"7\", \"8\", \"9\", \"10\", \"11\", \"12\", \"13\", \"14\", \"15\", \"16\", \"17\", \"18\", \"19\", \"20\", \"21\", \"22\", \"23\", \"24\", \"25\", \"26\", \"27\", \"28\", \"29\", \"30\", \"31\", \"32\", \"33\", \"34\", \"35\", \"36\", \"37\", \"40\", \"41\"], \"mode\": \"lines\", \"name\": \"recall_score_weighted_max\", \"stepped\": true, \"type\": \"scatter\", \"data\": [0.8320762315843352, 0.8471711290024969, 0.8481155819555264, 0.8481155819555264, 0.8481155819555264, 0.8481155819555264, 0.8481155819555264, 0.8481155819555264, 0.8481155819555264, 0.8481155819555264, 0.8481155819555264, 0.8481155819555264, 0.8481155819555264, 0.8481155819555264, 0.8481155819555264, 0.8481155819555264, 0.8481155819555264, 0.8481155819555264, 0.8481155819555264, 0.8481155819555264, 0.8481155819555264, 0.8481155819555264, 0.8481155819555264, 0.8483513198150266, 0.8483513198150266, 0.8483513198150266, 0.8483513198150266, 0.8483513198150266, 0.8483513198150266, 0.8483513198150266, 0.8483513198150266, 0.8483513198150266, 0.8483513198150266, 0.8483513198150266, 0.8483513198150266, 0.8483513198150266, 0.8483513198150266, 0.8483513198150266, 0.8483513198150266, 0.8483513198150266]}], \"AUC_micro\": [{\"categories\": [\"0\", \"1\", \"2\", \"3\", \"4\", \"5\", \"6\", \"7\", \"8\", \"9\", \"10\", \"11\", \"12\", \"13\", \"14\", \"15\", \"16\", \"17\", \"18\", \"19\", \"20\", \"21\", \"22\", \"23\", \"24\", \"25\", \"26\", \"27\", \"28\", \"29\", \"30\", \"31\", \"32\", \"33\", \"34\", \"35\", \"36\", \"37\", \"40\", \"41\"], \"mode\": \"markers\", \"name\": \"AUC_micro\", \"stepped\": false, \"type\": \"scatter\", \"data\": [0.8779753656837449, 0.8925347722983045, 0.8968385115549858, 0.8622109969997281, 0.5729559140450964, 0.6946393882124999, 0.8878390399695175, 0.8899310112727278, 0.8869869010898883, 0.890542778563208, 0.8790745760518491, 0.8909843013425874, 0.8917878765293764, 0.8905250586396093, 0.8865204300087351, 0.8897056657552268, 0.890094093502804, 0.8850683111152661, 0.8912617528616181, 0.8913159894769741, 0.8899838084564426, 0.8886900498358642, 0.8872105547688146, 0.8881604802302112, 0.8905329288630407, 0.8481155819555265, 0.892063458103178, 0.8900377554858757, 0.8911731128768716, 0.8921039257816705, 0.8481155819555265, 0.8725574600078745, 0.8791693761860057, 0.8879687924292995, 0.8897900489971167, 0.8481155819555265, 0.887608926817701, 0.8888667259648385, 0.8913313618480183, 0.8908284477261613]}, {\"categories\": [\"0\", \"1\", \"2\", \"3\", \"4\", \"5\", \"6\", \"7\", \"8\", \"9\", \"10\", \"11\", \"12\", \"13\", \"14\", \"15\", \"16\", \"17\", \"18\", \"19\", \"20\", \"21\", \"22\", \"23\", \"24\", \"25\", \"26\", \"27\", \"28\", \"29\", \"30\", \"31\", \"32\", \"33\", \"34\", \"35\", \"36\", \"37\", \"40\", \"41\"], \"mode\": \"lines\", \"name\": \"AUC_micro_max\", \"stepped\": true, \"type\": \"scatter\", \"data\": [0.8779753656837449, 0.8925347722983045, 0.8968385115549858, 0.8968385115549858, 0.8968385115549858, 0.8968385115549858, 0.8968385115549858, 0.8968385115549858, 0.8968385115549858, 0.8968385115549858, 0.8968385115549858, 0.8968385115549858, 0.8968385115549858, 0.8968385115549858, 0.8968385115549858, 0.8968385115549858, 0.8968385115549858, 0.8968385115549858, 0.8968385115549858, 0.8968385115549858, 0.8968385115549858, 0.8968385115549858, 0.8968385115549858, 0.8968385115549858, 0.8968385115549858, 0.8968385115549858, 0.8968385115549858, 0.8968385115549858, 0.8968385115549858, 0.8968385115549858, 0.8968385115549858, 0.8968385115549858, 0.8968385115549858, 0.8968385115549858, 0.8968385115549858, 0.8968385115549858, 0.8968385115549858, 0.8968385115549858, 0.8968385115549858, 0.8968385115549858]}]}, \"metricName\": null, \"primaryMetricName\": \"accuracy\", \"showLegend\": false}, \"run_metrics\": [{\"name\": \"experiment_status\", \"run_id\": \"AutoML_48a3780c-79c8-4df9-ba17-2162603fc8db\", \"categories\": [0, 1, 2, 3, 4, 5, 6, 7, 8, 9, 10, 11, 12, 13, 14], \"series\": [{\"data\": [\"DatasetEvaluation\", \"FeaturesGeneration\", \"DatasetFeaturization\", \"DatasetFeaturizationCompleted\", \"DatasetBalancing\", \"DatasetCrossValidationSplit\", \"ModelSelection\", \"BestRunExplainModel\", \"ModelExplanationDataSetSetup\", \"PickSurrogateModel\", \"EngineeredFeatureExplanations\", \"EngineeredFeatureExplanations\", \"RawFeaturesExplanations\", \"RawFeaturesExplanations\", \"BestRunExplainModel\"]}]}, {\"name\": \"experiment_status_description\", \"run_id\": \"AutoML_48a3780c-79c8-4df9-ba17-2162603fc8db\", \"categories\": [0, 1, 2, 3, 4, 5, 6, 7, 8, 9, 10, 11, 12, 13, 14], \"series\": [{\"data\": [\"Gathering dataset statistics.\", \"Generating features for the dataset.\", \"Beginning to fit featurizers and featurize the dataset.\", \"Completed fit featurizers and featurizing the dataset.\", \"Performing class balancing sweeping\", \"Generating individually featurized CV splits.\", \"Beginning model selection.\", \"Best run model explanations started\", \"Model explanations data setup completed\", \"Choosing LinearModel as the surrogate model for explanations\", \"Computation of engineered features started\", \"Computation of engineered features completed\", \"Computation of raw features started\", \"Computation of raw features completed\", \"Best run model explanations completed\"]}]}, {\"name\": \"precision_score_macro\", \"run_id\": \"AutoML_48a3780c-79c8-4df9-ba17-2162603fc8db\", \"categories\": [0], \"series\": [{\"data\": [0.5353477521091401]}]}, {\"name\": \"recall_score_weighted\", \"run_id\": \"AutoML_48a3780c-79c8-4df9-ba17-2162603fc8db\", \"categories\": [0], \"series\": [{\"data\": [0.8483513198150266]}]}, {\"name\": \"AUC_macro\", \"run_id\": \"AutoML_48a3780c-79c8-4df9-ba17-2162603fc8db\", \"categories\": [0], \"series\": [{\"data\": [0.654262101989172]}]}, {\"name\": \"log_loss\", \"run_id\": \"AutoML_48a3780c-79c8-4df9-ba17-2162603fc8db\", \"categories\": [0], \"series\": [{\"data\": [0.45776584213366184]}]}, {\"name\": \"average_precision_score_macro\", \"run_id\": \"AutoML_48a3780c-79c8-4df9-ba17-2162603fc8db\", \"categories\": [0], \"series\": [{\"data\": [0.5766390135931861]}]}, {\"name\": \"weighted_accuracy\", \"run_id\": \"AutoML_48a3780c-79c8-4df9-ba17-2162603fc8db\", \"categories\": [0], \"series\": [{\"data\": [0.968502482192327]}]}, {\"name\": \"average_precision_score_weighted\", \"run_id\": \"AutoML_48a3780c-79c8-4df9-ba17-2162603fc8db\", \"categories\": [0], \"series\": [{\"data\": [0.8015591882407153]}]}, {\"name\": \"recall_score_macro\", \"run_id\": \"AutoML_48a3780c-79c8-4df9-ba17-2162603fc8db\", \"categories\": [0], \"series\": [{\"data\": [0.5013149570996014]}]}, {\"name\": \"balanced_accuracy\", \"run_id\": \"AutoML_48a3780c-79c8-4df9-ba17-2162603fc8db\", \"categories\": [0], \"series\": [{\"data\": [0.5013149570996014]}]}, {\"name\": \"AUC_weighted\", \"run_id\": \"AutoML_48a3780c-79c8-4df9-ba17-2162603fc8db\", \"categories\": [0], \"series\": [{\"data\": [0.654262101989172]}]}, {\"name\": \"f1_score_micro\", \"run_id\": \"AutoML_48a3780c-79c8-4df9-ba17-2162603fc8db\", \"categories\": [0], \"series\": [{\"data\": [0.8483513198150266]}]}, {\"name\": \"matthews_correlation\", \"run_id\": \"AutoML_48a3780c-79c8-4df9-ba17-2162603fc8db\", \"categories\": [0], \"series\": [{\"data\": [0.02105689647699088]}]}, {\"name\": \"precision_score_micro\", \"run_id\": \"AutoML_48a3780c-79c8-4df9-ba17-2162603fc8db\", \"categories\": [0], \"series\": [{\"data\": [0.8483513198150266]}]}, {\"name\": \"accuracy\", \"run_id\": \"AutoML_48a3780c-79c8-4df9-ba17-2162603fc8db\", \"categories\": [0], \"series\": [{\"data\": [0.8483513198150266]}]}, {\"name\": \"AUC_micro\", \"run_id\": \"AutoML_48a3780c-79c8-4df9-ba17-2162603fc8db\", \"categories\": [0], \"series\": [{\"data\": [0.8881604802302112]}]}, {\"name\": \"average_precision_score_micro\", \"run_id\": \"AutoML_48a3780c-79c8-4df9-ba17-2162603fc8db\", \"categories\": [0], \"series\": [{\"data\": [0.8657408606077333]}]}, {\"name\": \"f1_score_weighted\", \"run_id\": \"AutoML_48a3780c-79c8-4df9-ba17-2162603fc8db\", \"categories\": [0], \"series\": [{\"data\": [0.7794626473908811]}]}, {\"name\": \"precision_score_weighted\", \"run_id\": \"AutoML_48a3780c-79c8-4df9-ba17-2162603fc8db\", \"categories\": [0], \"series\": [{\"data\": [0.7557100043685105]}]}, {\"name\": \"norm_macro_recall\", \"run_id\": \"AutoML_48a3780c-79c8-4df9-ba17-2162603fc8db\", \"categories\": [0], \"series\": [{\"data\": [0.0026299141992027764]}]}, {\"name\": \"recall_score_micro\", \"run_id\": \"AutoML_48a3780c-79c8-4df9-ba17-2162603fc8db\", \"categories\": [0], \"series\": [{\"data\": [0.8483513198150266]}]}, {\"name\": \"f1_score_macro\", \"run_id\": \"AutoML_48a3780c-79c8-4df9-ba17-2162603fc8db\", \"categories\": [0], \"series\": [{\"data\": [0.4618100130840445]}]}], \"run_logs\": \"\\nRun is completed.\", \"graph\": {}, \"widget_settings\": {\"childWidgetDisplay\": \"popup\", \"send_telemetry\": false, \"log_level\": \"INFO\", \"sdk_version\": \"1.24.0\"}, \"loading\": false}"
          },
          "metadata": {}
        }
      ],
      "execution_count": 9,
      "metadata": {
        "gather": {
          "logged": 1617293718855
        },
        "jupyter": {
          "outputs_hidden": false,
          "source_hidden": false
        },
        "nteract": {
          "transient": {
            "deleting": false
          }
        }
      }
    },
    {
      "cell_type": "code",
      "source": [
        "remote_run.wait_for_completion(show_output=True)"
      ],
      "outputs": [
        {
          "output_type": "stream",
          "name": "stdout",
          "text": [
            "\n",
            "\n",
            "****************************************************************************************************\n",
            "DATA GUARDRAILS: \n",
            "\n",
            "TYPE:         Cross validation\n",
            "STATUS:       DONE\n",
            "DESCRIPTION:  Each iteration of the trained model was validated through cross-validation.\n",
            "              \n",
            "DETAILS:      \n",
            "+---------------------------------+\n",
            "|Number of folds                  |\n",
            "+=================================+\n",
            "|3                                |\n",
            "+---------------------------------+\n",
            "\n",
            "****************************************************************************************************\n",
            "\n",
            "TYPE:         Class balancing detection\n",
            "STATUS:       ALERTED\n",
            "DESCRIPTION:  To decrease model bias, please cancel the current run and fix balancing problem.\n",
            "              Learn more about imbalanced data: https://aka.ms/AutomatedMLImbalancedData\n",
            "DETAILS:      Imbalanced data can lead to a falsely perceived positive effect of a model's accuracy because the input data has bias towards one class.\n",
            "+---------------------------------+---------------------------------+--------------------------------------+\n",
            "|Size of the smallest class       |Name/Label of the smallest class |Number of samples in the training data|\n",
            "+=================================+=================================+======================================+\n",
            "|644                              |1                                |4240                                  |\n",
            "+---------------------------------+---------------------------------+--------------------------------------+\n",
            "\n",
            "****************************************************************************************************\n",
            "\n",
            "TYPE:         Missing feature values imputation\n",
            "STATUS:       DONE\n",
            "DESCRIPTION:  If the missing values are expected, let the run complete. Otherwise cancel the current run and use a script to customize the handling of missing feature values that may be more appropriate based on the data type and business requirement.\n",
            "              Learn more about missing value imputation: https://aka.ms/AutomatedMLFeaturization\n",
            "DETAILS:      \n",
            "+---------------------------------+---------------------------------+---------------------------------+\n",
            "|Column name                      |Missing value count              |Imputation type                  |\n",
            "+=================================+=================================+=================================+\n",
            "|heartRate                        |1                                |mean                             |\n",
            "+---------------------------------+---------------------------------+---------------------------------+\n",
            "\n",
            "****************************************************************************************************\n",
            "\n",
            "TYPE:         High cardinality feature detection\n",
            "STATUS:       DONE\n",
            "DESCRIPTION:  High cardinality features were detected in your inputs and handled.\n",
            "              Learn more about high cardinality feature handling: https://aka.ms/AutomatedMLFeaturization\n",
            "DETAILS:      High cardinality features refer to columns that contain a large percentage of unique values.\n",
            "+---------------------------------+---------------------------------+\n",
            "|Column name                      |Column Content Type              |\n",
            "+=================================+=================================+\n",
            "|totChol                          |categorical_hash                 |\n",
            "|BMI                              |categorical_hash                 |\n",
            "+---------------------------------+---------------------------------+\n",
            "\n",
            "****************************************************************************************************\n",
            "\n",
            "****************************************************************************************************\n",
            "ITERATION: The iteration being evaluated.\n",
            "PIPELINE: A summary description of the pipeline being evaluated.\n",
            "DURATION: Time taken for the current iteration.\n",
            "METRIC: The result of computing score on the fitted pipeline.\n",
            "BEST: The best observed score thus far.\n",
            "****************************************************************************************************\n",
            "\n",
            " ITERATION   PIPELINE                                       DURATION      METRIC      BEST\n",
            "         0   MaxAbsScaler LightGBM                          0:05:36       0.8321    0.8321\n",
            "         1   MaxAbsScaler XGBoostClassifier                 0:00:52       0.8472    0.8472\n",
            "         2   MaxAbsScaler RandomForest                      0:05:25       0.8481    0.8481\n",
            "         3   MaxAbsScaler RandomForest                      0:00:47       0.8481    0.8481\n",
            "         4   MaxAbsScaler RandomForest                      0:03:15       0.5306    0.8481\n",
            "         5   MaxAbsScaler RandomForest                      0:00:36       0.6644    0.8481\n",
            "         6   SparseNormalizer XGBoostClassifier             0:00:46       0.8392    0.8481\n",
            "         7   MaxAbsScaler GradientBoosting                  0:00:45       0.8481    0.8481\n",
            "        10   MaxAbsScaler LogisticRegression                0:00:52       0.8229    0.8481\n",
            "        11   StandardScalerWrapper LightGBM                 0:00:45       0.8481    0.8481\n",
            "         8   MaxAbsScaler LightGBM                          0:00:39       0.8476    0.8481\n",
            "         9   MaxAbsScaler LightGBM                          0:01:01       0.8481    0.8481\n",
            "        12   StandardScalerWrapper RandomForest             0:00:43       0.8481    0.8481\n",
            "        13   MaxAbsScaler LightGBM                          0:00:46       0.8481    0.8481\n",
            "        14   SparseNormalizer XGBoostClassifier             0:00:44       0.8415    0.8481\n",
            "        15   SparseNormalizer LightGBM                      0:00:50       0.8465    0.8481\n",
            "        16   MaxAbsScaler ExtremeRandomTrees                0:00:57       0.8481    0.8481\n",
            "        17   SparseNormalizer XGBoostClassifier             0:00:52       0.8328    0.8481\n",
            "        18   SparseNormalizer XGBoostClassifier             0:00:43       0.8476    0.8481\n",
            "        19   SparseNormalizer XGBoostClassifier             0:00:46       0.8415    0.8481\n",
            "        20   MaxAbsScaler RandomForest                      0:00:56       0.8481    0.8481\n",
            "        21   MaxAbsScaler LightGBM                          0:00:42       0.8469    0.8481\n",
            "        22   SparseNormalizer XGBoostClassifier             0:00:45       0.8415    0.8481\n",
            "        23   StandardScalerWrapper XGBoostClassifier        0:00:54       0.8484    0.8484\n",
            "        24   SparseNormalizer XGBoostClassifier             0:00:48       0.8460    0.8484\n",
            "        25   SparseNormalizer RandomForest                  0:00:46       0.8481    0.8484\n",
            "        26   SparseNormalizer LightGBM                      0:00:52       0.8458    0.8484\n",
            "        27   StandardScalerWrapper RandomForest             0:00:45       0.8481    0.8484\n",
            "        28   SparseNormalizer ExtremeRandomTrees            0:00:43       0.8481    0.8484\n",
            "        29   MaxAbsScaler LightGBM                          0:00:47       0.8467    0.8484\n",
            "        30   TruncatedSVDWrapper XGBoostClassifier          0:00:56       0.8481    0.8484\n",
            "        31   StandardScalerWrapper XGBoostClassifier        0:01:00       0.8297    0.8484\n",
            "        32   StandardScalerWrapper XGBoostClassifier        0:00:47       0.8222    0.8484\n",
            "        33   SparseNormalizer LightGBM                      0:00:46       0.8453    0.8484\n",
            "        34   MaxAbsScaler LightGBM                          0:00:50       0.8455    0.8484\n",
            "        35   StandardScalerWrapper XGBoostClassifier        0:01:00       0.8481    0.8484\n",
            "        36   StandardScalerWrapper LightGBM                 0:00:51       0.8455    0.8484\n",
            "        37   StandardScalerWrapper LightGBM                 0:00:48       0.8469    0.8484\n",
            "        38   SparseNormalizer XGBoostClassifier             0:00:29          nan    0.8484\n",
            "        39                                                  0:00:05          nan    0.8484\n",
            "        40    VotingEnsemble                                0:01:04       0.8481    0.8484\n",
            "        41    StackEnsemble                                 0:01:04       0.8406    0.8484\n"
          ]
        },
        {
          "output_type": "execute_result",
          "execution_count": 10,
          "data": {
            "text/plain": "{'runId': 'AutoML_48a3780c-79c8-4df9-ba17-2162603fc8db',\n 'target': 'Compute-Cluster',\n 'status': 'Completed',\n 'startTimeUtc': '2021-04-01T15:47:01.588312Z',\n 'endTimeUtc': '2021-04-01T16:15:00.705423Z',\n 'properties': {'num_iterations': '1000',\n  'training_type': 'TrainFull',\n  'acquisition_function': 'EI',\n  'primary_metric': 'accuracy',\n  'train_split': '0',\n  'acquisition_parameter': '0',\n  'num_cross_validation': None,\n  'target': 'Compute-Cluster',\n  'AMLSettingsJsonString': '{\"path\":null,\"name\":\"Framingham-Experiment\",\"subscription_id\":\"b968fb36-f06a-4c76-a15f-afab68ae7667\",\"resource_group\":\"aml-quickstarts-141738\",\"workspace_name\":\"quick-starts-ws-141738\",\"region\":\"southcentralus\",\"compute_target\":\"Compute-Cluster\",\"spark_service\":null,\"azure_service\":\"remote\",\"many_models\":false,\"pipeline_fetch_max_batch_size\":1,\"enable_batch_run\":false,\"iterations\":1000,\"primary_metric\":\"accuracy\",\"task_type\":\"classification\",\"data_script\":null,\"validation_size\":0.0,\"n_cross_validations\":null,\"y_min\":null,\"y_max\":null,\"num_classes\":null,\"featurization\":\"auto\",\"_ignore_package_version_incompatibilities\":false,\"is_timeseries\":false,\"max_cores_per_iteration\":1,\"max_concurrent_iterations\":4,\"iteration_timeout_minutes\":null,\"mem_in_mb\":null,\"enforce_time_on_windows\":false,\"experiment_timeout_minutes\":30,\"experiment_exit_score\":null,\"whitelist_models\":null,\"blacklist_algos\":[\"TensorFlowLinearClassifier\",\"TensorFlowDNN\"],\"supported_models\":[\"XGBoostClassifier\",\"SGD\",\"LinearSVM\",\"ExtremeRandomTrees\",\"LogisticRegression\",\"BernoulliNaiveBayes\",\"LightGBM\",\"KNN\",\"GradientBoosting\",\"TensorFlowLinearClassifier\",\"DecisionTree\",\"SVM\",\"TensorFlowDNN\",\"MultinomialNaiveBayes\",\"RandomForest\",\"AveragedPerceptronClassifier\"],\"private_models\":[],\"auto_blacklist\":true,\"blacklist_samples_reached\":false,\"exclude_nan_labels\":true,\"verbosity\":20,\"_debug_log\":\"azureml_automl.log\",\"show_warnings\":false,\"model_explainability\":true,\"service_url\":null,\"sdk_url\":null,\"sdk_packages\":null,\"enable_onnx_compatible_models\":false,\"enable_split_onnx_featurizer_estimator_models\":false,\"vm_type\":\"STANDARD_D2_V2\",\"telemetry_verbosity\":20,\"send_telemetry\":true,\"enable_dnn\":false,\"scenario\":\"SDK-1.13.0\",\"environment_label\":null,\"save_mlflow\":false,\"force_text_dnn\":false,\"enable_feature_sweeping\":true,\"enable_early_stopping\":true,\"early_stopping_n_iters\":10,\"metrics\":null,\"enable_metric_confidence\":false,\"enable_ensembling\":true,\"enable_stack_ensembling\":true,\"ensemble_iterations\":15,\"enable_tf\":false,\"enable_subsampling\":null,\"subsample_seed\":null,\"enable_nimbusml\":false,\"enable_streaming\":false,\"force_streaming\":false,\"track_child_runs\":true,\"allowed_private_models\":[],\"label_column_name\":\"TenYearCHD\",\"weight_column_name\":null,\"cv_split_column_names\":null,\"enable_local_managed\":false,\"_local_managed_run_id\":null,\"cost_mode\":1,\"lag_length\":0,\"metric_operation\":\"maximize\",\"preprocess\":true}',\n  'DataPrepJsonString': '{\\\\\"training_data\\\\\": \\\\\"{\\\\\\\\\\\\\"blocks\\\\\\\\\\\\\": [{\\\\\\\\\\\\\"id\\\\\\\\\\\\\": \\\\\\\\\\\\\"714c5418-0fcc-4092-89d8-9bd67d63696b\\\\\\\\\\\\\", \\\\\\\\\\\\\"type\\\\\\\\\\\\\": \\\\\\\\\\\\\"Microsoft.DPrep.GetFilesBlock\\\\\\\\\\\\\", \\\\\\\\\\\\\"arguments\\\\\\\\\\\\\": {\\\\\\\\\\\\\"isArchive\\\\\\\\\\\\\": false, \\\\\\\\\\\\\"path\\\\\\\\\\\\\": {\\\\\\\\\\\\\"target\\\\\\\\\\\\\": 4, \\\\\\\\\\\\\"resourceDetails\\\\\\\\\\\\\": [{\\\\\\\\\\\\\"path\\\\\\\\\\\\\": \\\\\\\\\\\\\"https://raw.githubusercontent.com/Haris-09/Coronary-Heart-Disease-Prediction-Capstone-Project/master/starter_file/framingham.csv\\\\\\\\\\\\\"}]}}, \\\\\\\\\\\\\"localData\\\\\\\\\\\\\": {}, \\\\\\\\\\\\\"isEnabled\\\\\\\\\\\\\": true, \\\\\\\\\\\\\"name\\\\\\\\\\\\\": null, \\\\\\\\\\\\\"annotation\\\\\\\\\\\\\": null}, {\\\\\\\\\\\\\"id\\\\\\\\\\\\\": \\\\\\\\\\\\\"8d3df2f3-6ba9-4e77-bf21-806c0af87f69\\\\\\\\\\\\\", \\\\\\\\\\\\\"type\\\\\\\\\\\\\": \\\\\\\\\\\\\"Microsoft.DPrep.ParseDelimitedBlock\\\\\\\\\\\\\", \\\\\\\\\\\\\"arguments\\\\\\\\\\\\\": {\\\\\\\\\\\\\"columnHeadersMode\\\\\\\\\\\\\": 3, \\\\\\\\\\\\\"fileEncoding\\\\\\\\\\\\\": 0, \\\\\\\\\\\\\"handleQuotedLineBreaks\\\\\\\\\\\\\": false, \\\\\\\\\\\\\"preview\\\\\\\\\\\\\": false, \\\\\\\\\\\\\"separator\\\\\\\\\\\\\": \\\\\\\\\\\\\",\\\\\\\\\\\\\", \\\\\\\\\\\\\"skipRows\\\\\\\\\\\\\": 0, \\\\\\\\\\\\\"skipRowsMode\\\\\\\\\\\\\": 0}, \\\\\\\\\\\\\"localData\\\\\\\\\\\\\": {}, \\\\\\\\\\\\\"isEnabled\\\\\\\\\\\\\": true, \\\\\\\\\\\\\"name\\\\\\\\\\\\\": null, \\\\\\\\\\\\\"annotation\\\\\\\\\\\\\": null}, {\\\\\\\\\\\\\"id\\\\\\\\\\\\\": \\\\\\\\\\\\\"7aa6bc16-5bff-4ff4-8d37-a1fe19d0d0b8\\\\\\\\\\\\\", \\\\\\\\\\\\\"type\\\\\\\\\\\\\": \\\\\\\\\\\\\"Microsoft.DPrep.DropColumnsBlock\\\\\\\\\\\\\", \\\\\\\\\\\\\"arguments\\\\\\\\\\\\\": {\\\\\\\\\\\\\"columns\\\\\\\\\\\\\": {\\\\\\\\\\\\\"type\\\\\\\\\\\\\": 0, \\\\\\\\\\\\\"details\\\\\\\\\\\\\": {\\\\\\\\\\\\\"selectedColumns\\\\\\\\\\\\\": [\\\\\\\\\\\\\"Path\\\\\\\\\\\\\"]}}}, \\\\\\\\\\\\\"localData\\\\\\\\\\\\\": {}, \\\\\\\\\\\\\"isEnabled\\\\\\\\\\\\\": true, \\\\\\\\\\\\\"name\\\\\\\\\\\\\": null, \\\\\\\\\\\\\"annotation\\\\\\\\\\\\\": null}, {\\\\\\\\\\\\\"id\\\\\\\\\\\\\": \\\\\\\\\\\\\"9bd91375-3be1-4fac-a6c6-194227f447d3\\\\\\\\\\\\\", \\\\\\\\\\\\\"type\\\\\\\\\\\\\": \\\\\\\\\\\\\"Microsoft.DPrep.SetColumnTypesBlock\\\\\\\\\\\\\", \\\\\\\\\\\\\"arguments\\\\\\\\\\\\\": {\\\\\\\\\\\\\"columnConversion\\\\\\\\\\\\\": [{\\\\\\\\\\\\\"column\\\\\\\\\\\\\": {\\\\\\\\\\\\\"type\\\\\\\\\\\\\": 2, \\\\\\\\\\\\\"details\\\\\\\\\\\\\": {\\\\\\\\\\\\\"selectedColumn\\\\\\\\\\\\\": \\\\\\\\\\\\\"male\\\\\\\\\\\\\"}}, \\\\\\\\\\\\\"typeProperty\\\\\\\\\\\\\": 2}, {\\\\\\\\\\\\\"column\\\\\\\\\\\\\": {\\\\\\\\\\\\\"type\\\\\\\\\\\\\": 2, \\\\\\\\\\\\\"details\\\\\\\\\\\\\": {\\\\\\\\\\\\\"selectedColumn\\\\\\\\\\\\\": \\\\\\\\\\\\\"age\\\\\\\\\\\\\"}}, \\\\\\\\\\\\\"typeProperty\\\\\\\\\\\\\": 2}, {\\\\\\\\\\\\\"column\\\\\\\\\\\\\": {\\\\\\\\\\\\\"type\\\\\\\\\\\\\": 2, \\\\\\\\\\\\\"details\\\\\\\\\\\\\": {\\\\\\\\\\\\\"selectedColumn\\\\\\\\\\\\\": \\\\\\\\\\\\\"education\\\\\\\\\\\\\"}}, \\\\\\\\\\\\\"typeProperty\\\\\\\\\\\\\": 0}, {\\\\\\\\\\\\\"column\\\\\\\\\\\\\": {\\\\\\\\\\\\\"type\\\\\\\\\\\\\": 2, \\\\\\\\\\\\\"details\\\\\\\\\\\\\": {\\\\\\\\\\\\\"selectedColumn\\\\\\\\\\\\\": \\\\\\\\\\\\\"currentSmoker\\\\\\\\\\\\\"}}, \\\\\\\\\\\\\"typeProperty\\\\\\\\\\\\\": 2}, {\\\\\\\\\\\\\"column\\\\\\\\\\\\\": {\\\\\\\\\\\\\"type\\\\\\\\\\\\\": 2, \\\\\\\\\\\\\"details\\\\\\\\\\\\\": {\\\\\\\\\\\\\"selectedColumn\\\\\\\\\\\\\": \\\\\\\\\\\\\"cigsPerDay\\\\\\\\\\\\\"}}, \\\\\\\\\\\\\"typeProperty\\\\\\\\\\\\\": 0}, {\\\\\\\\\\\\\"column\\\\\\\\\\\\\": {\\\\\\\\\\\\\"type\\\\\\\\\\\\\": 2, \\\\\\\\\\\\\"details\\\\\\\\\\\\\": {\\\\\\\\\\\\\"selectedColumn\\\\\\\\\\\\\": \\\\\\\\\\\\\"BPMeds\\\\\\\\\\\\\"}}, \\\\\\\\\\\\\"typeProperty\\\\\\\\\\\\\": 0}, {\\\\\\\\\\\\\"column\\\\\\\\\\\\\": {\\\\\\\\\\\\\"type\\\\\\\\\\\\\": 2, \\\\\\\\\\\\\"details\\\\\\\\\\\\\": {\\\\\\\\\\\\\"selectedColumn\\\\\\\\\\\\\": \\\\\\\\\\\\\"prevalentStroke\\\\\\\\\\\\\"}}, \\\\\\\\\\\\\"typeProperty\\\\\\\\\\\\\": 2}, {\\\\\\\\\\\\\"column\\\\\\\\\\\\\": {\\\\\\\\\\\\\"type\\\\\\\\\\\\\": 2, \\\\\\\\\\\\\"details\\\\\\\\\\\\\": {\\\\\\\\\\\\\"selectedColumn\\\\\\\\\\\\\": \\\\\\\\\\\\\"prevalentHyp\\\\\\\\\\\\\"}}, \\\\\\\\\\\\\"typeProperty\\\\\\\\\\\\\": 2}, {\\\\\\\\\\\\\"column\\\\\\\\\\\\\": {\\\\\\\\\\\\\"type\\\\\\\\\\\\\": 2, \\\\\\\\\\\\\"details\\\\\\\\\\\\\": {\\\\\\\\\\\\\"selectedColumn\\\\\\\\\\\\\": \\\\\\\\\\\\\"diabetes\\\\\\\\\\\\\"}}, \\\\\\\\\\\\\"typeProperty\\\\\\\\\\\\\": 2}, {\\\\\\\\\\\\\"column\\\\\\\\\\\\\": {\\\\\\\\\\\\\"type\\\\\\\\\\\\\": 2, \\\\\\\\\\\\\"details\\\\\\\\\\\\\": {\\\\\\\\\\\\\"selectedColumn\\\\\\\\\\\\\": \\\\\\\\\\\\\"totChol\\\\\\\\\\\\\"}}, \\\\\\\\\\\\\"typeProperty\\\\\\\\\\\\\": 0}, {\\\\\\\\\\\\\"column\\\\\\\\\\\\\": {\\\\\\\\\\\\\"type\\\\\\\\\\\\\": 2, \\\\\\\\\\\\\"details\\\\\\\\\\\\\": {\\\\\\\\\\\\\"selectedColumn\\\\\\\\\\\\\": \\\\\\\\\\\\\"sysBP\\\\\\\\\\\\\"}}, \\\\\\\\\\\\\"typeProperty\\\\\\\\\\\\\": 3}, {\\\\\\\\\\\\\"column\\\\\\\\\\\\\": {\\\\\\\\\\\\\"type\\\\\\\\\\\\\": 2, \\\\\\\\\\\\\"details\\\\\\\\\\\\\": {\\\\\\\\\\\\\"selectedColumn\\\\\\\\\\\\\": \\\\\\\\\\\\\"diaBP\\\\\\\\\\\\\"}}, \\\\\\\\\\\\\"typeProperty\\\\\\\\\\\\\": 3}, {\\\\\\\\\\\\\"column\\\\\\\\\\\\\": {\\\\\\\\\\\\\"type\\\\\\\\\\\\\": 2, \\\\\\\\\\\\\"details\\\\\\\\\\\\\": {\\\\\\\\\\\\\"selectedColumn\\\\\\\\\\\\\": \\\\\\\\\\\\\"BMI\\\\\\\\\\\\\"}}, \\\\\\\\\\\\\"typeProperty\\\\\\\\\\\\\": 0}, {\\\\\\\\\\\\\"column\\\\\\\\\\\\\": {\\\\\\\\\\\\\"type\\\\\\\\\\\\\": 2, \\\\\\\\\\\\\"details\\\\\\\\\\\\\": {\\\\\\\\\\\\\"selectedColumn\\\\\\\\\\\\\": \\\\\\\\\\\\\"heartRate\\\\\\\\\\\\\"}}, \\\\\\\\\\\\\"typeProperty\\\\\\\\\\\\\": 2}, {\\\\\\\\\\\\\"column\\\\\\\\\\\\\": {\\\\\\\\\\\\\"type\\\\\\\\\\\\\": 2, \\\\\\\\\\\\\"details\\\\\\\\\\\\\": {\\\\\\\\\\\\\"selectedColumn\\\\\\\\\\\\\": \\\\\\\\\\\\\"glucose\\\\\\\\\\\\\"}}, \\\\\\\\\\\\\"typeProperty\\\\\\\\\\\\\": 0}, {\\\\\\\\\\\\\"column\\\\\\\\\\\\\": {\\\\\\\\\\\\\"type\\\\\\\\\\\\\": 2, \\\\\\\\\\\\\"details\\\\\\\\\\\\\": {\\\\\\\\\\\\\"selectedColumn\\\\\\\\\\\\\": \\\\\\\\\\\\\"TenYearCHD\\\\\\\\\\\\\"}}, \\\\\\\\\\\\\"typeProperty\\\\\\\\\\\\\": 2}]}, \\\\\\\\\\\\\"localData\\\\\\\\\\\\\": {}, \\\\\\\\\\\\\"isEnabled\\\\\\\\\\\\\": true, \\\\\\\\\\\\\"name\\\\\\\\\\\\\": null, \\\\\\\\\\\\\"annotation\\\\\\\\\\\\\": null}], \\\\\\\\\\\\\"inspectors\\\\\\\\\\\\\": [], \\\\\\\\\\\\\"meta\\\\\\\\\\\\\": {\\\\\\\\\\\\\"savedDatasetId\\\\\\\\\\\\\": \\\\\\\\\\\\\"86703e5d-e144-4d41-b8e1-e9118b2ef501\\\\\\\\\\\\\", \\\\\\\\\\\\\"datasetType\\\\\\\\\\\\\": \\\\\\\\\\\\\"tabular\\\\\\\\\\\\\", \\\\\\\\\\\\\"subscriptionId\\\\\\\\\\\\\": \\\\\\\\\\\\\"b968fb36-f06a-4c76-a15f-afab68ae7667\\\\\\\\\\\\\", \\\\\\\\\\\\\"workspaceId\\\\\\\\\\\\\": \\\\\\\\\\\\\"4d0fdcd7-3799-4f28-8029-bb2603612795\\\\\\\\\\\\\", \\\\\\\\\\\\\"workspaceLocation\\\\\\\\\\\\\": \\\\\\\\\\\\\"southcentralus\\\\\\\\\\\\\", \\\\\\\\\\\\\"partition_keys\\\\\\\\\\\\\": \\\\\\\\\\\\\"true\\\\\\\\\\\\\"}}\\\\\", \\\\\"activities\\\\\": 0}',\n  'EnableSubsampling': None,\n  'runTemplate': 'AutoML',\n  'azureml.runsource': 'automl',\n  'display_task_type': 'classification',\n  'dependencies_versions': '{\"azureml-widgets\": \"1.24.0\", \"azureml-train\": \"1.24.0\", \"azureml-train-restclients-hyperdrive\": \"1.24.0\", \"azureml-train-core\": \"1.24.0\", \"azureml-train-automl-client\": \"1.24.0\", \"azureml-tensorboard\": \"1.24.0\", \"azureml-telemetry\": \"1.24.0\", \"azureml-sdk\": \"1.24.0\", \"azureml-pipeline\": \"1.24.0\", \"azureml-pipeline-steps\": \"1.24.0\", \"azureml-pipeline-core\": \"1.24.0\", \"azureml-opendatasets\": \"1.24.0\", \"azureml-model-management-sdk\": \"1.0.1b6.post1\", \"azureml-mlflow\": \"1.24.0\", \"azureml-interpret\": \"1.24.0\", \"azureml-explain-model\": \"1.24.0\", \"azureml-defaults\": \"1.24.0\", \"azureml-dataset-runtime\": \"1.24.0\", \"azureml-dataprep\": \"2.11.1\", \"azureml-dataprep-rslex\": \"1.9.0\", \"azureml-dataprep-native\": \"30.0.0\", \"azureml-datadrift\": \"1.24.0\", \"azureml-core\": \"1.24.0\", \"azureml-contrib-services\": \"1.24.0\", \"azureml-contrib-server\": \"1.24.0\", \"azureml-contrib-reinforcementlearning\": \"1.24.0\", \"azureml-contrib-pipeline-steps\": \"1.24.0\", \"azureml-contrib-notebook\": \"1.24.0\", \"azureml-contrib-gbdt\": \"1.24.0\", \"azureml-contrib-fairness\": \"1.24.0\", \"azureml-contrib-dataset\": \"1.24.0\", \"azureml-cli-common\": \"1.24.0\", \"azureml-automl-core\": \"1.24.0\", \"azureml-accel-models\": \"1.24.0\"}',\n  '_aml_system_scenario_identification': 'Remote.Parent',\n  'ClientType': 'SDK',\n  'environment_cpu_name': 'AzureML-AutoML',\n  'environment_cpu_label': 'prod',\n  'environment_gpu_name': 'AzureML-AutoML-GPU',\n  'environment_gpu_label': 'prod',\n  'root_attribution': 'automl',\n  'attribution': 'AutoML',\n  'Orchestrator': 'AutoML',\n  'CancelUri': 'https://southcentralus.experiments.azureml.net/jasmine/v1.0/subscriptions/b968fb36-f06a-4c76-a15f-afab68ae7667/resourceGroups/aml-quickstarts-141738/providers/Microsoft.MachineLearningServices/workspaces/quick-starts-ws-141738/experimentids/ac7d7765-9282-4cf0-862b-b0b5bd2930a7/cancel/AutoML_48a3780c-79c8-4df9-ba17-2162603fc8db',\n  'ClientSdkVersion': '1.24.0',\n  'snapshotId': '00000000-0000-0000-0000-000000000000',\n  'SetupRunId': 'AutoML_48a3780c-79c8-4df9-ba17-2162603fc8db_setup',\n  'SetupRunContainerId': 'dcid.AutoML_48a3780c-79c8-4df9-ba17-2162603fc8db_setup',\n  'FeaturizationRunJsonPath': 'featurizer_container.json',\n  'FeaturizationRunId': 'AutoML_48a3780c-79c8-4df9-ba17-2162603fc8db_featurize',\n  'ProblemInfoJsonString': '{\"dataset_num_categorical\": 0, \"is_sparse\": true, \"subsampling\": false, \"dataset_classes\": 2, \"dataset_features\": 1385, \"dataset_samples\": 4240, \"single_frequency_class_detected\": false}',\n  'ModelExplainRunId': 'AutoML_48a3780c-79c8-4df9-ba17-2162603fc8db_ModelExplain'},\n 'inputDatasets': [{'dataset': {'id': '86703e5d-e144-4d41-b8e1-e9118b2ef501'}, 'consumptionDetails': {'type': 'RunInput', 'inputName': 'training_data', 'mechanism': 'Direct'}}],\n 'outputDatasets': [],\n 'logFiles': {},\n 'submittedBy': 'ODL_User 141738'}"
          },
          "metadata": {}
        }
      ],
      "execution_count": 10,
      "metadata": {
        "gather": {
          "logged": 1617293960508
        }
      }
    },
    {
      "cell_type": "markdown",
      "source": [
        "## Best Model\n",
        "\n",
        "TODO: In the cell below, get the best model from the automl experiments and display all the properties of the model.\n",
        "\n"
      ],
      "metadata": {}
    },
    {
      "cell_type": "code",
      "source": [
        "best_automl_run, best_automl_model = remote_run.get_output()\n",
        "\n",
        "print('Best Run Id: ' + best_automl_run.id,\n",
        "     'Best Model Name: ' + best_automl_run.properties['model_name'],\n",
        "     )"
      ],
      "outputs": [
        {
          "output_type": "stream",
          "name": "stderr",
          "text": [
            "WARNING:root:The model you attempted to retrieve requires 'azureml-train-automl-runtime' to be installed at '==1.24.0'. Please install 'azureml-train-automl-runtime==1.24.0' (e.g. `pip install azureml-train-automl-runtime==1.24.0`) and then rerun the previous command.\n"
          ]
        },
        {
          "output_type": "stream",
          "name": "stdout",
          "text": [
            "Best Run Id: AutoML_48a3780c-79c8-4df9-ba17-2162603fc8db_23 Best Model Name: AutoML48a3780c723\n"
          ]
        }
      ],
      "execution_count": 13,
      "metadata": {
        "gather": {
          "logged": 1617294145230
        },
        "jupyter": {
          "outputs_hidden": false,
          "source_hidden": false
        },
        "nteract": {
          "transient": {
            "deleting": false
          }
        }
      }
    },
    {
      "cell_type": "code",
      "source": [
        "best_run_metrics = best_automl_run.get_metrics()\n",
        "\n",
        "for metric_name in best_run_metrics:\n",
        "    metric = best_run_metrics[metric_name]\n",
        "    print(metric_name,\":\" , metric)"
      ],
      "outputs": [
        {
          "output_type": "stream",
          "name": "stdout",
          "text": [
            "f1_score_macro : 0.4618100130840445\n",
            "recall_score_micro : 0.8483513198150266\n",
            "average_precision_score_weighted : 0.8015591882407153\n",
            "precision_score_macro : 0.5353477521091401\n",
            "average_precision_score_macro : 0.5766390135931861\n",
            "f1_score_micro : 0.8483513198150266\n",
            "AUC_macro : 0.654262101989172\n",
            "log_loss : 0.45776584213366184\n",
            "accuracy : 0.8483513198150266\n",
            "recall_score_macro : 0.5013149570996014\n",
            "AUC_weighted : 0.654262101989172\n",
            "average_precision_score_micro : 0.8657408606077333\n",
            "recall_score_weighted : 0.8483513198150266\n",
            "precision_score_weighted : 0.7557100043685105\n",
            "matthews_correlation : 0.02105689647699088\n",
            "f1_score_weighted : 0.7794626473908811\n",
            "AUC_micro : 0.8881604802302112\n",
            "precision_score_micro : 0.8483513198150266\n",
            "balanced_accuracy : 0.5013149570996014\n",
            "weighted_accuracy : 0.968502482192327\n",
            "norm_macro_recall : 0.0026299141992027764\n",
            "confusion_matrix : aml://artifactId/ExperimentRun/dcid.AutoML_48a3780c-79c8-4df9-ba17-2162603fc8db_23/confusion_matrix\n",
            "accuracy_table : aml://artifactId/ExperimentRun/dcid.AutoML_48a3780c-79c8-4df9-ba17-2162603fc8db_23/accuracy_table\n"
          ]
        }
      ],
      "execution_count": 14,
      "metadata": {
        "gather": {
          "logged": 1617294165251
        }
      }
    },
    {
      "cell_type": "code",
      "source": [
        "#TODO: Save the best model\n",
        "automodel = best_automl_run.register_model(model_name='best_automl_model', \n",
        "                                    model_path='outputs/model.pkl',\n",
        "                                    tags={'Method':'AutoML'},\n",
        "                                    properties={'Accuracy': best_run_metrics['accuracy']})"
      ],
      "outputs": [],
      "execution_count": 15,
      "metadata": {
        "gather": {
          "logged": 1617294192392
        },
        "jupyter": {
          "outputs_hidden": false,
          "source_hidden": false
        },
        "nteract": {
          "transient": {
            "deleting": false
          }
        }
      }
    },
    {
      "cell_type": "markdown",
      "source": [
        "## Model Deployment\n",
        "\n",
        "Remember you have to deploy only one of the two models you trained.. Perform the steps in the rest of this notebook only if you wish to deploy this model.\n",
        "\n",
        "TODO: In the cell below, register the model, create an inference config and deploy the model as a web service."
      ],
      "metadata": {}
    },
    {
      "cell_type": "code",
      "source": [
        "# Download scoring file \n",
        "best_automl_run.download_file('outputs/scoring_file_v_1_0_0.py', 'score.py')\n",
        "\n",
        "# Download environment file\n",
        "best_automl_run.download_file('outputs/conda_env_v_1_0_0.yml', 'env.yml')"
      ],
      "outputs": [],
      "execution_count": 16,
      "metadata": {
        "gather": {
          "logged": 1617294206662
        },
        "jupyter": {
          "outputs_hidden": false,
          "source_hidden": false
        },
        "nteract": {
          "transient": {
            "deleting": false
          }
        }
      }
    },
    {
      "cell_type": "code",
      "source": [
        "from azureml.core.webservice import AciWebservice, Webservice\n",
        "aciconfig = AciWebservice.deploy_configuration(cpu_cores=1, \n",
        "                                               memory_gb=1, \n",
        "                                               description='Framingham Heart Disease Prediction with AutoML')"
      ],
      "outputs": [],
      "execution_count": 26,
      "metadata": {
        "gather": {
          "logged": 1617295962520
        }
      }
    },
    {
      "cell_type": "code",
      "source": [
        "from azureml.core.model import InferenceConfig, Model\n",
        "inference_config = InferenceConfig(entry_script=\"score.py\", environment=best_automl_run.get_environment())\n",
        "\n",
        "service = Model.deploy(workspace=ws, \n",
        "                       name='automl-webservice', \n",
        "                       models=[automodel], \n",
        "                       inference_config=inference_config, \n",
        "                       deployment_config=aciconfig)"
      ],
      "outputs": [],
      "execution_count": 27,
      "metadata": {
        "gather": {
          "logged": 1617295972488
        }
      }
    },
    {
      "cell_type": "code",
      "source": [
        "service.wait_for_deployment(show_output=True)"
      ],
      "outputs": [
        {
          "output_type": "stream",
          "name": "stdout",
          "text": [
            "Tips: You can try get_logs(): https://aka.ms/debugimage#dockerlog or local deployment: https://aka.ms/debugimage#debug-locally to debug if deployment takes longer than 10 minutes.\n",
            "Running\n",
            "2021-04-01 16:52:48+00:00 Creating Container Registry if not exists.\n",
            "2021-04-01 16:52:49+00:00 Registering the environment.\n",
            "2021-04-01 16:52:50+00:00 Use the existing image.\n",
            "2021-04-01 16:52:51+00:00 Generating deployment configuration.\n",
            "2021-04-01 16:52:52+00:00 Submitting deployment to compute..\n",
            "2021-04-01 16:52:59+00:00 Checking the status of deployment automl-webservice..\n",
            "2021-04-01 16:55:46+00:00 Checking the status of inference endpoint automl-webservice.\n",
            "Succeeded\n",
            "ACI service creation operation finished, operation \"Succeeded\"\n"
          ]
        }
      ],
      "execution_count": 28,
      "metadata": {
        "gather": {
          "logged": 1617296172509
        }
      }
    },
    {
      "cell_type": "code",
      "source": [
        "print(\"Service State: \",service.state)\n",
        "print(\"Scoring URI: \",service.scoring_uri)\n",
        "print(\"Swagger URI: \",service.swagger_uri)"
      ],
      "outputs": [
        {
          "output_type": "stream",
          "name": "stdout",
          "text": [
            "Service State:  Healthy\n",
            "Scoring URI:  http://b4c2a923-3fe4-4e4a-a4bb-2328351a817a.southcentralus.azurecontainer.io/score\n",
            "Swagger URI:  http://b4c2a923-3fe4-4e4a-a4bb-2328351a817a.southcentralus.azurecontainer.io/swagger.json\n"
          ]
        }
      ],
      "execution_count": 29,
      "metadata": {
        "gather": {
          "logged": 1617296212636
        }
      }
    },
    {
      "cell_type": "markdown",
      "source": [
        "TODO: In the cell below, send a request to the web service you deployed to test it."
      ],
      "metadata": {
        "collapsed": true,
        "gather": {
          "logged": 1598431657736
        },
        "jupyter": {
          "outputs_hidden": false,
          "source_hidden": false
        },
        "nteract": {
          "transient": {
            "deleting": false
          }
        }
      }
    },
    {
      "cell_type": "code",
      "source": [
        "\n",
        "data = {\n",
        "    \"data\": [\n",
        "        {\n",
        "            'male': 0,\n",
        "            'age': 55,\n",
        "            'education': 4 ,\n",
        "            'currentSmoker': 1,\n",
        "            'cigsPerDay': 20,\n",
        "            'BPMeds': 0,\n",
        "            'prevalentStroke': 0,\n",
        "            'prevalentHyp': 0,\n",
        "            'diabetes': 0,\n",
        "            'totChol': 285,\n",
        "            'sysBP': 175,\n",
        "            'diaBP': 84,\n",
        "            'BMI': 25.50,\n",
        "            'heartRate': 93,\n",
        "            'glucose': 87\n",
        "        },\n",
        "        {\n",
        "            'male': 1,\n",
        "            'age': 40,\n",
        "            'education': 4 ,\n",
        "            'currentSmoker': 0,\n",
        "            'cigsPerDay': 30,\n",
        "            'BPMeds': 0,\n",
        "            'prevalentStroke': 0,\n",
        "            'prevalentHyp': 0,\n",
        "            'diabetes': 0,\n",
        "            'totChol': 228,\n",
        "            'sysBP': 121,\n",
        "            'diaBP': 110,\n",
        "            'BMI': 30.30,\n",
        "            'heartRate': 80,\n",
        "            'glucose': 80\n",
        "        }\n",
        "    ]\n",
        "}\n",
        "\n",
        "data_sample = json.dumps(data)"
      ],
      "outputs": [],
      "execution_count": 30,
      "metadata": {
        "gather": {
          "logged": 1617296220425
        },
        "jupyter": {
          "outputs_hidden": false,
          "source_hidden": false
        },
        "nteract": {
          "transient": {
            "deleting": false
          }
        }
      }
    },
    {
      "cell_type": "code",
      "source": [
        "scoring_uri = service.scoring_uri\n",
        "input_data = data_sample\n",
        "\n",
        "# Set the content type\n",
        "headers = {'Content-Type': 'application/json'}\n",
        "\n",
        "# Make the request and display the response\n",
        "response = requests.post(scoring_uri, input_data, headers=headers)\n",
        "response.json()"
      ],
      "outputs": [
        {
          "output_type": "execute_result",
          "execution_count": 31,
          "data": {
            "text/plain": "'{\"result\": [0, 0]}'"
          },
          "metadata": {}
        }
      ],
      "execution_count": 31,
      "metadata": {
        "gather": {
          "logged": 1617296224690
        }
      }
    },
    {
      "cell_type": "markdown",
      "source": [
        "TODO: In the cell below, print the logs of the web service and delete the service"
      ],
      "metadata": {
        "collapsed": true,
        "gather": {
          "logged": 1598432765711
        },
        "jupyter": {
          "outputs_hidden": false,
          "source_hidden": false
        },
        "nteract": {
          "transient": {
            "deleting": false
          }
        }
      }
    },
    {
      "cell_type": "code",
      "source": [
        "service.get_logs()"
      ],
      "outputs": [
        {
          "output_type": "execute_result",
          "execution_count": 32,
          "data": {
            "text/plain": "'2021-04-01T16:55:44,924139600+00:00 - gunicorn/run \\n2021-04-01T16:55:44,999684900+00:00 - rsyslog/run \\n2021-04-01T16:55:44,997665900+00:00 - iot-server/run \\n2021-04-01T16:55:45,019303900+00:00 - nginx/run \\n/usr/sbin/nginx: /azureml-envs/azureml_2b14f450572e78de640d54eaabed5e4d/lib/libcrypto.so.1.0.0: no version information available (required by /usr/sbin/nginx)\\n/usr/sbin/nginx: /azureml-envs/azureml_2b14f450572e78de640d54eaabed5e4d/lib/libcrypto.so.1.0.0: no version information available (required by /usr/sbin/nginx)\\n/usr/sbin/nginx: /azureml-envs/azureml_2b14f450572e78de640d54eaabed5e4d/lib/libssl.so.1.0.0: no version information available (required by /usr/sbin/nginx)\\n/usr/sbin/nginx: /azureml-envs/azureml_2b14f450572e78de640d54eaabed5e4d/lib/libssl.so.1.0.0: no version information available (required by /usr/sbin/nginx)\\n/usr/sbin/nginx: /azureml-envs/azureml_2b14f450572e78de640d54eaabed5e4d/lib/libssl.so.1.0.0: no version information available (required by /usr/sbin/nginx)\\nrsyslogd: /azureml-envs/azureml_2b14f450572e78de640d54eaabed5e4d/lib/libuuid.so.1: no version information available (required by rsyslogd)\\nEdgeHubConnectionString and IOTEDGE_IOTHUBHOSTNAME are not set. Exiting...\\n2021-04-01T16:55:47,878378700+00:00 - iot-server/finish 1 0\\n2021-04-01T16:55:47,887392900+00:00 - Exit code 1 is normal. Not restarting iot-server.\\nStarting gunicorn 19.9.0\\nListening at: http://127.0.0.1:31311 (69)\\nUsing worker: sync\\nworker timeout is set to 300\\nBooting worker with pid: 96\\nSPARK_HOME not set. Skipping PySpark Initialization.\\nGenerating new fontManager, this may take some time...\\nInitializing logger\\n2021-04-01 16:55:54,811 | root | INFO | Starting up app insights client\\n2021-04-01 16:55:54,812 | root | INFO | Starting up request id generator\\n2021-04-01 16:55:54,812 | root | INFO | Starting up app insight hooks\\n2021-04-01 16:55:54,814 | root | INFO | Invoking user\\'s init function\\n2021-04-01 16:56:05,752 | azureml.core | WARNING | Failure while loading azureml_run_type_providers. Failed to load entrypoint automl = azureml.train.automl.run:AutoMLRun._from_run_dto with exception (cryptography 3.2 (/azureml-envs/azureml_2b14f450572e78de640d54eaabed5e4d/lib/python3.6/site-packages), Requirement.parse(\\'cryptography<4.0.0,>=3.3.1; extra == \"crypto\"\\'), {\\'PyJWT\\'}).\\nFailure while loading azureml_run_type_providers. Failed to load entrypoint automl = azureml.train.automl.run:AutoMLRun._from_run_dto with exception (cryptography 3.2 (/azureml-envs/azureml_2b14f450572e78de640d54eaabed5e4d/lib/python3.6/site-packages), Requirement.parse(\\'cryptography<4.0.0,>=3.3.1; extra == \"crypto\"\\'), {\\'PyJWT\\'}).\\n2021-04-01 16:56:06,749 | root | INFO | Users\\'s init has completed successfully\\n2021-04-01 16:56:06,771 | root | INFO | Skipping middleware: dbg_model_info as it\\'s not enabled.\\n2021-04-01 16:56:06,771 | root | INFO | Skipping middleware: dbg_resource_usage as it\\'s not enabled.\\n2021-04-01 16:56:06,774 | root | INFO | Scoring timeout is found from os.environ: 60000 ms\\n2021-04-01 16:56:06,827 | root | INFO | 200\\n127.0.0.1 - - [01/Apr/2021:16:56:06 +0000] \"GET /swagger.json HTTP/1.0\" 200 2937 \"-\" \"Go-http-client/1.1\"\\n2021-04-01 16:56:09,411 | root | INFO | 200\\n127.0.0.1 - - [01/Apr/2021:16:56:09 +0000] \"GET /swagger.json HTTP/1.0\" 200 2937 \"-\" \"Go-http-client/1.1\"\\n2021-04-01 16:57:01,487 | root | INFO | Validation Request Content-Type\\n2021-04-01 16:57:01,487 | root | INFO | Scoring Timer is set to 60.0 seconds\\n2021-04-01 16:57:01,648 | root | INFO | 200\\n127.0.0.1 - - [01/Apr/2021:16:57:01 +0000] \"POST /score HTTP/1.0\" 200 22 \"-\" \"python-requests/2.25.1\"\\n'"
          },
          "metadata": {}
        }
      ],
      "execution_count": 32,
      "metadata": {
        "jupyter": {
          "outputs_hidden": false,
          "source_hidden": false
        },
        "nteract": {
          "transient": {
            "deleting": false
          }
        },
        "gather": {
          "logged": 1617296229870
        }
      }
    },
    {
      "cell_type": "code",
      "source": [
        "service.delete()"
      ],
      "outputs": [],
      "execution_count": 25,
      "metadata": {
        "gather": {
          "logged": 1617294836198
        }
      }
    }
  ],
  "metadata": {
    "kernel_info": {
      "name": "python38-azureml"
    },
    "kernelspec": {
      "name": "python38-azureml",
      "language": "python",
      "display_name": "Python 3.8 - AzureML"
    },
    "language_info": {
      "name": "python",
      "version": "3.8.1",
      "mimetype": "text/x-python",
      "codemirror_mode": {
        "name": "ipython",
        "version": 3
      },
      "pygments_lexer": "ipython3",
      "nbconvert_exporter": "python",
      "file_extension": ".py"
    },
    "nteract": {
      "version": "nteract-front-end@1.0.0"
    },
    "microsoft": {
      "host": {
        "AzureML": {
          "notebookHasBeenCompleted": true
        }
      }
    }
  },
  "nbformat": 4,
  "nbformat_minor": 2
}