{
 "cells": [
  {
   "cell_type": "markdown",
   "metadata": {},
   "source": [
    "# Automated ML\n",
    "\n",
    "TODO: Import Dependencies. In the cell below, import all the dependencies that you will need to complete the project."
   ]
  },
  {
   "cell_type": "code",
   "execution_count": 1,
   "metadata": {
    "gather": {
     "logged": 1617559085243
    },
    "jupyter": {
     "outputs_hidden": false,
     "source_hidden": false
    },
    "nteract": {
     "transient": {
      "deleting": false
     }
    }
   },
   "outputs": [],
   "source": [
    "from azureml.core.experiment import Experiment\n",
    "from azureml.core.workspace import Workspace\n",
    "from azureml.core.compute import ComputeTarget, AmlCompute\n",
    "from azureml.core.compute_target import ComputeTargetException\n",
    "from azureml.widgets import RunDetails\n",
    "from azureml.data.dataset_factory import TabularDatasetFactory\n",
    "from azureml.train.automl import AutoMLConfig\n",
    "from azureml.core.dataset import Dataset\n",
    "from azureml.core.webservice import AciWebservice, Webservice\n",
    "from azureml.core.model import InferenceConfig, Model\n",
    "import os\n",
    "import joblib\n",
    "import logging\n",
    "import json\n",
    "import requests"
   ]
  },
  {
   "cell_type": "markdown",
   "metadata": {},
   "source": [
    "## Dataset\n",
    "\n",
    "### Overview\n",
    "\n",
    "In this project i uses the Framingham Heart Study Dataset available on Kaggle. The Dataset consists of 16 Columns and 4240 Rows."
   ]
  },
  {
   "cell_type": "code",
   "execution_count": 2,
   "metadata": {
    "gather": {
     "logged": 1617559111820
    },
    "jupyter": {
     "outputs_hidden": false,
     "source_hidden": false
    },
    "nteract": {
     "transient": {
      "deleting": false
     }
    }
   },
   "outputs": [
    {
     "name": "stdout",
     "output_type": "stream",
     "text": [
      "Performing interactive authentication. Please follow the instructions on the terminal.\n",
      "To sign in, use a web browser to open the page https://microsoft.com/devicelogin and enter the code FTL7F49VX to authenticate.\n",
      "You have logged in. Now let us find all the subscriptions to which you have access...\n",
      "Interactive authentication successfully completed.\n",
      "Workspace Name: quick-starts-ws-141942\n",
      "Resource group: aml-quickstarts-141942\n",
      "Azure Region: westus2\n",
      "Subscription Id: 61c5c3f0-6dc7-4ed9-a7f3-c704b20e3b30\n"
     ]
    }
   ],
   "source": [
    "ws = Workspace.from_config()\n",
    "print('Workspace Name: ' + ws.name,\n",
    "      'Resource group: ' + ws.resource_group,\n",
    "      'Azure Region: ' + ws.location,\n",
    "      'Subscription Id: ' + ws.subscription_id, sep = '\\n')"
   ]
  },
  {
   "cell_type": "code",
   "execution_count": 3,
   "metadata": {
    "gather": {
     "logged": 1617559125534
    },
    "jupyter": {
     "outputs_hidden": false,
     "source_hidden": false
    },
    "nteract": {
     "transient": {
      "deleting": false
     }
    }
   },
   "outputs": [],
   "source": [
    "# choose a name for experiment\n",
    "experiment_name = 'Framingham-Experiment'\n",
    "\n",
    "experiment=Experiment(ws, experiment_name)\n",
    "run = experiment.start_logging()"
   ]
  },
  {
   "cell_type": "code",
   "execution_count": 4,
   "metadata": {
    "gather": {
     "logged": 1617559752270
    }
   },
   "outputs": [
    {
     "name": "stdout",
     "output_type": "stream",
     "text": [
      "Creating....\n",
      "SucceededProvisioning operation finished, operation \"Succeeded\"\n",
      "Succeeded....................................................................................................................\n",
      "AmlCompute wait for completion finished\n",
      "\n",
      "Wait timeout has been reached\n",
      "Current provisioning state of AmlCompute is \"Succeeded\" and current node count is \"0\"\n"
     ]
    }
   ],
   "source": [
    "# Choose a name for your CPU cluster\n",
    "amlcompute_cluster_name = \"Compute-Cluster\"\n",
    "\n",
    "# Verify that cluster does not exist already\n",
    "try:\n",
    "    compute_target = ComputeTarget(workspace=ws, name=amlcompute_cluster_name)\n",
    "    print('Found existing cluster, use it.')\n",
    "except ComputeTargetException:\n",
    "    compute_config = AmlCompute.provisioning_configuration(vm_size='STANDARD_D2_V2', max_nodes=4)\n",
    "    compute_target = ComputeTarget.create(ws, amlcompute_cluster_name, compute_config)\n",
    "\n",
    "compute_target.wait_for_completion(show_output=True, min_node_count = 1, timeout_in_minutes = 10)"
   ]
  },
  {
   "cell_type": "code",
   "execution_count": 5,
   "metadata": {
    "gather": {
     "logged": 1617560103972
    }
   },
   "outputs": [],
   "source": [
    "# Try to load the dataset from the Workspace. Otherwise, create it from the file\n",
    "found = False\n",
    "key = \"Framingham\"\n",
    "description_text = \"Frahmingham Heart Disease Dataset\"\n",
    "\n",
    "if key in ws.datasets.keys(): \n",
    "        found = True\n",
    "        dataset = ws.datasets[key] \n",
    "\n",
    "if not found:\n",
    "        # Create AML Dataset and register it into Workspace\n",
    "        example_data = 'https://raw.githubusercontent.com/Haris-09/Coronary-Heart-Disease-Prediction-Capstone-Project/master/starter_file/framingham.csv'\n",
    "        dataset = Dataset.Tabular.from_delimited_files(example_data)        \n",
    "        #Register Dataset in Workspace\n",
    "        dataset = dataset.register(workspace=ws,\n",
    "                                   name=key,\n",
    "                                   description=description_text)"
   ]
  },
  {
   "cell_type": "code",
   "execution_count": 6,
   "metadata": {
    "gather": {
     "logged": 1617560544511
    }
   },
   "outputs": [
    {
     "data": {
      "text/html": [
       "<div>\n",
       "<style scoped>\n",
       "    .dataframe tbody tr th:only-of-type {\n",
       "        vertical-align: middle;\n",
       "    }\n",
       "\n",
       "    .dataframe tbody tr th {\n",
       "        vertical-align: top;\n",
       "    }\n",
       "\n",
       "    .dataframe thead th {\n",
       "        text-align: right;\n",
       "    }\n",
       "</style>\n",
       "<table border=\"1\" class=\"dataframe\">\n",
       "  <thead>\n",
       "    <tr style=\"text-align: right;\">\n",
       "      <th></th>\n",
       "      <th>male</th>\n",
       "      <th>age</th>\n",
       "      <th>currentSmoker</th>\n",
       "      <th>prevalentStroke</th>\n",
       "      <th>prevalentHyp</th>\n",
       "      <th>diabetes</th>\n",
       "      <th>sysBP</th>\n",
       "      <th>diaBP</th>\n",
       "      <th>heartRate</th>\n",
       "      <th>TenYearCHD</th>\n",
       "    </tr>\n",
       "  </thead>\n",
       "  <tbody>\n",
       "    <tr>\n",
       "      <th>count</th>\n",
       "      <td>4240.000000</td>\n",
       "      <td>4240.000000</td>\n",
       "      <td>4240.000000</td>\n",
       "      <td>4240.000000</td>\n",
       "      <td>4240.000000</td>\n",
       "      <td>4240.000000</td>\n",
       "      <td>4240.000000</td>\n",
       "      <td>4240.000000</td>\n",
       "      <td>4239.000000</td>\n",
       "      <td>4240.000000</td>\n",
       "    </tr>\n",
       "    <tr>\n",
       "      <th>mean</th>\n",
       "      <td>0.429245</td>\n",
       "      <td>49.580189</td>\n",
       "      <td>0.494104</td>\n",
       "      <td>0.005896</td>\n",
       "      <td>0.310613</td>\n",
       "      <td>0.025708</td>\n",
       "      <td>132.354599</td>\n",
       "      <td>82.897759</td>\n",
       "      <td>75.878981</td>\n",
       "      <td>0.151887</td>\n",
       "    </tr>\n",
       "    <tr>\n",
       "      <th>std</th>\n",
       "      <td>0.495027</td>\n",
       "      <td>8.572942</td>\n",
       "      <td>0.500024</td>\n",
       "      <td>0.076569</td>\n",
       "      <td>0.462799</td>\n",
       "      <td>0.158280</td>\n",
       "      <td>22.033300</td>\n",
       "      <td>11.910394</td>\n",
       "      <td>12.025348</td>\n",
       "      <td>0.358953</td>\n",
       "    </tr>\n",
       "    <tr>\n",
       "      <th>min</th>\n",
       "      <td>0.000000</td>\n",
       "      <td>32.000000</td>\n",
       "      <td>0.000000</td>\n",
       "      <td>0.000000</td>\n",
       "      <td>0.000000</td>\n",
       "      <td>0.000000</td>\n",
       "      <td>83.500000</td>\n",
       "      <td>48.000000</td>\n",
       "      <td>44.000000</td>\n",
       "      <td>0.000000</td>\n",
       "    </tr>\n",
       "    <tr>\n",
       "      <th>25%</th>\n",
       "      <td>0.000000</td>\n",
       "      <td>42.000000</td>\n",
       "      <td>0.000000</td>\n",
       "      <td>0.000000</td>\n",
       "      <td>0.000000</td>\n",
       "      <td>0.000000</td>\n",
       "      <td>117.000000</td>\n",
       "      <td>75.000000</td>\n",
       "      <td>68.000000</td>\n",
       "      <td>0.000000</td>\n",
       "    </tr>\n",
       "    <tr>\n",
       "      <th>50%</th>\n",
       "      <td>0.000000</td>\n",
       "      <td>49.000000</td>\n",
       "      <td>0.000000</td>\n",
       "      <td>0.000000</td>\n",
       "      <td>0.000000</td>\n",
       "      <td>0.000000</td>\n",
       "      <td>128.000000</td>\n",
       "      <td>82.000000</td>\n",
       "      <td>75.000000</td>\n",
       "      <td>0.000000</td>\n",
       "    </tr>\n",
       "    <tr>\n",
       "      <th>75%</th>\n",
       "      <td>1.000000</td>\n",
       "      <td>56.000000</td>\n",
       "      <td>1.000000</td>\n",
       "      <td>0.000000</td>\n",
       "      <td>1.000000</td>\n",
       "      <td>0.000000</td>\n",
       "      <td>144.000000</td>\n",
       "      <td>90.000000</td>\n",
       "      <td>83.000000</td>\n",
       "      <td>0.000000</td>\n",
       "    </tr>\n",
       "    <tr>\n",
       "      <th>max</th>\n",
       "      <td>1.000000</td>\n",
       "      <td>70.000000</td>\n",
       "      <td>1.000000</td>\n",
       "      <td>1.000000</td>\n",
       "      <td>1.000000</td>\n",
       "      <td>1.000000</td>\n",
       "      <td>295.000000</td>\n",
       "      <td>142.500000</td>\n",
       "      <td>143.000000</td>\n",
       "      <td>1.000000</td>\n",
       "    </tr>\n",
       "  </tbody>\n",
       "</table>\n",
       "</div>"
      ],
      "text/plain": [
       "              male          age  currentSmoker  prevalentStroke  prevalentHyp  \\\n",
       "count  4240.000000  4240.000000    4240.000000      4240.000000   4240.000000   \n",
       "mean      0.429245    49.580189       0.494104         0.005896      0.310613   \n",
       "std       0.495027     8.572942       0.500024         0.076569      0.462799   \n",
       "min       0.000000    32.000000       0.000000         0.000000      0.000000   \n",
       "25%       0.000000    42.000000       0.000000         0.000000      0.000000   \n",
       "50%       0.000000    49.000000       0.000000         0.000000      0.000000   \n",
       "75%       1.000000    56.000000       1.000000         0.000000      1.000000   \n",
       "max       1.000000    70.000000       1.000000         1.000000      1.000000   \n",
       "\n",
       "          diabetes        sysBP        diaBP    heartRate   TenYearCHD  \n",
       "count  4240.000000  4240.000000  4240.000000  4239.000000  4240.000000  \n",
       "mean      0.025708   132.354599    82.897759    75.878981     0.151887  \n",
       "std       0.158280    22.033300    11.910394    12.025348     0.358953  \n",
       "min       0.000000    83.500000    48.000000    44.000000     0.000000  \n",
       "25%       0.000000   117.000000    75.000000    68.000000     0.000000  \n",
       "50%       0.000000   128.000000    82.000000    75.000000     0.000000  \n",
       "75%       0.000000   144.000000    90.000000    83.000000     0.000000  \n",
       "max       1.000000   295.000000   142.500000   143.000000     1.000000  "
      ]
     },
     "execution_count": 6,
     "metadata": {},
     "output_type": "execute_result"
    }
   ],
   "source": [
    "df = dataset.to_pandas_dataframe()\n",
    "df.describe()"
   ]
  },
  {
   "cell_type": "markdown",
   "metadata": {},
   "source": [
    "## AutoML Configuration\n",
    "\n",
    "This is binary Classification problem with a label column TenYearCHD. primary metric is Accuracy and experiment timeout is 30 minutes."
   ]
  },
  {
   "cell_type": "code",
   "execution_count": 7,
   "metadata": {
    "gather": {
     "logged": 1617560545058
    },
    "jupyter": {
     "outputs_hidden": false,
     "source_hidden": false
    },
    "nteract": {
     "transient": {
      "deleting": false
     }
    }
   },
   "outputs": [],
   "source": [
    "# TODO: Put your automl settings here\n",
    "automl_settings = {\"experiment_timeout_minutes\": 30,\n",
    "                   \"max_concurrent_iterations\": 4,\n",
    "                   \"primary_metric\" : 'accuracy',\n",
    "                   \"verbosity\": logging.INFO}\n",
    "\n",
    "# TODO: Put your automl config here\n",
    "automl_config = AutoMLConfig(compute_target=compute_target,\n",
    "                             task = \"classification\",\n",
    "                             training_data=dataset,\n",
    "                             label_column_name=\"TenYearCHD\",   \n",
    "                             path = './',\n",
    "                             enable_early_stopping= True,\n",
    "                             featurization= 'auto',\n",
    "                             debug_log = \"automl_errors.log\",\n",
    "                             **automl_settings)"
   ]
  },
  {
   "cell_type": "code",
   "execution_count": 8,
   "metadata": {
    "gather": {
     "logged": 1617561895728
    },
    "jupyter": {
     "outputs_hidden": false,
     "source_hidden": false
    },
    "nteract": {
     "transient": {
      "deleting": false
     }
    }
   },
   "outputs": [
    {
     "name": "stdout",
     "output_type": "stream",
     "text": [
      "Running on remote.\n",
      "No run_configuration provided, running on Compute-Cluster with default configuration\n",
      "Running on remote compute: Compute-Cluster\n",
      "Parent Run ID: AutoML_4b35e636-39de-4f43-a5a1-8631d7dd0fcc\n",
      "\n",
      "Current status: FeaturesGeneration. Generating features for the dataset.\n",
      "Current status: DatasetFeaturization. Beginning to fit featurizers and featurize the dataset.\n",
      "Current status: DatasetCrossValidationSplit. Generating individually featurized CV splits.\n",
      "Current status: ModelSelection. Beginning model selection.\n",
      "\n",
      "****************************************************************************************************\n",
      "DATA GUARDRAILS: \n",
      "\n",
      "TYPE:         Cross validation\n",
      "STATUS:       DONE\n",
      "DESCRIPTION:  Each iteration of the trained model was validated through cross-validation.\n",
      "              \n",
      "DETAILS:      \n",
      "+---------------------------------+\n",
      "|Number of folds                  |\n",
      "+=================================+\n",
      "|3                                |\n",
      "+---------------------------------+\n",
      "\n",
      "****************************************************************************************************\n",
      "\n",
      "TYPE:         Class balancing detection\n",
      "STATUS:       ALERTED\n",
      "DESCRIPTION:  To decrease model bias, please cancel the current run and fix balancing problem.\n",
      "              Learn more about imbalanced data: https://aka.ms/AutomatedMLImbalancedData\n",
      "DETAILS:      Imbalanced data can lead to a falsely perceived positive effect of a model's accuracy because the input data has bias towards one class.\n",
      "+---------------------------------+---------------------------------+--------------------------------------+\n",
      "|Size of the smallest class       |Name/Label of the smallest class |Number of samples in the training data|\n",
      "+=================================+=================================+======================================+\n",
      "|644                              |1                                |4240                                  |\n",
      "+---------------------------------+---------------------------------+--------------------------------------+\n",
      "\n",
      "****************************************************************************************************\n",
      "\n",
      "TYPE:         Missing feature values imputation\n",
      "STATUS:       DONE\n",
      "DESCRIPTION:  If the missing values are expected, let the run complete. Otherwise cancel the current run and use a script to customize the handling of missing feature values that may be more appropriate based on the data type and business requirement.\n",
      "              Learn more about missing value imputation: https://aka.ms/AutomatedMLFeaturization\n",
      "DETAILS:      \n",
      "+---------------------------------+---------------------------------+---------------------------------+\n",
      "|Column name                      |Missing value count              |Imputation type                  |\n",
      "+=================================+=================================+=================================+\n",
      "|heartRate                        |1                                |mean                             |\n",
      "+---------------------------------+---------------------------------+---------------------------------+\n",
      "\n",
      "****************************************************************************************************\n",
      "\n",
      "TYPE:         High cardinality feature detection\n",
      "STATUS:       DONE\n",
      "DESCRIPTION:  High cardinality features were detected in your inputs and handled.\n",
      "              Learn more about high cardinality feature handling: https://aka.ms/AutomatedMLFeaturization\n",
      "DETAILS:      High cardinality features refer to columns that contain a large percentage of unique values.\n",
      "+---------------------------------+---------------------------------+\n",
      "|Column name                      |Column Content Type              |\n",
      "+=================================+=================================+\n",
      "|totChol                          |categorical_hash                 |\n",
      "|BMI                              |categorical_hash                 |\n",
      "+---------------------------------+---------------------------------+\n",
      "\n",
      "****************************************************************************************************\n",
      "\n",
      "****************************************************************************************************\n",
      "ITERATION: The iteration being evaluated.\n",
      "PIPELINE: A summary description of the pipeline being evaluated.\n",
      "DURATION: Time taken for the current iteration.\n",
      "METRIC: The result of computing score on the fitted pipeline.\n",
      "BEST: The best observed score thus far.\n",
      "****************************************************************************************************\n",
      "\n",
      " ITERATION   PIPELINE                                       DURATION      METRIC      BEST\n",
      "         0   MaxAbsScaler LightGBM                          0:00:45       0.8321    0.8321\n",
      "         1   MaxAbsScaler XGBoostClassifier                 0:00:42       0.8472    0.8472\n",
      "         4   MaxAbsScaler RandomForest                      0:00:45       0.6788    0.8472\n",
      "         5   MaxAbsScaler RandomForest                      0:00:40       0.6778    0.8472\n",
      "         3   MaxAbsScaler RandomForest                      0:02:07       0.8481    0.8481\n",
      "         7   SparseNormalizer XGBoostClassifier             0:00:42       0.8406    0.8481\n",
      "         6   SparseNormalizer XGBoostClassifier             0:00:51       0.8427    0.8481\n",
      "         8   StandardScalerWrapper LightGBM                 0:00:46       0.8455    0.8481\n",
      "         9   MaxAbsScaler GradientBoosting                  0:00:41       0.8479    0.8481\n",
      "        10   StandardScalerWrapper GradientBoosting         0:00:45       0.8481    0.8481\n",
      "        11   MaxAbsScaler RandomForest                      0:00:49       0.8481    0.8481\n",
      "        13   MaxAbsScaler LightGBM                          0:00:42       0.8481    0.8481\n",
      "        12   SparseNormalizer LightGBM                      0:00:46       0.8465    0.8481\n",
      "        14   StandardScalerWrapper RandomForest             0:00:42       0.8481    0.8481\n",
      "         2   MaxAbsScaler RandomForest                      0:05:00       0.8481    0.8481\n",
      "        15   MaxAbsScaler LogisticRegression                0:00:49       0.8226    0.8481\n",
      "        16   SparseNormalizer XGBoostClassifier             0:00:48       0.8349    0.8481\n",
      "        18   SparseNormalizer RandomForest                  0:00:38       0.8481    0.8481\n",
      "        17   MaxAbsScaler LogisticRegression                0:01:01       0.7783    0.8481\n",
      "        19   SparseNormalizer XGBoostClassifier             0:00:40       0.8432    0.8481\n",
      "        20   SparseNormalizer LightGBM                      0:00:40       0.8453    0.8481\n",
      "        21   MaxAbsScaler LightGBM                          0:00:45       0.8481    0.8481\n",
      "        22   SparseNormalizer LightGBM                      0:00:40       0.8436    0.8481\n",
      "        23   StandardScalerWrapper LightGBM                 0:00:39       0.8481    0.8481\n",
      "        24   StandardScalerWrapper XGBoostClassifier        0:00:46       0.8429    0.8481\n",
      "        25   MaxAbsScaler RandomForest                      0:00:46       0.8481    0.8481\n",
      "        26   StandardScalerWrapper ExtremeRandomTrees       0:00:46       0.8481    0.8481\n",
      "        27   MaxAbsScaler LightGBM                          0:00:43       0.8481    0.8481\n",
      "        28   SparseNormalizer LightGBM                      0:00:42       0.8481    0.8481\n",
      "        29   SparseNormalizer XGBoostClassifier             0:00:43       0.8484    0.8484\n",
      "        30   StandardScalerWrapper RandomForest             0:00:43       0.8481    0.8484\n",
      "        31   MaxAbsScaler LightGBM                          0:00:40       0.8481    0.8484\n",
      "        32   StandardScalerWrapper XGBoostClassifier        0:00:52       0.8222    0.8484\n",
      "        33   MaxAbsScaler LightGBM                          0:00:42       0.8455    0.8484\n",
      "        35   SparseNormalizer XGBoostClassifier             0:00:40       0.8481    0.8484\n",
      "        34   StandardScalerWrapper XGBoostClassifier        0:00:58       0.8297    0.8484\n",
      "        36   MaxAbsScaler LightGBM                          0:00:43       0.8458    0.8484\n",
      "        37   SparseNormalizer XGBoostClassifier             0:00:37       0.8455    0.8484\n",
      "        39   StandardScalerWrapper LightGBM                 0:00:39       0.8481    0.8484\n",
      "        38   StandardScalerWrapper XGBoostClassifier        0:00:55       0.8269    0.8484\n",
      "        40   SparseNormalizer XGBoostClassifier             0:00:42       0.8481    0.8484\n",
      "        41   MaxAbsScaler LightGBM                          0:00:42       0.8481    0.8484\n",
      "        42   StandardScalerWrapper LightGBM                 0:00:41       0.8481    0.8484\n",
      "        43   StandardScalerWrapper LightGBM                 0:00:42       0.8469    0.8484\n",
      "        44   MaxAbsScaler LightGBM                          0:00:27          nan    0.8484\n",
      "        45                                                  0:00:15          nan    0.8484\n",
      "        47    StackEnsemble                                 0:01:04       0.8377    0.8484\n",
      "        46    VotingEnsemble                                0:01:11       0.8481    0.8484\n"
     ]
    }
   ],
   "source": [
    "# TODO: Submit your experiment\n",
    "remote_run = experiment.submit(automl_config, show_output=True)"
   ]
  },
  {
   "cell_type": "markdown",
   "metadata": {},
   "source": [
    "## Run Details\n",
    "\n",
    "OPTIONAL: Write about the different models trained and their performance. Why do you think some models did better than others?\n",
    "\n",
    "TODO: In the cell below, use the `RunDetails` widget to show the different experiments."
   ]
  },
  {
   "cell_type": "code",
   "execution_count": 9,
   "metadata": {
    "gather": {
     "logged": 1617561896212
    },
    "jupyter": {
     "outputs_hidden": false,
     "source_hidden": false
    },
    "nteract": {
     "transient": {
      "deleting": false
     }
    }
   },
   "outputs": [
    {
     "data": {
      "application/vnd.jupyter.widget-view+json": {
       "model_id": "a7d43b010d0646ec90da8d6e79dde91f",
       "version_major": 2,
       "version_minor": 0
      },
      "text/plain": [
       "_AutoMLWidget(widget_settings={'childWidgetDisplay': 'popup', 'send_telemetry': False, 'log_level': 'INFO', 's…"
      ]
     },
     "metadata": {},
     "output_type": "display_data"
    },
    {
     "data": {
      "application/aml.mini.widget.v1": "{\"status\": \"Completed\", \"workbench_run_details_uri\": \"https://ml.azure.com/experiments/Framingham-Experiment/runs/AutoML_4b35e636-39de-4f43-a5a1-8631d7dd0fcc?wsid=/subscriptions/61c5c3f0-6dc7-4ed9-a7f3-c704b20e3b30/resourcegroups/aml-quickstarts-141942/workspaces/quick-starts-ws-141942\", \"run_id\": \"AutoML_4b35e636-39de-4f43-a5a1-8631d7dd0fcc\", \"run_properties\": {\"run_id\": \"AutoML_4b35e636-39de-4f43-a5a1-8631d7dd0fcc\", \"created_utc\": \"2021-04-04T18:22:25.538699Z\", \"properties\": {\"num_iterations\": \"1000\", \"training_type\": \"TrainFull\", \"acquisition_function\": \"EI\", \"primary_metric\": \"accuracy\", \"train_split\": \"0\", \"acquisition_parameter\": \"0\", \"num_cross_validation\": null, \"target\": \"Compute-Cluster\", \"AMLSettingsJsonString\": \"{\\\"path\\\":null,\\\"name\\\":\\\"Framingham-Experiment\\\",\\\"subscription_id\\\":\\\"61c5c3f0-6dc7-4ed9-a7f3-c704b20e3b30\\\",\\\"resource_group\\\":\\\"aml-quickstarts-141942\\\",\\\"workspace_name\\\":\\\"quick-starts-ws-141942\\\",\\\"region\\\":\\\"westus2\\\",\\\"compute_target\\\":\\\"Compute-Cluster\\\",\\\"spark_service\\\":null,\\\"azure_service\\\":\\\"remote\\\",\\\"many_models\\\":false,\\\"pipeline_fetch_max_batch_size\\\":1,\\\"enable_batch_run\\\":false,\\\"iterations\\\":1000,\\\"primary_metric\\\":\\\"accuracy\\\",\\\"task_type\\\":\\\"classification\\\",\\\"data_script\\\":null,\\\"validation_size\\\":0.0,\\\"n_cross_validations\\\":null,\\\"y_min\\\":null,\\\"y_max\\\":null,\\\"num_classes\\\":null,\\\"featurization\\\":\\\"auto\\\",\\\"_ignore_package_version_incompatibilities\\\":false,\\\"is_timeseries\\\":false,\\\"max_cores_per_iteration\\\":1,\\\"max_concurrent_iterations\\\":4,\\\"iteration_timeout_minutes\\\":null,\\\"mem_in_mb\\\":null,\\\"enforce_time_on_windows\\\":false,\\\"experiment_timeout_minutes\\\":30,\\\"experiment_exit_score\\\":null,\\\"whitelist_models\\\":null,\\\"blacklist_algos\\\":[\\\"TensorFlowLinearClassifier\\\",\\\"TensorFlowDNN\\\"],\\\"supported_models\\\":[\\\"GradientBoosting\\\",\\\"TensorFlowDNN\\\",\\\"BernoulliNaiveBayes\\\",\\\"SVM\\\",\\\"KNN\\\",\\\"MultinomialNaiveBayes\\\",\\\"RandomForest\\\",\\\"LogisticRegression\\\",\\\"DecisionTree\\\",\\\"ExtremeRandomTrees\\\",\\\"TensorFlowLinearClassifier\\\",\\\"XGBoostClassifier\\\",\\\"SGD\\\",\\\"LinearSVM\\\",\\\"AveragedPerceptronClassifier\\\",\\\"LightGBM\\\"],\\\"private_models\\\":[],\\\"auto_blacklist\\\":true,\\\"blacklist_samples_reached\\\":false,\\\"exclude_nan_labels\\\":true,\\\"verbosity\\\":20,\\\"_debug_log\\\":\\\"azureml_automl.log\\\",\\\"show_warnings\\\":false,\\\"model_explainability\\\":true,\\\"service_url\\\":null,\\\"sdk_url\\\":null,\\\"sdk_packages\\\":null,\\\"enable_onnx_compatible_models\\\":false,\\\"enable_split_onnx_featurizer_estimator_models\\\":false,\\\"vm_type\\\":\\\"STANDARD_D2_V2\\\",\\\"telemetry_verbosity\\\":20,\\\"send_telemetry\\\":true,\\\"enable_dnn\\\":false,\\\"scenario\\\":\\\"SDK-1.13.0\\\",\\\"environment_label\\\":null,\\\"save_mlflow\\\":false,\\\"force_text_dnn\\\":false,\\\"enable_feature_sweeping\\\":true,\\\"enable_early_stopping\\\":true,\\\"early_stopping_n_iters\\\":10,\\\"metrics\\\":null,\\\"enable_metric_confidence\\\":false,\\\"enable_ensembling\\\":true,\\\"enable_stack_ensembling\\\":true,\\\"ensemble_iterations\\\":15,\\\"enable_tf\\\":false,\\\"enable_subsampling\\\":null,\\\"subsample_seed\\\":null,\\\"enable_nimbusml\\\":false,\\\"enable_streaming\\\":false,\\\"force_streaming\\\":false,\\\"track_child_runs\\\":true,\\\"allowed_private_models\\\":[],\\\"label_column_name\\\":\\\"TenYearCHD\\\",\\\"weight_column_name\\\":null,\\\"cv_split_column_names\\\":null,\\\"enable_local_managed\\\":false,\\\"_local_managed_run_id\\\":null,\\\"cost_mode\\\":1,\\\"lag_length\\\":0,\\\"metric_operation\\\":\\\"maximize\\\",\\\"preprocess\\\":true}\", \"DataPrepJsonString\": \"{\\\\\\\"training_data\\\\\\\": \\\\\\\"{\\\\\\\\\\\\\\\"blocks\\\\\\\\\\\\\\\": [{\\\\\\\\\\\\\\\"id\\\\\\\\\\\\\\\": \\\\\\\\\\\\\\\"f29f627f-2e1c-4534-9b46-499ba1ff2a28\\\\\\\\\\\\\\\", \\\\\\\\\\\\\\\"type\\\\\\\\\\\\\\\": \\\\\\\\\\\\\\\"Microsoft.DPrep.GetFilesBlock\\\\\\\\\\\\\\\", \\\\\\\\\\\\\\\"arguments\\\\\\\\\\\\\\\": {\\\\\\\\\\\\\\\"isArchive\\\\\\\\\\\\\\\": false, \\\\\\\\\\\\\\\"path\\\\\\\\\\\\\\\": {\\\\\\\\\\\\\\\"target\\\\\\\\\\\\\\\": 4, \\\\\\\\\\\\\\\"resourceDetails\\\\\\\\\\\\\\\": [{\\\\\\\\\\\\\\\"path\\\\\\\\\\\\\\\": \\\\\\\\\\\\\\\"https://raw.githubusercontent.com/Haris-09/Coronary-Heart-Disease-Prediction-Capstone-Project/master/starter_file/framingham.csv\\\\\\\\\\\\\\\"}]}}, \\\\\\\\\\\\\\\"localData\\\\\\\\\\\\\\\": {}, \\\\\\\\\\\\\\\"isEnabled\\\\\\\\\\\\\\\": true, \\\\\\\\\\\\\\\"name\\\\\\\\\\\\\\\": null, \\\\\\\\\\\\\\\"annotation\\\\\\\\\\\\\\\": null}, {\\\\\\\\\\\\\\\"id\\\\\\\\\\\\\\\": \\\\\\\\\\\\\\\"a98cc8e6-8f68-4536-bc82-c8ff56ce8e43\\\\\\\\\\\\\\\", \\\\\\\\\\\\\\\"type\\\\\\\\\\\\\\\": \\\\\\\\\\\\\\\"Microsoft.DPrep.ParseDelimitedBlock\\\\\\\\\\\\\\\", \\\\\\\\\\\\\\\"arguments\\\\\\\\\\\\\\\": {\\\\\\\\\\\\\\\"columnHeadersMode\\\\\\\\\\\\\\\": 3, \\\\\\\\\\\\\\\"fileEncoding\\\\\\\\\\\\\\\": 0, \\\\\\\\\\\\\\\"handleQuotedLineBreaks\\\\\\\\\\\\\\\": false, \\\\\\\\\\\\\\\"preview\\\\\\\\\\\\\\\": false, \\\\\\\\\\\\\\\"separator\\\\\\\\\\\\\\\": \\\\\\\\\\\\\\\",\\\\\\\\\\\\\\\", \\\\\\\\\\\\\\\"skipRows\\\\\\\\\\\\\\\": 0, \\\\\\\\\\\\\\\"skipRowsMode\\\\\\\\\\\\\\\": 0}, \\\\\\\\\\\\\\\"localData\\\\\\\\\\\\\\\": {}, \\\\\\\\\\\\\\\"isEnabled\\\\\\\\\\\\\\\": true, \\\\\\\\\\\\\\\"name\\\\\\\\\\\\\\\": null, \\\\\\\\\\\\\\\"annotation\\\\\\\\\\\\\\\": null}, {\\\\\\\\\\\\\\\"id\\\\\\\\\\\\\\\": \\\\\\\\\\\\\\\"3929b53f-b1d5-46af-adba-627ddd1944a0\\\\\\\\\\\\\\\", \\\\\\\\\\\\\\\"type\\\\\\\\\\\\\\\": \\\\\\\\\\\\\\\"Microsoft.DPrep.DropColumnsBlock\\\\\\\\\\\\\\\", \\\\\\\\\\\\\\\"arguments\\\\\\\\\\\\\\\": {\\\\\\\\\\\\\\\"columns\\\\\\\\\\\\\\\": {\\\\\\\\\\\\\\\"type\\\\\\\\\\\\\\\": 0, \\\\\\\\\\\\\\\"details\\\\\\\\\\\\\\\": {\\\\\\\\\\\\\\\"selectedColumns\\\\\\\\\\\\\\\": [\\\\\\\\\\\\\\\"Path\\\\\\\\\\\\\\\"]}}}, \\\\\\\\\\\\\\\"localData\\\\\\\\\\\\\\\": {}, \\\\\\\\\\\\\\\"isEnabled\\\\\\\\\\\\\\\": true, \\\\\\\\\\\\\\\"name\\\\\\\\\\\\\\\": null, \\\\\\\\\\\\\\\"annotation\\\\\\\\\\\\\\\": null}, {\\\\\\\\\\\\\\\"id\\\\\\\\\\\\\\\": \\\\\\\\\\\\\\\"a6257e06-073d-4fb3-94aa-e6250e43c4da\\\\\\\\\\\\\\\", \\\\\\\\\\\\\\\"type\\\\\\\\\\\\\\\": \\\\\\\\\\\\\\\"Microsoft.DPrep.SetColumnTypesBlock\\\\\\\\\\\\\\\", \\\\\\\\\\\\\\\"arguments\\\\\\\\\\\\\\\": {\\\\\\\\\\\\\\\"columnConversion\\\\\\\\\\\\\\\": [{\\\\\\\\\\\\\\\"column\\\\\\\\\\\\\\\": {\\\\\\\\\\\\\\\"type\\\\\\\\\\\\\\\": 2, \\\\\\\\\\\\\\\"details\\\\\\\\\\\\\\\": {\\\\\\\\\\\\\\\"selectedColumn\\\\\\\\\\\\\\\": \\\\\\\\\\\\\\\"male\\\\\\\\\\\\\\\"}}, \\\\\\\\\\\\\\\"typeProperty\\\\\\\\\\\\\\\": 2}, {\\\\\\\\\\\\\\\"column\\\\\\\\\\\\\\\": {\\\\\\\\\\\\\\\"type\\\\\\\\\\\\\\\": 2, \\\\\\\\\\\\\\\"details\\\\\\\\\\\\\\\": {\\\\\\\\\\\\\\\"selectedColumn\\\\\\\\\\\\\\\": \\\\\\\\\\\\\\\"age\\\\\\\\\\\\\\\"}}, \\\\\\\\\\\\\\\"typeProperty\\\\\\\\\\\\\\\": 2}, {\\\\\\\\\\\\\\\"column\\\\\\\\\\\\\\\": {\\\\\\\\\\\\\\\"type\\\\\\\\\\\\\\\": 2, \\\\\\\\\\\\\\\"details\\\\\\\\\\\\\\\": {\\\\\\\\\\\\\\\"selectedColumn\\\\\\\\\\\\\\\": \\\\\\\\\\\\\\\"education\\\\\\\\\\\\\\\"}}, \\\\\\\\\\\\\\\"typeProperty\\\\\\\\\\\\\\\": 0}, {\\\\\\\\\\\\\\\"column\\\\\\\\\\\\\\\": {\\\\\\\\\\\\\\\"type\\\\\\\\\\\\\\\": 2, \\\\\\\\\\\\\\\"details\\\\\\\\\\\\\\\": {\\\\\\\\\\\\\\\"selectedColumn\\\\\\\\\\\\\\\": \\\\\\\\\\\\\\\"currentSmoker\\\\\\\\\\\\\\\"}}, \\\\\\\\\\\\\\\"typeProperty\\\\\\\\\\\\\\\": 2}, {\\\\\\\\\\\\\\\"column\\\\\\\\\\\\\\\": {\\\\\\\\\\\\\\\"type\\\\\\\\\\\\\\\": 2, \\\\\\\\\\\\\\\"details\\\\\\\\\\\\\\\": {\\\\\\\\\\\\\\\"selectedColumn\\\\\\\\\\\\\\\": \\\\\\\\\\\\\\\"cigsPerDay\\\\\\\\\\\\\\\"}}, \\\\\\\\\\\\\\\"typeProperty\\\\\\\\\\\\\\\": 0}, {\\\\\\\\\\\\\\\"column\\\\\\\\\\\\\\\": {\\\\\\\\\\\\\\\"type\\\\\\\\\\\\\\\": 2, \\\\\\\\\\\\\\\"details\\\\\\\\\\\\\\\": {\\\\\\\\\\\\\\\"selectedColumn\\\\\\\\\\\\\\\": \\\\\\\\\\\\\\\"BPMeds\\\\\\\\\\\\\\\"}}, \\\\\\\\\\\\\\\"typeProperty\\\\\\\\\\\\\\\": 0}, {\\\\\\\\\\\\\\\"column\\\\\\\\\\\\\\\": {\\\\\\\\\\\\\\\"type\\\\\\\\\\\\\\\": 2, \\\\\\\\\\\\\\\"details\\\\\\\\\\\\\\\": {\\\\\\\\\\\\\\\"selectedColumn\\\\\\\\\\\\\\\": \\\\\\\\\\\\\\\"prevalentStroke\\\\\\\\\\\\\\\"}}, \\\\\\\\\\\\\\\"typeProperty\\\\\\\\\\\\\\\": 2}, {\\\\\\\\\\\\\\\"column\\\\\\\\\\\\\\\": {\\\\\\\\\\\\\\\"type\\\\\\\\\\\\\\\": 2, \\\\\\\\\\\\\\\"details\\\\\\\\\\\\\\\": {\\\\\\\\\\\\\\\"selectedColumn\\\\\\\\\\\\\\\": \\\\\\\\\\\\\\\"prevalentHyp\\\\\\\\\\\\\\\"}}, \\\\\\\\\\\\\\\"typeProperty\\\\\\\\\\\\\\\": 2}, {\\\\\\\\\\\\\\\"column\\\\\\\\\\\\\\\": {\\\\\\\\\\\\\\\"type\\\\\\\\\\\\\\\": 2, \\\\\\\\\\\\\\\"details\\\\\\\\\\\\\\\": {\\\\\\\\\\\\\\\"selectedColumn\\\\\\\\\\\\\\\": \\\\\\\\\\\\\\\"diabetes\\\\\\\\\\\\\\\"}}, \\\\\\\\\\\\\\\"typeProperty\\\\\\\\\\\\\\\": 2}, {\\\\\\\\\\\\\\\"column\\\\\\\\\\\\\\\": {\\\\\\\\\\\\\\\"type\\\\\\\\\\\\\\\": 2, \\\\\\\\\\\\\\\"details\\\\\\\\\\\\\\\": {\\\\\\\\\\\\\\\"selectedColumn\\\\\\\\\\\\\\\": \\\\\\\\\\\\\\\"totChol\\\\\\\\\\\\\\\"}}, \\\\\\\\\\\\\\\"typeProperty\\\\\\\\\\\\\\\": 0}, {\\\\\\\\\\\\\\\"column\\\\\\\\\\\\\\\": {\\\\\\\\\\\\\\\"type\\\\\\\\\\\\\\\": 2, \\\\\\\\\\\\\\\"details\\\\\\\\\\\\\\\": {\\\\\\\\\\\\\\\"selectedColumn\\\\\\\\\\\\\\\": \\\\\\\\\\\\\\\"sysBP\\\\\\\\\\\\\\\"}}, \\\\\\\\\\\\\\\"typeProperty\\\\\\\\\\\\\\\": 3}, {\\\\\\\\\\\\\\\"column\\\\\\\\\\\\\\\": {\\\\\\\\\\\\\\\"type\\\\\\\\\\\\\\\": 2, \\\\\\\\\\\\\\\"details\\\\\\\\\\\\\\\": {\\\\\\\\\\\\\\\"selectedColumn\\\\\\\\\\\\\\\": \\\\\\\\\\\\\\\"diaBP\\\\\\\\\\\\\\\"}}, \\\\\\\\\\\\\\\"typeProperty\\\\\\\\\\\\\\\": 3}, {\\\\\\\\\\\\\\\"column\\\\\\\\\\\\\\\": {\\\\\\\\\\\\\\\"type\\\\\\\\\\\\\\\": 2, \\\\\\\\\\\\\\\"details\\\\\\\\\\\\\\\": {\\\\\\\\\\\\\\\"selectedColumn\\\\\\\\\\\\\\\": \\\\\\\\\\\\\\\"BMI\\\\\\\\\\\\\\\"}}, \\\\\\\\\\\\\\\"typeProperty\\\\\\\\\\\\\\\": 0}, {\\\\\\\\\\\\\\\"column\\\\\\\\\\\\\\\": {\\\\\\\\\\\\\\\"type\\\\\\\\\\\\\\\": 2, \\\\\\\\\\\\\\\"details\\\\\\\\\\\\\\\": {\\\\\\\\\\\\\\\"selectedColumn\\\\\\\\\\\\\\\": \\\\\\\\\\\\\\\"heartRate\\\\\\\\\\\\\\\"}}, \\\\\\\\\\\\\\\"typeProperty\\\\\\\\\\\\\\\": 2}, {\\\\\\\\\\\\\\\"column\\\\\\\\\\\\\\\": {\\\\\\\\\\\\\\\"type\\\\\\\\\\\\\\\": 2, \\\\\\\\\\\\\\\"details\\\\\\\\\\\\\\\": {\\\\\\\\\\\\\\\"selectedColumn\\\\\\\\\\\\\\\": \\\\\\\\\\\\\\\"glucose\\\\\\\\\\\\\\\"}}, \\\\\\\\\\\\\\\"typeProperty\\\\\\\\\\\\\\\": 0}, {\\\\\\\\\\\\\\\"column\\\\\\\\\\\\\\\": {\\\\\\\\\\\\\\\"type\\\\\\\\\\\\\\\": 2, \\\\\\\\\\\\\\\"details\\\\\\\\\\\\\\\": {\\\\\\\\\\\\\\\"selectedColumn\\\\\\\\\\\\\\\": \\\\\\\\\\\\\\\"TenYearCHD\\\\\\\\\\\\\\\"}}, \\\\\\\\\\\\\\\"typeProperty\\\\\\\\\\\\\\\": 2}]}, \\\\\\\\\\\\\\\"localData\\\\\\\\\\\\\\\": {}, \\\\\\\\\\\\\\\"isEnabled\\\\\\\\\\\\\\\": true, \\\\\\\\\\\\\\\"name\\\\\\\\\\\\\\\": null, \\\\\\\\\\\\\\\"annotation\\\\\\\\\\\\\\\": null}], \\\\\\\\\\\\\\\"inspectors\\\\\\\\\\\\\\\": [], \\\\\\\\\\\\\\\"meta\\\\\\\\\\\\\\\": {\\\\\\\\\\\\\\\"savedDatasetId\\\\\\\\\\\\\\\": \\\\\\\\\\\\\\\"b0ec5029-52c9-400a-90c4-4e0adc69af0d\\\\\\\\\\\\\\\", \\\\\\\\\\\\\\\"datasetType\\\\\\\\\\\\\\\": \\\\\\\\\\\\\\\"tabular\\\\\\\\\\\\\\\", \\\\\\\\\\\\\\\"subscriptionId\\\\\\\\\\\\\\\": \\\\\\\\\\\\\\\"61c5c3f0-6dc7-4ed9-a7f3-c704b20e3b30\\\\\\\\\\\\\\\", \\\\\\\\\\\\\\\"workspaceId\\\\\\\\\\\\\\\": \\\\\\\\\\\\\\\"673b783e-c22c-440d-b448-4dc39c9f81a9\\\\\\\\\\\\\\\", \\\\\\\\\\\\\\\"workspaceLocation\\\\\\\\\\\\\\\": \\\\\\\\\\\\\\\"westus2\\\\\\\\\\\\\\\", \\\\\\\\\\\\\\\"partition_keys\\\\\\\\\\\\\\\": \\\\\\\\\\\\\\\"true\\\\\\\\\\\\\\\"}}\\\\\\\", \\\\\\\"activities\\\\\\\": 0}\", \"EnableSubsampling\": null, \"runTemplate\": \"AutoML\", \"azureml.runsource\": \"automl\", \"display_task_type\": \"classification\", \"dependencies_versions\": \"{\\\"azureml-widgets\\\": \\\"1.24.0\\\", \\\"azureml-train\\\": \\\"1.24.0\\\", \\\"azureml-train-restclients-hyperdrive\\\": \\\"1.24.0\\\", \\\"azureml-train-core\\\": \\\"1.24.0\\\", \\\"azureml-train-automl-client\\\": \\\"1.24.0\\\", \\\"azureml-tensorboard\\\": \\\"1.24.0\\\", \\\"azureml-telemetry\\\": \\\"1.24.0\\\", \\\"azureml-sdk\\\": \\\"1.24.0\\\", \\\"azureml-pipeline\\\": \\\"1.24.0\\\", \\\"azureml-pipeline-steps\\\": \\\"1.24.0\\\", \\\"azureml-pipeline-core\\\": \\\"1.24.0\\\", \\\"azureml-opendatasets\\\": \\\"1.24.0\\\", \\\"azureml-model-management-sdk\\\": \\\"1.0.1b6.post1\\\", \\\"azureml-mlflow\\\": \\\"1.24.0\\\", \\\"azureml-interpret\\\": \\\"1.24.0\\\", \\\"azureml-explain-model\\\": \\\"1.24.0\\\", \\\"azureml-defaults\\\": \\\"1.24.0\\\", \\\"azureml-dataset-runtime\\\": \\\"1.24.0\\\", \\\"azureml-dataprep\\\": \\\"2.11.1\\\", \\\"azureml-dataprep-rslex\\\": \\\"1.9.0\\\", \\\"azureml-dataprep-native\\\": \\\"30.0.0\\\", \\\"azureml-datadrift\\\": \\\"1.24.0\\\", \\\"azureml-core\\\": \\\"1.24.0\\\", \\\"azureml-contrib-services\\\": \\\"1.24.0\\\", \\\"azureml-contrib-server\\\": \\\"1.24.0\\\", \\\"azureml-contrib-reinforcementlearning\\\": \\\"1.24.0\\\", \\\"azureml-contrib-pipeline-steps\\\": \\\"1.24.0\\\", \\\"azureml-contrib-notebook\\\": \\\"1.24.0\\\", \\\"azureml-contrib-gbdt\\\": \\\"1.24.0\\\", \\\"azureml-contrib-fairness\\\": \\\"1.24.0\\\", \\\"azureml-contrib-dataset\\\": \\\"1.24.0\\\", \\\"azureml-cli-common\\\": \\\"1.24.0\\\", \\\"azureml-automl-core\\\": \\\"1.24.0\\\", \\\"azureml-accel-models\\\": \\\"1.24.0\\\"}\", \"_aml_system_scenario_identification\": \"Remote.Parent\", \"ClientType\": \"SDK\", \"environment_cpu_name\": \"AzureML-AutoML\", \"environment_cpu_label\": \"prod\", \"environment_gpu_name\": \"AzureML-AutoML-GPU\", \"environment_gpu_label\": \"prod\", \"root_attribution\": \"automl\", \"attribution\": \"AutoML\", \"Orchestrator\": \"AutoML\", \"CancelUri\": \"https://westus2.experiments.azureml.net/jasmine/v1.0/subscriptions/61c5c3f0-6dc7-4ed9-a7f3-c704b20e3b30/resourceGroups/aml-quickstarts-141942/providers/Microsoft.MachineLearningServices/workspaces/quick-starts-ws-141942/experimentids/d6cbab0d-2fbd-4e9c-adf9-25934bd10cb7/cancel/AutoML_4b35e636-39de-4f43-a5a1-8631d7dd0fcc\", \"ClientSdkVersion\": \"1.24.0\", \"snapshotId\": \"00000000-0000-0000-0000-000000000000\", \"SetupRunId\": \"AutoML_4b35e636-39de-4f43-a5a1-8631d7dd0fcc_setup\", \"SetupRunContainerId\": \"dcid.AutoML_4b35e636-39de-4f43-a5a1-8631d7dd0fcc_setup\", \"FeaturizationRunJsonPath\": \"featurizer_container.json\", \"FeaturizationRunId\": \"AutoML_4b35e636-39de-4f43-a5a1-8631d7dd0fcc_featurize\", \"ProblemInfoJsonString\": \"{\\\"dataset_num_categorical\\\": 0, \\\"is_sparse\\\": true, \\\"subsampling\\\": false, \\\"dataset_classes\\\": 2, \\\"dataset_features\\\": 1385, \\\"dataset_samples\\\": 4240, \\\"single_frequency_class_detected\\\": false}\", \"ModelExplainRunId\": \"AutoML_4b35e636-39de-4f43-a5a1-8631d7dd0fcc_ModelExplain\"}, \"tags\": {\"model_explain_run\": \"best_run\", \"_aml_system_azureml.automlComponent\": \"AutoML\", \"pipeline_id\": \"\", \"score\": \"\", \"predicted_cost\": \"\", \"fit_time\": \"\", \"training_percent\": \"\", \"iteration\": \"\", \"run_preprocessor\": \"\", \"run_algorithm\": \"\", \"dynamic_whitelisting_iterations\": \"<25>;<30>;<35>;<40>;<45>;\", \"automl_best_child_run_id\": \"AutoML_4b35e636-39de-4f43-a5a1-8631d7dd0fcc_29\", \"model_explain_best_run_child_id\": \"AutoML_4b35e636-39de-4f43-a5a1-8631d7dd0fcc_29\"}, \"end_time_utc\": \"2021-04-04T18:44:43.292266Z\", \"status\": \"Completed\", \"log_files\": {}, \"log_groups\": [], \"run_duration\": \"0:22:17\", \"run_number\": \"8\", \"run_queued_details\": {\"status\": \"Completed\", \"details\": null}}, \"child_runs\": [{\"run_id\": \"AutoML_4b35e636-39de-4f43-a5a1-8631d7dd0fcc_1\", \"run_number\": 24, \"metric\": null, \"status\": \"Completed\", \"run_type\": \"azureml.scriptrun\", \"training_percent\": \"100\", \"start_time\": \"2021-04-04T18:30:53.732277Z\", \"end_time\": \"2021-04-04T18:31:35.530377Z\", \"created_time\": \"2021-04-04T18:30:40.711123Z\", \"created_time_dt\": \"2021-04-04T18:30:40.711123Z\", \"duration\": \"0:00:54\", \"iteration\": \"1\", \"goal\": \"accuracy_max\", \"run_name\": \"MaxAbsScaler, XGBoostClassifier\", \"run_properties\": \"copy=True\", \"primary_metric\": 0.84717113, \"best_metric\": 0.84717113}, {\"run_id\": \"AutoML_4b35e636-39de-4f43-a5a1-8631d7dd0fcc_3\", \"run_number\": 25, \"metric\": null, \"status\": \"Completed\", \"run_type\": \"azureml.scriptrun\", \"training_percent\": \"100\", \"start_time\": \"2021-04-04T18:30:51.549455Z\", \"end_time\": \"2021-04-04T18:32:58.821426Z\", \"created_time\": \"2021-04-04T18:30:40.714468Z\", \"created_time_dt\": \"2021-04-04T18:30:40.714468Z\", \"duration\": \"0:02:18\", \"iteration\": \"3\", \"goal\": \"accuracy_max\", \"run_name\": \"MaxAbsScaler, RandomForest\", \"run_properties\": \"copy=True\", \"primary_metric\": 0.84811558, \"best_metric\": 0.84811558}, {\"run_id\": \"AutoML_4b35e636-39de-4f43-a5a1-8631d7dd0fcc_2\", \"run_number\": 26, \"metric\": null, \"status\": \"Completed\", \"run_type\": \"azureml.scriptrun\", \"training_percent\": \"100\", \"start_time\": \"2021-04-04T18:30:51.968571Z\", \"end_time\": \"2021-04-04T18:35:51.947871Z\", \"created_time\": \"2021-04-04T18:30:40.783613Z\", \"created_time_dt\": \"2021-04-04T18:30:40.783613Z\", \"duration\": \"0:05:11\", \"iteration\": \"2\", \"goal\": \"accuracy_max\", \"run_name\": \"MaxAbsScaler, RandomForest\", \"run_properties\": \"copy=True\", \"primary_metric\": 0.84811558, \"best_metric\": 0.84811558}, {\"run_id\": \"AutoML_4b35e636-39de-4f43-a5a1-8631d7dd0fcc_0\", \"run_number\": 27, \"metric\": null, \"status\": \"Completed\", \"run_type\": \"azureml.scriptrun\", \"training_percent\": \"100\", \"start_time\": \"2021-04-04T18:30:52.456697Z\", \"end_time\": \"2021-04-04T18:31:37.947021Z\", \"created_time\": \"2021-04-04T18:30:41.012104Z\", \"created_time_dt\": \"2021-04-04T18:30:41.012104Z\", \"duration\": \"0:00:56\", \"iteration\": \"0\", \"goal\": \"accuracy_max\", \"run_name\": \"MaxAbsScaler, LightGBM\", \"run_properties\": \"copy=True\", \"primary_metric\": 0.83207623, \"best_metric\": 0.83207623}, {\"run_id\": \"AutoML_4b35e636-39de-4f43-a5a1-8631d7dd0fcc_4\", \"run_number\": 28, \"metric\": null, \"status\": \"Completed\", \"run_type\": \"azureml.scriptrun\", \"training_percent\": \"100\", \"start_time\": \"2021-04-04T18:31:49.190368Z\", \"end_time\": \"2021-04-04T18:32:34.529235Z\", \"created_time\": \"2021-04-04T18:31:38.039206Z\", \"created_time_dt\": \"2021-04-04T18:31:38.039206Z\", \"duration\": \"0:00:56\", \"iteration\": \"4\", \"goal\": \"accuracy_max\", \"run_name\": \"MaxAbsScaler, RandomForest\", \"run_properties\": \"copy=True\", \"primary_metric\": 0.67875954, \"best_metric\": 0.84811558}, {\"run_id\": \"AutoML_4b35e636-39de-4f43-a5a1-8631d7dd0fcc_5\", \"run_number\": 29, \"metric\": null, \"status\": \"Completed\", \"run_type\": \"azureml.scriptrun\", \"training_percent\": \"100\", \"start_time\": \"2021-04-04T18:31:52.326428Z\", \"end_time\": \"2021-04-04T18:32:31.919865Z\", \"created_time\": \"2021-04-04T18:31:41.000831Z\", \"created_time_dt\": \"2021-04-04T18:31:41.000831Z\", \"duration\": \"0:00:50\", \"iteration\": \"5\", \"goal\": \"accuracy_max\", \"run_name\": \"MaxAbsScaler, RandomForest\", \"run_properties\": \"copy=True\", \"primary_metric\": 0.67783343, \"best_metric\": 0.84811558}, {\"run_id\": \"AutoML_4b35e636-39de-4f43-a5a1-8631d7dd0fcc_6\", \"run_number\": 30, \"metric\": null, \"status\": \"Completed\", \"run_type\": \"azureml.scriptrun\", \"training_percent\": \"100\", \"start_time\": \"2021-04-04T18:32:46.123532Z\", \"end_time\": \"2021-04-04T18:33:37.215773Z\", \"created_time\": \"2021-04-04T18:32:34.725889Z\", \"created_time_dt\": \"2021-04-04T18:32:34.725889Z\", \"duration\": \"0:01:02\", \"iteration\": \"6\", \"goal\": \"accuracy_max\", \"run_name\": \"SparseNormalizer, XGBoostClassifier\", \"run_properties\": \"<azureml.automl.runtime.shared.model_wrappers.SparseNormalizer object at 0x7f05cd827c50\", \"primary_metric\": 0.84268977, \"best_metric\": 0.84811558}, {\"run_id\": \"AutoML_4b35e636-39de-4f43-a5a1-8631d7dd0fcc_7\", \"run_number\": 31, \"metric\": null, \"status\": \"Completed\", \"run_type\": \"azureml.scriptrun\", \"training_percent\": \"100\", \"start_time\": \"2021-04-04T18:32:48.059616Z\", \"end_time\": \"2021-04-04T18:33:29.910526Z\", \"created_time\": \"2021-04-04T18:32:38.942071Z\", \"created_time_dt\": \"2021-04-04T18:32:38.942071Z\", \"duration\": \"0:00:50\", \"iteration\": \"7\", \"goal\": \"accuracy_max\", \"run_name\": \"SparseNormalizer, XGBoostClassifier\", \"run_properties\": \"<azureml.automl.runtime.shared.model_wrappers.SparseNormalizer object at 0x7fb036d19b70\", \"primary_metric\": 0.84056747, \"best_metric\": 0.84811558}, {\"run_id\": \"AutoML_4b35e636-39de-4f43-a5a1-8631d7dd0fcc_8\", \"run_number\": 32, \"metric\": null, \"status\": \"Completed\", \"run_type\": \"azureml.scriptrun\", \"training_percent\": \"100\", \"start_time\": \"2021-04-04T18:33:14.040788Z\", \"end_time\": \"2021-04-04T18:33:59.703564Z\", \"created_time\": \"2021-04-04T18:33:00.869702Z\", \"created_time_dt\": \"2021-04-04T18:33:00.869702Z\", \"duration\": \"0:00:58\", \"iteration\": \"8\", \"goal\": \"accuracy_max\", \"run_name\": \"StandardScalerWrapper, LightGBM\", \"run_properties\": \"<azureml.automl.runtime.shared.model_wrappers.StandardScalerWrapper object at 0x7f283c55eb38\", \"primary_metric\": 0.84552063, \"best_metric\": 0.84811558}, {\"run_id\": \"AutoML_4b35e636-39de-4f43-a5a1-8631d7dd0fcc_9\", \"run_number\": 33, \"metric\": null, \"status\": \"Completed\", \"run_type\": \"azureml.scriptrun\", \"training_percent\": \"100\", \"start_time\": \"2021-04-04T18:33:47.819366Z\", \"end_time\": \"2021-04-04T18:34:28.881914Z\", \"created_time\": \"2021-04-04T18:33:31.999135Z\", \"created_time_dt\": \"2021-04-04T18:33:31.999135Z\", \"duration\": \"0:00:56\", \"iteration\": \"9\", \"goal\": \"accuracy_max\", \"run_name\": \"MaxAbsScaler, GradientBoosting\", \"run_properties\": \"copy=True\", \"primary_metric\": 0.84787968, \"best_metric\": 0.84811558}, {\"run_id\": \"AutoML_4b35e636-39de-4f43-a5a1-8631d7dd0fcc_10\", \"run_number\": 34, \"metric\": null, \"status\": \"Completed\", \"run_type\": \"azureml.scriptrun\", \"training_percent\": \"100\", \"start_time\": \"2021-04-04T18:33:49.983067Z\", \"end_time\": \"2021-04-04T18:34:34.846968Z\", \"created_time\": \"2021-04-04T18:33:39.189489Z\", \"created_time_dt\": \"2021-04-04T18:33:39.189489Z\", \"duration\": \"0:00:55\", \"iteration\": \"10\", \"goal\": \"accuracy_max\", \"run_name\": \"StandardScalerWrapper, GradientBoosting\", \"run_properties\": \"<azureml.automl.runtime.shared.model_wrappers.StandardScalerWrapper object at 0x7f8f7fc5e470\", \"primary_metric\": 0.84811558, \"best_metric\": 0.84811558}, {\"run_id\": \"AutoML_4b35e636-39de-4f43-a5a1-8631d7dd0fcc_11\", \"run_number\": 35, \"metric\": null, \"status\": \"Completed\", \"run_type\": \"azureml.scriptrun\", \"training_percent\": \"100\", \"start_time\": \"2021-04-04T18:34:16.056376Z\", \"end_time\": \"2021-04-04T18:35:04.798296Z\", \"created_time\": \"2021-04-04T18:34:01.807279Z\", \"created_time_dt\": \"2021-04-04T18:34:01.807279Z\", \"duration\": \"0:01:02\", \"iteration\": \"11\", \"goal\": \"accuracy_max\", \"run_name\": \"MaxAbsScaler, RandomForest\", \"run_properties\": \"copy=True\", \"primary_metric\": 0.84811558, \"best_metric\": 0.84811558}, {\"run_id\": \"AutoML_4b35e636-39de-4f43-a5a1-8631d7dd0fcc_12\", \"run_number\": 36, \"metric\": null, \"status\": \"Completed\", \"run_type\": \"azureml.scriptrun\", \"training_percent\": \"100\", \"start_time\": \"2021-04-04T18:34:45.777168Z\", \"end_time\": \"2021-04-04T18:35:31.97639Z\", \"created_time\": \"2021-04-04T18:34:31.461596Z\", \"created_time_dt\": \"2021-04-04T18:34:31.461596Z\", \"duration\": \"0:01:00\", \"iteration\": \"12\", \"goal\": \"accuracy_max\", \"run_name\": \"SparseNormalizer, LightGBM\", \"run_properties\": \"<azureml.automl.runtime.shared.model_wrappers.SparseNormalizer object at 0x7f0c0f3e74a8\", \"primary_metric\": 0.84646425, \"best_metric\": 0.84811558}, {\"run_id\": \"AutoML_4b35e636-39de-4f43-a5a1-8631d7dd0fcc_13\", \"run_number\": 37, \"metric\": null, \"status\": \"Completed\", \"run_type\": \"azureml.scriptrun\", \"training_percent\": \"100\", \"start_time\": \"2021-04-04T18:34:46.730761Z\", \"end_time\": \"2021-04-04T18:35:28.394433Z\", \"created_time\": \"2021-04-04T18:34:36.867391Z\", \"created_time_dt\": \"2021-04-04T18:34:36.867391Z\", \"duration\": \"0:00:51\", \"iteration\": \"13\", \"goal\": \"accuracy_max\", \"run_name\": \"MaxAbsScaler, LightGBM\", \"run_properties\": \"copy=True\", \"primary_metric\": 0.84811558, \"best_metric\": 0.84811558}, {\"run_id\": \"AutoML_4b35e636-39de-4f43-a5a1-8631d7dd0fcc_14\", \"run_number\": 38, \"metric\": null, \"status\": \"Completed\", \"run_type\": \"azureml.scriptrun\", \"training_percent\": \"100\", \"start_time\": \"2021-04-04T18:35:17.016631Z\", \"end_time\": \"2021-04-04T18:35:59.137982Z\", \"created_time\": \"2021-04-04T18:35:06.858589Z\", \"created_time_dt\": \"2021-04-04T18:35:06.858589Z\", \"duration\": \"0:00:52\", \"iteration\": \"14\", \"goal\": \"accuracy_max\", \"run_name\": \"StandardScalerWrapper, RandomForest\", \"run_properties\": \"<azureml.automl.runtime.shared.model_wrappers.StandardScalerWrapper object at 0x7f3fddb9bb00\", \"primary_metric\": 0.84811558, \"best_metric\": 0.84811558}, {\"run_id\": \"AutoML_4b35e636-39de-4f43-a5a1-8631d7dd0fcc_15\", \"run_number\": 39, \"metric\": null, \"status\": \"Completed\", \"run_type\": \"azureml.scriptrun\", \"training_percent\": \"100\", \"start_time\": \"2021-04-04T18:35:44.557543Z\", \"end_time\": \"2021-04-04T18:36:33.500519Z\", \"created_time\": \"2021-04-04T18:35:30.504995Z\", \"created_time_dt\": \"2021-04-04T18:35:30.504995Z\", \"duration\": \"0:01:02\", \"iteration\": \"15\", \"goal\": \"accuracy_max\", \"run_name\": \"MaxAbsScaler, LogisticRegression\", \"run_properties\": \"copy=True\", \"primary_metric\": 0.82264138, \"best_metric\": 0.84811558}, {\"run_id\": \"AutoML_4b35e636-39de-4f43-a5a1-8631d7dd0fcc_16\", \"run_number\": 40, \"metric\": null, \"status\": \"Completed\", \"run_type\": \"azureml.scriptrun\", \"training_percent\": \"100\", \"start_time\": \"2021-04-04T18:35:44.644976Z\", \"end_time\": \"2021-04-04T18:36:32.190836Z\", \"created_time\": \"2021-04-04T18:35:35.006236Z\", \"created_time_dt\": \"2021-04-04T18:35:35.006236Z\", \"duration\": \"0:00:57\", \"iteration\": \"16\", \"goal\": \"accuracy_max\", \"run_name\": \"SparseNormalizer, XGBoostClassifier\", \"run_properties\": \"<azureml.automl.runtime.shared.model_wrappers.SparseNormalizer object at 0x7f900e06de48\", \"primary_metric\": 0.83490625, \"best_metric\": 0.84811558}, {\"run_id\": \"AutoML_4b35e636-39de-4f43-a5a1-8631d7dd0fcc_17\", \"run_number\": 41, \"metric\": null, \"status\": \"Completed\", \"run_type\": \"azureml.scriptrun\", \"training_percent\": \"100\", \"start_time\": \"2021-04-04T18:36:01.894501Z\", \"end_time\": \"2021-04-04T18:37:03.158568Z\", \"created_time\": \"2021-04-04T18:35:53.860728Z\", \"created_time_dt\": \"2021-04-04T18:35:53.860728Z\", \"duration\": \"0:01:09\", \"iteration\": \"17\", \"goal\": \"accuracy_max\", \"run_name\": \"MaxAbsScaler, LogisticRegression\", \"run_properties\": \"copy=True\", \"primary_metric\": 0.77830347, \"best_metric\": 0.84811558}, {\"run_id\": \"AutoML_4b35e636-39de-4f43-a5a1-8631d7dd0fcc_18\", \"run_number\": 42, \"metric\": null, \"status\": \"Completed\", \"run_type\": \"azureml.scriptrun\", \"training_percent\": \"100\", \"start_time\": \"2021-04-04T18:36:15.166844Z\", \"end_time\": \"2021-04-04T18:36:52.978719Z\", \"created_time\": \"2021-04-04T18:36:01.101581Z\", \"created_time_dt\": \"2021-04-04T18:36:01.101581Z\", \"duration\": \"0:00:51\", \"iteration\": \"18\", \"goal\": \"accuracy_max\", \"run_name\": \"SparseNormalizer, RandomForest\", \"run_properties\": \"<azureml.automl.runtime.shared.model_wrappers.SparseNormalizer object at 0x7fda94047048\", \"primary_metric\": 0.84811558, \"best_metric\": 0.84811558}, {\"run_id\": \"AutoML_4b35e636-39de-4f43-a5a1-8631d7dd0fcc_19\", \"run_number\": 43, \"metric\": null, \"status\": \"Completed\", \"run_type\": \"azureml.scriptrun\", \"training_percent\": \"100\", \"start_time\": \"2021-04-04T18:36:46.275727Z\", \"end_time\": \"2021-04-04T18:37:26.333023Z\", \"created_time\": \"2021-04-04T18:36:34.176886Z\", \"created_time_dt\": \"2021-04-04T18:36:34.176886Z\", \"duration\": \"0:00:52\", \"iteration\": \"19\", \"goal\": \"accuracy_max\", \"run_name\": \"SparseNormalizer, XGBoostClassifier\", \"run_properties\": \"<azureml.automl.runtime.shared.model_wrappers.SparseNormalizer object at 0x7eff4f0b29b0\", \"primary_metric\": 0.84316142, \"best_metric\": 0.84811558}, {\"run_id\": \"AutoML_4b35e636-39de-4f43-a5a1-8631d7dd0fcc_20\", \"run_number\": 44, \"metric\": null, \"status\": \"Completed\", \"run_type\": \"azureml.scriptrun\", \"training_percent\": \"100\", \"start_time\": \"2021-04-04T18:36:49.058824Z\", \"end_time\": \"2021-04-04T18:37:28.583138Z\", \"created_time\": \"2021-04-04T18:36:37.736959Z\", \"created_time_dt\": \"2021-04-04T18:36:37.736959Z\", \"duration\": \"0:00:50\", \"iteration\": \"20\", \"goal\": \"accuracy_max\", \"run_name\": \"SparseNormalizer, LightGBM\", \"run_properties\": \"<azureml.automl.runtime.shared.model_wrappers.SparseNormalizer object at 0x7f613721c7b8\", \"primary_metric\": 0.84528473, \"best_metric\": 0.84811558}, {\"run_id\": \"AutoML_4b35e636-39de-4f43-a5a1-8631d7dd0fcc_21\", \"run_number\": 45, \"metric\": null, \"status\": \"Completed\", \"run_type\": \"azureml.scriptrun\", \"training_percent\": \"100\", \"start_time\": \"2021-04-04T18:37:09.341716Z\", \"end_time\": \"2021-04-04T18:37:54.764474Z\", \"created_time\": \"2021-04-04T18:36:56.072189Z\", \"created_time_dt\": \"2021-04-04T18:36:56.072189Z\", \"duration\": \"0:00:58\", \"iteration\": \"21\", \"goal\": \"accuracy_max\", \"run_name\": \"MaxAbsScaler, LightGBM\", \"run_properties\": \"copy=True\", \"primary_metric\": 0.84811558, \"best_metric\": 0.84811558}, {\"run_id\": \"AutoML_4b35e636-39de-4f43-a5a1-8631d7dd0fcc_22\", \"run_number\": 46, \"metric\": null, \"status\": \"Completed\", \"run_type\": \"azureml.scriptrun\", \"training_percent\": \"100\", \"start_time\": \"2021-04-04T18:37:18.221671Z\", \"end_time\": \"2021-04-04T18:37:58.62297Z\", \"created_time\": \"2021-04-04T18:37:05.164022Z\", \"created_time_dt\": \"2021-04-04T18:37:05.164022Z\", \"duration\": \"0:00:53\", \"iteration\": \"22\", \"goal\": \"accuracy_max\", \"run_name\": \"SparseNormalizer, LightGBM\", \"run_properties\": \"<azureml.automl.runtime.shared.model_wrappers.SparseNormalizer object at 0x7f2841c8b828\", \"primary_metric\": 0.84363339, \"best_metric\": 0.84811558}, {\"run_id\": \"AutoML_4b35e636-39de-4f43-a5a1-8631d7dd0fcc_23\", \"run_number\": 47, \"metric\": null, \"status\": \"Completed\", \"run_type\": \"azureml.scriptrun\", \"training_percent\": \"100\", \"start_time\": \"2021-04-04T18:37:38.191529Z\", \"end_time\": \"2021-04-04T18:38:17.436143Z\", \"created_time\": \"2021-04-04T18:37:28.058614Z\", \"created_time_dt\": \"2021-04-04T18:37:28.058614Z\", \"duration\": \"0:00:49\", \"iteration\": \"23\", \"goal\": \"accuracy_max\", \"run_name\": \"StandardScalerWrapper, LightGBM\", \"run_properties\": \"<azureml.automl.runtime.shared.model_wrappers.StandardScalerWrapper object at 0x7fd102b0eb38\", \"primary_metric\": 0.84811558, \"best_metric\": 0.84811558}, {\"run_id\": \"AutoML_4b35e636-39de-4f43-a5a1-8631d7dd0fcc_24\", \"run_number\": 48, \"metric\": null, \"status\": \"Completed\", \"run_type\": \"azureml.scriptrun\", \"training_percent\": \"100\", \"start_time\": \"2021-04-04T18:37:42.406267Z\", \"end_time\": \"2021-04-04T18:38:28.141327Z\", \"created_time\": \"2021-04-04T18:37:31.238468Z\", \"created_time_dt\": \"2021-04-04T18:37:31.238468Z\", \"duration\": \"0:00:56\", \"iteration\": \"24\", \"goal\": \"accuracy_max\", \"run_name\": \"StandardScalerWrapper, XGBoostClassifier\", \"run_properties\": \"<azureml.automl.runtime.shared.model_wrappers.StandardScalerWrapper object at 0x7f28372eb978\", \"primary_metric\": 0.84292535, \"best_metric\": 0.84811558}, {\"run_id\": \"AutoML_4b35e636-39de-4f43-a5a1-8631d7dd0fcc_25\", \"run_number\": 49, \"metric\": null, \"status\": \"Completed\", \"run_type\": \"azureml.scriptrun\", \"training_percent\": \"100\", \"start_time\": \"2021-04-04T18:38:10.423554Z\", \"end_time\": \"2021-04-04T18:38:56.064943Z\", \"created_time\": \"2021-04-04T18:37:57.475952Z\", \"created_time_dt\": \"2021-04-04T18:37:57.475952Z\", \"duration\": \"0:00:58\", \"iteration\": \"25\", \"goal\": \"accuracy_max\", \"run_name\": \"MaxAbsScaler, RandomForest\", \"run_properties\": \"copy=True\", \"primary_metric\": 0.84811558, \"best_metric\": 0.84811558}, {\"run_id\": \"AutoML_4b35e636-39de-4f43-a5a1-8631d7dd0fcc_26\", \"run_number\": 50, \"metric\": null, \"status\": \"Completed\", \"run_type\": \"azureml.scriptrun\", \"training_percent\": \"100\", \"start_time\": \"2021-04-04T18:38:12.981117Z\", \"end_time\": \"2021-04-04T18:38:58.712193Z\", \"created_time\": \"2021-04-04T18:38:00.72115Z\", \"created_time_dt\": \"2021-04-04T18:38:00.72115Z\", \"duration\": \"0:00:57\", \"iteration\": \"26\", \"goal\": \"accuracy_max\", \"run_name\": \"StandardScalerWrapper, ExtremeRandomTrees\", \"run_properties\": \"<azureml.automl.runtime.shared.model_wrappers.StandardScalerWrapper object at 0x7fbd25774a90\", \"primary_metric\": 0.84811558, \"best_metric\": 0.84811558}, {\"run_id\": \"AutoML_4b35e636-39de-4f43-a5a1-8631d7dd0fcc_27\", \"run_number\": 51, \"metric\": null, \"status\": \"Completed\", \"run_type\": \"azureml.scriptrun\", \"training_percent\": \"100\", \"start_time\": \"2021-04-04T18:38:33.734522Z\", \"end_time\": \"2021-04-04T18:39:16.725537Z\", \"created_time\": \"2021-04-04T18:38:20.213008Z\", \"created_time_dt\": \"2021-04-04T18:38:20.213008Z\", \"duration\": \"0:00:56\", \"iteration\": \"27\", \"goal\": \"accuracy_max\", \"run_name\": \"MaxAbsScaler, LightGBM\", \"run_properties\": \"copy=True\", \"primary_metric\": 0.84811558, \"best_metric\": 0.84811558}, {\"run_id\": \"AutoML_4b35e636-39de-4f43-a5a1-8631d7dd0fcc_28\", \"run_number\": 52, \"metric\": null, \"status\": \"Completed\", \"run_type\": \"azureml.scriptrun\", \"training_percent\": \"100\", \"start_time\": \"2021-04-04T18:38:43.217686Z\", \"end_time\": \"2021-04-04T18:39:25.549855Z\", \"created_time\": \"2021-04-04T18:38:31.10942Z\", \"created_time_dt\": \"2021-04-04T18:38:31.10942Z\", \"duration\": \"0:00:54\", \"iteration\": \"28\", \"goal\": \"accuracy_max\", \"run_name\": \"SparseNormalizer, LightGBM\", \"run_properties\": \"<azureml.automl.runtime.shared.model_wrappers.SparseNormalizer object at 0x7fe0cc9956a0\", \"primary_metric\": 0.84811558, \"best_metric\": 0.84811558}, {\"run_id\": \"AutoML_4b35e636-39de-4f43-a5a1-8631d7dd0fcc_29\", \"run_number\": 53, \"metric\": null, \"status\": \"Completed\", \"run_type\": \"azureml.scriptrun\", \"training_percent\": \"100\", \"start_time\": \"2021-04-04T18:39:11.221401Z\", \"end_time\": \"2021-04-04T18:39:54.349604Z\", \"created_time\": \"2021-04-04T18:38:58.039819Z\", \"created_time_dt\": \"2021-04-04T18:38:58.039819Z\", \"duration\": \"0:00:56\", \"iteration\": \"29\", \"goal\": \"accuracy_max\", \"run_name\": \"SparseNormalizer, XGBoostClassifier\", \"run_properties\": \"<azureml.automl.runtime.shared.model_wrappers.SparseNormalizer object at 0x7f4e74287320\", \"primary_metric\": 0.84835149, \"best_metric\": 0.84835149}, {\"run_id\": \"AutoML_4b35e636-39de-4f43-a5a1-8631d7dd0fcc_30\", \"run_number\": 54, \"metric\": null, \"status\": \"Completed\", \"run_type\": \"azureml.scriptrun\", \"training_percent\": \"100\", \"start_time\": \"2021-04-04T18:39:14.184744Z\", \"end_time\": \"2021-04-04T18:39:56.959481Z\", \"created_time\": \"2021-04-04T18:39:02.505907Z\", \"created_time_dt\": \"2021-04-04T18:39:02.505907Z\", \"duration\": \"0:00:54\", \"iteration\": \"30\", \"goal\": \"accuracy_max\", \"run_name\": \"StandardScalerWrapper, RandomForest\", \"run_properties\": \"<azureml.automl.runtime.shared.model_wrappers.StandardScalerWrapper object at 0x7f1b942c55c0\", \"primary_metric\": 0.84811558, \"best_metric\": 0.84835149}, {\"run_id\": \"AutoML_4b35e636-39de-4f43-a5a1-8631d7dd0fcc_31\", \"run_number\": 55, \"metric\": null, \"status\": \"Completed\", \"run_type\": \"azureml.scriptrun\", \"training_percent\": \"100\", \"start_time\": \"2021-04-04T18:39:31.159972Z\", \"end_time\": \"2021-04-04T18:40:10.890043Z\", \"created_time\": \"2021-04-04T18:39:18.507Z\", \"created_time_dt\": \"2021-04-04T18:39:18.507Z\", \"duration\": \"0:00:52\", \"iteration\": \"31\", \"goal\": \"accuracy_max\", \"run_name\": \"MaxAbsScaler, LightGBM\", \"run_properties\": \"copy=True\", \"primary_metric\": 0.84811558, \"best_metric\": 0.84835149}, {\"run_id\": \"AutoML_4b35e636-39de-4f43-a5a1-8631d7dd0fcc_32\", \"run_number\": 56, \"metric\": null, \"status\": \"Completed\", \"run_type\": \"azureml.scriptrun\", \"training_percent\": \"100\", \"start_time\": \"2021-04-04T18:39:41.824853Z\", \"end_time\": \"2021-04-04T18:40:33.974459Z\", \"created_time\": \"2021-04-04T18:39:27.380809Z\", \"created_time_dt\": \"2021-04-04T18:39:27.380809Z\", \"duration\": \"0:01:06\", \"iteration\": \"32\", \"goal\": \"accuracy_max\", \"run_name\": \"StandardScalerWrapper, XGBoostClassifier\", \"run_properties\": \"<azureml.automl.runtime.shared.model_wrappers.StandardScalerWrapper object at 0x7f2083055160\", \"primary_metric\": 0.82217224, \"best_metric\": 0.84835149}, {\"run_id\": \"AutoML_4b35e636-39de-4f43-a5a1-8631d7dd0fcc_33\", \"run_number\": 57, \"metric\": null, \"status\": \"Completed\", \"run_type\": \"azureml.scriptrun\", \"training_percent\": \"100\", \"start_time\": \"2021-04-04T18:40:09.456734Z\", \"end_time\": \"2021-04-04T18:40:51.706083Z\", \"created_time\": \"2021-04-04T18:39:56.83499Z\", \"created_time_dt\": \"2021-04-04T18:39:56.83499Z\", \"duration\": \"0:00:54\", \"iteration\": \"33\", \"goal\": \"accuracy_max\", \"run_name\": \"MaxAbsScaler, LightGBM\", \"run_properties\": \"copy=True\", \"primary_metric\": 0.84552063, \"best_metric\": 0.84835149}, {\"run_id\": \"AutoML_4b35e636-39de-4f43-a5a1-8631d7dd0fcc_34\", \"run_number\": 58, \"metric\": null, \"status\": \"Completed\", \"run_type\": \"azureml.scriptrun\", \"training_percent\": \"100\", \"start_time\": \"2021-04-04T18:40:10.665328Z\", \"end_time\": \"2021-04-04T18:41:09.032841Z\", \"created_time\": \"2021-04-04T18:40:01.961665Z\", \"created_time_dt\": \"2021-04-04T18:40:01.961665Z\", \"duration\": \"0:01:07\", \"iteration\": \"34\", \"goal\": \"accuracy_max\", \"run_name\": \"StandardScalerWrapper, XGBoostClassifier\", \"run_properties\": \"<azureml.automl.runtime.shared.model_wrappers.StandardScalerWrapper object at 0x7fa3eab2fb70\", \"primary_metric\": 0.82971802, \"best_metric\": 0.84835149}, {\"run_id\": \"AutoML_4b35e636-39de-4f43-a5a1-8631d7dd0fcc_35\", \"run_number\": 59, \"metric\": null, \"status\": \"Completed\", \"run_type\": \"azureml.scriptrun\", \"training_percent\": \"100\", \"start_time\": \"2021-04-04T18:40:27.230412Z\", \"end_time\": \"2021-04-04T18:41:06.860581Z\", \"created_time\": \"2021-04-04T18:40:16.247598Z\", \"created_time_dt\": \"2021-04-04T18:40:16.247598Z\", \"duration\": \"0:00:50\", \"iteration\": \"35\", \"goal\": \"accuracy_max\", \"run_name\": \"SparseNormalizer, XGBoostClassifier\", \"run_properties\": \"<azureml.automl.runtime.shared.model_wrappers.SparseNormalizer object at 0x7f45ea9c0be0\", \"primary_metric\": 0.84811558, \"best_metric\": 0.84835149}, {\"run_id\": \"AutoML_4b35e636-39de-4f43-a5a1-8631d7dd0fcc_36\", \"run_number\": 60, \"metric\": null, \"status\": \"Completed\", \"run_type\": \"azureml.scriptrun\", \"training_percent\": \"100\", \"start_time\": \"2021-04-04T18:40:49.071213Z\", \"end_time\": \"2021-04-04T18:41:31.593346Z\", \"created_time\": \"2021-04-04T18:40:35.822752Z\", \"created_time_dt\": \"2021-04-04T18:40:35.822752Z\", \"duration\": \"0:00:55\", \"iteration\": \"36\", \"goal\": \"accuracy_max\", \"run_name\": \"MaxAbsScaler, LightGBM\", \"run_properties\": \"copy=True\", \"primary_metric\": 0.8457567, \"best_metric\": 0.84835149}, {\"run_id\": \"AutoML_4b35e636-39de-4f43-a5a1-8631d7dd0fcc_37\", \"run_number\": 61, \"metric\": null, \"status\": \"Completed\", \"run_type\": \"azureml.scriptrun\", \"training_percent\": \"100\", \"start_time\": \"2021-04-04T18:41:05.943655Z\", \"end_time\": \"2021-04-04T18:41:42.650198Z\", \"created_time\": \"2021-04-04T18:40:53.68913Z\", \"created_time_dt\": \"2021-04-04T18:40:53.68913Z\", \"duration\": \"0:00:48\", \"iteration\": \"37\", \"goal\": \"accuracy_max\", \"run_name\": \"SparseNormalizer, XGBoostClassifier\", \"run_properties\": \"<azureml.automl.runtime.shared.model_wrappers.SparseNormalizer object at 0x7f005bbd7198\", \"primary_metric\": 0.84552063, \"best_metric\": 0.84835149}, {\"run_id\": \"AutoML_4b35e636-39de-4f43-a5a1-8631d7dd0fcc_38\", \"run_number\": 62, \"metric\": null, \"status\": \"Completed\", \"run_type\": \"azureml.scriptrun\", \"training_percent\": \"100\", \"start_time\": \"2021-04-04T18:41:21.956194Z\", \"end_time\": \"2021-04-04T18:42:16.976092Z\", \"created_time\": \"2021-04-04T18:41:08.960319Z\", \"created_time_dt\": \"2021-04-04T18:41:08.960319Z\", \"duration\": \"0:01:08\", \"iteration\": \"38\", \"goal\": \"accuracy_max\", \"run_name\": \"StandardScalerWrapper, XGBoostClassifier\", \"run_properties\": \"<azureml.automl.runtime.shared.model_wrappers.StandardScalerWrapper object at 0x7f19316b6f98\", \"primary_metric\": 0.82688816, \"best_metric\": 0.84835149}, {\"run_id\": \"AutoML_4b35e636-39de-4f43-a5a1-8631d7dd0fcc_39\", \"run_number\": 63, \"metric\": null, \"status\": \"Completed\", \"run_type\": \"azureml.scriptrun\", \"training_percent\": \"100\", \"start_time\": \"2021-04-04T18:41:24.288405Z\", \"end_time\": \"2021-04-04T18:42:03.745616Z\", \"created_time\": \"2021-04-04T18:41:12.289566Z\", \"created_time_dt\": \"2021-04-04T18:41:12.289566Z\", \"duration\": \"0:00:51\", \"iteration\": \"39\", \"goal\": \"accuracy_max\", \"run_name\": \"StandardScalerWrapper, LightGBM\", \"run_properties\": \"<azureml.automl.runtime.shared.model_wrappers.StandardScalerWrapper object at 0x7ff346800e48\", \"primary_metric\": 0.84811558, \"best_metric\": 0.84835149}, {\"run_id\": \"AutoML_4b35e636-39de-4f43-a5a1-8631d7dd0fcc_40\", \"run_number\": 64, \"metric\": null, \"status\": \"Completed\", \"run_type\": \"azureml.scriptrun\", \"training_percent\": \"100\", \"start_time\": \"2021-04-04T18:41:43.963663Z\", \"end_time\": \"2021-04-04T18:42:25.961917Z\", \"created_time\": \"2021-04-04T18:41:34.678181Z\", \"created_time_dt\": \"2021-04-04T18:41:34.678181Z\", \"duration\": \"0:00:51\", \"iteration\": \"40\", \"goal\": \"accuracy_max\", \"run_name\": \"SparseNormalizer, XGBoostClassifier\", \"run_properties\": \"<azureml.automl.runtime.shared.model_wrappers.SparseNormalizer object at 0x7f8761325ac8\", \"primary_metric\": 0.84811558, \"best_metric\": 0.84835149}, {\"run_id\": \"AutoML_4b35e636-39de-4f43-a5a1-8631d7dd0fcc_41\", \"run_number\": 65, \"metric\": null, \"status\": \"Completed\", \"run_type\": \"azureml.scriptrun\", \"training_percent\": \"100\", \"start_time\": \"2021-04-04T18:41:56.563077Z\", \"end_time\": \"2021-04-04T18:42:38.741545Z\", \"created_time\": \"2021-04-04T18:41:44.485252Z\", \"created_time_dt\": \"2021-04-04T18:41:44.485252Z\", \"duration\": \"0:00:54\", \"iteration\": \"41\", \"goal\": \"accuracy_max\", \"run_name\": \"MaxAbsScaler, LightGBM\", \"run_properties\": \"copy=True\", \"primary_metric\": 0.84811558, \"best_metric\": 0.84835149}, {\"run_id\": \"AutoML_4b35e636-39de-4f43-a5a1-8631d7dd0fcc_42\", \"run_number\": 66, \"metric\": null, \"status\": \"Completed\", \"run_type\": \"azureml.scriptrun\", \"training_percent\": \"100\", \"start_time\": \"2021-04-04T18:42:21.997713Z\", \"end_time\": \"2021-04-04T18:43:02.908922Z\", \"created_time\": \"2021-04-04T18:42:05.45036Z\", \"created_time_dt\": \"2021-04-04T18:42:05.45036Z\", \"duration\": \"0:00:57\", \"iteration\": \"42\", \"goal\": \"accuracy_max\", \"run_name\": \"StandardScalerWrapper, LightGBM\", \"run_properties\": \"<azureml.automl.runtime.shared.model_wrappers.StandardScalerWrapper object at 0x7fc9d827d358\", \"primary_metric\": 0.84811558, \"best_metric\": 0.84835149}, {\"run_id\": \"AutoML_4b35e636-39de-4f43-a5a1-8631d7dd0fcc_43\", \"run_number\": 67, \"metric\": null, \"status\": \"Canceled\", \"run_type\": \"azureml.scriptrun\", \"training_percent\": \"100\", \"start_time\": \"2021-04-04T18:42:29.086978Z\", \"end_time\": \"2021-04-04T18:43:11.123171Z\", \"created_time\": \"2021-04-04T18:42:18.813116Z\", \"created_time_dt\": \"2021-04-04T18:42:18.813116Z\", \"duration\": \"0:00:52\", \"iteration\": \"43\", \"goal\": \"accuracy_max\", \"run_name\": \"StandardScalerWrapper, LightGBM\", \"run_properties\": \"<azureml.automl.runtime.shared.model_wrappers.StandardScalerWrapper object at 0x7f26ea082208\", \"primary_metric\": 0.84693606, \"best_metric\": 0.84835149}, {\"run_id\": \"AutoML_4b35e636-39de-4f43-a5a1-8631d7dd0fcc_44\", \"run_number\": 68, \"metric\": null, \"status\": \"Canceled\", \"run_type\": \"azureml.scriptrun\", \"training_percent\": \"100\", \"start_time\": \"2021-04-04T18:42:43.787443Z\", \"end_time\": \"2021-04-04T18:43:11.071018Z\", \"created_time\": \"2021-04-04T18:42:28.147016Z\", \"created_time_dt\": \"2021-04-04T18:42:28.147016Z\", \"duration\": \"0:00:42\", \"iteration\": \"44\", \"goal\": null, \"run_name\": \"MaxAbsScaler, LightGBM\", \"run_properties\": null}, {\"run_id\": \"AutoML_4b35e636-39de-4f43-a5a1-8631d7dd0fcc_45\", \"run_number\": 69, \"metric\": null, \"status\": \"Canceled\", \"run_type\": \"azureml.scriptrun\", \"training_percent\": \"100\", \"start_time\": \"2021-04-04T18:42:55.741193Z\", \"end_time\": \"2021-04-04T18:43:10.397815Z\", \"created_time\": \"2021-04-04T18:42:41.530513Z\", \"created_time_dt\": \"2021-04-04T18:42:41.530513Z\", \"duration\": \"0:00:28\", \"iteration\": \"45\", \"goal\": null, \"run_name\": \"Canceled\", \"run_properties\": null}, {\"run_id\": \"AutoML_4b35e636-39de-4f43-a5a1-8631d7dd0fcc_46\", \"run_number\": 70, \"metric\": null, \"status\": \"Completed\", \"run_type\": \"azureml.scriptrun\", \"training_percent\": \"100\", \"start_time\": \"2021-04-04T18:43:23.915829Z\", \"end_time\": \"2021-04-04T18:44:34.727008Z\", \"created_time\": \"2021-04-04T18:43:12.841755Z\", \"created_time_dt\": \"2021-04-04T18:43:12.841755Z\", \"duration\": \"0:01:21\", \"iteration\": \"46\", \"goal\": \"accuracy_max\", \"run_name\": \"VotingEnsemble\", \"run_properties\": \"classification_labels=None,\\n                              estimators=[('29',\\n                                           Pipeline(memory=None,\\n                                                    steps=[('sparsenormalizer',\\n                                                            <azureml.automl.runtime.shared.model_wrappers.SparseNormalizer object at 0x7ff247e5ee80>\", \"primary_metric\": 0.84811558, \"best_metric\": 0.84835149}, {\"run_id\": \"AutoML_4b35e636-39de-4f43-a5a1-8631d7dd0fcc_47\", \"run_number\": 71, \"metric\": null, \"status\": \"Completed\", \"run_type\": \"azureml.scriptrun\", \"training_percent\": \"100\", \"start_time\": \"2021-04-04T18:43:21.3939Z\", \"end_time\": \"2021-04-04T18:44:25.738853Z\", \"created_time\": \"2021-04-04T18:43:12.882494Z\", \"created_time_dt\": \"2021-04-04T18:43:12.882494Z\", \"duration\": \"0:01:12\", \"iteration\": \"47\", \"goal\": \"accuracy_max\", \"run_name\": \"StackEnsemble\", \"run_properties\": \"base_learners=[('29',\\n                                        Pipeline(memory=None,\\n                                                 steps=[('sparsenormalizer',\\n                                                         <azureml.automl.runtime.shared.model_wrappers.SparseNormalizer object at 0x7fce095a3c88>\", \"primary_metric\": 0.83773578, \"best_metric\": 0.84835149}], \"children_metrics\": {\"categories\": [0], \"series\": {\"AUC_weighted\": [{\"categories\": [\"0\", \"1\", \"2\", \"3\", \"4\", \"5\", \"6\", \"7\", \"8\", \"9\", \"10\", \"11\", \"12\", \"13\", \"14\", \"15\", \"16\", \"17\", \"18\", \"19\", \"20\", \"21\", \"22\", \"23\", \"24\", \"25\", \"26\", \"27\", \"28\", \"29\", \"30\", \"31\", \"32\", \"33\", \"34\", \"35\", \"36\", \"37\", \"38\", \"39\", \"40\", \"41\", \"42\", \"43\", \"46\", \"47\"], \"mode\": \"markers\", \"name\": \"AUC_weighted\", \"stepped\": false, \"type\": \"scatter\", \"data\": [0.6272491257921979, 0.6719147375349594, 0.6564744090685525, 0.5823570367774187, 0.5576855406125908, 0.6538226375803653, 0.6639883631163631, 0.671743453289559, 0.6522645885072239, 0.6583411596506248, 0.6575262910796571, 0.6595173123731662, 0.6602088877260411, 0.663275823350025, 0.669127036550165, 0.645115947933305, 0.626734013655598, 0.5974272831249278, 0.6568141559384387, 0.6694813111443157, 0.6644330380815362, 0.6577905597126924, 0.6586908185373359, 0.6566011782647019, 0.6643034097443019, 0.5, 0.6613372237778968, 0.6728298381996108, 0.6610849441921884, 0.670454752888623, 0.5, 0.6628952645239125, 0.64247552555686, 0.6605370850681852, 0.6119525345579838, 0.5, 0.641148900193285, 0.665192935438449, 0.6270152159956328, 0.6624987915631654, 0.5, 0.6585367887976549, 0.6586365481687753, 0.6584075832687769, 0.6685025978269854, 0.6703572210960743]}, {\"categories\": [\"0\", \"1\", \"2\", \"3\", \"4\", \"5\", \"6\", \"7\", \"8\", \"9\", \"10\", \"11\", \"12\", \"13\", \"14\", \"15\", \"16\", \"17\", \"18\", \"19\", \"20\", \"21\", \"22\", \"23\", \"24\", \"25\", \"26\", \"27\", \"28\", \"29\", \"30\", \"31\", \"32\", \"33\", \"34\", \"35\", \"36\", \"37\", \"38\", \"39\", \"40\", \"41\", \"42\", \"43\", \"46\", \"47\"], \"mode\": \"lines\", \"name\": \"AUC_weighted_max\", \"stepped\": true, \"type\": \"scatter\", \"data\": [0.6272491257921979, 0.6719147375349594, 0.6719147375349594, 0.6719147375349594, 0.6719147375349594, 0.6719147375349594, 0.6719147375349594, 0.6719147375349594, 0.6719147375349594, 0.6719147375349594, 0.6719147375349594, 0.6719147375349594, 0.6719147375349594, 0.6719147375349594, 0.6719147375349594, 0.6719147375349594, 0.6719147375349594, 0.6719147375349594, 0.6719147375349594, 0.6719147375349594, 0.6719147375349594, 0.6719147375349594, 0.6719147375349594, 0.6719147375349594, 0.6719147375349594, 0.6719147375349594, 0.6719147375349594, 0.6728298381996108, 0.6728298381996108, 0.6728298381996108, 0.6728298381996108, 0.6728298381996108, 0.6728298381996108, 0.6728298381996108, 0.6728298381996108, 0.6728298381996108, 0.6728298381996108, 0.6728298381996108, 0.6728298381996108, 0.6728298381996108, 0.6728298381996108, 0.6728298381996108, 0.6728298381996108, 0.6728298381996108, 0.6728298381996108, 0.6728298381996108]}], \"norm_macro_recall\": [{\"categories\": [\"0\", \"1\", \"2\", \"3\", \"4\", \"5\", \"6\", \"7\", \"8\", \"9\", \"10\", \"11\", \"12\", \"13\", \"14\", \"15\", \"16\", \"17\", \"18\", \"19\", \"20\", \"21\", \"22\", \"23\", \"24\", \"25\", \"26\", \"27\", \"28\", \"29\", \"30\", \"31\", \"32\", \"33\", \"34\", \"35\", \"36\", \"37\", \"38\", \"39\", \"40\", \"41\", \"42\", \"43\", \"46\", \"47\"], \"mode\": \"markers\", \"name\": \"norm_macro_recall\", \"stepped\": false, \"type\": \"scatter\", \"data\": [0.05168926676449496, 0.023808513086223115, 0.0, 0.0, 0.06018685984961988, 0.23420870148398495, 0.001276427354092095, 0.03241761791018664, 0.001501501501501486, 0.0, 0.0, 0.0, 0.0, 0.0, 0.0, 0.06044457999681726, 0.044712028234357604, 0.0689146675001359, 0.0, 0.02247478364767937, 0.0010829864945213579, 0.0, 0.0032998261819021657, 0.0, 0.032757717342097425, 0.0, 0.0, 0.0, 0.0, 0.002955393174538671, 0.0, 0.0, 0.05416406931101525, 0.0013562105382372014, 0.04872540209865783, 0.0, 0.011170790665454714, 0.006713895989414557, 0.04864131231826644, 0.0, 0.0, 0.0, 0.0, 0.0, 0.0, 0.015602083864209026]}, {\"categories\": [\"0\", \"1\", \"2\", \"3\", \"4\", \"5\", \"6\", \"7\", \"8\", \"9\", \"10\", \"11\", \"12\", \"13\", \"14\", \"15\", \"16\", \"17\", \"18\", \"19\", \"20\", \"21\", \"22\", \"23\", \"24\", \"25\", \"26\", \"27\", \"28\", \"29\", \"30\", \"31\", \"32\", \"33\", \"34\", \"35\", \"36\", \"37\", \"38\", \"39\", \"40\", \"41\", \"42\", \"43\", \"46\", \"47\"], \"mode\": \"lines\", \"name\": \"norm_macro_recall_max\", \"stepped\": true, \"type\": \"scatter\", \"data\": [0.05168926676449496, 0.05168926676449496, 0.05168926676449496, 0.05168926676449496, 0.06018685984961988, 0.23420870148398495, 0.23420870148398495, 0.23420870148398495, 0.23420870148398495, 0.23420870148398495, 0.23420870148398495, 0.23420870148398495, 0.23420870148398495, 0.23420870148398495, 0.23420870148398495, 0.23420870148398495, 0.23420870148398495, 0.23420870148398495, 0.23420870148398495, 0.23420870148398495, 0.23420870148398495, 0.23420870148398495, 0.23420870148398495, 0.23420870148398495, 0.23420870148398495, 0.23420870148398495, 0.23420870148398495, 0.23420870148398495, 0.23420870148398495, 0.23420870148398495, 0.23420870148398495, 0.23420870148398495, 0.23420870148398495, 0.23420870148398495, 0.23420870148398495, 0.23420870148398495, 0.23420870148398495, 0.23420870148398495, 0.23420870148398495, 0.23420870148398495, 0.23420870148398495, 0.23420870148398495, 0.23420870148398495, 0.23420870148398495, 0.23420870148398495, 0.23420870148398495]}], \"balanced_accuracy\": [{\"categories\": [\"0\", \"1\", \"2\", \"3\", \"4\", \"5\", \"6\", \"7\", \"8\", \"9\", \"10\", \"11\", \"12\", \"13\", \"14\", \"15\", \"16\", \"17\", \"18\", \"19\", \"20\", \"21\", \"22\", \"23\", \"24\", \"25\", \"26\", \"27\", \"28\", \"29\", \"30\", \"31\", \"32\", \"33\", \"34\", \"35\", \"36\", \"37\", \"38\", \"39\", \"40\", \"41\", \"42\", \"43\", \"46\", \"47\"], \"mode\": \"markers\", \"name\": \"balanced_accuracy\", \"stepped\": false, \"type\": \"scatter\", \"data\": [0.5258446333822475, 0.5119042565431116, 0.5, 0.5, 0.5298584289338418, 0.6171043507419925, 0.5002234227713013, 0.5162088089550934, 0.5005652981614929, 0.49986338797814206, 0.5, 0.5, 0.49977066168351314, 0.5, 0.5, 0.5302222899984087, 0.5223560141171788, 0.5344573337500679, 0.5, 0.5112373918238396, 0.5005414932472606, 0.5, 0.5016499130909512, 0.5, 0.5163788586710487, 0.5, 0.5, 0.5, 0.5, 0.5014776965872694, 0.5, 0.5, 0.5270820346555075, 0.5006781052691186, 0.5243627010493289, 0.5, 0.5054447483566373, 0.5033569479947073, 0.5243206561591333, 0.5, 0.5, 0.5, 0.5, 0.4993169398907104, 0.5, 0.5078010419321045]}, {\"categories\": [\"0\", \"1\", \"2\", \"3\", \"4\", \"5\", \"6\", \"7\", \"8\", \"9\", \"10\", \"11\", \"12\", \"13\", \"14\", \"15\", \"16\", \"17\", \"18\", \"19\", \"20\", \"21\", \"22\", \"23\", \"24\", \"25\", \"26\", \"27\", \"28\", \"29\", \"30\", \"31\", \"32\", \"33\", \"34\", \"35\", \"36\", \"37\", \"38\", \"39\", \"40\", \"41\", \"42\", \"43\", \"46\", \"47\"], \"mode\": \"lines\", \"name\": \"balanced_accuracy_max\", \"stepped\": true, \"type\": \"scatter\", \"data\": [0.5258446333822475, 0.5258446333822475, 0.5258446333822475, 0.5258446333822475, 0.5298584289338418, 0.6171043507419925, 0.6171043507419925, 0.6171043507419925, 0.6171043507419925, 0.6171043507419925, 0.6171043507419925, 0.6171043507419925, 0.6171043507419925, 0.6171043507419925, 0.6171043507419925, 0.6171043507419925, 0.6171043507419925, 0.6171043507419925, 0.6171043507419925, 0.6171043507419925, 0.6171043507419925, 0.6171043507419925, 0.6171043507419925, 0.6171043507419925, 0.6171043507419925, 0.6171043507419925, 0.6171043507419925, 0.6171043507419925, 0.6171043507419925, 0.6171043507419925, 0.6171043507419925, 0.6171043507419925, 0.6171043507419925, 0.6171043507419925, 0.6171043507419925, 0.6171043507419925, 0.6171043507419925, 0.6171043507419925, 0.6171043507419925, 0.6171043507419925, 0.6171043507419925, 0.6171043507419925, 0.6171043507419925, 0.6171043507419925, 0.6171043507419925, 0.6171043507419925]}], \"weighted_accuracy\": [{\"categories\": [\"0\", \"1\", \"2\", \"3\", \"4\", \"5\", \"6\", \"7\", \"8\", \"9\", \"10\", \"11\", \"12\", \"13\", \"14\", \"15\", \"16\", \"17\", \"18\", \"19\", \"20\", \"21\", \"22\", \"23\", \"24\", \"25\", \"26\", \"27\", \"28\", \"29\", \"30\", \"31\", \"32\", \"33\", \"34\", \"35\", \"36\", \"37\", \"38\", \"39\", \"40\", \"41\", \"42\", \"43\", \"46\", \"47\"], \"mode\": \"markers\", \"name\": \"weighted_accuracy\", \"stepped\": false, \"type\": \"scatter\", \"data\": [0.938068858922891, 0.9632332164095311, 0.9686688438245291, 0.9686688438245291, 0.7289947007237124, 0.6981450229353136, 0.9614104323931967, 0.9530264241484064, 0.9650718511078652, 0.968402290595925, 0.9686688438245291, 0.9686688438245291, 0.9665785858425161, 0.9686688438245291, 0.9686688438245291, 0.9237733983499873, 0.9434836822705909, 0.8626750861737875, 0.9686688438245291, 0.9582041415233725, 0.9647970489359275, 0.9686688438245291, 0.9622623430961893, 0.9686688438245291, 0.9559903248424231, 0.9686688438245291, 0.9686688438245291, 0.9686688438245291, 0.9686688438245291, 0.9684948752328989, 0.9686688438245291, 0.9686688438245291, 0.9244518197001691, 0.9650636021645318, 0.9355843576616159, 0.9686688438245291, 0.9637839135129367, 0.964178632486572, 0.9315023610821508, 0.9686688438245291, 0.9686688438245291, 0.9686688438245291, 0.9686688438245291, 0.9673360776815084, 0.9686688438245291, 0.9526771795120519]}, {\"categories\": [\"0\", \"1\", \"2\", \"3\", \"4\", \"5\", \"6\", \"7\", \"8\", \"9\", \"10\", \"11\", \"12\", \"13\", \"14\", \"15\", \"16\", \"17\", \"18\", \"19\", \"20\", \"21\", \"22\", \"23\", \"24\", \"25\", \"26\", \"27\", \"28\", \"29\", \"30\", \"31\", \"32\", \"33\", \"34\", \"35\", \"36\", \"37\", \"38\", \"39\", \"40\", \"41\", \"42\", \"43\", \"46\", \"47\"], \"mode\": \"lines\", \"name\": \"weighted_accuracy_max\", \"stepped\": true, \"type\": \"scatter\", \"data\": [0.938068858922891, 0.9632332164095311, 0.9686688438245291, 0.9686688438245291, 0.9686688438245291, 0.9686688438245291, 0.9686688438245291, 0.9686688438245291, 0.9686688438245291, 0.9686688438245291, 0.9686688438245291, 0.9686688438245291, 0.9686688438245291, 0.9686688438245291, 0.9686688438245291, 0.9686688438245291, 0.9686688438245291, 0.9686688438245291, 0.9686688438245291, 0.9686688438245291, 0.9686688438245291, 0.9686688438245291, 0.9686688438245291, 0.9686688438245291, 0.9686688438245291, 0.9686688438245291, 0.9686688438245291, 0.9686688438245291, 0.9686688438245291, 0.9686688438245291, 0.9686688438245291, 0.9686688438245291, 0.9686688438245291, 0.9686688438245291, 0.9686688438245291, 0.9686688438245291, 0.9686688438245291, 0.9686688438245291, 0.9686688438245291, 0.9686688438245291, 0.9686688438245291, 0.9686688438245291, 0.9686688438245291, 0.9686688438245291, 0.9686688438245291, 0.9686688438245291]}], \"precision_score_weighted\": [{\"categories\": [\"0\", \"1\", \"2\", \"3\", \"4\", \"5\", \"6\", \"7\", \"8\", \"9\", \"10\", \"11\", \"12\", \"13\", \"14\", \"15\", \"16\", \"17\", \"18\", \"19\", \"20\", \"21\", \"22\", \"23\", \"24\", \"25\", \"26\", \"27\", \"28\", \"29\", \"30\", \"31\", \"32\", \"33\", \"34\", \"35\", \"36\", \"37\", \"38\", \"39\", \"40\", \"41\", \"42\", \"43\", \"46\", \"47\"], \"mode\": \"markers\", \"name\": \"precision_score_weighted\", \"stepped\": false, \"type\": \"scatter\", \"data\": [0.7741441853881125, 0.8035558631912375, 0.719420921315527, 0.719420921315527, 0.7577253707275724, 0.7957482248934727, 0.7606641454561478, 0.7783336439450971, 0.7776124840016646, 0.719393080826178, 0.719420921315527, 0.719420921315527, 0.7244327627191988, 0.719420921315527, 0.719420921315527, 0.7710544000907523, 0.7763473215845654, 0.761982809093085, 0.719420921315527, 0.7843204783620278, 0.7271208859812553, 0.719420921315527, 0.7538088730148128, 0.719420921315527, 0.7898420296051135, 0.719420921315527, 0.719420921315527, 0.719420921315527, 0.719420921315527, 0.7948725369119595, 0.719420921315527, 0.719420921315527, 0.7671188868308177, 0.7275953342337936, 0.771588959390764, 0.719420921315527, 0.7738733876754149, 0.7653998448745384, 0.7696206358409893, 0.719420921315527, 0.719420921315527, 0.719420921315527, 0.719420921315527, 0.7192813234072851, 0.719420921315527, 0.731657006326865]}, {\"categories\": [\"0\", \"1\", \"2\", \"3\", \"4\", \"5\", \"6\", \"7\", \"8\", \"9\", \"10\", \"11\", \"12\", \"13\", \"14\", \"15\", \"16\", \"17\", \"18\", \"19\", \"20\", \"21\", \"22\", \"23\", \"24\", \"25\", \"26\", \"27\", \"28\", \"29\", \"30\", \"31\", \"32\", \"33\", \"34\", \"35\", \"36\", \"37\", \"38\", \"39\", \"40\", \"41\", \"42\", \"43\", \"46\", \"47\"], \"mode\": \"lines\", \"name\": \"precision_score_weighted_max\", \"stepped\": true, \"type\": \"scatter\", \"data\": [0.7741441853881125, 0.8035558631912375, 0.8035558631912375, 0.8035558631912375, 0.8035558631912375, 0.8035558631912375, 0.8035558631912375, 0.8035558631912375, 0.8035558631912375, 0.8035558631912375, 0.8035558631912375, 0.8035558631912375, 0.8035558631912375, 0.8035558631912375, 0.8035558631912375, 0.8035558631912375, 0.8035558631912375, 0.8035558631912375, 0.8035558631912375, 0.8035558631912375, 0.8035558631912375, 0.8035558631912375, 0.8035558631912375, 0.8035558631912375, 0.8035558631912375, 0.8035558631912375, 0.8035558631912375, 0.8035558631912375, 0.8035558631912375, 0.8035558631912375, 0.8035558631912375, 0.8035558631912375, 0.8035558631912375, 0.8035558631912375, 0.8035558631912375, 0.8035558631912375, 0.8035558631912375, 0.8035558631912375, 0.8035558631912375, 0.8035558631912375, 0.8035558631912375, 0.8035558631912375, 0.8035558631912375, 0.8035558631912375, 0.8035558631912375, 0.8035558631912375]}], \"AUC_micro\": [{\"categories\": [\"0\", \"1\", \"2\", \"3\", \"4\", \"5\", \"6\", \"7\", \"8\", \"9\", \"10\", \"11\", \"12\", \"13\", \"14\", \"15\", \"16\", \"17\", \"18\", \"19\", \"20\", \"21\", \"22\", \"23\", \"24\", \"25\", \"26\", \"27\", \"28\", \"29\", \"30\", \"31\", \"32\", \"33\", \"34\", \"35\", \"36\", \"37\", \"38\", \"39\", \"40\", \"41\", \"42\", \"43\", \"46\", \"47\"], \"mode\": \"markers\", \"name\": \"AUC_micro\", \"stepped\": false, \"type\": \"scatter\", \"data\": [0.8779753656837449, 0.8925347722983045, 0.8886648426359812, 0.8697531813471867, 0.6973505547697586, 0.6926773667699756, 0.8905402039803209, 0.8917851935362444, 0.887608926817701, 0.8892517249484104, 0.8890370560475356, 0.889612751441486, 0.8897056657552268, 0.890542778563208, 0.8919932443321882, 0.879075743779134, 0.8781811091161112, 0.8405925258638304, 0.8889014647155205, 0.8916291443445129, 0.8907377644105533, 0.8891693850965013, 0.8891753936368686, 0.8888233048871431, 0.8898646586676398, 0.8481155819555265, 0.8900595474356777, 0.8929600443293851, 0.8900988562393239, 0.8924501161718448, 0.8481155819555265, 0.8905250586396093, 0.8791693761860057, 0.8897900489971167, 0.8725574600078745, 0.8481155819555265, 0.8846569110615462, 0.8910489572697569, 0.8760309567613552, 0.890413701941997, 0.8481155819555265, 0.8893279711016063, 0.8893884080555997, 0.8892933520921066, 0.891932918562368, 0.8905401365265178]}, {\"categories\": [\"0\", \"1\", \"2\", \"3\", \"4\", \"5\", \"6\", \"7\", \"8\", \"9\", \"10\", \"11\", \"12\", \"13\", \"14\", \"15\", \"16\", \"17\", \"18\", \"19\", \"20\", \"21\", \"22\", \"23\", \"24\", \"25\", \"26\", \"27\", \"28\", \"29\", \"30\", \"31\", \"32\", \"33\", \"34\", \"35\", \"36\", \"37\", \"38\", \"39\", \"40\", \"41\", \"42\", \"43\", \"46\", \"47\"], \"mode\": \"lines\", \"name\": \"AUC_micro_max\", \"stepped\": true, \"type\": \"scatter\", \"data\": [0.8779753656837449, 0.8925347722983045, 0.8925347722983045, 0.8925347722983045, 0.8925347722983045, 0.8925347722983045, 0.8925347722983045, 0.8925347722983045, 0.8925347722983045, 0.8925347722983045, 0.8925347722983045, 0.8925347722983045, 0.8925347722983045, 0.8925347722983045, 0.8925347722983045, 0.8925347722983045, 0.8925347722983045, 0.8925347722983045, 0.8925347722983045, 0.8925347722983045, 0.8925347722983045, 0.8925347722983045, 0.8925347722983045, 0.8925347722983045, 0.8925347722983045, 0.8925347722983045, 0.8925347722983045, 0.8929600443293851, 0.8929600443293851, 0.8929600443293851, 0.8929600443293851, 0.8929600443293851, 0.8929600443293851, 0.8929600443293851, 0.8929600443293851, 0.8929600443293851, 0.8929600443293851, 0.8929600443293851, 0.8929600443293851, 0.8929600443293851, 0.8929600443293851, 0.8929600443293851, 0.8929600443293851, 0.8929600443293851, 0.8929600443293851, 0.8929600443293851]}], \"matthews_correlation\": [{\"categories\": [\"0\", \"1\", \"2\", \"3\", \"4\", \"5\", \"6\", \"7\", \"8\", \"9\", \"10\", \"11\", \"12\", \"13\", \"14\", \"15\", \"16\", \"17\", \"18\", \"19\", \"20\", \"21\", \"22\", \"23\", \"24\", \"25\", \"26\", \"27\", \"28\", \"29\", \"30\", \"31\", \"32\", \"33\", \"34\", \"35\", \"36\", \"37\", \"38\", \"39\", \"40\", \"41\", \"42\", \"43\", \"46\", \"47\"], \"mode\": \"markers\", \"name\": \"matthews_correlation\", \"stepped\": false, \"type\": \"scatter\", \"data\": [0.09364822094370161, 0.0918049936561393, 0.0, 0.0, 0.050958466550601794, 0.17920262816252855, 0.009921878225015685, 0.08167679018666187, 0.019342814233086914, -0.0035282563846008278, 0.0, 0.0, -0.001979978056024807, 0.0, 0.0, 0.093267036292357, 0.09024018006705938, 0.07434280855902459, 0.0, 0.07343197524303717, 0.003316333929641761, 0.0, 0.016858346976508513, 0.0, 0.09380059464591971, 0.0, 0.0, 0.0, 0.0, 0.03382706830050287, 0.0, 0.0, 0.08327257368461917, 0.004271874787898634, 0.0867293114949466, 0.0, 0.04566384411879717, 0.03259911631519818, 0.08268252749846051, 0.0, 0.0, 0.0, 0.0, -0.007900619734181392, 0.0, 0.022916338249839616]}, {\"categories\": [\"0\", \"1\", \"2\", \"3\", \"4\", \"5\", \"6\", \"7\", \"8\", \"9\", \"10\", \"11\", \"12\", \"13\", \"14\", \"15\", \"16\", \"17\", \"18\", \"19\", \"20\", \"21\", \"22\", \"23\", \"24\", \"25\", \"26\", \"27\", \"28\", \"29\", \"30\", \"31\", \"32\", \"33\", \"34\", \"35\", \"36\", \"37\", \"38\", \"39\", \"40\", \"41\", \"42\", \"43\", \"46\", \"47\"], \"mode\": \"lines\", \"name\": \"matthews_correlation_max\", \"stepped\": true, \"type\": \"scatter\", \"data\": [0.09364822094370161, 0.09364822094370161, 0.09364822094370161, 0.09364822094370161, 0.09364822094370161, 0.17920262816252855, 0.17920262816252855, 0.17920262816252855, 0.17920262816252855, 0.17920262816252855, 0.17920262816252855, 0.17920262816252855, 0.17920262816252855, 0.17920262816252855, 0.17920262816252855, 0.17920262816252855, 0.17920262816252855, 0.17920262816252855, 0.17920262816252855, 0.17920262816252855, 0.17920262816252855, 0.17920262816252855, 0.17920262816252855, 0.17920262816252855, 0.17920262816252855, 0.17920262816252855, 0.17920262816252855, 0.17920262816252855, 0.17920262816252855, 0.17920262816252855, 0.17920262816252855, 0.17920262816252855, 0.17920262816252855, 0.17920262816252855, 0.17920262816252855, 0.17920262816252855, 0.17920262816252855, 0.17920262816252855, 0.17920262816252855, 0.17920262816252855, 0.17920262816252855, 0.17920262816252855, 0.17920262816252855, 0.17920262816252855, 0.17920262816252855, 0.17920262816252855]}], \"recall_score_micro\": [{\"categories\": [\"0\", \"1\", \"2\", \"3\", \"4\", \"5\", \"6\", \"7\", \"8\", \"9\", \"10\", \"11\", \"12\", \"13\", \"14\", \"15\", \"16\", \"17\", \"18\", \"19\", \"20\", \"21\", \"22\", \"23\", \"24\", \"25\", \"26\", \"27\", \"28\", \"29\", \"30\", \"31\", \"32\", \"33\", \"34\", \"35\", \"36\", \"37\", \"38\", \"39\", \"40\", \"41\", \"42\", \"43\", \"46\", \"47\"], \"mode\": \"markers\", \"name\": \"recall_score_micro\", \"stepped\": false, \"type\": \"scatter\", \"data\": [0.8320762315843352, 0.8471711290024969, 0.8481155819555264, 0.8481155819555264, 0.6787595350375195, 0.6778334339348402, 0.8426897739819478, 0.8405674659064329, 0.8455206303159888, 0.8478796772610231, 0.8481155819555264, 0.8481155819555264, 0.8464642490940025, 0.8481155819555264, 0.8481155819555264, 0.8226413784842239, 0.8349062537433604, 0.7783034748728133, 0.8481155819555264, 0.8431614165359514, 0.8452847256214854, 0.8481155819555264, 0.8436333927599615, 0.8481155819555264, 0.8429253450064449, 0.8481155819555264, 0.8481155819555264, 0.8481155819555264, 0.8481155819555264, 0.8483514866500298, 0.8481155819555264, 0.8481155819555264, 0.8221722384552681, 0.8455206303159889, 0.829718018814317, 0.8481155819555264, 0.8457567018454956, 0.8455206303159888, 0.826888163490295, 0.8481155819555264, 0.8481155819555264, 0.8481155819555264, 0.8481155819555264, 0.8469360584830093, 0.8481155819555264, 0.837735775397376]}, {\"categories\": [\"0\", \"1\", \"2\", \"3\", \"4\", \"5\", \"6\", \"7\", \"8\", \"9\", \"10\", \"11\", \"12\", \"13\", \"14\", \"15\", \"16\", \"17\", \"18\", \"19\", \"20\", \"21\", \"22\", \"23\", \"24\", \"25\", \"26\", \"27\", \"28\", \"29\", \"30\", \"31\", \"32\", \"33\", \"34\", \"35\", \"36\", \"37\", \"38\", \"39\", \"40\", \"41\", \"42\", \"43\", \"46\", \"47\"], \"mode\": \"lines\", \"name\": \"recall_score_micro_max\", \"stepped\": true, \"type\": \"scatter\", \"data\": [0.8320762315843352, 0.8471711290024969, 0.8481155819555264, 0.8481155819555264, 0.8481155819555264, 0.8481155819555264, 0.8481155819555264, 0.8481155819555264, 0.8481155819555264, 0.8481155819555264, 0.8481155819555264, 0.8481155819555264, 0.8481155819555264, 0.8481155819555264, 0.8481155819555264, 0.8481155819555264, 0.8481155819555264, 0.8481155819555264, 0.8481155819555264, 0.8481155819555264, 0.8481155819555264, 0.8481155819555264, 0.8481155819555264, 0.8481155819555264, 0.8481155819555264, 0.8481155819555264, 0.8481155819555264, 0.8481155819555264, 0.8481155819555264, 0.8483514866500298, 0.8483514866500298, 0.8483514866500298, 0.8483514866500298, 0.8483514866500298, 0.8483514866500298, 0.8483514866500298, 0.8483514866500298, 0.8483514866500298, 0.8483514866500298, 0.8483514866500298, 0.8483514866500298, 0.8483514866500298, 0.8483514866500298, 0.8483514866500298, 0.8483514866500298, 0.8483514866500298]}], \"f1_score_macro\": [{\"categories\": [\"0\", \"1\", \"2\", \"3\", \"4\", \"5\", \"6\", \"7\", \"8\", \"9\", \"10\", \"11\", \"12\", \"13\", \"14\", \"15\", \"16\", \"17\", \"18\", \"19\", \"20\", \"21\", \"22\", \"23\", \"24\", \"25\", \"26\", \"27\", \"28\", \"29\", \"30\", \"31\", \"32\", \"33\", \"34\", \"35\", \"36\", \"37\", \"38\", \"39\", \"40\", \"41\", \"42\", \"43\", \"46\", \"47\"], \"mode\": \"markers\", \"name\": \"f1_score_macro\", \"stepped\": false, \"type\": \"scatter\", \"data\": [0.5208165108643971, 0.4868535488064971, 0.4588892190256147, 0.4588892190256147, 0.5070495634506883, 0.560055263737076, 0.4647493117848069, 0.4996390072942633, 0.4627934246147604, 0.45882125420686, 0.4588892190256147, 0.4588892190256147, 0.4600528683053297, 0.4588892190256147, 0.4588892190256147, 0.5300163147406002, 0.5121698401693392, 0.536184800471086, 0.4588892190256147, 0.4882188919320902, 0.4627796449053802, 0.4588892190256147, 0.46652176813026447, 0.4588892190256147, 0.4989455165105672, 0.4588892190256147, 0.4588892190256147, 0.4588892190256147, 0.4588892190256147, 0.46214267230142564, 0.4588892190256147, 0.4588892190256147, 0.525023258642083, 0.46287091818722864, 0.5184676273981162, 0.4588892190256147, 0.47319580787391463, 0.4687828823757227, 0.5199848769939377, 0.4588892190256147, 0.4588892190256147, 0.4588892190256147, 0.4588892190256147, 0.45854887769577757, 0.4588892190256147, 0.47865213447866034]}, {\"categories\": [\"0\", \"1\", \"2\", \"3\", \"4\", \"5\", \"6\", \"7\", \"8\", \"9\", \"10\", \"11\", \"12\", \"13\", \"14\", \"15\", \"16\", \"17\", \"18\", \"19\", \"20\", \"21\", \"22\", \"23\", \"24\", \"25\", \"26\", \"27\", \"28\", \"29\", \"30\", \"31\", \"32\", \"33\", \"34\", \"35\", \"36\", \"37\", \"38\", \"39\", \"40\", \"41\", \"42\", \"43\", \"46\", \"47\"], \"mode\": \"lines\", \"name\": \"f1_score_macro_max\", \"stepped\": true, \"type\": \"scatter\", \"data\": [0.5208165108643971, 0.5208165108643971, 0.5208165108643971, 0.5208165108643971, 0.5208165108643971, 0.560055263737076, 0.560055263737076, 0.560055263737076, 0.560055263737076, 0.560055263737076, 0.560055263737076, 0.560055263737076, 0.560055263737076, 0.560055263737076, 0.560055263737076, 0.560055263737076, 0.560055263737076, 0.560055263737076, 0.560055263737076, 0.560055263737076, 0.560055263737076, 0.560055263737076, 0.560055263737076, 0.560055263737076, 0.560055263737076, 0.560055263737076, 0.560055263737076, 0.560055263737076, 0.560055263737076, 0.560055263737076, 0.560055263737076, 0.560055263737076, 0.560055263737076, 0.560055263737076, 0.560055263737076, 0.560055263737076, 0.560055263737076, 0.560055263737076, 0.560055263737076, 0.560055263737076, 0.560055263737076, 0.560055263737076, 0.560055263737076, 0.560055263737076, 0.560055263737076, 0.560055263737076]}], \"average_precision_score_macro\": [{\"categories\": [\"0\", \"1\", \"2\", \"3\", \"4\", \"5\", \"6\", \"7\", \"8\", \"9\", \"10\", \"11\", \"12\", \"13\", \"14\", \"15\", \"16\", \"17\", \"18\", \"19\", \"20\", \"21\", \"22\", \"23\", \"24\", \"25\", \"26\", \"27\", \"28\", \"29\", \"30\", \"31\", \"32\", \"33\", \"34\", \"35\", \"36\", \"37\", \"38\", \"39\", \"40\", \"41\", \"42\", \"43\", \"46\", \"47\"], \"mode\": \"markers\", \"name\": \"average_precision_score_macro\", \"stepped\": false, \"type\": \"scatter\", \"data\": [0.5648125926108533, 0.5955597537659437, 0.5811882041378845, 0.5349952050508208, 0.5293691901742776, 0.5752796461314897, 0.5860021383486935, 0.5919850220522962, 0.5897870277873324, 0.5904584528182842, 0.5772211255848342, 0.5887099572326387, 0.591083690880246, 0.5964740345764522, 0.5906519312115678, 0.5707380437401629, 0.566561422419799, 0.544957783054949, 0.5867325050232822, 0.5907047124928774, 0.592036035361637, 0.5866684178635388, 0.5926941872088728, 0.5864553365289739, 0.590666877240924, 0.5, 0.5914492099018912, 0.5998104971633564, 0.5952056806728027, 0.592678712631928, 0.5, 0.5878980643516033, 0.5693309439988186, 0.5925536899238307, 0.5560888295975066, 0.5, 0.58308054268665, 0.5901438350458471, 0.5633162456332913, 0.5892265651578056, 0.5, 0.5853923102530105, 0.5907533188181419, 0.5907331621472424, 0.5960407540786319, 0.5961519238690595]}, {\"categories\": [\"0\", \"1\", \"2\", \"3\", \"4\", \"5\", \"6\", \"7\", \"8\", \"9\", \"10\", \"11\", \"12\", \"13\", \"14\", \"15\", \"16\", \"17\", \"18\", \"19\", \"20\", \"21\", \"22\", \"23\", \"24\", \"25\", \"26\", \"27\", \"28\", \"29\", \"30\", \"31\", \"32\", \"33\", \"34\", \"35\", \"36\", \"37\", \"38\", \"39\", \"40\", \"41\", \"42\", \"43\", \"46\", \"47\"], \"mode\": \"lines\", \"name\": \"average_precision_score_macro_max\", \"stepped\": true, \"type\": \"scatter\", \"data\": [0.5648125926108533, 0.5955597537659437, 0.5955597537659437, 0.5955597537659437, 0.5955597537659437, 0.5955597537659437, 0.5955597537659437, 0.5955597537659437, 0.5955597537659437, 0.5955597537659437, 0.5955597537659437, 0.5955597537659437, 0.5955597537659437, 0.5964740345764522, 0.5964740345764522, 0.5964740345764522, 0.5964740345764522, 0.5964740345764522, 0.5964740345764522, 0.5964740345764522, 0.5964740345764522, 0.5964740345764522, 0.5964740345764522, 0.5964740345764522, 0.5964740345764522, 0.5964740345764522, 0.5964740345764522, 0.5998104971633564, 0.5998104971633564, 0.5998104971633564, 0.5998104971633564, 0.5998104971633564, 0.5998104971633564, 0.5998104971633564, 0.5998104971633564, 0.5998104971633564, 0.5998104971633564, 0.5998104971633564, 0.5998104971633564, 0.5998104971633564, 0.5998104971633564, 0.5998104971633564, 0.5998104971633564, 0.5998104971633564, 0.5998104971633564, 0.5998104971633564]}], \"accuracy\": [{\"categories\": [\"0\", \"1\", \"2\", \"3\", \"4\", \"5\", \"6\", \"7\", \"8\", \"9\", \"10\", \"11\", \"12\", \"13\", \"14\", \"15\", \"16\", \"17\", \"18\", \"19\", \"20\", \"21\", \"22\", \"23\", \"24\", \"25\", \"26\", \"27\", \"28\", \"29\", \"30\", \"31\", \"32\", \"33\", \"34\", \"35\", \"36\", \"37\", \"38\", \"39\", \"40\", \"41\", \"42\", \"43\", \"46\", \"47\"], \"mode\": \"markers\", \"name\": \"accuracy\", \"stepped\": false, \"type\": \"scatter\", \"data\": [0.8320762315843352, 0.8471711290024969, 0.8481155819555264, 0.8481155819555264, 0.6787595350375195, 0.6778334339348402, 0.8426897739819478, 0.8405674659064329, 0.8455206303159888, 0.8478796772610231, 0.8481155819555264, 0.8481155819555264, 0.8464642490940025, 0.8481155819555264, 0.8481155819555264, 0.8226413784842239, 0.8349062537433604, 0.7783034748728133, 0.8481155819555264, 0.8431614165359514, 0.8452847256214854, 0.8481155819555264, 0.8436333927599615, 0.8481155819555264, 0.8429253450064449, 0.8481155819555264, 0.8481155819555264, 0.8481155819555264, 0.8481155819555264, 0.8483514866500298, 0.8481155819555264, 0.8481155819555264, 0.8221722384552681, 0.8455206303159889, 0.829718018814317, 0.8481155819555264, 0.8457567018454956, 0.8455206303159888, 0.826888163490295, 0.8481155819555264, 0.8481155819555264, 0.8481155819555264, 0.8481155819555264, 0.8469360584830093, 0.8481155819555264, 0.837735775397376]}, {\"categories\": [\"0\", \"1\", \"2\", \"3\", \"4\", \"5\", \"6\", \"7\", \"8\", \"9\", \"10\", \"11\", \"12\", \"13\", \"14\", \"15\", \"16\", \"17\", \"18\", \"19\", \"20\", \"21\", \"22\", \"23\", \"24\", \"25\", \"26\", \"27\", \"28\", \"29\", \"30\", \"31\", \"32\", \"33\", \"34\", \"35\", \"36\", \"37\", \"38\", \"39\", \"40\", \"41\", \"42\", \"43\", \"46\", \"47\"], \"mode\": \"lines\", \"name\": \"accuracy_max\", \"stepped\": true, \"type\": \"scatter\", \"data\": [0.8320762315843352, 0.8471711290024969, 0.8481155819555264, 0.8481155819555264, 0.8481155819555264, 0.8481155819555264, 0.8481155819555264, 0.8481155819555264, 0.8481155819555264, 0.8481155819555264, 0.8481155819555264, 0.8481155819555264, 0.8481155819555264, 0.8481155819555264, 0.8481155819555264, 0.8481155819555264, 0.8481155819555264, 0.8481155819555264, 0.8481155819555264, 0.8481155819555264, 0.8481155819555264, 0.8481155819555264, 0.8481155819555264, 0.8481155819555264, 0.8481155819555264, 0.8481155819555264, 0.8481155819555264, 0.8481155819555264, 0.8481155819555264, 0.8483514866500298, 0.8483514866500298, 0.8483514866500298, 0.8483514866500298, 0.8483514866500298, 0.8483514866500298, 0.8483514866500298, 0.8483514866500298, 0.8483514866500298, 0.8483514866500298, 0.8483514866500298, 0.8483514866500298, 0.8483514866500298, 0.8483514866500298, 0.8483514866500298, 0.8483514866500298, 0.8483514866500298]}], \"average_precision_score_weighted\": [{\"categories\": [\"0\", \"1\", \"2\", \"3\", \"4\", \"5\", \"6\", \"7\", \"8\", \"9\", \"10\", \"11\", \"12\", \"13\", \"14\", \"15\", \"16\", \"17\", \"18\", \"19\", \"20\", \"21\", \"22\", \"23\", \"24\", \"25\", \"26\", \"27\", \"28\", \"29\", \"30\", \"31\", \"32\", \"33\", \"34\", \"35\", \"36\", \"37\", \"38\", \"39\", \"40\", \"41\", \"42\", \"43\", \"46\", \"47\"], \"mode\": \"markers\", \"name\": \"average_precision_score_weighted\", \"stepped\": false, \"type\": \"scatter\", \"data\": [0.7941525642384558, 0.8146818351804374, 0.8043749610406624, 0.7709074867795497, 0.7704423303561857, 0.8023392313421148, 0.8072309683740517, 0.8130823514977702, 0.8084391714043573, 0.8101587156670927, 0.8047394365636683, 0.8092894640858045, 0.8108246432406037, 0.8131671959719585, 0.8122637294547429, 0.8007058140926976, 0.7952436554531671, 0.7823303595097101, 0.8082208923131713, 0.8133897939273265, 0.8117351474753881, 0.8065620614450125, 0.8097550528679495, 0.8080111898104453, 0.8101920944107314, 0.7426106787200014, 0.8126112799713748, 0.816947134799595, 0.8115901135237671, 0.8118338834751732, 0.7426106787200014, 0.8104380768350571, 0.8021146558742728, 0.8097633856773082, 0.789544210871961, 0.7426106787200014, 0.8029365513823117, 0.8097784404093772, 0.7939813310547091, 0.8105738648588057, 0.7426106787200014, 0.8082406751258618, 0.8097732236887373, 0.8099303781181603, 0.8142377370842709, 0.8147215752146463]}, {\"categories\": [\"0\", \"1\", \"2\", \"3\", \"4\", \"5\", \"6\", \"7\", \"8\", \"9\", \"10\", \"11\", \"12\", \"13\", \"14\", \"15\", \"16\", \"17\", \"18\", \"19\", \"20\", \"21\", \"22\", \"23\", \"24\", \"25\", \"26\", \"27\", \"28\", \"29\", \"30\", \"31\", \"32\", \"33\", \"34\", \"35\", \"36\", \"37\", \"38\", \"39\", \"40\", \"41\", \"42\", \"43\", \"46\", \"47\"], \"mode\": \"lines\", \"name\": \"average_precision_score_weighted_max\", \"stepped\": true, \"type\": \"scatter\", \"data\": [0.7941525642384558, 0.8146818351804374, 0.8146818351804374, 0.8146818351804374, 0.8146818351804374, 0.8146818351804374, 0.8146818351804374, 0.8146818351804374, 0.8146818351804374, 0.8146818351804374, 0.8146818351804374, 0.8146818351804374, 0.8146818351804374, 0.8146818351804374, 0.8146818351804374, 0.8146818351804374, 0.8146818351804374, 0.8146818351804374, 0.8146818351804374, 0.8146818351804374, 0.8146818351804374, 0.8146818351804374, 0.8146818351804374, 0.8146818351804374, 0.8146818351804374, 0.8146818351804374, 0.8146818351804374, 0.816947134799595, 0.816947134799595, 0.816947134799595, 0.816947134799595, 0.816947134799595, 0.816947134799595, 0.816947134799595, 0.816947134799595, 0.816947134799595, 0.816947134799595, 0.816947134799595, 0.816947134799595, 0.816947134799595, 0.816947134799595, 0.816947134799595, 0.816947134799595, 0.816947134799595, 0.816947134799595, 0.816947134799595]}], \"AUC_macro\": [{\"categories\": [\"0\", \"1\", \"2\", \"3\", \"4\", \"5\", \"6\", \"7\", \"8\", \"9\", \"10\", \"11\", \"12\", \"13\", \"14\", \"15\", \"16\", \"17\", \"18\", \"19\", \"20\", \"21\", \"22\", \"23\", \"24\", \"25\", \"26\", \"27\", \"28\", \"29\", \"30\", \"31\", \"32\", \"33\", \"34\", \"35\", \"36\", \"37\", \"38\", \"39\", \"40\", \"41\", \"42\", \"43\", \"46\", \"47\"], \"mode\": \"markers\", \"name\": \"AUC_macro\", \"stepped\": false, \"type\": \"scatter\", \"data\": [0.6272491257921978, 0.6719147375349594, 0.6564744090685525, 0.5823570367774187, 0.5576855406125908, 0.6538226375803653, 0.6639883631163631, 0.671743453289559, 0.6522645885072239, 0.6583411596506248, 0.6575262910796571, 0.6595173123731662, 0.6602088877260411, 0.663275823350025, 0.6691270365501648, 0.645115947933305, 0.626734013655598, 0.5974272831249278, 0.6568141559384387, 0.6694813111443157, 0.6644330380815362, 0.6577905597126924, 0.6586908185373359, 0.656601178264702, 0.6643034097443019, 0.5, 0.6613372237778968, 0.6728298381996108, 0.6610849441921884, 0.670454752888623, 0.5, 0.6628952645239125, 0.64247552555686, 0.6605370850681851, 0.611952318417742, 0.5, 0.641148900193285, 0.665192935438449, 0.6270152159956328, 0.6624987915631654, 0.5, 0.6585367887976549, 0.6586365481687753, 0.6584075832687769, 0.6685025978269854, 0.6703572210960743]}, {\"categories\": [\"0\", \"1\", \"2\", \"3\", \"4\", \"5\", \"6\", \"7\", \"8\", \"9\", \"10\", \"11\", \"12\", \"13\", \"14\", \"15\", \"16\", \"17\", \"18\", \"19\", \"20\", \"21\", \"22\", \"23\", \"24\", \"25\", \"26\", \"27\", \"28\", \"29\", \"30\", \"31\", \"32\", \"33\", \"34\", \"35\", \"36\", \"37\", \"38\", \"39\", \"40\", \"41\", \"42\", \"43\", \"46\", \"47\"], \"mode\": \"lines\", \"name\": \"AUC_macro_max\", \"stepped\": true, \"type\": \"scatter\", \"data\": [0.6272491257921978, 0.6719147375349594, 0.6719147375349594, 0.6719147375349594, 0.6719147375349594, 0.6719147375349594, 0.6719147375349594, 0.6719147375349594, 0.6719147375349594, 0.6719147375349594, 0.6719147375349594, 0.6719147375349594, 0.6719147375349594, 0.6719147375349594, 0.6719147375349594, 0.6719147375349594, 0.6719147375349594, 0.6719147375349594, 0.6719147375349594, 0.6719147375349594, 0.6719147375349594, 0.6719147375349594, 0.6719147375349594, 0.6719147375349594, 0.6719147375349594, 0.6719147375349594, 0.6719147375349594, 0.6728298381996108, 0.6728298381996108, 0.6728298381996108, 0.6728298381996108, 0.6728298381996108, 0.6728298381996108, 0.6728298381996108, 0.6728298381996108, 0.6728298381996108, 0.6728298381996108, 0.6728298381996108, 0.6728298381996108, 0.6728298381996108, 0.6728298381996108, 0.6728298381996108, 0.6728298381996108, 0.6728298381996108, 0.6728298381996108, 0.6728298381996108]}], \"precision_score_macro\": [{\"categories\": [\"0\", \"1\", \"2\", \"3\", \"4\", \"5\", \"6\", \"7\", \"8\", \"9\", \"10\", \"11\", \"12\", \"13\", \"14\", \"15\", \"16\", \"17\", \"18\", \"19\", \"20\", \"21\", \"22\", \"23\", \"24\", \"25\", \"26\", \"27\", \"28\", \"29\", \"30\", \"31\", \"32\", \"33\", \"34\", \"35\", \"36\", \"37\", \"38\", \"39\", \"40\", \"41\", \"42\", \"43\", \"46\", \"47\"], \"mode\": \"markers\", \"name\": \"precision_score_macro\", \"stepped\": false, \"type\": \"scatter\", \"data\": [0.5852318687019866, 0.6858798201743701, 0.4240577909777632, 0.4240577909777632, 0.5220521370149486, 0.5685824476396972, 0.5552056978068917, 0.6053443698608042, 0.6116351606027381, 0.4240416685960213, 0.4240577909777632, 0.4240577909777632, 0.4425490897238391, 0.4240577909777632, 0.4240577909777632, 0.5721211049273233, 0.5955884872933611, 0.5401314236615434, 0.4240577909777632, 0.6257673397664747, 0.45190025230080816, 0.4240577909777632, 0.5363328712189455, 0.4240577909777632, 0.6395706653110199, 0.4240577909777632, 0.4240577909777632, 0.4240577909777632, 0.4240577909777632, 0.6742431338659539, 0.4240577909777632, 0.4240577909777632, 0.5641198386544005, 0.45355050005948166, 0.578563304346473, 0.4240577909777632, 0.5997457832933296, 0.5734674251012164, 0.5707673802469283, 0.4240577909777632, 0.4240577909777632, 0.4240577909777632, 0.4240577909777632, 0.4239769500579494, 0.4240577909777632, 0.4636523509500594]}, {\"categories\": [\"0\", \"1\", \"2\", \"3\", \"4\", \"5\", \"6\", \"7\", \"8\", \"9\", \"10\", \"11\", \"12\", \"13\", \"14\", \"15\", \"16\", \"17\", \"18\", \"19\", \"20\", \"21\", \"22\", \"23\", \"24\", \"25\", \"26\", \"27\", \"28\", \"29\", \"30\", \"31\", \"32\", \"33\", \"34\", \"35\", \"36\", \"37\", \"38\", \"39\", \"40\", \"41\", \"42\", \"43\", \"46\", \"47\"], \"mode\": \"lines\", \"name\": \"precision_score_macro_max\", \"stepped\": true, \"type\": \"scatter\", \"data\": [0.5852318687019866, 0.6858798201743701, 0.6858798201743701, 0.6858798201743701, 0.6858798201743701, 0.6858798201743701, 0.6858798201743701, 0.6858798201743701, 0.6858798201743701, 0.6858798201743701, 0.6858798201743701, 0.6858798201743701, 0.6858798201743701, 0.6858798201743701, 0.6858798201743701, 0.6858798201743701, 0.6858798201743701, 0.6858798201743701, 0.6858798201743701, 0.6858798201743701, 0.6858798201743701, 0.6858798201743701, 0.6858798201743701, 0.6858798201743701, 0.6858798201743701, 0.6858798201743701, 0.6858798201743701, 0.6858798201743701, 0.6858798201743701, 0.6858798201743701, 0.6858798201743701, 0.6858798201743701, 0.6858798201743701, 0.6858798201743701, 0.6858798201743701, 0.6858798201743701, 0.6858798201743701, 0.6858798201743701, 0.6858798201743701, 0.6858798201743701, 0.6858798201743701, 0.6858798201743701, 0.6858798201743701, 0.6858798201743701, 0.6858798201743701, 0.6858798201743701]}], \"log_loss\": [{\"categories\": [\"0\", \"1\", \"2\", \"3\", \"4\", \"5\", \"6\", \"7\", \"8\", \"9\", \"10\", \"11\", \"12\", \"13\", \"14\", \"15\", \"16\", \"17\", \"18\", \"19\", \"20\", \"21\", \"22\", \"23\", \"24\", \"25\", \"26\", \"27\", \"28\", \"29\", \"30\", \"31\", \"32\", \"33\", \"34\", \"35\", \"36\", \"37\", \"38\", \"39\", \"40\", \"41\", \"42\", \"43\", \"46\", \"47\"], \"mode\": \"markers\", \"name\": \"log_loss\", \"stepped\": false, \"type\": \"scatter\", \"data\": [0.460055263397241, 0.4036267085056564, 0.41319694255246997, 0.42330942909830593, 0.6889695295186887, 0.6662452323288232, 0.45414666613039434, 0.4075399751660805, 0.4080993511857291, 0.4061219080694696, 0.417372419899428, 0.4073717066410003, 0.40512549746444404, 0.4058308943769575, 0.40386226033396494, 0.4575711889551137, 0.44785670011984013, 0.722468461838906, 0.41300064923651486, 0.4048244424574344, 0.40491081940995227, 0.4074739940892622, 0.406706840404958, 0.41057042847331937, 0.41129966149131064, 0.4265925158507089, 0.4074593345754218, 0.4063390453496112, 0.4052799836117538, 0.40789376459176124, 0.42660289588982375, 0.4114385625209742, 0.45874588150168033, 0.4056559704571053, 0.4986308217911534, 0.426621344681428, 0.41379792730098447, 0.453306059226148, 0.4753720839752606, 0.40690375660682704, 0.42654997830725394, 0.4105077725463837, 0.408935750417774, 0.4063546778253421, 0.40958294073884316, 0.4316393639696054]}, {\"categories\": [\"0\", \"1\", \"2\", \"3\", \"4\", \"5\", \"6\", \"7\", \"8\", \"9\", \"10\", \"11\", \"12\", \"13\", \"14\", \"15\", \"16\", \"17\", \"18\", \"19\", \"20\", \"21\", \"22\", \"23\", \"24\", \"25\", \"26\", \"27\", \"28\", \"29\", \"30\", \"31\", \"32\", \"33\", \"34\", \"35\", \"36\", \"37\", \"38\", \"39\", \"40\", \"41\", \"42\", \"43\", \"46\", \"47\"], \"mode\": \"lines\", \"name\": \"log_loss_min\", \"stepped\": true, \"type\": \"scatter\", \"data\": [0.460055263397241, 0.4036267085056564, 0.4036267085056564, 0.4036267085056564, 0.4036267085056564, 0.4036267085056564, 0.4036267085056564, 0.4036267085056564, 0.4036267085056564, 0.4036267085056564, 0.4036267085056564, 0.4036267085056564, 0.4036267085056564, 0.4036267085056564, 0.4036267085056564, 0.4036267085056564, 0.4036267085056564, 0.4036267085056564, 0.4036267085056564, 0.4036267085056564, 0.4036267085056564, 0.4036267085056564, 0.4036267085056564, 0.4036267085056564, 0.4036267085056564, 0.4036267085056564, 0.4036267085056564, 0.4036267085056564, 0.4036267085056564, 0.4036267085056564, 0.4036267085056564, 0.4036267085056564, 0.4036267085056564, 0.4036267085056564, 0.4036267085056564, 0.4036267085056564, 0.4036267085056564, 0.4036267085056564, 0.4036267085056564, 0.4036267085056564, 0.4036267085056564, 0.4036267085056564, 0.4036267085056564, 0.4036267085056564, 0.4036267085056564, 0.4036267085056564]}], \"recall_score_weighted\": [{\"categories\": [\"0\", \"1\", \"2\", \"3\", \"4\", \"5\", \"6\", \"7\", \"8\", \"9\", \"10\", \"11\", \"12\", \"13\", \"14\", \"15\", \"16\", \"17\", \"18\", \"19\", \"20\", \"21\", \"22\", \"23\", \"24\", \"25\", \"26\", \"27\", \"28\", \"29\", \"30\", \"31\", \"32\", \"33\", \"34\", \"35\", \"36\", \"37\", \"38\", \"39\", \"40\", \"41\", \"42\", \"43\", \"46\", \"47\"], \"mode\": \"markers\", \"name\": \"recall_score_weighted\", \"stepped\": false, \"type\": \"scatter\", \"data\": [0.8320762315843352, 0.8471711290024969, 0.8481155819555264, 0.8481155819555264, 0.6787595350375195, 0.6778334339348402, 0.8426897739819478, 0.8405674659064329, 0.8455206303159888, 0.8478796772610231, 0.8481155819555264, 0.8481155819555264, 0.8464642490940025, 0.8481155819555264, 0.8481155819555264, 0.8226413784842239, 0.8349062537433604, 0.7783034748728133, 0.8481155819555264, 0.8431614165359514, 0.8452847256214854, 0.8481155819555264, 0.8436333927599615, 0.8481155819555264, 0.8429253450064449, 0.8481155819555264, 0.8481155819555264, 0.8481155819555264, 0.8481155819555264, 0.8483514866500298, 0.8481155819555264, 0.8481155819555264, 0.8221722384552681, 0.8455206303159889, 0.829718018814317, 0.8481155819555264, 0.8457567018454956, 0.8455206303159888, 0.826888163490295, 0.8481155819555264, 0.8481155819555264, 0.8481155819555264, 0.8481155819555264, 0.8469360584830093, 0.8481155819555264, 0.837735775397376]}, {\"categories\": [\"0\", \"1\", \"2\", \"3\", \"4\", \"5\", \"6\", \"7\", \"8\", \"9\", \"10\", \"11\", \"12\", \"13\", \"14\", \"15\", \"16\", \"17\", \"18\", \"19\", \"20\", \"21\", \"22\", \"23\", \"24\", \"25\", \"26\", \"27\", \"28\", \"29\", \"30\", \"31\", \"32\", \"33\", \"34\", \"35\", \"36\", \"37\", \"38\", \"39\", \"40\", \"41\", \"42\", \"43\", \"46\", \"47\"], \"mode\": \"lines\", \"name\": \"recall_score_weighted_max\", \"stepped\": true, \"type\": \"scatter\", \"data\": [0.8320762315843352, 0.8471711290024969, 0.8481155819555264, 0.8481155819555264, 0.8481155819555264, 0.8481155819555264, 0.8481155819555264, 0.8481155819555264, 0.8481155819555264, 0.8481155819555264, 0.8481155819555264, 0.8481155819555264, 0.8481155819555264, 0.8481155819555264, 0.8481155819555264, 0.8481155819555264, 0.8481155819555264, 0.8481155819555264, 0.8481155819555264, 0.8481155819555264, 0.8481155819555264, 0.8481155819555264, 0.8481155819555264, 0.8481155819555264, 0.8481155819555264, 0.8481155819555264, 0.8481155819555264, 0.8481155819555264, 0.8481155819555264, 0.8483514866500298, 0.8483514866500298, 0.8483514866500298, 0.8483514866500298, 0.8483514866500298, 0.8483514866500298, 0.8483514866500298, 0.8483514866500298, 0.8483514866500298, 0.8483514866500298, 0.8483514866500298, 0.8483514866500298, 0.8483514866500298, 0.8483514866500298, 0.8483514866500298, 0.8483514866500298, 0.8483514866500298]}], \"f1_score_micro\": [{\"categories\": [\"0\", \"1\", \"2\", \"3\", \"4\", \"5\", \"6\", \"7\", \"8\", \"9\", \"10\", \"11\", \"12\", \"13\", \"14\", \"15\", \"16\", \"17\", \"18\", \"19\", \"20\", \"21\", \"22\", \"23\", \"24\", \"25\", \"26\", \"27\", \"28\", \"29\", \"30\", \"31\", \"32\", \"33\", \"34\", \"35\", \"36\", \"37\", \"38\", \"39\", \"40\", \"41\", \"42\", \"43\", \"46\", \"47\"], \"mode\": \"markers\", \"name\": \"f1_score_micro\", \"stepped\": false, \"type\": \"scatter\", \"data\": [0.8320762315843352, 0.8471711290024969, 0.8481155819555264, 0.8481155819555264, 0.6787595350375195, 0.6778334339348402, 0.8426897739819478, 0.8405674659064329, 0.8455206303159888, 0.8478796772610231, 0.8481155819555264, 0.8481155819555264, 0.8464642490940025, 0.8481155819555264, 0.8481155819555264, 0.8226413784842239, 0.8349062537433604, 0.7783034748728133, 0.8481155819555264, 0.8431614165359514, 0.8452847256214854, 0.8481155819555264, 0.8436333927599615, 0.8481155819555264, 0.8429253450064449, 0.8481155819555264, 0.8481155819555264, 0.8481155819555264, 0.8481155819555264, 0.8483514866500298, 0.8481155819555264, 0.8481155819555264, 0.8221722384552681, 0.8455206303159889, 0.829718018814317, 0.8481155819555264, 0.8457567018454956, 0.8455206303159888, 0.826888163490295, 0.8481155819555264, 0.8481155819555264, 0.8481155819555264, 0.8481155819555264, 0.8469360584830093, 0.8481155819555264, 0.837735775397376]}, {\"categories\": [\"0\", \"1\", \"2\", \"3\", \"4\", \"5\", \"6\", \"7\", \"8\", \"9\", \"10\", \"11\", \"12\", \"13\", \"14\", \"15\", \"16\", \"17\", \"18\", \"19\", \"20\", \"21\", \"22\", \"23\", \"24\", \"25\", \"26\", \"27\", \"28\", \"29\", \"30\", \"31\", \"32\", \"33\", \"34\", \"35\", \"36\", \"37\", \"38\", \"39\", \"40\", \"41\", \"42\", \"43\", \"46\", \"47\"], \"mode\": \"lines\", \"name\": \"f1_score_micro_max\", \"stepped\": true, \"type\": \"scatter\", \"data\": [0.8320762315843352, 0.8471711290024969, 0.8481155819555264, 0.8481155819555264, 0.8481155819555264, 0.8481155819555264, 0.8481155819555264, 0.8481155819555264, 0.8481155819555264, 0.8481155819555264, 0.8481155819555264, 0.8481155819555264, 0.8481155819555264, 0.8481155819555264, 0.8481155819555264, 0.8481155819555264, 0.8481155819555264, 0.8481155819555264, 0.8481155819555264, 0.8481155819555264, 0.8481155819555264, 0.8481155819555264, 0.8481155819555264, 0.8481155819555264, 0.8481155819555264, 0.8481155819555264, 0.8481155819555264, 0.8481155819555264, 0.8481155819555264, 0.8483514866500298, 0.8483514866500298, 0.8483514866500298, 0.8483514866500298, 0.8483514866500298, 0.8483514866500298, 0.8483514866500298, 0.8483514866500298, 0.8483514866500298, 0.8483514866500298, 0.8483514866500298, 0.8483514866500298, 0.8483514866500298, 0.8483514866500298, 0.8483514866500298, 0.8483514866500298, 0.8483514866500298]}], \"f1_score_weighted\": [{\"categories\": [\"0\", \"1\", \"2\", \"3\", \"4\", \"5\", \"6\", \"7\", \"8\", \"9\", \"10\", \"11\", \"12\", \"13\", \"14\", \"15\", \"16\", \"17\", \"18\", \"19\", \"20\", \"21\", \"22\", \"23\", \"24\", \"25\", \"26\", \"27\", \"28\", \"29\", \"30\", \"31\", \"32\", \"33\", \"34\", \"35\", \"36\", \"37\", \"38\", \"39\", \"40\", \"41\", \"42\", \"43\", \"46\", \"47\"], \"mode\": \"markers\", \"name\": \"f1_score_weighted\", \"stepped\": false, \"type\": \"scatter\", \"data\": [0.7899484792444041, 0.7864332384466984, 0.7784527258598235, 0.7784527258598235, 0.7051865379476773, 0.7186808258939079, 0.7778268095099002, 0.7871623863933569, 0.7784438602526759, 0.7783353626908487, 0.7784527258598235, 0.7784527258598235, 0.7780633877838222, 0.7784527258598235, 0.7784527258598235, 0.788547731362557, 0.788200829739429, 0.769634695717723, 0.7784527258598235, 0.7849650286391391, 0.7782814887686911, 0.7784527258598235, 0.7786179026102661, 0.7784527258598235, 0.7882151006944954, 0.7784527258598235, 0.7784527258598235, 0.7784527258598235, 0.7784527258598235, 0.7794720891098121, 0.7784527258598235, 0.7784527258598235, 0.7865440298324663, 0.7784062952677396, 0.78804628622837, 0.7784527258598235, 0.7814595881688806, 0.7800813301762354, 0.7875844194883586, 0.7784527258598235, 0.7784527258598235, 0.7784527258598235, 0.7784527258598235, 0.7778650168401472, 0.7784527258598235, 0.7791018916639204]}, {\"categories\": [\"0\", \"1\", \"2\", \"3\", \"4\", \"5\", \"6\", \"7\", \"8\", \"9\", \"10\", \"11\", \"12\", \"13\", \"14\", \"15\", \"16\", \"17\", \"18\", \"19\", \"20\", \"21\", \"22\", \"23\", \"24\", \"25\", \"26\", \"27\", \"28\", \"29\", \"30\", \"31\", \"32\", \"33\", \"34\", \"35\", \"36\", \"37\", \"38\", \"39\", \"40\", \"41\", \"42\", \"43\", \"46\", \"47\"], \"mode\": \"lines\", \"name\": \"f1_score_weighted_max\", \"stepped\": true, \"type\": \"scatter\", \"data\": [0.7899484792444041, 0.7899484792444041, 0.7899484792444041, 0.7899484792444041, 0.7899484792444041, 0.7899484792444041, 0.7899484792444041, 0.7899484792444041, 0.7899484792444041, 0.7899484792444041, 0.7899484792444041, 0.7899484792444041, 0.7899484792444041, 0.7899484792444041, 0.7899484792444041, 0.7899484792444041, 0.7899484792444041, 0.7899484792444041, 0.7899484792444041, 0.7899484792444041, 0.7899484792444041, 0.7899484792444041, 0.7899484792444041, 0.7899484792444041, 0.7899484792444041, 0.7899484792444041, 0.7899484792444041, 0.7899484792444041, 0.7899484792444041, 0.7899484792444041, 0.7899484792444041, 0.7899484792444041, 0.7899484792444041, 0.7899484792444041, 0.7899484792444041, 0.7899484792444041, 0.7899484792444041, 0.7899484792444041, 0.7899484792444041, 0.7899484792444041, 0.7899484792444041, 0.7899484792444041, 0.7899484792444041, 0.7899484792444041, 0.7899484792444041, 0.7899484792444041]}], \"recall_score_macro\": [{\"categories\": [\"0\", \"1\", \"2\", \"3\", \"4\", \"5\", \"6\", \"7\", \"8\", \"9\", \"10\", \"11\", \"12\", \"13\", \"14\", \"15\", \"16\", \"17\", \"18\", \"19\", \"20\", \"21\", \"22\", \"23\", \"24\", \"25\", \"26\", \"27\", \"28\", \"29\", \"30\", \"31\", \"32\", \"33\", \"34\", \"35\", \"36\", \"37\", \"38\", \"39\", \"40\", \"41\", \"42\", \"43\", \"46\", \"47\"], \"mode\": \"markers\", \"name\": \"recall_score_macro\", \"stepped\": false, \"type\": \"scatter\", \"data\": [0.5258446333822475, 0.5119042565431116, 0.5, 0.5, 0.5298584289338418, 0.6171043507419925, 0.5002234227713013, 0.5162088089550934, 0.5005652981614929, 0.49986338797814206, 0.5, 0.5, 0.49977066168351314, 0.5, 0.5, 0.5302222899984087, 0.5223560141171788, 0.5344573337500679, 0.5, 0.5112373918238396, 0.5005414932472606, 0.5, 0.5016499130909512, 0.5, 0.5163788586710487, 0.5, 0.5, 0.5, 0.5, 0.5014776965872694, 0.5, 0.5, 0.5270820346555075, 0.5006781052691186, 0.5243627010493289, 0.5, 0.5054447483566373, 0.5033569479947073, 0.5243206561591333, 0.5, 0.5, 0.5, 0.5, 0.4993169398907104, 0.5, 0.5078010419321045]}, {\"categories\": [\"0\", \"1\", \"2\", \"3\", \"4\", \"5\", \"6\", \"7\", \"8\", \"9\", \"10\", \"11\", \"12\", \"13\", \"14\", \"15\", \"16\", \"17\", \"18\", \"19\", \"20\", \"21\", \"22\", \"23\", \"24\", \"25\", \"26\", \"27\", \"28\", \"29\", \"30\", \"31\", \"32\", \"33\", \"34\", \"35\", \"36\", \"37\", \"38\", \"39\", \"40\", \"41\", \"42\", \"43\", \"46\", \"47\"], \"mode\": \"lines\", \"name\": \"recall_score_macro_max\", \"stepped\": true, \"type\": \"scatter\", \"data\": [0.5258446333822475, 0.5258446333822475, 0.5258446333822475, 0.5258446333822475, 0.5298584289338418, 0.6171043507419925, 0.6171043507419925, 0.6171043507419925, 0.6171043507419925, 0.6171043507419925, 0.6171043507419925, 0.6171043507419925, 0.6171043507419925, 0.6171043507419925, 0.6171043507419925, 0.6171043507419925, 0.6171043507419925, 0.6171043507419925, 0.6171043507419925, 0.6171043507419925, 0.6171043507419925, 0.6171043507419925, 0.6171043507419925, 0.6171043507419925, 0.6171043507419925, 0.6171043507419925, 0.6171043507419925, 0.6171043507419925, 0.6171043507419925, 0.6171043507419925, 0.6171043507419925, 0.6171043507419925, 0.6171043507419925, 0.6171043507419925, 0.6171043507419925, 0.6171043507419925, 0.6171043507419925, 0.6171043507419925, 0.6171043507419925, 0.6171043507419925, 0.6171043507419925, 0.6171043507419925, 0.6171043507419925, 0.6171043507419925, 0.6171043507419925, 0.6171043507419925]}], \"precision_score_micro\": [{\"categories\": [\"0\", \"1\", \"2\", \"3\", \"4\", \"5\", \"6\", \"7\", \"8\", \"9\", \"10\", \"11\", \"12\", \"13\", \"14\", \"15\", \"16\", \"17\", \"18\", \"19\", \"20\", \"21\", \"22\", \"23\", \"24\", \"25\", \"26\", \"27\", \"28\", \"29\", \"30\", \"31\", \"32\", \"33\", \"34\", \"35\", \"36\", \"37\", \"38\", \"39\", \"40\", \"41\", \"42\", \"43\", \"46\", \"47\"], \"mode\": \"markers\", \"name\": \"precision_score_micro\", \"stepped\": false, \"type\": \"scatter\", \"data\": [0.8320762315843352, 0.8471711290024969, 0.8481155819555264, 0.8481155819555264, 0.6787595350375195, 0.6778334339348402, 0.8426897739819478, 0.8405674659064329, 0.8455206303159888, 0.8478796772610231, 0.8481155819555264, 0.8481155819555264, 0.8464642490940025, 0.8481155819555264, 0.8481155819555264, 0.8226413784842239, 0.8349062537433604, 0.7783034748728133, 0.8481155819555264, 0.8431614165359514, 0.8452847256214854, 0.8481155819555264, 0.8436333927599615, 0.8481155819555264, 0.8429253450064449, 0.8481155819555264, 0.8481155819555264, 0.8481155819555264, 0.8481155819555264, 0.8483514866500298, 0.8481155819555264, 0.8481155819555264, 0.8221722384552681, 0.8455206303159889, 0.829718018814317, 0.8481155819555264, 0.8457567018454956, 0.8455206303159888, 0.826888163490295, 0.8481155819555264, 0.8481155819555264, 0.8481155819555264, 0.8481155819555264, 0.8469360584830093, 0.8481155819555264, 0.837735775397376]}, {\"categories\": [\"0\", \"1\", \"2\", \"3\", \"4\", \"5\", \"6\", \"7\", \"8\", \"9\", \"10\", \"11\", \"12\", \"13\", \"14\", \"15\", \"16\", \"17\", \"18\", \"19\", \"20\", \"21\", \"22\", \"23\", \"24\", \"25\", \"26\", \"27\", \"28\", \"29\", \"30\", \"31\", \"32\", \"33\", \"34\", \"35\", \"36\", \"37\", \"38\", \"39\", \"40\", \"41\", \"42\", \"43\", \"46\", \"47\"], \"mode\": \"lines\", \"name\": \"precision_score_micro_max\", \"stepped\": true, \"type\": \"scatter\", \"data\": [0.8320762315843352, 0.8471711290024969, 0.8481155819555264, 0.8481155819555264, 0.8481155819555264, 0.8481155819555264, 0.8481155819555264, 0.8481155819555264, 0.8481155819555264, 0.8481155819555264, 0.8481155819555264, 0.8481155819555264, 0.8481155819555264, 0.8481155819555264, 0.8481155819555264, 0.8481155819555264, 0.8481155819555264, 0.8481155819555264, 0.8481155819555264, 0.8481155819555264, 0.8481155819555264, 0.8481155819555264, 0.8481155819555264, 0.8481155819555264, 0.8481155819555264, 0.8481155819555264, 0.8481155819555264, 0.8481155819555264, 0.8481155819555264, 0.8483514866500298, 0.8483514866500298, 0.8483514866500298, 0.8483514866500298, 0.8483514866500298, 0.8483514866500298, 0.8483514866500298, 0.8483514866500298, 0.8483514866500298, 0.8483514866500298, 0.8483514866500298, 0.8483514866500298, 0.8483514866500298, 0.8483514866500298, 0.8483514866500298, 0.8483514866500298, 0.8483514866500298]}], \"average_precision_score_micro\": [{\"categories\": [\"0\", \"1\", \"2\", \"3\", \"4\", \"5\", \"6\", \"7\", \"8\", \"9\", \"10\", \"11\", \"12\", \"13\", \"14\", \"15\", \"16\", \"17\", \"18\", \"19\", \"20\", \"21\", \"22\", \"23\", \"24\", \"25\", \"26\", \"27\", \"28\", \"29\", \"30\", \"31\", \"32\", \"33\", \"34\", \"35\", \"36\", \"37\", \"38\", \"39\", \"40\", \"41\", \"42\", \"43\", \"46\", \"47\"], \"mode\": \"markers\", \"name\": \"average_precision_score_micro\", \"stepped\": false, \"type\": \"scatter\", \"data\": [0.8592287392735471, 0.8779004009511157, 0.8700052526615378, 0.8368542903263387, 0.6949483645452061, 0.6539788536754184, 0.870825120001677, 0.8770033013455004, 0.8713137357765315, 0.8735587805290579, 0.871107065820028, 0.8732557877167465, 0.8743823220854501, 0.8753015410401607, 0.8768322362659365, 0.8632146433241422, 0.8602038252313905, 0.8233914709021084, 0.8721621322720777, 0.8779226990633434, 0.8752929734536917, 0.8705650411044017, 0.8721762682375748, 0.8723387093507139, 0.8733524314068237, 0.7953631303377638, 0.8762782948419883, 0.8791812737089848, 0.8737578060511814, 0.8749088336505139, 0.7953631303377638, 0.8750081767251867, 0.8659337953888081, 0.8724354597884579, 0.8547320284806887, 0.7953631303377638, 0.8662955487233565, 0.872497767242303, 0.8578223660767971, 0.8746036597705782, 0.7953631303377638, 0.8727558490381025, 0.872992850839343, 0.873110517460459, 0.8770282659249488, 0.8761342873867095]}, {\"categories\": [\"0\", \"1\", \"2\", \"3\", \"4\", \"5\", \"6\", \"7\", \"8\", \"9\", \"10\", \"11\", \"12\", \"13\", \"14\", \"15\", \"16\", \"17\", \"18\", \"19\", \"20\", \"21\", \"22\", \"23\", \"24\", \"25\", \"26\", \"27\", \"28\", \"29\", \"30\", \"31\", \"32\", \"33\", \"34\", \"35\", \"36\", \"37\", \"38\", \"39\", \"40\", \"41\", \"42\", \"43\", \"46\", \"47\"], \"mode\": \"lines\", \"name\": \"average_precision_score_micro_max\", \"stepped\": true, \"type\": \"scatter\", \"data\": [0.8592287392735471, 0.8779004009511157, 0.8779004009511157, 0.8779004009511157, 0.8779004009511157, 0.8779004009511157, 0.8779004009511157, 0.8779004009511157, 0.8779004009511157, 0.8779004009511157, 0.8779004009511157, 0.8779004009511157, 0.8779004009511157, 0.8779004009511157, 0.8779004009511157, 0.8779004009511157, 0.8779004009511157, 0.8779004009511157, 0.8779004009511157, 0.8779226990633434, 0.8779226990633434, 0.8779226990633434, 0.8779226990633434, 0.8779226990633434, 0.8779226990633434, 0.8779226990633434, 0.8779226990633434, 0.8791812737089848, 0.8791812737089848, 0.8791812737089848, 0.8791812737089848, 0.8791812737089848, 0.8791812737089848, 0.8791812737089848, 0.8791812737089848, 0.8791812737089848, 0.8791812737089848, 0.8791812737089848, 0.8791812737089848, 0.8791812737089848, 0.8791812737089848, 0.8791812737089848, 0.8791812737089848, 0.8791812737089848, 0.8791812737089848, 0.8791812737089848]}]}, \"metricName\": null, \"primaryMetricName\": \"accuracy\", \"showLegend\": false}, \"run_metrics\": [{\"name\": \"experiment_status\", \"run_id\": \"AutoML_4b35e636-39de-4f43-a5a1-8631d7dd0fcc\", \"categories\": [0, 1, 2, 3, 4, 5, 6, 7, 8, 9, 10, 11, 12, 13, 14], \"series\": [{\"data\": [\"DatasetEvaluation\", \"FeaturesGeneration\", \"DatasetFeaturization\", \"DatasetFeaturizationCompleted\", \"DatasetBalancing\", \"DatasetCrossValidationSplit\", \"ModelSelection\", \"BestRunExplainModel\", \"ModelExplanationDataSetSetup\", \"PickSurrogateModel\", \"EngineeredFeatureExplanations\", \"EngineeredFeatureExplanations\", \"RawFeaturesExplanations\", \"RawFeaturesExplanations\", \"BestRunExplainModel\"]}]}, {\"name\": \"experiment_status_description\", \"run_id\": \"AutoML_4b35e636-39de-4f43-a5a1-8631d7dd0fcc\", \"categories\": [0, 1, 2, 3, 4, 5, 6, 7, 8, 9, 10, 11, 12, 13, 14], \"series\": [{\"data\": [\"Gathering dataset statistics.\", \"Generating features for the dataset.\", \"Beginning to fit featurizers and featurize the dataset.\", \"Completed fit featurizers and featurizing the dataset.\", \"Performing class balancing sweeping\", \"Generating individually featurized CV splits.\", \"Beginning model selection.\", \"Best run model explanations started\", \"Model explanations data setup completed\", \"Choosing LinearModel as the surrogate model for explanations\", \"Computation of engineered features started\", \"Computation of engineered features completed\", \"Computation of raw features started\", \"Computation of raw features completed\", \"Best run model explanations completed\"]}]}, {\"name\": \"recall_score_weighted\", \"run_id\": \"AutoML_4b35e636-39de-4f43-a5a1-8631d7dd0fcc\", \"categories\": [0], \"series\": [{\"data\": [0.8483514866500298]}]}, {\"name\": \"precision_score_macro\", \"run_id\": \"AutoML_4b35e636-39de-4f43-a5a1-8631d7dd0fcc\", \"categories\": [0], \"series\": [{\"data\": [0.6742431338659539]}]}, {\"name\": \"norm_macro_recall\", \"run_id\": \"AutoML_4b35e636-39de-4f43-a5a1-8631d7dd0fcc\", \"categories\": [0], \"series\": [{\"data\": [0.002955393174538671]}]}, {\"name\": \"recall_score_macro\", \"run_id\": \"AutoML_4b35e636-39de-4f43-a5a1-8631d7dd0fcc\", \"categories\": [0], \"series\": [{\"data\": [0.5014776965872694]}]}, {\"name\": \"balanced_accuracy\", \"run_id\": \"AutoML_4b35e636-39de-4f43-a5a1-8631d7dd0fcc\", \"categories\": [0], \"series\": [{\"data\": [0.5014776965872694]}]}, {\"name\": \"f1_score_micro\", \"run_id\": \"AutoML_4b35e636-39de-4f43-a5a1-8631d7dd0fcc\", \"categories\": [0], \"series\": [{\"data\": [0.8483514866500298]}]}, {\"name\": \"f1_score_weighted\", \"run_id\": \"AutoML_4b35e636-39de-4f43-a5a1-8631d7dd0fcc\", \"categories\": [0], \"series\": [{\"data\": [0.7794720891098121]}]}, {\"name\": \"average_precision_score_macro\", \"run_id\": \"AutoML_4b35e636-39de-4f43-a5a1-8631d7dd0fcc\", \"categories\": [0], \"series\": [{\"data\": [0.592678712631928]}]}, {\"name\": \"AUC_weighted\", \"run_id\": \"AutoML_4b35e636-39de-4f43-a5a1-8631d7dd0fcc\", \"categories\": [0], \"series\": [{\"data\": [0.670454752888623]}]}, {\"name\": \"AUC_micro\", \"run_id\": \"AutoML_4b35e636-39de-4f43-a5a1-8631d7dd0fcc\", \"categories\": [0], \"series\": [{\"data\": [0.8924501161718448]}]}, {\"name\": \"precision_score_micro\", \"run_id\": \"AutoML_4b35e636-39de-4f43-a5a1-8631d7dd0fcc\", \"categories\": [0], \"series\": [{\"data\": [0.8483514866500298]}]}, {\"name\": \"average_precision_score_weighted\", \"run_id\": \"AutoML_4b35e636-39de-4f43-a5a1-8631d7dd0fcc\", \"categories\": [0], \"series\": [{\"data\": [0.8118338834751732]}]}, {\"name\": \"AUC_macro\", \"run_id\": \"AutoML_4b35e636-39de-4f43-a5a1-8631d7dd0fcc\", \"categories\": [0], \"series\": [{\"data\": [0.670454752888623]}]}, {\"name\": \"matthews_correlation\", \"run_id\": \"AutoML_4b35e636-39de-4f43-a5a1-8631d7dd0fcc\", \"categories\": [0], \"series\": [{\"data\": [0.03382706830050287]}]}, {\"name\": \"precision_score_weighted\", \"run_id\": \"AutoML_4b35e636-39de-4f43-a5a1-8631d7dd0fcc\", \"categories\": [0], \"series\": [{\"data\": [0.7948725369119595]}]}, {\"name\": \"recall_score_micro\", \"run_id\": \"AutoML_4b35e636-39de-4f43-a5a1-8631d7dd0fcc\", \"categories\": [0], \"series\": [{\"data\": [0.8483514866500298]}]}, {\"name\": \"log_loss\", \"run_id\": \"AutoML_4b35e636-39de-4f43-a5a1-8631d7dd0fcc\", \"categories\": [0], \"series\": [{\"data\": [0.40789376459176124]}]}, {\"name\": \"f1_score_macro\", \"run_id\": \"AutoML_4b35e636-39de-4f43-a5a1-8631d7dd0fcc\", \"categories\": [0], \"series\": [{\"data\": [0.46214267230142564]}]}, {\"name\": \"weighted_accuracy\", \"run_id\": \"AutoML_4b35e636-39de-4f43-a5a1-8631d7dd0fcc\", \"categories\": [0], \"series\": [{\"data\": [0.9684948752328989]}]}, {\"name\": \"average_precision_score_micro\", \"run_id\": \"AutoML_4b35e636-39de-4f43-a5a1-8631d7dd0fcc\", \"categories\": [0], \"series\": [{\"data\": [0.8749088336505139]}]}, {\"name\": \"accuracy\", \"run_id\": \"AutoML_4b35e636-39de-4f43-a5a1-8631d7dd0fcc\", \"categories\": [0], \"series\": [{\"data\": [0.8483514866500298]}]}], \"run_logs\": \"\\nRun is completed.\", \"graph\": {}, \"widget_settings\": {\"childWidgetDisplay\": \"popup\", \"send_telemetry\": false, \"log_level\": \"INFO\", \"sdk_version\": \"1.24.0\"}, \"loading\": false}"
     },
     "metadata": {},
     "output_type": "display_data"
    }
   ],
   "source": [
    "RunDetails(remote_run).show()"
   ]
  },
  {
   "cell_type": "code",
   "execution_count": 10,
   "metadata": {
    "gather": {
     "logged": 1617562172462
    }
   },
   "outputs": [
    {
     "name": "stdout",
     "output_type": "stream",
     "text": [
      "\n",
      "\n",
      "****************************************************************************************************\n",
      "DATA GUARDRAILS: \n",
      "\n",
      "TYPE:         Cross validation\n",
      "STATUS:       DONE\n",
      "DESCRIPTION:  Each iteration of the trained model was validated through cross-validation.\n",
      "              \n",
      "DETAILS:      \n",
      "+---------------------------------+\n",
      "|Number of folds                  |\n",
      "+=================================+\n",
      "|3                                |\n",
      "+---------------------------------+\n",
      "\n",
      "****************************************************************************************************\n",
      "\n",
      "TYPE:         Class balancing detection\n",
      "STATUS:       ALERTED\n",
      "DESCRIPTION:  To decrease model bias, please cancel the current run and fix balancing problem.\n",
      "              Learn more about imbalanced data: https://aka.ms/AutomatedMLImbalancedData\n",
      "DETAILS:      Imbalanced data can lead to a falsely perceived positive effect of a model's accuracy because the input data has bias towards one class.\n",
      "+---------------------------------+---------------------------------+--------------------------------------+\n",
      "|Size of the smallest class       |Name/Label of the smallest class |Number of samples in the training data|\n",
      "+=================================+=================================+======================================+\n",
      "|644                              |1                                |4240                                  |\n",
      "+---------------------------------+---------------------------------+--------------------------------------+\n",
      "\n",
      "****************************************************************************************************\n",
      "\n",
      "TYPE:         Missing feature values imputation\n",
      "STATUS:       DONE\n",
      "DESCRIPTION:  If the missing values are expected, let the run complete. Otherwise cancel the current run and use a script to customize the handling of missing feature values that may be more appropriate based on the data type and business requirement.\n",
      "              Learn more about missing value imputation: https://aka.ms/AutomatedMLFeaturization\n",
      "DETAILS:      \n",
      "+---------------------------------+---------------------------------+---------------------------------+\n",
      "|Column name                      |Missing value count              |Imputation type                  |\n",
      "+=================================+=================================+=================================+\n",
      "|heartRate                        |1                                |mean                             |\n",
      "+---------------------------------+---------------------------------+---------------------------------+\n",
      "\n",
      "****************************************************************************************************\n",
      "\n",
      "TYPE:         High cardinality feature detection\n",
      "STATUS:       DONE\n",
      "DESCRIPTION:  High cardinality features were detected in your inputs and handled.\n",
      "              Learn more about high cardinality feature handling: https://aka.ms/AutomatedMLFeaturization\n",
      "DETAILS:      High cardinality features refer to columns that contain a large percentage of unique values.\n",
      "+---------------------------------+---------------------------------+\n",
      "|Column name                      |Column Content Type              |\n",
      "+=================================+=================================+\n",
      "|totChol                          |categorical_hash                 |\n",
      "|BMI                              |categorical_hash                 |\n",
      "+---------------------------------+---------------------------------+\n",
      "\n",
      "****************************************************************************************************\n",
      "\n",
      "****************************************************************************************************\n",
      "ITERATION: The iteration being evaluated.\n",
      "PIPELINE: A summary description of the pipeline being evaluated.\n",
      "DURATION: Time taken for the current iteration.\n",
      "METRIC: The result of computing score on the fitted pipeline.\n",
      "BEST: The best observed score thus far.\n",
      "****************************************************************************************************\n",
      "\n",
      " ITERATION   PIPELINE                                       DURATION      METRIC      BEST\n",
      "         0   MaxAbsScaler LightGBM                          0:00:45       0.8321    0.8321\n",
      "         1   MaxAbsScaler XGBoostClassifier                 0:00:42       0.8472    0.8472\n",
      "         2   MaxAbsScaler RandomForest                      0:05:00       0.8481    0.8481\n",
      "         3   MaxAbsScaler RandomForest                      0:02:07       0.8481    0.8481\n",
      "         4   MaxAbsScaler RandomForest                      0:00:45       0.6788    0.8481\n",
      "         5   MaxAbsScaler RandomForest                      0:00:40       0.6778    0.8481\n",
      "         6   SparseNormalizer XGBoostClassifier             0:00:51       0.8427    0.8481\n",
      "         7   SparseNormalizer XGBoostClassifier             0:00:42       0.8406    0.8481\n",
      "        10   StandardScalerWrapper GradientBoosting         0:00:45       0.8481    0.8481\n",
      "        11   MaxAbsScaler RandomForest                      0:00:49       0.8481    0.8481\n",
      "         8   StandardScalerWrapper LightGBM                 0:00:46       0.8455    0.8481\n",
      "         9   MaxAbsScaler GradientBoosting                  0:00:41       0.8479    0.8481\n",
      "        12   SparseNormalizer LightGBM                      0:00:46       0.8465    0.8481\n",
      "        13   MaxAbsScaler LightGBM                          0:00:42       0.8481    0.8481\n",
      "        14   StandardScalerWrapper RandomForest             0:00:42       0.8481    0.8481\n",
      "        15   MaxAbsScaler LogisticRegression                0:00:49       0.8226    0.8481\n",
      "        16   SparseNormalizer XGBoostClassifier             0:00:48       0.8349    0.8481\n",
      "        17   MaxAbsScaler LogisticRegression                0:01:01       0.7783    0.8481\n",
      "        18   SparseNormalizer RandomForest                  0:00:38       0.8481    0.8481\n",
      "        19   SparseNormalizer XGBoostClassifier             0:00:40       0.8432    0.8481\n",
      "        20   SparseNormalizer LightGBM                      0:00:40       0.8453    0.8481\n",
      "        21   MaxAbsScaler LightGBM                          0:00:45       0.8481    0.8481\n",
      "        22   SparseNormalizer LightGBM                      0:00:40       0.8436    0.8481\n",
      "        23   StandardScalerWrapper LightGBM                 0:00:39       0.8481    0.8481\n",
      "        24   StandardScalerWrapper XGBoostClassifier        0:00:46       0.8429    0.8481\n",
      "        25   MaxAbsScaler RandomForest                      0:00:46       0.8481    0.8481\n",
      "        26   StandardScalerWrapper ExtremeRandomTrees       0:00:46       0.8481    0.8481\n",
      "        27   MaxAbsScaler LightGBM                          0:00:43       0.8481    0.8481\n",
      "        28   SparseNormalizer LightGBM                      0:00:42       0.8481    0.8481\n",
      "        29   SparseNormalizer XGBoostClassifier             0:00:43       0.8484    0.8484\n",
      "        30   StandardScalerWrapper RandomForest             0:00:43       0.8481    0.8484\n",
      "        31   MaxAbsScaler LightGBM                          0:00:40       0.8481    0.8484\n",
      "        32   StandardScalerWrapper XGBoostClassifier        0:00:52       0.8222    0.8484\n",
      "        33   MaxAbsScaler LightGBM                          0:00:42       0.8455    0.8484\n",
      "        34   StandardScalerWrapper XGBoostClassifier        0:00:58       0.8297    0.8484\n",
      "        35   SparseNormalizer XGBoostClassifier             0:00:40       0.8481    0.8484\n",
      "        36   MaxAbsScaler LightGBM                          0:00:43       0.8458    0.8484\n",
      "        37   SparseNormalizer XGBoostClassifier             0:00:37       0.8455    0.8484\n",
      "        38   StandardScalerWrapper XGBoostClassifier        0:00:55       0.8269    0.8484\n",
      "        39   StandardScalerWrapper LightGBM                 0:00:39       0.8481    0.8484\n",
      "        40   SparseNormalizer XGBoostClassifier             0:00:42       0.8481    0.8484\n",
      "        41   MaxAbsScaler LightGBM                          0:00:42       0.8481    0.8484\n",
      "        42   StandardScalerWrapper LightGBM                 0:00:41       0.8481    0.8484\n",
      "        43   StandardScalerWrapper LightGBM                 0:00:42       0.8469    0.8484\n",
      "        44   MaxAbsScaler LightGBM                          0:00:27          nan    0.8484\n",
      "        45                                                  0:00:15          nan    0.8484\n",
      "        46    VotingEnsemble                                0:01:11       0.8481    0.8484\n",
      "        47    StackEnsemble                                 0:01:04       0.8377    0.8484\n"
     ]
    },
    {
     "data": {
      "text/plain": [
       "{'runId': 'AutoML_4b35e636-39de-4f43-a5a1-8631d7dd0fcc',\n",
       " 'target': 'Compute-Cluster',\n",
       " 'status': 'Completed',\n",
       " 'startTimeUtc': '2021-04-04T18:22:43.499525Z',\n",
       " 'endTimeUtc': '2021-04-04T18:44:43.292266Z',\n",
       " 'properties': {'num_iterations': '1000',\n",
       "  'training_type': 'TrainFull',\n",
       "  'acquisition_function': 'EI',\n",
       "  'primary_metric': 'accuracy',\n",
       "  'train_split': '0',\n",
       "  'acquisition_parameter': '0',\n",
       "  'num_cross_validation': None,\n",
       "  'target': 'Compute-Cluster',\n",
       "  'AMLSettingsJsonString': '{\"path\":null,\"name\":\"Framingham-Experiment\",\"subscription_id\":\"61c5c3f0-6dc7-4ed9-a7f3-c704b20e3b30\",\"resource_group\":\"aml-quickstarts-141942\",\"workspace_name\":\"quick-starts-ws-141942\",\"region\":\"westus2\",\"compute_target\":\"Compute-Cluster\",\"spark_service\":null,\"azure_service\":\"remote\",\"many_models\":false,\"pipeline_fetch_max_batch_size\":1,\"enable_batch_run\":false,\"iterations\":1000,\"primary_metric\":\"accuracy\",\"task_type\":\"classification\",\"data_script\":null,\"validation_size\":0.0,\"n_cross_validations\":null,\"y_min\":null,\"y_max\":null,\"num_classes\":null,\"featurization\":\"auto\",\"_ignore_package_version_incompatibilities\":false,\"is_timeseries\":false,\"max_cores_per_iteration\":1,\"max_concurrent_iterations\":4,\"iteration_timeout_minutes\":null,\"mem_in_mb\":null,\"enforce_time_on_windows\":false,\"experiment_timeout_minutes\":30,\"experiment_exit_score\":null,\"whitelist_models\":null,\"blacklist_algos\":[\"TensorFlowLinearClassifier\",\"TensorFlowDNN\"],\"supported_models\":[\"GradientBoosting\",\"TensorFlowDNN\",\"BernoulliNaiveBayes\",\"SVM\",\"KNN\",\"MultinomialNaiveBayes\",\"RandomForest\",\"LogisticRegression\",\"DecisionTree\",\"ExtremeRandomTrees\",\"TensorFlowLinearClassifier\",\"XGBoostClassifier\",\"SGD\",\"LinearSVM\",\"AveragedPerceptronClassifier\",\"LightGBM\"],\"private_models\":[],\"auto_blacklist\":true,\"blacklist_samples_reached\":false,\"exclude_nan_labels\":true,\"verbosity\":20,\"_debug_log\":\"azureml_automl.log\",\"show_warnings\":false,\"model_explainability\":true,\"service_url\":null,\"sdk_url\":null,\"sdk_packages\":null,\"enable_onnx_compatible_models\":false,\"enable_split_onnx_featurizer_estimator_models\":false,\"vm_type\":\"STANDARD_D2_V2\",\"telemetry_verbosity\":20,\"send_telemetry\":true,\"enable_dnn\":false,\"scenario\":\"SDK-1.13.0\",\"environment_label\":null,\"save_mlflow\":false,\"force_text_dnn\":false,\"enable_feature_sweeping\":true,\"enable_early_stopping\":true,\"early_stopping_n_iters\":10,\"metrics\":null,\"enable_metric_confidence\":false,\"enable_ensembling\":true,\"enable_stack_ensembling\":true,\"ensemble_iterations\":15,\"enable_tf\":false,\"enable_subsampling\":null,\"subsample_seed\":null,\"enable_nimbusml\":false,\"enable_streaming\":false,\"force_streaming\":false,\"track_child_runs\":true,\"allowed_private_models\":[],\"label_column_name\":\"TenYearCHD\",\"weight_column_name\":null,\"cv_split_column_names\":null,\"enable_local_managed\":false,\"_local_managed_run_id\":null,\"cost_mode\":1,\"lag_length\":0,\"metric_operation\":\"maximize\",\"preprocess\":true}',\n",
       "  'DataPrepJsonString': '{\\\\\"training_data\\\\\": \\\\\"{\\\\\\\\\\\\\"blocks\\\\\\\\\\\\\": [{\\\\\\\\\\\\\"id\\\\\\\\\\\\\": \\\\\\\\\\\\\"f29f627f-2e1c-4534-9b46-499ba1ff2a28\\\\\\\\\\\\\", \\\\\\\\\\\\\"type\\\\\\\\\\\\\": \\\\\\\\\\\\\"Microsoft.DPrep.GetFilesBlock\\\\\\\\\\\\\", \\\\\\\\\\\\\"arguments\\\\\\\\\\\\\": {\\\\\\\\\\\\\"isArchive\\\\\\\\\\\\\": false, \\\\\\\\\\\\\"path\\\\\\\\\\\\\": {\\\\\\\\\\\\\"target\\\\\\\\\\\\\": 4, \\\\\\\\\\\\\"resourceDetails\\\\\\\\\\\\\": [{\\\\\\\\\\\\\"path\\\\\\\\\\\\\": \\\\\\\\\\\\\"https://raw.githubusercontent.com/Haris-09/Coronary-Heart-Disease-Prediction-Capstone-Project/master/starter_file/framingham.csv\\\\\\\\\\\\\"}]}}, \\\\\\\\\\\\\"localData\\\\\\\\\\\\\": {}, \\\\\\\\\\\\\"isEnabled\\\\\\\\\\\\\": true, \\\\\\\\\\\\\"name\\\\\\\\\\\\\": null, \\\\\\\\\\\\\"annotation\\\\\\\\\\\\\": null}, {\\\\\\\\\\\\\"id\\\\\\\\\\\\\": \\\\\\\\\\\\\"a98cc8e6-8f68-4536-bc82-c8ff56ce8e43\\\\\\\\\\\\\", \\\\\\\\\\\\\"type\\\\\\\\\\\\\": \\\\\\\\\\\\\"Microsoft.DPrep.ParseDelimitedBlock\\\\\\\\\\\\\", \\\\\\\\\\\\\"arguments\\\\\\\\\\\\\": {\\\\\\\\\\\\\"columnHeadersMode\\\\\\\\\\\\\": 3, \\\\\\\\\\\\\"fileEncoding\\\\\\\\\\\\\": 0, \\\\\\\\\\\\\"handleQuotedLineBreaks\\\\\\\\\\\\\": false, \\\\\\\\\\\\\"preview\\\\\\\\\\\\\": false, \\\\\\\\\\\\\"separator\\\\\\\\\\\\\": \\\\\\\\\\\\\",\\\\\\\\\\\\\", \\\\\\\\\\\\\"skipRows\\\\\\\\\\\\\": 0, \\\\\\\\\\\\\"skipRowsMode\\\\\\\\\\\\\": 0}, \\\\\\\\\\\\\"localData\\\\\\\\\\\\\": {}, \\\\\\\\\\\\\"isEnabled\\\\\\\\\\\\\": true, \\\\\\\\\\\\\"name\\\\\\\\\\\\\": null, \\\\\\\\\\\\\"annotation\\\\\\\\\\\\\": null}, {\\\\\\\\\\\\\"id\\\\\\\\\\\\\": \\\\\\\\\\\\\"3929b53f-b1d5-46af-adba-627ddd1944a0\\\\\\\\\\\\\", \\\\\\\\\\\\\"type\\\\\\\\\\\\\": \\\\\\\\\\\\\"Microsoft.DPrep.DropColumnsBlock\\\\\\\\\\\\\", \\\\\\\\\\\\\"arguments\\\\\\\\\\\\\": {\\\\\\\\\\\\\"columns\\\\\\\\\\\\\": {\\\\\\\\\\\\\"type\\\\\\\\\\\\\": 0, \\\\\\\\\\\\\"details\\\\\\\\\\\\\": {\\\\\\\\\\\\\"selectedColumns\\\\\\\\\\\\\": [\\\\\\\\\\\\\"Path\\\\\\\\\\\\\"]}}}, \\\\\\\\\\\\\"localData\\\\\\\\\\\\\": {}, \\\\\\\\\\\\\"isEnabled\\\\\\\\\\\\\": true, \\\\\\\\\\\\\"name\\\\\\\\\\\\\": null, \\\\\\\\\\\\\"annotation\\\\\\\\\\\\\": null}, {\\\\\\\\\\\\\"id\\\\\\\\\\\\\": \\\\\\\\\\\\\"a6257e06-073d-4fb3-94aa-e6250e43c4da\\\\\\\\\\\\\", \\\\\\\\\\\\\"type\\\\\\\\\\\\\": \\\\\\\\\\\\\"Microsoft.DPrep.SetColumnTypesBlock\\\\\\\\\\\\\", \\\\\\\\\\\\\"arguments\\\\\\\\\\\\\": {\\\\\\\\\\\\\"columnConversion\\\\\\\\\\\\\": [{\\\\\\\\\\\\\"column\\\\\\\\\\\\\": {\\\\\\\\\\\\\"type\\\\\\\\\\\\\": 2, \\\\\\\\\\\\\"details\\\\\\\\\\\\\": {\\\\\\\\\\\\\"selectedColumn\\\\\\\\\\\\\": \\\\\\\\\\\\\"male\\\\\\\\\\\\\"}}, \\\\\\\\\\\\\"typeProperty\\\\\\\\\\\\\": 2}, {\\\\\\\\\\\\\"column\\\\\\\\\\\\\": {\\\\\\\\\\\\\"type\\\\\\\\\\\\\": 2, \\\\\\\\\\\\\"details\\\\\\\\\\\\\": {\\\\\\\\\\\\\"selectedColumn\\\\\\\\\\\\\": \\\\\\\\\\\\\"age\\\\\\\\\\\\\"}}, \\\\\\\\\\\\\"typeProperty\\\\\\\\\\\\\": 2}, {\\\\\\\\\\\\\"column\\\\\\\\\\\\\": {\\\\\\\\\\\\\"type\\\\\\\\\\\\\": 2, \\\\\\\\\\\\\"details\\\\\\\\\\\\\": {\\\\\\\\\\\\\"selectedColumn\\\\\\\\\\\\\": \\\\\\\\\\\\\"education\\\\\\\\\\\\\"}}, \\\\\\\\\\\\\"typeProperty\\\\\\\\\\\\\": 0}, {\\\\\\\\\\\\\"column\\\\\\\\\\\\\": {\\\\\\\\\\\\\"type\\\\\\\\\\\\\": 2, \\\\\\\\\\\\\"details\\\\\\\\\\\\\": {\\\\\\\\\\\\\"selectedColumn\\\\\\\\\\\\\": \\\\\\\\\\\\\"currentSmoker\\\\\\\\\\\\\"}}, \\\\\\\\\\\\\"typeProperty\\\\\\\\\\\\\": 2}, {\\\\\\\\\\\\\"column\\\\\\\\\\\\\": {\\\\\\\\\\\\\"type\\\\\\\\\\\\\": 2, \\\\\\\\\\\\\"details\\\\\\\\\\\\\": {\\\\\\\\\\\\\"selectedColumn\\\\\\\\\\\\\": \\\\\\\\\\\\\"cigsPerDay\\\\\\\\\\\\\"}}, \\\\\\\\\\\\\"typeProperty\\\\\\\\\\\\\": 0}, {\\\\\\\\\\\\\"column\\\\\\\\\\\\\": {\\\\\\\\\\\\\"type\\\\\\\\\\\\\": 2, \\\\\\\\\\\\\"details\\\\\\\\\\\\\": {\\\\\\\\\\\\\"selectedColumn\\\\\\\\\\\\\": \\\\\\\\\\\\\"BPMeds\\\\\\\\\\\\\"}}, \\\\\\\\\\\\\"typeProperty\\\\\\\\\\\\\": 0}, {\\\\\\\\\\\\\"column\\\\\\\\\\\\\": {\\\\\\\\\\\\\"type\\\\\\\\\\\\\": 2, \\\\\\\\\\\\\"details\\\\\\\\\\\\\": {\\\\\\\\\\\\\"selectedColumn\\\\\\\\\\\\\": \\\\\\\\\\\\\"prevalentStroke\\\\\\\\\\\\\"}}, \\\\\\\\\\\\\"typeProperty\\\\\\\\\\\\\": 2}, {\\\\\\\\\\\\\"column\\\\\\\\\\\\\": {\\\\\\\\\\\\\"type\\\\\\\\\\\\\": 2, \\\\\\\\\\\\\"details\\\\\\\\\\\\\": {\\\\\\\\\\\\\"selectedColumn\\\\\\\\\\\\\": \\\\\\\\\\\\\"prevalentHyp\\\\\\\\\\\\\"}}, \\\\\\\\\\\\\"typeProperty\\\\\\\\\\\\\": 2}, {\\\\\\\\\\\\\"column\\\\\\\\\\\\\": {\\\\\\\\\\\\\"type\\\\\\\\\\\\\": 2, \\\\\\\\\\\\\"details\\\\\\\\\\\\\": {\\\\\\\\\\\\\"selectedColumn\\\\\\\\\\\\\": \\\\\\\\\\\\\"diabetes\\\\\\\\\\\\\"}}, \\\\\\\\\\\\\"typeProperty\\\\\\\\\\\\\": 2}, {\\\\\\\\\\\\\"column\\\\\\\\\\\\\": {\\\\\\\\\\\\\"type\\\\\\\\\\\\\": 2, \\\\\\\\\\\\\"details\\\\\\\\\\\\\": {\\\\\\\\\\\\\"selectedColumn\\\\\\\\\\\\\": \\\\\\\\\\\\\"totChol\\\\\\\\\\\\\"}}, \\\\\\\\\\\\\"typeProperty\\\\\\\\\\\\\": 0}, {\\\\\\\\\\\\\"column\\\\\\\\\\\\\": {\\\\\\\\\\\\\"type\\\\\\\\\\\\\": 2, \\\\\\\\\\\\\"details\\\\\\\\\\\\\": {\\\\\\\\\\\\\"selectedColumn\\\\\\\\\\\\\": \\\\\\\\\\\\\"sysBP\\\\\\\\\\\\\"}}, \\\\\\\\\\\\\"typeProperty\\\\\\\\\\\\\": 3}, {\\\\\\\\\\\\\"column\\\\\\\\\\\\\": {\\\\\\\\\\\\\"type\\\\\\\\\\\\\": 2, \\\\\\\\\\\\\"details\\\\\\\\\\\\\": {\\\\\\\\\\\\\"selectedColumn\\\\\\\\\\\\\": \\\\\\\\\\\\\"diaBP\\\\\\\\\\\\\"}}, \\\\\\\\\\\\\"typeProperty\\\\\\\\\\\\\": 3}, {\\\\\\\\\\\\\"column\\\\\\\\\\\\\": {\\\\\\\\\\\\\"type\\\\\\\\\\\\\": 2, \\\\\\\\\\\\\"details\\\\\\\\\\\\\": {\\\\\\\\\\\\\"selectedColumn\\\\\\\\\\\\\": \\\\\\\\\\\\\"BMI\\\\\\\\\\\\\"}}, \\\\\\\\\\\\\"typeProperty\\\\\\\\\\\\\": 0}, {\\\\\\\\\\\\\"column\\\\\\\\\\\\\": {\\\\\\\\\\\\\"type\\\\\\\\\\\\\": 2, \\\\\\\\\\\\\"details\\\\\\\\\\\\\": {\\\\\\\\\\\\\"selectedColumn\\\\\\\\\\\\\": \\\\\\\\\\\\\"heartRate\\\\\\\\\\\\\"}}, \\\\\\\\\\\\\"typeProperty\\\\\\\\\\\\\": 2}, {\\\\\\\\\\\\\"column\\\\\\\\\\\\\": {\\\\\\\\\\\\\"type\\\\\\\\\\\\\": 2, \\\\\\\\\\\\\"details\\\\\\\\\\\\\": {\\\\\\\\\\\\\"selectedColumn\\\\\\\\\\\\\": \\\\\\\\\\\\\"glucose\\\\\\\\\\\\\"}}, \\\\\\\\\\\\\"typeProperty\\\\\\\\\\\\\": 0}, {\\\\\\\\\\\\\"column\\\\\\\\\\\\\": {\\\\\\\\\\\\\"type\\\\\\\\\\\\\": 2, \\\\\\\\\\\\\"details\\\\\\\\\\\\\": {\\\\\\\\\\\\\"selectedColumn\\\\\\\\\\\\\": \\\\\\\\\\\\\"TenYearCHD\\\\\\\\\\\\\"}}, \\\\\\\\\\\\\"typeProperty\\\\\\\\\\\\\": 2}]}, \\\\\\\\\\\\\"localData\\\\\\\\\\\\\": {}, \\\\\\\\\\\\\"isEnabled\\\\\\\\\\\\\": true, \\\\\\\\\\\\\"name\\\\\\\\\\\\\": null, \\\\\\\\\\\\\"annotation\\\\\\\\\\\\\": null}], \\\\\\\\\\\\\"inspectors\\\\\\\\\\\\\": [], \\\\\\\\\\\\\"meta\\\\\\\\\\\\\": {\\\\\\\\\\\\\"savedDatasetId\\\\\\\\\\\\\": \\\\\\\\\\\\\"b0ec5029-52c9-400a-90c4-4e0adc69af0d\\\\\\\\\\\\\", \\\\\\\\\\\\\"datasetType\\\\\\\\\\\\\": \\\\\\\\\\\\\"tabular\\\\\\\\\\\\\", \\\\\\\\\\\\\"subscriptionId\\\\\\\\\\\\\": \\\\\\\\\\\\\"61c5c3f0-6dc7-4ed9-a7f3-c704b20e3b30\\\\\\\\\\\\\", \\\\\\\\\\\\\"workspaceId\\\\\\\\\\\\\": \\\\\\\\\\\\\"673b783e-c22c-440d-b448-4dc39c9f81a9\\\\\\\\\\\\\", \\\\\\\\\\\\\"workspaceLocation\\\\\\\\\\\\\": \\\\\\\\\\\\\"westus2\\\\\\\\\\\\\", \\\\\\\\\\\\\"partition_keys\\\\\\\\\\\\\": \\\\\\\\\\\\\"true\\\\\\\\\\\\\"}}\\\\\", \\\\\"activities\\\\\": 0}',\n",
       "  'EnableSubsampling': None,\n",
       "  'runTemplate': 'AutoML',\n",
       "  'azureml.runsource': 'automl',\n",
       "  'display_task_type': 'classification',\n",
       "  'dependencies_versions': '{\"azureml-widgets\": \"1.24.0\", \"azureml-train\": \"1.24.0\", \"azureml-train-restclients-hyperdrive\": \"1.24.0\", \"azureml-train-core\": \"1.24.0\", \"azureml-train-automl-client\": \"1.24.0\", \"azureml-tensorboard\": \"1.24.0\", \"azureml-telemetry\": \"1.24.0\", \"azureml-sdk\": \"1.24.0\", \"azureml-pipeline\": \"1.24.0\", \"azureml-pipeline-steps\": \"1.24.0\", \"azureml-pipeline-core\": \"1.24.0\", \"azureml-opendatasets\": \"1.24.0\", \"azureml-model-management-sdk\": \"1.0.1b6.post1\", \"azureml-mlflow\": \"1.24.0\", \"azureml-interpret\": \"1.24.0\", \"azureml-explain-model\": \"1.24.0\", \"azureml-defaults\": \"1.24.0\", \"azureml-dataset-runtime\": \"1.24.0\", \"azureml-dataprep\": \"2.11.1\", \"azureml-dataprep-rslex\": \"1.9.0\", \"azureml-dataprep-native\": \"30.0.0\", \"azureml-datadrift\": \"1.24.0\", \"azureml-core\": \"1.24.0\", \"azureml-contrib-services\": \"1.24.0\", \"azureml-contrib-server\": \"1.24.0\", \"azureml-contrib-reinforcementlearning\": \"1.24.0\", \"azureml-contrib-pipeline-steps\": \"1.24.0\", \"azureml-contrib-notebook\": \"1.24.0\", \"azureml-contrib-gbdt\": \"1.24.0\", \"azureml-contrib-fairness\": \"1.24.0\", \"azureml-contrib-dataset\": \"1.24.0\", \"azureml-cli-common\": \"1.24.0\", \"azureml-automl-core\": \"1.24.0\", \"azureml-accel-models\": \"1.24.0\"}',\n",
       "  '_aml_system_scenario_identification': 'Remote.Parent',\n",
       "  'ClientType': 'SDK',\n",
       "  'environment_cpu_name': 'AzureML-AutoML',\n",
       "  'environment_cpu_label': 'prod',\n",
       "  'environment_gpu_name': 'AzureML-AutoML-GPU',\n",
       "  'environment_gpu_label': 'prod',\n",
       "  'root_attribution': 'automl',\n",
       "  'attribution': 'AutoML',\n",
       "  'Orchestrator': 'AutoML',\n",
       "  'CancelUri': 'https://westus2.experiments.azureml.net/jasmine/v1.0/subscriptions/61c5c3f0-6dc7-4ed9-a7f3-c704b20e3b30/resourceGroups/aml-quickstarts-141942/providers/Microsoft.MachineLearningServices/workspaces/quick-starts-ws-141942/experimentids/d6cbab0d-2fbd-4e9c-adf9-25934bd10cb7/cancel/AutoML_4b35e636-39de-4f43-a5a1-8631d7dd0fcc',\n",
       "  'ClientSdkVersion': '1.24.0',\n",
       "  'snapshotId': '00000000-0000-0000-0000-000000000000',\n",
       "  'SetupRunId': 'AutoML_4b35e636-39de-4f43-a5a1-8631d7dd0fcc_setup',\n",
       "  'SetupRunContainerId': 'dcid.AutoML_4b35e636-39de-4f43-a5a1-8631d7dd0fcc_setup',\n",
       "  'FeaturizationRunJsonPath': 'featurizer_container.json',\n",
       "  'FeaturizationRunId': 'AutoML_4b35e636-39de-4f43-a5a1-8631d7dd0fcc_featurize',\n",
       "  'ProblemInfoJsonString': '{\"dataset_num_categorical\": 0, \"is_sparse\": true, \"subsampling\": false, \"dataset_classes\": 2, \"dataset_features\": 1385, \"dataset_samples\": 4240, \"single_frequency_class_detected\": false}',\n",
       "  'ModelExplainRunId': 'AutoML_4b35e636-39de-4f43-a5a1-8631d7dd0fcc_ModelExplain'},\n",
       " 'inputDatasets': [{'dataset': {'id': 'b0ec5029-52c9-400a-90c4-4e0adc69af0d'}, 'consumptionDetails': {'type': 'RunInput', 'inputName': 'training_data', 'mechanism': 'Direct'}}],\n",
       " 'outputDatasets': [],\n",
       " 'logFiles': {},\n",
       " 'submittedBy': 'ODL_User 141942'}"
      ]
     },
     "execution_count": 10,
     "metadata": {},
     "output_type": "execute_result"
    }
   ],
   "source": [
    "remote_run.wait_for_completion(show_output=True)"
   ]
  },
  {
   "cell_type": "markdown",
   "metadata": {},
   "source": [
    "## Best Model\n",
    "\n",
    "TODO: In the cell below, get the best model from the automl experiments and display all the properties of the model.\n",
    "\n"
   ]
  },
  {
   "cell_type": "code",
   "execution_count": 11,
   "metadata": {
    "gather": {
     "logged": 1617562176490
    },
    "jupyter": {
     "outputs_hidden": false,
     "source_hidden": false
    },
    "nteract": {
     "transient": {
      "deleting": false
     }
    }
   },
   "outputs": [
    {
     "name": "stderr",
     "output_type": "stream",
     "text": [
      "WARNING:root:The model you attempted to retrieve requires 'azureml-train-automl-runtime' to be installed at '==1.24.0'. Please install 'azureml-train-automl-runtime==1.24.0' (e.g. `pip install azureml-train-automl-runtime==1.24.0`) and then rerun the previous command.\n"
     ]
    },
    {
     "name": "stdout",
     "output_type": "stream",
     "text": [
      "Best Run Id: AutoML_4b35e636-39de-4f43-a5a1-8631d7dd0fcc_29 Best Model Name: AutoML4b35e636329\n"
     ]
    }
   ],
   "source": [
    "best_automl_run, best_automl_model = remote_run.get_output()\n",
    "\n",
    "print('Best Run Id: ' + best_automl_run.id,\n",
    "     'Best Model Name: ' + best_automl_run.properties['model_name'],\n",
    "     )"
   ]
  },
  {
   "cell_type": "code",
   "execution_count": 12,
   "metadata": {
    "gather": {
     "logged": 1617562178988
    }
   },
   "outputs": [
    {
     "name": "stdout",
     "output_type": "stream",
     "text": [
      "accuracy : 0.8483514866500298\n",
      "average_precision_score_micro : 0.8749088336505139\n",
      "weighted_accuracy : 0.9684948752328989\n",
      "f1_score_macro : 0.46214267230142564\n",
      "precision_score_weighted : 0.7948725369119595\n",
      "log_loss : 0.40789376459176124\n",
      "recall_score_micro : 0.8483514866500298\n",
      "precision_score_micro : 0.8483514866500298\n",
      "matthews_correlation : 0.03382706830050287\n",
      "AUC_macro : 0.670454752888623\n",
      "AUC_micro : 0.8924501161718448\n",
      "AUC_weighted : 0.670454752888623\n",
      "average_precision_score_macro : 0.592678712631928\n",
      "f1_score_micro : 0.8483514866500298\n",
      "precision_score_macro : 0.6742431338659539\n",
      "f1_score_weighted : 0.7794720891098121\n",
      "norm_macro_recall : 0.002955393174538671\n",
      "balanced_accuracy : 0.5014776965872694\n",
      "recall_score_macro : 0.5014776965872694\n",
      "recall_score_weighted : 0.8483514866500298\n",
      "average_precision_score_weighted : 0.8118338834751732\n",
      "confusion_matrix : aml://artifactId/ExperimentRun/dcid.AutoML_4b35e636-39de-4f43-a5a1-8631d7dd0fcc_29/confusion_matrix\n",
      "accuracy_table : aml://artifactId/ExperimentRun/dcid.AutoML_4b35e636-39de-4f43-a5a1-8631d7dd0fcc_29/accuracy_table\n"
     ]
    }
   ],
   "source": [
    "best_run_metrics = best_automl_run.get_metrics()\n",
    "\n",
    "for metric_name in best_run_metrics:\n",
    "    metric = best_run_metrics[metric_name]\n",
    "    print(metric_name,\":\" , metric)"
   ]
  },
  {
   "cell_type": "code",
   "execution_count": 13,
   "metadata": {
    "gather": {
     "logged": 1617562179605
    },
    "jupyter": {
     "outputs_hidden": false,
     "source_hidden": false
    },
    "nteract": {
     "transient": {
      "deleting": false
     }
    }
   },
   "outputs": [],
   "source": [
    "#TODO: Save the best model\n",
    "automodel = best_automl_run.register_model(model_name='best_automl_model', \n",
    "                                    model_path='outputs/model.pkl',\n",
    "                                    tags={'Method':'AutoML'},\n",
    "                                    properties={'Accuracy': best_run_metrics['accuracy']})"
   ]
  },
  {
   "cell_type": "markdown",
   "metadata": {},
   "source": [
    "## Model Deployment\n",
    "\n",
    "Remember you have to deploy only one of the two models you trained.. Perform the steps in the rest of this notebook only if you wish to deploy this model.\n",
    "\n",
    "TODO: In the cell below, register the model, create an inference config and deploy the model as a web service."
   ]
  },
  {
   "cell_type": "code",
   "execution_count": 14,
   "metadata": {
    "gather": {
     "logged": 1617562179966
    },
    "jupyter": {
     "outputs_hidden": false,
     "source_hidden": false
    },
    "nteract": {
     "transient": {
      "deleting": false
     }
    }
   },
   "outputs": [],
   "source": [
    "# Download scoring file \n",
    "best_automl_run.download_file('outputs/scoring_file_v_1_0_0.py', 'score.py')\n",
    "\n",
    "# Download environment file\n",
    "best_automl_run.download_file('outputs/conda_env_v_1_0_0.yml', 'env.yml')"
   ]
  },
  {
   "cell_type": "code",
   "execution_count": 15,
   "metadata": {
    "gather": {
     "logged": 1617562180215
    }
   },
   "outputs": [],
   "source": [
    "from azureml.core.webservice import AciWebservice, Webservice\n",
    "aciconfig = AciWebservice.deploy_configuration(cpu_cores=1, \n",
    "                                               memory_gb=1, \n",
    "                                               description='Framingham Heart Disease Prediction with AutoML')"
   ]
  },
  {
   "cell_type": "code",
   "execution_count": 16,
   "metadata": {
    "gather": {
     "logged": 1617562182703
    }
   },
   "outputs": [],
   "source": [
    "from azureml.core.model import InferenceConfig, Model\n",
    "inference_config = InferenceConfig(entry_script=\"score.py\", environment=best_automl_run.get_environment())\n",
    "\n",
    "service = Model.deploy(workspace=ws, \n",
    "                       name='automl-webservice', \n",
    "                       models=[automodel], \n",
    "                       inference_config=inference_config, \n",
    "                       deployment_config=aciconfig)"
   ]
  },
  {
   "cell_type": "code",
   "execution_count": 17,
   "metadata": {
    "gather": {
     "logged": 1617562385971
    }
   },
   "outputs": [
    {
     "name": "stdout",
     "output_type": "stream",
     "text": [
      "Tips: You can try get_logs(): https://aka.ms/debugimage#dockerlog or local deployment: https://aka.ms/debugimage#debug-locally to debug if deployment takes longer than 10 minutes.\n",
      "Running\n",
      "2021-04-04 18:49:41+00:00 Creating Container Registry if not exists.\n",
      "2021-04-04 18:49:44+00:00 Use the existing image.\n",
      "2021-04-04 18:49:44+00:00 Generating deployment configuration.\n",
      "2021-04-04 18:49:45+00:00 Submitting deployment to compute..\n",
      "2021-04-04 18:49:48+00:00 Checking the status of deployment automl-webservice..\n",
      "2021-04-04 18:52:34+00:00 Checking the status of inference endpoint automl-webservice.\n",
      "Succeeded\n",
      "ACI service creation operation finished, operation \"Succeeded\"\n"
     ]
    }
   ],
   "source": [
    "service.wait_for_deployment(show_output=True)"
   ]
  },
  {
   "cell_type": "code",
   "execution_count": 18,
   "metadata": {
    "gather": {
     "logged": 1617562386373
    }
   },
   "outputs": [
    {
     "name": "stdout",
     "output_type": "stream",
     "text": [
      "Service State:  Healthy\n",
      "Scoring URI:  http://4094adca-4197-433d-9e70-8fae51fc9467.westus2.azurecontainer.io/score\n",
      "Swagger URI:  http://4094adca-4197-433d-9e70-8fae51fc9467.westus2.azurecontainer.io/swagger.json\n"
     ]
    }
   ],
   "source": [
    "print(\"Service State: \",service.state)\n",
    "print(\"Scoring URI: \",service.scoring_uri)\n",
    "print(\"Swagger URI: \",service.swagger_uri)"
   ]
  },
  {
   "cell_type": "markdown",
   "metadata": {
    "collapsed": true,
    "gather": {
     "logged": 1598431657736
    },
    "jupyter": {
     "outputs_hidden": false,
     "source_hidden": false
    },
    "nteract": {
     "transient": {
      "deleting": false
     }
    }
   },
   "source": [
    "TODO: In the cell below, send a request to the web service you deployed to test it."
   ]
  },
  {
   "cell_type": "code",
   "execution_count": 19,
   "metadata": {
    "gather": {
     "logged": 1617562386623
    },
    "jupyter": {
     "outputs_hidden": false,
     "source_hidden": false
    },
    "nteract": {
     "transient": {
      "deleting": false
     }
    }
   },
   "outputs": [],
   "source": [
    "\n",
    "data = {\n",
    "    \"data\": [\n",
    "        {\n",
    "            'male': 0,\n",
    "            'age': 55,\n",
    "            'education': 4 ,\n",
    "            'currentSmoker': 1,\n",
    "            'cigsPerDay': 20,\n",
    "            'BPMeds': 0,\n",
    "            'prevalentStroke': 0,\n",
    "            'prevalentHyp': 0,\n",
    "            'diabetes': 0,\n",
    "            'totChol': 285,\n",
    "            'sysBP': 175,\n",
    "            'diaBP': 84,\n",
    "            'BMI': 25.50,\n",
    "            'heartRate': 93,\n",
    "            'glucose': 87\n",
    "        },\n",
    "        {\n",
    "            'male': 1,\n",
    "            'age': 40,\n",
    "            'education': 4 ,\n",
    "            'currentSmoker': 0,\n",
    "            'cigsPerDay': 30,\n",
    "            'BPMeds': 0,\n",
    "            'prevalentStroke': 0,\n",
    "            'prevalentHyp': 0,\n",
    "            'diabetes': 0,\n",
    "            'totChol': 228,\n",
    "            'sysBP': 121,\n",
    "            'diaBP': 110,\n",
    "            'BMI': 30.30,\n",
    "            'heartRate': 80,\n",
    "            'glucose': 80\n",
    "        }\n",
    "    ]\n",
    "}\n",
    "\n",
    "data_sample = json.dumps(data)"
   ]
  },
  {
   "cell_type": "code",
   "execution_count": 20,
   "metadata": {
    "gather": {
     "logged": 1617562387060
    }
   },
   "outputs": [
    {
     "data": {
      "text/plain": [
       "'{\"result\": [0, 0]}'"
      ]
     },
     "execution_count": 20,
     "metadata": {},
     "output_type": "execute_result"
    }
   ],
   "source": [
    "scoring_uri = service.scoring_uri\n",
    "input_data = data_sample\n",
    "\n",
    "# Set the content type\n",
    "headers = {'Content-Type': 'application/json'}\n",
    "\n",
    "# Make the request and display the response\n",
    "response = requests.post(scoring_uri, input_data, headers=headers)\n",
    "response.json()"
   ]
  },
  {
   "cell_type": "markdown",
   "metadata": {
    "collapsed": true,
    "gather": {
     "logged": 1598432765711
    },
    "jupyter": {
     "outputs_hidden": false,
     "source_hidden": false
    },
    "nteract": {
     "transient": {
      "deleting": false
     }
    }
   },
   "source": [
    "TODO: In the cell below, print the logs of the web service and delete the service"
   ]
  },
  {
   "cell_type": "code",
   "execution_count": 21,
   "metadata": {
    "gather": {
     "logged": 1617562387460
    },
    "jupyter": {
     "outputs_hidden": false,
     "source_hidden": false
    },
    "nteract": {
     "transient": {
      "deleting": false
     }
    }
   },
   "outputs": [
    {
     "data": {
      "text/plain": [
       "'2021-04-04T18:52:30,413895400+00:00 - rsyslog/run \\n2021-04-04T18:52:30,432706300+00:00 - iot-server/run \\n2021-04-04T18:52:30,453355700+00:00 - gunicorn/run \\n2021-04-04T18:52:30,466823600+00:00 - nginx/run \\n/usr/sbin/nginx: /azureml-envs/azureml_2b14f450572e78de640d54eaabed5e4d/lib/libcrypto.so.1.0.0: no version information available (required by /usr/sbin/nginx)\\n/usr/sbin/nginx: /azureml-envs/azureml_2b14f450572e78de640d54eaabed5e4d/lib/libcrypto.so.1.0.0: no version information available (required by /usr/sbin/nginx)\\n/usr/sbin/nginx: /azureml-envs/azureml_2b14f450572e78de640d54eaabed5e4d/lib/libssl.so.1.0.0: no version information available (required by /usr/sbin/nginx)\\n/usr/sbin/nginx: /azureml-envs/azureml_2b14f450572e78de640d54eaabed5e4d/lib/libssl.so.1.0.0: no version information available (required by /usr/sbin/nginx)\\n/usr/sbin/nginx: /azureml-envs/azureml_2b14f450572e78de640d54eaabed5e4d/lib/libssl.so.1.0.0: no version information available (required by /usr/sbin/nginx)\\nrsyslogd: /azureml-envs/azureml_2b14f450572e78de640d54eaabed5e4d/lib/libuuid.so.1: no version information available (required by rsyslogd)\\nEdgeHubConnectionString and IOTEDGE_IOTHUBHOSTNAME are not set. Exiting...\\n2021-04-04T18:52:32,434054200+00:00 - iot-server/finish 1 0\\n2021-04-04T18:52:32,460362600+00:00 - Exit code 1 is normal. Not restarting iot-server.\\nStarting gunicorn 19.9.0\\nListening at: http://127.0.0.1:31311 (61)\\nUsing worker: sync\\nworker timeout is set to 300\\nBooting worker with pid: 101\\nSPARK_HOME not set. Skipping PySpark Initialization.\\nGenerating new fontManager, this may take some time...\\nInitializing logger\\n2021-04-04 18:52:41,762 | root | INFO | Starting up app insights client\\n2021-04-04 18:52:41,763 | root | INFO | Starting up request id generator\\n2021-04-04 18:52:41,764 | root | INFO | Starting up app insight hooks\\n2021-04-04 18:52:41,764 | root | INFO | Invoking user\\'s init function\\n2021-04-04 18:53:00,420 | azureml.core | WARNING | Failure while loading azureml_run_type_providers. Failed to load entrypoint automl = azureml.train.automl.run:AutoMLRun._from_run_dto with exception (cryptography 3.2 (/azureml-envs/azureml_2b14f450572e78de640d54eaabed5e4d/lib/python3.6/site-packages), Requirement.parse(\\'cryptography<4.0.0,>=3.3.1; extra == \"crypto\"\\'), {\\'PyJWT\\'}).\\nFailure while loading azureml_run_type_providers. Failed to load entrypoint automl = azureml.train.automl.run:AutoMLRun._from_run_dto with exception (cryptography 3.2 (/azureml-envs/azureml_2b14f450572e78de640d54eaabed5e4d/lib/python3.6/site-packages), Requirement.parse(\\'cryptography<4.0.0,>=3.3.1; extra == \"crypto\"\\'), {\\'PyJWT\\'}).\\n2021-04-04 18:53:01,541 | root | INFO | Users\\'s init has completed successfully\\n2021-04-04 18:53:01,566 | root | INFO | Skipping middleware: dbg_model_info as it\\'s not enabled.\\n2021-04-04 18:53:01,570 | root | INFO | Skipping middleware: dbg_resource_usage as it\\'s not enabled.\\n2021-04-04 18:53:01,576 | root | INFO | Scoring timeout is found from os.environ: 60000 ms\\n2021-04-04 18:53:03,225 | root | INFO | 200\\n127.0.0.1 - - [04/Apr/2021:18:53:03 +0000] \"GET /swagger.json HTTP/1.0\" 200 2937 \"-\" \"Go-http-client/1.1\"\\n2021-04-04 18:53:04,414 | root | INFO | 200\\n127.0.0.1 - - [04/Apr/2021:18:53:04 +0000] \"GET /swagger.json HTTP/1.0\" 200 2937 \"-\" \"Go-http-client/1.1\"\\n2021-04-04 18:53:04,703 | root | INFO | Validation Request Content-Type\\n2021-04-04 18:53:04,703 | root | INFO | Scoring Timer is set to 60.0 seconds\\n2021-04-04 18:53:04,939 | root | INFO | 200\\n127.0.0.1 - - [04/Apr/2021:18:53:04 +0000] \"POST /score HTTP/1.0\" 200 22 \"-\" \"python-requests/2.25.1\"\\n'"
      ]
     },
     "execution_count": 21,
     "metadata": {},
     "output_type": "execute_result"
    }
   ],
   "source": [
    "service.get_logs()"
   ]
  },
  {
   "cell_type": "code",
   "execution_count": null,
   "metadata": {
    "collapsed": true,
    "jupyter": {
     "outputs_hidden": false,
     "source_hidden": false
    },
    "nteract": {
     "transient": {
      "deleting": false
     }
    }
   },
   "outputs": [],
   "source": [
    "service.delete()"
   ]
  }
 ],
 "metadata": {
  "kernel_info": {
   "name": "python38-azureml"
  },
  "kernelspec": {
   "display_name": "Python 3",
   "language": "python",
   "name": "python3"
  },
  "language_info": {
   "codemirror_mode": {
    "name": "ipython",
    "version": 3
   },
   "file_extension": ".py",
   "mimetype": "text/x-python",
   "name": "python",
   "nbconvert_exporter": "python",
   "pygments_lexer": "ipython3",
   "version": "3.8.7"
  },
  "microsoft": {
   "host": {
    "AzureML": {
     "notebookHasBeenCompleted": true
    }
   }
  },
  "nteract": {
   "version": "nteract-front-end@1.0.0"
  }
 },
 "nbformat": 4,
 "nbformat_minor": 2
}
